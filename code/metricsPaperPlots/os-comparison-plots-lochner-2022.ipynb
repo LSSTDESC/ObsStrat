{
 "cells": [
  {
   "cell_type": "markdown",
   "id": "4085aa6b-05ef-4628-8a29-cfb58ee1e6d4",
   "metadata": {},
   "source": [
    "# Notebook used in Lochner et al. 2022"
   ]
  },
  {
   "cell_type": "markdown",
   "id": "5d76c509-d466-4942-8a87-f375e73cdf8b",
   "metadata": {},
   "source": [
    "This is the original notebook used in the paper. It's redundant now because we're working from the MAF metrics bundles and I've cleaned up the code a lot. Please use `plots-comparison-v2.ipynb` instead."
   ]
  },
  {
   "cell_type": "code",
   "execution_count": 39,
   "id": "4d5bf654-326c-4281-80c8-c196a9234e6c",
   "metadata": {},
   "outputs": [],
   "source": [
    "import numpy as np\n",
    "import pandas as pd\n",
    "import matplotlib.pyplot as plt\n",
    "import seaborn as sns\n",
    "\n",
    "import read_metrics\n",
    "import plot_tools\n",
    "from importlib import reload\n",
    "\n",
    "from scipy.interpolate import griddata\n",
    "\n",
    "%matplotlib widget"
   ]
  },
  {
   "cell_type": "markdown",
   "id": "81eef851-49f5-4d1c-a9ae-2391a0c2b55d",
   "metadata": {},
   "source": [
    "# Defining functions"
   ]
  },
  {
   "cell_type": "code",
   "execution_count": 55,
   "id": "c18ecfbc-1646-4984-9ead-4b238c331742",
   "metadata": {},
   "outputs": [],
   "source": [
    "def read_and_drop(fl, drop=True, dropna_rows=False):\n",
    "    df = pd.read_csv(fl, index_col=0)\n",
    "    if drop:\n",
    "        if 'Problematic' in df.columns:\n",
    "            df = df[df.Problematic.isna()]\n",
    "            df = df.drop('Problematic', axis=1)\n",
    "        if 'group' in df.columns:\n",
    "            df = df.drop('group', axis=1)\n",
    "        if 'dbname' in df.index:\n",
    "            df = df.drop('dbname')\n",
    "\n",
    "        for c in df.columns:\n",
    "            df[c] = df[c].astype('float')\n",
    "            if np.all(np.isnan(df[c].values)):\n",
    "                df = df.drop(c, axis=1)\n",
    "        # I have a situation where one metric is missing a couple of runs, but I don't actually need it so \n",
    "        # don't want to drop all the runs so this is now a toggle you can switch\n",
    "        if dropna_rows:\n",
    "            for i in df.index:\n",
    "                if np.any(np.isnan(df.loc[i])):\n",
    "                    df = df.drop(i)\n",
    "    \n",
    "    return df\n",
    "\n",
    "def drop_db_suffix(df):\n",
    "    inds = []\n",
    "    for i in list(df.index):\n",
    "        if '.db' in i:\n",
    "            inds.append(i[:-3])\n",
    "        else:\n",
    "            inds.append(i)\n",
    "    df.index = inds\n",
    "\n",
    "def set_plot_type(plot_type='paper'):\n",
    "\n",
    "    save_plot = True\n",
    "\n",
    "    if plot_type == 'paper':\n",
    "        plt.rcParams.update({'font.family':'serif', 'font.size':10, 'figure.dpi':100, #meaningless for pdf only screen\n",
    "                             'text.usetex':True,\n",
    "                            'savefig.format':'pdf', 'figure.figsize':figsize_fullwidth})\n",
    "        fig_dir = 'comparison_plots/'\n",
    "\n",
    "    elif plot_type == 'presentation':\n",
    "        fig_dir = 'comparison_plots_presentation/'\n",
    "        plt.rcParams.update({'font.family':'sans-serif', 'font.size':10, 'figure.dpi':300, 'text.usetex':True,\n",
    "                        'savefig.format':'png', 'figure.figsize':figsize_fullwidth})\n",
    "\n",
    "    else:\n",
    "        fig_dir = ''\n",
    "        plt.rcParams.update({'font.family':'sans-serif', 'font.size':10, 'figure.dpi':100, 'text.usetex':True,\n",
    "                        'savefig.format':'png'})\n",
    "        save_plot = False\n",
    "    return fig_dir, save_plot\n",
    "\n",
    "def add_maf_metrics(misc_metrics):\n",
    "    \n",
    "\n",
    "    to_include = ['fOArea fO All visits HealpixSlicer',\n",
    "                  'Median Filter Changes Per Night OneDSlicer',\n",
    "                  'Mean airmass all bands',\n",
    "                  'Mean CoaddM5 WFD i band HealpixSlicer',\n",
    "                  'Median fiveSigmaDepth all bands',\n",
    "                  'Median fiveSigmaDepth WFD i band',\n",
    "                  'Median HA all bands',\n",
    "                  'Median Max Inter-Night Gap all bands HealpixSlicer',\n",
    "                  'Median Median Inter-Night Gap all bands HealpixSlicer',\n",
    "                  'Median Inter-Night Gap all bands HealpixSlicer',\n",
    "                  'Median Median Inter-Night Gap y band HealpixSlicer',\n",
    "                  'Nvisits WFD',\n",
    "                  'fONv MedianNvis fO All visits HealpixSlicer',\n",
    "                  'Rms Median Inter-Night Gap WFD all bands HealpixSlicer',\n",
    "                 'Median Median Season Length all bands HealpixSlicer']\n",
    "    maf_metrics_selected = pd.concat((maf_metrics5[to_include], maf_metrics6[to_include], maf_metrics7[to_include]))\n",
    "    \n",
    "    \n",
    "    misc_metrics = pd.merge(misc_metrics, maf_metrics_selected, how='inner', left_index=True, right_index=True)\n",
    "    return misc_metrics"
   ]
  },
  {
   "cell_type": "markdown",
   "id": "5a7e416c-82c2-4caa-bfdb-30029c3cdb07",
   "metadata": {},
   "source": [
    "# Settings and load metrics"
   ]
  },
  {
   "cell_type": "code",
   "execution_count": 56,
   "id": "6693a651-e3ad-4792-91e6-0c368b400646",
   "metadata": {},
   "outputs": [],
   "source": [
    "reload(read_metrics)\n",
    "reload(plot_tools)\n",
    "\n",
    "maf_metrics5 = pd.read_csv('opsim_all_maf_1.%d.csv' %5, index_col=0)\n",
    "maf_metrics6 = pd.read_csv('opsim_all_maf_1.%d.csv' %6, index_col=0)\n",
    "maf_metrics7 = pd.read_csv('opsim_all_maf_1.%d.csv' %7, index_col=0)\n",
    "    \n",
    "latex_dpi = 72.27\n",
    "textwidth = 469.75502/latex_dpi\n",
    "textheight = 650.43001/latex_dpi\n",
    "\n",
    "figsize_square = (textwidth/2, textwidth/2)\n",
    "figsize_fullwidth = (textwidth, textwidth/2)\n",
    "figsize_panels = (textwidth, 0.75*textheight/3)\n",
    "    \n",
    "fig_dir, save_plot = set_plot_type('paper')\n",
    "overwrite_table_db = True"
   ]
  },
  {
   "cell_type": "code",
   "execution_count": 57,
   "id": "ac2fcf13-e67e-4dae-a0d1-24fbecd7ccc8",
   "metadata": {},
   "outputs": [],
   "source": [
    "paper_figures = {'area':'\\\\ref{fig:comparison_area}', \n",
    "                 'depth':'\\\\ref{fig:comparison_depth}', \n",
    "                 'filter_dist':'\\\\ref{fig:comparison_filter_dist}',\n",
    "                 'internight_gap': '\\\\ref{fig:comparison_cadence}', \n",
    "                 'samefilt':'\\\\ref{fig:comparison_samefilt}', \n",
    "                 'season':'\\\\ref{fig:comparison_season}', \n",
    "                 'weather':'\\\\ref{fig:comparison_weather}', \n",
    "                 'internight_gap_per_filter':'\\\\ref{fig:internight_gap_filters}', \n",
    "                 'mega_metric':'\\\\ref{fig:mega_metric}',\n",
    "                 'nexp': '\\\\ref{fig:comparison_nexp}'}"
   ]
  },
  {
   "cell_type": "code",
   "execution_count": 72,
   "id": "1e923b27-f4b8-4f7e-99e4-19e94cd504d4",
   "metadata": {},
   "outputs": [],
   "source": [
    "# Read in all the files\n",
    "fl = 'metrics_v1_5.csv'\n",
    "metrics_ori_1_5 = read_and_drop(fl, dropna_rows=False)\n",
    "misc_metrics_1_5 = read_and_drop('misc-metrics-v1_5.csv', dropna_rows=False)\n",
    "metrics_rel_1_5, metrics_display_names_1_5, baseline_values_1_5 = read_metrics.read_metrics(fl, \n",
    "                                                                                            baseline='baseline_v1.5_10yrs', \n",
    "                                                                                            dropna=False)\n",
    "misc_metrics_1_5 = misc_metrics_1_5.loc[metrics_ori_1_5.index]\n",
    "\n",
    "fl = 'metrics_v1_6.csv'\n",
    "metrics_ori_1_6 = read_and_drop(fl, dropna_rows=True)\n",
    "misc_metrics_1_6 = read_and_drop('misc-metrics-v1_6.csv', dropna_rows=True)\n",
    "metrics_rel_1_6, metrics_display_names_1_6, baseline_values_1_6 = read_metrics.read_metrics(fl, \n",
    "                                                                                            baseline='baseline_nexp1_v1.6_10yrs.db', \n",
    "                                                                                            dropna=False)\n",
    "misc_metrics_1_6 = misc_metrics_1_6.loc[metrics_ori_1_6.index]\n",
    "drop_db_suffix(metrics_ori_1_6)\n",
    "drop_db_suffix(misc_metrics_1_6)\n",
    "drop_db_suffix(metrics_rel_1_6)\n",
    "\n",
    "fl = 'metrics_outstanding.csv'\n",
    "metrics_ori_1_7 = read_and_drop('metrics_outstanding.csv', drop=False)\n",
    "misc_metrics_1_7 = read_and_drop('misc-metrics-v1_7.csv')\n",
    "metrics_rel_1_7, metrics_display_names_1_7, baseline_values_1_7 = read_metrics.read_metrics('metrics_outstanding.csv', \n",
    "                                                                                            baseline='baseline_nexp2_v1.7_10yrs.db', \n",
    "                                                                                            dropna=False)\n",
    "\n",
    "drop_db_suffix(metrics_ori_1_7)\n",
    "drop_db_suffix(misc_metrics_1_7)\n",
    "drop_db_suffix(metrics_rel_1_7)\n",
    "metrics_display_names = metrics_display_names_1_5\n",
    "\n",
    "#Used to decide which runs to drop\n",
    "sims_eval1_5 = pd.read_excel('sims_evaluation.xlsx', sheet_name='v1.5', index_col=0)\n",
    "sims_eval1_6 = pd.read_excel('sims_evaluation.xlsx', sheet_name='v1.6', index_col=0)\n",
    "\n",
    "# Used here only to start creating a db of files used to create the plots\n",
    "metrics1_4 = pd.read_csv('metrics_v1_4.csv', index_col=0)\n",
    "weather_runs = [i for i in metrics1_4.index if 'weather' in i]\n",
    "metrics1_4['Include'] = [1]*len(metrics1_4)\n",
    "metrics1_4 = metrics1_4.loc[weather_runs,['Include']]\n",
    "drop_db_suffix(metrics1_4)\n",
    "\n",
    "# Similar use\n",
    "metrics1_7 = pd.read_csv('metrics_outstanding.csv', index_col=0)\n",
    "baseline_7 = [i for i in metrics1_7.index if 'baseline_nexp' in i]\n",
    "metrics1_7['Include'] = [1]*len(metrics1_7)\n",
    "metrics1_7 = metrics1_7.loc[baseline_7,['Include']]\n",
    "drop_db_suffix(metrics1_7)\n",
    "\n",
    "# Only runs if we want to overwrite the table of sims used to create plots\n",
    "if overwrite_table_db:\n",
    "    all_sims_df = pd.concat((metrics1_4, sims_eval1_5, sims_eval1_6, metrics1_7))\n",
    "    all_sims_df['Include'] = all_sims_df['Include'].fillna(1)\n",
    "    all_sims_df = all_sims_df.drop(['Unrealistic', 'Notes'], axis=1)\n",
    "\n",
    "    for k in paper_figures.keys():\n",
    "        all_sims_df[k] = [0]*len(all_sims_df)"
   ]
  },
  {
   "cell_type": "code",
   "execution_count": 73,
   "id": "c3d44e61-e359-42fe-aac3-a28703b03efd",
   "metadata": {},
   "outputs": [],
   "source": [
    "def select_simulations(combine_1_6 = False, include_unrealistic = True, include_outstanding = True,\n",
    "                       remove_nexp2=True):\n",
    "    metrics_original = metrics_ori_1_5.copy()\n",
    "    misc_metrics = misc_metrics_1_5.copy()\n",
    "    metrics_rel = metrics_rel_1_5.copy()\n",
    "    sims_eval = sims_eval1_5\n",
    "    \n",
    "    if combine_1_6:\n",
    "        # *** Included in previous version but I don't think this metric is used anyway ***\n",
    "#         metrics_original_6 = metrics_original_6.drop(metrics_original_6.columns[-1], axis=1)\n",
    "        if remove_nexp2:\n",
    "            inds = []\n",
    "            for i in metrics_rel_1_6.index:\n",
    "                if 'nexp2' not in i:\n",
    "                    inds.append(i)\n",
    "        else:\n",
    "            inds = metrics_rel_1_6.index\n",
    "        misc_metrics = pd.concat((misc_metrics, misc_metrics_1_6.loc[inds]))\n",
    "        metrics_original = pd.concat((metrics_original, metrics_ori_1_6.loc[inds]))\n",
    "        metrics_rel = pd.concat((metrics_rel, metrics_rel_1_6.loc[inds]))\n",
    "        sims_eval = pd.concat((sims_eval1_5, sims_eval1_6))\n",
    "    \n",
    "    if include_outstanding:\n",
    "        metrics_rel = pd.concat((metrics_rel, metrics_rel_1_7.loc[['baseline_nexp1_v1.7_10yrs', \n",
    "                                                                   'footprint_8_v1.710yrs']]))\n",
    "        metrics_original = pd.concat((metrics_original, metrics_ori_1_7.loc[['baseline_nexp1_v1.7_10yrs',\n",
    "                                                                             'baseline_nexp2_v1.7_10yrs',\n",
    "                                                                             'footprint_8_v1.710yrs']]))\n",
    "        misc_metrics = pd.concat((misc_metrics, misc_metrics_1_7.loc[['baseline_nexp1_v1.7_10yrs',\n",
    "                                                                      'baseline_nexp2_v1.7_10yrs',\n",
    "                                                                      'footprint_8_v1.710yrs']]))\n",
    "        \n",
    "#         metrics_rel = pd.concat((metrics_rel, metrics_rel_1_7.loc[['baseline_nexp1_v1.7_10yrs.db', 'footprint_8_v1.710yrs.db']]))\n",
    "#         metrics_original = pd.concat((metrics_original, metrics_ori_1_7.loc[['baseline_nexp1_v1.7_10yrs.db','baseline_nexp2_v1.7_10yrs.db','footprint_8_v1.710yrs.db']]))\n",
    "#         misc_metrics = pd.concat((misc_metrics, misc_metrics_1_7.loc[['baseline_nexp1_v1.7_10yrs.db','baseline_nexp2_v1.7_10yrs.db','footprint_8_v1.710yrs.db']]))\n",
    "        \n",
    "    runs_to_drop = list(sims_eval[sims_eval.Include==0].index)\n",
    "    runs_to_drop += ['daily_ddf_v1.5_10yrs'] # This has disappeared\n",
    "    runs_to_drop += ['dcr_nham2_ugri_v1.5_10yrs']\n",
    "\n",
    "    if not include_unrealistic:\n",
    "        runs_to_drop += list(sims_eval[sims_eval.Unrealistic==1].index)\n",
    "\n",
    "    inds = []\n",
    "\n",
    "    for i in metrics_rel.index:\n",
    "        for r in runs_to_drop:\n",
    "            if r in i:\n",
    "                inds.append(i)\n",
    "    dropped_rel = metrics_rel.drop(inds)\n",
    "\n",
    "    inds = []\n",
    "    for i in misc_metrics.index:\n",
    "        for r in runs_to_drop:\n",
    "            if r in i:\n",
    "                inds.append(i)\n",
    "\n",
    "    misc_metrics = misc_metrics.drop(inds)\n",
    "    misc_metrics = add_maf_metrics(misc_metrics)\n",
    "    \n",
    "    return dropped_rel, metrics_original, misc_metrics"
   ]
  },
  {
   "cell_type": "markdown",
   "id": "973c8514-5bc1-40b6-ba05-21e4057ce3d4",
   "metadata": {},
   "source": [
    "# Area"
   ]
  },
  {
   "cell_type": "code",
   "execution_count": 74,
   "id": "680d19b3-0a70-4494-b65f-f0f5ff1bb297",
   "metadata": {},
   "outputs": [
    {
     "data": {
      "text/plain": [
       "<module 'plot_tools' from '/home/michelle/Project/OSTF/journal_plots/plot_tools.py'>"
      ]
     },
     "execution_count": 74,
     "metadata": {},
     "output_type": "execute_result"
    }
   ],
   "source": [
    "reload(plot_tools)"
   ]
  },
  {
   "cell_type": "code",
   "execution_count": 79,
   "id": "833a4eff-2d86-4a57-9e16-41a9b08cfe56",
   "metadata": {},
   "outputs": [
    {
     "data": {
      "text/plain": [
       "footprint_newAv1.5_10yrs               -0.195039\n",
       "wfd_depth_scale0.65_v1.5_10yrs         -0.179779\n",
       "footprint_big_wfdv1.5_10yrs            -0.147929\n",
       "footprint_newBv1.5_10yrs               -0.131304\n",
       "wfd_depth_scale0.70_v1.5_10yrs         -0.114187\n",
       "baseline_2snaps_v1.5_10yrs             -0.114187\n",
       "wfd_depth_scale0.70_noddf_v1.5_10yrs   -0.096559\n",
       "wfd_depth_scale0.75_noddf_v1.5_10yrs   -0.096559\n",
       "wfd_depth_scale0.75_v1.5_10yrs         -0.096559\n",
       "bulges_bs_v1.5_10yrs                   -0.096559\n",
       "bulges_i_heavy_v1.5_10yrs              -0.096559\n",
       "bulges_cadence_i_heavy_v1.5_10yrs      -0.096559\n",
       "bulges_cadence_bulge_wfd_v1.5_10yrs    -0.096559\n",
       "wfd_depth_scale0.65_noddf_v1.5_10yrs   -0.096559\n",
       "wfd_depth_scale0.80_noddf_v1.5_10yrs   -0.078400\n",
       "dcr_nham2_ugr_v1.5_10yrs               -0.078400\n",
       "short_exp_5ns_5expt_v1.5_10yrs         -0.078400\n",
       "footprint_bluer_footprintv1.5_10yrs    -0.078400\n",
       "footprint_gp_smoothv1.5_10yrs          -0.078400\n",
       "var_expt_v1.5_10yrs                    -0.078400\n",
       "dcr_nham1_ug_v1.5_10yrs                -0.078400\n",
       "footprint_standard_goalsv1.5_10yrs     -0.059688\n",
       "wfd_depth_scale0.80_v1.5_10yrs         -0.059688\n",
       "footprint_add_mag_cloudsv1.5_10yrs     -0.059688\n",
       "third_obs_pt30v1.5_10yrs               -0.059688\n",
       "dcr_nham2_ug_v1.5_10yrs                -0.059688\n",
       "dcr_nham1_ugri_v1.5_10yrs              -0.059688\n",
       "bulges_cadence_bs_v1.5_10yrs           -0.059688\n",
       "bulges_bulge_wfd_v1.5_10yrs            -0.059688\n",
       "footprint_big_sky_dustv1.5_10yrs       -0.059688\n",
       "third_obs_pt60v1.5_10yrs               -0.059688\n",
       "goodseeing_gri_v1.5_10yrs              -0.040400\n",
       "third_obs_pt90v1.5_10yrs               -0.040400\n",
       "third_obs_pt45v1.5_10yrs               -0.040400\n",
       "wfd_depth_scale0.85_v1.5_10yrs         -0.040400\n",
       "wfd_depth_scale0.85_noddf_v1.5_10yrs   -0.040400\n",
       "short_exp_2ns_5expt_v1.5_10yrs         -0.040400\n",
       "greedy_footprint_v1.5_10yrs            -0.040400\n",
       "goodseeing_gz_v1.5_10yrs               -0.040400\n",
       "goodseeing_griz_v1.5_10yrs             -0.040400\n",
       "footprint_no_gp_northv1.5_10yrs        -0.040400\n",
       "descddf_v1.5_10yrs                     -0.040400\n",
       "dcr_nham1_ugr_v1.5_10yrs               -0.040400\n",
       "wfd_depth_scale0.95_v1.5_10yrs         -0.040400\n",
       "spiders_v1.5_10yrs                     -0.040400\n",
       "third_obs_pt15v1.5_10yrs               -0.020512\n",
       "short_exp_5ns_1expt_v1.5_10yrs         -0.020512\n",
       "short_exp_2ns_1expt_v1.5_10yrs         -0.020512\n",
       "goodseeing_gi_v1.5_10yrs               -0.020512\n",
       "agnddf_v1.5_10yrs                      -0.020512\n",
       "wfd_depth_scale0.90_v1.5_10yrs          0.000000\n",
       "goodseeing_i_v1.5_10yrs                 0.000000\n",
       "baseline_v1.5_10yrs                     0.000000\n",
       "third_obs_pt120v1.5_10yrs               0.000000\n",
       "wfd_depth_scale0.90_noddf_v1.5_10yrs    0.021163\n",
       "wfd_depth_scale0.99_noddf_v1.5_10yrs    0.021163\n",
       "wfd_depth_scale0.99_v1.5_10yrs          0.043006\n",
       "wfd_depth_scale0.95_noddf_v1.5_10yrs    0.065557\n",
       "Name: pz_y10_zlow_stdd, dtype: float64"
      ]
     },
     "execution_count": 79,
     "metadata": {},
     "output_type": "execute_result"
    }
   ],
   "source": [
    "dropped_rel['pz_y10_zlow_stdd'].sort_values()"
   ]
  },
  {
   "cell_type": "code",
   "execution_count": 99,
   "id": "e063275a-c4e4-4931-bec1-46edc8c55c60",
   "metadata": {},
   "outputs": [
    {
     "data": {
      "application/vnd.jupyter.widget-view+json": {
       "model_id": "47783d41558847bd912b54b5c4aea9de",
       "version_major": 2,
       "version_minor": 0
      },
      "text/plain": [
       "Canvas(toolbar=Toolbar(toolitems=[('Home', 'Reset original view', 'home', 'home'), ('Back', 'Back to previous …"
      ]
     },
     "metadata": {},
     "output_type": "display_data"
    },
    {
     "name": "stdout",
     "output_type": "stream",
     "text": [
      "Annotations: 1-\\texttt{footprint\\_bluer\\_footprintv1.5\\_10yrs}, 2-\\texttt{footprint\\_newBv1.5\\_10yrs}, 3-\\texttt{bulges\\_bs\\_v1.5\\_10yrs}, 4-\\texttt{footprint\\_big\\_sky\\_dustv1.5\\_10yrs}\n"
     ]
    }
   ],
   "source": [
    "# PLOT SETTINGS: Combine 1.6 False, include unrealistic True\n",
    "annotations = {\n",
    "    'footprint_bluer_footprintv1.5_10yrs':('sn', 0),\n",
    "    'footprint_newBv1.5_10yrs':('sn', 0),\n",
    "    'bulges_bs_v1.5_10yrs':('sn', 0),\n",
    "    'footprint_big_sky_dustv1.5_10yrs':('sn', 0.08)\n",
    "}\n",
    "\n",
    "dropped_rel, metrics_original, misc_metrics = select_simulations(combine_1_6=False, \n",
    "                                                                 include_unrealistic=True,\n",
    "                                                                 include_outstanding=False)\n",
    "\n",
    "\n",
    "all_sims_df.loc[dropped_rel.index, 'area'] = 1\n",
    "x_axis = 'static_Y10 effective survey area'\n",
    "if x_axis not in misc_metrics.columns:\n",
    "    misc_metrics[x_axis] = metrics_original[x_axis]\n",
    "probes = ['fom', 'wl', 'sl', 'sn', 'pz']\n",
    "themes = {'fom':0, 'lss':1, 'wl':1, 'sl':1, 'sn':0, 'kn':1, 'pz':1, 'snz':1}\n",
    "plot_tools.comparison_plot(dropped_rel, metrics_display_names, misc_metrics, x_axis, \n",
    "                           probes=probes, themes=themes, ylabel=read_metrics.ylabel, \n",
    "                           xlabel='Effective area (deg$^2$)', savefig_path=fig_dir+'comparison_area',\n",
    "                           save_plot=save_plot,\n",
    "                           smoothing='binning', expand_ylim_by=[2.5, 1.2],\n",
    "                           annotations=annotations)"
   ]
  },
  {
   "cell_type": "markdown",
   "id": "78ce27ed-0e86-4130-9373-4ccaf1d703f4",
   "metadata": {},
   "source": [
    "# Depth"
   ]
  },
  {
   "cell_type": "code",
   "execution_count": 80,
   "id": "b6c72dc5-21bd-41fd-97a4-b8a941e06f89",
   "metadata": {},
   "outputs": [
    {
     "data": {
      "application/vnd.jupyter.widget-view+json": {
       "model_id": "88682e36efff42fc9405c82187e53f77",
       "version_major": 2,
       "version_minor": 0
      },
      "text/plain": [
       "Canvas(toolbar=Toolbar(toolitems=[('Home', 'Reset original view', 'home', 'home'), ('Back', 'Back to previous …"
      ]
     },
     "metadata": {},
     "output_type": "display_data"
    },
    {
     "name": "stdout",
     "output_type": "stream",
     "text": [
      "Annotations: 1-\\texttt{footprint\\_newAv1.5\\_10yrs}, 2-\\texttt{bulges\\_cadence\\_i\\_heavy\\_v1.5\\_10yrs}, 3-\\texttt{wfd\\_depth\\_scale0.99\\_v1.5\\_10yrs}, 4-\\texttt{wfd\\_depth\\_scale0.99\\_noddf\\_v1.5\\_10yrs}\n"
     ]
    }
   ],
   "source": [
    "annotations = {\n",
    "    'footprint_newAv1.5_10yrs':('sn', 0),\n",
    "    'bulges_cadence_i_heavy_v1.5_10yrs':('fom', 0.08),\n",
    "    'wfd_depth_scale0.99_v1.5_10yrs':('sn', 0.08),\n",
    "    'wfd_depth_scale0.99_noddf_v1.5_10yrs':('sn', 0.08)\n",
    "}\n",
    "dropped_rel, metrics_original, misc_metrics = select_simulations(combine_1_6=False, \n",
    "                                                                 include_unrealistic=True,\n",
    "                                                                 include_outstanding=False)\n",
    "\n",
    "\n",
    "all_sims_df.loc[dropped_rel.index, 'depth'] = 1\n",
    "x_axis = 'static_median Y10 $i$-band coadded depth in effective survey area'\n",
    "if x_axis not in misc_metrics.columns:\n",
    "    misc_metrics[x_axis] = metrics_original[x_axis]\n",
    "probes = ['fom',  'sn', 'kn', 'sl', 'pz']\n",
    "themes = {'fom':0, 'lss':1, 'wl':1, 'sn':0, 'kn':1, 'sl':1, 'pz':1, 'snz':1}\n",
    "plot_tools.comparison_plot(dropped_rel, metrics_display_names, misc_metrics, x_axis, \n",
    "                           probes=probes, themes=themes, ylabel=read_metrics.ylabel, \n",
    "                           xlabel='Median i-band depth', savefig_path=fig_dir + 'comparison_depth',\n",
    "                           save_plot=save_plot,\n",
    "                           smoothing='binning', expand_ylim_by=[2.0, 1.8],\n",
    "                           annotations=annotations)"
   ]
  },
  {
   "cell_type": "markdown",
   "id": "434941ed-7466-4824-834d-b1b1b1979587",
   "metadata": {},
   "source": [
    "# Combined metric"
   ]
  },
  {
   "cell_type": "code",
   "execution_count": 81,
   "id": "6e43b2e5-5f31-4fae-9981-02739ff23c9a",
   "metadata": {},
   "outputs": [],
   "source": [
    "# PLOT SETTINGS: combine_1.6 True, include_unrealistic False\n",
    "def calculate_mega_metric(metrics_rel):\n",
    "#     frac_static_tot = 0.68\n",
    "#     frac_sn_tot = 0.32\n",
    "    \n",
    "    frac_static_tot = 0.5\n",
    "    frac_sn_tot = 0.5\n",
    "    \n",
    "#     frac_static_statistical = 0.62\n",
    "#     frac_static_systematic = 0.38\n",
    "    \n",
    "    frac_static_statistical = 1\n",
    "    frac_static_systematic = 0\n",
    "    \n",
    "    frac_static_systematic_redshift = 0.5\n",
    "    frac_static_systematic_psf = 0.5\n",
    "    \n",
    "    pz = metrics_rel[plot_tools.probes_translations['pz']]\n",
    "    wl = metrics_rel[plot_tools.probes_translations['wl']]\n",
    "    fom = metrics_rel[plot_tools.probes_translations['fom']]\n",
    "    sn = metrics_rel[plot_tools.probes_translations['sn']]\n",
    "    \n",
    "    \n",
    "    static_systematic = frac_static_systematic_redshift*pz + frac_static_systematic_psf*wl\n",
    "    static_total = frac_static_systematic*static_systematic + frac_static_statistical*fom\n",
    "    \n",
    "    sn_total = sn\n",
    "    \n",
    "    return frac_static_tot*static_total + frac_sn_tot*sn_total"
   ]
  },
  {
   "cell_type": "code",
   "execution_count": 82,
   "id": "8c9d3cb4-18e4-49e1-8476-5a2a19cba1e4",
   "metadata": {},
   "outputs": [
    {
     "data": {
      "application/vnd.jupyter.widget-view+json": {
       "model_id": "315ec14768e24ebbb23e87e95b1c99cd",
       "version_major": 2,
       "version_minor": 0
      },
      "text/plain": [
       "Canvas(toolbar=Toolbar(toolitems=[('Home', 'Reset original view', 'home', 'home'), ('Back', 'Back to previous …"
      ]
     },
     "metadata": {},
     "output_type": "display_data"
    }
   ],
   "source": [
    "show_footprint_8 = False\n",
    "\n",
    "dropped_rel, metrics_original, misc_metrics = select_simulations(combine_1_6=True, \n",
    "                                                                 include_unrealistic=False,\n",
    "                                                                 include_outstanding=False,\n",
    "                                                                remove_nexp2=True)\n",
    "\n",
    "# Note there are slight variations in the sims used now vs. what was in the table originally but I think I \n",
    "# just forgot to update the table because otherwise the figure would look very different.\n",
    "\n",
    "mega_metric = calculate_mega_metric(dropped_rel)\n",
    "dropped_rel['mega'] = mega_metric\n",
    "\n",
    "X = np.array([metrics_original.loc[dropped_rel.index, 'static_Y10 effective survey area'],\n",
    "              #metrics_original.loc[dropped_rel.index, 'static_median Y10 $i$-band coadded depth in effective survey area'],\n",
    "#             metrics_original.loc[dropped_rel.index, 'wl_systematics'],  \n",
    "              misc_metrics.loc[dropped_rel.index, 'fONv MedianNvis fO All visits HealpixSlicer']\n",
    "             ]).T\n",
    "Z = np.array(dropped_rel.mega)\n",
    "# Z = np.array(dropped_rel['kn_Pop_kNe_counts'])\n",
    "# Z = np.array(dropped_rel['sl_num_lensed_SNe_Ia_with_good_time_delays_lensed_by_galaxies'])\n",
    "\n",
    "xmin = X[:,0].min()\n",
    "xmax = X[:,0].max()\n",
    "ymin = X[:,1].min()\n",
    "ymax = X[:,1].max()\n",
    "\n",
    "\n",
    "extent = xmin, xmax, ymin, ymax\n",
    "\n",
    "X[:,0] = (X[:,0] - xmin)/(xmax-xmin)\n",
    "X[:,1] = (X[:,1] - ymin)/(ymax-ymin)\n",
    "\n",
    "\n",
    "\n",
    "labels = [\n",
    "         'ss_heavy_v1.6_10yrs',\n",
    "        'footprint_newAv1.5_10yrs',\n",
    "         'combo_dust_v1.6_10yrs',\n",
    "         'footprint_big_sky_dustv1.5_10yrs',\n",
    "         'baseline_v1.5_10yrs'\n",
    "         ]\n",
    "\n",
    "if show_footprint_8:\n",
    "    labels += ['footprint_8_v1.710yrs',\n",
    "    'baseline_nexp2_v1.7_10yrs']\n",
    "\n",
    "xlabs = []\n",
    "ylabs = []\n",
    "\n",
    "# xshift = [0.005]*len(labels)\n",
    "\n",
    "xshift = [-1000]*len(labels)\n",
    "xshift[0] = 100\n",
    "xshift[1] = -800\n",
    "# xshift[2] = -400\n",
    "# xshift[3] = -500\n",
    "xshift[2] = -600\n",
    "xshift[3] = -1200\n",
    "xshift[4] = 100\n",
    "\n",
    "\n",
    "yshift = [0]*len(labels)\n",
    "yshift[1] = 15\n",
    "\n",
    "\n",
    "if show_footprint_8:\n",
    "    xshift[5] = -400\n",
    "    xshift[6] = 100\n",
    "\n",
    "\n",
    "descriptions = pd.read_excel('bar_graph_data.xlsx', sheet_name='descriptions', index_col=0)\n",
    "\n",
    "if show_footprint_8:\n",
    "    descriptions.loc['baseline_v1.4_10yrs.db', 'short'] = 'Baseline v1.5'\n",
    "    descriptions.loc['footprint_big_sky_dustv1.4_10yrs.db', 'short'] = 'FootprintBigSky'\n",
    "    descriptions.loc['baseline_nexp2_v1.7_10yrs.db'] = ['Baseline v1.7', 'Baseline v1.7']\n",
    "    descriptions.loc['footprint_8_v1.710yrs.db'] = ['Footprint8', 'Footprint8']\n",
    "    \n",
    "\n",
    "\n",
    "for i in range(len(labels)):\n",
    "    l = labels[i]\n",
    "    xlab = metrics_original.loc[l, 'static_Y10 effective survey area']\n",
    "#         xlab = metrics_original.loc[l, 'static_median Y10 $i$-band coadded depth in effective survey area']\n",
    "#         ylab = metrics_original.loc[l, 'wl_systematics']\n",
    "    ylab = misc_metrics.loc[l, 'fONv MedianNvis fO All visits HealpixSlicer']\n",
    "\n",
    "#     xlabs.append((xlab-xmin)/(xmax-xmin))\n",
    "#     ylabs.append((ylab-ymin)/(ymax-ymin))\n",
    "    xlabs.append(xlab)\n",
    "    ylabs.append(ylab)\n",
    "\n",
    "    all_sims_df.loc[dropped_rel.index, 'mega_metric'] = 1\n",
    "plt.close('all')\n",
    "x = np.linspace(X[:,0].min(), X[:,0].max(), 200)\n",
    "y = np.linspace(X[:,1].min(), X[:,1].max(), 200)\n",
    "xgrid, ygrid = np.meshgrid(x, y)\n",
    "zgrid = griddata(X, Z, (xgrid, ygrid), method='nearest')\n",
    "\n",
    "plt.figure()\n",
    "\n",
    "for i in range(len(labels)):\n",
    "    plt.plot(xlabs[i], ylabs[i], 'ok', markeredgecolor='w')\n",
    "#         this_text = labels[i]\n",
    "#         if '.db' in this_text:\n",
    "#             this_text = this_text[:-3]\n",
    "#         if '_10yrs' in this_text:\n",
    "#             this_text = this_text[:-6]\n",
    "    ind = labels[i]+'.db'\n",
    "    if '1.5' in ind:\n",
    "        ind = ind.replace('1.5', '1.4')\n",
    "    this_text = descriptions.loc[ind, 'short']\n",
    "    plt.text(xlabs[i]+xshift[i], ylabs[i]+yshift[i], this_text, usetex=False, \n",
    "             fontsize=8,bbox=dict(facecolor='white', alpha=0.5))\n",
    "\n",
    "#     if show_footprint_8:\n",
    "#         plt.text(metrics_original.loc['footprint_8_v1.710yrs', 'static_Y10 effective survey area'], 26.28, '*', fontsize=30)\n",
    "im1=plt.imshow(zgrid, origin='lower', extent=extent, aspect='auto', cmap='magma')\n",
    "l1, l2 = 4,2\n",
    "l3, l4 = 6,5\n",
    "if show_footprint_8:\n",
    "    plt.plot([xlabs[l1], xlabs[l2]], [ylabs[l1], ylabs[l2]], 'w-')\n",
    "#     plt.plot([xlabs[l3], xlabs[l4]], [ylabs[l3], ylabs[l4]], 'w--')\n",
    "plt.plot([])\n",
    "cbar = plt.colorbar()\n",
    "cbar.set_label('(metric-baseline)/baseline', rotation=-90, labelpad=20)\n",
    "# cbar.set_label('KN (relative to baseline)', rotation=-90, labelpad=20)\n",
    "\n",
    "plt.xlabel('Effective area (deg$^2$)')\n",
    "#     plt.xlabel('Median $i$-band depth')\n",
    "plt.ylabel('Median number of visits per pointing')\n",
    "plt.tight_layout()\n",
    "plt.savefig(fig_dir+'mega_metric')\n",
    "# plt.savefig(fig_dir+'kn_combined.png')\n",
    "# plt.savefig(fig_dir+'sl_combined.png')\n",
    "#     plt.savefig(fig_dir+'nvists_depth_combined.png')"
   ]
  },
  {
   "cell_type": "markdown",
   "id": "7c406cbc-eec8-4ae0-8a8a-86d155d8d12d",
   "metadata": {},
   "source": [
    "# Filter distribution"
   ]
  },
  {
   "cell_type": "code",
   "execution_count": 83,
   "id": "73bc4c49-14b2-4ae9-89c2-dec47d0539b2",
   "metadata": {},
   "outputs": [
    {
     "data": {
      "application/vnd.jupyter.widget-view+json": {
       "model_id": "5d8a2e0d139a4a4793b340c7e74cbdcf",
       "version_major": 2,
       "version_minor": 0
      },
      "text/plain": [
       "Canvas(toolbar=Toolbar(toolitems=[('Home', 'Reset original view', 'home', 'home'), ('Back', 'Back to previous …"
      ]
     },
     "metadata": {},
     "output_type": "display_data"
    }
   ],
   "source": [
    "metrics_rel = metrics_rel_1_5.copy()\n",
    "\n",
    "inds = []\n",
    "for i in metrics_rel.index:\n",
    "    if 'filterdist' in i:\n",
    "        inds.append(i)\n",
    "# Put baseline first\n",
    "filters_baseline = 'filterdist_indx2_v1.5_10yrs'\n",
    "inds[1] = inds[0]\n",
    "inds[0] = filters_baseline\n",
    "\n",
    "filters_only = metrics_original.loc[inds]\n",
    "\n",
    "filters_only = (filters_only-filters_only.loc[filters_baseline])/filters_only.loc[filters_baseline]\n",
    "\n",
    "\n",
    "plt.figure()\n",
    "\n",
    "labels = ['Baseline', 'Uniform','g heavy','u heavy', 'z and y heavy', 'i heavy', 'Bluer', 'Redder']\n",
    "\n",
    "probes = ['wl', 'sn', 'kn', 'sl', 'pz', 'snz']\n",
    "x = np.arange(len(filters_only))\n",
    "\n",
    "plt.plot(x, [0]*len(x), 'k--', alpha=0.5)\n",
    "\n",
    "for p in probes:\n",
    "    metric_name = plot_tools.probes_translations[p]\n",
    "    y = filters_only[metric_name]\n",
    "    plt.plot(x, y, label=metrics_display_names[metric_name], \n",
    "             color=plot_tools.colors[p], marker=plot_tools.markers[p])\n",
    "    \n",
    "plt.xticks(x, labels)\n",
    "plt.xlabel('Filter distribution')\n",
    "plt.ylabel(\"(metric-filterdist baseline)/filterdist baseline\")\n",
    "\n",
    "plt.legend()\n",
    "plt.xlim([0, len(x)-1])\n",
    "plt.ylim([-0.3, 0.65])\n",
    "plt.tight_layout()\n",
    "\n",
    "\n",
    "all_sims_df.loc[inds, 'filter_dist'] = 1\n",
    "plt.savefig(fig_dir + 'comparison_filter_dist')"
   ]
  },
  {
   "cell_type": "markdown",
   "id": "d26f13cd-df4b-4043-9611-34842d982382",
   "metadata": {},
   "source": [
    "# Bar graph - Same filter visits"
   ]
  },
  {
   "cell_type": "code",
   "execution_count": 30,
   "id": "5ddd3571-ebb1-4c76-8aac-f82984d7a4f5",
   "metadata": {},
   "outputs": [
    {
     "data": {
      "text/plain": [
       "<module 'plot_tools' from '/home/michelle/Project/OSTF/journal_plots/plot_tools.py'>"
      ]
     },
     "execution_count": 30,
     "metadata": {},
     "output_type": "execute_result"
    }
   ],
   "source": [
    "reload(plot_tools)"
   ]
  },
  {
   "cell_type": "code",
   "execution_count": 88,
   "id": "6ba14405-a873-4013-be61-537e3bbb8469",
   "metadata": {},
   "outputs": [
    {
     "data": {
      "application/vnd.jupyter.widget-view+json": {
       "model_id": "bb70acf04ebb47939b9ca68afda944ce",
       "version_major": 2,
       "version_minor": 0
      },
      "text/plain": [
       "Canvas(toolbar=Toolbar(toolitems=[('Home', 'Reset original view', 'home', 'home'), ('Back', 'Back to previous …"
      ]
     },
     "metadata": {},
     "output_type": "display_data"
    }
   ],
   "source": [
    "metrics_rel_samefilt, metrics_display_names, baseline_values_samefilt = read_metrics.read_metrics('metrics_v1_5.csv', baseline='baseline_v1.5_10yrs', \n",
    "                                                                                                  dropna=False, \n",
    "                                                                                                  add_samefilt=True)\n",
    "\n",
    "this_df = metrics_rel_samefilt.loc[['baseline_samefilt_v1.5_10yrs.db']]\n",
    "plot_tools.single_bar_graph(this_df, metrics_display_names, ylabel=read_metrics.ylabel,\n",
    "                           savefig_path=fig_dir+'comparison_samefilt', save_plot=True,\n",
    "                           probes=['wl', 'lss', 'fom', 'sl', 'sn'], figsize=figsize_fullwidth)\n",
    "all_sims_df.loc['baseline_samefilt_v1.5_10yrs', 'samefilt'] = 1"
   ]
  },
  {
   "cell_type": "markdown",
   "id": "b214d320-52bb-4c9b-bd3e-465b08a92a3c",
   "metadata": {},
   "source": [
    "# Bar graph - nexp"
   ]
  },
  {
   "cell_type": "code",
   "execution_count": 86,
   "id": "95975f5b-e02c-47f4-aba5-7d253f241ea0",
   "metadata": {},
   "outputs": [
    {
     "data": {
      "text/plain": [
       "<module 'plot_tools' from '/home/michelle/Project/OSTF/journal_plots/plot_tools.py'>"
      ]
     },
     "execution_count": 86,
     "metadata": {},
     "output_type": "execute_result"
    }
   ],
   "source": [
    "reload(plot_tools)"
   ]
  },
  {
   "cell_type": "code",
   "execution_count": 89,
   "id": "46aea708-3ca7-427c-98bd-e61f21457be5",
   "metadata": {},
   "outputs": [
    {
     "data": {
      "application/vnd.jupyter.widget-view+json": {
       "model_id": "73f78eddd3c948fdab81effd4da46968",
       "version_major": 2,
       "version_minor": 0
      },
      "text/plain": [
       "Canvas(toolbar=Toolbar(toolitems=[('Home', 'Reset original view', 'home', 'home'), ('Back', 'Back to previous …"
      ]
     },
     "metadata": {},
     "output_type": "display_data"
    }
   ],
   "source": [
    "\n",
    "this_df = metrics_rel_1_7.loc[['baseline_nexp1_v1.7_10yrs']]\n",
    "plot_tools.single_bar_graph(this_df, metrics_display_names, ylabel=read_metrics.ylabel,\n",
    "                       savefig_path=fig_dir+'comparison_1nexp', save_plot=True,\n",
    "                       probes=['lss','fom', 'wl','pz','sl','kn','sn'], figsize=figsize_fullwidth,\n",
    "                       expand_ylim_by=[1,1.1])\n",
    "all_sims_df['nexp'] = [0]*len(all_sims_df)\n",
    "inds_7 = []\n",
    "for i in all_sims_df.index:\n",
    "    if '1.7' in i:\n",
    "        inds_7.append(i)\n",
    "all_sims_df.loc[inds_7, 'nexp'] = 1"
   ]
  },
  {
   "cell_type": "markdown",
   "id": "0457865d-29b0-488a-a11c-4306b10fc92e",
   "metadata": {},
   "source": [
    "# Internight gap"
   ]
  },
  {
   "cell_type": "code",
   "execution_count": 90,
   "id": "f966a532-9abc-4d97-93c2-8e78ff1da302",
   "metadata": {},
   "outputs": [
    {
     "data": {
      "application/vnd.jupyter.widget-view+json": {
       "model_id": "06d23b7954374e649b513032c7bcd646",
       "version_major": 2,
       "version_minor": 0
      },
      "text/plain": [
       "Canvas(toolbar=Toolbar(toolitems=[('Home', 'Reset original view', 'home', 'home'), ('Back', 'Back to previous …"
      ]
     },
     "metadata": {},
     "output_type": "display_data"
    },
    {
     "name": "stdout",
     "output_type": "stream",
     "text": [
      "Annotations: 1-\\texttt{dcr\\_nham2\\_ugr\\_v1.5\\_10yrs}, 2-\\texttt{baseline\\_2snaps\\_v1.5\\_10yrs}, 3-\\texttt{footprint\\_newAv1.5\\_10yrs}\n"
     ]
    }
   ],
   "source": [
    "# PLOT SETTINGS: combine 1.6 False, include unrealistic False\n",
    "annotations = {\n",
    "    'dcr_nham2_ugr_v1.5_10yrs':('sl', 0.08),\n",
    "    'baseline_2snaps_v1.5_10yrs':('sn', 0),\n",
    "    'footprint_newAv1.5_10yrs':('sn', 0)\n",
    "}\n",
    "\n",
    "dropped_rel, metrics_original, misc_metrics = select_simulations(combine_1_6=False, \n",
    "                                                                 include_unrealistic=False,\n",
    "                                                                 include_outstanding=False)\n",
    "all_sims_df.loc[dropped_rel.index, 'internight_gap'] = 1\n",
    "# x_axis = to_include[-1]\n",
    "x_axis = 'Median Median Inter-Night Gap all bands HealpixSlicer'\n",
    "# x_axis = 'Median Max Inter-Night Gap all bands HealpixSlicer'\n",
    "if x_axis not in misc_metrics.columns:\n",
    "    misc_metrics[x_axis] = metrics_original[x_axis]\n",
    "probes = ['fom', 'wl', 'sl', 'sn', 'pz']\n",
    "themes = {'fom':0, 'lss':1, 'wl':1, 'sl':1, 'sn':0, 'kn':1, 'pz':1, 'snz':1}\n",
    "\n",
    "plot_tools.comparison_plot(dropped_rel, metrics_display_names, misc_metrics, x_axis, \n",
    "                           probes=probes, themes=themes, ylabel=read_metrics.ylabel, \n",
    "                           xlabel='Median inter-night gap all bands', savefig_path=fig_dir+'comparison_internight_gap',\n",
    "                           save_plot=True,\n",
    "                           smoothing='binning', expand_ylim_by=[1.4, 1.2],\n",
    "                           annotations=annotations)"
   ]
  },
  {
   "cell_type": "markdown",
   "id": "eb435b43-66e4-4a33-9206-87c7fead5b84",
   "metadata": {},
   "source": [
    "# Internight gap per filter"
   ]
  },
  {
   "cell_type": "code",
   "execution_count": 91,
   "id": "fc881ed9-f87a-4892-90b7-54a9e23a23f3",
   "metadata": {},
   "outputs": [
    {
     "data": {
      "application/vnd.jupyter.widget-view+json": {
       "model_id": "af488e40cdba4aa4bf010216abc9dc6d",
       "version_major": 2,
       "version_minor": 0
      },
      "text/plain": [
       "Canvas(toolbar=Toolbar(toolitems=[('Home', 'Reset original view', 'home', 'home'), ('Back', 'Back to previous …"
      ]
     },
     "metadata": {},
     "output_type": "display_data"
    }
   ],
   "source": [
    "import george\n",
    "from scipy.optimize import minimize\n",
    "\n",
    "dropped_rel, metrics_original, misc_metrics = select_simulations(combine_1_6=False, \n",
    "                                                                 include_unrealistic=True,\n",
    "                                                                 include_outstanding=False)\n",
    "\n",
    "\n",
    "bands = ['u','g','r','i','z','y']\n",
    "cols = ['C4', 'C2', 'C3', 'C1', 'C5', 'C0']\n",
    "normalise_x = False\n",
    "# which_metric = 'kn_Pop_kNe_counts'\n",
    "which_metric = 'sn_normal_nsn_tot'\n",
    "# which_metric = 'static_median Y10 $i$-band coadded depth in effective survey area'\n",
    "# which_metric = 'pz_y10_zlow_stdd'\n",
    "# which_metric = 'sl_num_lensed_SNe_Ia_with_good_time_delays_lensed_by_galaxies'\n",
    "# which_metric = 'fONv MedianNvis fO All visits HealpixSlicer'\n",
    "\n",
    "\n",
    "\n",
    "inds = []\n",
    "for i in dropped_rel.index:\n",
    "    if 'short_exp' not in i and 'footprint_bluer' not in i:\n",
    "        inds.append(i)\n",
    "        \n",
    "col = 'fONv MedianNvis fO All visits HealpixSlicer'\n",
    "inds = misc_metrics.loc[inds][(misc_metrics.loc[inds, col]<=1000)&(misc_metrics.loc[inds, col]>=900)].index\n",
    "\n",
    "k = 0\n",
    "plt.figure()\n",
    "for b in bands:\n",
    "    x_axis = 'Median Median Inter-Night Gap %s band HealpixSlicer' %b\n",
    "    if x_axis not in misc_metrics:\n",
    "        misc_metrics = pd.merge(misc_metrics, maf_metrics5[x_axis], how='inner', left_index=True, right_index=True)\n",
    "    \n",
    "    x = misc_metrics.loc[inds, x_axis]\n",
    "    if normalise_x:\n",
    "        x = (x-x.min())/(x.max()-x.min())\n",
    "    y = dropped_rel.loc[inds, which_metric]\n",
    "    \n",
    "    \n",
    "#     y = misc_metrics.loc[inds, which_metric]\n",
    "    #x = x/misc_metrics.loc[inds, 'Median Median Inter-Night Gap all bands HealpixSlicer']\n",
    "#     x = x*misc_metrics.loc[inds, 'fONv MedianNvis fO All visits HealpixSlicer']\n",
    "\n",
    "    kernel = george.kernels.ExpSquaredKernel((x.max()-x.min()))\n",
    "\n",
    "    gp = george.GP(kernel, fit_mean=True, fit_white_noise=True)\n",
    "    gp.compute(x, y.std())\n",
    "\n",
    "    def neg_ln_like(p):\n",
    "            gp.set_parameter_vector(p)\n",
    "            return -gp.log_likelihood(y)\n",
    "\n",
    "    def grad_neg_ln_like(p):\n",
    "        gp.set_parameter_vector(p)\n",
    "        return -gp.grad_log_likelihood(y)\n",
    "\n",
    "    result = minimize(neg_ln_like, gp.get_parameter_vector(),\n",
    "                              jac=grad_neg_ln_like, method=\"L-BFGS-B\",\n",
    "                              tol = 1e-5)\n",
    "    gp.set_parameter_vector(result.x)\n",
    "\n",
    "    pred_x = np.linspace(x.min(), x.max(), 100)\n",
    "    pred_y, y_var = gp.predict(y, pred_x, return_var=True)\n",
    "    other_pred_y = gp.predict(y, x, return_cov=False)\n",
    "    \n",
    "    new_x = pred_x\n",
    "    new_y = pred_y\n",
    "    \n",
    "    y_err = np.sqrt(y_var+(y-other_pred_y).std()**2)\n",
    "    \n",
    "    baseline_x = misc_metrics.loc['baseline_v1.5_10yrs',x_axis]\n",
    "    baseline_y = 0\n",
    "\n",
    "    if not normalise_x:\n",
    "        plt.fill_between(new_x, new_y-y_err, new_y+y_err, color=cols[k], alpha=0.3)\n",
    "    plt.plot(new_x, new_y, color=cols[k], label=b)\n",
    "    \n",
    "    plt.plot(x, y, '.', markersize=1, color=cols[k]\n",
    "        )\n",
    "    plt.plot(baseline_x, baseline_y, '*', markersize=8, \n",
    "             markerfacecolor=cols[k], markeredgecolor='k', markeredgewidth=0.3)\n",
    "    plt.text(new_x.max()+0.1, new_y[new_x.argmax()]-0.04, '$\\mathbf{%s}$' %b, color=cols[k], fontsize=12)\n",
    "    k+=1\n",
    "plt.xlabel('Median internight-gap (days)')\n",
    "plt.ylabel('(metric-baseline)/baseline')\n",
    "plt.title('Number of  SNe Ia with z$\\\\textless$zlim(med)')\n",
    "plt.legend()\n",
    "if not normalise_x:\n",
    "    plt.xlim([4.9,26])\n",
    "#     plt.ylim([-0.15, 0.05])\n",
    "plt.tight_layout()\n",
    "\n",
    "all_sims_df.loc[inds, 'internight_gap_per_filter'] = 1\n",
    "if save_plot:\n",
    "    plt.savefig(fig_dir+'internight_gap_per_filter')"
   ]
  },
  {
   "cell_type": "markdown",
   "id": "591735bd-d006-4628-96d9-7efd2e907a31",
   "metadata": {},
   "source": [
    "# Season length"
   ]
  },
  {
   "cell_type": "code",
   "execution_count": 92,
   "id": "334bcd86-74a0-4499-93d3-472fd201626f",
   "metadata": {},
   "outputs": [
    {
     "data": {
      "application/vnd.jupyter.widget-view+json": {
       "model_id": "48c9f357c35b4437821262f279a62b15",
       "version_major": 2,
       "version_minor": 0
      },
      "text/plain": [
       "Canvas(toolbar=Toolbar(toolitems=[('Home', 'Reset original view', 'home', 'home'), ('Back', 'Back to previous …"
      ]
     },
     "metadata": {},
     "output_type": "display_data"
    },
    {
     "name": "stdout",
     "output_type": "stream",
     "text": [
      "Annotations: 1-\\texttt{footprint\\_newBv1.5\\_10yrs}, 2-\\texttt{wfd\\_depth\\_scale0.99\\_v1.5\\_10yrs}, 3-\\texttt{short\\_exp\\_5ns\\_5expt\\_v1.5\\_10yrs}, 4-\\texttt{dcr\\_nham1\\_ugri\\_v1.5\\_10yrs}\n"
     ]
    }
   ],
   "source": [
    "annotations = {\n",
    "    'footprint_newBv1.5_10yrs':('sn', 0),\n",
    "    'wfd_depth_scale0.99_v1.5_10yrs':('sn', -0.08),\n",
    "    'short_exp_5ns_5expt_v1.5_10yrs':('sn', 0.02),\n",
    "    'dcr_nham1_ugri_v1.5_10yrs':('sl', 0.08)\n",
    "}\n",
    "# annotations = {}\n",
    "dropped_rel, metrics_original, misc_metrics = select_simulations(combine_1_6=False, \n",
    "                                                                 include_unrealistic=True,\n",
    "                                                                 include_outstanding=False)\n",
    "\n",
    "all_sims_df.loc[dropped_rel.index, 'season'] = 1\n",
    "x_axis = 'cumulative_season_length_[yr]'\n",
    "if x_axis not in misc_metrics.columns:\n",
    "    misc_metrics[x_axis] = metrics_original[x_axis]\n",
    "probes = ['sl', 'sn', 'fom']\n",
    "# probes = ['sl']\n",
    "themes = {'sl':0, 'sn':1, 'kn':1, 'fom':1, 'pz':1, 'snz':1}\n",
    "plot_tools.comparison_plot(dropped_rel, metrics_display_names, misc_metrics, \n",
    "                           x_axis, probes=probes, themes=themes, ylabel=read_metrics.ylabel, \n",
    "                           xlabel='Cumulative season length (years)', savefig_path=fig_dir+'comparison_season',\n",
    "                           save_plot=save_plot,\n",
    "                           smoothing='binning', expand_ylim_by=[1.3,1.1],\n",
    "                           annotations=annotations)"
   ]
  },
  {
   "cell_type": "markdown",
   "id": "1248bb89-39c0-4494-abd5-4d781212e56d",
   "metadata": {},
   "source": [
    "# Weather"
   ]
  },
  {
   "cell_type": "code",
   "execution_count": 93,
   "id": "32bc12d9-4b70-477c-8254-fddbfd5019f0",
   "metadata": {},
   "outputs": [
    {
     "data": {
      "application/vnd.jupyter.widget-view+json": {
       "model_id": "0fe5522be8eb4bcdb8f993181036b05f",
       "version_major": 2,
       "version_minor": 0
      },
      "text/plain": [
       "Canvas(toolbar=Toolbar(toolitems=[('Home', 'Reset original view', 'home', 'home'), ('Back', 'Back to previous …"
      ]
     },
     "metadata": {},
     "output_type": "display_data"
    }
   ],
   "source": [
    "fl4 = 'metrics_v1_4.csv'\n",
    "misc_metrics_fl4 = 'misc-metrics-v1_4.csv' \n",
    "\n",
    "misc_metrics4 = read_and_drop(misc_metrics_fl4)\n",
    "\n",
    "if 'dbname' in misc_metrics4.index:\n",
    "    misc_metrics4 = misc_metrics4.drop('dbname')\n",
    "metrics_original4 = read_and_drop(fl4)\n",
    "metrics_rel4, metrics_display_names4, baseline_values4 = read_metrics.read_metrics(fl4, \n",
    "                                                                                   baseline='baseline_v1.4_10yrs.db')\n",
    "\n",
    "misc_metrics4 = misc_metrics4.loc[metrics_original4.index]\n",
    "\n",
    "weather_runs = [i for i in metrics_rel4.index if 'weather' in i]\n",
    "metrics_weather = metrics_rel4.loc[weather_runs]\n",
    "new_inds = metrics_weather.index[[0,1,3,2]]\n",
    "metrics_weather = metrics_weather.loc[new_inds]\n",
    "drop_db_suffix(metrics_weather)\n",
    "\n",
    "all_sims_df.loc[metrics_weather.index, 'weather'] = 1\n",
    "\n",
    "plt.figure()\n",
    "\n",
    "probes = ['fom', 'lss', 'sn', 'kn', 'sl']\n",
    "x = np.arange(len(metrics_weather.index))\n",
    "for p in probes:\n",
    "    metric_name = plot_tools.probes_translations[p]\n",
    "    y = metrics_weather[metric_name]\n",
    "    plt.plot(x, y, label=metrics_display_names[metric_name], \n",
    "             color=plot_tools.colors[p], marker=plot_tools.markers[p])\n",
    "    \n",
    "# y = metrics_weather['static_stddev of Y10 $i$-band coadded depth in effective survey area']\n",
    "# plt.plot(x, y, label='Depth', color='C7')\n",
    "# y = metrics_weather['static_Y10 effective survey area']\n",
    "# plt.plot(x, y, label='Area', color='C8')\n",
    "plt.xticks(x, ['Realistic', 'v1.3-like', 'Optimistic', 'Optimistic - \\nno downtime'])\n",
    "plt.xlabel('Weather simulation type')\n",
    "plt.ylabel(read_metrics.ylabel)\n",
    "plt.tight_layout()\n",
    "plt.legend()\n",
    "plt.savefig(fig_dir + 'comparison_weather.pdf')"
   ]
  },
  {
   "cell_type": "markdown",
   "id": "1a3108b5-52bc-4604-9d6a-e426cd345b60",
   "metadata": {},
   "source": [
    "# Write simulations table"
   ]
  },
  {
   "cell_type": "code",
   "execution_count": 213,
   "id": "174e4a6e-084c-4803-984f-dc7df9e9023a",
   "metadata": {},
   "outputs": [],
   "source": [
    "# existing_sims_df = pd.read_csv('simulations_table.csv', index_col=0)\n",
    "# (all_sims_df == existing_sims_df).sum()\n",
    "# There are differences in the mega metric only (2021/11/09)"
   ]
  },
  {
   "cell_type": "code",
   "execution_count": 94,
   "id": "6e8bd2dd-46c9-4515-bbb5-bcec54692af9",
   "metadata": {},
   "outputs": [],
   "source": [
    "all_sims_df.to_csv('simulations_table.csv')\n",
    "overwrite_table = True"
   ]
  },
  {
   "cell_type": "code",
   "execution_count": 97,
   "id": "f910dc84-90db-4142-a4cf-5d0d508faa94",
   "metadata": {},
   "outputs": [
    {
     "data": {
      "text/plain": [
       "{'area': '\\\\ref{fig:comparison_area}',\n",
       " 'depth': '\\\\ref{fig:comparison_depth}',\n",
       " 'filter_dist': '\\\\ref{fig:comparison_filter_dist}',\n",
       " 'internight_gap': '\\\\ref{fig:comparison_cadence}',\n",
       " 'samefilt': '\\\\ref{fig:comparison_samefilt}',\n",
       " 'season': '\\\\ref{fig:comparison_season}',\n",
       " 'weather': '\\\\ref{fig:comparison_weather}',\n",
       " 'internight_gap_per_filter': '\\\\ref{fig:internight_gap_filters}',\n",
       " 'mega_metric': '\\\\ref{fig:mega_metric}',\n",
       " 'nexp': '\\\\ref{fig:comparison_nexp}'}"
      ]
     },
     "execution_count": 97,
     "metadata": {},
     "output_type": "execute_result"
    }
   ],
   "source": [
    "paper_figures"
   ]
  },
  {
   "cell_type": "code",
   "execution_count": 98,
   "id": "aeae1da3-3840-4fac-a62e-41f54ce220a6",
   "metadata": {},
   "outputs": [],
   "source": [
    "if overwrite_table:\n",
    "    all_sims_df = pd.read_csv('simulations_table.csv', index_col=0)\n",
    "    inds = []\n",
    "    for i in all_sims_df.index:\n",
    "        if 'v1.6' in i and 'nexp2' in i:\n",
    "            inds.append(i)\n",
    "    all_sims_df = all_sims_df.drop(inds)\n",
    "    \n",
    "#     inds = np.array(list(paper_figures.values())).argsort()\n",
    "#     keys = np.array(list(paper_figures.keys()))[inds]\n",
    "    # Order taken from the paper\n",
    "    keys = ['area', 'depth', 'mega_metric', 'filter_dist', 'samefilt', 'nexp', 'internight_gap', \n",
    "           'internight_gap_per_filter', 'season', 'weather']\n",
    "\n",
    "    tab = open('simulations_table.tbl', 'w')\n",
    "\n",
    "    # tab.write('\\\\hline\\n')\n",
    "    tab.write('Simulation name & Comparison baseline & Included in which figures\\\\\\\\ \\n')\n",
    "    tab.write('\\\\hline\\n')\n",
    "\n",
    "    for idx in all_sims_df.index:\n",
    "        if idx == 'baseline_v1.5_10yrs':\n",
    "            baseline_1_5 = True\n",
    "        else:\n",
    "            baseline_1_5 = False\n",
    "\n",
    "        if idx == 'baseline_nexp1_v1.6_10yrs':\n",
    "            baseline_1_6 = True\n",
    "        else:\n",
    "            baseline_1_6 = False\n",
    "\n",
    "        which_figs = ''\n",
    "        not_run = all_sims_df.loc[idx, all_sims_df.columns[1:]].sum() == 0\n",
    "        if not baseline_1_5 and not baseline_1_6 and not_run:\n",
    "            which_figs = 'Excluded, '\n",
    "        else:\n",
    "            for col in keys:\n",
    "                if baseline_1_5 and col != 'filter_dist':\n",
    "                    override = True\n",
    "                elif baseline_1_6 and col == 'mega_metric':\n",
    "                    override = True\n",
    "                else:\n",
    "                    override = False\n",
    "\n",
    "                if col in all_sims_df.columns:\n",
    "                    if all_sims_df.loc[idx, col] == 1  or override:\n",
    "                        fig = str(paper_figures[col])\n",
    "                        which_figs += fig + ', '\n",
    "\n",
    "        which_figs = which_figs[:-2]\n",
    "\n",
    "        sim_name = '\\\\texttt{%s}' %idx\n",
    "        sim_name = sim_name.replace('_', '\\\\_')\n",
    "\n",
    "        if '1.4' in idx:\n",
    "            which_baseline = 'weather_0.3_v1.4_10yrs'\n",
    "        elif '1.5' in idx:\n",
    "            which_baseline = 'baseline_v1.5_10yrs'\n",
    "        elif '1.6' in idx:\n",
    "            which_baseline = 'baseline_nexp1_v1.6_10yrs'\n",
    "        else:\n",
    "            which_baseline = 'baseline_nexp2_v1.7_10yrs'\n",
    "            \n",
    "        which_baseline = '\\\\texttt{%s}' %which_baseline\n",
    "        which_baseline = which_baseline.replace('_', '\\\\_')\n",
    "        \n",
    "        tab.write('%s & %s & %s \\\\\\\\ \\n' %(sim_name, which_baseline, which_figs))\n",
    "    tab.write('\\\\hline\\n')\n",
    "\n",
    "    tab.close()"
   ]
  },
  {
   "cell_type": "code",
   "execution_count": null,
   "id": "b51f2549-e047-46e0-98e3-e4bc9cde4ab0",
   "metadata": {},
   "outputs": [],
   "source": []
  }
 ],
 "metadata": {
  "kernelspec": {
   "display_name": "Python 3 (ipykernel)",
   "language": "python",
   "name": "python3"
  },
  "language_info": {
   "codemirror_mode": {
    "name": "ipython",
    "version": 3
   },
   "file_extension": ".py",
   "mimetype": "text/x-python",
   "name": "python",
   "nbconvert_exporter": "python",
   "pygments_lexer": "ipython3",
   "version": "3.10.6"
  }
 },
 "nbformat": 4,
 "nbformat_minor": 5
}
