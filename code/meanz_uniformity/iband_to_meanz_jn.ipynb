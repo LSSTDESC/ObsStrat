{
 "cells": [
  {
   "cell_type": "code",
   "execution_count": 2,
   "metadata": {
    "tags": []
   },
   "outputs": [],
   "source": [
    "import meanz_modules as mzmod\n",
    "import rubin_sim\n",
    "import rubin_sim.maf as maf\n",
    "from rubin_sim.scheduler.utils import SkyAreaGenerator\n",
    "from rubin_sim.data import get_baseline\n",
    "\n",
    "from os import path\n",
    "\n",
    "opsim_fname = rubin_sim.data.get_baseline()\n",
    "run_name = path.splitext(path.basename(opsim_fname))[0]\n",
    "nside=64\n"
   ]
  },
  {
   "cell_type": "code",
   "execution_count": 47,
   "metadata": {
    "tags": []
   },
   "outputs": [
    {
     "name": "stdout",
     "output_type": "stream",
     "text": [
      "Healpix slicer using NSIDE=64, approximate resolution 54.967783 arcminutes\n"
     ]
    },
    {
     "name": "stderr",
     "output_type": "stream",
     "text": [
      "/opt/lsst/software/stack/conda/miniconda3-py38_4.9.2/envs/lsst-scipipe-7.0.1/lib/python3.11/site-packages/rubin_sim/maf/maps/dust_map.py:44: UserWarning: Slicer value of nside 64 different from map value 128, using slicer value\n",
      "  warnings.warn(\n"
     ]
    },
    {
     "name": "stdout",
     "output_type": "stream",
     "text": [
      "['baseline_v2_1_10yrs_ExgalM5_i_and_note_not_like_DD_and_night_lt_730_and_note_not_like_twilight_near_sun_HEAL']\n",
      "25.381523996118815\n"
     ]
    }
   ],
   "source": [
    "# # Apply the above routine to our baseline sim, and show the plots\n",
    "# Make some test plots\n",
    "use_filter='i'\n",
    "bgroup, bd = mzmod.metric_plots(run_name, opsim_fname, year=2,nside=nside, use_filter=use_filter)\n",
    "bgroup.plot_all(closefigs=True)\n",
    "print(list(bd.keys()))\n",
    "print(bd[list(bd.keys())[0]].summary_values['Mean'])\n"
   ]
  },
  {
   "cell_type": "code",
   "execution_count": 48,
   "metadata": {},
   "outputs": [
    {
     "name": "stdout",
     "output_type": "stream",
     "text": [
      "Healpix slicer using NSIDE=64, approximate resolution 54.967783 arcminutes\n"
     ]
    },
    {
     "name": "stderr",
     "output_type": "stream",
     "text": [
      "/opt/lsst/software/stack/conda/miniconda3-py38_4.9.2/envs/lsst-scipipe-7.0.1/lib/python3.11/site-packages/rubin_sim/maf/maps/dust_map.py:44: UserWarning: Slicer value of nside 64 different from map value 128, using slicer value\n",
      "  warnings.warn(\n"
     ]
    },
    {
     "name": "stdout",
     "output_type": "stream",
     "text": [
      "['baseline_v2_1_10yrs_ExgalM5_g_and_note_not_like_DD_and_night_lt_730_and_note_not_like_twilight_near_sun_HEAL']\n",
      "25.727343126895526\n"
     ]
    }
   ],
   "source": [
    "# Now testing for the g-band\n",
    "use_filter='g'\n",
    "bgroup, bd = mzmod.metric_plots(run_name, opsim_fname, year=2,nside=nside, use_filter=use_filter)\n",
    "bgroup.plot_all(closefigs=True)\n",
    "print(list(bd.keys()))\n",
    "print(bd[list(bd.keys())[0]].summary_values['Mean'])"
   ]
  },
  {
   "cell_type": "code",
   "execution_count": 3,
   "metadata": {
    "tags": []
   },
   "outputs": [],
   "source": [
    "# ilim = [24.1, 25.3]\n",
    "# meanz = [0.92, 1.08]\n",
    "\n",
    "# a,b = mzmod.coeff_solve(ilim,meanz)\n",
    "# print(a,b)"
   ]
  },
  {
   "cell_type": "markdown",
   "metadata": {},
   "source": [
    "### Dataset definitions"
   ]
  },
  {
   "cell_type": "code",
   "execution_count": 6,
   "metadata": {
    "tags": []
   },
   "outputs": [
    {
     "name": "stdout",
     "output_type": "stream",
     "text": [
      "['baseline_v3.3_10yrs', 'noroll_v3.3_10yrs', 'roll_mid1_const_season6v3.3_10yrs', 'roll_mid1_const_season2v3.3_10yrs', 'roll_mid1_const_season4v3.3_10yrs', 'roll_mid2_const_season2v3.3_10yrs', 'roll_mid2_const_season4v3.3_10yrs', 'roll_mid2_const_season6v3.3_10yrs']\n"
     ]
    }
   ],
   "source": [
    "#Possible ones to consider\n",
    "\n",
    "v33_sim_list = ['/pscratch/sd/r/rhlozek/rubin_sim_data/sim_baseline/baseline_v3.3_10yrs.db',\n",
    "           '/pscratch/sd/r/rhlozek/rubin_sim_data/noroll/noroll_v3.3_10yrs.db',\n",
    "           '/pscratch/sd/r/rhlozek/rubin_sim_data/noroll/roll_mid1_const_season6v3.3_10yrs.db',\n",
    "           '/pscratch/sd/r/rhlozek/rubin_sim_data/noroll/roll_mid1_const_season2v3.3_10yrs.db',\n",
    "           '/pscratch/sd/r/rhlozek/rubin_sim_data/noroll/roll_mid1_const_season4v3.3_10yrs.db',\n",
    "           '/pscratch/sd/r/rhlozek/rubin_sim_data/noroll/roll_mid2_const_season2v3.3_10yrs.db',\n",
    "           '/pscratch/sd/r/rhlozek/rubin_sim_data/noroll/roll_mid2_const_season4v3.3_10yrs.db',\n",
    "           '/pscratch/sd/r/rhlozek/rubin_sim_data/noroll/roll_mid2_const_season6v3.3_10yrs.db',]\n",
    "v33_name_list = [path.splitext(path.basename(sim))[0] for sim in v33_sim_list]\n",
    "print(v33_name_list)"
   ]
  },
  {
   "cell_type": "markdown",
   "metadata": {
    "tags": []
   },
   "source": [
    "## In this section, we get maps of the i-band depth across the survey for v3.3 simulations at year=3"
   ]
  },
  {
   "cell_type": "markdown",
   "metadata": {},
   "source": [
    "### In this section, we run our metric calculations at each year for all v3.3 simulations and produce a dataframe to save to disk."
   ]
  },
  {
   "cell_type": "code",
   "execution_count": 3,
   "metadata": {
    "tags": []
   },
   "outputs": [
    {
     "name": "stdout",
     "output_type": "stream",
     "text": [
      "Healpix slicer using NSIDE=64, approximate resolution 54.967783 arcminutes\n"
     ]
    },
    {
     "name": "stderr",
     "output_type": "stream",
     "text": [
      "/opt/lsst/software/stack/conda/miniconda3-py38_4.9.2/envs/lsst-scipipe-7.0.1/lib/python3.11/site-packages/rubin_sim/maf/maps/dust_map.py:44: UserWarning: Slicer value of nside 64 different from map value 128, using slicer value\n",
      "  warnings.warn(\n"
     ]
    },
    {
     "name": "stdout",
     "output_type": "stream",
     "text": [
      "Healpix slicer using NSIDE=64, approximate resolution 54.967783 arcminutes\n"
     ]
    },
    {
     "name": "stderr",
     "output_type": "stream",
     "text": [
      "/opt/lsst/software/stack/conda/miniconda3-py38_4.9.2/envs/lsst-scipipe-7.0.1/lib/python3.11/site-packages/rubin_sim/maf/maps/dust_map.py:44: UserWarning: Slicer value of nside 64 different from map value 128, using slicer value\n",
      "  warnings.warn(\n"
     ]
    },
    {
     "name": "stdout",
     "output_type": "stream",
     "text": [
      "Healpix slicer using NSIDE=64, approximate resolution 54.967783 arcminutes\n"
     ]
    },
    {
     "name": "stderr",
     "output_type": "stream",
     "text": [
      "/opt/lsst/software/stack/conda/miniconda3-py38_4.9.2/envs/lsst-scipipe-7.0.1/lib/python3.11/site-packages/rubin_sim/maf/maps/dust_map.py:44: UserWarning: Slicer value of nside 64 different from map value 128, using slicer value\n",
      "  warnings.warn(\n"
     ]
    },
    {
     "name": "stdout",
     "output_type": "stream",
     "text": [
      "Healpix slicer using NSIDE=64, approximate resolution 54.967783 arcminutes\n"
     ]
    },
    {
     "name": "stderr",
     "output_type": "stream",
     "text": [
      "/opt/lsst/software/stack/conda/miniconda3-py38_4.9.2/envs/lsst-scipipe-7.0.1/lib/python3.11/site-packages/rubin_sim/maf/maps/dust_map.py:44: UserWarning: Slicer value of nside 64 different from map value 128, using slicer value\n",
      "  warnings.warn(\n"
     ]
    },
    {
     "name": "stdout",
     "output_type": "stream",
     "text": [
      "Healpix slicer using NSIDE=64, approximate resolution 54.967783 arcminutes\n"
     ]
    },
    {
     "name": "stderr",
     "output_type": "stream",
     "text": [
      "/opt/lsst/software/stack/conda/miniconda3-py38_4.9.2/envs/lsst-scipipe-7.0.1/lib/python3.11/site-packages/rubin_sim/maf/maps/dust_map.py:44: UserWarning: Slicer value of nside 64 different from map value 128, using slicer value\n",
      "  warnings.warn(\n"
     ]
    },
    {
     "name": "stdout",
     "output_type": "stream",
     "text": [
      "Healpix slicer using NSIDE=64, approximate resolution 54.967783 arcminutes\n"
     ]
    },
    {
     "name": "stderr",
     "output_type": "stream",
     "text": [
      "/opt/lsst/software/stack/conda/miniconda3-py38_4.9.2/envs/lsst-scipipe-7.0.1/lib/python3.11/site-packages/rubin_sim/maf/maps/dust_map.py:44: UserWarning: Slicer value of nside 64 different from map value 128, using slicer value\n",
      "  warnings.warn(\n"
     ]
    },
    {
     "name": "stdout",
     "output_type": "stream",
     "text": [
      "Healpix slicer using NSIDE=64, approximate resolution 54.967783 arcminutes\n"
     ]
    },
    {
     "name": "stderr",
     "output_type": "stream",
     "text": [
      "/opt/lsst/software/stack/conda/miniconda3-py38_4.9.2/envs/lsst-scipipe-7.0.1/lib/python3.11/site-packages/rubin_sim/maf/maps/dust_map.py:44: UserWarning: Slicer value of nside 64 different from map value 128, using slicer value\n",
      "  warnings.warn(\n"
     ]
    },
    {
     "name": "stdout",
     "output_type": "stream",
     "text": [
      "Healpix slicer using NSIDE=64, approximate resolution 54.967783 arcminutes\n"
     ]
    },
    {
     "name": "stderr",
     "output_type": "stream",
     "text": [
      "/opt/lsst/software/stack/conda/miniconda3-py38_4.9.2/envs/lsst-scipipe-7.0.1/lib/python3.11/site-packages/rubin_sim/maf/maps/dust_map.py:44: UserWarning: Slicer value of nside 64 different from map value 128, using slicer value\n",
      "  warnings.warn(\n"
     ]
    },
    {
     "name": "stdout",
     "output_type": "stream",
     "text": [
      "Healpix slicer using NSIDE=64, approximate resolution 54.967783 arcminutes\n"
     ]
    },
    {
     "name": "stderr",
     "output_type": "stream",
     "text": [
      "/opt/lsst/software/stack/conda/miniconda3-py38_4.9.2/envs/lsst-scipipe-7.0.1/lib/python3.11/site-packages/rubin_sim/maf/maps/dust_map.py:44: UserWarning: Slicer value of nside 64 different from map value 128, using slicer value\n",
      "  warnings.warn(\n"
     ]
    },
    {
     "name": "stdout",
     "output_type": "stream",
     "text": [
      "Healpix slicer using NSIDE=64, approximate resolution 54.967783 arcminutes\n"
     ]
    },
    {
     "name": "stderr",
     "output_type": "stream",
     "text": [
      "/opt/lsst/software/stack/conda/miniconda3-py38_4.9.2/envs/lsst-scipipe-7.0.1/lib/python3.11/site-packages/rubin_sim/maf/maps/dust_map.py:44: UserWarning: Slicer value of nside 64 different from map value 128, using slicer value\n",
      "  warnings.warn(\n"
     ]
    },
    {
     "name": "stdout",
     "output_type": "stream",
     "text": [
      "Healpix slicer using NSIDE=64, approximate resolution 54.967783 arcminutes\n"
     ]
    },
    {
     "name": "stderr",
     "output_type": "stream",
     "text": [
      "/opt/lsst/software/stack/conda/miniconda3-py38_4.9.2/envs/lsst-scipipe-7.0.1/lib/python3.11/site-packages/rubin_sim/maf/maps/dust_map.py:44: UserWarning: Slicer value of nside 64 different from map value 128, using slicer value\n",
      "  warnings.warn(\n"
     ]
    },
    {
     "name": "stdout",
     "output_type": "stream",
     "text": [
      "Healpix slicer using NSIDE=64, approximate resolution 54.967783 arcminutes\n"
     ]
    },
    {
     "name": "stderr",
     "output_type": "stream",
     "text": [
      "/opt/lsst/software/stack/conda/miniconda3-py38_4.9.2/envs/lsst-scipipe-7.0.1/lib/python3.11/site-packages/rubin_sim/maf/maps/dust_map.py:44: UserWarning: Slicer value of nside 64 different from map value 128, using slicer value\n",
      "  warnings.warn(\n"
     ]
    },
    {
     "name": "stdout",
     "output_type": "stream",
     "text": [
      "Healpix slicer using NSIDE=64, approximate resolution 54.967783 arcminutes\n"
     ]
    },
    {
     "name": "stderr",
     "output_type": "stream",
     "text": [
      "/opt/lsst/software/stack/conda/miniconda3-py38_4.9.2/envs/lsst-scipipe-7.0.1/lib/python3.11/site-packages/rubin_sim/maf/maps/dust_map.py:44: UserWarning: Slicer value of nside 64 different from map value 128, using slicer value\n",
      "  warnings.warn(\n"
     ]
    },
    {
     "name": "stdout",
     "output_type": "stream",
     "text": [
      "Healpix slicer using NSIDE=64, approximate resolution 54.967783 arcminutes\n"
     ]
    },
    {
     "name": "stderr",
     "output_type": "stream",
     "text": [
      "/opt/lsst/software/stack/conda/miniconda3-py38_4.9.2/envs/lsst-scipipe-7.0.1/lib/python3.11/site-packages/rubin_sim/maf/maps/dust_map.py:44: UserWarning: Slicer value of nside 64 different from map value 128, using slicer value\n",
      "  warnings.warn(\n"
     ]
    },
    {
     "name": "stdout",
     "output_type": "stream",
     "text": [
      "Healpix slicer using NSIDE=64, approximate resolution 54.967783 arcminutes\n"
     ]
    },
    {
     "name": "stderr",
     "output_type": "stream",
     "text": [
      "/opt/lsst/software/stack/conda/miniconda3-py38_4.9.2/envs/lsst-scipipe-7.0.1/lib/python3.11/site-packages/rubin_sim/maf/maps/dust_map.py:44: UserWarning: Slicer value of nside 64 different from map value 128, using slicer value\n",
      "  warnings.warn(\n"
     ]
    },
    {
     "name": "stdout",
     "output_type": "stream",
     "text": [
      "Healpix slicer using NSIDE=64, approximate resolution 54.967783 arcminutes\n"
     ]
    },
    {
     "name": "stderr",
     "output_type": "stream",
     "text": [
      "/opt/lsst/software/stack/conda/miniconda3-py38_4.9.2/envs/lsst-scipipe-7.0.1/lib/python3.11/site-packages/rubin_sim/maf/maps/dust_map.py:44: UserWarning: Slicer value of nside 64 different from map value 128, using slicer value\n",
      "  warnings.warn(\n"
     ]
    },
    {
     "name": "stdout",
     "output_type": "stream",
     "text": [
      "Healpix slicer using NSIDE=64, approximate resolution 54.967783 arcminutes\n"
     ]
    },
    {
     "name": "stderr",
     "output_type": "stream",
     "text": [
      "/opt/lsst/software/stack/conda/miniconda3-py38_4.9.2/envs/lsst-scipipe-7.0.1/lib/python3.11/site-packages/rubin_sim/maf/maps/dust_map.py:44: UserWarning: Slicer value of nside 64 different from map value 128, using slicer value\n",
      "  warnings.warn(\n"
     ]
    },
    {
     "name": "stdout",
     "output_type": "stream",
     "text": [
      "Healpix slicer using NSIDE=64, approximate resolution 54.967783 arcminutes\n"
     ]
    },
    {
     "name": "stderr",
     "output_type": "stream",
     "text": [
      "/opt/lsst/software/stack/conda/miniconda3-py38_4.9.2/envs/lsst-scipipe-7.0.1/lib/python3.11/site-packages/rubin_sim/maf/maps/dust_map.py:44: UserWarning: Slicer value of nside 64 different from map value 128, using slicer value\n",
      "  warnings.warn(\n"
     ]
    },
    {
     "name": "stdout",
     "output_type": "stream",
     "text": [
      "Healpix slicer using NSIDE=64, approximate resolution 54.967783 arcminutes\n"
     ]
    },
    {
     "name": "stderr",
     "output_type": "stream",
     "text": [
      "/opt/lsst/software/stack/conda/miniconda3-py38_4.9.2/envs/lsst-scipipe-7.0.1/lib/python3.11/site-packages/rubin_sim/maf/maps/dust_map.py:44: UserWarning: Slicer value of nside 64 different from map value 128, using slicer value\n",
      "  warnings.warn(\n"
     ]
    },
    {
     "name": "stdout",
     "output_type": "stream",
     "text": [
      "Healpix slicer using NSIDE=64, approximate resolution 54.967783 arcminutes\n"
     ]
    },
    {
     "name": "stderr",
     "output_type": "stream",
     "text": [
      "/opt/lsst/software/stack/conda/miniconda3-py38_4.9.2/envs/lsst-scipipe-7.0.1/lib/python3.11/site-packages/rubin_sim/maf/maps/dust_map.py:44: UserWarning: Slicer value of nside 64 different from map value 128, using slicer value\n",
      "  warnings.warn(\n"
     ]
    },
    {
     "name": "stdout",
     "output_type": "stream",
     "text": [
      "Healpix slicer using NSIDE=64, approximate resolution 54.967783 arcminutes\n"
     ]
    },
    {
     "name": "stderr",
     "output_type": "stream",
     "text": [
      "/opt/lsst/software/stack/conda/miniconda3-py38_4.9.2/envs/lsst-scipipe-7.0.1/lib/python3.11/site-packages/rubin_sim/maf/maps/dust_map.py:44: UserWarning: Slicer value of nside 64 different from map value 128, using slicer value\n",
      "  warnings.warn(\n"
     ]
    },
    {
     "name": "stdout",
     "output_type": "stream",
     "text": [
      "Healpix slicer using NSIDE=64, approximate resolution 54.967783 arcminutes\n"
     ]
    },
    {
     "name": "stderr",
     "output_type": "stream",
     "text": [
      "/opt/lsst/software/stack/conda/miniconda3-py38_4.9.2/envs/lsst-scipipe-7.0.1/lib/python3.11/site-packages/rubin_sim/maf/maps/dust_map.py:44: UserWarning: Slicer value of nside 64 different from map value 128, using slicer value\n",
      "  warnings.warn(\n"
     ]
    },
    {
     "name": "stdout",
     "output_type": "stream",
     "text": [
      "Healpix slicer using NSIDE=64, approximate resolution 54.967783 arcminutes\n"
     ]
    },
    {
     "name": "stderr",
     "output_type": "stream",
     "text": [
      "/opt/lsst/software/stack/conda/miniconda3-py38_4.9.2/envs/lsst-scipipe-7.0.1/lib/python3.11/site-packages/rubin_sim/maf/maps/dust_map.py:44: UserWarning: Slicer value of nside 64 different from map value 128, using slicer value\n",
      "  warnings.warn(\n"
     ]
    },
    {
     "name": "stdout",
     "output_type": "stream",
     "text": [
      "Healpix slicer using NSIDE=64, approximate resolution 54.967783 arcminutes\n"
     ]
    },
    {
     "name": "stderr",
     "output_type": "stream",
     "text": [
      "/opt/lsst/software/stack/conda/miniconda3-py38_4.9.2/envs/lsst-scipipe-7.0.1/lib/python3.11/site-packages/rubin_sim/maf/maps/dust_map.py:44: UserWarning: Slicer value of nside 64 different from map value 128, using slicer value\n",
      "  warnings.warn(\n"
     ]
    },
    {
     "name": "stdout",
     "output_type": "stream",
     "text": [
      "Healpix slicer using NSIDE=64, approximate resolution 54.967783 arcminutes\n"
     ]
    },
    {
     "name": "stderr",
     "output_type": "stream",
     "text": [
      "/opt/lsst/software/stack/conda/miniconda3-py38_4.9.2/envs/lsst-scipipe-7.0.1/lib/python3.11/site-packages/rubin_sim/maf/maps/dust_map.py:44: UserWarning: Slicer value of nside 64 different from map value 128, using slicer value\n",
      "  warnings.warn(\n"
     ]
    },
    {
     "name": "stdout",
     "output_type": "stream",
     "text": [
      "Healpix slicer using NSIDE=64, approximate resolution 54.967783 arcminutes\n"
     ]
    },
    {
     "name": "stderr",
     "output_type": "stream",
     "text": [
      "/opt/lsst/software/stack/conda/miniconda3-py38_4.9.2/envs/lsst-scipipe-7.0.1/lib/python3.11/site-packages/rubin_sim/maf/maps/dust_map.py:44: UserWarning: Slicer value of nside 64 different from map value 128, using slicer value\n",
      "  warnings.warn(\n"
     ]
    },
    {
     "name": "stdout",
     "output_type": "stream",
     "text": [
      "Healpix slicer using NSIDE=64, approximate resolution 54.967783 arcminutes\n"
     ]
    },
    {
     "name": "stderr",
     "output_type": "stream",
     "text": [
      "/opt/lsst/software/stack/conda/miniconda3-py38_4.9.2/envs/lsst-scipipe-7.0.1/lib/python3.11/site-packages/rubin_sim/maf/maps/dust_map.py:44: UserWarning: Slicer value of nside 64 different from map value 128, using slicer value\n",
      "  warnings.warn(\n"
     ]
    },
    {
     "name": "stdout",
     "output_type": "stream",
     "text": [
      "Healpix slicer using NSIDE=64, approximate resolution 54.967783 arcminutes\n"
     ]
    },
    {
     "name": "stderr",
     "output_type": "stream",
     "text": [
      "/opt/lsst/software/stack/conda/miniconda3-py38_4.9.2/envs/lsst-scipipe-7.0.1/lib/python3.11/site-packages/rubin_sim/maf/maps/dust_map.py:44: UserWarning: Slicer value of nside 64 different from map value 128, using slicer value\n",
      "  warnings.warn(\n"
     ]
    },
    {
     "name": "stdout",
     "output_type": "stream",
     "text": [
      "Healpix slicer using NSIDE=64, approximate resolution 54.967783 arcminutes\n"
     ]
    },
    {
     "name": "stderr",
     "output_type": "stream",
     "text": [
      "/opt/lsst/software/stack/conda/miniconda3-py38_4.9.2/envs/lsst-scipipe-7.0.1/lib/python3.11/site-packages/rubin_sim/maf/maps/dust_map.py:44: UserWarning: Slicer value of nside 64 different from map value 128, using slicer value\n",
      "  warnings.warn(\n"
     ]
    },
    {
     "name": "stdout",
     "output_type": "stream",
     "text": [
      "Healpix slicer using NSIDE=64, approximate resolution 54.967783 arcminutes\n"
     ]
    },
    {
     "name": "stderr",
     "output_type": "stream",
     "text": [
      "/opt/lsst/software/stack/conda/miniconda3-py38_4.9.2/envs/lsst-scipipe-7.0.1/lib/python3.11/site-packages/rubin_sim/maf/maps/dust_map.py:44: UserWarning: Slicer value of nside 64 different from map value 128, using slicer value\n",
      "  warnings.warn(\n"
     ]
    },
    {
     "name": "stdout",
     "output_type": "stream",
     "text": [
      "Healpix slicer using NSIDE=64, approximate resolution 54.967783 arcminutes\n"
     ]
    },
    {
     "name": "stderr",
     "output_type": "stream",
     "text": [
      "/opt/lsst/software/stack/conda/miniconda3-py38_4.9.2/envs/lsst-scipipe-7.0.1/lib/python3.11/site-packages/rubin_sim/maf/maps/dust_map.py:44: UserWarning: Slicer value of nside 64 different from map value 128, using slicer value\n",
      "  warnings.warn(\n"
     ]
    },
    {
     "name": "stdout",
     "output_type": "stream",
     "text": [
      "Healpix slicer using NSIDE=64, approximate resolution 54.967783 arcminutes\n"
     ]
    },
    {
     "name": "stderr",
     "output_type": "stream",
     "text": [
      "/opt/lsst/software/stack/conda/miniconda3-py38_4.9.2/envs/lsst-scipipe-7.0.1/lib/python3.11/site-packages/rubin_sim/maf/maps/dust_map.py:44: UserWarning: Slicer value of nside 64 different from map value 128, using slicer value\n",
      "  warnings.warn(\n"
     ]
    },
    {
     "name": "stdout",
     "output_type": "stream",
     "text": [
      "Healpix slicer using NSIDE=64, approximate resolution 54.967783 arcminutes\n"
     ]
    },
    {
     "name": "stderr",
     "output_type": "stream",
     "text": [
      "/opt/lsst/software/stack/conda/miniconda3-py38_4.9.2/envs/lsst-scipipe-7.0.1/lib/python3.11/site-packages/rubin_sim/maf/maps/dust_map.py:44: UserWarning: Slicer value of nside 64 different from map value 128, using slicer value\n",
      "  warnings.warn(\n"
     ]
    },
    {
     "name": "stdout",
     "output_type": "stream",
     "text": [
      "Healpix slicer using NSIDE=64, approximate resolution 54.967783 arcminutes\n"
     ]
    },
    {
     "name": "stderr",
     "output_type": "stream",
     "text": [
      "/opt/lsst/software/stack/conda/miniconda3-py38_4.9.2/envs/lsst-scipipe-7.0.1/lib/python3.11/site-packages/rubin_sim/maf/maps/dust_map.py:44: UserWarning: Slicer value of nside 64 different from map value 128, using slicer value\n",
      "  warnings.warn(\n"
     ]
    },
    {
     "name": "stdout",
     "output_type": "stream",
     "text": [
      "Healpix slicer using NSIDE=64, approximate resolution 54.967783 arcminutes\n"
     ]
    },
    {
     "name": "stderr",
     "output_type": "stream",
     "text": [
      "/opt/lsst/software/stack/conda/miniconda3-py38_4.9.2/envs/lsst-scipipe-7.0.1/lib/python3.11/site-packages/rubin_sim/maf/maps/dust_map.py:44: UserWarning: Slicer value of nside 64 different from map value 128, using slicer value\n",
      "  warnings.warn(\n"
     ]
    },
    {
     "name": "stdout",
     "output_type": "stream",
     "text": [
      "Healpix slicer using NSIDE=64, approximate resolution 54.967783 arcminutes\n"
     ]
    },
    {
     "name": "stderr",
     "output_type": "stream",
     "text": [
      "/opt/lsst/software/stack/conda/miniconda3-py38_4.9.2/envs/lsst-scipipe-7.0.1/lib/python3.11/site-packages/rubin_sim/maf/maps/dust_map.py:44: UserWarning: Slicer value of nside 64 different from map value 128, using slicer value\n",
      "  warnings.warn(\n"
     ]
    },
    {
     "name": "stdout",
     "output_type": "stream",
     "text": [
      "Healpix slicer using NSIDE=64, approximate resolution 54.967783 arcminutes\n"
     ]
    },
    {
     "name": "stderr",
     "output_type": "stream",
     "text": [
      "/opt/lsst/software/stack/conda/miniconda3-py38_4.9.2/envs/lsst-scipipe-7.0.1/lib/python3.11/site-packages/rubin_sim/maf/maps/dust_map.py:44: UserWarning: Slicer value of nside 64 different from map value 128, using slicer value\n",
      "  warnings.warn(\n"
     ]
    },
    {
     "name": "stdout",
     "output_type": "stream",
     "text": [
      "Healpix slicer using NSIDE=64, approximate resolution 54.967783 arcminutes\n"
     ]
    },
    {
     "name": "stderr",
     "output_type": "stream",
     "text": [
      "/opt/lsst/software/stack/conda/miniconda3-py38_4.9.2/envs/lsst-scipipe-7.0.1/lib/python3.11/site-packages/rubin_sim/maf/maps/dust_map.py:44: UserWarning: Slicer value of nside 64 different from map value 128, using slicer value\n",
      "  warnings.warn(\n"
     ]
    },
    {
     "name": "stdout",
     "output_type": "stream",
     "text": [
      "Healpix slicer using NSIDE=64, approximate resolution 54.967783 arcminutes\n"
     ]
    },
    {
     "name": "stderr",
     "output_type": "stream",
     "text": [
      "/opt/lsst/software/stack/conda/miniconda3-py38_4.9.2/envs/lsst-scipipe-7.0.1/lib/python3.11/site-packages/rubin_sim/maf/maps/dust_map.py:44: UserWarning: Slicer value of nside 64 different from map value 128, using slicer value\n",
      "  warnings.warn(\n"
     ]
    },
    {
     "name": "stdout",
     "output_type": "stream",
     "text": [
      "Healpix slicer using NSIDE=64, approximate resolution 54.967783 arcminutes\n"
     ]
    },
    {
     "name": "stderr",
     "output_type": "stream",
     "text": [
      "/opt/lsst/software/stack/conda/miniconda3-py38_4.9.2/envs/lsst-scipipe-7.0.1/lib/python3.11/site-packages/rubin_sim/maf/maps/dust_map.py:44: UserWarning: Slicer value of nside 64 different from map value 128, using slicer value\n",
      "  warnings.warn(\n"
     ]
    },
    {
     "name": "stdout",
     "output_type": "stream",
     "text": [
      "Healpix slicer using NSIDE=64, approximate resolution 54.967783 arcminutes\n"
     ]
    },
    {
     "name": "stderr",
     "output_type": "stream",
     "text": [
      "/opt/lsst/software/stack/conda/miniconda3-py38_4.9.2/envs/lsst-scipipe-7.0.1/lib/python3.11/site-packages/rubin_sim/maf/maps/dust_map.py:44: UserWarning: Slicer value of nside 64 different from map value 128, using slicer value\n",
      "  warnings.warn(\n"
     ]
    },
    {
     "name": "stdout",
     "output_type": "stream",
     "text": [
      "Healpix slicer using NSIDE=64, approximate resolution 54.967783 arcminutes\n"
     ]
    },
    {
     "name": "stderr",
     "output_type": "stream",
     "text": [
      "/opt/lsst/software/stack/conda/miniconda3-py38_4.9.2/envs/lsst-scipipe-7.0.1/lib/python3.11/site-packages/rubin_sim/maf/maps/dust_map.py:44: UserWarning: Slicer value of nside 64 different from map value 128, using slicer value\n",
      "  warnings.warn(\n"
     ]
    },
    {
     "name": "stdout",
     "output_type": "stream",
     "text": [
      "Healpix slicer using NSIDE=64, approximate resolution 54.967783 arcminutes\n"
     ]
    },
    {
     "name": "stderr",
     "output_type": "stream",
     "text": [
      "/opt/lsst/software/stack/conda/miniconda3-py38_4.9.2/envs/lsst-scipipe-7.0.1/lib/python3.11/site-packages/rubin_sim/maf/maps/dust_map.py:44: UserWarning: Slicer value of nside 64 different from map value 128, using slicer value\n",
      "  warnings.warn(\n"
     ]
    },
    {
     "name": "stdout",
     "output_type": "stream",
     "text": [
      "Healpix slicer using NSIDE=64, approximate resolution 54.967783 arcminutes\n"
     ]
    },
    {
     "name": "stderr",
     "output_type": "stream",
     "text": [
      "/opt/lsst/software/stack/conda/miniconda3-py38_4.9.2/envs/lsst-scipipe-7.0.1/lib/python3.11/site-packages/rubin_sim/maf/maps/dust_map.py:44: UserWarning: Slicer value of nside 64 different from map value 128, using slicer value\n",
      "  warnings.warn(\n"
     ]
    },
    {
     "name": "stdout",
     "output_type": "stream",
     "text": [
      "Healpix slicer using NSIDE=64, approximate resolution 54.967783 arcminutes\n"
     ]
    },
    {
     "name": "stderr",
     "output_type": "stream",
     "text": [
      "/opt/lsst/software/stack/conda/miniconda3-py38_4.9.2/envs/lsst-scipipe-7.0.1/lib/python3.11/site-packages/rubin_sim/maf/maps/dust_map.py:44: UserWarning: Slicer value of nside 64 different from map value 128, using slicer value\n",
      "  warnings.warn(\n"
     ]
    },
    {
     "name": "stdout",
     "output_type": "stream",
     "text": [
      "Healpix slicer using NSIDE=64, approximate resolution 54.967783 arcminutes\n"
     ]
    },
    {
     "name": "stderr",
     "output_type": "stream",
     "text": [
      "/opt/lsst/software/stack/conda/miniconda3-py38_4.9.2/envs/lsst-scipipe-7.0.1/lib/python3.11/site-packages/rubin_sim/maf/maps/dust_map.py:44: UserWarning: Slicer value of nside 64 different from map value 128, using slicer value\n",
      "  warnings.warn(\n"
     ]
    },
    {
     "name": "stdout",
     "output_type": "stream",
     "text": [
      "Healpix slicer using NSIDE=64, approximate resolution 54.967783 arcminutes\n"
     ]
    },
    {
     "name": "stderr",
     "output_type": "stream",
     "text": [
      "/opt/lsst/software/stack/conda/miniconda3-py38_4.9.2/envs/lsst-scipipe-7.0.1/lib/python3.11/site-packages/rubin_sim/maf/maps/dust_map.py:44: UserWarning: Slicer value of nside 64 different from map value 128, using slicer value\n",
      "  warnings.warn(\n"
     ]
    },
    {
     "name": "stdout",
     "output_type": "stream",
     "text": [
      "Healpix slicer using NSIDE=64, approximate resolution 54.967783 arcminutes\n"
     ]
    },
    {
     "name": "stderr",
     "output_type": "stream",
     "text": [
      "/opt/lsst/software/stack/conda/miniconda3-py38_4.9.2/envs/lsst-scipipe-7.0.1/lib/python3.11/site-packages/rubin_sim/maf/maps/dust_map.py:44: UserWarning: Slicer value of nside 64 different from map value 128, using slicer value\n",
      "  warnings.warn(\n"
     ]
    },
    {
     "name": "stdout",
     "output_type": "stream",
     "text": [
      "Healpix slicer using NSIDE=64, approximate resolution 54.967783 arcminutes\n"
     ]
    },
    {
     "name": "stderr",
     "output_type": "stream",
     "text": [
      "/opt/lsst/software/stack/conda/miniconda3-py38_4.9.2/envs/lsst-scipipe-7.0.1/lib/python3.11/site-packages/rubin_sim/maf/maps/dust_map.py:44: UserWarning: Slicer value of nside 64 different from map value 128, using slicer value\n",
      "  warnings.warn(\n"
     ]
    },
    {
     "name": "stdout",
     "output_type": "stream",
     "text": [
      "Healpix slicer using NSIDE=64, approximate resolution 54.967783 arcminutes\n"
     ]
    },
    {
     "name": "stderr",
     "output_type": "stream",
     "text": [
      "/opt/lsst/software/stack/conda/miniconda3-py38_4.9.2/envs/lsst-scipipe-7.0.1/lib/python3.11/site-packages/rubin_sim/maf/maps/dust_map.py:44: UserWarning: Slicer value of nside 64 different from map value 128, using slicer value\n",
      "  warnings.warn(\n"
     ]
    },
    {
     "name": "stdout",
     "output_type": "stream",
     "text": [
      "Healpix slicer using NSIDE=64, approximate resolution 54.967783 arcminutes\n"
     ]
    },
    {
     "name": "stderr",
     "output_type": "stream",
     "text": [
      "/opt/lsst/software/stack/conda/miniconda3-py38_4.9.2/envs/lsst-scipipe-7.0.1/lib/python3.11/site-packages/rubin_sim/maf/maps/dust_map.py:44: UserWarning: Slicer value of nside 64 different from map value 128, using slicer value\n",
      "  warnings.warn(\n"
     ]
    },
    {
     "name": "stdout",
     "output_type": "stream",
     "text": [
      "Healpix slicer using NSIDE=64, approximate resolution 54.967783 arcminutes\n"
     ]
    },
    {
     "name": "stderr",
     "output_type": "stream",
     "text": [
      "/opt/lsst/software/stack/conda/miniconda3-py38_4.9.2/envs/lsst-scipipe-7.0.1/lib/python3.11/site-packages/rubin_sim/maf/maps/dust_map.py:44: UserWarning: Slicer value of nside 64 different from map value 128, using slicer value\n",
      "  warnings.warn(\n"
     ]
    },
    {
     "name": "stdout",
     "output_type": "stream",
     "text": [
      "Healpix slicer using NSIDE=64, approximate resolution 54.967783 arcminutes\n"
     ]
    },
    {
     "name": "stderr",
     "output_type": "stream",
     "text": [
      "/opt/lsst/software/stack/conda/miniconda3-py38_4.9.2/envs/lsst-scipipe-7.0.1/lib/python3.11/site-packages/rubin_sim/maf/maps/dust_map.py:44: UserWarning: Slicer value of nside 64 different from map value 128, using slicer value\n",
      "  warnings.warn(\n"
     ]
    },
    {
     "name": "stdout",
     "output_type": "stream",
     "text": [
      "Healpix slicer using NSIDE=64, approximate resolution 54.967783 arcminutes\n"
     ]
    },
    {
     "name": "stderr",
     "output_type": "stream",
     "text": [
      "/opt/lsst/software/stack/conda/miniconda3-py38_4.9.2/envs/lsst-scipipe-7.0.1/lib/python3.11/site-packages/rubin_sim/maf/maps/dust_map.py:44: UserWarning: Slicer value of nside 64 different from map value 128, using slicer value\n",
      "  warnings.warn(\n"
     ]
    },
    {
     "name": "stdout",
     "output_type": "stream",
     "text": [
      "Healpix slicer using NSIDE=64, approximate resolution 54.967783 arcminutes\n"
     ]
    },
    {
     "name": "stderr",
     "output_type": "stream",
     "text": [
      "/opt/lsst/software/stack/conda/miniconda3-py38_4.9.2/envs/lsst-scipipe-7.0.1/lib/python3.11/site-packages/rubin_sim/maf/maps/dust_map.py:44: UserWarning: Slicer value of nside 64 different from map value 128, using slicer value\n",
      "  warnings.warn(\n"
     ]
    },
    {
     "name": "stdout",
     "output_type": "stream",
     "text": [
      "Healpix slicer using NSIDE=64, approximate resolution 54.967783 arcminutes\n"
     ]
    },
    {
     "name": "stderr",
     "output_type": "stream",
     "text": [
      "/opt/lsst/software/stack/conda/miniconda3-py38_4.9.2/envs/lsst-scipipe-7.0.1/lib/python3.11/site-packages/rubin_sim/maf/maps/dust_map.py:44: UserWarning: Slicer value of nside 64 different from map value 128, using slicer value\n",
      "  warnings.warn(\n"
     ]
    },
    {
     "name": "stdout",
     "output_type": "stream",
     "text": [
      "Healpix slicer using NSIDE=64, approximate resolution 54.967783 arcminutes\n"
     ]
    },
    {
     "name": "stderr",
     "output_type": "stream",
     "text": [
      "/opt/lsst/software/stack/conda/miniconda3-py38_4.9.2/envs/lsst-scipipe-7.0.1/lib/python3.11/site-packages/rubin_sim/maf/maps/dust_map.py:44: UserWarning: Slicer value of nside 64 different from map value 128, using slicer value\n",
      "  warnings.warn(\n"
     ]
    },
    {
     "name": "stdout",
     "output_type": "stream",
     "text": [
      "Healpix slicer using NSIDE=64, approximate resolution 54.967783 arcminutes\n"
     ]
    },
    {
     "name": "stderr",
     "output_type": "stream",
     "text": [
      "/opt/lsst/software/stack/conda/miniconda3-py38_4.9.2/envs/lsst-scipipe-7.0.1/lib/python3.11/site-packages/rubin_sim/maf/maps/dust_map.py:44: UserWarning: Slicer value of nside 64 different from map value 128, using slicer value\n",
      "  warnings.warn(\n"
     ]
    },
    {
     "name": "stdout",
     "output_type": "stream",
     "text": [
      "Healpix slicer using NSIDE=64, approximate resolution 54.967783 arcminutes\n"
     ]
    },
    {
     "name": "stderr",
     "output_type": "stream",
     "text": [
      "/opt/lsst/software/stack/conda/miniconda3-py38_4.9.2/envs/lsst-scipipe-7.0.1/lib/python3.11/site-packages/rubin_sim/maf/maps/dust_map.py:44: UserWarning: Slicer value of nside 64 different from map value 128, using slicer value\n",
      "  warnings.warn(\n"
     ]
    },
    {
     "name": "stdout",
     "output_type": "stream",
     "text": [
      "Healpix slicer using NSIDE=64, approximate resolution 54.967783 arcminutes\n"
     ]
    },
    {
     "name": "stderr",
     "output_type": "stream",
     "text": [
      "/opt/lsst/software/stack/conda/miniconda3-py38_4.9.2/envs/lsst-scipipe-7.0.1/lib/python3.11/site-packages/rubin_sim/maf/maps/dust_map.py:44: UserWarning: Slicer value of nside 64 different from map value 128, using slicer value\n",
      "  warnings.warn(\n"
     ]
    },
    {
     "name": "stdout",
     "output_type": "stream",
     "text": [
      "Healpix slicer using NSIDE=64, approximate resolution 54.967783 arcminutes\n"
     ]
    },
    {
     "name": "stderr",
     "output_type": "stream",
     "text": [
      "/opt/lsst/software/stack/conda/miniconda3-py38_4.9.2/envs/lsst-scipipe-7.0.1/lib/python3.11/site-packages/rubin_sim/maf/maps/dust_map.py:44: UserWarning: Slicer value of nside 64 different from map value 128, using slicer value\n",
      "  warnings.warn(\n"
     ]
    },
    {
     "name": "stdout",
     "output_type": "stream",
     "text": [
      "Healpix slicer using NSIDE=64, approximate resolution 54.967783 arcminutes\n"
     ]
    },
    {
     "name": "stderr",
     "output_type": "stream",
     "text": [
      "/opt/lsst/software/stack/conda/miniconda3-py38_4.9.2/envs/lsst-scipipe-7.0.1/lib/python3.11/site-packages/rubin_sim/maf/maps/dust_map.py:44: UserWarning: Slicer value of nside 64 different from map value 128, using slicer value\n",
      "  warnings.warn(\n"
     ]
    },
    {
     "name": "stdout",
     "output_type": "stream",
     "text": [
      "Healpix slicer using NSIDE=64, approximate resolution 54.967783 arcminutes\n"
     ]
    },
    {
     "name": "stderr",
     "output_type": "stream",
     "text": [
      "/opt/lsst/software/stack/conda/miniconda3-py38_4.9.2/envs/lsst-scipipe-7.0.1/lib/python3.11/site-packages/rubin_sim/maf/maps/dust_map.py:44: UserWarning: Slicer value of nside 64 different from map value 128, using slicer value\n",
      "  warnings.warn(\n"
     ]
    },
    {
     "name": "stdout",
     "output_type": "stream",
     "text": [
      "Healpix slicer using NSIDE=64, approximate resolution 54.967783 arcminutes\n"
     ]
    },
    {
     "name": "stderr",
     "output_type": "stream",
     "text": [
      "/opt/lsst/software/stack/conda/miniconda3-py38_4.9.2/envs/lsst-scipipe-7.0.1/lib/python3.11/site-packages/rubin_sim/maf/maps/dust_map.py:44: UserWarning: Slicer value of nside 64 different from map value 128, using slicer value\n",
      "  warnings.warn(\n"
     ]
    },
    {
     "name": "stdout",
     "output_type": "stream",
     "text": [
      "Healpix slicer using NSIDE=64, approximate resolution 54.967783 arcminutes\n"
     ]
    },
    {
     "name": "stderr",
     "output_type": "stream",
     "text": [
      "/opt/lsst/software/stack/conda/miniconda3-py38_4.9.2/envs/lsst-scipipe-7.0.1/lib/python3.11/site-packages/rubin_sim/maf/maps/dust_map.py:44: UserWarning: Slicer value of nside 64 different from map value 128, using slicer value\n",
      "  warnings.warn(\n"
     ]
    },
    {
     "name": "stdout",
     "output_type": "stream",
     "text": [
      "Healpix slicer using NSIDE=64, approximate resolution 54.967783 arcminutes\n"
     ]
    },
    {
     "name": "stderr",
     "output_type": "stream",
     "text": [
      "/opt/lsst/software/stack/conda/miniconda3-py38_4.9.2/envs/lsst-scipipe-7.0.1/lib/python3.11/site-packages/rubin_sim/maf/maps/dust_map.py:44: UserWarning: Slicer value of nside 64 different from map value 128, using slicer value\n",
      "  warnings.warn(\n"
     ]
    },
    {
     "name": "stdout",
     "output_type": "stream",
     "text": [
      "Healpix slicer using NSIDE=64, approximate resolution 54.967783 arcminutes\n"
     ]
    },
    {
     "name": "stderr",
     "output_type": "stream",
     "text": [
      "/opt/lsst/software/stack/conda/miniconda3-py38_4.9.2/envs/lsst-scipipe-7.0.1/lib/python3.11/site-packages/rubin_sim/maf/maps/dust_map.py:44: UserWarning: Slicer value of nside 64 different from map value 128, using slicer value\n",
      "  warnings.warn(\n"
     ]
    },
    {
     "name": "stdout",
     "output_type": "stream",
     "text": [
      "Healpix slicer using NSIDE=64, approximate resolution 54.967783 arcminutes\n"
     ]
    },
    {
     "name": "stderr",
     "output_type": "stream",
     "text": [
      "/opt/lsst/software/stack/conda/miniconda3-py38_4.9.2/envs/lsst-scipipe-7.0.1/lib/python3.11/site-packages/rubin_sim/maf/maps/dust_map.py:44: UserWarning: Slicer value of nside 64 different from map value 128, using slicer value\n",
      "  warnings.warn(\n"
     ]
    },
    {
     "name": "stdout",
     "output_type": "stream",
     "text": [
      "Healpix slicer using NSIDE=64, approximate resolution 54.967783 arcminutes\n"
     ]
    },
    {
     "name": "stderr",
     "output_type": "stream",
     "text": [
      "/opt/lsst/software/stack/conda/miniconda3-py38_4.9.2/envs/lsst-scipipe-7.0.1/lib/python3.11/site-packages/rubin_sim/maf/maps/dust_map.py:44: UserWarning: Slicer value of nside 64 different from map value 128, using slicer value\n",
      "  warnings.warn(\n"
     ]
    },
    {
     "name": "stdout",
     "output_type": "stream",
     "text": [
      "Healpix slicer using NSIDE=64, approximate resolution 54.967783 arcminutes\n"
     ]
    },
    {
     "name": "stderr",
     "output_type": "stream",
     "text": [
      "/opt/lsst/software/stack/conda/miniconda3-py38_4.9.2/envs/lsst-scipipe-7.0.1/lib/python3.11/site-packages/rubin_sim/maf/maps/dust_map.py:44: UserWarning: Slicer value of nside 64 different from map value 128, using slicer value\n",
      "  warnings.warn(\n"
     ]
    },
    {
     "name": "stdout",
     "output_type": "stream",
     "text": [
      "Healpix slicer using NSIDE=64, approximate resolution 54.967783 arcminutes\n"
     ]
    },
    {
     "name": "stderr",
     "output_type": "stream",
     "text": [
      "/opt/lsst/software/stack/conda/miniconda3-py38_4.9.2/envs/lsst-scipipe-7.0.1/lib/python3.11/site-packages/rubin_sim/maf/maps/dust_map.py:44: UserWarning: Slicer value of nside 64 different from map value 128, using slicer value\n",
      "  warnings.warn(\n"
     ]
    },
    {
     "name": "stdout",
     "output_type": "stream",
     "text": [
      "Healpix slicer using NSIDE=64, approximate resolution 54.967783 arcminutes\n"
     ]
    },
    {
     "name": "stderr",
     "output_type": "stream",
     "text": [
      "/opt/lsst/software/stack/conda/miniconda3-py38_4.9.2/envs/lsst-scipipe-7.0.1/lib/python3.11/site-packages/rubin_sim/maf/maps/dust_map.py:44: UserWarning: Slicer value of nside 64 different from map value 128, using slicer value\n",
      "  warnings.warn(\n"
     ]
    },
    {
     "name": "stdout",
     "output_type": "stream",
     "text": [
      "Healpix slicer using NSIDE=64, approximate resolution 54.967783 arcminutes\n"
     ]
    },
    {
     "name": "stderr",
     "output_type": "stream",
     "text": [
      "/opt/lsst/software/stack/conda/miniconda3-py38_4.9.2/envs/lsst-scipipe-7.0.1/lib/python3.11/site-packages/rubin_sim/maf/maps/dust_map.py:44: UserWarning: Slicer value of nside 64 different from map value 128, using slicer value\n",
      "  warnings.warn(\n"
     ]
    },
    {
     "name": "stdout",
     "output_type": "stream",
     "text": [
      "Healpix slicer using NSIDE=64, approximate resolution 54.967783 arcminutes\n"
     ]
    },
    {
     "name": "stderr",
     "output_type": "stream",
     "text": [
      "/opt/lsst/software/stack/conda/miniconda3-py38_4.9.2/envs/lsst-scipipe-7.0.1/lib/python3.11/site-packages/rubin_sim/maf/maps/dust_map.py:44: UserWarning: Slicer value of nside 64 different from map value 128, using slicer value\n",
      "  warnings.warn(\n"
     ]
    },
    {
     "name": "stdout",
     "output_type": "stream",
     "text": [
      "Healpix slicer using NSIDE=64, approximate resolution 54.967783 arcminutes\n"
     ]
    },
    {
     "name": "stderr",
     "output_type": "stream",
     "text": [
      "/opt/lsst/software/stack/conda/miniconda3-py38_4.9.2/envs/lsst-scipipe-7.0.1/lib/python3.11/site-packages/rubin_sim/maf/maps/dust_map.py:44: UserWarning: Slicer value of nside 64 different from map value 128, using slicer value\n",
      "  warnings.warn(\n"
     ]
    },
    {
     "name": "stdout",
     "output_type": "stream",
     "text": [
      "Healpix slicer using NSIDE=64, approximate resolution 54.967783 arcminutes\n"
     ]
    },
    {
     "name": "stderr",
     "output_type": "stream",
     "text": [
      "/opt/lsst/software/stack/conda/miniconda3-py38_4.9.2/envs/lsst-scipipe-7.0.1/lib/python3.11/site-packages/rubin_sim/maf/maps/dust_map.py:44: UserWarning: Slicer value of nside 64 different from map value 128, using slicer value\n",
      "  warnings.warn(\n"
     ]
    },
    {
     "name": "stdout",
     "output_type": "stream",
     "text": [
      "Healpix slicer using NSIDE=64, approximate resolution 54.967783 arcminutes\n"
     ]
    },
    {
     "name": "stderr",
     "output_type": "stream",
     "text": [
      "/opt/lsst/software/stack/conda/miniconda3-py38_4.9.2/envs/lsst-scipipe-7.0.1/lib/python3.11/site-packages/rubin_sim/maf/maps/dust_map.py:44: UserWarning: Slicer value of nside 64 different from map value 128, using slicer value\n",
      "  warnings.warn(\n"
     ]
    },
    {
     "name": "stdout",
     "output_type": "stream",
     "text": [
      "Healpix slicer using NSIDE=64, approximate resolution 54.967783 arcminutes\n"
     ]
    },
    {
     "name": "stderr",
     "output_type": "stream",
     "text": [
      "/opt/lsst/software/stack/conda/miniconda3-py38_4.9.2/envs/lsst-scipipe-7.0.1/lib/python3.11/site-packages/rubin_sim/maf/maps/dust_map.py:44: UserWarning: Slicer value of nside 64 different from map value 128, using slicer value\n",
      "  warnings.warn(\n"
     ]
    },
    {
     "name": "stdout",
     "output_type": "stream",
     "text": [
      "Healpix slicer using NSIDE=64, approximate resolution 54.967783 arcminutes\n"
     ]
    },
    {
     "name": "stderr",
     "output_type": "stream",
     "text": [
      "/opt/lsst/software/stack/conda/miniconda3-py38_4.9.2/envs/lsst-scipipe-7.0.1/lib/python3.11/site-packages/rubin_sim/maf/maps/dust_map.py:44: UserWarning: Slicer value of nside 64 different from map value 128, using slicer value\n",
      "  warnings.warn(\n"
     ]
    },
    {
     "name": "stdout",
     "output_type": "stream",
     "text": [
      "Healpix slicer using NSIDE=64, approximate resolution 54.967783 arcminutes\n"
     ]
    },
    {
     "name": "stderr",
     "output_type": "stream",
     "text": [
      "/opt/lsst/software/stack/conda/miniconda3-py38_4.9.2/envs/lsst-scipipe-7.0.1/lib/python3.11/site-packages/rubin_sim/maf/maps/dust_map.py:44: UserWarning: Slicer value of nside 64 different from map value 128, using slicer value\n",
      "  warnings.warn(\n"
     ]
    },
    {
     "name": "stdout",
     "output_type": "stream",
     "text": [
      "Healpix slicer using NSIDE=64, approximate resolution 54.967783 arcminutes\n"
     ]
    },
    {
     "name": "stderr",
     "output_type": "stream",
     "text": [
      "/opt/lsst/software/stack/conda/miniconda3-py38_4.9.2/envs/lsst-scipipe-7.0.1/lib/python3.11/site-packages/rubin_sim/maf/maps/dust_map.py:44: UserWarning: Slicer value of nside 64 different from map value 128, using slicer value\n",
      "  warnings.warn(\n"
     ]
    },
    {
     "name": "stdout",
     "output_type": "stream",
     "text": [
      "Healpix slicer using NSIDE=64, approximate resolution 54.967783 arcminutes\n"
     ]
    },
    {
     "name": "stderr",
     "output_type": "stream",
     "text": [
      "/opt/lsst/software/stack/conda/miniconda3-py38_4.9.2/envs/lsst-scipipe-7.0.1/lib/python3.11/site-packages/rubin_sim/maf/maps/dust_map.py:44: UserWarning: Slicer value of nside 64 different from map value 128, using slicer value\n",
      "  warnings.warn(\n"
     ]
    },
    {
     "name": "stdout",
     "output_type": "stream",
     "text": [
      "Healpix slicer using NSIDE=64, approximate resolution 54.967783 arcminutes\n"
     ]
    },
    {
     "name": "stderr",
     "output_type": "stream",
     "text": [
      "/opt/lsst/software/stack/conda/miniconda3-py38_4.9.2/envs/lsst-scipipe-7.0.1/lib/python3.11/site-packages/rubin_sim/maf/maps/dust_map.py:44: UserWarning: Slicer value of nside 64 different from map value 128, using slicer value\n",
      "  warnings.warn(\n"
     ]
    },
    {
     "name": "stdout",
     "output_type": "stream",
     "text": [
      "Healpix slicer using NSIDE=64, approximate resolution 54.967783 arcminutes\n"
     ]
    },
    {
     "name": "stderr",
     "output_type": "stream",
     "text": [
      "/opt/lsst/software/stack/conda/miniconda3-py38_4.9.2/envs/lsst-scipipe-7.0.1/lib/python3.11/site-packages/rubin_sim/maf/maps/dust_map.py:44: UserWarning: Slicer value of nside 64 different from map value 128, using slicer value\n",
      "  warnings.warn(\n"
     ]
    },
    {
     "name": "stdout",
     "output_type": "stream",
     "text": [
      "Healpix slicer using NSIDE=64, approximate resolution 54.967783 arcminutes\n"
     ]
    },
    {
     "name": "stderr",
     "output_type": "stream",
     "text": [
      "/opt/lsst/software/stack/conda/miniconda3-py38_4.9.2/envs/lsst-scipipe-7.0.1/lib/python3.11/site-packages/rubin_sim/maf/maps/dust_map.py:44: UserWarning: Slicer value of nside 64 different from map value 128, using slicer value\n",
      "  warnings.warn(\n"
     ]
    },
    {
     "name": "stdout",
     "output_type": "stream",
     "text": [
      "Healpix slicer using NSIDE=64, approximate resolution 54.967783 arcminutes\n"
     ]
    },
    {
     "name": "stderr",
     "output_type": "stream",
     "text": [
      "/opt/lsst/software/stack/conda/miniconda3-py38_4.9.2/envs/lsst-scipipe-7.0.1/lib/python3.11/site-packages/rubin_sim/maf/maps/dust_map.py:44: UserWarning: Slicer value of nside 64 different from map value 128, using slicer value\n",
      "  warnings.warn(\n"
     ]
    },
    {
     "name": "stdout",
     "output_type": "stream",
     "text": [
      "Healpix slicer using NSIDE=64, approximate resolution 54.967783 arcminutes\n"
     ]
    },
    {
     "name": "stderr",
     "output_type": "stream",
     "text": [
      "/opt/lsst/software/stack/conda/miniconda3-py38_4.9.2/envs/lsst-scipipe-7.0.1/lib/python3.11/site-packages/rubin_sim/maf/maps/dust_map.py:44: UserWarning: Slicer value of nside 64 different from map value 128, using slicer value\n",
      "  warnings.warn(\n"
     ]
    },
    {
     "name": "stdout",
     "output_type": "stream",
     "text": [
      "Healpix slicer using NSIDE=64, approximate resolution 54.967783 arcminutes\n"
     ]
    },
    {
     "name": "stderr",
     "output_type": "stream",
     "text": [
      "/opt/lsst/software/stack/conda/miniconda3-py38_4.9.2/envs/lsst-scipipe-7.0.1/lib/python3.11/site-packages/rubin_sim/maf/maps/dust_map.py:44: UserWarning: Slicer value of nside 64 different from map value 128, using slicer value\n",
      "  warnings.warn(\n"
     ]
    },
    {
     "name": "stdout",
     "output_type": "stream",
     "text": [
      "Healpix slicer using NSIDE=64, approximate resolution 54.967783 arcminutes\n"
     ]
    },
    {
     "name": "stderr",
     "output_type": "stream",
     "text": [
      "/opt/lsst/software/stack/conda/miniconda3-py38_4.9.2/envs/lsst-scipipe-7.0.1/lib/python3.11/site-packages/rubin_sim/maf/maps/dust_map.py:44: UserWarning: Slicer value of nside 64 different from map value 128, using slicer value\n",
      "  warnings.warn(\n"
     ]
    },
    {
     "name": "stdout",
     "output_type": "stream",
     "text": [
      "Healpix slicer using NSIDE=64, approximate resolution 54.967783 arcminutes\n"
     ]
    },
    {
     "name": "stderr",
     "output_type": "stream",
     "text": [
      "/opt/lsst/software/stack/conda/miniconda3-py38_4.9.2/envs/lsst-scipipe-7.0.1/lib/python3.11/site-packages/rubin_sim/maf/maps/dust_map.py:44: UserWarning: Slicer value of nside 64 different from map value 128, using slicer value\n",
      "  warnings.warn(\n"
     ]
    },
    {
     "name": "stdout",
     "output_type": "stream",
     "text": [
      "Healpix slicer using NSIDE=64, approximate resolution 54.967783 arcminutes\n"
     ]
    },
    {
     "name": "stderr",
     "output_type": "stream",
     "text": [
      "/opt/lsst/software/stack/conda/miniconda3-py38_4.9.2/envs/lsst-scipipe-7.0.1/lib/python3.11/site-packages/rubin_sim/maf/maps/dust_map.py:44: UserWarning: Slicer value of nside 64 different from map value 128, using slicer value\n",
      "  warnings.warn(\n"
     ]
    },
    {
     "name": "stdout",
     "output_type": "stream",
     "text": [
      "Healpix slicer using NSIDE=64, approximate resolution 54.967783 arcminutes\n"
     ]
    },
    {
     "name": "stderr",
     "output_type": "stream",
     "text": [
      "/opt/lsst/software/stack/conda/miniconda3-py38_4.9.2/envs/lsst-scipipe-7.0.1/lib/python3.11/site-packages/rubin_sim/maf/maps/dust_map.py:44: UserWarning: Slicer value of nside 64 different from map value 128, using slicer value\n",
      "  warnings.warn(\n"
     ]
    },
    {
     "name": "stdout",
     "output_type": "stream",
     "text": [
      "Healpix slicer using NSIDE=64, approximate resolution 54.967783 arcminutes\n"
     ]
    },
    {
     "name": "stderr",
     "output_type": "stream",
     "text": [
      "/opt/lsst/software/stack/conda/miniconda3-py38_4.9.2/envs/lsst-scipipe-7.0.1/lib/python3.11/site-packages/rubin_sim/maf/maps/dust_map.py:44: UserWarning: Slicer value of nside 64 different from map value 128, using slicer value\n",
      "  warnings.warn(\n"
     ]
    },
    {
     "name": "stdout",
     "output_type": "stream",
     "text": [
      "Healpix slicer using NSIDE=64, approximate resolution 54.967783 arcminutes\n"
     ]
    },
    {
     "name": "stderr",
     "output_type": "stream",
     "text": [
      "/opt/lsst/software/stack/conda/miniconda3-py38_4.9.2/envs/lsst-scipipe-7.0.1/lib/python3.11/site-packages/rubin_sim/maf/maps/dust_map.py:44: UserWarning: Slicer value of nside 64 different from map value 128, using slicer value\n",
      "  warnings.warn(\n"
     ]
    },
    {
     "name": "stdout",
     "output_type": "stream",
     "text": [
      "Healpix slicer using NSIDE=64, approximate resolution 54.967783 arcminutes\n"
     ]
    },
    {
     "name": "stderr",
     "output_type": "stream",
     "text": [
      "/opt/lsst/software/stack/conda/miniconda3-py38_4.9.2/envs/lsst-scipipe-7.0.1/lib/python3.11/site-packages/rubin_sim/maf/maps/dust_map.py:44: UserWarning: Slicer value of nside 64 different from map value 128, using slicer value\n",
      "  warnings.warn(\n"
     ]
    },
    {
     "name": "stdout",
     "output_type": "stream",
     "text": [
      "Healpix slicer using NSIDE=64, approximate resolution 54.967783 arcminutes\n"
     ]
    },
    {
     "name": "stderr",
     "output_type": "stream",
     "text": [
      "/opt/lsst/software/stack/conda/miniconda3-py38_4.9.2/envs/lsst-scipipe-7.0.1/lib/python3.11/site-packages/rubin_sim/maf/maps/dust_map.py:44: UserWarning: Slicer value of nside 64 different from map value 128, using slicer value\n",
      "  warnings.warn(\n"
     ]
    },
    {
     "name": "stdout",
     "output_type": "stream",
     "text": [
      "Healpix slicer using NSIDE=64, approximate resolution 54.967783 arcminutes\n"
     ]
    },
    {
     "name": "stderr",
     "output_type": "stream",
     "text": [
      "/opt/lsst/software/stack/conda/miniconda3-py38_4.9.2/envs/lsst-scipipe-7.0.1/lib/python3.11/site-packages/rubin_sim/maf/maps/dust_map.py:44: UserWarning: Slicer value of nside 64 different from map value 128, using slicer value\n",
      "  warnings.warn(\n"
     ]
    },
    {
     "name": "stdout",
     "output_type": "stream",
     "text": [
      "Healpix slicer using NSIDE=64, approximate resolution 54.967783 arcminutes\n"
     ]
    },
    {
     "name": "stderr",
     "output_type": "stream",
     "text": [
      "/opt/lsst/software/stack/conda/miniconda3-py38_4.9.2/envs/lsst-scipipe-7.0.1/lib/python3.11/site-packages/rubin_sim/maf/maps/dust_map.py:44: UserWarning: Slicer value of nside 64 different from map value 128, using slicer value\n",
      "  warnings.warn(\n"
     ]
    },
    {
     "name": "stdout",
     "output_type": "stream",
     "text": [
      "Healpix slicer using NSIDE=64, approximate resolution 54.967783 arcminutes\n"
     ]
    },
    {
     "name": "stderr",
     "output_type": "stream",
     "text": [
      "/opt/lsst/software/stack/conda/miniconda3-py38_4.9.2/envs/lsst-scipipe-7.0.1/lib/python3.11/site-packages/rubin_sim/maf/maps/dust_map.py:44: UserWarning: Slicer value of nside 64 different from map value 128, using slicer value\n",
      "  warnings.warn(\n"
     ]
    },
    {
     "name": "stdout",
     "output_type": "stream",
     "text": [
      "Healpix slicer using NSIDE=64, approximate resolution 54.967783 arcminutes\n"
     ]
    },
    {
     "name": "stderr",
     "output_type": "stream",
     "text": [
      "/opt/lsst/software/stack/conda/miniconda3-py38_4.9.2/envs/lsst-scipipe-7.0.1/lib/python3.11/site-packages/rubin_sim/maf/maps/dust_map.py:44: UserWarning: Slicer value of nside 64 different from map value 128, using slicer value\n",
      "  warnings.warn(\n"
     ]
    },
    {
     "name": "stdout",
     "output_type": "stream",
     "text": [
      "Healpix slicer using NSIDE=64, approximate resolution 54.967783 arcminutes\n"
     ]
    },
    {
     "name": "stderr",
     "output_type": "stream",
     "text": [
      "/opt/lsst/software/stack/conda/miniconda3-py38_4.9.2/envs/lsst-scipipe-7.0.1/lib/python3.11/site-packages/rubin_sim/maf/maps/dust_map.py:44: UserWarning: Slicer value of nside 64 different from map value 128, using slicer value\n",
      "  warnings.warn(\n"
     ]
    },
    {
     "name": "stdout",
     "output_type": "stream",
     "text": [
      "Healpix slicer using NSIDE=64, approximate resolution 54.967783 arcminutes\n"
     ]
    },
    {
     "name": "stderr",
     "output_type": "stream",
     "text": [
      "/opt/lsst/software/stack/conda/miniconda3-py38_4.9.2/envs/lsst-scipipe-7.0.1/lib/python3.11/site-packages/rubin_sim/maf/maps/dust_map.py:44: UserWarning: Slicer value of nside 64 different from map value 128, using slicer value\n",
      "  warnings.warn(\n"
     ]
    },
    {
     "name": "stdout",
     "output_type": "stream",
     "text": [
      "Healpix slicer using NSIDE=64, approximate resolution 54.967783 arcminutes\n"
     ]
    },
    {
     "name": "stderr",
     "output_type": "stream",
     "text": [
      "/opt/lsst/software/stack/conda/miniconda3-py38_4.9.2/envs/lsst-scipipe-7.0.1/lib/python3.11/site-packages/rubin_sim/maf/maps/dust_map.py:44: UserWarning: Slicer value of nside 64 different from map value 128, using slicer value\n",
      "  warnings.warn(\n"
     ]
    },
    {
     "name": "stdout",
     "output_type": "stream",
     "text": [
      "Healpix slicer using NSIDE=64, approximate resolution 54.967783 arcminutes\n"
     ]
    },
    {
     "name": "stderr",
     "output_type": "stream",
     "text": [
      "/opt/lsst/software/stack/conda/miniconda3-py38_4.9.2/envs/lsst-scipipe-7.0.1/lib/python3.11/site-packages/rubin_sim/maf/maps/dust_map.py:44: UserWarning: Slicer value of nside 64 different from map value 128, using slicer value\n",
      "  warnings.warn(\n"
     ]
    },
    {
     "name": "stdout",
     "output_type": "stream",
     "text": [
      "Healpix slicer using NSIDE=64, approximate resolution 54.967783 arcminutes\n"
     ]
    },
    {
     "name": "stderr",
     "output_type": "stream",
     "text": [
      "/opt/lsst/software/stack/conda/miniconda3-py38_4.9.2/envs/lsst-scipipe-7.0.1/lib/python3.11/site-packages/rubin_sim/maf/maps/dust_map.py:44: UserWarning: Slicer value of nside 64 different from map value 128, using slicer value\n",
      "  warnings.warn(\n"
     ]
    },
    {
     "name": "stdout",
     "output_type": "stream",
     "text": [
      "Healpix slicer using NSIDE=64, approximate resolution 54.967783 arcminutes\n"
     ]
    },
    {
     "name": "stderr",
     "output_type": "stream",
     "text": [
      "/opt/lsst/software/stack/conda/miniconda3-py38_4.9.2/envs/lsst-scipipe-7.0.1/lib/python3.11/site-packages/rubin_sim/maf/maps/dust_map.py:44: UserWarning: Slicer value of nside 64 different from map value 128, using slicer value\n",
      "  warnings.warn(\n"
     ]
    },
    {
     "name": "stdout",
     "output_type": "stream",
     "text": [
      "Healpix slicer using NSIDE=64, approximate resolution 54.967783 arcminutes\n"
     ]
    },
    {
     "name": "stderr",
     "output_type": "stream",
     "text": [
      "/opt/lsst/software/stack/conda/miniconda3-py38_4.9.2/envs/lsst-scipipe-7.0.1/lib/python3.11/site-packages/rubin_sim/maf/maps/dust_map.py:44: UserWarning: Slicer value of nside 64 different from map value 128, using slicer value\n",
      "  warnings.warn(\n"
     ]
    },
    {
     "name": "stdout",
     "output_type": "stream",
     "text": [
      "Healpix slicer using NSIDE=64, approximate resolution 54.967783 arcminutes\n"
     ]
    },
    {
     "name": "stderr",
     "output_type": "stream",
     "text": [
      "/opt/lsst/software/stack/conda/miniconda3-py38_4.9.2/envs/lsst-scipipe-7.0.1/lib/python3.11/site-packages/rubin_sim/maf/maps/dust_map.py:44: UserWarning: Slicer value of nside 64 different from map value 128, using slicer value\n",
      "  warnings.warn(\n"
     ]
    },
    {
     "name": "stdout",
     "output_type": "stream",
     "text": [
      "Healpix slicer using NSIDE=64, approximate resolution 54.967783 arcminutes\n"
     ]
    },
    {
     "name": "stderr",
     "output_type": "stream",
     "text": [
      "/opt/lsst/software/stack/conda/miniconda3-py38_4.9.2/envs/lsst-scipipe-7.0.1/lib/python3.11/site-packages/rubin_sim/maf/maps/dust_map.py:44: UserWarning: Slicer value of nside 64 different from map value 128, using slicer value\n",
      "  warnings.warn(\n"
     ]
    },
    {
     "name": "stdout",
     "output_type": "stream",
     "text": [
      "Healpix slicer using NSIDE=64, approximate resolution 54.967783 arcminutes\n"
     ]
    },
    {
     "name": "stderr",
     "output_type": "stream",
     "text": [
      "/opt/lsst/software/stack/conda/miniconda3-py38_4.9.2/envs/lsst-scipipe-7.0.1/lib/python3.11/site-packages/rubin_sim/maf/maps/dust_map.py:44: UserWarning: Slicer value of nside 64 different from map value 128, using slicer value\n",
      "  warnings.warn(\n"
     ]
    },
    {
     "name": "stdout",
     "output_type": "stream",
     "text": [
      "Healpix slicer using NSIDE=64, approximate resolution 54.967783 arcminutes\n"
     ]
    },
    {
     "name": "stderr",
     "output_type": "stream",
     "text": [
      "/opt/lsst/software/stack/conda/miniconda3-py38_4.9.2/envs/lsst-scipipe-7.0.1/lib/python3.11/site-packages/rubin_sim/maf/maps/dust_map.py:44: UserWarning: Slicer value of nside 64 different from map value 128, using slicer value\n",
      "  warnings.warn(\n"
     ]
    },
    {
     "name": "stdout",
     "output_type": "stream",
     "text": [
      "Healpix slicer using NSIDE=64, approximate resolution 54.967783 arcminutes\n"
     ]
    },
    {
     "name": "stderr",
     "output_type": "stream",
     "text": [
      "/opt/lsst/software/stack/conda/miniconda3-py38_4.9.2/envs/lsst-scipipe-7.0.1/lib/python3.11/site-packages/rubin_sim/maf/maps/dust_map.py:44: UserWarning: Slicer value of nside 64 different from map value 128, using slicer value\n",
      "  warnings.warn(\n"
     ]
    },
    {
     "name": "stdout",
     "output_type": "stream",
     "text": [
      "Healpix slicer using NSIDE=64, approximate resolution 54.967783 arcminutes\n"
     ]
    },
    {
     "name": "stderr",
     "output_type": "stream",
     "text": [
      "/opt/lsst/software/stack/conda/miniconda3-py38_4.9.2/envs/lsst-scipipe-7.0.1/lib/python3.11/site-packages/rubin_sim/maf/maps/dust_map.py:44: UserWarning: Slicer value of nside 64 different from map value 128, using slicer value\n",
      "  warnings.warn(\n"
     ]
    },
    {
     "name": "stdout",
     "output_type": "stream",
     "text": [
      "Healpix slicer using NSIDE=64, approximate resolution 54.967783 arcminutes\n"
     ]
    },
    {
     "name": "stderr",
     "output_type": "stream",
     "text": [
      "/opt/lsst/software/stack/conda/miniconda3-py38_4.9.2/envs/lsst-scipipe-7.0.1/lib/python3.11/site-packages/rubin_sim/maf/maps/dust_map.py:44: UserWarning: Slicer value of nside 64 different from map value 128, using slicer value\n",
      "  warnings.warn(\n"
     ]
    },
    {
     "name": "stdout",
     "output_type": "stream",
     "text": [
      "Healpix slicer using NSIDE=64, approximate resolution 54.967783 arcminutes\n"
     ]
    },
    {
     "name": "stderr",
     "output_type": "stream",
     "text": [
      "/opt/lsst/software/stack/conda/miniconda3-py38_4.9.2/envs/lsst-scipipe-7.0.1/lib/python3.11/site-packages/rubin_sim/maf/maps/dust_map.py:44: UserWarning: Slicer value of nside 64 different from map value 128, using slicer value\n",
      "  warnings.warn(\n"
     ]
    },
    {
     "name": "stdout",
     "output_type": "stream",
     "text": [
      "Healpix slicer using NSIDE=64, approximate resolution 54.967783 arcminutes\n"
     ]
    },
    {
     "name": "stderr",
     "output_type": "stream",
     "text": [
      "/opt/lsst/software/stack/conda/miniconda3-py38_4.9.2/envs/lsst-scipipe-7.0.1/lib/python3.11/site-packages/rubin_sim/maf/maps/dust_map.py:44: UserWarning: Slicer value of nside 64 different from map value 128, using slicer value\n",
      "  warnings.warn(\n"
     ]
    },
    {
     "name": "stdout",
     "output_type": "stream",
     "text": [
      "Healpix slicer using NSIDE=64, approximate resolution 54.967783 arcminutes\n"
     ]
    },
    {
     "name": "stderr",
     "output_type": "stream",
     "text": [
      "/opt/lsst/software/stack/conda/miniconda3-py38_4.9.2/envs/lsst-scipipe-7.0.1/lib/python3.11/site-packages/rubin_sim/maf/maps/dust_map.py:44: UserWarning: Slicer value of nside 64 different from map value 128, using slicer value\n",
      "  warnings.warn(\n"
     ]
    },
    {
     "name": "stdout",
     "output_type": "stream",
     "text": [
      "Healpix slicer using NSIDE=64, approximate resolution 54.967783 arcminutes\n"
     ]
    },
    {
     "name": "stderr",
     "output_type": "stream",
     "text": [
      "/opt/lsst/software/stack/conda/miniconda3-py38_4.9.2/envs/lsst-scipipe-7.0.1/lib/python3.11/site-packages/rubin_sim/maf/maps/dust_map.py:44: UserWarning: Slicer value of nside 64 different from map value 128, using slicer value\n",
      "  warnings.warn(\n"
     ]
    },
    {
     "name": "stdout",
     "output_type": "stream",
     "text": [
      "Healpix slicer using NSIDE=64, approximate resolution 54.967783 arcminutes\n"
     ]
    },
    {
     "name": "stderr",
     "output_type": "stream",
     "text": [
      "/opt/lsst/software/stack/conda/miniconda3-py38_4.9.2/envs/lsst-scipipe-7.0.1/lib/python3.11/site-packages/rubin_sim/maf/maps/dust_map.py:44: UserWarning: Slicer value of nside 64 different from map value 128, using slicer value\n",
      "  warnings.warn(\n"
     ]
    },
    {
     "name": "stdout",
     "output_type": "stream",
     "text": [
      "Healpix slicer using NSIDE=64, approximate resolution 54.967783 arcminutes\n"
     ]
    },
    {
     "name": "stderr",
     "output_type": "stream",
     "text": [
      "/opt/lsst/software/stack/conda/miniconda3-py38_4.9.2/envs/lsst-scipipe-7.0.1/lib/python3.11/site-packages/rubin_sim/maf/maps/dust_map.py:44: UserWarning: Slicer value of nside 64 different from map value 128, using slicer value\n",
      "  warnings.warn(\n"
     ]
    },
    {
     "name": "stdout",
     "output_type": "stream",
     "text": [
      "Healpix slicer using NSIDE=64, approximate resolution 54.967783 arcminutes\n"
     ]
    },
    {
     "name": "stderr",
     "output_type": "stream",
     "text": [
      "/opt/lsst/software/stack/conda/miniconda3-py38_4.9.2/envs/lsst-scipipe-7.0.1/lib/python3.11/site-packages/rubin_sim/maf/maps/dust_map.py:44: UserWarning: Slicer value of nside 64 different from map value 128, using slicer value\n",
      "  warnings.warn(\n"
     ]
    },
    {
     "name": "stdout",
     "output_type": "stream",
     "text": [
      "Healpix slicer using NSIDE=64, approximate resolution 54.967783 arcminutes\n"
     ]
    },
    {
     "name": "stderr",
     "output_type": "stream",
     "text": [
      "/opt/lsst/software/stack/conda/miniconda3-py38_4.9.2/envs/lsst-scipipe-7.0.1/lib/python3.11/site-packages/rubin_sim/maf/maps/dust_map.py:44: UserWarning: Slicer value of nside 64 different from map value 128, using slicer value\n",
      "  warnings.warn(\n"
     ]
    },
    {
     "name": "stdout",
     "output_type": "stream",
     "text": [
      "Healpix slicer using NSIDE=64, approximate resolution 54.967783 arcminutes\n"
     ]
    },
    {
     "name": "stderr",
     "output_type": "stream",
     "text": [
      "/opt/lsst/software/stack/conda/miniconda3-py38_4.9.2/envs/lsst-scipipe-7.0.1/lib/python3.11/site-packages/rubin_sim/maf/maps/dust_map.py:44: UserWarning: Slicer value of nside 64 different from map value 128, using slicer value\n",
      "  warnings.warn(\n"
     ]
    },
    {
     "name": "stdout",
     "output_type": "stream",
     "text": [
      "Healpix slicer using NSIDE=64, approximate resolution 54.967783 arcminutes\n"
     ]
    },
    {
     "name": "stderr",
     "output_type": "stream",
     "text": [
      "/opt/lsst/software/stack/conda/miniconda3-py38_4.9.2/envs/lsst-scipipe-7.0.1/lib/python3.11/site-packages/rubin_sim/maf/maps/dust_map.py:44: UserWarning: Slicer value of nside 64 different from map value 128, using slicer value\n",
      "  warnings.warn(\n"
     ]
    },
    {
     "name": "stdout",
     "output_type": "stream",
     "text": [
      "Healpix slicer using NSIDE=64, approximate resolution 54.967783 arcminutes\n"
     ]
    },
    {
     "name": "stderr",
     "output_type": "stream",
     "text": [
      "/opt/lsst/software/stack/conda/miniconda3-py38_4.9.2/envs/lsst-scipipe-7.0.1/lib/python3.11/site-packages/rubin_sim/maf/maps/dust_map.py:44: UserWarning: Slicer value of nside 64 different from map value 128, using slicer value\n",
      "  warnings.warn(\n"
     ]
    },
    {
     "name": "stdout",
     "output_type": "stream",
     "text": [
      "Healpix slicer using NSIDE=64, approximate resolution 54.967783 arcminutes\n"
     ]
    },
    {
     "name": "stderr",
     "output_type": "stream",
     "text": [
      "/opt/lsst/software/stack/conda/miniconda3-py38_4.9.2/envs/lsst-scipipe-7.0.1/lib/python3.11/site-packages/rubin_sim/maf/maps/dust_map.py:44: UserWarning: Slicer value of nside 64 different from map value 128, using slicer value\n",
      "  warnings.warn(\n"
     ]
    },
    {
     "name": "stdout",
     "output_type": "stream",
     "text": [
      "Healpix slicer using NSIDE=64, approximate resolution 54.967783 arcminutes\n"
     ]
    },
    {
     "name": "stderr",
     "output_type": "stream",
     "text": [
      "/opt/lsst/software/stack/conda/miniconda3-py38_4.9.2/envs/lsst-scipipe-7.0.1/lib/python3.11/site-packages/rubin_sim/maf/maps/dust_map.py:44: UserWarning: Slicer value of nside 64 different from map value 128, using slicer value\n",
      "  warnings.warn(\n"
     ]
    },
    {
     "name": "stdout",
     "output_type": "stream",
     "text": [
      "Healpix slicer using NSIDE=64, approximate resolution 54.967783 arcminutes\n"
     ]
    },
    {
     "name": "stderr",
     "output_type": "stream",
     "text": [
      "/opt/lsst/software/stack/conda/miniconda3-py38_4.9.2/envs/lsst-scipipe-7.0.1/lib/python3.11/site-packages/rubin_sim/maf/maps/dust_map.py:44: UserWarning: Slicer value of nside 64 different from map value 128, using slicer value\n",
      "  warnings.warn(\n"
     ]
    },
    {
     "name": "stdout",
     "output_type": "stream",
     "text": [
      "Healpix slicer using NSIDE=64, approximate resolution 54.967783 arcminutes\n"
     ]
    },
    {
     "name": "stderr",
     "output_type": "stream",
     "text": [
      "/opt/lsst/software/stack/conda/miniconda3-py38_4.9.2/envs/lsst-scipipe-7.0.1/lib/python3.11/site-packages/rubin_sim/maf/maps/dust_map.py:44: UserWarning: Slicer value of nside 64 different from map value 128, using slicer value\n",
      "  warnings.warn(\n"
     ]
    },
    {
     "name": "stdout",
     "output_type": "stream",
     "text": [
      "Healpix slicer using NSIDE=64, approximate resolution 54.967783 arcminutes\n"
     ]
    },
    {
     "name": "stderr",
     "output_type": "stream",
     "text": [
      "/opt/lsst/software/stack/conda/miniconda3-py38_4.9.2/envs/lsst-scipipe-7.0.1/lib/python3.11/site-packages/rubin_sim/maf/maps/dust_map.py:44: UserWarning: Slicer value of nside 64 different from map value 128, using slicer value\n",
      "  warnings.warn(\n"
     ]
    },
    {
     "name": "stdout",
     "output_type": "stream",
     "text": [
      "Healpix slicer using NSIDE=64, approximate resolution 54.967783 arcminutes\n"
     ]
    },
    {
     "name": "stderr",
     "output_type": "stream",
     "text": [
      "/opt/lsst/software/stack/conda/miniconda3-py38_4.9.2/envs/lsst-scipipe-7.0.1/lib/python3.11/site-packages/rubin_sim/maf/maps/dust_map.py:44: UserWarning: Slicer value of nside 64 different from map value 128, using slicer value\n",
      "  warnings.warn(\n"
     ]
    },
    {
     "name": "stdout",
     "output_type": "stream",
     "text": [
      "Healpix slicer using NSIDE=64, approximate resolution 54.967783 arcminutes\n"
     ]
    },
    {
     "name": "stderr",
     "output_type": "stream",
     "text": [
      "/opt/lsst/software/stack/conda/miniconda3-py38_4.9.2/envs/lsst-scipipe-7.0.1/lib/python3.11/site-packages/rubin_sim/maf/maps/dust_map.py:44: UserWarning: Slicer value of nside 64 different from map value 128, using slicer value\n",
      "  warnings.warn(\n"
     ]
    },
    {
     "name": "stdout",
     "output_type": "stream",
     "text": [
      "Healpix slicer using NSIDE=64, approximate resolution 54.967783 arcminutes\n"
     ]
    },
    {
     "name": "stderr",
     "output_type": "stream",
     "text": [
      "/opt/lsst/software/stack/conda/miniconda3-py38_4.9.2/envs/lsst-scipipe-7.0.1/lib/python3.11/site-packages/rubin_sim/maf/maps/dust_map.py:44: UserWarning: Slicer value of nside 64 different from map value 128, using slicer value\n",
      "  warnings.warn(\n"
     ]
    },
    {
     "name": "stdout",
     "output_type": "stream",
     "text": [
      "Healpix slicer using NSIDE=64, approximate resolution 54.967783 arcminutes\n"
     ]
    },
    {
     "name": "stderr",
     "output_type": "stream",
     "text": [
      "/opt/lsst/software/stack/conda/miniconda3-py38_4.9.2/envs/lsst-scipipe-7.0.1/lib/python3.11/site-packages/rubin_sim/maf/maps/dust_map.py:44: UserWarning: Slicer value of nside 64 different from map value 128, using slicer value\n",
      "  warnings.warn(\n"
     ]
    },
    {
     "name": "stdout",
     "output_type": "stream",
     "text": [
      "Healpix slicer using NSIDE=64, approximate resolution 54.967783 arcminutes\n"
     ]
    },
    {
     "name": "stderr",
     "output_type": "stream",
     "text": [
      "/opt/lsst/software/stack/conda/miniconda3-py38_4.9.2/envs/lsst-scipipe-7.0.1/lib/python3.11/site-packages/rubin_sim/maf/maps/dust_map.py:44: UserWarning: Slicer value of nside 64 different from map value 128, using slicer value\n",
      "  warnings.warn(\n"
     ]
    },
    {
     "name": "stdout",
     "output_type": "stream",
     "text": [
      "Healpix slicer using NSIDE=64, approximate resolution 54.967783 arcminutes\n"
     ]
    },
    {
     "name": "stderr",
     "output_type": "stream",
     "text": [
      "/opt/lsst/software/stack/conda/miniconda3-py38_4.9.2/envs/lsst-scipipe-7.0.1/lib/python3.11/site-packages/rubin_sim/maf/maps/dust_map.py:44: UserWarning: Slicer value of nside 64 different from map value 128, using slicer value\n",
      "  warnings.warn(\n"
     ]
    },
    {
     "name": "stdout",
     "output_type": "stream",
     "text": [
      "Healpix slicer using NSIDE=64, approximate resolution 54.967783 arcminutes\n"
     ]
    },
    {
     "name": "stderr",
     "output_type": "stream",
     "text": [
      "/opt/lsst/software/stack/conda/miniconda3-py38_4.9.2/envs/lsst-scipipe-7.0.1/lib/python3.11/site-packages/rubin_sim/maf/maps/dust_map.py:44: UserWarning: Slicer value of nside 64 different from map value 128, using slicer value\n",
      "  warnings.warn(\n"
     ]
    },
    {
     "name": "stdout",
     "output_type": "stream",
     "text": [
      "Healpix slicer using NSIDE=64, approximate resolution 54.967783 arcminutes\n"
     ]
    },
    {
     "name": "stderr",
     "output_type": "stream",
     "text": [
      "/opt/lsst/software/stack/conda/miniconda3-py38_4.9.2/envs/lsst-scipipe-7.0.1/lib/python3.11/site-packages/rubin_sim/maf/maps/dust_map.py:44: UserWarning: Slicer value of nside 64 different from map value 128, using slicer value\n",
      "  warnings.warn(\n"
     ]
    },
    {
     "name": "stdout",
     "output_type": "stream",
     "text": [
      "Healpix slicer using NSIDE=64, approximate resolution 54.967783 arcminutes\n"
     ]
    },
    {
     "name": "stderr",
     "output_type": "stream",
     "text": [
      "/opt/lsst/software/stack/conda/miniconda3-py38_4.9.2/envs/lsst-scipipe-7.0.1/lib/python3.11/site-packages/rubin_sim/maf/maps/dust_map.py:44: UserWarning: Slicer value of nside 64 different from map value 128, using slicer value\n",
      "  warnings.warn(\n"
     ]
    },
    {
     "name": "stdout",
     "output_type": "stream",
     "text": [
      "Healpix slicer using NSIDE=64, approximate resolution 54.967783 arcminutes\n"
     ]
    },
    {
     "name": "stderr",
     "output_type": "stream",
     "text": [
      "/opt/lsst/software/stack/conda/miniconda3-py38_4.9.2/envs/lsst-scipipe-7.0.1/lib/python3.11/site-packages/rubin_sim/maf/maps/dust_map.py:44: UserWarning: Slicer value of nside 64 different from map value 128, using slicer value\n",
      "  warnings.warn(\n"
     ]
    },
    {
     "name": "stdout",
     "output_type": "stream",
     "text": [
      "Healpix slicer using NSIDE=64, approximate resolution 54.967783 arcminutes\n"
     ]
    },
    {
     "name": "stderr",
     "output_type": "stream",
     "text": [
      "/opt/lsst/software/stack/conda/miniconda3-py38_4.9.2/envs/lsst-scipipe-7.0.1/lib/python3.11/site-packages/rubin_sim/maf/maps/dust_map.py:44: UserWarning: Slicer value of nside 64 different from map value 128, using slicer value\n",
      "  warnings.warn(\n"
     ]
    },
    {
     "name": "stdout",
     "output_type": "stream",
     "text": [
      "Healpix slicer using NSIDE=64, approximate resolution 54.967783 arcminutes\n"
     ]
    },
    {
     "name": "stderr",
     "output_type": "stream",
     "text": [
      "/opt/lsst/software/stack/conda/miniconda3-py38_4.9.2/envs/lsst-scipipe-7.0.1/lib/python3.11/site-packages/rubin_sim/maf/maps/dust_map.py:44: UserWarning: Slicer value of nside 64 different from map value 128, using slicer value\n",
      "  warnings.warn(\n"
     ]
    },
    {
     "name": "stdout",
     "output_type": "stream",
     "text": [
      "Healpix slicer using NSIDE=64, approximate resolution 54.967783 arcminutes\n"
     ]
    },
    {
     "name": "stderr",
     "output_type": "stream",
     "text": [
      "/opt/lsst/software/stack/conda/miniconda3-py38_4.9.2/envs/lsst-scipipe-7.0.1/lib/python3.11/site-packages/rubin_sim/maf/maps/dust_map.py:44: UserWarning: Slicer value of nside 64 different from map value 128, using slicer value\n",
      "  warnings.warn(\n"
     ]
    },
    {
     "name": "stdout",
     "output_type": "stream",
     "text": [
      "Healpix slicer using NSIDE=64, approximate resolution 54.967783 arcminutes\n"
     ]
    },
    {
     "name": "stderr",
     "output_type": "stream",
     "text": [
      "/opt/lsst/software/stack/conda/miniconda3-py38_4.9.2/envs/lsst-scipipe-7.0.1/lib/python3.11/site-packages/rubin_sim/maf/maps/dust_map.py:44: UserWarning: Slicer value of nside 64 different from map value 128, using slicer value\n",
      "  warnings.warn(\n"
     ]
    },
    {
     "name": "stdout",
     "output_type": "stream",
     "text": [
      "Healpix slicer using NSIDE=64, approximate resolution 54.967783 arcminutes\n"
     ]
    },
    {
     "name": "stderr",
     "output_type": "stream",
     "text": [
      "/opt/lsst/software/stack/conda/miniconda3-py38_4.9.2/envs/lsst-scipipe-7.0.1/lib/python3.11/site-packages/rubin_sim/maf/maps/dust_map.py:44: UserWarning: Slicer value of nside 64 different from map value 128, using slicer value\n",
      "  warnings.warn(\n"
     ]
    },
    {
     "name": "stdout",
     "output_type": "stream",
     "text": [
      "Healpix slicer using NSIDE=64, approximate resolution 54.967783 arcminutes\n"
     ]
    },
    {
     "name": "stderr",
     "output_type": "stream",
     "text": [
      "/opt/lsst/software/stack/conda/miniconda3-py38_4.9.2/envs/lsst-scipipe-7.0.1/lib/python3.11/site-packages/rubin_sim/maf/maps/dust_map.py:44: UserWarning: Slicer value of nside 64 different from map value 128, using slicer value\n",
      "  warnings.warn(\n"
     ]
    },
    {
     "name": "stdout",
     "output_type": "stream",
     "text": [
      "Healpix slicer using NSIDE=64, approximate resolution 54.967783 arcminutes\n"
     ]
    },
    {
     "name": "stderr",
     "output_type": "stream",
     "text": [
      "/opt/lsst/software/stack/conda/miniconda3-py38_4.9.2/envs/lsst-scipipe-7.0.1/lib/python3.11/site-packages/rubin_sim/maf/maps/dust_map.py:44: UserWarning: Slicer value of nside 64 different from map value 128, using slicer value\n",
      "  warnings.warn(\n"
     ]
    },
    {
     "name": "stdout",
     "output_type": "stream",
     "text": [
      "Healpix slicer using NSIDE=64, approximate resolution 54.967783 arcminutes\n"
     ]
    },
    {
     "name": "stderr",
     "output_type": "stream",
     "text": [
      "/opt/lsst/software/stack/conda/miniconda3-py38_4.9.2/envs/lsst-scipipe-7.0.1/lib/python3.11/site-packages/rubin_sim/maf/maps/dust_map.py:44: UserWarning: Slicer value of nside 64 different from map value 128, using slicer value\n",
      "  warnings.warn(\n"
     ]
    },
    {
     "name": "stdout",
     "output_type": "stream",
     "text": [
      "Healpix slicer using NSIDE=64, approximate resolution 54.967783 arcminutes\n"
     ]
    },
    {
     "name": "stderr",
     "output_type": "stream",
     "text": [
      "/opt/lsst/software/stack/conda/miniconda3-py38_4.9.2/envs/lsst-scipipe-7.0.1/lib/python3.11/site-packages/rubin_sim/maf/maps/dust_map.py:44: UserWarning: Slicer value of nside 64 different from map value 128, using slicer value\n",
      "  warnings.warn(\n"
     ]
    },
    {
     "name": "stdout",
     "output_type": "stream",
     "text": [
      "Healpix slicer using NSIDE=64, approximate resolution 54.967783 arcminutes\n"
     ]
    },
    {
     "name": "stderr",
     "output_type": "stream",
     "text": [
      "/opt/lsst/software/stack/conda/miniconda3-py38_4.9.2/envs/lsst-scipipe-7.0.1/lib/python3.11/site-packages/rubin_sim/maf/maps/dust_map.py:44: UserWarning: Slicer value of nside 64 different from map value 128, using slicer value\n",
      "  warnings.warn(\n"
     ]
    },
    {
     "name": "stdout",
     "output_type": "stream",
     "text": [
      "Healpix slicer using NSIDE=64, approximate resolution 54.967783 arcminutes\n"
     ]
    },
    {
     "name": "stderr",
     "output_type": "stream",
     "text": [
      "/opt/lsst/software/stack/conda/miniconda3-py38_4.9.2/envs/lsst-scipipe-7.0.1/lib/python3.11/site-packages/rubin_sim/maf/maps/dust_map.py:44: UserWarning: Slicer value of nside 64 different from map value 128, using slicer value\n",
      "  warnings.warn(\n"
     ]
    },
    {
     "name": "stdout",
     "output_type": "stream",
     "text": [
      "Healpix slicer using NSIDE=64, approximate resolution 54.967783 arcminutes\n"
     ]
    },
    {
     "name": "stderr",
     "output_type": "stream",
     "text": [
      "/opt/lsst/software/stack/conda/miniconda3-py38_4.9.2/envs/lsst-scipipe-7.0.1/lib/python3.11/site-packages/rubin_sim/maf/maps/dust_map.py:44: UserWarning: Slicer value of nside 64 different from map value 128, using slicer value\n",
      "  warnings.warn(\n"
     ]
    },
    {
     "name": "stdout",
     "output_type": "stream",
     "text": [
      "Healpix slicer using NSIDE=64, approximate resolution 54.967783 arcminutes\n"
     ]
    },
    {
     "name": "stderr",
     "output_type": "stream",
     "text": [
      "/opt/lsst/software/stack/conda/miniconda3-py38_4.9.2/envs/lsst-scipipe-7.0.1/lib/python3.11/site-packages/rubin_sim/maf/maps/dust_map.py:44: UserWarning: Slicer value of nside 64 different from map value 128, using slicer value\n",
      "  warnings.warn(\n"
     ]
    },
    {
     "name": "stdout",
     "output_type": "stream",
     "text": [
      "Healpix slicer using NSIDE=64, approximate resolution 54.967783 arcminutes\n"
     ]
    },
    {
     "name": "stderr",
     "output_type": "stream",
     "text": [
      "/opt/lsst/software/stack/conda/miniconda3-py38_4.9.2/envs/lsst-scipipe-7.0.1/lib/python3.11/site-packages/rubin_sim/maf/maps/dust_map.py:44: UserWarning: Slicer value of nside 64 different from map value 128, using slicer value\n",
      "  warnings.warn(\n"
     ]
    },
    {
     "name": "stdout",
     "output_type": "stream",
     "text": [
      "Healpix slicer using NSIDE=64, approximate resolution 54.967783 arcminutes\n"
     ]
    },
    {
     "name": "stderr",
     "output_type": "stream",
     "text": [
      "/opt/lsst/software/stack/conda/miniconda3-py38_4.9.2/envs/lsst-scipipe-7.0.1/lib/python3.11/site-packages/rubin_sim/maf/maps/dust_map.py:44: UserWarning: Slicer value of nside 64 different from map value 128, using slicer value\n",
      "  warnings.warn(\n"
     ]
    },
    {
     "name": "stdout",
     "output_type": "stream",
     "text": [
      "Healpix slicer using NSIDE=64, approximate resolution 54.967783 arcminutes\n"
     ]
    },
    {
     "name": "stderr",
     "output_type": "stream",
     "text": [
      "/opt/lsst/software/stack/conda/miniconda3-py38_4.9.2/envs/lsst-scipipe-7.0.1/lib/python3.11/site-packages/rubin_sim/maf/maps/dust_map.py:44: UserWarning: Slicer value of nside 64 different from map value 128, using slicer value\n",
      "  warnings.warn(\n"
     ]
    },
    {
     "name": "stdout",
     "output_type": "stream",
     "text": [
      "Healpix slicer using NSIDE=64, approximate resolution 54.967783 arcminutes\n"
     ]
    },
    {
     "name": "stderr",
     "output_type": "stream",
     "text": [
      "/opt/lsst/software/stack/conda/miniconda3-py38_4.9.2/envs/lsst-scipipe-7.0.1/lib/python3.11/site-packages/rubin_sim/maf/maps/dust_map.py:44: UserWarning: Slicer value of nside 64 different from map value 128, using slicer value\n",
      "  warnings.warn(\n"
     ]
    },
    {
     "name": "stdout",
     "output_type": "stream",
     "text": [
      "Healpix slicer using NSIDE=64, approximate resolution 54.967783 arcminutes\n"
     ]
    },
    {
     "name": "stderr",
     "output_type": "stream",
     "text": [
      "/opt/lsst/software/stack/conda/miniconda3-py38_4.9.2/envs/lsst-scipipe-7.0.1/lib/python3.11/site-packages/rubin_sim/maf/maps/dust_map.py:44: UserWarning: Slicer value of nside 64 different from map value 128, using slicer value\n",
      "  warnings.warn(\n"
     ]
    },
    {
     "name": "stdout",
     "output_type": "stream",
     "text": [
      "Healpix slicer using NSIDE=64, approximate resolution 54.967783 arcminutes\n"
     ]
    },
    {
     "name": "stderr",
     "output_type": "stream",
     "text": [
      "/opt/lsst/software/stack/conda/miniconda3-py38_4.9.2/envs/lsst-scipipe-7.0.1/lib/python3.11/site-packages/rubin_sim/maf/maps/dust_map.py:44: UserWarning: Slicer value of nside 64 different from map value 128, using slicer value\n",
      "  warnings.warn(\n"
     ]
    },
    {
     "name": "stdout",
     "output_type": "stream",
     "text": [
      "Healpix slicer using NSIDE=64, approximate resolution 54.967783 arcminutes\n"
     ]
    },
    {
     "name": "stderr",
     "output_type": "stream",
     "text": [
      "/opt/lsst/software/stack/conda/miniconda3-py38_4.9.2/envs/lsst-scipipe-7.0.1/lib/python3.11/site-packages/rubin_sim/maf/maps/dust_map.py:44: UserWarning: Slicer value of nside 64 different from map value 128, using slicer value\n",
      "  warnings.warn(\n"
     ]
    },
    {
     "data": {
      "text/html": [
       "<div>\n",
       "<style scoped>\n",
       "    .dataframe tbody tr th:only-of-type {\n",
       "        vertical-align: middle;\n",
       "    }\n",
       "\n",
       "    .dataframe tbody tr th {\n",
       "        vertical-align: top;\n",
       "    }\n",
       "\n",
       "    .dataframe thead th {\n",
       "        text-align: right;\n",
       "    }\n",
       "</style>\n",
       "<table border=\"1\" class=\"dataframe\">\n",
       "  <thead>\n",
       "    <tr style=\"text-align: right;\">\n",
       "      <th></th>\n",
       "      <th>Mean depth</th>\n",
       "      <th>Median depth</th>\n",
       "      <th>Std depth</th>\n",
       "      <th>IQR depth</th>\n",
       "      <th>Mean z</th>\n",
       "      <th>Std z</th>\n",
       "      <th>Clbias</th>\n",
       "      <th>Used meanz</th>\n",
       "      <th>Strategy</th>\n",
       "      <th>Year</th>\n",
       "    </tr>\n",
       "  </thead>\n",
       "  <tbody>\n",
       "    <tr>\n",
       "      <th>0</th>\n",
       "      <td>{'u': 22.897534822477997, 'g': 24.426127202735...</td>\n",
       "      <td>{'u': 22.952803681718244, 'g': 24.491942924386...</td>\n",
       "      <td>{'u': 0.4702832239948085, 'g': 0.4081712049925...</td>\n",
       "      <td>{'u': 0.7848927775432273, 'g': 0.6198498019218...</td>\n",
       "      <td>{'u': [0.14216659416671965, 0.3227816772708301...</td>\n",
       "      <td>{'u': [0.002912747639921835, 0.002043703221582...</td>\n",
       "      <td>{'u': [-0.0008656864540923322, 0.0005744698650...</td>\n",
       "      <td>{'u': [0.14216659416671965, 0.3227816772708301...</td>\n",
       "      <td>baseline_v3.3_10yrs</td>\n",
       "      <td>0</td>\n",
       "    </tr>\n",
       "    <tr>\n",
       "      <th>1</th>\n",
       "      <td>{'u': 22.897534822477997, 'g': 24.426127202735...</td>\n",
       "      <td>{'u': 22.952803681718244, 'g': 24.491942924386...</td>\n",
       "      <td>{'u': 0.4702832239948085, 'g': 0.4081712049925...</td>\n",
       "      <td>{'u': 0.7848927775432273, 'g': 0.6198498019218...</td>\n",
       "      <td>{'u': [0.14216659416671965, 0.3227816772708301...</td>\n",
       "      <td>{'u': [0.002912747639921835, 0.002043703221582...</td>\n",
       "      <td>{'u': [-0.0008656864540923322, 0.0005744698650...</td>\n",
       "      <td>{'u': [0.14216659416671965, 0.3227816772708301...</td>\n",
       "      <td>noroll_v3.3_10yrs</td>\n",
       "      <td>0</td>\n",
       "    </tr>\n",
       "    <tr>\n",
       "      <th>2</th>\n",
       "      <td>{'u': 22.897534822477997, 'g': 24.426127202735...</td>\n",
       "      <td>{'u': 22.952803681718244, 'g': 24.491942924386...</td>\n",
       "      <td>{'u': 0.4702832239948085, 'g': 0.4081712049925...</td>\n",
       "      <td>{'u': 0.7848927775432273, 'g': 0.6198498019218...</td>\n",
       "      <td>{'u': [0.14216659416671965, 0.3227816772708301...</td>\n",
       "      <td>{'u': [0.002912747639921835, 0.002043703221582...</td>\n",
       "      <td>{'u': [-0.0008656864540923322, 0.0005744698650...</td>\n",
       "      <td>{'u': [0.14216659416671965, 0.3227816772708301...</td>\n",
       "      <td>roll_mid1_const_season4v3.3_10yrs</td>\n",
       "      <td>0</td>\n",
       "    </tr>\n",
       "    <tr>\n",
       "      <th>3</th>\n",
       "      <td>{'u': 22.897534822477997, 'g': 24.426127202735...</td>\n",
       "      <td>{'u': 22.952803681718244, 'g': 24.491942924386...</td>\n",
       "      <td>{'u': 0.4702832239948085, 'g': 0.4081712049925...</td>\n",
       "      <td>{'u': 0.7848927775432273, 'g': 0.6198498019218...</td>\n",
       "      <td>{'u': [0.14216659416671965, 0.3227816772708301...</td>\n",
       "      <td>{'u': [0.002912747639921835, 0.002043703221582...</td>\n",
       "      <td>{'u': [-0.0008656864540923322, 0.0005744698650...</td>\n",
       "      <td>{'u': [0.14216659416671965, 0.3227816772708301...</td>\n",
       "      <td>roll_mid2_const_season2v3.3_10yrs</td>\n",
       "      <td>0</td>\n",
       "    </tr>\n",
       "    <tr>\n",
       "      <th>4</th>\n",
       "      <td>{'u': 24.007879044950496, 'g': 25.396813313322...</td>\n",
       "      <td>{'u': 24.064697996861987, 'g': 25.434160022755...</td>\n",
       "      <td>{'u': 0.37417349349316653, 'g': 0.283640107403...</td>\n",
       "      <td>{'u': 0.45927565880968046, 'g': 0.347858597405...</td>\n",
       "      <td>{'u': [0.14234384475862158, 0.3222979588593976...</td>\n",
       "      <td>{'u': [0.0016235276308136845, 0.00236048455074...</td>\n",
       "      <td>{'u': [-0.00039793723242068655, 0.000391994008...</td>\n",
       "      <td>{'u': [0.14234384475862158, 0.3222979588593976...</td>\n",
       "      <td>baseline_v3.3_10yrs</td>\n",
       "      <td>1</td>\n",
       "    </tr>\n",
       "    <tr>\n",
       "      <th>5</th>\n",
       "      <td>{'u': 24.007879044950496, 'g': 25.396813313322...</td>\n",
       "      <td>{'u': 24.064697996861987, 'g': 25.434160022755...</td>\n",
       "      <td>{'u': 0.37417349349316653, 'g': 0.283640107403...</td>\n",
       "      <td>{'u': 0.45927565880968046, 'g': 0.347858597405...</td>\n",
       "      <td>{'u': [0.14234384475862158, 0.3222979588593976...</td>\n",
       "      <td>{'u': [0.0016235276308136845, 0.00236048455074...</td>\n",
       "      <td>{'u': [-0.00039793723242068655, 0.000391994008...</td>\n",
       "      <td>{'u': [0.14234384475862158, 0.3222979588593976...</td>\n",
       "      <td>noroll_v3.3_10yrs</td>\n",
       "      <td>1</td>\n",
       "    </tr>\n",
       "    <tr>\n",
       "      <th>6</th>\n",
       "      <td>{'u': 24.007879044950496, 'g': 25.396813313322...</td>\n",
       "      <td>{'u': 24.064697996861987, 'g': 25.434160022755...</td>\n",
       "      <td>{'u': 0.37417349349316653, 'g': 0.283640107403...</td>\n",
       "      <td>{'u': 0.45927565880968046, 'g': 0.347858597405...</td>\n",
       "      <td>{'u': [0.14234384475862158, 0.3222979588593976...</td>\n",
       "      <td>{'u': [0.0016235276308136845, 0.00236048455074...</td>\n",
       "      <td>{'u': [-0.00039793723242068655, 0.000391994008...</td>\n",
       "      <td>{'u': [0.14234384475862158, 0.3222979588593976...</td>\n",
       "      <td>roll_mid1_const_season4v3.3_10yrs</td>\n",
       "      <td>1</td>\n",
       "    </tr>\n",
       "    <tr>\n",
       "      <th>7</th>\n",
       "      <td>{'u': 24.007879044950496, 'g': 25.396813313322...</td>\n",
       "      <td>{'u': 24.064697996861987, 'g': 25.434160022755...</td>\n",
       "      <td>{'u': 0.37417349349316653, 'g': 0.283640107403...</td>\n",
       "      <td>{'u': 0.45927565880968046, 'g': 0.347858597405...</td>\n",
       "      <td>{'u': [0.14234384475862158, 0.3222979588593976...</td>\n",
       "      <td>{'u': [0.0016235276308136845, 0.00236048455074...</td>\n",
       "      <td>{'u': [-0.00039793723242068655, 0.000391994008...</td>\n",
       "      <td>{'u': [0.14234384475862158, 0.3222979588593976...</td>\n",
       "      <td>roll_mid2_const_season2v3.3_10yrs</td>\n",
       "      <td>1</td>\n",
       "    </tr>\n",
       "    <tr>\n",
       "      <th>8</th>\n",
       "      <td>{'u': 24.264766602694806, 'g': 25.763517382020...</td>\n",
       "      <td>{'u': 24.32018395809292, 'g': 25.7958465448354...</td>\n",
       "      <td>{'u': 0.32591205269085516, 'g': 0.282283864800...</td>\n",
       "      <td>{'u': 0.3823772043403757, 'g': 0.3674022268497...</td>\n",
       "      <td>{'u': [0.14344649886094202, 0.3215418969129662...</td>\n",
       "      <td>{'u': [0.001583742795748655, 0.001502323952695...</td>\n",
       "      <td>{'u': [-0.0003604443064439517, 0.0003256794791...</td>\n",
       "      <td>{'u': [0.14344649886094202, 0.3215418969129662...</td>\n",
       "      <td>baseline_v3.3_10yrs</td>\n",
       "      <td>2</td>\n",
       "    </tr>\n",
       "    <tr>\n",
       "      <th>9</th>\n",
       "      <td>{'u': 24.23963213312204, 'g': 25.7882233571698...</td>\n",
       "      <td>{'u': 24.290920954977793, 'g': 25.810690105249...</td>\n",
       "      <td>{'u': 0.31975516643457014, 'g': 0.265709651224...</td>\n",
       "      <td>{'u': 0.35520413317849275, 'g': 0.324172319501...</td>\n",
       "      <td>{'u': [0.14344649886094202, 0.3215418969129662...</td>\n",
       "      <td>{'u': [0.0015538239137308594, 0.00147394317444...</td>\n",
       "      <td>{'u': [-0.0003536350627287275, 0.0003195269865...</td>\n",
       "      <td>{'u': [0.14344649886094202, 0.3215418969129662...</td>\n",
       "      <td>noroll_v3.3_10yrs</td>\n",
       "      <td>2</td>\n",
       "    </tr>\n",
       "    <tr>\n",
       "      <th>10</th>\n",
       "      <td>{'u': 24.264766602694806, 'g': 25.763517382020...</td>\n",
       "      <td>{'u': 24.32018395809292, 'g': 25.7958465448354...</td>\n",
       "      <td>{'u': 0.32591205269085516, 'g': 0.282283864800...</td>\n",
       "      <td>{'u': 0.3823772043403757, 'g': 0.3674022268497...</td>\n",
       "      <td>{'u': [0.14344649886094202, 0.3215418969129662...</td>\n",
       "      <td>{'u': [0.001583742795748655, 0.001502323952695...</td>\n",
       "      <td>{'u': [-0.0003604443064439517, 0.0003256794791...</td>\n",
       "      <td>{'u': [0.14344649886094202, 0.3215418969129662...</td>\n",
       "      <td>roll_mid1_const_season4v3.3_10yrs</td>\n",
       "      <td>2</td>\n",
       "    </tr>\n",
       "    <tr>\n",
       "      <th>11</th>\n",
       "      <td>{'u': 24.264766602694806, 'g': 25.763517382020...</td>\n",
       "      <td>{'u': 24.32018395809292, 'g': 25.7958465448354...</td>\n",
       "      <td>{'u': 0.32591205269085516, 'g': 0.282283864800...</td>\n",
       "      <td>{'u': 0.3823772043403757, 'g': 0.3674022268497...</td>\n",
       "      <td>{'u': [0.14344649886094202, 0.3215418969129662...</td>\n",
       "      <td>{'u': [0.001583742795748655, 0.001502323952695...</td>\n",
       "      <td>{'u': [-0.0003604443064439517, 0.0003256794791...</td>\n",
       "      <td>{'u': [0.14344649886094202, 0.3215418969129662...</td>\n",
       "      <td>roll_mid2_const_season2v3.3_10yrs</td>\n",
       "      <td>2</td>\n",
       "    </tr>\n",
       "    <tr>\n",
       "      <th>12</th>\n",
       "      <td>{'u': 24.473306224622355, 'g': 26.042360926267...</td>\n",
       "      <td>{'u': 24.526970976810418, 'g': 26.056186624852...</td>\n",
       "      <td>{'u': 0.346371685068987, 'g': 0.30171872407210...</td>\n",
       "      <td>{'u': 0.41574857437444024, 'g': 0.369172418036...</td>\n",
       "      <td>{'u': [0.1438908096182065, 0.3207561899440961,...</td>\n",
       "      <td>{'u': [0.0013803743622698129, 0.00211936073808...</td>\n",
       "      <td>{'u': [-0.0004135757625245327, 0.0003279243890...</td>\n",
       "      <td>{'u': [0.1438908096182065, 0.3207561899440961,...</td>\n",
       "      <td>baseline_v3.3_10yrs</td>\n",
       "      <td>3</td>\n",
       "    </tr>\n",
       "    <tr>\n",
       "      <th>13</th>\n",
       "      <td>{'u': 24.51764797626818, 'g': 26.0884422086296...</td>\n",
       "      <td>{'u': 24.570514435094502, 'g': 26.110845404952...</td>\n",
       "      <td>{'u': 0.31108840392566384, 'g': 0.265423541825...</td>\n",
       "      <td>{'u': 0.3491390463460782, 'g': 0.3420003102697...</td>\n",
       "      <td>{'u': [0.1438908096182065, 0.3207561899440961,...</td>\n",
       "      <td>{'u': [0.0012397620119926798, 0.00190347126446...</td>\n",
       "      <td>{'u': [-0.0003714467129161299, 0.0002945202485...</td>\n",
       "      <td>{'u': [0.1438908096182065, 0.3207561899440961,...</td>\n",
       "      <td>noroll_v3.3_10yrs</td>\n",
       "      <td>3</td>\n",
       "    </tr>\n",
       "    <tr>\n",
       "      <th>14</th>\n",
       "      <td>{'u': 24.473306224622355, 'g': 26.042360926267...</td>\n",
       "      <td>{'u': 24.526970976810418, 'g': 26.056186624852...</td>\n",
       "      <td>{'u': 0.346371685068987, 'g': 0.30171872407210...</td>\n",
       "      <td>{'u': 0.41574857437444024, 'g': 0.369172418036...</td>\n",
       "      <td>{'u': [0.1438908096182065, 0.3207561899440961,...</td>\n",
       "      <td>{'u': [0.0013803743622698129, 0.00211936073808...</td>\n",
       "      <td>{'u': [-0.0004135757625245327, 0.0003279243890...</td>\n",
       "      <td>{'u': [0.1438908096182065, 0.3207561899440961,...</td>\n",
       "      <td>roll_mid1_const_season4v3.3_10yrs</td>\n",
       "      <td>3</td>\n",
       "    </tr>\n",
       "    <tr>\n",
       "      <th>15</th>\n",
       "      <td>{'u': 24.473306224622355, 'g': 26.042360926267...</td>\n",
       "      <td>{'u': 24.526970976810418, 'g': 26.056186624852...</td>\n",
       "      <td>{'u': 0.346371685068987, 'g': 0.30171872407210...</td>\n",
       "      <td>{'u': 0.41574857437444024, 'g': 0.369172418036...</td>\n",
       "      <td>{'u': [0.1438908096182065, 0.3207561899440961,...</td>\n",
       "      <td>{'u': [0.0013803743622698129, 0.00211936073808...</td>\n",
       "      <td>{'u': [-0.0004135757625245327, 0.0003279243890...</td>\n",
       "      <td>{'u': [0.1438908096182065, 0.3207561899440961,...</td>\n",
       "      <td>roll_mid2_const_season2v3.3_10yrs</td>\n",
       "      <td>3</td>\n",
       "    </tr>\n",
       "    <tr>\n",
       "      <th>16</th>\n",
       "      <td>{'u': 24.62692611676326, 'g': 26.1881692700780...</td>\n",
       "      <td>{'u': 24.68522125789747, 'g': 26.2178929368405...</td>\n",
       "      <td>{'u': 0.31067769257306355, 'g': 0.266203987198...</td>\n",
       "      <td>{'u': 0.35248989601482705, 'g': 0.338195350817...</td>\n",
       "      <td>{'u': [0.14224256556999432, 0.3205282700988792...</td>\n",
       "      <td>{'u': [0.0013428031187166511, 0.00127508085349...</td>\n",
       "      <td>{'u': [-0.0002843648675304058, 0.0002865813346...</td>\n",
       "      <td>{'u': [0.14224256556999432, 0.3205282700988792...</td>\n",
       "      <td>baseline_v3.3_10yrs</td>\n",
       "      <td>4</td>\n",
       "    </tr>\n",
       "    <tr>\n",
       "      <th>17</th>\n",
       "      <td>{'u': 24.664448395692432, 'g': 26.222501421073...</td>\n",
       "      <td>{'u': 24.719127249757253, 'g': 26.250984284204...</td>\n",
       "      <td>{'u': 0.30700734376273686, 'g': 0.262589132585...</td>\n",
       "      <td>{'u': 0.3422394603971597, 'g': 0.3381250071550...</td>\n",
       "      <td>{'u': [0.14224256556999432, 0.3205282700988792...</td>\n",
       "      <td>{'u': [0.0013269392316494278, 0.00126001703782...</td>\n",
       "      <td>{'u': [-0.000281005378651128, 0.00028319566036...</td>\n",
       "      <td>{'u': [0.14224256556999432, 0.3205282700988792...</td>\n",
       "      <td>noroll_v3.3_10yrs</td>\n",
       "      <td>4</td>\n",
       "    </tr>\n",
       "    <tr>\n",
       "      <th>18</th>\n",
       "      <td>{'u': 24.62692611676326, 'g': 26.1881692700780...</td>\n",
       "      <td>{'u': 24.68522125789747, 'g': 26.2178929368405...</td>\n",
       "      <td>{'u': 0.31067769257306355, 'g': 0.266203987198...</td>\n",
       "      <td>{'u': 0.35248989601482705, 'g': 0.338195350817...</td>\n",
       "      <td>{'u': [0.14224256556999432, 0.3205282700988792...</td>\n",
       "      <td>{'u': [0.0013428031187166511, 0.00127508085349...</td>\n",
       "      <td>{'u': [-0.0002843648675304058, 0.0002865813346...</td>\n",
       "      <td>{'u': [0.14224256556999432, 0.3205282700988792...</td>\n",
       "      <td>roll_mid1_const_season4v3.3_10yrs</td>\n",
       "      <td>4</td>\n",
       "    </tr>\n",
       "    <tr>\n",
       "      <th>19</th>\n",
       "      <td>{'u': 24.63224882664417, 'g': 26.1850500268478...</td>\n",
       "      <td>{'u': 24.692855189017408, 'g': 26.214175991605...</td>\n",
       "      <td>{'u': 0.3087564664932754, 'g': 0.2637626351219...</td>\n",
       "      <td>{'u': 0.33845452035486545, 'g': 0.325747059634...</td>\n",
       "      <td>{'u': [0.14224256556999432, 0.3205282700988792...</td>\n",
       "      <td>{'u': [0.0013344992448519623, 0.00126719577307...</td>\n",
       "      <td>{'u': [-0.0002826063595565951, 0.0002848091200...</td>\n",
       "      <td>{'u': [0.14224256556999432, 0.3205282700988792...</td>\n",
       "      <td>roll_mid2_const_season2v3.3_10yrs</td>\n",
       "      <td>4</td>\n",
       "    </tr>\n",
       "    <tr>\n",
       "      <th>20</th>\n",
       "      <td>{'u': 24.73024906538313, 'g': 26.2731284186055...</td>\n",
       "      <td>{'u': 24.78489532291566, 'g': 26.3061335260787...</td>\n",
       "      <td>{'u': 0.3143430882106561, 'g': 0.2689013956773...</td>\n",
       "      <td>{'u': 0.3551792695190841, 'g': 0.3298533515542...</td>\n",
       "      <td>{'u': [0.14198504894993383, 0.3209955274678214...</td>\n",
       "      <td>{'u': [0.0012619737166645094, 0.00134528181425...</td>\n",
       "      <td>{'u': [-0.0002836671766219986, 0.0002483731543...</td>\n",
       "      <td>{'u': [0.14198504894993383, 0.3209955274678214...</td>\n",
       "      <td>baseline_v3.3_10yrs</td>\n",
       "      <td>5</td>\n",
       "    </tr>\n",
       "    <tr>\n",
       "      <th>21</th>\n",
       "      <td>{'u': 24.773243756288053, 'g': 26.313464475137...</td>\n",
       "      <td>{'u': 24.82859106585774, 'g': 26.3437904850191...</td>\n",
       "      <td>{'u': 0.30334826102681745, 'g': 0.259221683028...</td>\n",
       "      <td>{'u': 0.33457987566562863, 'g': 0.327890332051...</td>\n",
       "      <td>{'u': [0.14198504894993383, 0.3209955274678214...</td>\n",
       "      <td>{'u': [0.0012178334653096764, 0.00129822768258...</td>\n",
       "      <td>{'u': [-0.0002737453055783564, 0.0002396857677...</td>\n",
       "      <td>{'u': [0.14198504894993383, 0.3209955274678214...</td>\n",
       "      <td>noroll_v3.3_10yrs</td>\n",
       "      <td>5</td>\n",
       "    </tr>\n",
       "    <tr>\n",
       "      <th>22</th>\n",
       "      <td>{'u': 24.73024906538313, 'g': 26.2731284186055...</td>\n",
       "      <td>{'u': 24.78489532291566, 'g': 26.3061335260787...</td>\n",
       "      <td>{'u': 0.3143430882106561, 'g': 0.2689013956773...</td>\n",
       "      <td>{'u': 0.3551792695190841, 'g': 0.3298533515542...</td>\n",
       "      <td>{'u': [0.14198504894993383, 0.3209955274678214...</td>\n",
       "      <td>{'u': [0.0012619737166645094, 0.00134528181425...</td>\n",
       "      <td>{'u': [-0.0002836671766219986, 0.0002483731543...</td>\n",
       "      <td>{'u': [0.14198504894993383, 0.3209955274678214...</td>\n",
       "      <td>roll_mid1_const_season4v3.3_10yrs</td>\n",
       "      <td>5</td>\n",
       "    </tr>\n",
       "    <tr>\n",
       "      <th>23</th>\n",
       "      <td>{'u': 24.75157314753466, 'g': 26.2878314621532...</td>\n",
       "      <td>{'u': 24.808409422446545, 'g': 26.321211475172...</td>\n",
       "      <td>{'u': 0.3017062204763627, 'g': 0.2608781792810...</td>\n",
       "      <td>{'u': 0.34386920458115, 'g': 0.325318745736090...</td>\n",
       "      <td>{'u': [0.14198504894993383, 0.3209955274678214...</td>\n",
       "      <td>{'u': [0.0012112412668676272, 0.00129120030589...</td>\n",
       "      <td>{'u': [-0.00027226350742749555, 0.000238388335...</td>\n",
       "      <td>{'u': [0.14198504894993383, 0.3209955274678214...</td>\n",
       "      <td>roll_mid2_const_season2v3.3_10yrs</td>\n",
       "      <td>5</td>\n",
       "    </tr>\n",
       "    <tr>\n",
       "      <th>24</th>\n",
       "      <td>{'u': 24.824866034299177, 'g': 26.355696627852...</td>\n",
       "      <td>{'u': 24.884421828337608, 'g': 26.387144227959...</td>\n",
       "      <td>{'u': 0.296395720226073, 'g': 0.25124313049521...</td>\n",
       "      <td>{'u': 0.3274813922722579, 'g': 0.3136911585985...</td>\n",
       "      <td>{'u': [0.14262517619012655, 0.3206903192564599...</td>\n",
       "      <td>{'u': [0.001366776768026581, 0.001090573350909...</td>\n",
       "      <td>{'u': [-0.0003037914030615549, 0.0002561376420...</td>\n",
       "      <td>{'u': [0.14262517619012655, 0.3206903192564599...</td>\n",
       "      <td>baseline_v3.3_10yrs</td>\n",
       "      <td>6</td>\n",
       "    </tr>\n",
       "    <tr>\n",
       "      <th>25</th>\n",
       "      <td>{'u': 24.86955519801198, 'g': 26.3924343315757...</td>\n",
       "      <td>{'u': 24.930075171321285, 'g': 26.420488722683...</td>\n",
       "      <td>{'u': 0.3005554755567366, 'g': 0.2533424462858...</td>\n",
       "      <td>{'u': 0.32697713373682546, 'g': 0.310205344119...</td>\n",
       "      <td>{'u': [0.14262517619012655, 0.3206903192564599...</td>\n",
       "      <td>{'u': [0.0013859587485973166, 0.00110587896431...</td>\n",
       "      <td>{'u': [-0.0003080549528433509, 0.0002597323967...</td>\n",
       "      <td>{'u': [0.14262517619012655, 0.3206903192564599...</td>\n",
       "      <td>noroll_v3.3_10yrs</td>\n",
       "      <td>6</td>\n",
       "    </tr>\n",
       "    <tr>\n",
       "      <th>26</th>\n",
       "      <td>{'u': 24.83073079514107, 'g': 26.3591056636757...</td>\n",
       "      <td>{'u': 24.891069726507723, 'g': 26.389787637711...</td>\n",
       "      <td>{'u': 0.2965011893687378, 'g': 0.2507054020798...</td>\n",
       "      <td>{'u': 0.31853791533861653, 'g': 0.306458599379...</td>\n",
       "      <td>{'u': [0.14262517619012655, 0.3206903192564599...</td>\n",
       "      <td>{'u': [0.0013672631204402661, 0.00109096141938...</td>\n",
       "      <td>{'u': [-0.0003038995038762546, 0.0002562287857...</td>\n",
       "      <td>{'u': [0.14262517619012655, 0.3206903192564599...</td>\n",
       "      <td>roll_mid1_const_season4v3.3_10yrs</td>\n",
       "      <td>6</td>\n",
       "    </tr>\n",
       "    <tr>\n",
       "      <th>27</th>\n",
       "      <td>{'u': 24.837288107788655, 'g': 26.363057698172...</td>\n",
       "      <td>{'u': 24.89300450568881, 'g': 26.3929993731501...</td>\n",
       "      <td>{'u': 0.3101018754828592, 'g': 0.2607502609287...</td>\n",
       "      <td>{'u': 0.35080729607446415, 'g': 0.319129997520...</td>\n",
       "      <td>{'u': [0.14262517619012655, 0.3206903192564599...</td>\n",
       "      <td>{'u': [0.0014299802939400192, 0.00114100446933...</td>\n",
       "      <td>{'u': [-0.0003178395550823154, 0.0002679821527...</td>\n",
       "      <td>{'u': [0.14262517619012655, 0.3206903192564599...</td>\n",
       "      <td>roll_mid2_const_season2v3.3_10yrs</td>\n",
       "      <td>6</td>\n",
       "    </tr>\n",
       "    <tr>\n",
       "      <th>28</th>\n",
       "      <td>{'u': 24.904978885225507, 'g': 26.425540720233...</td>\n",
       "      <td>{'u': 24.96111417182397, 'g': 26.4515871259209...</td>\n",
       "      <td>{'u': 0.303766190989879, 'g': 0.25518927297401...</td>\n",
       "      <td>{'u': 0.3436412944043248, 'g': 0.3116889238447...</td>\n",
       "      <td>{'u': [0.14232786881196224, 0.3199419407548493...</td>\n",
       "      <td>{'u': [0.00105915483643927, 0.0014129724892940...</td>\n",
       "      <td>{'u': [-0.00020844048721939092, 0.000254291880...</td>\n",
       "      <td>{'u': [0.14232786881196224, 0.3199419407548493...</td>\n",
       "      <td>baseline_v3.3_10yrs</td>\n",
       "      <td>7</td>\n",
       "    </tr>\n",
       "    <tr>\n",
       "      <th>29</th>\n",
       "      <td>{'u': 24.94449384712918, 'g': 26.4609405440185...</td>\n",
       "      <td>{'u': 25.008278848225817, 'g': 26.488384886597...</td>\n",
       "      <td>{'u': 0.3004823812379811, 'g': 0.2551009363939...</td>\n",
       "      <td>{'u': 0.3265700176860449, 'g': 0.3155974961561...</td>\n",
       "      <td>{'u': [0.14232786881196224, 0.3199419407548493...</td>\n",
       "      <td>{'u': [0.0010477050336507004, 0.00139769780443...</td>\n",
       "      <td>{'u': [-0.00020618717883641707, 0.000251542903...</td>\n",
       "      <td>{'u': [0.14232786881196224, 0.3199419407548493...</td>\n",
       "      <td>noroll_v3.3_10yrs</td>\n",
       "      <td>7</td>\n",
       "    </tr>\n",
       "    <tr>\n",
       "      <th>30</th>\n",
       "      <td>{'u': 24.92099051552466, 'g': 26.4360169454753...</td>\n",
       "      <td>{'u': 24.983287950139726, 'g': 26.466124736414...</td>\n",
       "      <td>{'u': 0.29676050266501847, 'g': 0.251658703603...</td>\n",
       "      <td>{'u': 0.32822995023211377, 'g': 0.311917435557...</td>\n",
       "      <td>{'u': [0.14232786881196224, 0.3199419407548493...</td>\n",
       "      <td>{'u': [0.0010347277971835768, 0.00138038543660...</td>\n",
       "      <td>{'u': [-0.00020363327321383425, 0.000248427206...</td>\n",
       "      <td>{'u': [0.14232786881196224, 0.3199419407548493...</td>\n",
       "      <td>roll_mid1_const_season4v3.3_10yrs</td>\n",
       "      <td>7</td>\n",
       "    </tr>\n",
       "    <tr>\n",
       "      <th>31</th>\n",
       "      <td>{'u': 24.91742130018434, 'g': 26.4343477445486...</td>\n",
       "      <td>{'u': 24.97907324503396, 'g': 26.4613733995856...</td>\n",
       "      <td>{'u': 0.2972326895848322, 'g': 0.2486426814962...</td>\n",
       "      <td>{'u': 0.3234283531608533, 'g': 0.3019648736761...</td>\n",
       "      <td>{'u': [0.14232786881196224, 0.3199419407548493...</td>\n",
       "      <td>{'u': [0.0010363741919261725, 0.00138258182035...</td>\n",
       "      <td>{'u': [-0.00020395728185779752, 0.000248822488...</td>\n",
       "      <td>{'u': [0.14232786881196224, 0.3199419407548493...</td>\n",
       "      <td>roll_mid2_const_season2v3.3_10yrs</td>\n",
       "      <td>7</td>\n",
       "    </tr>\n",
       "    <tr>\n",
       "      <th>32</th>\n",
       "      <td>{'u': 24.957353199026077, 'g': 26.480434667949...</td>\n",
       "      <td>{'u': 25.018763793187247, 'g': 26.507916175206...</td>\n",
       "      <td>{'u': 0.29403435442236536, 'g': 0.250015369026...</td>\n",
       "      <td>{'u': 0.32810856304067215, 'g': 0.311879807926...</td>\n",
       "      <td>{'u': [0.14178510183653914, 0.3201906328749271...</td>\n",
       "      <td>{'u': [0.0012310559937900323, 0.00121734362579...</td>\n",
       "      <td>{'u': [-0.000281248376030946, 0.00022973692688...</td>\n",
       "      <td>{'u': [0.14178510183653914, 0.3201906328749271...</td>\n",
       "      <td>baseline_v3.3_10yrs</td>\n",
       "      <td>8</td>\n",
       "    </tr>\n",
       "    <tr>\n",
       "      <th>33</th>\n",
       "      <td>{'u': 24.99413480324656, 'g': 26.5179704612004...</td>\n",
       "      <td>{'u': 25.057357331125182, 'g': 26.545917276812...</td>\n",
       "      <td>{'u': 0.30066805709672556, 'g': 0.258365488745...</td>\n",
       "      <td>{'u': 0.32784674462158137, 'g': 0.324392031231...</td>\n",
       "      <td>{'u': [0.14178510183653914, 0.3201906328749271...</td>\n",
       "      <td>{'u': [0.0012588298212883027, 0.00124480808885...</td>\n",
       "      <td>{'u': [-0.00028759361452493457, 0.000234920016...</td>\n",
       "      <td>{'u': [0.14178510183653914, 0.3201906328749271...</td>\n",
       "      <td>noroll_v3.3_10yrs</td>\n",
       "      <td>8</td>\n",
       "    </tr>\n",
       "    <tr>\n",
       "      <th>34</th>\n",
       "      <td>{'u': 24.965675958640418, 'g': 26.492652056312...</td>\n",
       "      <td>{'u': 25.026078973834103, 'g': 26.518393792059...</td>\n",
       "      <td>{'u': 0.3025045120690707, 'g': 0.2583523790352...</td>\n",
       "      <td>{'u': 0.3302619485871823, 'g': 0.3123921068334...</td>\n",
       "      <td>{'u': [0.14178510183653914, 0.3201906328749271...</td>\n",
       "      <td>{'u': [0.0012665186469885252, 0.00125241127100...</td>\n",
       "      <td>{'u': [-0.00028935021191179693, 0.000236354888...</td>\n",
       "      <td>{'u': [0.14178510183653914, 0.3201906328749271...</td>\n",
       "      <td>roll_mid1_const_season4v3.3_10yrs</td>\n",
       "      <td>8</td>\n",
       "    </tr>\n",
       "    <tr>\n",
       "      <th>35</th>\n",
       "      <td>{'u': 24.973556853821155, 'g': 26.492756231922...</td>\n",
       "      <td>{'u': 25.03514183981298, 'g': 26.5238225190777...</td>\n",
       "      <td>{'u': 0.2990332473237841, 'g': 0.2514785759194...</td>\n",
       "      <td>{'u': 0.3330465758551462, 'g': 0.3121682629691...</td>\n",
       "      <td>{'u': [0.14178510183653914, 0.3201906328749271...</td>\n",
       "      <td>{'u': [0.0012519852388801016, 0.00123803974622...</td>\n",
       "      <td>{'u': [-0.00028602989386833794, 0.000233642695...</td>\n",
       "      <td>{'u': [0.14178510183653914, 0.3201906328749271...</td>\n",
       "      <td>roll_mid2_const_season2v3.3_10yrs</td>\n",
       "      <td>8</td>\n",
       "    </tr>\n",
       "    <tr>\n",
       "      <th>36</th>\n",
       "      <td>{'u': 25.01943260202648, 'g': 26.5457183172156...</td>\n",
       "      <td>{'u': 25.07955545569824, 'g': 26.5723256871625...</td>\n",
       "      <td>{'u': 0.3017103554393496, 'g': 0.2510927786518...</td>\n",
       "      <td>{'u': 0.33651890901507286, 'g': 0.305626062633...</td>\n",
       "      <td>{'u': [0.14226399536488596, 0.3195197232235648...</td>\n",
       "      <td>{'u': [0.0010122022696514828, 0.00150506933889...</td>\n",
       "      <td>{'u': [-0.00019736472709412287, 0.000228280227...</td>\n",
       "      <td>{'u': [0.14226399536488596, 0.3195197232235648...</td>\n",
       "      <td>baseline_v3.3_10yrs</td>\n",
       "      <td>9</td>\n",
       "    </tr>\n",
       "    <tr>\n",
       "      <th>37</th>\n",
       "      <td>{'u': 25.060276680814287, 'g': 26.579738898204...</td>\n",
       "      <td>{'u': 25.1232209852882, 'g': 26.60952611313293...</td>\n",
       "      <td>{'u': 0.30186297173977716, 'g': 0.255359452556...</td>\n",
       "      <td>{'u': 0.33091063136686216, 'g': 0.321279181565...</td>\n",
       "      <td>{'u': [0.14226399536488596, 0.3195197232235648...</td>\n",
       "      <td>{'u': [0.0010127142791430152, 0.00150583065884...</td>\n",
       "      <td>{'u': [-0.00019746456150133128, 0.000228395700...</td>\n",
       "      <td>{'u': [0.14226399536488596, 0.3195197232235648...</td>\n",
       "      <td>noroll_v3.3_10yrs</td>\n",
       "      <td>9</td>\n",
       "    </tr>\n",
       "    <tr>\n",
       "      <th>38</th>\n",
       "      <td>{'u': 25.030576085453983, 'g': 26.552230089086...</td>\n",
       "      <td>{'u': 25.096189704166065, 'g': 26.577407802678...</td>\n",
       "      <td>{'u': 0.2972162753486728, 'g': 0.2507830765885...</td>\n",
       "      <td>{'u': 0.3135881232568636, 'g': 0.3041429638327...</td>\n",
       "      <td>{'u': [0.14226399536488596, 0.3195197232235648...</td>\n",
       "      <td>{'u': [0.0009971251667752674, 0.00148265081056...</td>\n",
       "      <td>{'u': [-0.0001944249112255424, 0.0002248799150...</td>\n",
       "      <td>{'u': [0.14226399536488596, 0.3195197232235648...</td>\n",
       "      <td>roll_mid1_const_season4v3.3_10yrs</td>\n",
       "      <td>9</td>\n",
       "    </tr>\n",
       "    <tr>\n",
       "      <th>39</th>\n",
       "      <td>{'u': 25.042527925413616, 'g': 26.559956071016...</td>\n",
       "      <td>{'u': 25.103192472937423, 'g': 26.592760932697...</td>\n",
       "      <td>{'u': 0.300638872061588, 'g': 0.24926260647753...</td>\n",
       "      <td>{'u': 0.3329408705134327, 'g': 0.3029936867088...</td>\n",
       "      <td>{'u': [0.14226399536488596, 0.3195197232235648...</td>\n",
       "      <td>{'u': [0.0010086075706717782, 0.00149972428941...</td>\n",
       "      <td>{'u': [-0.00019666381305313857, 0.000227469521...</td>\n",
       "      <td>{'u': [0.14226399536488596, 0.3195197232235648...</td>\n",
       "      <td>roll_mid2_const_season2v3.3_10yrs</td>\n",
       "      <td>9</td>\n",
       "    </tr>\n",
       "  </tbody>\n",
       "</table>\n",
       "</div>"
      ],
      "text/plain": [
       "                                           Mean depth  \\\n",
       "0   {'u': 22.897534822477997, 'g': 24.426127202735...   \n",
       "1   {'u': 22.897534822477997, 'g': 24.426127202735...   \n",
       "2   {'u': 22.897534822477997, 'g': 24.426127202735...   \n",
       "3   {'u': 22.897534822477997, 'g': 24.426127202735...   \n",
       "4   {'u': 24.007879044950496, 'g': 25.396813313322...   \n",
       "5   {'u': 24.007879044950496, 'g': 25.396813313322...   \n",
       "6   {'u': 24.007879044950496, 'g': 25.396813313322...   \n",
       "7   {'u': 24.007879044950496, 'g': 25.396813313322...   \n",
       "8   {'u': 24.264766602694806, 'g': 25.763517382020...   \n",
       "9   {'u': 24.23963213312204, 'g': 25.7882233571698...   \n",
       "10  {'u': 24.264766602694806, 'g': 25.763517382020...   \n",
       "11  {'u': 24.264766602694806, 'g': 25.763517382020...   \n",
       "12  {'u': 24.473306224622355, 'g': 26.042360926267...   \n",
       "13  {'u': 24.51764797626818, 'g': 26.0884422086296...   \n",
       "14  {'u': 24.473306224622355, 'g': 26.042360926267...   \n",
       "15  {'u': 24.473306224622355, 'g': 26.042360926267...   \n",
       "16  {'u': 24.62692611676326, 'g': 26.1881692700780...   \n",
       "17  {'u': 24.664448395692432, 'g': 26.222501421073...   \n",
       "18  {'u': 24.62692611676326, 'g': 26.1881692700780...   \n",
       "19  {'u': 24.63224882664417, 'g': 26.1850500268478...   \n",
       "20  {'u': 24.73024906538313, 'g': 26.2731284186055...   \n",
       "21  {'u': 24.773243756288053, 'g': 26.313464475137...   \n",
       "22  {'u': 24.73024906538313, 'g': 26.2731284186055...   \n",
       "23  {'u': 24.75157314753466, 'g': 26.2878314621532...   \n",
       "24  {'u': 24.824866034299177, 'g': 26.355696627852...   \n",
       "25  {'u': 24.86955519801198, 'g': 26.3924343315757...   \n",
       "26  {'u': 24.83073079514107, 'g': 26.3591056636757...   \n",
       "27  {'u': 24.837288107788655, 'g': 26.363057698172...   \n",
       "28  {'u': 24.904978885225507, 'g': 26.425540720233...   \n",
       "29  {'u': 24.94449384712918, 'g': 26.4609405440185...   \n",
       "30  {'u': 24.92099051552466, 'g': 26.4360169454753...   \n",
       "31  {'u': 24.91742130018434, 'g': 26.4343477445486...   \n",
       "32  {'u': 24.957353199026077, 'g': 26.480434667949...   \n",
       "33  {'u': 24.99413480324656, 'g': 26.5179704612004...   \n",
       "34  {'u': 24.965675958640418, 'g': 26.492652056312...   \n",
       "35  {'u': 24.973556853821155, 'g': 26.492756231922...   \n",
       "36  {'u': 25.01943260202648, 'g': 26.5457183172156...   \n",
       "37  {'u': 25.060276680814287, 'g': 26.579738898204...   \n",
       "38  {'u': 25.030576085453983, 'g': 26.552230089086...   \n",
       "39  {'u': 25.042527925413616, 'g': 26.559956071016...   \n",
       "\n",
       "                                         Median depth  \\\n",
       "0   {'u': 22.952803681718244, 'g': 24.491942924386...   \n",
       "1   {'u': 22.952803681718244, 'g': 24.491942924386...   \n",
       "2   {'u': 22.952803681718244, 'g': 24.491942924386...   \n",
       "3   {'u': 22.952803681718244, 'g': 24.491942924386...   \n",
       "4   {'u': 24.064697996861987, 'g': 25.434160022755...   \n",
       "5   {'u': 24.064697996861987, 'g': 25.434160022755...   \n",
       "6   {'u': 24.064697996861987, 'g': 25.434160022755...   \n",
       "7   {'u': 24.064697996861987, 'g': 25.434160022755...   \n",
       "8   {'u': 24.32018395809292, 'g': 25.7958465448354...   \n",
       "9   {'u': 24.290920954977793, 'g': 25.810690105249...   \n",
       "10  {'u': 24.32018395809292, 'g': 25.7958465448354...   \n",
       "11  {'u': 24.32018395809292, 'g': 25.7958465448354...   \n",
       "12  {'u': 24.526970976810418, 'g': 26.056186624852...   \n",
       "13  {'u': 24.570514435094502, 'g': 26.110845404952...   \n",
       "14  {'u': 24.526970976810418, 'g': 26.056186624852...   \n",
       "15  {'u': 24.526970976810418, 'g': 26.056186624852...   \n",
       "16  {'u': 24.68522125789747, 'g': 26.2178929368405...   \n",
       "17  {'u': 24.719127249757253, 'g': 26.250984284204...   \n",
       "18  {'u': 24.68522125789747, 'g': 26.2178929368405...   \n",
       "19  {'u': 24.692855189017408, 'g': 26.214175991605...   \n",
       "20  {'u': 24.78489532291566, 'g': 26.3061335260787...   \n",
       "21  {'u': 24.82859106585774, 'g': 26.3437904850191...   \n",
       "22  {'u': 24.78489532291566, 'g': 26.3061335260787...   \n",
       "23  {'u': 24.808409422446545, 'g': 26.321211475172...   \n",
       "24  {'u': 24.884421828337608, 'g': 26.387144227959...   \n",
       "25  {'u': 24.930075171321285, 'g': 26.420488722683...   \n",
       "26  {'u': 24.891069726507723, 'g': 26.389787637711...   \n",
       "27  {'u': 24.89300450568881, 'g': 26.3929993731501...   \n",
       "28  {'u': 24.96111417182397, 'g': 26.4515871259209...   \n",
       "29  {'u': 25.008278848225817, 'g': 26.488384886597...   \n",
       "30  {'u': 24.983287950139726, 'g': 26.466124736414...   \n",
       "31  {'u': 24.97907324503396, 'g': 26.4613733995856...   \n",
       "32  {'u': 25.018763793187247, 'g': 26.507916175206...   \n",
       "33  {'u': 25.057357331125182, 'g': 26.545917276812...   \n",
       "34  {'u': 25.026078973834103, 'g': 26.518393792059...   \n",
       "35  {'u': 25.03514183981298, 'g': 26.5238225190777...   \n",
       "36  {'u': 25.07955545569824, 'g': 26.5723256871625...   \n",
       "37  {'u': 25.1232209852882, 'g': 26.60952611313293...   \n",
       "38  {'u': 25.096189704166065, 'g': 26.577407802678...   \n",
       "39  {'u': 25.103192472937423, 'g': 26.592760932697...   \n",
       "\n",
       "                                            Std depth  \\\n",
       "0   {'u': 0.4702832239948085, 'g': 0.4081712049925...   \n",
       "1   {'u': 0.4702832239948085, 'g': 0.4081712049925...   \n",
       "2   {'u': 0.4702832239948085, 'g': 0.4081712049925...   \n",
       "3   {'u': 0.4702832239948085, 'g': 0.4081712049925...   \n",
       "4   {'u': 0.37417349349316653, 'g': 0.283640107403...   \n",
       "5   {'u': 0.37417349349316653, 'g': 0.283640107403...   \n",
       "6   {'u': 0.37417349349316653, 'g': 0.283640107403...   \n",
       "7   {'u': 0.37417349349316653, 'g': 0.283640107403...   \n",
       "8   {'u': 0.32591205269085516, 'g': 0.282283864800...   \n",
       "9   {'u': 0.31975516643457014, 'g': 0.265709651224...   \n",
       "10  {'u': 0.32591205269085516, 'g': 0.282283864800...   \n",
       "11  {'u': 0.32591205269085516, 'g': 0.282283864800...   \n",
       "12  {'u': 0.346371685068987, 'g': 0.30171872407210...   \n",
       "13  {'u': 0.31108840392566384, 'g': 0.265423541825...   \n",
       "14  {'u': 0.346371685068987, 'g': 0.30171872407210...   \n",
       "15  {'u': 0.346371685068987, 'g': 0.30171872407210...   \n",
       "16  {'u': 0.31067769257306355, 'g': 0.266203987198...   \n",
       "17  {'u': 0.30700734376273686, 'g': 0.262589132585...   \n",
       "18  {'u': 0.31067769257306355, 'g': 0.266203987198...   \n",
       "19  {'u': 0.3087564664932754, 'g': 0.2637626351219...   \n",
       "20  {'u': 0.3143430882106561, 'g': 0.2689013956773...   \n",
       "21  {'u': 0.30334826102681745, 'g': 0.259221683028...   \n",
       "22  {'u': 0.3143430882106561, 'g': 0.2689013956773...   \n",
       "23  {'u': 0.3017062204763627, 'g': 0.2608781792810...   \n",
       "24  {'u': 0.296395720226073, 'g': 0.25124313049521...   \n",
       "25  {'u': 0.3005554755567366, 'g': 0.2533424462858...   \n",
       "26  {'u': 0.2965011893687378, 'g': 0.2507054020798...   \n",
       "27  {'u': 0.3101018754828592, 'g': 0.2607502609287...   \n",
       "28  {'u': 0.303766190989879, 'g': 0.25518927297401...   \n",
       "29  {'u': 0.3004823812379811, 'g': 0.2551009363939...   \n",
       "30  {'u': 0.29676050266501847, 'g': 0.251658703603...   \n",
       "31  {'u': 0.2972326895848322, 'g': 0.2486426814962...   \n",
       "32  {'u': 0.29403435442236536, 'g': 0.250015369026...   \n",
       "33  {'u': 0.30066805709672556, 'g': 0.258365488745...   \n",
       "34  {'u': 0.3025045120690707, 'g': 0.2583523790352...   \n",
       "35  {'u': 0.2990332473237841, 'g': 0.2514785759194...   \n",
       "36  {'u': 0.3017103554393496, 'g': 0.2510927786518...   \n",
       "37  {'u': 0.30186297173977716, 'g': 0.255359452556...   \n",
       "38  {'u': 0.2972162753486728, 'g': 0.2507830765885...   \n",
       "39  {'u': 0.300638872061588, 'g': 0.24926260647753...   \n",
       "\n",
       "                                            IQR depth  \\\n",
       "0   {'u': 0.7848927775432273, 'g': 0.6198498019218...   \n",
       "1   {'u': 0.7848927775432273, 'g': 0.6198498019218...   \n",
       "2   {'u': 0.7848927775432273, 'g': 0.6198498019218...   \n",
       "3   {'u': 0.7848927775432273, 'g': 0.6198498019218...   \n",
       "4   {'u': 0.45927565880968046, 'g': 0.347858597405...   \n",
       "5   {'u': 0.45927565880968046, 'g': 0.347858597405...   \n",
       "6   {'u': 0.45927565880968046, 'g': 0.347858597405...   \n",
       "7   {'u': 0.45927565880968046, 'g': 0.347858597405...   \n",
       "8   {'u': 0.3823772043403757, 'g': 0.3674022268497...   \n",
       "9   {'u': 0.35520413317849275, 'g': 0.324172319501...   \n",
       "10  {'u': 0.3823772043403757, 'g': 0.3674022268497...   \n",
       "11  {'u': 0.3823772043403757, 'g': 0.3674022268497...   \n",
       "12  {'u': 0.41574857437444024, 'g': 0.369172418036...   \n",
       "13  {'u': 0.3491390463460782, 'g': 0.3420003102697...   \n",
       "14  {'u': 0.41574857437444024, 'g': 0.369172418036...   \n",
       "15  {'u': 0.41574857437444024, 'g': 0.369172418036...   \n",
       "16  {'u': 0.35248989601482705, 'g': 0.338195350817...   \n",
       "17  {'u': 0.3422394603971597, 'g': 0.3381250071550...   \n",
       "18  {'u': 0.35248989601482705, 'g': 0.338195350817...   \n",
       "19  {'u': 0.33845452035486545, 'g': 0.325747059634...   \n",
       "20  {'u': 0.3551792695190841, 'g': 0.3298533515542...   \n",
       "21  {'u': 0.33457987566562863, 'g': 0.327890332051...   \n",
       "22  {'u': 0.3551792695190841, 'g': 0.3298533515542...   \n",
       "23  {'u': 0.34386920458115, 'g': 0.325318745736090...   \n",
       "24  {'u': 0.3274813922722579, 'g': 0.3136911585985...   \n",
       "25  {'u': 0.32697713373682546, 'g': 0.310205344119...   \n",
       "26  {'u': 0.31853791533861653, 'g': 0.306458599379...   \n",
       "27  {'u': 0.35080729607446415, 'g': 0.319129997520...   \n",
       "28  {'u': 0.3436412944043248, 'g': 0.3116889238447...   \n",
       "29  {'u': 0.3265700176860449, 'g': 0.3155974961561...   \n",
       "30  {'u': 0.32822995023211377, 'g': 0.311917435557...   \n",
       "31  {'u': 0.3234283531608533, 'g': 0.3019648736761...   \n",
       "32  {'u': 0.32810856304067215, 'g': 0.311879807926...   \n",
       "33  {'u': 0.32784674462158137, 'g': 0.324392031231...   \n",
       "34  {'u': 0.3302619485871823, 'g': 0.3123921068334...   \n",
       "35  {'u': 0.3330465758551462, 'g': 0.3121682629691...   \n",
       "36  {'u': 0.33651890901507286, 'g': 0.305626062633...   \n",
       "37  {'u': 0.33091063136686216, 'g': 0.321279181565...   \n",
       "38  {'u': 0.3135881232568636, 'g': 0.3041429638327...   \n",
       "39  {'u': 0.3329408705134327, 'g': 0.3029936867088...   \n",
       "\n",
       "                                               Mean z  \\\n",
       "0   {'u': [0.14216659416671965, 0.3227816772708301...   \n",
       "1   {'u': [0.14216659416671965, 0.3227816772708301...   \n",
       "2   {'u': [0.14216659416671965, 0.3227816772708301...   \n",
       "3   {'u': [0.14216659416671965, 0.3227816772708301...   \n",
       "4   {'u': [0.14234384475862158, 0.3222979588593976...   \n",
       "5   {'u': [0.14234384475862158, 0.3222979588593976...   \n",
       "6   {'u': [0.14234384475862158, 0.3222979588593976...   \n",
       "7   {'u': [0.14234384475862158, 0.3222979588593976...   \n",
       "8   {'u': [0.14344649886094202, 0.3215418969129662...   \n",
       "9   {'u': [0.14344649886094202, 0.3215418969129662...   \n",
       "10  {'u': [0.14344649886094202, 0.3215418969129662...   \n",
       "11  {'u': [0.14344649886094202, 0.3215418969129662...   \n",
       "12  {'u': [0.1438908096182065, 0.3207561899440961,...   \n",
       "13  {'u': [0.1438908096182065, 0.3207561899440961,...   \n",
       "14  {'u': [0.1438908096182065, 0.3207561899440961,...   \n",
       "15  {'u': [0.1438908096182065, 0.3207561899440961,...   \n",
       "16  {'u': [0.14224256556999432, 0.3205282700988792...   \n",
       "17  {'u': [0.14224256556999432, 0.3205282700988792...   \n",
       "18  {'u': [0.14224256556999432, 0.3205282700988792...   \n",
       "19  {'u': [0.14224256556999432, 0.3205282700988792...   \n",
       "20  {'u': [0.14198504894993383, 0.3209955274678214...   \n",
       "21  {'u': [0.14198504894993383, 0.3209955274678214...   \n",
       "22  {'u': [0.14198504894993383, 0.3209955274678214...   \n",
       "23  {'u': [0.14198504894993383, 0.3209955274678214...   \n",
       "24  {'u': [0.14262517619012655, 0.3206903192564599...   \n",
       "25  {'u': [0.14262517619012655, 0.3206903192564599...   \n",
       "26  {'u': [0.14262517619012655, 0.3206903192564599...   \n",
       "27  {'u': [0.14262517619012655, 0.3206903192564599...   \n",
       "28  {'u': [0.14232786881196224, 0.3199419407548493...   \n",
       "29  {'u': [0.14232786881196224, 0.3199419407548493...   \n",
       "30  {'u': [0.14232786881196224, 0.3199419407548493...   \n",
       "31  {'u': [0.14232786881196224, 0.3199419407548493...   \n",
       "32  {'u': [0.14178510183653914, 0.3201906328749271...   \n",
       "33  {'u': [0.14178510183653914, 0.3201906328749271...   \n",
       "34  {'u': [0.14178510183653914, 0.3201906328749271...   \n",
       "35  {'u': [0.14178510183653914, 0.3201906328749271...   \n",
       "36  {'u': [0.14226399536488596, 0.3195197232235648...   \n",
       "37  {'u': [0.14226399536488596, 0.3195197232235648...   \n",
       "38  {'u': [0.14226399536488596, 0.3195197232235648...   \n",
       "39  {'u': [0.14226399536488596, 0.3195197232235648...   \n",
       "\n",
       "                                                Std z  \\\n",
       "0   {'u': [0.002912747639921835, 0.002043703221582...   \n",
       "1   {'u': [0.002912747639921835, 0.002043703221582...   \n",
       "2   {'u': [0.002912747639921835, 0.002043703221582...   \n",
       "3   {'u': [0.002912747639921835, 0.002043703221582...   \n",
       "4   {'u': [0.0016235276308136845, 0.00236048455074...   \n",
       "5   {'u': [0.0016235276308136845, 0.00236048455074...   \n",
       "6   {'u': [0.0016235276308136845, 0.00236048455074...   \n",
       "7   {'u': [0.0016235276308136845, 0.00236048455074...   \n",
       "8   {'u': [0.001583742795748655, 0.001502323952695...   \n",
       "9   {'u': [0.0015538239137308594, 0.00147394317444...   \n",
       "10  {'u': [0.001583742795748655, 0.001502323952695...   \n",
       "11  {'u': [0.001583742795748655, 0.001502323952695...   \n",
       "12  {'u': [0.0013803743622698129, 0.00211936073808...   \n",
       "13  {'u': [0.0012397620119926798, 0.00190347126446...   \n",
       "14  {'u': [0.0013803743622698129, 0.00211936073808...   \n",
       "15  {'u': [0.0013803743622698129, 0.00211936073808...   \n",
       "16  {'u': [0.0013428031187166511, 0.00127508085349...   \n",
       "17  {'u': [0.0013269392316494278, 0.00126001703782...   \n",
       "18  {'u': [0.0013428031187166511, 0.00127508085349...   \n",
       "19  {'u': [0.0013344992448519623, 0.00126719577307...   \n",
       "20  {'u': [0.0012619737166645094, 0.00134528181425...   \n",
       "21  {'u': [0.0012178334653096764, 0.00129822768258...   \n",
       "22  {'u': [0.0012619737166645094, 0.00134528181425...   \n",
       "23  {'u': [0.0012112412668676272, 0.00129120030589...   \n",
       "24  {'u': [0.001366776768026581, 0.001090573350909...   \n",
       "25  {'u': [0.0013859587485973166, 0.00110587896431...   \n",
       "26  {'u': [0.0013672631204402661, 0.00109096141938...   \n",
       "27  {'u': [0.0014299802939400192, 0.00114100446933...   \n",
       "28  {'u': [0.00105915483643927, 0.0014129724892940...   \n",
       "29  {'u': [0.0010477050336507004, 0.00139769780443...   \n",
       "30  {'u': [0.0010347277971835768, 0.00138038543660...   \n",
       "31  {'u': [0.0010363741919261725, 0.00138258182035...   \n",
       "32  {'u': [0.0012310559937900323, 0.00121734362579...   \n",
       "33  {'u': [0.0012588298212883027, 0.00124480808885...   \n",
       "34  {'u': [0.0012665186469885252, 0.00125241127100...   \n",
       "35  {'u': [0.0012519852388801016, 0.00123803974622...   \n",
       "36  {'u': [0.0010122022696514828, 0.00150506933889...   \n",
       "37  {'u': [0.0010127142791430152, 0.00150583065884...   \n",
       "38  {'u': [0.0009971251667752674, 0.00148265081056...   \n",
       "39  {'u': [0.0010086075706717782, 0.00149972428941...   \n",
       "\n",
       "                                               Clbias  \\\n",
       "0   {'u': [-0.0008656864540923322, 0.0005744698650...   \n",
       "1   {'u': [-0.0008656864540923322, 0.0005744698650...   \n",
       "2   {'u': [-0.0008656864540923322, 0.0005744698650...   \n",
       "3   {'u': [-0.0008656864540923322, 0.0005744698650...   \n",
       "4   {'u': [-0.00039793723242068655, 0.000391994008...   \n",
       "5   {'u': [-0.00039793723242068655, 0.000391994008...   \n",
       "6   {'u': [-0.00039793723242068655, 0.000391994008...   \n",
       "7   {'u': [-0.00039793723242068655, 0.000391994008...   \n",
       "8   {'u': [-0.0003604443064439517, 0.0003256794791...   \n",
       "9   {'u': [-0.0003536350627287275, 0.0003195269865...   \n",
       "10  {'u': [-0.0003604443064439517, 0.0003256794791...   \n",
       "11  {'u': [-0.0003604443064439517, 0.0003256794791...   \n",
       "12  {'u': [-0.0004135757625245327, 0.0003279243890...   \n",
       "13  {'u': [-0.0003714467129161299, 0.0002945202485...   \n",
       "14  {'u': [-0.0004135757625245327, 0.0003279243890...   \n",
       "15  {'u': [-0.0004135757625245327, 0.0003279243890...   \n",
       "16  {'u': [-0.0002843648675304058, 0.0002865813346...   \n",
       "17  {'u': [-0.000281005378651128, 0.00028319566036...   \n",
       "18  {'u': [-0.0002843648675304058, 0.0002865813346...   \n",
       "19  {'u': [-0.0002826063595565951, 0.0002848091200...   \n",
       "20  {'u': [-0.0002836671766219986, 0.0002483731543...   \n",
       "21  {'u': [-0.0002737453055783564, 0.0002396857677...   \n",
       "22  {'u': [-0.0002836671766219986, 0.0002483731543...   \n",
       "23  {'u': [-0.00027226350742749555, 0.000238388335...   \n",
       "24  {'u': [-0.0003037914030615549, 0.0002561376420...   \n",
       "25  {'u': [-0.0003080549528433509, 0.0002597323967...   \n",
       "26  {'u': [-0.0003038995038762546, 0.0002562287857...   \n",
       "27  {'u': [-0.0003178395550823154, 0.0002679821527...   \n",
       "28  {'u': [-0.00020844048721939092, 0.000254291880...   \n",
       "29  {'u': [-0.00020618717883641707, 0.000251542903...   \n",
       "30  {'u': [-0.00020363327321383425, 0.000248427206...   \n",
       "31  {'u': [-0.00020395728185779752, 0.000248822488...   \n",
       "32  {'u': [-0.000281248376030946, 0.00022973692688...   \n",
       "33  {'u': [-0.00028759361452493457, 0.000234920016...   \n",
       "34  {'u': [-0.00028935021191179693, 0.000236354888...   \n",
       "35  {'u': [-0.00028602989386833794, 0.000233642695...   \n",
       "36  {'u': [-0.00019736472709412287, 0.000228280227...   \n",
       "37  {'u': [-0.00019746456150133128, 0.000228395700...   \n",
       "38  {'u': [-0.0001944249112255424, 0.0002248799150...   \n",
       "39  {'u': [-0.00019666381305313857, 0.000227469521...   \n",
       "\n",
       "                                           Used meanz  \\\n",
       "0   {'u': [0.14216659416671965, 0.3227816772708301...   \n",
       "1   {'u': [0.14216659416671965, 0.3227816772708301...   \n",
       "2   {'u': [0.14216659416671965, 0.3227816772708301...   \n",
       "3   {'u': [0.14216659416671965, 0.3227816772708301...   \n",
       "4   {'u': [0.14234384475862158, 0.3222979588593976...   \n",
       "5   {'u': [0.14234384475862158, 0.3222979588593976...   \n",
       "6   {'u': [0.14234384475862158, 0.3222979588593976...   \n",
       "7   {'u': [0.14234384475862158, 0.3222979588593976...   \n",
       "8   {'u': [0.14344649886094202, 0.3215418969129662...   \n",
       "9   {'u': [0.14344649886094202, 0.3215418969129662...   \n",
       "10  {'u': [0.14344649886094202, 0.3215418969129662...   \n",
       "11  {'u': [0.14344649886094202, 0.3215418969129662...   \n",
       "12  {'u': [0.1438908096182065, 0.3207561899440961,...   \n",
       "13  {'u': [0.1438908096182065, 0.3207561899440961,...   \n",
       "14  {'u': [0.1438908096182065, 0.3207561899440961,...   \n",
       "15  {'u': [0.1438908096182065, 0.3207561899440961,...   \n",
       "16  {'u': [0.14224256556999432, 0.3205282700988792...   \n",
       "17  {'u': [0.14224256556999432, 0.3205282700988792...   \n",
       "18  {'u': [0.14224256556999432, 0.3205282700988792...   \n",
       "19  {'u': [0.14224256556999432, 0.3205282700988792...   \n",
       "20  {'u': [0.14198504894993383, 0.3209955274678214...   \n",
       "21  {'u': [0.14198504894993383, 0.3209955274678214...   \n",
       "22  {'u': [0.14198504894993383, 0.3209955274678214...   \n",
       "23  {'u': [0.14198504894993383, 0.3209955274678214...   \n",
       "24  {'u': [0.14262517619012655, 0.3206903192564599...   \n",
       "25  {'u': [0.14262517619012655, 0.3206903192564599...   \n",
       "26  {'u': [0.14262517619012655, 0.3206903192564599...   \n",
       "27  {'u': [0.14262517619012655, 0.3206903192564599...   \n",
       "28  {'u': [0.14232786881196224, 0.3199419407548493...   \n",
       "29  {'u': [0.14232786881196224, 0.3199419407548493...   \n",
       "30  {'u': [0.14232786881196224, 0.3199419407548493...   \n",
       "31  {'u': [0.14232786881196224, 0.3199419407548493...   \n",
       "32  {'u': [0.14178510183653914, 0.3201906328749271...   \n",
       "33  {'u': [0.14178510183653914, 0.3201906328749271...   \n",
       "34  {'u': [0.14178510183653914, 0.3201906328749271...   \n",
       "35  {'u': [0.14178510183653914, 0.3201906328749271...   \n",
       "36  {'u': [0.14226399536488596, 0.3195197232235648...   \n",
       "37  {'u': [0.14226399536488596, 0.3195197232235648...   \n",
       "38  {'u': [0.14226399536488596, 0.3195197232235648...   \n",
       "39  {'u': [0.14226399536488596, 0.3195197232235648...   \n",
       "\n",
       "                             Strategy  Year  \n",
       "0                 baseline_v3.3_10yrs     0  \n",
       "1                   noroll_v3.3_10yrs     0  \n",
       "2   roll_mid1_const_season4v3.3_10yrs     0  \n",
       "3   roll_mid2_const_season2v3.3_10yrs     0  \n",
       "4                 baseline_v3.3_10yrs     1  \n",
       "5                   noroll_v3.3_10yrs     1  \n",
       "6   roll_mid1_const_season4v3.3_10yrs     1  \n",
       "7   roll_mid2_const_season2v3.3_10yrs     1  \n",
       "8                 baseline_v3.3_10yrs     2  \n",
       "9                   noroll_v3.3_10yrs     2  \n",
       "10  roll_mid1_const_season4v3.3_10yrs     2  \n",
       "11  roll_mid2_const_season2v3.3_10yrs     2  \n",
       "12                baseline_v3.3_10yrs     3  \n",
       "13                  noroll_v3.3_10yrs     3  \n",
       "14  roll_mid1_const_season4v3.3_10yrs     3  \n",
       "15  roll_mid2_const_season2v3.3_10yrs     3  \n",
       "16                baseline_v3.3_10yrs     4  \n",
       "17                  noroll_v3.3_10yrs     4  \n",
       "18  roll_mid1_const_season4v3.3_10yrs     4  \n",
       "19  roll_mid2_const_season2v3.3_10yrs     4  \n",
       "20                baseline_v3.3_10yrs     5  \n",
       "21                  noroll_v3.3_10yrs     5  \n",
       "22  roll_mid1_const_season4v3.3_10yrs     5  \n",
       "23  roll_mid2_const_season2v3.3_10yrs     5  \n",
       "24                baseline_v3.3_10yrs     6  \n",
       "25                  noroll_v3.3_10yrs     6  \n",
       "26  roll_mid1_const_season4v3.3_10yrs     6  \n",
       "27  roll_mid2_const_season2v3.3_10yrs     6  \n",
       "28                baseline_v3.3_10yrs     7  \n",
       "29                  noroll_v3.3_10yrs     7  \n",
       "30  roll_mid1_const_season4v3.3_10yrs     7  \n",
       "31  roll_mid2_const_season2v3.3_10yrs     7  \n",
       "32                baseline_v3.3_10yrs     8  \n",
       "33                  noroll_v3.3_10yrs     8  \n",
       "34  roll_mid1_const_season4v3.3_10yrs     8  \n",
       "35  roll_mid2_const_season2v3.3_10yrs     8  \n",
       "36                baseline_v3.3_10yrs     9  \n",
       "37                  noroll_v3.3_10yrs     9  \n",
       "38  roll_mid1_const_season4v3.3_10yrs     9  \n",
       "39  roll_mid2_const_season2v3.3_10yrs     9  "
      ]
     },
     "metadata": {},
     "output_type": "display_data"
    }
   ],
   "source": [
    "import meanz_modules as mzmod\n",
    "import numpy as np\n",
    "import pandas as pd\n",
    "import importlib\n",
    "importlib.reload(mzmod)\n",
    "import warnings\n",
    "warnings.filterwarnings(\"ignore\")\n",
    "\n",
    "\n",
    "v33_sim_list = ['/pscratch/sd/r/rhlozek/rubin_sim_data/sim_baseline/baseline_v3.3_10yrs.db',\n",
    "                '/pscratch/sd/r/rhlozek/rubin_sim_data/noroll/noroll_v3.3_10yrs.db',\n",
    "              '/pscratch/sd/r/rhlozek/rubin_sim_data/noroll/roll_mid1_const_season4v3.3_10yrs.db',\n",
    "            '/pscratch/sd/r/rhlozek/rubin_sim_data/noroll/roll_mid2_const_season2v3.3_10yrs.db']\n",
    "v33_name_list = [path.splitext(path.basename(sim))[0] for sim in v33_sim_list]\n",
    "nums =len(v33_name_list)\n",
    "\n",
    "v33_df = mzmod.get_year_by_year_metrics(np.arange(10), v33_name_list[:nums], v33_sim_list[:nums])\n",
    "display(v33_df)"
   ]
  },
  {
   "cell_type": "code",
   "execution_count": 16,
   "metadata": {},
   "outputs": [
    {
     "name": "stdout",
     "output_type": "stream",
     "text": [
      "[0 1 2 3 4 5 6 7 8 9] years\n",
      "i filter\n",
      "noroll_v3.3_10yrs\n",
      "baseline_v3.3_10yrs\n",
      "roll_mid1_const_season4v3.3_10yrs\n",
      "roll_mid2_const_season2v3.3_10yrs\n"
     ]
    },
    {
     "data": {
      "image/png": "[encoded data removed]",
      "text/plain": [
       "<Figure size 640x480 with 1 Axes>"
      ]
     },
     "metadata": {},
     "output_type": "display_data"
    }
   ],
   "source": [
    "importlib.reload(mzmod)\n",
    "import matplotlib.pyplot as plt\n",
    "#mzmod.plot_meanz_metrics_by_year(v33_df, years=[3,5],num_bins=5)\n",
    "mzmod.plot_metric_by_year(v33_df, stat_name='Std depth',filter='i',ylog=False)\n",
    "\n",
    "\n",
    "#mzmod.plot_metric_by_year(v33_df, 'Std z')"
   ]
  },
  {
   "cell_type": "code",
   "execution_count": 25,
   "metadata": {},
   "outputs": [
    {
     "name": "stdout",
     "output_type": "stream",
     "text": [
      "(3, 3)\n"
     ]
    },
    {
     "data": {
      "image/png": "[encoded data removed]",
      "text/plain": [
       "<Figure size 1500x1200 with 9 Axes>"
      ]
     },
     "metadata": {},
     "output_type": "display_data"
    }
   ],
   "source": [
    "importlib.reload(mzmod)\n",
    "mzmod.plot_meanz_metrics_by_year(v33_df,years=[0,6,9],filter='i')"
   ]
  },
  {
   "cell_type": "code",
   "execution_count": 17,
   "metadata": {
    "tags": []
   },
   "outputs": [
    {
     "data": {
      "text/plain": [
       "Text(0, 0.5, 'dzdm')"
      ]
     },
     "execution_count": 17,
     "metadata": {},
     "output_type": "execute_result"
    },
    {
     "data": {
      "image/png": "[encoded data removed]",
      "text/plain": [
       "<Figure size 640x480 with 1 Axes>"
      ]
     },
     "metadata": {},
     "output_type": "display_data"
    }
   ],
   "source": [
    "# year = 1\n",
    "# zgrid = pd.read_feather('results_%i.feather'%year)\n",
    "\n",
    "# dz = zgrid['meanz']-zgrid['true_meanz']\n",
    "# dz = dz.values\n",
    "# meanz = zgrid['meanz'].values # no longer in 5 bins\n",
    "# m5s = zgrid['m5'].values\n",
    "\n",
    "# # calculate the sample i magnitude limit used to generate this file\n",
    "# ilim_year = 25.3+1.25*np.log10(year/10) \n",
    "# # calculate the derivative of mean z with respect to m5    \n",
    "# dzdm = np.gradient(meanz)/np.gradient(m5s)\n",
    "\n",
    "# plt.plot(m5s,dzdm, '--')\n",
    "# plt.xlabel('m5 mag')\n",
    "# plt.ylabel('dzdm')\n",
    "# #v33_df.to_pickle('v33_dataframe_withmeanz.pkl')"
   ]
  },
  {
   "cell_type": "code",
   "execution_count": 26,
   "metadata": {},
   "outputs": [
    {
     "name": "stdout",
     "output_type": "stream",
     "text": [
      "(10, 7, 5)\n"
     ]
    },
    {
     "data": {
      "image/png": "[encoded data removed]",
      "text/plain": [
       "<Figure size 640x480 with 1 Axes>"
      ]
     },
     "metadata": {},
     "output_type": "display_data"
    }
   ],
   "source": [
    "# Testing the deriv code\n",
    "import pandas as pd\n",
    "import numpy as np\n",
    "import matplotlib.pyplot as plt\n",
    "tmp = pd.read_pickle('uniformity_pkl/meanzderiv.pkl')\n",
    "# array of the derivative of <z> with respect to m5, for each combination\n",
    "#    of year, band, and bin number\n",
    "# i.e. axes are ((nyears,nbands,nbins))\n",
    "# bands are u,g,r,i,z,y,combined\n",
    "print(np.shape(tmp))\n",
    "band = 6\n",
    "years = range(10)\n",
    "ls = ['-',':','-.','--','-',':']\n",
    "cols=['b','g','r','k','m','y']\n",
    "for band in [1,3,5]:\n",
    "    for bin in range(2):\n",
    "        plt.plot(years,np.abs(tmp[:,band,bin]), linestyle=ls[band],color=cols[band])\n"
   ]
  },
  {
   "cell_type": "code",
   "execution_count": 27,
   "metadata": {},
   "outputs": [
    {
     "data": {
      "image/png": "[encoded data removed]",
      "text/plain": [
       "<Figure size 640x480 with 1 Axes>"
      ]
     },
     "metadata": {},
     "output_type": "display_data"
    }
   ],
   "source": [
    "# Testing some plots of derivs\n",
    "for i in range(11):\n",
    "    plt.plot(zvals[:,1,1]-zvals[:,1,i])\n"
   ]
  },
  {
   "cell_type": "code",
   "execution_count": null,
   "metadata": {},
   "outputs": [],
   "source": []
  }
 ],
 "metadata": {
  "kernelspec": {
   "display_name": "desc-stack-weekly",
   "language": "python",
   "name": "desc-stack-weekly"
  },
  "language_info": {
   "codemirror_mode": {
    "name": "ipython",
    "version": 3
   },
   "file_extension": ".py",
   "mimetype": "text/x-python",
   "name": "python",
   "nbconvert_exporter": "python",
   "pygments_lexer": "ipython3",
   "version": "3.11.4"
  }
 },
 "nbformat": 4,
 "nbformat_minor": 4
}
