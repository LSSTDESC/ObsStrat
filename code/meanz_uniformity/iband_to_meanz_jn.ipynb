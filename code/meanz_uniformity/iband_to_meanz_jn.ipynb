{
 "cells": [
  {
   "cell_type": "code",
   "execution_count": 1,
   "metadata": {
    "tags": []
   },
   "outputs": [],
   "source": [
    "import meanz_modules as mzmod\n",
    "import rubin_sim\n",
    "import rubin_sim.maf as maf\n",
    "from rubin_sim.scheduler.utils import SkyAreaGenerator\n",
    "from rubin_sim.data import get_baseline\n",
    "\n",
    "from os import path\n",
    "\n",
    "opsim_fname = rubin_sim.data.get_baseline()\n",
    "run_name = path.splitext(path.basename(opsim_fname))[0]\n",
    "nside=64\n"
   ]
  },
  {
   "cell_type": "code",
   "execution_count": 2,
   "metadata": {
    "tags": []
   },
   "outputs": [
    {
     "name": "stdout",
     "output_type": "stream",
     "text": [
      "Healpix slicer using NSIDE=64, approximate resolution 54.967783 arcminutes\n"
     ]
    },
    {
     "name": "stderr",
     "output_type": "stream",
     "text": [
      "/opt/lsst/software/stack/conda/miniconda3-py38_4.9.2/envs/lsst-scipipe-7.0.1/lib/python3.11/site-packages/rubin_sim/maf/maps/dust_map.py:44: UserWarning: Slicer value of nside 64 different from map value 128, using slicer value\n",
      "  warnings.warn(\n"
     ]
    }
   ],
   "source": [
    "# # Apply the above routine to our baseline sim, and show the plots\n",
    "bgroup, bd = mzmod.metric_plots(run_name, opsim_fname, year=2,nside=nside)\n",
    "bgroup.plot_all(closefigs=True)"
   ]
  },
  {
   "cell_type": "markdown",
   "metadata": {},
   "source": []
  },
  {
   "cell_type": "code",
   "execution_count": 3,
   "metadata": {
    "tags": []
   },
   "outputs": [
    {
     "name": "stdout",
     "output_type": "stream",
     "text": [
      "0.044444444444444446 -0.7644444444444444\n"
     ]
    },
    {
     "name": "stderr",
     "output_type": "stream",
     "text": [
      "/opt/lsst/software/stack/conda/miniconda3-py38_4.9.2/envs/lsst-scipipe-7.0.1/lib/python3.11/site-packages/scipy/optimize/_minpack_py.py:906: OptimizeWarning: Covariance of the parameters could not be estimated\n",
      "  warnings.warn('Covariance of the parameters could not be estimated',\n"
     ]
    }
   ],
   "source": [
    "ilim = [24.1, 25.3]\n",
    "meanz = [0.92, 1.08]\n",
    "\n",
    "a,b = mzmod.coeff_solve(ilim,meanz)\n",
    "print(a,b)"
   ]
  },
  {
   "cell_type": "markdown",
   "metadata": {},
   "source": [
    "### Dataset definitions"
   ]
  },
  {
   "cell_type": "code",
   "execution_count": 4,
   "metadata": {
    "tags": []
   },
   "outputs": [
    {
     "name": "stdout",
     "output_type": "stream",
     "text": [
      "['baseline_v3.3_10yrs', 'noroll_v3.3_10yrs', 'roll_mid1_const_season6v3.3_10yrs', 'roll_mid1_const_season2v3.3_10yrs', 'roll_mid1_const_season4v3.3_10yrs', 'roll_mid2_const_season2v3.3_10yrs', 'roll_mid2_const_season4v3.3_10yrs', 'roll_mid2_const_season6v3.3_10yrs']\n"
     ]
    }
   ],
   "source": [
    "v33_sim_list = ['/pscratch/sd/r/rhlozek/rubin_sim_data/sim_baseline/baseline_v3.3_10yrs.db',\n",
    "           '/pscratch/sd/r/rhlozek/rubin_sim_data/noroll/noroll_v3.3_10yrs.db',\n",
    "           '/pscratch/sd/r/rhlozek/rubin_sim_data/noroll/roll_mid1_const_season6v3.3_10yrs.db',\n",
    "           '/pscratch/sd/r/rhlozek/rubin_sim_data/noroll/roll_mid1_const_season2v3.3_10yrs.db',\n",
    "           '/pscratch/sd/r/rhlozek/rubin_sim_data/noroll/roll_mid1_const_season4v3.3_10yrs.db',\n",
    "           '/pscratch/sd/r/rhlozek/rubin_sim_data/noroll/roll_mid2_const_season2v3.3_10yrs.db',\n",
    "           '/pscratch/sd/r/rhlozek/rubin_sim_data/noroll/roll_mid2_const_season4v3.3_10yrs.db',\n",
    "           '/pscratch/sd/r/rhlozek/rubin_sim_data/noroll/roll_mid2_const_season6v3.3_10yrs.db',]\n",
    "v33_name_list = [path.splitext(path.basename(sim))[0] for sim in v33_sim_list]\n",
    "print(v33_name_list)"
   ]
  },
  {
   "cell_type": "markdown",
   "metadata": {
    "tags": []
   },
   "source": [
    "## In this section, we get maps of the i-band depth across the survey for v3.3 simulations at year=3"
   ]
  },
  {
   "cell_type": "code",
   "execution_count": 5,
   "metadata": {
    "tags": []
   },
   "outputs": [],
   "source": [
    "# # Run our above routine for the v3.3 simulations at year 3\n",
    "# for i in range(len(v33_sim_list)):\n",
    "#     this_run = v33_sim_list[i]\n",
    "#     this_fname = v33_name_list[i]\n",
    "#     bgroup, bd = mzmod.metric_plots(this_fname, this_run, year=3)\n",
    "#     #bgroup.plot_all(closefigs=False)"
   ]
  },
  {
   "cell_type": "markdown",
   "metadata": {},
   "source": [
    "### In this section, we run our metric calculations at each year for all v3.3 simulations and produce a dataframe to save to disk."
   ]
  },
  {
   "cell_type": "code",
   "execution_count": 8,
   "metadata": {
    "tags": []
   },
   "outputs": [
    {
     "name": "stdout",
     "output_type": "stream",
     "text": [
      "Healpix slicer using NSIDE=64, approximate resolution 54.967783 arcminutes\n"
     ]
    },
    {
     "name": "stderr",
     "output_type": "stream",
     "text": [
      "/opt/lsst/software/stack/conda/miniconda3-py38_4.9.2/envs/lsst-scipipe-7.0.1/lib/python3.11/site-packages/rubin_sim/maf/maps/dust_map.py:44: UserWarning: Slicer value of nside 64 different from map value 128, using slicer value\n",
      "  warnings.warn(\n"
     ]
    },
    {
     "name": "stdout",
     "output_type": "stream",
     "text": [
      "results_1.feather\n",
      "Healpix slicer using NSIDE=64, approximate resolution 54.967783 arcminutes\n"
     ]
    },
    {
     "name": "stderr",
     "output_type": "stream",
     "text": [
      "/pscratch/sd/r/rhlozek/ObsStrat/code/meanz_uniformity/meanz_modules.py:375: RankWarning: Polyfit may be poorly conditioned\n",
      "  clbias, meanz_use = compute_Clbias(meanzinterp,stdz)\n",
      "/opt/lsst/software/stack/conda/miniconda3-py38_4.9.2/envs/lsst-scipipe-7.0.1/lib/python3.11/site-packages/rubin_sim/maf/maps/dust_map.py:44: UserWarning: Slicer value of nside 64 different from map value 128, using slicer value\n",
      "  warnings.warn(\n"
     ]
    },
    {
     "name": "stdout",
     "output_type": "stream",
     "text": [
      "results_1.feather\n",
      "Healpix slicer using NSIDE=64, approximate resolution 54.967783 arcminutes\n"
     ]
    },
    {
     "name": "stderr",
     "output_type": "stream",
     "text": [
      "/pscratch/sd/r/rhlozek/ObsStrat/code/meanz_uniformity/meanz_modules.py:375: RankWarning: Polyfit may be poorly conditioned\n",
      "  clbias, meanz_use = compute_Clbias(meanzinterp,stdz)\n",
      "/opt/lsst/software/stack/conda/miniconda3-py38_4.9.2/envs/lsst-scipipe-7.0.1/lib/python3.11/site-packages/rubin_sim/maf/maps/dust_map.py:44: UserWarning: Slicer value of nside 64 different from map value 128, using slicer value\n",
      "  warnings.warn(\n"
     ]
    },
    {
     "name": "stdout",
     "output_type": "stream",
     "text": [
      "results_1.feather\n",
      "Healpix slicer using NSIDE=64, approximate resolution 54.967783 arcminutes\n"
     ]
    },
    {
     "name": "stderr",
     "output_type": "stream",
     "text": [
      "/pscratch/sd/r/rhlozek/ObsStrat/code/meanz_uniformity/meanz_modules.py:375: RankWarning: Polyfit may be poorly conditioned\n",
      "  clbias, meanz_use = compute_Clbias(meanzinterp,stdz)\n",
      "/opt/lsst/software/stack/conda/miniconda3-py38_4.9.2/envs/lsst-scipipe-7.0.1/lib/python3.11/site-packages/rubin_sim/maf/maps/dust_map.py:44: UserWarning: Slicer value of nside 64 different from map value 128, using slicer value\n",
      "  warnings.warn(\n"
     ]
    },
    {
     "name": "stdout",
     "output_type": "stream",
     "text": [
      "results_1.feather\n",
      "Healpix slicer using NSIDE=64, approximate resolution 54.967783 arcminutes\n"
     ]
    },
    {
     "name": "stderr",
     "output_type": "stream",
     "text": [
      "/pscratch/sd/r/rhlozek/ObsStrat/code/meanz_uniformity/meanz_modules.py:375: RankWarning: Polyfit may be poorly conditioned\n",
      "  clbias, meanz_use = compute_Clbias(meanzinterp,stdz)\n",
      "/opt/lsst/software/stack/conda/miniconda3-py38_4.9.2/envs/lsst-scipipe-7.0.1/lib/python3.11/site-packages/rubin_sim/maf/maps/dust_map.py:44: UserWarning: Slicer value of nside 64 different from map value 128, using slicer value\n",
      "  warnings.warn(\n"
     ]
    },
    {
     "name": "stdout",
     "output_type": "stream",
     "text": [
      "results_2.feather\n",
      "Healpix slicer using NSIDE=64, approximate resolution 54.967783 arcminutes\n"
     ]
    },
    {
     "name": "stderr",
     "output_type": "stream",
     "text": [
      "/pscratch/sd/r/rhlozek/ObsStrat/code/meanz_uniformity/meanz_modules.py:375: RankWarning: Polyfit may be poorly conditioned\n",
      "  clbias, meanz_use = compute_Clbias(meanzinterp,stdz)\n",
      "/opt/lsst/software/stack/conda/miniconda3-py38_4.9.2/envs/lsst-scipipe-7.0.1/lib/python3.11/site-packages/rubin_sim/maf/maps/dust_map.py:44: UserWarning: Slicer value of nside 64 different from map value 128, using slicer value\n",
      "  warnings.warn(\n"
     ]
    },
    {
     "name": "stdout",
     "output_type": "stream",
     "text": [
      "results_2.feather\n",
      "Healpix slicer using NSIDE=64, approximate resolution 54.967783 arcminutes\n"
     ]
    },
    {
     "name": "stderr",
     "output_type": "stream",
     "text": [
      "/pscratch/sd/r/rhlozek/ObsStrat/code/meanz_uniformity/meanz_modules.py:375: RankWarning: Polyfit may be poorly conditioned\n",
      "  clbias, meanz_use = compute_Clbias(meanzinterp,stdz)\n",
      "/opt/lsst/software/stack/conda/miniconda3-py38_4.9.2/envs/lsst-scipipe-7.0.1/lib/python3.11/site-packages/rubin_sim/maf/maps/dust_map.py:44: UserWarning: Slicer value of nside 64 different from map value 128, using slicer value\n",
      "  warnings.warn(\n"
     ]
    },
    {
     "name": "stdout",
     "output_type": "stream",
     "text": [
      "results_2.feather\n",
      "Healpix slicer using NSIDE=64, approximate resolution 54.967783 arcminutes\n"
     ]
    },
    {
     "name": "stderr",
     "output_type": "stream",
     "text": [
      "/pscratch/sd/r/rhlozek/ObsStrat/code/meanz_uniformity/meanz_modules.py:375: RankWarning: Polyfit may be poorly conditioned\n",
      "  clbias, meanz_use = compute_Clbias(meanzinterp,stdz)\n",
      "/opt/lsst/software/stack/conda/miniconda3-py38_4.9.2/envs/lsst-scipipe-7.0.1/lib/python3.11/site-packages/rubin_sim/maf/maps/dust_map.py:44: UserWarning: Slicer value of nside 64 different from map value 128, using slicer value\n",
      "  warnings.warn(\n"
     ]
    },
    {
     "name": "stdout",
     "output_type": "stream",
     "text": [
      "results_2.feather\n",
      "Healpix slicer using NSIDE=64, approximate resolution 54.967783 arcminutes\n"
     ]
    },
    {
     "name": "stderr",
     "output_type": "stream",
     "text": [
      "/pscratch/sd/r/rhlozek/ObsStrat/code/meanz_uniformity/meanz_modules.py:375: RankWarning: Polyfit may be poorly conditioned\n",
      "  clbias, meanz_use = compute_Clbias(meanzinterp,stdz)\n",
      "/opt/lsst/software/stack/conda/miniconda3-py38_4.9.2/envs/lsst-scipipe-7.0.1/lib/python3.11/site-packages/rubin_sim/maf/maps/dust_map.py:44: UserWarning: Slicer value of nside 64 different from map value 128, using slicer value\n",
      "  warnings.warn(\n"
     ]
    },
    {
     "name": "stdout",
     "output_type": "stream",
     "text": [
      "results_3.feather\n",
      "Healpix slicer using NSIDE=64, approximate resolution 54.967783 arcminutes\n"
     ]
    },
    {
     "name": "stderr",
     "output_type": "stream",
     "text": [
      "/pscratch/sd/r/rhlozek/ObsStrat/code/meanz_uniformity/meanz_modules.py:375: RankWarning: Polyfit may be poorly conditioned\n",
      "  clbias, meanz_use = compute_Clbias(meanzinterp,stdz)\n",
      "/opt/lsst/software/stack/conda/miniconda3-py38_4.9.2/envs/lsst-scipipe-7.0.1/lib/python3.11/site-packages/rubin_sim/maf/maps/dust_map.py:44: UserWarning: Slicer value of nside 64 different from map value 128, using slicer value\n",
      "  warnings.warn(\n"
     ]
    },
    {
     "name": "stdout",
     "output_type": "stream",
     "text": [
      "results_3.feather\n",
      "Healpix slicer using NSIDE=64, approximate resolution 54.967783 arcminutes\n"
     ]
    },
    {
     "name": "stderr",
     "output_type": "stream",
     "text": [
      "/pscratch/sd/r/rhlozek/ObsStrat/code/meanz_uniformity/meanz_modules.py:375: RankWarning: Polyfit may be poorly conditioned\n",
      "  clbias, meanz_use = compute_Clbias(meanzinterp,stdz)\n",
      "/opt/lsst/software/stack/conda/miniconda3-py38_4.9.2/envs/lsst-scipipe-7.0.1/lib/python3.11/site-packages/rubin_sim/maf/maps/dust_map.py:44: UserWarning: Slicer value of nside 64 different from map value 128, using slicer value\n",
      "  warnings.warn(\n"
     ]
    },
    {
     "name": "stdout",
     "output_type": "stream",
     "text": [
      "results_3.feather\n",
      "Healpix slicer using NSIDE=64, approximate resolution 54.967783 arcminutes\n"
     ]
    },
    {
     "name": "stderr",
     "output_type": "stream",
     "text": [
      "/pscratch/sd/r/rhlozek/ObsStrat/code/meanz_uniformity/meanz_modules.py:375: RankWarning: Polyfit may be poorly conditioned\n",
      "  clbias, meanz_use = compute_Clbias(meanzinterp,stdz)\n",
      "/opt/lsst/software/stack/conda/miniconda3-py38_4.9.2/envs/lsst-scipipe-7.0.1/lib/python3.11/site-packages/rubin_sim/maf/maps/dust_map.py:44: UserWarning: Slicer value of nside 64 different from map value 128, using slicer value\n",
      "  warnings.warn(\n"
     ]
    },
    {
     "name": "stdout",
     "output_type": "stream",
     "text": [
      "results_3.feather\n",
      "Healpix slicer using NSIDE=64, approximate resolution 54.967783 arcminutes\n"
     ]
    },
    {
     "name": "stderr",
     "output_type": "stream",
     "text": [
      "/pscratch/sd/r/rhlozek/ObsStrat/code/meanz_uniformity/meanz_modules.py:375: RankWarning: Polyfit may be poorly conditioned\n",
      "  clbias, meanz_use = compute_Clbias(meanzinterp,stdz)\n",
      "/opt/lsst/software/stack/conda/miniconda3-py38_4.9.2/envs/lsst-scipipe-7.0.1/lib/python3.11/site-packages/rubin_sim/maf/maps/dust_map.py:44: UserWarning: Slicer value of nside 64 different from map value 128, using slicer value\n",
      "  warnings.warn(\n"
     ]
    },
    {
     "name": "stdout",
     "output_type": "stream",
     "text": [
      "results_4.feather\n",
      "Healpix slicer using NSIDE=64, approximate resolution 54.967783 arcminutes\n"
     ]
    },
    {
     "name": "stderr",
     "output_type": "stream",
     "text": [
      "/pscratch/sd/r/rhlozek/ObsStrat/code/meanz_uniformity/meanz_modules.py:375: RankWarning: Polyfit may be poorly conditioned\n",
      "  clbias, meanz_use = compute_Clbias(meanzinterp,stdz)\n",
      "/opt/lsst/software/stack/conda/miniconda3-py38_4.9.2/envs/lsst-scipipe-7.0.1/lib/python3.11/site-packages/rubin_sim/maf/maps/dust_map.py:44: UserWarning: Slicer value of nside 64 different from map value 128, using slicer value\n",
      "  warnings.warn(\n"
     ]
    },
    {
     "name": "stdout",
     "output_type": "stream",
     "text": [
      "results_4.feather\n",
      "Healpix slicer using NSIDE=64, approximate resolution 54.967783 arcminutes\n"
     ]
    },
    {
     "name": "stderr",
     "output_type": "stream",
     "text": [
      "/pscratch/sd/r/rhlozek/ObsStrat/code/meanz_uniformity/meanz_modules.py:375: RankWarning: Polyfit may be poorly conditioned\n",
      "  clbias, meanz_use = compute_Clbias(meanzinterp,stdz)\n",
      "/opt/lsst/software/stack/conda/miniconda3-py38_4.9.2/envs/lsst-scipipe-7.0.1/lib/python3.11/site-packages/rubin_sim/maf/maps/dust_map.py:44: UserWarning: Slicer value of nside 64 different from map value 128, using slicer value\n",
      "  warnings.warn(\n"
     ]
    },
    {
     "name": "stdout",
     "output_type": "stream",
     "text": [
      "results_4.feather\n",
      "Healpix slicer using NSIDE=64, approximate resolution 54.967783 arcminutes\n"
     ]
    },
    {
     "name": "stderr",
     "output_type": "stream",
     "text": [
      "/pscratch/sd/r/rhlozek/ObsStrat/code/meanz_uniformity/meanz_modules.py:375: RankWarning: Polyfit may be poorly conditioned\n",
      "  clbias, meanz_use = compute_Clbias(meanzinterp,stdz)\n",
      "/opt/lsst/software/stack/conda/miniconda3-py38_4.9.2/envs/lsst-scipipe-7.0.1/lib/python3.11/site-packages/rubin_sim/maf/maps/dust_map.py:44: UserWarning: Slicer value of nside 64 different from map value 128, using slicer value\n",
      "  warnings.warn(\n"
     ]
    },
    {
     "name": "stdout",
     "output_type": "stream",
     "text": [
      "results_4.feather\n",
      "Healpix slicer using NSIDE=64, approximate resolution 54.967783 arcminutes\n"
     ]
    },
    {
     "name": "stderr",
     "output_type": "stream",
     "text": [
      "/pscratch/sd/r/rhlozek/ObsStrat/code/meanz_uniformity/meanz_modules.py:375: RankWarning: Polyfit may be poorly conditioned\n",
      "  clbias, meanz_use = compute_Clbias(meanzinterp,stdz)\n",
      "/opt/lsst/software/stack/conda/miniconda3-py38_4.9.2/envs/lsst-scipipe-7.0.1/lib/python3.11/site-packages/rubin_sim/maf/maps/dust_map.py:44: UserWarning: Slicer value of nside 64 different from map value 128, using slicer value\n",
      "  warnings.warn(\n"
     ]
    },
    {
     "name": "stdout",
     "output_type": "stream",
     "text": [
      "results_5.feather\n",
      "Healpix slicer using NSIDE=64, approximate resolution 54.967783 arcminutes\n"
     ]
    },
    {
     "name": "stderr",
     "output_type": "stream",
     "text": [
      "/pscratch/sd/r/rhlozek/ObsStrat/code/meanz_uniformity/meanz_modules.py:375: RankWarning: Polyfit may be poorly conditioned\n",
      "  clbias, meanz_use = compute_Clbias(meanzinterp,stdz)\n",
      "/opt/lsst/software/stack/conda/miniconda3-py38_4.9.2/envs/lsst-scipipe-7.0.1/lib/python3.11/site-packages/rubin_sim/maf/maps/dust_map.py:44: UserWarning: Slicer value of nside 64 different from map value 128, using slicer value\n",
      "  warnings.warn(\n"
     ]
    },
    {
     "name": "stdout",
     "output_type": "stream",
     "text": [
      "results_5.feather\n",
      "Healpix slicer using NSIDE=64, approximate resolution 54.967783 arcminutes\n"
     ]
    },
    {
     "name": "stderr",
     "output_type": "stream",
     "text": [
      "/pscratch/sd/r/rhlozek/ObsStrat/code/meanz_uniformity/meanz_modules.py:375: RankWarning: Polyfit may be poorly conditioned\n",
      "  clbias, meanz_use = compute_Clbias(meanzinterp,stdz)\n",
      "/opt/lsst/software/stack/conda/miniconda3-py38_4.9.2/envs/lsst-scipipe-7.0.1/lib/python3.11/site-packages/rubin_sim/maf/maps/dust_map.py:44: UserWarning: Slicer value of nside 64 different from map value 128, using slicer value\n",
      "  warnings.warn(\n"
     ]
    },
    {
     "name": "stdout",
     "output_type": "stream",
     "text": [
      "results_5.feather\n",
      "Healpix slicer using NSIDE=64, approximate resolution 54.967783 arcminutes\n"
     ]
    },
    {
     "name": "stderr",
     "output_type": "stream",
     "text": [
      "/pscratch/sd/r/rhlozek/ObsStrat/code/meanz_uniformity/meanz_modules.py:375: RankWarning: Polyfit may be poorly conditioned\n",
      "  clbias, meanz_use = compute_Clbias(meanzinterp,stdz)\n",
      "/opt/lsst/software/stack/conda/miniconda3-py38_4.9.2/envs/lsst-scipipe-7.0.1/lib/python3.11/site-packages/rubin_sim/maf/maps/dust_map.py:44: UserWarning: Slicer value of nside 64 different from map value 128, using slicer value\n",
      "  warnings.warn(\n"
     ]
    },
    {
     "name": "stdout",
     "output_type": "stream",
     "text": [
      "results_5.feather\n",
      "Healpix slicer using NSIDE=64, approximate resolution 54.967783 arcminutes\n"
     ]
    },
    {
     "name": "stderr",
     "output_type": "stream",
     "text": [
      "/pscratch/sd/r/rhlozek/ObsStrat/code/meanz_uniformity/meanz_modules.py:375: RankWarning: Polyfit may be poorly conditioned\n",
      "  clbias, meanz_use = compute_Clbias(meanzinterp,stdz)\n",
      "/opt/lsst/software/stack/conda/miniconda3-py38_4.9.2/envs/lsst-scipipe-7.0.1/lib/python3.11/site-packages/rubin_sim/maf/maps/dust_map.py:44: UserWarning: Slicer value of nside 64 different from map value 128, using slicer value\n",
      "  warnings.warn(\n"
     ]
    },
    {
     "name": "stdout",
     "output_type": "stream",
     "text": [
      "results_6.feather\n",
      "Healpix slicer using NSIDE=64, approximate resolution 54.967783 arcminutes\n"
     ]
    },
    {
     "name": "stderr",
     "output_type": "stream",
     "text": [
      "/pscratch/sd/r/rhlozek/ObsStrat/code/meanz_uniformity/meanz_modules.py:375: RankWarning: Polyfit may be poorly conditioned\n",
      "  clbias, meanz_use = compute_Clbias(meanzinterp,stdz)\n",
      "/opt/lsst/software/stack/conda/miniconda3-py38_4.9.2/envs/lsst-scipipe-7.0.1/lib/python3.11/site-packages/rubin_sim/maf/maps/dust_map.py:44: UserWarning: Slicer value of nside 64 different from map value 128, using slicer value\n",
      "  warnings.warn(\n"
     ]
    },
    {
     "name": "stdout",
     "output_type": "stream",
     "text": [
      "results_6.feather\n",
      "Healpix slicer using NSIDE=64, approximate resolution 54.967783 arcminutes\n"
     ]
    },
    {
     "name": "stderr",
     "output_type": "stream",
     "text": [
      "/pscratch/sd/r/rhlozek/ObsStrat/code/meanz_uniformity/meanz_modules.py:375: RankWarning: Polyfit may be poorly conditioned\n",
      "  clbias, meanz_use = compute_Clbias(meanzinterp,stdz)\n",
      "/opt/lsst/software/stack/conda/miniconda3-py38_4.9.2/envs/lsst-scipipe-7.0.1/lib/python3.11/site-packages/rubin_sim/maf/maps/dust_map.py:44: UserWarning: Slicer value of nside 64 different from map value 128, using slicer value\n",
      "  warnings.warn(\n"
     ]
    },
    {
     "name": "stdout",
     "output_type": "stream",
     "text": [
      "results_6.feather\n",
      "Healpix slicer using NSIDE=64, approximate resolution 54.967783 arcminutes\n"
     ]
    },
    {
     "name": "stderr",
     "output_type": "stream",
     "text": [
      "/pscratch/sd/r/rhlozek/ObsStrat/code/meanz_uniformity/meanz_modules.py:375: RankWarning: Polyfit may be poorly conditioned\n",
      "  clbias, meanz_use = compute_Clbias(meanzinterp,stdz)\n",
      "/opt/lsst/software/stack/conda/miniconda3-py38_4.9.2/envs/lsst-scipipe-7.0.1/lib/python3.11/site-packages/rubin_sim/maf/maps/dust_map.py:44: UserWarning: Slicer value of nside 64 different from map value 128, using slicer value\n",
      "  warnings.warn(\n"
     ]
    },
    {
     "name": "stdout",
     "output_type": "stream",
     "text": [
      "results_6.feather\n",
      "Healpix slicer using NSIDE=64, approximate resolution 54.967783 arcminutes\n"
     ]
    },
    {
     "name": "stderr",
     "output_type": "stream",
     "text": [
      "/pscratch/sd/r/rhlozek/ObsStrat/code/meanz_uniformity/meanz_modules.py:375: RankWarning: Polyfit may be poorly conditioned\n",
      "  clbias, meanz_use = compute_Clbias(meanzinterp,stdz)\n",
      "/opt/lsst/software/stack/conda/miniconda3-py38_4.9.2/envs/lsst-scipipe-7.0.1/lib/python3.11/site-packages/rubin_sim/maf/maps/dust_map.py:44: UserWarning: Slicer value of nside 64 different from map value 128, using slicer value\n",
      "  warnings.warn(\n"
     ]
    },
    {
     "name": "stdout",
     "output_type": "stream",
     "text": [
      "results_7.feather\n",
      "Healpix slicer using NSIDE=64, approximate resolution 54.967783 arcminutes\n"
     ]
    },
    {
     "name": "stderr",
     "output_type": "stream",
     "text": [
      "/pscratch/sd/r/rhlozek/ObsStrat/code/meanz_uniformity/meanz_modules.py:375: RankWarning: Polyfit may be poorly conditioned\n",
      "  clbias, meanz_use = compute_Clbias(meanzinterp,stdz)\n",
      "/opt/lsst/software/stack/conda/miniconda3-py38_4.9.2/envs/lsst-scipipe-7.0.1/lib/python3.11/site-packages/rubin_sim/maf/maps/dust_map.py:44: UserWarning: Slicer value of nside 64 different from map value 128, using slicer value\n",
      "  warnings.warn(\n"
     ]
    },
    {
     "name": "stdout",
     "output_type": "stream",
     "text": [
      "results_7.feather\n",
      "Healpix slicer using NSIDE=64, approximate resolution 54.967783 arcminutes\n"
     ]
    },
    {
     "name": "stderr",
     "output_type": "stream",
     "text": [
      "/pscratch/sd/r/rhlozek/ObsStrat/code/meanz_uniformity/meanz_modules.py:375: RankWarning: Polyfit may be poorly conditioned\n",
      "  clbias, meanz_use = compute_Clbias(meanzinterp,stdz)\n",
      "/opt/lsst/software/stack/conda/miniconda3-py38_4.9.2/envs/lsst-scipipe-7.0.1/lib/python3.11/site-packages/rubin_sim/maf/maps/dust_map.py:44: UserWarning: Slicer value of nside 64 different from map value 128, using slicer value\n",
      "  warnings.warn(\n"
     ]
    },
    {
     "name": "stdout",
     "output_type": "stream",
     "text": [
      "results_7.feather\n",
      "Healpix slicer using NSIDE=64, approximate resolution 54.967783 arcminutes\n"
     ]
    },
    {
     "name": "stderr",
     "output_type": "stream",
     "text": [
      "/pscratch/sd/r/rhlozek/ObsStrat/code/meanz_uniformity/meanz_modules.py:375: RankWarning: Polyfit may be poorly conditioned\n",
      "  clbias, meanz_use = compute_Clbias(meanzinterp,stdz)\n",
      "/opt/lsst/software/stack/conda/miniconda3-py38_4.9.2/envs/lsst-scipipe-7.0.1/lib/python3.11/site-packages/rubin_sim/maf/maps/dust_map.py:44: UserWarning: Slicer value of nside 64 different from map value 128, using slicer value\n",
      "  warnings.warn(\n"
     ]
    },
    {
     "name": "stdout",
     "output_type": "stream",
     "text": [
      "results_7.feather\n",
      "Healpix slicer using NSIDE=64, approximate resolution 54.967783 arcminutes\n"
     ]
    },
    {
     "name": "stderr",
     "output_type": "stream",
     "text": [
      "/pscratch/sd/r/rhlozek/ObsStrat/code/meanz_uniformity/meanz_modules.py:375: RankWarning: Polyfit may be poorly conditioned\n",
      "  clbias, meanz_use = compute_Clbias(meanzinterp,stdz)\n",
      "/opt/lsst/software/stack/conda/miniconda3-py38_4.9.2/envs/lsst-scipipe-7.0.1/lib/python3.11/site-packages/rubin_sim/maf/maps/dust_map.py:44: UserWarning: Slicer value of nside 64 different from map value 128, using slicer value\n",
      "  warnings.warn(\n"
     ]
    },
    {
     "name": "stdout",
     "output_type": "stream",
     "text": [
      "results_8.feather\n",
      "Healpix slicer using NSIDE=64, approximate resolution 54.967783 arcminutes\n"
     ]
    },
    {
     "name": "stderr",
     "output_type": "stream",
     "text": [
      "/pscratch/sd/r/rhlozek/ObsStrat/code/meanz_uniformity/meanz_modules.py:375: RankWarning: Polyfit may be poorly conditioned\n",
      "  clbias, meanz_use = compute_Clbias(meanzinterp,stdz)\n",
      "/opt/lsst/software/stack/conda/miniconda3-py38_4.9.2/envs/lsst-scipipe-7.0.1/lib/python3.11/site-packages/rubin_sim/maf/maps/dust_map.py:44: UserWarning: Slicer value of nside 64 different from map value 128, using slicer value\n",
      "  warnings.warn(\n"
     ]
    },
    {
     "name": "stdout",
     "output_type": "stream",
     "text": [
      "results_8.feather\n",
      "Healpix slicer using NSIDE=64, approximate resolution 54.967783 arcminutes\n"
     ]
    },
    {
     "name": "stderr",
     "output_type": "stream",
     "text": [
      "/pscratch/sd/r/rhlozek/ObsStrat/code/meanz_uniformity/meanz_modules.py:375: RankWarning: Polyfit may be poorly conditioned\n",
      "  clbias, meanz_use = compute_Clbias(meanzinterp,stdz)\n",
      "/opt/lsst/software/stack/conda/miniconda3-py38_4.9.2/envs/lsst-scipipe-7.0.1/lib/python3.11/site-packages/rubin_sim/maf/maps/dust_map.py:44: UserWarning: Slicer value of nside 64 different from map value 128, using slicer value\n",
      "  warnings.warn(\n"
     ]
    },
    {
     "name": "stdout",
     "output_type": "stream",
     "text": [
      "results_8.feather\n",
      "Healpix slicer using NSIDE=64, approximate resolution 54.967783 arcminutes\n"
     ]
    },
    {
     "name": "stderr",
     "output_type": "stream",
     "text": [
      "/pscratch/sd/r/rhlozek/ObsStrat/code/meanz_uniformity/meanz_modules.py:375: RankWarning: Polyfit may be poorly conditioned\n",
      "  clbias, meanz_use = compute_Clbias(meanzinterp,stdz)\n",
      "/opt/lsst/software/stack/conda/miniconda3-py38_4.9.2/envs/lsst-scipipe-7.0.1/lib/python3.11/site-packages/rubin_sim/maf/maps/dust_map.py:44: UserWarning: Slicer value of nside 64 different from map value 128, using slicer value\n",
      "  warnings.warn(\n"
     ]
    },
    {
     "name": "stdout",
     "output_type": "stream",
     "text": [
      "results_8.feather\n",
      "Healpix slicer using NSIDE=64, approximate resolution 54.967783 arcminutes\n"
     ]
    },
    {
     "name": "stderr",
     "output_type": "stream",
     "text": [
      "/pscratch/sd/r/rhlozek/ObsStrat/code/meanz_uniformity/meanz_modules.py:375: RankWarning: Polyfit may be poorly conditioned\n",
      "  clbias, meanz_use = compute_Clbias(meanzinterp,stdz)\n",
      "/opt/lsst/software/stack/conda/miniconda3-py38_4.9.2/envs/lsst-scipipe-7.0.1/lib/python3.11/site-packages/rubin_sim/maf/maps/dust_map.py:44: UserWarning: Slicer value of nside 64 different from map value 128, using slicer value\n",
      "  warnings.warn(\n"
     ]
    },
    {
     "name": "stdout",
     "output_type": "stream",
     "text": [
      "results_9.feather\n",
      "Healpix slicer using NSIDE=64, approximate resolution 54.967783 arcminutes\n"
     ]
    },
    {
     "name": "stderr",
     "output_type": "stream",
     "text": [
      "/pscratch/sd/r/rhlozek/ObsStrat/code/meanz_uniformity/meanz_modules.py:375: RankWarning: Polyfit may be poorly conditioned\n",
      "  clbias, meanz_use = compute_Clbias(meanzinterp,stdz)\n",
      "/opt/lsst/software/stack/conda/miniconda3-py38_4.9.2/envs/lsst-scipipe-7.0.1/lib/python3.11/site-packages/rubin_sim/maf/maps/dust_map.py:44: UserWarning: Slicer value of nside 64 different from map value 128, using slicer value\n",
      "  warnings.warn(\n"
     ]
    },
    {
     "name": "stdout",
     "output_type": "stream",
     "text": [
      "results_9.feather\n",
      "Healpix slicer using NSIDE=64, approximate resolution 54.967783 arcminutes\n"
     ]
    },
    {
     "name": "stderr",
     "output_type": "stream",
     "text": [
      "/pscratch/sd/r/rhlozek/ObsStrat/code/meanz_uniformity/meanz_modules.py:375: RankWarning: Polyfit may be poorly conditioned\n",
      "  clbias, meanz_use = compute_Clbias(meanzinterp,stdz)\n",
      "/opt/lsst/software/stack/conda/miniconda3-py38_4.9.2/envs/lsst-scipipe-7.0.1/lib/python3.11/site-packages/rubin_sim/maf/maps/dust_map.py:44: UserWarning: Slicer value of nside 64 different from map value 128, using slicer value\n",
      "  warnings.warn(\n"
     ]
    },
    {
     "name": "stdout",
     "output_type": "stream",
     "text": [
      "results_9.feather\n",
      "Healpix slicer using NSIDE=64, approximate resolution 54.967783 arcminutes\n"
     ]
    },
    {
     "name": "stderr",
     "output_type": "stream",
     "text": [
      "/pscratch/sd/r/rhlozek/ObsStrat/code/meanz_uniformity/meanz_modules.py:375: RankWarning: Polyfit may be poorly conditioned\n",
      "  clbias, meanz_use = compute_Clbias(meanzinterp,stdz)\n",
      "/opt/lsst/software/stack/conda/miniconda3-py38_4.9.2/envs/lsst-scipipe-7.0.1/lib/python3.11/site-packages/rubin_sim/maf/maps/dust_map.py:44: UserWarning: Slicer value of nside 64 different from map value 128, using slicer value\n",
      "  warnings.warn(\n"
     ]
    },
    {
     "name": "stdout",
     "output_type": "stream",
     "text": [
      "results_9.feather\n"
     ]
    },
    {
     "name": "stderr",
     "output_type": "stream",
     "text": [
      "/pscratch/sd/r/rhlozek/ObsStrat/code/meanz_uniformity/meanz_modules.py:375: RankWarning: Polyfit may be poorly conditioned\n",
      "  clbias, meanz_use = compute_Clbias(meanzinterp,stdz)\n"
     ]
    },
    {
     "data": {
      "text/html": [
       "<div>\n",
       "<style scoped>\n",
       "    .dataframe tbody tr th:only-of-type {\n",
       "        vertical-align: middle;\n",
       "    }\n",
       "\n",
       "    .dataframe tbody tr th {\n",
       "        vertical-align: top;\n",
       "    }\n",
       "\n",
       "    .dataframe thead th {\n",
       "        text-align: right;\n",
       "    }\n",
       "</style>\n",
       "<table border=\"1\" class=\"dataframe\">\n",
       "  <thead>\n",
       "    <tr style=\"text-align: right;\">\n",
       "      <th></th>\n",
       "      <th>Strategy</th>\n",
       "      <th>Year</th>\n",
       "      <th>Median i-band depth</th>\n",
       "      <th>Mean i-band depth</th>\n",
       "      <th>Std i-band depth</th>\n",
       "      <th>IQR i-band depth</th>\n",
       "      <th>Mean z</th>\n",
       "      <th>Std z</th>\n",
       "      <th>Clbias</th>\n",
       "      <th>Used meanz</th>\n",
       "    </tr>\n",
       "  </thead>\n",
       "  <tbody>\n",
       "    <tr>\n",
       "      <th>0</th>\n",
       "      <td>baseline_v3.3_10yrs</td>\n",
       "      <td>1</td>\n",
       "      <td>25.252161</td>\n",
       "      <td>25.233240</td>\n",
       "      <td>0.184610</td>\n",
       "      <td>0.235948</td>\n",
       "      <td>[0.866354169538206]</td>\n",
       "      <td>[0.0016245211763601293]</td>\n",
       "      <td>[0.0006535667585274868]</td>\n",
       "      <td>[0.866354169538206]</td>\n",
       "    </tr>\n",
       "    <tr>\n",
       "      <th>1</th>\n",
       "      <td>noroll_v3.3_10yrs</td>\n",
       "      <td>1</td>\n",
       "      <td>25.252161</td>\n",
       "      <td>25.233240</td>\n",
       "      <td>0.184610</td>\n",
       "      <td>0.235948</td>\n",
       "      <td>[0.866354169538206]</td>\n",
       "      <td>[0.0016245211763601293]</td>\n",
       "      <td>[0.0006535667585274868]</td>\n",
       "      <td>[0.866354169538206]</td>\n",
       "    </tr>\n",
       "    <tr>\n",
       "      <th>2</th>\n",
       "      <td>roll_mid1_const_season4v3.3_10yrs</td>\n",
       "      <td>1</td>\n",
       "      <td>25.252161</td>\n",
       "      <td>25.233240</td>\n",
       "      <td>0.184610</td>\n",
       "      <td>0.235948</td>\n",
       "      <td>[0.866354169538206]</td>\n",
       "      <td>[0.0016245211763601293]</td>\n",
       "      <td>[0.0006535667585274868]</td>\n",
       "      <td>[0.866354169538206]</td>\n",
       "    </tr>\n",
       "    <tr>\n",
       "      <th>3</th>\n",
       "      <td>roll_mid2_const_season2v3.3_10yrs</td>\n",
       "      <td>1</td>\n",
       "      <td>25.252161</td>\n",
       "      <td>25.233240</td>\n",
       "      <td>0.184610</td>\n",
       "      <td>0.235948</td>\n",
       "      <td>[0.866354169538206]</td>\n",
       "      <td>[0.0016245211763601293]</td>\n",
       "      <td>[0.0006535667585274868]</td>\n",
       "      <td>[0.866354169538206]</td>\n",
       "    </tr>\n",
       "    <tr>\n",
       "      <th>4</th>\n",
       "      <td>baseline_v3.3_10yrs</td>\n",
       "      <td>2</td>\n",
       "      <td>25.635288</td>\n",
       "      <td>25.598740</td>\n",
       "      <td>0.197662</td>\n",
       "      <td>0.260341</td>\n",
       "      <td>[0.9014094749919175]</td>\n",
       "      <td>[0.0017459151126265917]</td>\n",
       "      <td>[0.0007648611361907208]</td>\n",
       "      <td>[0.9014094749919175]</td>\n",
       "    </tr>\n",
       "    <tr>\n",
       "      <th>5</th>\n",
       "      <td>noroll_v3.3_10yrs</td>\n",
       "      <td>2</td>\n",
       "      <td>25.626280</td>\n",
       "      <td>25.601309</td>\n",
       "      <td>0.170386</td>\n",
       "      <td>0.215176</td>\n",
       "      <td>[0.9013613452513005]</td>\n",
       "      <td>[0.0014967852444383643]</td>\n",
       "      <td>[0.0006556455035815324]</td>\n",
       "      <td>[0.9013613452513005]</td>\n",
       "    </tr>\n",
       "    <tr>\n",
       "      <th>6</th>\n",
       "      <td>roll_mid1_const_season4v3.3_10yrs</td>\n",
       "      <td>2</td>\n",
       "      <td>25.635288</td>\n",
       "      <td>25.598740</td>\n",
       "      <td>0.197662</td>\n",
       "      <td>0.260341</td>\n",
       "      <td>[0.9014094749919175]</td>\n",
       "      <td>[0.0017459151126265917]</td>\n",
       "      <td>[0.0007648611361907208]</td>\n",
       "      <td>[0.9014094749919175]</td>\n",
       "    </tr>\n",
       "    <tr>\n",
       "      <th>7</th>\n",
       "      <td>roll_mid2_const_season2v3.3_10yrs</td>\n",
       "      <td>2</td>\n",
       "      <td>25.635288</td>\n",
       "      <td>25.598740</td>\n",
       "      <td>0.197662</td>\n",
       "      <td>0.260341</td>\n",
       "      <td>[0.9014094749919175]</td>\n",
       "      <td>[0.0017459151126265917]</td>\n",
       "      <td>[0.0007648611361907208]</td>\n",
       "      <td>[0.9014094749919175]</td>\n",
       "    </tr>\n",
       "    <tr>\n",
       "      <th>8</th>\n",
       "      <td>baseline_v3.3_10yrs</td>\n",
       "      <td>3</td>\n",
       "      <td>25.843019</td>\n",
       "      <td>25.824180</td>\n",
       "      <td>0.217975</td>\n",
       "      <td>0.277805</td>\n",
       "      <td>[0.9216361819769696]</td>\n",
       "      <td>[0.001883374980202648]</td>\n",
       "      <td>[0.0008654467700119027]</td>\n",
       "      <td>[0.9216361819769696]</td>\n",
       "    </tr>\n",
       "    <tr>\n",
       "      <th>9</th>\n",
       "      <td>noroll_v3.3_10yrs</td>\n",
       "      <td>3</td>\n",
       "      <td>25.866495</td>\n",
       "      <td>25.839571</td>\n",
       "      <td>0.168145</td>\n",
       "      <td>0.213265</td>\n",
       "      <td>[0.9213739129183759]</td>\n",
       "      <td>[0.0014087273960281812]</td>\n",
       "      <td>[0.0006469404135409502]</td>\n",
       "      <td>[0.9213739129183759]</td>\n",
       "    </tr>\n",
       "    <tr>\n",
       "      <th>10</th>\n",
       "      <td>roll_mid1_const_season4v3.3_10yrs</td>\n",
       "      <td>3</td>\n",
       "      <td>25.843019</td>\n",
       "      <td>25.824180</td>\n",
       "      <td>0.217975</td>\n",
       "      <td>0.277805</td>\n",
       "      <td>[0.9216361819769696]</td>\n",
       "      <td>[0.001883374980202648]</td>\n",
       "      <td>[0.0008654467700119027]</td>\n",
       "      <td>[0.9216361819769696]</td>\n",
       "    </tr>\n",
       "    <tr>\n",
       "      <th>11</th>\n",
       "      <td>roll_mid2_const_season2v3.3_10yrs</td>\n",
       "      <td>3</td>\n",
       "      <td>25.843019</td>\n",
       "      <td>25.824180</td>\n",
       "      <td>0.217975</td>\n",
       "      <td>0.277805</td>\n",
       "      <td>[0.9216361819769696]</td>\n",
       "      <td>[0.001883374980202648]</td>\n",
       "      <td>[0.0008654467700119027]</td>\n",
       "      <td>[0.9216361819769696]</td>\n",
       "    </tr>\n",
       "    <tr>\n",
       "      <th>12</th>\n",
       "      <td>baseline_v3.3_10yrs</td>\n",
       "      <td>4</td>\n",
       "      <td>25.994479</td>\n",
       "      <td>25.965053</td>\n",
       "      <td>0.172323</td>\n",
       "      <td>0.220420</td>\n",
       "      <td>[0.9362776882004127]</td>\n",
       "      <td>[0.001510044402191454]</td>\n",
       "      <td>[0.0007178684508859654]</td>\n",
       "      <td>[0.9362776882004127]</td>\n",
       "    </tr>\n",
       "    <tr>\n",
       "      <th>13</th>\n",
       "      <td>noroll_v3.3_10yrs</td>\n",
       "      <td>4</td>\n",
       "      <td>26.001999</td>\n",
       "      <td>25.975704</td>\n",
       "      <td>0.164686</td>\n",
       "      <td>0.209550</td>\n",
       "      <td>[0.9360801465037012]</td>\n",
       "      <td>[0.0014105894509915586]</td>\n",
       "      <td>[0.0006702829994223315]</td>\n",
       "      <td>[0.9360801465037012]</td>\n",
       "    </tr>\n",
       "    <tr>\n",
       "      <th>14</th>\n",
       "      <td>roll_mid1_const_season4v3.3_10yrs</td>\n",
       "      <td>4</td>\n",
       "      <td>25.994479</td>\n",
       "      <td>25.965053</td>\n",
       "      <td>0.172323</td>\n",
       "      <td>0.220420</td>\n",
       "      <td>[0.9362776882004127]</td>\n",
       "      <td>[0.001510044402191454]</td>\n",
       "      <td>[0.0007178684508859654]</td>\n",
       "      <td>[0.9362776882004127]</td>\n",
       "    </tr>\n",
       "    <tr>\n",
       "      <th>15</th>\n",
       "      <td>roll_mid2_const_season2v3.3_10yrs</td>\n",
       "      <td>4</td>\n",
       "      <td>25.998938</td>\n",
       "      <td>25.971084</td>\n",
       "      <td>0.168606</td>\n",
       "      <td>0.208984</td>\n",
       "      <td>[0.9361658275750377]</td>\n",
       "      <td>[0.0014586110407807645]</td>\n",
       "      <td>[0.0006932386541140218]</td>\n",
       "      <td>[0.9361658275750377]</td>\n",
       "    </tr>\n",
       "    <tr>\n",
       "      <th>16</th>\n",
       "      <td>baseline_v3.3_10yrs</td>\n",
       "      <td>5</td>\n",
       "      <td>26.073056</td>\n",
       "      <td>26.048741</td>\n",
       "      <td>0.179762</td>\n",
       "      <td>0.229556</td>\n",
       "      <td>[0.9479203670796887]</td>\n",
       "      <td>[0.0016842772014666327]</td>\n",
       "      <td>[0.0008223267421688697]</td>\n",
       "      <td>[0.9479203670796887]</td>\n",
       "    </tr>\n",
       "    <tr>\n",
       "      <th>17</th>\n",
       "      <td>noroll_v3.3_10yrs</td>\n",
       "      <td>5</td>\n",
       "      <td>26.095760</td>\n",
       "      <td>26.066504</td>\n",
       "      <td>0.162930</td>\n",
       "      <td>0.207229</td>\n",
       "      <td>[0.9475977438895878]</td>\n",
       "      <td>[0.0014740066521907002]</td>\n",
       "      <td>[0.0007191365100269079]</td>\n",
       "      <td>[0.9475977438895878]</td>\n",
       "    </tr>\n",
       "    <tr>\n",
       "      <th>18</th>\n",
       "      <td>roll_mid1_const_season4v3.3_10yrs</td>\n",
       "      <td>5</td>\n",
       "      <td>26.073056</td>\n",
       "      <td>26.048741</td>\n",
       "      <td>0.179762</td>\n",
       "      <td>0.229556</td>\n",
       "      <td>[0.9479203670796887]</td>\n",
       "      <td>[0.0016842772014666327]</td>\n",
       "      <td>[0.0008223267421688697]</td>\n",
       "      <td>[0.9479203670796887]</td>\n",
       "    </tr>\n",
       "    <tr>\n",
       "      <th>19</th>\n",
       "      <td>roll_mid2_const_season2v3.3_10yrs</td>\n",
       "      <td>5</td>\n",
       "      <td>26.079259</td>\n",
       "      <td>26.051510</td>\n",
       "      <td>0.170167</td>\n",
       "      <td>0.214207</td>\n",
       "      <td>[0.947870077887634]</td>\n",
       "      <td>[0.00158581909192937]</td>\n",
       "      <td>[0.0007741672160263079]</td>\n",
       "      <td>[0.947870077887634]</td>\n",
       "    </tr>\n",
       "    <tr>\n",
       "      <th>20</th>\n",
       "      <td>baseline_v3.3_10yrs</td>\n",
       "      <td>6</td>\n",
       "      <td>26.163027</td>\n",
       "      <td>26.128642</td>\n",
       "      <td>0.164549</td>\n",
       "      <td>0.209568</td>\n",
       "      <td>[0.957113972021943]</td>\n",
       "      <td>[0.001550843318735675]</td>\n",
       "      <td>[0.0007731159316450858]</td>\n",
       "      <td>[0.957113972021943]</td>\n",
       "    </tr>\n",
       "    <tr>\n",
       "      <th>21</th>\n",
       "      <td>noroll_v3.3_10yrs</td>\n",
       "      <td>6</td>\n",
       "      <td>26.176187</td>\n",
       "      <td>26.145911</td>\n",
       "      <td>0.160461</td>\n",
       "      <td>0.205025</td>\n",
       "      <td>[0.9568395550632539]</td>\n",
       "      <td>[0.0014682775430826316]</td>\n",
       "      <td>[0.0007315028919219671]</td>\n",
       "      <td>[0.9568395550632539]</td>\n",
       "    </tr>\n",
       "    <tr>\n",
       "      <th>22</th>\n",
       "      <td>roll_mid1_const_season4v3.3_10yrs</td>\n",
       "      <td>6</td>\n",
       "      <td>26.163752</td>\n",
       "      <td>26.131106</td>\n",
       "      <td>0.163676</td>\n",
       "      <td>0.206228</td>\n",
       "      <td>[0.9570748200882944]</td>\n",
       "      <td>[0.001536206116999106]</td>\n",
       "      <td>[0.0007657514755398624]</td>\n",
       "      <td>[0.9570748200882944]</td>\n",
       "    </tr>\n",
       "    <tr>\n",
       "      <th>23</th>\n",
       "      <td>roll_mid2_const_season2v3.3_10yrs</td>\n",
       "      <td>6</td>\n",
       "      <td>26.150330</td>\n",
       "      <td>26.125805</td>\n",
       "      <td>0.172830</td>\n",
       "      <td>0.216421</td>\n",
       "      <td>[0.9571590559423008]</td>\n",
       "      <td>[0.0016366782219136475]</td>\n",
       "      <td>[0.0008159887263752291]</td>\n",
       "      <td>[0.9571590559423008]</td>\n",
       "    </tr>\n",
       "    <tr>\n",
       "      <th>24</th>\n",
       "      <td>baseline_v3.3_10yrs</td>\n",
       "      <td>7</td>\n",
       "      <td>26.220376</td>\n",
       "      <td>26.191188</td>\n",
       "      <td>0.169301</td>\n",
       "      <td>0.216515</td>\n",
       "      <td>[0.9648034517393783]</td>\n",
       "      <td>[0.001594377302054211]</td>\n",
       "      <td>[0.0008086683084297024]</td>\n",
       "      <td>[0.9648034517393783]</td>\n",
       "    </tr>\n",
       "    <tr>\n",
       "      <th>25</th>\n",
       "      <td>noroll_v3.3_10yrs</td>\n",
       "      <td>7</td>\n",
       "      <td>26.244674</td>\n",
       "      <td>26.215919</td>\n",
       "      <td>0.158385</td>\n",
       "      <td>0.200181</td>\n",
       "      <td>[0.9644270907009698]</td>\n",
       "      <td>[0.0014319627696811861]</td>\n",
       "      <td>[0.0007256800125211717]</td>\n",
       "      <td>[0.9644270907009698]</td>\n",
       "    </tr>\n",
       "    <tr>\n",
       "      <th>26</th>\n",
       "      <td>roll_mid1_const_season4v3.3_10yrs</td>\n",
       "      <td>7</td>\n",
       "      <td>26.229882</td>\n",
       "      <td>26.197229</td>\n",
       "      <td>0.164338</td>\n",
       "      <td>0.203573</td>\n",
       "      <td>[0.9647003379076081]</td>\n",
       "      <td>[0.0015306940172852585]</td>\n",
       "      <td>[0.0007761889843696791]</td>\n",
       "      <td>[0.9647003379076081]</td>\n",
       "    </tr>\n",
       "    <tr>\n",
       "      <th>27</th>\n",
       "      <td>roll_mid2_const_season2v3.3_10yrs</td>\n",
       "      <td>7</td>\n",
       "      <td>26.225658</td>\n",
       "      <td>26.197432</td>\n",
       "      <td>0.159537</td>\n",
       "      <td>0.194986</td>\n",
       "      <td>[0.9646968683365403]</td>\n",
       "      <td>[0.001485415463223062]</td>\n",
       "      <td>[0.0007532231477277008]</td>\n",
       "      <td>[0.9646968683365403]</td>\n",
       "    </tr>\n",
       "    <tr>\n",
       "      <th>28</th>\n",
       "      <td>baseline_v3.3_10yrs</td>\n",
       "      <td>8</td>\n",
       "      <td>26.284233</td>\n",
       "      <td>26.248194</td>\n",
       "      <td>0.164319</td>\n",
       "      <td>0.209159</td>\n",
       "      <td>[0.9715472545525216]</td>\n",
       "      <td>[0.0015540764201438324]</td>\n",
       "      <td>[0.0008001746401924123]</td>\n",
       "      <td>[0.9715472545525216]</td>\n",
       "    </tr>\n",
       "    <tr>\n",
       "      <th>29</th>\n",
       "      <td>noroll_v3.3_10yrs</td>\n",
       "      <td>8</td>\n",
       "      <td>26.300066</td>\n",
       "      <td>26.270944</td>\n",
       "      <td>0.161353</td>\n",
       "      <td>0.205426</td>\n",
       "      <td>[0.971220068196416]</td>\n",
       "      <td>[0.0014732318789001766]</td>\n",
       "      <td>[0.0007579971261611026]</td>\n",
       "      <td>[0.971220068196416]</td>\n",
       "    </tr>\n",
       "    <tr>\n",
       "      <th>30</th>\n",
       "      <td>roll_mid1_const_season4v3.3_10yrs</td>\n",
       "      <td>8</td>\n",
       "      <td>26.276764</td>\n",
       "      <td>26.249561</td>\n",
       "      <td>0.169345</td>\n",
       "      <td>0.214077</td>\n",
       "      <td>[0.9715275986895143]</td>\n",
       "      <td>[0.0015982771561148805]</td>\n",
       "      <td>[0.0008228970886724759]</td>\n",
       "      <td>[0.9715275986895143]</td>\n",
       "    </tr>\n",
       "    <tr>\n",
       "      <th>31</th>\n",
       "      <td>roll_mid2_const_season2v3.3_10yrs</td>\n",
       "      <td>8</td>\n",
       "      <td>26.280701</td>\n",
       "      <td>26.251996</td>\n",
       "      <td>0.160191</td>\n",
       "      <td>0.197616</td>\n",
       "      <td>[0.9714925796146463]</td>\n",
       "      <td>[0.0015062725000745511]</td>\n",
       "      <td>[0.0007754667256603308]</td>\n",
       "      <td>[0.9714925796146463]</td>\n",
       "    </tr>\n",
       "    <tr>\n",
       "      <th>32</th>\n",
       "      <td>baseline_v3.3_10yrs</td>\n",
       "      <td>9</td>\n",
       "      <td>26.337261</td>\n",
       "      <td>26.305354</td>\n",
       "      <td>0.167004</td>\n",
       "      <td>0.218167</td>\n",
       "      <td>[0.9770892074084772]</td>\n",
       "      <td>[0.0015179417900033998]</td>\n",
       "      <td>[0.0007912321434922412]</td>\n",
       "      <td>[0.9770892074084772]</td>\n",
       "    </tr>\n",
       "    <tr>\n",
       "      <th>33</th>\n",
       "      <td>noroll_v3.3_10yrs</td>\n",
       "      <td>9</td>\n",
       "      <td>26.361844</td>\n",
       "      <td>26.331324</td>\n",
       "      <td>0.158527</td>\n",
       "      <td>0.201136</td>\n",
       "      <td>[0.9767685619709571]</td>\n",
       "      <td>[0.0013900609980561592]</td>\n",
       "      <td>[0.0007240602434152983]</td>\n",
       "      <td>[0.9767685619709571]</td>\n",
       "    </tr>\n",
       "    <tr>\n",
       "      <th>34</th>\n",
       "      <td>roll_mid1_const_season4v3.3_10yrs</td>\n",
       "      <td>9</td>\n",
       "      <td>26.337387</td>\n",
       "      <td>26.310529</td>\n",
       "      <td>0.159822</td>\n",
       "      <td>0.200847</td>\n",
       "      <td>[0.9770253125700497]</td>\n",
       "      <td>[0.0014424506237246618]</td>\n",
       "      <td>[0.000751775902758226]</td>\n",
       "      <td>[0.9770253125700497]</td>\n",
       "    </tr>\n",
       "    <tr>\n",
       "      <th>35</th>\n",
       "      <td>roll_mid2_const_season2v3.3_10yrs</td>\n",
       "      <td>9</td>\n",
       "      <td>26.346489</td>\n",
       "      <td>26.315145</td>\n",
       "      <td>0.157351</td>\n",
       "      <td>0.196043</td>\n",
       "      <td>[0.976968316118204]</td>\n",
       "      <td>[0.001411180938753624]</td>\n",
       "      <td>[0.0007353860863526888]</td>\n",
       "      <td>[0.976968316118204]</td>\n",
       "    </tr>\n",
       "  </tbody>\n",
       "</table>\n",
       "</div>"
      ],
      "text/plain": [
       "                             Strategy  Year  Median i-band depth  \\\n",
       "0                 baseline_v3.3_10yrs     1            25.252161   \n",
       "1                   noroll_v3.3_10yrs     1            25.252161   \n",
       "2   roll_mid1_const_season4v3.3_10yrs     1            25.252161   \n",
       "3   roll_mid2_const_season2v3.3_10yrs     1            25.252161   \n",
       "4                 baseline_v3.3_10yrs     2            25.635288   \n",
       "5                   noroll_v3.3_10yrs     2            25.626280   \n",
       "6   roll_mid1_const_season4v3.3_10yrs     2            25.635288   \n",
       "7   roll_mid2_const_season2v3.3_10yrs     2            25.635288   \n",
       "8                 baseline_v3.3_10yrs     3            25.843019   \n",
       "9                   noroll_v3.3_10yrs     3            25.866495   \n",
       "10  roll_mid1_const_season4v3.3_10yrs     3            25.843019   \n",
       "11  roll_mid2_const_season2v3.3_10yrs     3            25.843019   \n",
       "12                baseline_v3.3_10yrs     4            25.994479   \n",
       "13                  noroll_v3.3_10yrs     4            26.001999   \n",
       "14  roll_mid1_const_season4v3.3_10yrs     4            25.994479   \n",
       "15  roll_mid2_const_season2v3.3_10yrs     4            25.998938   \n",
       "16                baseline_v3.3_10yrs     5            26.073056   \n",
       "17                  noroll_v3.3_10yrs     5            26.095760   \n",
       "18  roll_mid1_const_season4v3.3_10yrs     5            26.073056   \n",
       "19  roll_mid2_const_season2v3.3_10yrs     5            26.079259   \n",
       "20                baseline_v3.3_10yrs     6            26.163027   \n",
       "21                  noroll_v3.3_10yrs     6            26.176187   \n",
       "22  roll_mid1_const_season4v3.3_10yrs     6            26.163752   \n",
       "23  roll_mid2_const_season2v3.3_10yrs     6            26.150330   \n",
       "24                baseline_v3.3_10yrs     7            26.220376   \n",
       "25                  noroll_v3.3_10yrs     7            26.244674   \n",
       "26  roll_mid1_const_season4v3.3_10yrs     7            26.229882   \n",
       "27  roll_mid2_const_season2v3.3_10yrs     7            26.225658   \n",
       "28                baseline_v3.3_10yrs     8            26.284233   \n",
       "29                  noroll_v3.3_10yrs     8            26.300066   \n",
       "30  roll_mid1_const_season4v3.3_10yrs     8            26.276764   \n",
       "31  roll_mid2_const_season2v3.3_10yrs     8            26.280701   \n",
       "32                baseline_v3.3_10yrs     9            26.337261   \n",
       "33                  noroll_v3.3_10yrs     9            26.361844   \n",
       "34  roll_mid1_const_season4v3.3_10yrs     9            26.337387   \n",
       "35  roll_mid2_const_season2v3.3_10yrs     9            26.346489   \n",
       "\n",
       "    Mean i-band depth  Std i-band depth  IQR i-band depth  \\\n",
       "0           25.233240          0.184610          0.235948   \n",
       "1           25.233240          0.184610          0.235948   \n",
       "2           25.233240          0.184610          0.235948   \n",
       "3           25.233240          0.184610          0.235948   \n",
       "4           25.598740          0.197662          0.260341   \n",
       "5           25.601309          0.170386          0.215176   \n",
       "6           25.598740          0.197662          0.260341   \n",
       "7           25.598740          0.197662          0.260341   \n",
       "8           25.824180          0.217975          0.277805   \n",
       "9           25.839571          0.168145          0.213265   \n",
       "10          25.824180          0.217975          0.277805   \n",
       "11          25.824180          0.217975          0.277805   \n",
       "12          25.965053          0.172323          0.220420   \n",
       "13          25.975704          0.164686          0.209550   \n",
       "14          25.965053          0.172323          0.220420   \n",
       "15          25.971084          0.168606          0.208984   \n",
       "16          26.048741          0.179762          0.229556   \n",
       "17          26.066504          0.162930          0.207229   \n",
       "18          26.048741          0.179762          0.229556   \n",
       "19          26.051510          0.170167          0.214207   \n",
       "20          26.128642          0.164549          0.209568   \n",
       "21          26.145911          0.160461          0.205025   \n",
       "22          26.131106          0.163676          0.206228   \n",
       "23          26.125805          0.172830          0.216421   \n",
       "24          26.191188          0.169301          0.216515   \n",
       "25          26.215919          0.158385          0.200181   \n",
       "26          26.197229          0.164338          0.203573   \n",
       "27          26.197432          0.159537          0.194986   \n",
       "28          26.248194          0.164319          0.209159   \n",
       "29          26.270944          0.161353          0.205426   \n",
       "30          26.249561          0.169345          0.214077   \n",
       "31          26.251996          0.160191          0.197616   \n",
       "32          26.305354          0.167004          0.218167   \n",
       "33          26.331324          0.158527          0.201136   \n",
       "34          26.310529          0.159822          0.200847   \n",
       "35          26.315145          0.157351          0.196043   \n",
       "\n",
       "                  Mean z                    Std z                   Clbias  \\\n",
       "0    [0.866354169538206]  [0.0016245211763601293]  [0.0006535667585274868]   \n",
       "1    [0.866354169538206]  [0.0016245211763601293]  [0.0006535667585274868]   \n",
       "2    [0.866354169538206]  [0.0016245211763601293]  [0.0006535667585274868]   \n",
       "3    [0.866354169538206]  [0.0016245211763601293]  [0.0006535667585274868]   \n",
       "4   [0.9014094749919175]  [0.0017459151126265917]  [0.0007648611361907208]   \n",
       "5   [0.9013613452513005]  [0.0014967852444383643]  [0.0006556455035815324]   \n",
       "6   [0.9014094749919175]  [0.0017459151126265917]  [0.0007648611361907208]   \n",
       "7   [0.9014094749919175]  [0.0017459151126265917]  [0.0007648611361907208]   \n",
       "8   [0.9216361819769696]   [0.001883374980202648]  [0.0008654467700119027]   \n",
       "9   [0.9213739129183759]  [0.0014087273960281812]  [0.0006469404135409502]   \n",
       "10  [0.9216361819769696]   [0.001883374980202648]  [0.0008654467700119027]   \n",
       "11  [0.9216361819769696]   [0.001883374980202648]  [0.0008654467700119027]   \n",
       "12  [0.9362776882004127]   [0.001510044402191454]  [0.0007178684508859654]   \n",
       "13  [0.9360801465037012]  [0.0014105894509915586]  [0.0006702829994223315]   \n",
       "14  [0.9362776882004127]   [0.001510044402191454]  [0.0007178684508859654]   \n",
       "15  [0.9361658275750377]  [0.0014586110407807645]  [0.0006932386541140218]   \n",
       "16  [0.9479203670796887]  [0.0016842772014666327]  [0.0008223267421688697]   \n",
       "17  [0.9475977438895878]  [0.0014740066521907002]  [0.0007191365100269079]   \n",
       "18  [0.9479203670796887]  [0.0016842772014666327]  [0.0008223267421688697]   \n",
       "19   [0.947870077887634]    [0.00158581909192937]  [0.0007741672160263079]   \n",
       "20   [0.957113972021943]   [0.001550843318735675]  [0.0007731159316450858]   \n",
       "21  [0.9568395550632539]  [0.0014682775430826316]  [0.0007315028919219671]   \n",
       "22  [0.9570748200882944]   [0.001536206116999106]  [0.0007657514755398624]   \n",
       "23  [0.9571590559423008]  [0.0016366782219136475]  [0.0008159887263752291]   \n",
       "24  [0.9648034517393783]   [0.001594377302054211]  [0.0008086683084297024]   \n",
       "25  [0.9644270907009698]  [0.0014319627696811861]  [0.0007256800125211717]   \n",
       "26  [0.9647003379076081]  [0.0015306940172852585]  [0.0007761889843696791]   \n",
       "27  [0.9646968683365403]   [0.001485415463223062]  [0.0007532231477277008]   \n",
       "28  [0.9715472545525216]  [0.0015540764201438324]  [0.0008001746401924123]   \n",
       "29   [0.971220068196416]  [0.0014732318789001766]  [0.0007579971261611026]   \n",
       "30  [0.9715275986895143]  [0.0015982771561148805]  [0.0008228970886724759]   \n",
       "31  [0.9714925796146463]  [0.0015062725000745511]  [0.0007754667256603308]   \n",
       "32  [0.9770892074084772]  [0.0015179417900033998]  [0.0007912321434922412]   \n",
       "33  [0.9767685619709571]  [0.0013900609980561592]  [0.0007240602434152983]   \n",
       "34  [0.9770253125700497]  [0.0014424506237246618]   [0.000751775902758226]   \n",
       "35   [0.976968316118204]   [0.001411180938753624]  [0.0007353860863526888]   \n",
       "\n",
       "              Used meanz  \n",
       "0    [0.866354169538206]  \n",
       "1    [0.866354169538206]  \n",
       "2    [0.866354169538206]  \n",
       "3    [0.866354169538206]  \n",
       "4   [0.9014094749919175]  \n",
       "5   [0.9013613452513005]  \n",
       "6   [0.9014094749919175]  \n",
       "7   [0.9014094749919175]  \n",
       "8   [0.9216361819769696]  \n",
       "9   [0.9213739129183759]  \n",
       "10  [0.9216361819769696]  \n",
       "11  [0.9216361819769696]  \n",
       "12  [0.9362776882004127]  \n",
       "13  [0.9360801465037012]  \n",
       "14  [0.9362776882004127]  \n",
       "15  [0.9361658275750377]  \n",
       "16  [0.9479203670796887]  \n",
       "17  [0.9475977438895878]  \n",
       "18  [0.9479203670796887]  \n",
       "19   [0.947870077887634]  \n",
       "20   [0.957113972021943]  \n",
       "21  [0.9568395550632539]  \n",
       "22  [0.9570748200882944]  \n",
       "23  [0.9571590559423008]  \n",
       "24  [0.9648034517393783]  \n",
       "25  [0.9644270907009698]  \n",
       "26  [0.9647003379076081]  \n",
       "27  [0.9646968683365403]  \n",
       "28  [0.9715472545525216]  \n",
       "29   [0.971220068196416]  \n",
       "30  [0.9715275986895143]  \n",
       "31  [0.9714925796146463]  \n",
       "32  [0.9770892074084772]  \n",
       "33  [0.9767685619709571]  \n",
       "34  [0.9770253125700497]  \n",
       "35   [0.976968316118204]  "
      ]
     },
     "metadata": {},
     "output_type": "display_data"
    }
   ],
   "source": [
    "import numpy as np\n",
    "import pandas as pd\n",
    "import importlib\n",
    "importlib.reload(mzmod)\n",
    "\n",
    "v33_sim_list = ['/pscratch/sd/r/rhlozek/rubin_sim_data/sim_baseline/baseline_v3.3_10yrs.db',\n",
    "           '/pscratch/sd/r/rhlozek/rubin_sim_data/noroll/noroll_v3.3_10yrs.db',\n",
    "             '/pscratch/sd/r/rhlozek/rubin_sim_data/noroll/roll_mid1_const_season4v3.3_10yrs.db',\n",
    "           '/pscratch/sd/r/rhlozek/rubin_sim_data/noroll/roll_mid2_const_season2v3.3_10yrs.db']\n",
    "v33_name_list = [path.splitext(path.basename(sim))[0] for sim in v33_sim_list]\n",
    "nums =len(v33_name_list)\n",
    "v33_df = mzmod.get_year_by_year_metrics_jn(np.arange(1,10), v33_name_list[:nums], v33_sim_list[:nums])\n",
    "display(v33_df)"
   ]
  },
  {
   "cell_type": "code",
   "execution_count": 9,
   "metadata": {},
   "outputs": [
    {
     "name": "stdout",
     "output_type": "stream",
     "text": [
      "[1 2 3 4 5 6 7 8 9]\n"
     ]
    },
    {
     "data": {
      "image/png": "[encoded data removed]",
      "text/plain": [
       "<Figure size 640x480 with 1 Axes>"
      ]
     },
     "metadata": {},
     "output_type": "display_data"
    }
   ],
   "source": [
    "importlib.reload(mzmod)\n",
    "import matplotlib.pyplot as plt\n",
    "#mzmod.plot_meanz_metrics_by_year(v33_df, years=[3,5],num_bins=5)\n",
    "mzmod.plot_metric_by_year(v33_df, stat_name='Clbias',ylog=True)#,years=[1,2,3,4,5,6,7],)\n",
    "\n",
    "\n",
    "#mzmod.plot_metric_by_year(v33_df, 'Std z')"
   ]
  },
  {
   "cell_type": "code",
   "execution_count": 8,
   "metadata": {
    "tags": []
   },
   "outputs": [],
   "source": [
    "v33_df.to_pickle('v33_dataframe_withmeanz.pkl')"
   ]
  },
  {
   "cell_type": "code",
   "execution_count": 9,
   "metadata": {},
   "outputs": [
    {
     "name": "stdout",
     "output_type": "stream",
     "text": [
      "[0.046745091529873814, 0.08500551112138602, 0.11915807457810432, 0.16180047285571472, 0.2539575165815878]\n"
     ]
    }
   ],
   "source": [
    "vec = mzmod.sensitivity(num_bins=5,fiducial_ilim=24.1)\n",
    "print(vec)\n",
    "# import numpy.random as random\n",
    "# vec = np.linspace(2,18,17)\n",
    "# print(vec)\n",
    "# random.shuffle(vec)\n",
    "# print(vec)"
   ]
  },
  {
   "cell_type": "code",
   "execution_count": 10,
   "metadata": {},
   "outputs": [],
   "source": [
    "# import matplotlib.pyplot as plt\n",
    "# fig, axs = plt.subplots(5,1,sharex=True)\n",
    "# x=np.linspace(0,5,100)\n",
    "# axs[0].plot(x,x**2)\n",
    "# axs[3].plot(x,x**2)"
   ]
  },
  {
   "cell_type": "markdown",
   "metadata": {},
   "source": [
    "### Here we plot the year-by-year metric results.  We read in from the dataframe, so if it was already produced, we can skip over the previous chunk of notebook."
   ]
  },
  {
   "cell_type": "code",
   "execution_count": 11,
   "metadata": {
    "tags": []
   },
   "outputs": [
    {
     "data": {
      "image/png": "[encoded data removed]",
      "text/plain": [
       "<Figure size 640x480 with 1 Axes>"
      ]
     },
     "metadata": {},
     "output_type": "display_data"
    }
   ],
   "source": [
    "v33_df = pd.read_pickle('v33_dataframe_withmeanz.pkl')\n",
    "mzmod.plot_metric_by_year(v33_df, 'Mean i-band depth')"
   ]
  }
 ],
 "metadata": {
  "kernelspec": {
   "display_name": "desc-stack-weekly-latest",
   "language": "python",
   "name": "desc-stack-weekly-latest"
  }
 },
 "nbformat": 4,
 "nbformat_minor": 4
}
