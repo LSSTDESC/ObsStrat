{
 "cells": [
  {
   "cell_type": "code",
   "execution_count": 1,
   "metadata": {
    "tags": []
   },
   "outputs": [],
   "source": [
    "import meanz_modules as mzmod\n",
    "import rubin_sim\n",
    "import rubin_sim.maf as maf\n",
    "from rubin_sim.scheduler.utils import SkyAreaGenerator\n",
    "from rubin_sim.data import get_baseline\n",
    "\n",
    "from os import path\n",
    "\n",
    "opsim_fname = rubin_sim.data.get_baseline()\n",
    "run_name = path.splitext(path.basename(opsim_fname))[0]\n",
    "nside=64\n"
   ]
  },
  {
   "cell_type": "code",
   "execution_count": 2,
   "metadata": {
    "tags": []
   },
   "outputs": [
    {
     "name": "stdout",
     "output_type": "stream",
     "text": [
      "Healpix slicer using NSIDE=64, approximate resolution 54.967783 arcminutes\n"
     ]
    },
    {
     "name": "stderr",
     "output_type": "stream",
     "text": [
      "/opt/lsst/software/stack/conda/miniconda3-py38_4.9.2/envs/lsst-scipipe-7.0.1/lib/python3.11/site-packages/rubin_sim/maf/maps/dust_map.py:44: UserWarning: Slicer value of nside 64 different from map value 128, using slicer value\n",
      "  warnings.warn(\n"
     ]
    }
   ],
   "source": [
    "# # Apply the above routine to our baseline sim, and show the plots\n",
    "bgroup, bd = mzmod.metric_plots(run_name, opsim_fname, year=2,nside=nside)\n",
    "bgroup.plot_all(closefigs=True)"
   ]
  },
  {
   "cell_type": "markdown",
   "metadata": {},
   "source": []
  },
  {
   "cell_type": "code",
   "execution_count": 3,
   "metadata": {
    "tags": []
   },
   "outputs": [
    {
     "name": "stdout",
     "output_type": "stream",
     "text": [
      "0.044444444444444446 -0.7644444444444444\n"
     ]
    },
    {
     "name": "stderr",
     "output_type": "stream",
     "text": [
      "/opt/lsst/software/stack/conda/miniconda3-py38_4.9.2/envs/lsst-scipipe-7.0.1/lib/python3.11/site-packages/scipy/optimize/_minpack_py.py:906: OptimizeWarning: Covariance of the parameters could not be estimated\n",
      "  warnings.warn('Covariance of the parameters could not be estimated',\n"
     ]
    }
   ],
   "source": [
    "ilim = [24.1, 25.3]\n",
    "meanz = [0.92, 1.08]\n",
    "\n",
    "a,b = mzmod.coeff_solve(ilim,meanz)\n",
    "print(a,b)"
   ]
  },
  {
   "cell_type": "markdown",
   "metadata": {},
   "source": [
    "### Dataset definitions"
   ]
  },
  {
   "cell_type": "code",
   "execution_count": 4,
   "metadata": {
    "tags": []
   },
   "outputs": [
    {
     "name": "stdout",
     "output_type": "stream",
     "text": [
      "['baseline_v3.3_10yrs', 'noroll_v3.3_10yrs', 'roll_mid1_const_season6v3.3_10yrs', 'roll_mid1_const_season2v3.3_10yrs', 'roll_mid1_const_season4v3.3_10yrs', 'roll_mid2_const_season2v3.3_10yrs', 'roll_mid2_const_season4v3.3_10yrs', 'roll_mid2_const_season6v3.3_10yrs']\n"
     ]
    }
   ],
   "source": [
    "v33_sim_list = ['/pscratch/sd/r/rhlozek/rubin_sim_data/sim_baseline/baseline_v3.3_10yrs.db',\n",
    "           '/pscratch/sd/r/rhlozek/rubin_sim_data/noroll/noroll_v3.3_10yrs.db',\n",
    "           '/pscratch/sd/r/rhlozek/rubin_sim_data/noroll/roll_mid1_const_season6v3.3_10yrs.db',\n",
    "           '/pscratch/sd/r/rhlozek/rubin_sim_data/noroll/roll_mid1_const_season2v3.3_10yrs.db',\n",
    "           '/pscratch/sd/r/rhlozek/rubin_sim_data/noroll/roll_mid1_const_season4v3.3_10yrs.db',\n",
    "           '/pscratch/sd/r/rhlozek/rubin_sim_data/noroll/roll_mid2_const_season2v3.3_10yrs.db',\n",
    "           '/pscratch/sd/r/rhlozek/rubin_sim_data/noroll/roll_mid2_const_season4v3.3_10yrs.db',\n",
    "           '/pscratch/sd/r/rhlozek/rubin_sim_data/noroll/roll_mid2_const_season6v3.3_10yrs.db',]\n",
    "v33_name_list = [path.splitext(path.basename(sim))[0] for sim in v33_sim_list]\n",
    "print(v33_name_list)"
   ]
  },
  {
   "cell_type": "markdown",
   "metadata": {
    "tags": []
   },
   "source": [
    "## In this section, we get maps of the i-band depth across the survey for v3.3 simulations at year=3"
   ]
  },
  {
   "cell_type": "code",
   "execution_count": 5,
   "metadata": {
    "tags": []
   },
   "outputs": [],
   "source": [
    "# # Run our above routine for the v3.3 simulations at year 3\n",
    "# for i in range(len(v33_sim_list)):\n",
    "#     this_run = v33_sim_list[i]\n",
    "#     this_fname = v33_name_list[i]\n",
    "#     bgroup, bd = mzmod.metric_plots(this_fname, this_run, year=3)\n",
    "#     #bgroup.plot_all(closefigs=False)"
   ]
  },
  {
   "cell_type": "markdown",
   "metadata": {},
   "source": [
    "### In this section, we run our metric calculations at each year for all v3.3 simulations and produce a dataframe to save to disk."
   ]
  },
  {
   "cell_type": "code",
   "execution_count": 7,
   "metadata": {
    "tags": []
   },
   "outputs": [
    {
     "name": "stdout",
     "output_type": "stream",
     "text": [
      "Healpix slicer using NSIDE=64, approximate resolution 54.967783 arcminutes\n"
     ]
    },
    {
     "name": "stderr",
     "output_type": "stream",
     "text": [
      "/opt/lsst/software/stack/conda/miniconda3-py38_4.9.2/envs/lsst-scipipe-7.0.1/lib/python3.11/site-packages/rubin_sim/maf/maps/dust_map.py:44: UserWarning: Slicer value of nside 64 different from map value 128, using slicer value\n",
      "  warnings.warn(\n",
      "/pscratch/sd/r/rhlozek/ObsStrat/code/meanz_uniformity/meanz_modules.py:367: RankWarning: Polyfit may be poorly conditioned\n",
      "  clbias, meanz_use = compute_Clbias(meanzinterp,stdz)\n"
     ]
    },
    {
     "name": "stdout",
     "output_type": "stream",
     "text": [
      "Healpix slicer using NSIDE=64, approximate resolution 54.967783 arcminutes\n"
     ]
    },
    {
     "name": "stderr",
     "output_type": "stream",
     "text": [
      "/opt/lsst/software/stack/conda/miniconda3-py38_4.9.2/envs/lsst-scipipe-7.0.1/lib/python3.11/site-packages/rubin_sim/maf/maps/dust_map.py:44: UserWarning: Slicer value of nside 64 different from map value 128, using slicer value\n",
      "  warnings.warn(\n",
      "/pscratch/sd/r/rhlozek/ObsStrat/code/meanz_uniformity/meanz_modules.py:367: RankWarning: Polyfit may be poorly conditioned\n",
      "  clbias, meanz_use = compute_Clbias(meanzinterp,stdz)\n"
     ]
    },
    {
     "name": "stdout",
     "output_type": "stream",
     "text": [
      "Healpix slicer using NSIDE=64, approximate resolution 54.967783 arcminutes\n"
     ]
    },
    {
     "name": "stderr",
     "output_type": "stream",
     "text": [
      "/opt/lsst/software/stack/conda/miniconda3-py38_4.9.2/envs/lsst-scipipe-7.0.1/lib/python3.11/site-packages/rubin_sim/maf/maps/dust_map.py:44: UserWarning: Slicer value of nside 64 different from map value 128, using slicer value\n",
      "  warnings.warn(\n",
      "/pscratch/sd/r/rhlozek/ObsStrat/code/meanz_uniformity/meanz_modules.py:367: RankWarning: Polyfit may be poorly conditioned\n",
      "  clbias, meanz_use = compute_Clbias(meanzinterp,stdz)\n"
     ]
    },
    {
     "name": "stdout",
     "output_type": "stream",
     "text": [
      "Healpix slicer using NSIDE=64, approximate resolution 54.967783 arcminutes\n"
     ]
    },
    {
     "name": "stderr",
     "output_type": "stream",
     "text": [
      "/opt/lsst/software/stack/conda/miniconda3-py38_4.9.2/envs/lsst-scipipe-7.0.1/lib/python3.11/site-packages/rubin_sim/maf/maps/dust_map.py:44: UserWarning: Slicer value of nside 64 different from map value 128, using slicer value\n",
      "  warnings.warn(\n",
      "/pscratch/sd/r/rhlozek/ObsStrat/code/meanz_uniformity/meanz_modules.py:367: RankWarning: Polyfit may be poorly conditioned\n",
      "  clbias, meanz_use = compute_Clbias(meanzinterp,stdz)\n"
     ]
    },
    {
     "name": "stdout",
     "output_type": "stream",
     "text": [
      "Healpix slicer using NSIDE=64, approximate resolution 54.967783 arcminutes\n"
     ]
    },
    {
     "name": "stderr",
     "output_type": "stream",
     "text": [
      "/opt/lsst/software/stack/conda/miniconda3-py38_4.9.2/envs/lsst-scipipe-7.0.1/lib/python3.11/site-packages/rubin_sim/maf/maps/dust_map.py:44: UserWarning: Slicer value of nside 64 different from map value 128, using slicer value\n",
      "  warnings.warn(\n",
      "/pscratch/sd/r/rhlozek/ObsStrat/code/meanz_uniformity/meanz_modules.py:367: RankWarning: Polyfit may be poorly conditioned\n",
      "  clbias, meanz_use = compute_Clbias(meanzinterp,stdz)\n"
     ]
    },
    {
     "name": "stdout",
     "output_type": "stream",
     "text": [
      "Healpix slicer using NSIDE=64, approximate resolution 54.967783 arcminutes\n"
     ]
    },
    {
     "name": "stderr",
     "output_type": "stream",
     "text": [
      "/opt/lsst/software/stack/conda/miniconda3-py38_4.9.2/envs/lsst-scipipe-7.0.1/lib/python3.11/site-packages/rubin_sim/maf/maps/dust_map.py:44: UserWarning: Slicer value of nside 64 different from map value 128, using slicer value\n",
      "  warnings.warn(\n",
      "/pscratch/sd/r/rhlozek/ObsStrat/code/meanz_uniformity/meanz_modules.py:367: RankWarning: Polyfit may be poorly conditioned\n",
      "  clbias, meanz_use = compute_Clbias(meanzinterp,stdz)\n"
     ]
    },
    {
     "name": "stdout",
     "output_type": "stream",
     "text": [
      "Healpix slicer using NSIDE=64, approximate resolution 54.967783 arcminutes\n"
     ]
    },
    {
     "name": "stderr",
     "output_type": "stream",
     "text": [
      "/opt/lsst/software/stack/conda/miniconda3-py38_4.9.2/envs/lsst-scipipe-7.0.1/lib/python3.11/site-packages/rubin_sim/maf/maps/dust_map.py:44: UserWarning: Slicer value of nside 64 different from map value 128, using slicer value\n",
      "  warnings.warn(\n",
      "/pscratch/sd/r/rhlozek/ObsStrat/code/meanz_uniformity/meanz_modules.py:367: RankWarning: Polyfit may be poorly conditioned\n",
      "  clbias, meanz_use = compute_Clbias(meanzinterp,stdz)\n"
     ]
    },
    {
     "name": "stdout",
     "output_type": "stream",
     "text": [
      "Healpix slicer using NSIDE=64, approximate resolution 54.967783 arcminutes\n"
     ]
    },
    {
     "name": "stderr",
     "output_type": "stream",
     "text": [
      "/opt/lsst/software/stack/conda/miniconda3-py38_4.9.2/envs/lsst-scipipe-7.0.1/lib/python3.11/site-packages/rubin_sim/maf/maps/dust_map.py:44: UserWarning: Slicer value of nside 64 different from map value 128, using slicer value\n",
      "  warnings.warn(\n",
      "/pscratch/sd/r/rhlozek/ObsStrat/code/meanz_uniformity/meanz_modules.py:367: RankWarning: Polyfit may be poorly conditioned\n",
      "  clbias, meanz_use = compute_Clbias(meanzinterp,stdz)\n"
     ]
    },
    {
     "name": "stdout",
     "output_type": "stream",
     "text": [
      "Healpix slicer using NSIDE=64, approximate resolution 54.967783 arcminutes\n"
     ]
    },
    {
     "name": "stderr",
     "output_type": "stream",
     "text": [
      "/opt/lsst/software/stack/conda/miniconda3-py38_4.9.2/envs/lsst-scipipe-7.0.1/lib/python3.11/site-packages/rubin_sim/maf/maps/dust_map.py:44: UserWarning: Slicer value of nside 64 different from map value 128, using slicer value\n",
      "  warnings.warn(\n",
      "/pscratch/sd/r/rhlozek/ObsStrat/code/meanz_uniformity/meanz_modules.py:367: RankWarning: Polyfit may be poorly conditioned\n",
      "  clbias, meanz_use = compute_Clbias(meanzinterp,stdz)\n"
     ]
    },
    {
     "name": "stdout",
     "output_type": "stream",
     "text": [
      "Healpix slicer using NSIDE=64, approximate resolution 54.967783 arcminutes\n"
     ]
    },
    {
     "name": "stderr",
     "output_type": "stream",
     "text": [
      "/opt/lsst/software/stack/conda/miniconda3-py38_4.9.2/envs/lsst-scipipe-7.0.1/lib/python3.11/site-packages/rubin_sim/maf/maps/dust_map.py:44: UserWarning: Slicer value of nside 64 different from map value 128, using slicer value\n",
      "  warnings.warn(\n",
      "/pscratch/sd/r/rhlozek/ObsStrat/code/meanz_uniformity/meanz_modules.py:367: RankWarning: Polyfit may be poorly conditioned\n",
      "  clbias, meanz_use = compute_Clbias(meanzinterp,stdz)\n"
     ]
    },
    {
     "name": "stdout",
     "output_type": "stream",
     "text": [
      "Healpix slicer using NSIDE=64, approximate resolution 54.967783 arcminutes\n"
     ]
    },
    {
     "name": "stderr",
     "output_type": "stream",
     "text": [
      "/opt/lsst/software/stack/conda/miniconda3-py38_4.9.2/envs/lsst-scipipe-7.0.1/lib/python3.11/site-packages/rubin_sim/maf/maps/dust_map.py:44: UserWarning: Slicer value of nside 64 different from map value 128, using slicer value\n",
      "  warnings.warn(\n",
      "/pscratch/sd/r/rhlozek/ObsStrat/code/meanz_uniformity/meanz_modules.py:367: RankWarning: Polyfit may be poorly conditioned\n",
      "  clbias, meanz_use = compute_Clbias(meanzinterp,stdz)\n"
     ]
    },
    {
     "name": "stdout",
     "output_type": "stream",
     "text": [
      "Healpix slicer using NSIDE=64, approximate resolution 54.967783 arcminutes\n"
     ]
    },
    {
     "name": "stderr",
     "output_type": "stream",
     "text": [
      "/opt/lsst/software/stack/conda/miniconda3-py38_4.9.2/envs/lsst-scipipe-7.0.1/lib/python3.11/site-packages/rubin_sim/maf/maps/dust_map.py:44: UserWarning: Slicer value of nside 64 different from map value 128, using slicer value\n",
      "  warnings.warn(\n",
      "/pscratch/sd/r/rhlozek/ObsStrat/code/meanz_uniformity/meanz_modules.py:367: RankWarning: Polyfit may be poorly conditioned\n",
      "  clbias, meanz_use = compute_Clbias(meanzinterp,stdz)\n"
     ]
    },
    {
     "name": "stdout",
     "output_type": "stream",
     "text": [
      "Healpix slicer using NSIDE=64, approximate resolution 54.967783 arcminutes\n"
     ]
    },
    {
     "name": "stderr",
     "output_type": "stream",
     "text": [
      "/opt/lsst/software/stack/conda/miniconda3-py38_4.9.2/envs/lsst-scipipe-7.0.1/lib/python3.11/site-packages/rubin_sim/maf/maps/dust_map.py:44: UserWarning: Slicer value of nside 64 different from map value 128, using slicer value\n",
      "  warnings.warn(\n",
      "/pscratch/sd/r/rhlozek/ObsStrat/code/meanz_uniformity/meanz_modules.py:367: RankWarning: Polyfit may be poorly conditioned\n",
      "  clbias, meanz_use = compute_Clbias(meanzinterp,stdz)\n"
     ]
    },
    {
     "name": "stdout",
     "output_type": "stream",
     "text": [
      "Healpix slicer using NSIDE=64, approximate resolution 54.967783 arcminutes\n"
     ]
    },
    {
     "name": "stderr",
     "output_type": "stream",
     "text": [
      "/opt/lsst/software/stack/conda/miniconda3-py38_4.9.2/envs/lsst-scipipe-7.0.1/lib/python3.11/site-packages/rubin_sim/maf/maps/dust_map.py:44: UserWarning: Slicer value of nside 64 different from map value 128, using slicer value\n",
      "  warnings.warn(\n",
      "/pscratch/sd/r/rhlozek/ObsStrat/code/meanz_uniformity/meanz_modules.py:367: RankWarning: Polyfit may be poorly conditioned\n",
      "  clbias, meanz_use = compute_Clbias(meanzinterp,stdz)\n"
     ]
    },
    {
     "name": "stdout",
     "output_type": "stream",
     "text": [
      "Healpix slicer using NSIDE=64, approximate resolution 54.967783 arcminutes\n"
     ]
    },
    {
     "name": "stderr",
     "output_type": "stream",
     "text": [
      "/opt/lsst/software/stack/conda/miniconda3-py38_4.9.2/envs/lsst-scipipe-7.0.1/lib/python3.11/site-packages/rubin_sim/maf/maps/dust_map.py:44: UserWarning: Slicer value of nside 64 different from map value 128, using slicer value\n",
      "  warnings.warn(\n",
      "/pscratch/sd/r/rhlozek/ObsStrat/code/meanz_uniformity/meanz_modules.py:367: RankWarning: Polyfit may be poorly conditioned\n",
      "  clbias, meanz_use = compute_Clbias(meanzinterp,stdz)\n"
     ]
    },
    {
     "name": "stdout",
     "output_type": "stream",
     "text": [
      "Healpix slicer using NSIDE=64, approximate resolution 54.967783 arcminutes\n"
     ]
    },
    {
     "name": "stderr",
     "output_type": "stream",
     "text": [
      "/opt/lsst/software/stack/conda/miniconda3-py38_4.9.2/envs/lsst-scipipe-7.0.1/lib/python3.11/site-packages/rubin_sim/maf/maps/dust_map.py:44: UserWarning: Slicer value of nside 64 different from map value 128, using slicer value\n",
      "  warnings.warn(\n",
      "/pscratch/sd/r/rhlozek/ObsStrat/code/meanz_uniformity/meanz_modules.py:367: RankWarning: Polyfit may be poorly conditioned\n",
      "  clbias, meanz_use = compute_Clbias(meanzinterp,stdz)\n"
     ]
    },
    {
     "name": "stdout",
     "output_type": "stream",
     "text": [
      "Healpix slicer using NSIDE=64, approximate resolution 54.967783 arcminutes\n"
     ]
    },
    {
     "name": "stderr",
     "output_type": "stream",
     "text": [
      "/opt/lsst/software/stack/conda/miniconda3-py38_4.9.2/envs/lsst-scipipe-7.0.1/lib/python3.11/site-packages/rubin_sim/maf/maps/dust_map.py:44: UserWarning: Slicer value of nside 64 different from map value 128, using slicer value\n",
      "  warnings.warn(\n",
      "/pscratch/sd/r/rhlozek/ObsStrat/code/meanz_uniformity/meanz_modules.py:367: RankWarning: Polyfit may be poorly conditioned\n",
      "  clbias, meanz_use = compute_Clbias(meanzinterp,stdz)\n"
     ]
    },
    {
     "name": "stdout",
     "output_type": "stream",
     "text": [
      "Healpix slicer using NSIDE=64, approximate resolution 54.967783 arcminutes\n"
     ]
    },
    {
     "name": "stderr",
     "output_type": "stream",
     "text": [
      "/opt/lsst/software/stack/conda/miniconda3-py38_4.9.2/envs/lsst-scipipe-7.0.1/lib/python3.11/site-packages/rubin_sim/maf/maps/dust_map.py:44: UserWarning: Slicer value of nside 64 different from map value 128, using slicer value\n",
      "  warnings.warn(\n",
      "/pscratch/sd/r/rhlozek/ObsStrat/code/meanz_uniformity/meanz_modules.py:367: RankWarning: Polyfit may be poorly conditioned\n",
      "  clbias, meanz_use = compute_Clbias(meanzinterp,stdz)\n"
     ]
    },
    {
     "name": "stdout",
     "output_type": "stream",
     "text": [
      "Healpix slicer using NSIDE=64, approximate resolution 54.967783 arcminutes\n"
     ]
    },
    {
     "name": "stderr",
     "output_type": "stream",
     "text": [
      "/opt/lsst/software/stack/conda/miniconda3-py38_4.9.2/envs/lsst-scipipe-7.0.1/lib/python3.11/site-packages/rubin_sim/maf/maps/dust_map.py:44: UserWarning: Slicer value of nside 64 different from map value 128, using slicer value\n",
      "  warnings.warn(\n",
      "/pscratch/sd/r/rhlozek/ObsStrat/code/meanz_uniformity/meanz_modules.py:367: RankWarning: Polyfit may be poorly conditioned\n",
      "  clbias, meanz_use = compute_Clbias(meanzinterp,stdz)\n"
     ]
    },
    {
     "name": "stdout",
     "output_type": "stream",
     "text": [
      "Healpix slicer using NSIDE=64, approximate resolution 54.967783 arcminutes\n"
     ]
    },
    {
     "name": "stderr",
     "output_type": "stream",
     "text": [
      "/opt/lsst/software/stack/conda/miniconda3-py38_4.9.2/envs/lsst-scipipe-7.0.1/lib/python3.11/site-packages/rubin_sim/maf/maps/dust_map.py:44: UserWarning: Slicer value of nside 64 different from map value 128, using slicer value\n",
      "  warnings.warn(\n",
      "/pscratch/sd/r/rhlozek/ObsStrat/code/meanz_uniformity/meanz_modules.py:367: RankWarning: Polyfit may be poorly conditioned\n",
      "  clbias, meanz_use = compute_Clbias(meanzinterp,stdz)\n"
     ]
    },
    {
     "name": "stdout",
     "output_type": "stream",
     "text": [
      "Healpix slicer using NSIDE=64, approximate resolution 54.967783 arcminutes\n"
     ]
    },
    {
     "name": "stderr",
     "output_type": "stream",
     "text": [
      "/opt/lsst/software/stack/conda/miniconda3-py38_4.9.2/envs/lsst-scipipe-7.0.1/lib/python3.11/site-packages/rubin_sim/maf/maps/dust_map.py:44: UserWarning: Slicer value of nside 64 different from map value 128, using slicer value\n",
      "  warnings.warn(\n",
      "/pscratch/sd/r/rhlozek/ObsStrat/code/meanz_uniformity/meanz_modules.py:367: RankWarning: Polyfit may be poorly conditioned\n",
      "  clbias, meanz_use = compute_Clbias(meanzinterp,stdz)\n"
     ]
    },
    {
     "name": "stdout",
     "output_type": "stream",
     "text": [
      "Healpix slicer using NSIDE=64, approximate resolution 54.967783 arcminutes\n"
     ]
    },
    {
     "name": "stderr",
     "output_type": "stream",
     "text": [
      "/opt/lsst/software/stack/conda/miniconda3-py38_4.9.2/envs/lsst-scipipe-7.0.1/lib/python3.11/site-packages/rubin_sim/maf/maps/dust_map.py:44: UserWarning: Slicer value of nside 64 different from map value 128, using slicer value\n",
      "  warnings.warn(\n",
      "/pscratch/sd/r/rhlozek/ObsStrat/code/meanz_uniformity/meanz_modules.py:367: RankWarning: Polyfit may be poorly conditioned\n",
      "  clbias, meanz_use = compute_Clbias(meanzinterp,stdz)\n"
     ]
    },
    {
     "name": "stdout",
     "output_type": "stream",
     "text": [
      "Healpix slicer using NSIDE=64, approximate resolution 54.967783 arcminutes\n"
     ]
    },
    {
     "name": "stderr",
     "output_type": "stream",
     "text": [
      "/opt/lsst/software/stack/conda/miniconda3-py38_4.9.2/envs/lsst-scipipe-7.0.1/lib/python3.11/site-packages/rubin_sim/maf/maps/dust_map.py:44: UserWarning: Slicer value of nside 64 different from map value 128, using slicer value\n",
      "  warnings.warn(\n",
      "/pscratch/sd/r/rhlozek/ObsStrat/code/meanz_uniformity/meanz_modules.py:367: RankWarning: Polyfit may be poorly conditioned\n",
      "  clbias, meanz_use = compute_Clbias(meanzinterp,stdz)\n"
     ]
    },
    {
     "name": "stdout",
     "output_type": "stream",
     "text": [
      "Healpix slicer using NSIDE=64, approximate resolution 54.967783 arcminutes\n"
     ]
    },
    {
     "name": "stderr",
     "output_type": "stream",
     "text": [
      "/opt/lsst/software/stack/conda/miniconda3-py38_4.9.2/envs/lsst-scipipe-7.0.1/lib/python3.11/site-packages/rubin_sim/maf/maps/dust_map.py:44: UserWarning: Slicer value of nside 64 different from map value 128, using slicer value\n",
      "  warnings.warn(\n",
      "/pscratch/sd/r/rhlozek/ObsStrat/code/meanz_uniformity/meanz_modules.py:367: RankWarning: Polyfit may be poorly conditioned\n",
      "  clbias, meanz_use = compute_Clbias(meanzinterp,stdz)\n"
     ]
    },
    {
     "name": "stdout",
     "output_type": "stream",
     "text": [
      "Healpix slicer using NSIDE=64, approximate resolution 54.967783 arcminutes\n"
     ]
    },
    {
     "name": "stderr",
     "output_type": "stream",
     "text": [
      "/opt/lsst/software/stack/conda/miniconda3-py38_4.9.2/envs/lsst-scipipe-7.0.1/lib/python3.11/site-packages/rubin_sim/maf/maps/dust_map.py:44: UserWarning: Slicer value of nside 64 different from map value 128, using slicer value\n",
      "  warnings.warn(\n",
      "/pscratch/sd/r/rhlozek/ObsStrat/code/meanz_uniformity/meanz_modules.py:367: RankWarning: Polyfit may be poorly conditioned\n",
      "  clbias, meanz_use = compute_Clbias(meanzinterp,stdz)\n"
     ]
    },
    {
     "name": "stdout",
     "output_type": "stream",
     "text": [
      "Healpix slicer using NSIDE=64, approximate resolution 54.967783 arcminutes\n"
     ]
    },
    {
     "name": "stderr",
     "output_type": "stream",
     "text": [
      "/opt/lsst/software/stack/conda/miniconda3-py38_4.9.2/envs/lsst-scipipe-7.0.1/lib/python3.11/site-packages/rubin_sim/maf/maps/dust_map.py:44: UserWarning: Slicer value of nside 64 different from map value 128, using slicer value\n",
      "  warnings.warn(\n",
      "/pscratch/sd/r/rhlozek/ObsStrat/code/meanz_uniformity/meanz_modules.py:367: RankWarning: Polyfit may be poorly conditioned\n",
      "  clbias, meanz_use = compute_Clbias(meanzinterp,stdz)\n"
     ]
    },
    {
     "name": "stdout",
     "output_type": "stream",
     "text": [
      "Healpix slicer using NSIDE=64, approximate resolution 54.967783 arcminutes\n"
     ]
    },
    {
     "name": "stderr",
     "output_type": "stream",
     "text": [
      "/opt/lsst/software/stack/conda/miniconda3-py38_4.9.2/envs/lsst-scipipe-7.0.1/lib/python3.11/site-packages/rubin_sim/maf/maps/dust_map.py:44: UserWarning: Slicer value of nside 64 different from map value 128, using slicer value\n",
      "  warnings.warn(\n",
      "/pscratch/sd/r/rhlozek/ObsStrat/code/meanz_uniformity/meanz_modules.py:367: RankWarning: Polyfit may be poorly conditioned\n",
      "  clbias, meanz_use = compute_Clbias(meanzinterp,stdz)\n"
     ]
    },
    {
     "name": "stdout",
     "output_type": "stream",
     "text": [
      "Healpix slicer using NSIDE=64, approximate resolution 54.967783 arcminutes\n"
     ]
    },
    {
     "name": "stderr",
     "output_type": "stream",
     "text": [
      "/opt/lsst/software/stack/conda/miniconda3-py38_4.9.2/envs/lsst-scipipe-7.0.1/lib/python3.11/site-packages/rubin_sim/maf/maps/dust_map.py:44: UserWarning: Slicer value of nside 64 different from map value 128, using slicer value\n",
      "  warnings.warn(\n",
      "/pscratch/sd/r/rhlozek/ObsStrat/code/meanz_uniformity/meanz_modules.py:367: RankWarning: Polyfit may be poorly conditioned\n",
      "  clbias, meanz_use = compute_Clbias(meanzinterp,stdz)\n"
     ]
    },
    {
     "name": "stdout",
     "output_type": "stream",
     "text": [
      "Healpix slicer using NSIDE=64, approximate resolution 54.967783 arcminutes\n"
     ]
    },
    {
     "name": "stderr",
     "output_type": "stream",
     "text": [
      "/opt/lsst/software/stack/conda/miniconda3-py38_4.9.2/envs/lsst-scipipe-7.0.1/lib/python3.11/site-packages/rubin_sim/maf/maps/dust_map.py:44: UserWarning: Slicer value of nside 64 different from map value 128, using slicer value\n",
      "  warnings.warn(\n",
      "/pscratch/sd/r/rhlozek/ObsStrat/code/meanz_uniformity/meanz_modules.py:367: RankWarning: Polyfit may be poorly conditioned\n",
      "  clbias, meanz_use = compute_Clbias(meanzinterp,stdz)\n"
     ]
    },
    {
     "name": "stdout",
     "output_type": "stream",
     "text": [
      "Healpix slicer using NSIDE=64, approximate resolution 54.967783 arcminutes\n"
     ]
    },
    {
     "name": "stderr",
     "output_type": "stream",
     "text": [
      "/opt/lsst/software/stack/conda/miniconda3-py38_4.9.2/envs/lsst-scipipe-7.0.1/lib/python3.11/site-packages/rubin_sim/maf/maps/dust_map.py:44: UserWarning: Slicer value of nside 64 different from map value 128, using slicer value\n",
      "  warnings.warn(\n",
      "/pscratch/sd/r/rhlozek/ObsStrat/code/meanz_uniformity/meanz_modules.py:367: RankWarning: Polyfit may be poorly conditioned\n",
      "  clbias, meanz_use = compute_Clbias(meanzinterp,stdz)\n"
     ]
    },
    {
     "name": "stdout",
     "output_type": "stream",
     "text": [
      "Healpix slicer using NSIDE=64, approximate resolution 54.967783 arcminutes\n"
     ]
    },
    {
     "name": "stderr",
     "output_type": "stream",
     "text": [
      "/opt/lsst/software/stack/conda/miniconda3-py38_4.9.2/envs/lsst-scipipe-7.0.1/lib/python3.11/site-packages/rubin_sim/maf/maps/dust_map.py:44: UserWarning: Slicer value of nside 64 different from map value 128, using slicer value\n",
      "  warnings.warn(\n",
      "/pscratch/sd/r/rhlozek/ObsStrat/code/meanz_uniformity/meanz_modules.py:367: RankWarning: Polyfit may be poorly conditioned\n",
      "  clbias, meanz_use = compute_Clbias(meanzinterp,stdz)\n"
     ]
    },
    {
     "name": "stdout",
     "output_type": "stream",
     "text": [
      "Healpix slicer using NSIDE=64, approximate resolution 54.967783 arcminutes\n"
     ]
    },
    {
     "name": "stderr",
     "output_type": "stream",
     "text": [
      "/opt/lsst/software/stack/conda/miniconda3-py38_4.9.2/envs/lsst-scipipe-7.0.1/lib/python3.11/site-packages/rubin_sim/maf/maps/dust_map.py:44: UserWarning: Slicer value of nside 64 different from map value 128, using slicer value\n",
      "  warnings.warn(\n",
      "/pscratch/sd/r/rhlozek/ObsStrat/code/meanz_uniformity/meanz_modules.py:367: RankWarning: Polyfit may be poorly conditioned\n",
      "  clbias, meanz_use = compute_Clbias(meanzinterp,stdz)\n"
     ]
    },
    {
     "name": "stdout",
     "output_type": "stream",
     "text": [
      "Healpix slicer using NSIDE=64, approximate resolution 54.967783 arcminutes\n"
     ]
    },
    {
     "name": "stderr",
     "output_type": "stream",
     "text": [
      "/opt/lsst/software/stack/conda/miniconda3-py38_4.9.2/envs/lsst-scipipe-7.0.1/lib/python3.11/site-packages/rubin_sim/maf/maps/dust_map.py:44: UserWarning: Slicer value of nside 64 different from map value 128, using slicer value\n",
      "  warnings.warn(\n",
      "/pscratch/sd/r/rhlozek/ObsStrat/code/meanz_uniformity/meanz_modules.py:367: RankWarning: Polyfit may be poorly conditioned\n",
      "  clbias, meanz_use = compute_Clbias(meanzinterp,stdz)\n"
     ]
    },
    {
     "name": "stdout",
     "output_type": "stream",
     "text": [
      "Healpix slicer using NSIDE=64, approximate resolution 54.967783 arcminutes\n"
     ]
    },
    {
     "name": "stderr",
     "output_type": "stream",
     "text": [
      "/opt/lsst/software/stack/conda/miniconda3-py38_4.9.2/envs/lsst-scipipe-7.0.1/lib/python3.11/site-packages/rubin_sim/maf/maps/dust_map.py:44: UserWarning: Slicer value of nside 64 different from map value 128, using slicer value\n",
      "  warnings.warn(\n",
      "/pscratch/sd/r/rhlozek/ObsStrat/code/meanz_uniformity/meanz_modules.py:367: RankWarning: Polyfit may be poorly conditioned\n",
      "  clbias, meanz_use = compute_Clbias(meanzinterp,stdz)\n"
     ]
    },
    {
     "name": "stdout",
     "output_type": "stream",
     "text": [
      "Healpix slicer using NSIDE=64, approximate resolution 54.967783 arcminutes\n"
     ]
    },
    {
     "name": "stderr",
     "output_type": "stream",
     "text": [
      "/opt/lsst/software/stack/conda/miniconda3-py38_4.9.2/envs/lsst-scipipe-7.0.1/lib/python3.11/site-packages/rubin_sim/maf/maps/dust_map.py:44: UserWarning: Slicer value of nside 64 different from map value 128, using slicer value\n",
      "  warnings.warn(\n",
      "/pscratch/sd/r/rhlozek/ObsStrat/code/meanz_uniformity/meanz_modules.py:367: RankWarning: Polyfit may be poorly conditioned\n",
      "  clbias, meanz_use = compute_Clbias(meanzinterp,stdz)\n"
     ]
    },
    {
     "name": "stdout",
     "output_type": "stream",
     "text": [
      "Healpix slicer using NSIDE=64, approximate resolution 54.967783 arcminutes\n"
     ]
    },
    {
     "name": "stderr",
     "output_type": "stream",
     "text": [
      "/opt/lsst/software/stack/conda/miniconda3-py38_4.9.2/envs/lsst-scipipe-7.0.1/lib/python3.11/site-packages/rubin_sim/maf/maps/dust_map.py:44: UserWarning: Slicer value of nside 64 different from map value 128, using slicer value\n",
      "  warnings.warn(\n",
      "/pscratch/sd/r/rhlozek/ObsStrat/code/meanz_uniformity/meanz_modules.py:367: RankWarning: Polyfit may be poorly conditioned\n",
      "  clbias, meanz_use = compute_Clbias(meanzinterp,stdz)\n"
     ]
    },
    {
     "data": {
      "text/html": [
       "<div>\n",
       "<style scoped>\n",
       "    .dataframe tbody tr th:only-of-type {\n",
       "        vertical-align: middle;\n",
       "    }\n",
       "\n",
       "    .dataframe tbody tr th {\n",
       "        vertical-align: top;\n",
       "    }\n",
       "\n",
       "    .dataframe thead th {\n",
       "        text-align: right;\n",
       "    }\n",
       "</style>\n",
       "<table border=\"1\" class=\"dataframe\">\n",
       "  <thead>\n",
       "    <tr style=\"text-align: right;\">\n",
       "      <th></th>\n",
       "      <th>Strategy</th>\n",
       "      <th>Year</th>\n",
       "      <th>Median i-band depth</th>\n",
       "      <th>Mean i-band depth</th>\n",
       "      <th>Std i-band depth</th>\n",
       "      <th>IQR i-band depth</th>\n",
       "      <th>Mean z</th>\n",
       "      <th>Std z</th>\n",
       "      <th>Clbias</th>\n",
       "      <th>Used meanz</th>\n",
       "    </tr>\n",
       "  </thead>\n",
       "  <tbody>\n",
       "    <tr>\n",
       "      <th>0</th>\n",
       "      <td>baseline_v3.3_10yrs</td>\n",
       "      <td>1</td>\n",
       "      <td>25.252161</td>\n",
       "      <td>25.233240</td>\n",
       "      <td>0.184610</td>\n",
       "      <td>0.235948</td>\n",
       "      <td>[0.8678199246851244]</td>\n",
       "      <td>[0.0010304886654968956]</td>\n",
       "      <td>[0.0004160848726178776]</td>\n",
       "      <td>[0.8678199246851244]</td>\n",
       "    </tr>\n",
       "    <tr>\n",
       "      <th>1</th>\n",
       "      <td>noroll_v3.3_10yrs</td>\n",
       "      <td>1</td>\n",
       "      <td>25.252161</td>\n",
       "      <td>25.233240</td>\n",
       "      <td>0.184610</td>\n",
       "      <td>0.235948</td>\n",
       "      <td>[0.8678199246851244]</td>\n",
       "      <td>[0.0010304886654968956]</td>\n",
       "      <td>[0.0004160848726178776]</td>\n",
       "      <td>[0.8678199246851244]</td>\n",
       "    </tr>\n",
       "    <tr>\n",
       "      <th>2</th>\n",
       "      <td>roll_mid1_const_season4v3.3_10yrs</td>\n",
       "      <td>1</td>\n",
       "      <td>25.252161</td>\n",
       "      <td>25.233240</td>\n",
       "      <td>0.184610</td>\n",
       "      <td>0.235948</td>\n",
       "      <td>[0.8678199246851244]</td>\n",
       "      <td>[0.0010304886654968956]</td>\n",
       "      <td>[0.0004160848726178776]</td>\n",
       "      <td>[0.8678199246851244]</td>\n",
       "    </tr>\n",
       "    <tr>\n",
       "      <th>3</th>\n",
       "      <td>roll_mid2_const_season2v3.3_10yrs</td>\n",
       "      <td>1</td>\n",
       "      <td>25.252161</td>\n",
       "      <td>25.233240</td>\n",
       "      <td>0.184610</td>\n",
       "      <td>0.235948</td>\n",
       "      <td>[0.8678199246851244]</td>\n",
       "      <td>[0.0010304886654968956]</td>\n",
       "      <td>[0.0004160848726178776]</td>\n",
       "      <td>[0.8678199246851244]</td>\n",
       "    </tr>\n",
       "    <tr>\n",
       "      <th>4</th>\n",
       "      <td>baseline_v3.3_10yrs</td>\n",
       "      <td>2</td>\n",
       "      <td>25.635288</td>\n",
       "      <td>25.598740</td>\n",
       "      <td>0.197662</td>\n",
       "      <td>0.260341</td>\n",
       "      <td>[0.8667776346463996]</td>\n",
       "      <td>[0.0008973211461710728]</td>\n",
       "      <td>[0.00036138282180226783]</td>\n",
       "      <td>[0.8667776346463996]</td>\n",
       "    </tr>\n",
       "    <tr>\n",
       "      <th>5</th>\n",
       "      <td>noroll_v3.3_10yrs</td>\n",
       "      <td>2</td>\n",
       "      <td>25.626280</td>\n",
       "      <td>25.601309</td>\n",
       "      <td>0.170386</td>\n",
       "      <td>0.215176</td>\n",
       "      <td>[0.866753662748099]</td>\n",
       "      <td>[0.0007694099758249553]</td>\n",
       "      <td>[0.0003098501153387813]</td>\n",
       "      <td>[0.866753662748099]</td>\n",
       "    </tr>\n",
       "    <tr>\n",
       "      <th>6</th>\n",
       "      <td>roll_mid1_const_season4v3.3_10yrs</td>\n",
       "      <td>2</td>\n",
       "      <td>25.635288</td>\n",
       "      <td>25.598740</td>\n",
       "      <td>0.197662</td>\n",
       "      <td>0.260341</td>\n",
       "      <td>[0.8667776346463996]</td>\n",
       "      <td>[0.0008973211461710728]</td>\n",
       "      <td>[0.00036138282180226783]</td>\n",
       "      <td>[0.8667776346463996]</td>\n",
       "    </tr>\n",
       "    <tr>\n",
       "      <th>7</th>\n",
       "      <td>roll_mid2_const_season2v3.3_10yrs</td>\n",
       "      <td>2</td>\n",
       "      <td>25.635288</td>\n",
       "      <td>25.598740</td>\n",
       "      <td>0.197662</td>\n",
       "      <td>0.260341</td>\n",
       "      <td>[0.8667776346463996]</td>\n",
       "      <td>[0.0008973211461710728]</td>\n",
       "      <td>[0.00036138282180226783]</td>\n",
       "      <td>[0.8667776346463996]</td>\n",
       "    </tr>\n",
       "    <tr>\n",
       "      <th>8</th>\n",
       "      <td>baseline_v3.3_10yrs</td>\n",
       "      <td>3</td>\n",
       "      <td>25.843019</td>\n",
       "      <td>25.824180</td>\n",
       "      <td>0.217975</td>\n",
       "      <td>0.277805</td>\n",
       "      <td>[0.8652816838084864]</td>\n",
       "      <td>[0.000663454701339897]</td>\n",
       "      <td>[0.0002662088775407925]</td>\n",
       "      <td>[0.8652816838084864]</td>\n",
       "    </tr>\n",
       "    <tr>\n",
       "      <th>9</th>\n",
       "      <td>noroll_v3.3_10yrs</td>\n",
       "      <td>3</td>\n",
       "      <td>25.866495</td>\n",
       "      <td>25.839571</td>\n",
       "      <td>0.168145</td>\n",
       "      <td>0.213265</td>\n",
       "      <td>[0.8651836963008128]</td>\n",
       "      <td>[0.0004953097370863888]</td>\n",
       "      <td>[0.00019869305451302092]</td>\n",
       "      <td>[0.8651836963008128]</td>\n",
       "    </tr>\n",
       "    <tr>\n",
       "      <th>10</th>\n",
       "      <td>roll_mid1_const_season4v3.3_10yrs</td>\n",
       "      <td>3</td>\n",
       "      <td>25.843019</td>\n",
       "      <td>25.824180</td>\n",
       "      <td>0.217975</td>\n",
       "      <td>0.277805</td>\n",
       "      <td>[0.8652816838084864]</td>\n",
       "      <td>[0.000663454701339897]</td>\n",
       "      <td>[0.0002662088775407925]</td>\n",
       "      <td>[0.8652816838084864]</td>\n",
       "    </tr>\n",
       "    <tr>\n",
       "      <th>11</th>\n",
       "      <td>roll_mid2_const_season2v3.3_10yrs</td>\n",
       "      <td>3</td>\n",
       "      <td>25.843019</td>\n",
       "      <td>25.824180</td>\n",
       "      <td>0.217975</td>\n",
       "      <td>0.277805</td>\n",
       "      <td>[0.8652816838084864]</td>\n",
       "      <td>[0.000663454701339897]</td>\n",
       "      <td>[0.0002662088775407925]</td>\n",
       "      <td>[0.8652816838084864]</td>\n",
       "    </tr>\n",
       "    <tr>\n",
       "      <th>12</th>\n",
       "      <td>baseline_v3.3_10yrs</td>\n",
       "      <td>4</td>\n",
       "      <td>25.994479</td>\n",
       "      <td>25.965053</td>\n",
       "      <td>0.172323</td>\n",
       "      <td>0.220420</td>\n",
       "      <td>[0.8645289340476741]</td>\n",
       "      <td>[0.0003947880755456919]</td>\n",
       "      <td>[0.00015811206921540646]</td>\n",
       "      <td>[0.8645289340476741]</td>\n",
       "    </tr>\n",
       "    <tr>\n",
       "      <th>13</th>\n",
       "      <td>noroll_v3.3_10yrs</td>\n",
       "      <td>4</td>\n",
       "      <td>26.001999</td>\n",
       "      <td>25.975704</td>\n",
       "      <td>0.164686</td>\n",
       "      <td>0.209550</td>\n",
       "      <td>[0.8644847268114866]</td>\n",
       "      <td>[0.00037001142896634075]</td>\n",
       "      <td>[0.00014817281438246144]</td>\n",
       "      <td>[0.8644847268114866]</td>\n",
       "    </tr>\n",
       "    <tr>\n",
       "      <th>14</th>\n",
       "      <td>roll_mid1_const_season4v3.3_10yrs</td>\n",
       "      <td>4</td>\n",
       "      <td>25.994479</td>\n",
       "      <td>25.965053</td>\n",
       "      <td>0.172323</td>\n",
       "      <td>0.220420</td>\n",
       "      <td>[0.8645289340476741]</td>\n",
       "      <td>[0.0003947880755456919]</td>\n",
       "      <td>[0.00015811206921540646]</td>\n",
       "      <td>[0.8645289340476741]</td>\n",
       "    </tr>\n",
       "    <tr>\n",
       "      <th>15</th>\n",
       "      <td>roll_mid2_const_season2v3.3_10yrs</td>\n",
       "      <td>4</td>\n",
       "      <td>25.998938</td>\n",
       "      <td>25.971084</td>\n",
       "      <td>0.168606</td>\n",
       "      <td>0.208984</td>\n",
       "      <td>[0.8645039011094724]</td>\n",
       "      <td>[0.00038205144609735443]</td>\n",
       "      <td>[0.0001530015699576515]</td>\n",
       "      <td>[0.8645039011094724]</td>\n",
       "    </tr>\n",
       "    <tr>\n",
       "      <th>16</th>\n",
       "      <td>baseline_v3.3_10yrs</td>\n",
       "      <td>5</td>\n",
       "      <td>26.073056</td>\n",
       "      <td>26.048741</td>\n",
       "      <td>0.179762</td>\n",
       "      <td>0.229556</td>\n",
       "      <td>[0.8642207763025931]</td>\n",
       "      <td>[0.0003564341794137459]</td>\n",
       "      <td>[0.0001426423389966548]</td>\n",
       "      <td>[0.8642207763025931]</td>\n",
       "    </tr>\n",
       "    <tr>\n",
       "      <th>17</th>\n",
       "      <td>noroll_v3.3_10yrs</td>\n",
       "      <td>5</td>\n",
       "      <td>26.095760</td>\n",
       "      <td>26.066504</td>\n",
       "      <td>0.162930</td>\n",
       "      <td>0.207229</td>\n",
       "      <td>[0.864161338638087]</td>\n",
       "      <td>[0.00031337565459572736]</td>\n",
       "      <td>[0.00012539214619190274]</td>\n",
       "      <td>[0.864161338638087]</td>\n",
       "    </tr>\n",
       "    <tr>\n",
       "      <th>18</th>\n",
       "      <td>roll_mid1_const_season4v3.3_10yrs</td>\n",
       "      <td>5</td>\n",
       "      <td>26.073056</td>\n",
       "      <td>26.048741</td>\n",
       "      <td>0.179762</td>\n",
       "      <td>0.229556</td>\n",
       "      <td>[0.8642207763025931]</td>\n",
       "      <td>[0.0003564341794137459]</td>\n",
       "      <td>[0.0001426423389966548]</td>\n",
       "      <td>[0.8642207763025931]</td>\n",
       "    </tr>\n",
       "    <tr>\n",
       "      <th>19</th>\n",
       "      <td>roll_mid2_const_season2v3.3_10yrs</td>\n",
       "      <td>5</td>\n",
       "      <td>26.079259</td>\n",
       "      <td>26.051510</td>\n",
       "      <td>0.170167</td>\n",
       "      <td>0.214207</td>\n",
       "      <td>[0.8642115114009452]</td>\n",
       "      <td>[0.00033583244739582063]</td>\n",
       "      <td>[0.00013439458885690614]</td>\n",
       "      <td>[0.8642115114009452]</td>\n",
       "    </tr>\n",
       "    <tr>\n",
       "      <th>20</th>\n",
       "      <td>baseline_v3.3_10yrs</td>\n",
       "      <td>6</td>\n",
       "      <td>26.163027</td>\n",
       "      <td>26.128642</td>\n",
       "      <td>0.164549</td>\n",
       "      <td>0.209568</td>\n",
       "      <td>[0.8639508202828555]</td>\n",
       "      <td>[0.0002818496879770229]</td>\n",
       "      <td>[0.0001127186645364444]</td>\n",
       "      <td>[0.8639508202828555]</td>\n",
       "    </tr>\n",
       "    <tr>\n",
       "      <th>21</th>\n",
       "      <td>noroll_v3.3_10yrs</td>\n",
       "      <td>6</td>\n",
       "      <td>26.176187</td>\n",
       "      <td>26.145911</td>\n",
       "      <td>0.160461</td>\n",
       "      <td>0.205025</td>\n",
       "      <td>[0.8638914733286066]</td>\n",
       "      <td>[0.00026532392498342425]</td>\n",
       "      <td>[0.00010609398008740377]</td>\n",
       "      <td>[0.8638914733286066]</td>\n",
       "    </tr>\n",
       "    <tr>\n",
       "      <th>22</th>\n",
       "      <td>roll_mid1_const_season4v3.3_10yrs</td>\n",
       "      <td>6</td>\n",
       "      <td>26.163752</td>\n",
       "      <td>26.131106</td>\n",
       "      <td>0.163676</td>\n",
       "      <td>0.206228</td>\n",
       "      <td>[0.8639423530655739]</td>\n",
       "      <td>[0.00027896827753217605]</td>\n",
       "      <td>[0.00011156397352053349]</td>\n",
       "      <td>[0.8639423530655739]</td>\n",
       "    </tr>\n",
       "    <tr>\n",
       "      <th>23</th>\n",
       "      <td>roll_mid2_const_season2v3.3_10yrs</td>\n",
       "      <td>6</td>\n",
       "      <td>26.150330</td>\n",
       "      <td>26.125805</td>\n",
       "      <td>0.172830</td>\n",
       "      <td>0.216421</td>\n",
       "      <td>[0.8639605703849325]</td>\n",
       "      <td>[0.00029771831275053373]</td>\n",
       "      <td>[0.00011906780045156003]</td>\n",
       "      <td>[0.8639605703849325]</td>\n",
       "    </tr>\n",
       "    <tr>\n",
       "      <th>24</th>\n",
       "      <td>baseline_v3.3_10yrs</td>\n",
       "      <td>7</td>\n",
       "      <td>26.220376</td>\n",
       "      <td>26.191188</td>\n",
       "      <td>0.169301</td>\n",
       "      <td>0.216515</td>\n",
       "      <td>[0.8637358758524596]</td>\n",
       "      <td>[0.0002535988094243396]</td>\n",
       "      <td>[0.00010136636221745639]</td>\n",
       "      <td>[0.8637358758524596]</td>\n",
       "    </tr>\n",
       "    <tr>\n",
       "      <th>25</th>\n",
       "      <td>noroll_v3.3_10yrs</td>\n",
       "      <td>7</td>\n",
       "      <td>26.244674</td>\n",
       "      <td>26.215919</td>\n",
       "      <td>0.158385</td>\n",
       "      <td>0.200181</td>\n",
       "      <td>[0.8636707753020311]</td>\n",
       "      <td>[0.00022693594494820743]</td>\n",
       "      <td>[9.069425504280537e-05]</td>\n",
       "      <td>[0.8636707753020311]</td>\n",
       "    </tr>\n",
       "    <tr>\n",
       "      <th>26</th>\n",
       "      <td>roll_mid1_const_season4v3.3_10yrs</td>\n",
       "      <td>7</td>\n",
       "      <td>26.229882</td>\n",
       "      <td>26.197229</td>\n",
       "      <td>0.164338</td>\n",
       "      <td>0.203573</td>\n",
       "      <td>[0.8637151181669007]</td>\n",
       "      <td>[0.00024275350580692327]</td>\n",
       "      <td>[9.702637141085859e-05]</td>\n",
       "      <td>[0.8637151181669007]</td>\n",
       "    </tr>\n",
       "    <tr>\n",
       "      <th>27</th>\n",
       "      <td>roll_mid2_const_season2v3.3_10yrs</td>\n",
       "      <td>7</td>\n",
       "      <td>26.225658</td>\n",
       "      <td>26.197432</td>\n",
       "      <td>0.159537</td>\n",
       "      <td>0.194986</td>\n",
       "      <td>[0.86371441971293]</td>\n",
       "      <td>[0.0002355491125763722]</td>\n",
       "      <td>[9.414667768785859e-05]</td>\n",
       "      <td>[0.86371441971293]</td>\n",
       "    </tr>\n",
       "    <tr>\n",
       "      <th>28</th>\n",
       "      <td>baseline_v3.3_10yrs</td>\n",
       "      <td>8</td>\n",
       "      <td>26.284233</td>\n",
       "      <td>26.248194</td>\n",
       "      <td>0.164319</td>\n",
       "      <td>0.209159</td>\n",
       "      <td>[0.8636001814523865]</td>\n",
       "      <td>[0.00022383886713532556]</td>\n",
       "      <td>[8.94408458351408e-05]</td>\n",
       "      <td>[0.8636001814523865]</td>\n",
       "    </tr>\n",
       "    <tr>\n",
       "      <th>29</th>\n",
       "      <td>noroll_v3.3_10yrs</td>\n",
       "      <td>8</td>\n",
       "      <td>26.300066</td>\n",
       "      <td>26.270944</td>\n",
       "      <td>0.161353</td>\n",
       "      <td>0.205426</td>\n",
       "      <td>[0.8635504211345444]</td>\n",
       "      <td>[0.0002117694600610578]</td>\n",
       "      <td>[8.460773923291133e-05]</td>\n",
       "      <td>[0.8635504211345444]</td>\n",
       "    </tr>\n",
       "    <tr>\n",
       "      <th>30</th>\n",
       "      <td>roll_mid1_const_season4v3.3_10yrs</td>\n",
       "      <td>8</td>\n",
       "      <td>26.276764</td>\n",
       "      <td>26.249561</td>\n",
       "      <td>0.169345</td>\n",
       "      <td>0.214077</td>\n",
       "      <td>[0.863597192079595]</td>\n",
       "      <td>[0.0002301784455612031]</td>\n",
       "      <td>[9.197331268915659e-05]</td>\n",
       "      <td>[0.863597192079595]</td>\n",
       "    </tr>\n",
       "    <tr>\n",
       "      <th>31</th>\n",
       "      <td>roll_mid2_const_season2v3.3_10yrs</td>\n",
       "      <td>8</td>\n",
       "      <td>26.280701</td>\n",
       "      <td>26.251996</td>\n",
       "      <td>0.160191</td>\n",
       "      <td>0.197616</td>\n",
       "      <td>[0.8635918661842346]</td>\n",
       "      <td>[0.00021688298294685073]</td>\n",
       "      <td>[8.665964654131715e-05]</td>\n",
       "      <td>[0.8635918661842346]</td>\n",
       "    </tr>\n",
       "    <tr>\n",
       "      <th>32</th>\n",
       "      <td>baseline_v3.3_10yrs</td>\n",
       "      <td>9</td>\n",
       "      <td>26.337261</td>\n",
       "      <td>26.305354</td>\n",
       "      <td>0.167004</td>\n",
       "      <td>0.218167</td>\n",
       "      <td>[0.8634784706122589]</td>\n",
       "      <td>[0.00020717016354727502]</td>\n",
       "      <td>[8.275541272079568e-05]</td>\n",
       "      <td>[0.8634784706122589]</td>\n",
       "    </tr>\n",
       "    <tr>\n",
       "      <th>33</th>\n",
       "      <td>noroll_v3.3_10yrs</td>\n",
       "      <td>9</td>\n",
       "      <td>26.361844</td>\n",
       "      <td>26.331324</td>\n",
       "      <td>0.158527</td>\n",
       "      <td>0.201136</td>\n",
       "      <td>[0.8634377354830751]</td>\n",
       "      <td>[0.00019019671053507612]</td>\n",
       "      <td>[7.596757920058357e-05]</td>\n",
       "      <td>[0.8634377354830751]</td>\n",
       "    </tr>\n",
       "    <tr>\n",
       "      <th>34</th>\n",
       "      <td>roll_mid1_const_season4v3.3_10yrs</td>\n",
       "      <td>9</td>\n",
       "      <td>26.337387</td>\n",
       "      <td>26.310529</td>\n",
       "      <td>0.159822</td>\n",
       "      <td>0.200847</td>\n",
       "      <td>[0.8634703533456679]</td>\n",
       "      <td>[0.00019696345492957977]</td>\n",
       "      <td>[7.867669408809568e-05]</td>\n",
       "      <td>[0.8634703533456679]</td>\n",
       "    </tr>\n",
       "    <tr>\n",
       "      <th>35</th>\n",
       "      <td>roll_mid2_const_season2v3.3_10yrs</td>\n",
       "      <td>9</td>\n",
       "      <td>26.346489</td>\n",
       "      <td>26.315145</td>\n",
       "      <td>0.157351</td>\n",
       "      <td>0.196043</td>\n",
       "      <td>[0.8634631124572683]</td>\n",
       "      <td>[0.00019277890931953108]</td>\n",
       "      <td>[7.700380088552651e-05]</td>\n",
       "      <td>[0.8634631124572683]</td>\n",
       "    </tr>\n",
       "  </tbody>\n",
       "</table>\n",
       "</div>"
      ],
      "text/plain": [
       "                             Strategy  Year  Median i-band depth  \\\n",
       "0                 baseline_v3.3_10yrs     1            25.252161   \n",
       "1                   noroll_v3.3_10yrs     1            25.252161   \n",
       "2   roll_mid1_const_season4v3.3_10yrs     1            25.252161   \n",
       "3   roll_mid2_const_season2v3.3_10yrs     1            25.252161   \n",
       "4                 baseline_v3.3_10yrs     2            25.635288   \n",
       "5                   noroll_v3.3_10yrs     2            25.626280   \n",
       "6   roll_mid1_const_season4v3.3_10yrs     2            25.635288   \n",
       "7   roll_mid2_const_season2v3.3_10yrs     2            25.635288   \n",
       "8                 baseline_v3.3_10yrs     3            25.843019   \n",
       "9                   noroll_v3.3_10yrs     3            25.866495   \n",
       "10  roll_mid1_const_season4v3.3_10yrs     3            25.843019   \n",
       "11  roll_mid2_const_season2v3.3_10yrs     3            25.843019   \n",
       "12                baseline_v3.3_10yrs     4            25.994479   \n",
       "13                  noroll_v3.3_10yrs     4            26.001999   \n",
       "14  roll_mid1_const_season4v3.3_10yrs     4            25.994479   \n",
       "15  roll_mid2_const_season2v3.3_10yrs     4            25.998938   \n",
       "16                baseline_v3.3_10yrs     5            26.073056   \n",
       "17                  noroll_v3.3_10yrs     5            26.095760   \n",
       "18  roll_mid1_const_season4v3.3_10yrs     5            26.073056   \n",
       "19  roll_mid2_const_season2v3.3_10yrs     5            26.079259   \n",
       "20                baseline_v3.3_10yrs     6            26.163027   \n",
       "21                  noroll_v3.3_10yrs     6            26.176187   \n",
       "22  roll_mid1_const_season4v3.3_10yrs     6            26.163752   \n",
       "23  roll_mid2_const_season2v3.3_10yrs     6            26.150330   \n",
       "24                baseline_v3.3_10yrs     7            26.220376   \n",
       "25                  noroll_v3.3_10yrs     7            26.244674   \n",
       "26  roll_mid1_const_season4v3.3_10yrs     7            26.229882   \n",
       "27  roll_mid2_const_season2v3.3_10yrs     7            26.225658   \n",
       "28                baseline_v3.3_10yrs     8            26.284233   \n",
       "29                  noroll_v3.3_10yrs     8            26.300066   \n",
       "30  roll_mid1_const_season4v3.3_10yrs     8            26.276764   \n",
       "31  roll_mid2_const_season2v3.3_10yrs     8            26.280701   \n",
       "32                baseline_v3.3_10yrs     9            26.337261   \n",
       "33                  noroll_v3.3_10yrs     9            26.361844   \n",
       "34  roll_mid1_const_season4v3.3_10yrs     9            26.337387   \n",
       "35  roll_mid2_const_season2v3.3_10yrs     9            26.346489   \n",
       "\n",
       "    Mean i-band depth  Std i-band depth  IQR i-band depth  \\\n",
       "0           25.233240          0.184610          0.235948   \n",
       "1           25.233240          0.184610          0.235948   \n",
       "2           25.233240          0.184610          0.235948   \n",
       "3           25.233240          0.184610          0.235948   \n",
       "4           25.598740          0.197662          0.260341   \n",
       "5           25.601309          0.170386          0.215176   \n",
       "6           25.598740          0.197662          0.260341   \n",
       "7           25.598740          0.197662          0.260341   \n",
       "8           25.824180          0.217975          0.277805   \n",
       "9           25.839571          0.168145          0.213265   \n",
       "10          25.824180          0.217975          0.277805   \n",
       "11          25.824180          0.217975          0.277805   \n",
       "12          25.965053          0.172323          0.220420   \n",
       "13          25.975704          0.164686          0.209550   \n",
       "14          25.965053          0.172323          0.220420   \n",
       "15          25.971084          0.168606          0.208984   \n",
       "16          26.048741          0.179762          0.229556   \n",
       "17          26.066504          0.162930          0.207229   \n",
       "18          26.048741          0.179762          0.229556   \n",
       "19          26.051510          0.170167          0.214207   \n",
       "20          26.128642          0.164549          0.209568   \n",
       "21          26.145911          0.160461          0.205025   \n",
       "22          26.131106          0.163676          0.206228   \n",
       "23          26.125805          0.172830          0.216421   \n",
       "24          26.191188          0.169301          0.216515   \n",
       "25          26.215919          0.158385          0.200181   \n",
       "26          26.197229          0.164338          0.203573   \n",
       "27          26.197432          0.159537          0.194986   \n",
       "28          26.248194          0.164319          0.209159   \n",
       "29          26.270944          0.161353          0.205426   \n",
       "30          26.249561          0.169345          0.214077   \n",
       "31          26.251996          0.160191          0.197616   \n",
       "32          26.305354          0.167004          0.218167   \n",
       "33          26.331324          0.158527          0.201136   \n",
       "34          26.310529          0.159822          0.200847   \n",
       "35          26.315145          0.157351          0.196043   \n",
       "\n",
       "                  Mean z                     Std z                    Clbias  \\\n",
       "0   [0.8678199246851244]   [0.0010304886654968956]   [0.0004160848726178776]   \n",
       "1   [0.8678199246851244]   [0.0010304886654968956]   [0.0004160848726178776]   \n",
       "2   [0.8678199246851244]   [0.0010304886654968956]   [0.0004160848726178776]   \n",
       "3   [0.8678199246851244]   [0.0010304886654968956]   [0.0004160848726178776]   \n",
       "4   [0.8667776346463996]   [0.0008973211461710728]  [0.00036138282180226783]   \n",
       "5    [0.866753662748099]   [0.0007694099758249553]   [0.0003098501153387813]   \n",
       "6   [0.8667776346463996]   [0.0008973211461710728]  [0.00036138282180226783]   \n",
       "7   [0.8667776346463996]   [0.0008973211461710728]  [0.00036138282180226783]   \n",
       "8   [0.8652816838084864]    [0.000663454701339897]   [0.0002662088775407925]   \n",
       "9   [0.8651836963008128]   [0.0004953097370863888]  [0.00019869305451302092]   \n",
       "10  [0.8652816838084864]    [0.000663454701339897]   [0.0002662088775407925]   \n",
       "11  [0.8652816838084864]    [0.000663454701339897]   [0.0002662088775407925]   \n",
       "12  [0.8645289340476741]   [0.0003947880755456919]  [0.00015811206921540646]   \n",
       "13  [0.8644847268114866]  [0.00037001142896634075]  [0.00014817281438246144]   \n",
       "14  [0.8645289340476741]   [0.0003947880755456919]  [0.00015811206921540646]   \n",
       "15  [0.8645039011094724]  [0.00038205144609735443]   [0.0001530015699576515]   \n",
       "16  [0.8642207763025931]   [0.0003564341794137459]   [0.0001426423389966548]   \n",
       "17   [0.864161338638087]  [0.00031337565459572736]  [0.00012539214619190274]   \n",
       "18  [0.8642207763025931]   [0.0003564341794137459]   [0.0001426423389966548]   \n",
       "19  [0.8642115114009452]  [0.00033583244739582063]  [0.00013439458885690614]   \n",
       "20  [0.8639508202828555]   [0.0002818496879770229]   [0.0001127186645364444]   \n",
       "21  [0.8638914733286066]  [0.00026532392498342425]  [0.00010609398008740377]   \n",
       "22  [0.8639423530655739]  [0.00027896827753217605]  [0.00011156397352053349]   \n",
       "23  [0.8639605703849325]  [0.00029771831275053373]  [0.00011906780045156003]   \n",
       "24  [0.8637358758524596]   [0.0002535988094243396]  [0.00010136636221745639]   \n",
       "25  [0.8636707753020311]  [0.00022693594494820743]   [9.069425504280537e-05]   \n",
       "26  [0.8637151181669007]  [0.00024275350580692327]   [9.702637141085859e-05]   \n",
       "27    [0.86371441971293]   [0.0002355491125763722]   [9.414667768785859e-05]   \n",
       "28  [0.8636001814523865]  [0.00022383886713532556]    [8.94408458351408e-05]   \n",
       "29  [0.8635504211345444]   [0.0002117694600610578]   [8.460773923291133e-05]   \n",
       "30   [0.863597192079595]   [0.0002301784455612031]   [9.197331268915659e-05]   \n",
       "31  [0.8635918661842346]  [0.00021688298294685073]   [8.665964654131715e-05]   \n",
       "32  [0.8634784706122589]  [0.00020717016354727502]   [8.275541272079568e-05]   \n",
       "33  [0.8634377354830751]  [0.00019019671053507612]   [7.596757920058357e-05]   \n",
       "34  [0.8634703533456679]  [0.00019696345492957977]   [7.867669408809568e-05]   \n",
       "35  [0.8634631124572683]  [0.00019277890931953108]   [7.700380088552651e-05]   \n",
       "\n",
       "              Used meanz  \n",
       "0   [0.8678199246851244]  \n",
       "1   [0.8678199246851244]  \n",
       "2   [0.8678199246851244]  \n",
       "3   [0.8678199246851244]  \n",
       "4   [0.8667776346463996]  \n",
       "5    [0.866753662748099]  \n",
       "6   [0.8667776346463996]  \n",
       "7   [0.8667776346463996]  \n",
       "8   [0.8652816838084864]  \n",
       "9   [0.8651836963008128]  \n",
       "10  [0.8652816838084864]  \n",
       "11  [0.8652816838084864]  \n",
       "12  [0.8645289340476741]  \n",
       "13  [0.8644847268114866]  \n",
       "14  [0.8645289340476741]  \n",
       "15  [0.8645039011094724]  \n",
       "16  [0.8642207763025931]  \n",
       "17   [0.864161338638087]  \n",
       "18  [0.8642207763025931]  \n",
       "19  [0.8642115114009452]  \n",
       "20  [0.8639508202828555]  \n",
       "21  [0.8638914733286066]  \n",
       "22  [0.8639423530655739]  \n",
       "23  [0.8639605703849325]  \n",
       "24  [0.8637358758524596]  \n",
       "25  [0.8636707753020311]  \n",
       "26  [0.8637151181669007]  \n",
       "27    [0.86371441971293]  \n",
       "28  [0.8636001814523865]  \n",
       "29  [0.8635504211345444]  \n",
       "30   [0.863597192079595]  \n",
       "31  [0.8635918661842346]  \n",
       "32  [0.8634784706122589]  \n",
       "33  [0.8634377354830751]  \n",
       "34  [0.8634703533456679]  \n",
       "35  [0.8634631124572683]  "
      ]
     },
     "metadata": {},
     "output_type": "display_data"
    }
   ],
   "source": [
    "import numpy as np\n",
    "import pandas as pd\n",
    "import importlib\n",
    "importlib.reload(mzmod)\n",
    "\n",
    "v33_sim_list = ['/pscratch/sd/r/rhlozek/rubin_sim_data/sim_baseline/baseline_v3.3_10yrs.db',\n",
    "           '/pscratch/sd/r/rhlozek/rubin_sim_data/noroll/noroll_v3.3_10yrs.db',\n",
    "             '/pscratch/sd/r/rhlozek/rubin_sim_data/noroll/roll_mid1_const_season4v3.3_10yrs.db',\n",
    "           '/pscratch/sd/r/rhlozek/rubin_sim_data/noroll/roll_mid2_const_season2v3.3_10yrs.db']\n",
    "v33_name_list = [path.splitext(path.basename(sim))[0] for sim in v33_sim_list]\n",
    "nums =len(v33_name_list)\n",
    "v33_df = mzmod.get_year_by_year_metrics_jn(np.arange(1,10), v33_name_list[:nums], v33_sim_list[:nums])\n",
    "display(v33_df)"
   ]
  },
  {
   "cell_type": "code",
   "execution_count": 13,
   "metadata": {},
   "outputs": [
    {
     "data": {
      "image/png": "[encoded data removed]",
      "text/plain": [
       "<Figure size 640x480 with 1 Axes>"
      ]
     },
     "metadata": {},
     "output_type": "display_data"
    }
   ],
   "source": [
    "importlib.reload(mzmod)\n",
    "import matplotlib.pyplot as plt\n",
    "#mzmod.plot_meanz_metrics_by_year(v33_df, years=[3,5],num_bins=5)\n",
    "mzmod.plot_metric_by_year(v33_df, 'Clbias',ylog=True)\n",
    "\n",
    "\n",
    "#mzmod.plot_metric_by_year(v33_df, 'Std z')"
   ]
  },
  {
   "cell_type": "code",
   "execution_count": 8,
   "metadata": {
    "tags": []
   },
   "outputs": [],
   "source": [
    "v33_df.to_pickle('v33_dataframe_withmeanz.pkl')"
   ]
  },
  {
   "cell_type": "code",
   "execution_count": 9,
   "metadata": {},
   "outputs": [
    {
     "name": "stdout",
     "output_type": "stream",
     "text": [
      "[0.046745091529873814, 0.08500551112138602, 0.11915807457810432, 0.16180047285571472, 0.2539575165815878]\n"
     ]
    }
   ],
   "source": [
    "vec = mzmod.sensitivity(num_bins=5,fiducial_ilim=24.1)\n",
    "print(vec)\n",
    "# import numpy.random as random\n",
    "# vec = np.linspace(2,18,17)\n",
    "# print(vec)\n",
    "# random.shuffle(vec)\n",
    "# print(vec)"
   ]
  },
  {
   "cell_type": "code",
   "execution_count": 10,
   "metadata": {},
   "outputs": [],
   "source": [
    "# import matplotlib.pyplot as plt\n",
    "# fig, axs = plt.subplots(5,1,sharex=True)\n",
    "# x=np.linspace(0,5,100)\n",
    "# axs[0].plot(x,x**2)\n",
    "# axs[3].plot(x,x**2)"
   ]
  },
  {
   "cell_type": "markdown",
   "metadata": {},
   "source": [
    "### Here we plot the year-by-year metric results.  We read in from the dataframe, so if it was already produced, we can skip over the previous chunk of notebook."
   ]
  },
  {
   "cell_type": "code",
   "execution_count": 11,
   "metadata": {
    "tags": []
   },
   "outputs": [
    {
     "data": {
      "image/png": "[encoded data removed]",
      "text/plain": [
       "<Figure size 640x480 with 1 Axes>"
      ]
     },
     "metadata": {},
     "output_type": "display_data"
    }
   ],
   "source": [
    "v33_df = pd.read_pickle('v33_dataframe_withmeanz.pkl')\n",
    "mzmod.plot_metric_by_year(v33_df, 'Mean i-band depth')"
   ]
  }
 ],
 "metadata": {
  "kernelspec": {
   "display_name": "desc-stack-weekly-latest",
   "language": "python",
   "name": "desc-stack-weekly-latest"
  },
  "language_info": {
   "codemirror_mode": {
    "name": "ipython",
    "version": 3
   },
   "file_extension": ".py",
   "mimetype": "text/x-python",
   "name": "python",
   "nbconvert_exporter": "python",
   "pygments_lexer": "ipython3",
   "version": "3.11.4"
  }
 },
 "nbformat": 4,
 "nbformat_minor": 4
}
