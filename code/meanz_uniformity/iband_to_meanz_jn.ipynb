{
 "cells": [
  {
   "cell_type": "code",
   "execution_count": 1,
   "metadata": {
    "tags": []
   },
   "outputs": [],
   "source": [
    "import meanz_modules as mzmod\n",
    "import rubin_sim\n",
    "import rubin_sim.maf as maf\n",
    "from rubin_sim.scheduler.utils import SkyAreaGenerator\n",
    "from rubin_sim.data import get_baseline\n",
    "\n",
    "from os import path\n",
    "\n",
    "opsim_fname = rubin_sim.data.get_baseline()\n",
    "run_name = path.splitext(path.basename(opsim_fname))[0]\n",
    "nside=64\n"
   ]
  },
  {
   "cell_type": "code",
   "execution_count": 2,
   "metadata": {
    "tags": []
   },
   "outputs": [
    {
     "name": "stdout",
     "output_type": "stream",
     "text": [
      "Healpix slicer using NSIDE=64, approximate resolution 54.967783 arcminutes\n"
     ]
    },
    {
     "name": "stderr",
     "output_type": "stream",
     "text": [
      "/opt/lsst/software/stack/conda/miniconda3-py38_4.9.2/envs/lsst-scipipe-7.0.1/lib/python3.11/site-packages/rubin_sim/maf/maps/dust_map.py:44: UserWarning: Slicer value of nside 64 different from map value 128, using slicer value\n",
      "  warnings.warn(\n"
     ]
    }
   ],
   "source": [
    "# # Apply the above routine to our baseline sim, and show the plots\n",
    "bgroup, bd = mzmod.metric_plots(run_name, opsim_fname, year=2,nside=nside)\n",
    "bgroup.plot_all(closefigs=True)"
   ]
  },
  {
   "cell_type": "markdown",
   "metadata": {},
   "source": []
  },
  {
   "cell_type": "code",
   "execution_count": 3,
   "metadata": {
    "tags": []
   },
   "outputs": [
    {
     "name": "stdout",
     "output_type": "stream",
     "text": [
      "0.044444444444444446 -0.7644444444444444\n"
     ]
    },
    {
     "name": "stderr",
     "output_type": "stream",
     "text": [
      "/opt/lsst/software/stack/conda/miniconda3-py38_4.9.2/envs/lsst-scipipe-7.0.1/lib/python3.11/site-packages/scipy/optimize/_minpack_py.py:906: OptimizeWarning: Covariance of the parameters could not be estimated\n",
      "  warnings.warn('Covariance of the parameters could not be estimated',\n"
     ]
    }
   ],
   "source": [
    "ilim = [24.1, 25.3]\n",
    "meanz = [0.92, 1.08]\n",
    "\n",
    "a,b = mzmod.coeff_solve(ilim,meanz)\n",
    "print(a,b)"
   ]
  },
  {
   "cell_type": "markdown",
   "metadata": {},
   "source": [
    "### Dataset definitions"
   ]
  },
  {
   "cell_type": "code",
   "execution_count": 4,
   "metadata": {
    "tags": []
   },
   "outputs": [
    {
     "name": "stdout",
     "output_type": "stream",
     "text": [
      "['baseline_v3.3_10yrs', 'noroll_v3.3_10yrs', 'roll_mid1_const_season6v3.3_10yrs', 'roll_mid1_const_season2v3.3_10yrs', 'roll_mid1_const_season4v3.3_10yrs', 'roll_mid2_const_season2v3.3_10yrs', 'roll_mid2_const_season4v3.3_10yrs', 'roll_mid2_const_season6v3.3_10yrs']\n"
     ]
    }
   ],
   "source": [
    "v33_sim_list = ['/pscratch/sd/r/rhlozek/rubin_sim_data/sim_baseline/baseline_v3.3_10yrs.db',\n",
    "           '/pscratch/sd/r/rhlozek/rubin_sim_data/noroll/noroll_v3.3_10yrs.db',\n",
    "           '/pscratch/sd/r/rhlozek/rubin_sim_data/noroll/roll_mid1_const_season6v3.3_10yrs.db',\n",
    "           '/pscratch/sd/r/rhlozek/rubin_sim_data/noroll/roll_mid1_const_season2v3.3_10yrs.db',\n",
    "           '/pscratch/sd/r/rhlozek/rubin_sim_data/noroll/roll_mid1_const_season4v3.3_10yrs.db',\n",
    "           '/pscratch/sd/r/rhlozek/rubin_sim_data/noroll/roll_mid2_const_season2v3.3_10yrs.db',\n",
    "           '/pscratch/sd/r/rhlozek/rubin_sim_data/noroll/roll_mid2_const_season4v3.3_10yrs.db',\n",
    "           '/pscratch/sd/r/rhlozek/rubin_sim_data/noroll/roll_mid2_const_season6v3.3_10yrs.db',]\n",
    "v33_name_list = [path.splitext(path.basename(sim))[0] for sim in v33_sim_list]\n",
    "print(v33_name_list)"
   ]
  },
  {
   "cell_type": "markdown",
   "metadata": {
    "tags": []
   },
   "source": [
    "## In this section, we get maps of the i-band depth across the survey for v3.3 simulations at year=3"
   ]
  },
  {
   "cell_type": "code",
   "execution_count": 5,
   "metadata": {
    "tags": []
   },
   "outputs": [],
   "source": [
    "# # Run our above routine for the v3.3 simulations at year 3\n",
    "# for i in range(len(v33_sim_list)):\n",
    "#     this_run = v33_sim_list[i]\n",
    "#     this_fname = v33_name_list[i]\n",
    "#     bgroup, bd = mzmod.metric_plots(this_fname, this_run, year=3)\n",
    "#     #bgroup.plot_all(closefigs=False)"
   ]
  },
  {
   "cell_type": "markdown",
   "metadata": {},
   "source": [
    "### In this section, we run our metric calculations at each year for all v3.3 simulations and produce a dataframe to save to disk."
   ]
  },
  {
   "cell_type": "code",
   "execution_count": 13,
   "metadata": {
    "tags": []
   },
   "outputs": [
    {
     "name": "stdout",
     "output_type": "stream",
     "text": [
      "Healpix slicer using NSIDE=64, approximate resolution 54.967783 arcminutes\n"
     ]
    },
    {
     "name": "stderr",
     "output_type": "stream",
     "text": [
      "/opt/lsst/software/stack/conda/miniconda3-py38_4.9.2/envs/lsst-scipipe-7.0.1/lib/python3.11/site-packages/rubin_sim/maf/maps/dust_map.py:44: UserWarning: Slicer value of nside 64 different from map value 128, using slicer value\n",
      "  warnings.warn(\n",
      "/pscratch/sd/r/rhlozek/ObsStrat/code/meanz_uniformity/meanz_modules.py:366: RankWarning: Polyfit may be poorly conditioned\n",
      "  clbias, meanz_use = compute_Clbias(meanzinterp,stdz)\n"
     ]
    },
    {
     "name": "stdout",
     "output_type": "stream",
     "text": [
      "Healpix slicer using NSIDE=64, approximate resolution 54.967783 arcminutes\n"
     ]
    },
    {
     "name": "stderr",
     "output_type": "stream",
     "text": [
      "/opt/lsst/software/stack/conda/miniconda3-py38_4.9.2/envs/lsst-scipipe-7.0.1/lib/python3.11/site-packages/rubin_sim/maf/maps/dust_map.py:44: UserWarning: Slicer value of nside 64 different from map value 128, using slicer value\n",
      "  warnings.warn(\n",
      "/pscratch/sd/r/rhlozek/ObsStrat/code/meanz_uniformity/meanz_modules.py:366: RankWarning: Polyfit may be poorly conditioned\n",
      "  clbias, meanz_use = compute_Clbias(meanzinterp,stdz)\n"
     ]
    },
    {
     "name": "stdout",
     "output_type": "stream",
     "text": [
      "Healpix slicer using NSIDE=64, approximate resolution 54.967783 arcminutes\n"
     ]
    },
    {
     "name": "stderr",
     "output_type": "stream",
     "text": [
      "/opt/lsst/software/stack/conda/miniconda3-py38_4.9.2/envs/lsst-scipipe-7.0.1/lib/python3.11/site-packages/rubin_sim/maf/maps/dust_map.py:44: UserWarning: Slicer value of nside 64 different from map value 128, using slicer value\n",
      "  warnings.warn(\n",
      "/pscratch/sd/r/rhlozek/ObsStrat/code/meanz_uniformity/meanz_modules.py:366: RankWarning: Polyfit may be poorly conditioned\n",
      "  clbias, meanz_use = compute_Clbias(meanzinterp,stdz)\n"
     ]
    },
    {
     "name": "stdout",
     "output_type": "stream",
     "text": [
      "Healpix slicer using NSIDE=64, approximate resolution 54.967783 arcminutes\n"
     ]
    },
    {
     "name": "stderr",
     "output_type": "stream",
     "text": [
      "/opt/lsst/software/stack/conda/miniconda3-py38_4.9.2/envs/lsst-scipipe-7.0.1/lib/python3.11/site-packages/rubin_sim/maf/maps/dust_map.py:44: UserWarning: Slicer value of nside 64 different from map value 128, using slicer value\n",
      "  warnings.warn(\n",
      "/pscratch/sd/r/rhlozek/ObsStrat/code/meanz_uniformity/meanz_modules.py:366: RankWarning: Polyfit may be poorly conditioned\n",
      "  clbias, meanz_use = compute_Clbias(meanzinterp,stdz)\n"
     ]
    },
    {
     "name": "stdout",
     "output_type": "stream",
     "text": [
      "Healpix slicer using NSIDE=64, approximate resolution 54.967783 arcminutes\n"
     ]
    },
    {
     "name": "stderr",
     "output_type": "stream",
     "text": [
      "/opt/lsst/software/stack/conda/miniconda3-py38_4.9.2/envs/lsst-scipipe-7.0.1/lib/python3.11/site-packages/rubin_sim/maf/maps/dust_map.py:44: UserWarning: Slicer value of nside 64 different from map value 128, using slicer value\n",
      "  warnings.warn(\n",
      "/pscratch/sd/r/rhlozek/ObsStrat/code/meanz_uniformity/meanz_modules.py:366: RankWarning: Polyfit may be poorly conditioned\n",
      "  clbias, meanz_use = compute_Clbias(meanzinterp,stdz)\n"
     ]
    },
    {
     "name": "stdout",
     "output_type": "stream",
     "text": [
      "Healpix slicer using NSIDE=64, approximate resolution 54.967783 arcminutes\n"
     ]
    },
    {
     "name": "stderr",
     "output_type": "stream",
     "text": [
      "/opt/lsst/software/stack/conda/miniconda3-py38_4.9.2/envs/lsst-scipipe-7.0.1/lib/python3.11/site-packages/rubin_sim/maf/maps/dust_map.py:44: UserWarning: Slicer value of nside 64 different from map value 128, using slicer value\n",
      "  warnings.warn(\n",
      "/pscratch/sd/r/rhlozek/ObsStrat/code/meanz_uniformity/meanz_modules.py:366: RankWarning: Polyfit may be poorly conditioned\n",
      "  clbias, meanz_use = compute_Clbias(meanzinterp,stdz)\n"
     ]
    },
    {
     "name": "stdout",
     "output_type": "stream",
     "text": [
      "Healpix slicer using NSIDE=64, approximate resolution 54.967783 arcminutes\n"
     ]
    },
    {
     "name": "stderr",
     "output_type": "stream",
     "text": [
      "/opt/lsst/software/stack/conda/miniconda3-py38_4.9.2/envs/lsst-scipipe-7.0.1/lib/python3.11/site-packages/rubin_sim/maf/maps/dust_map.py:44: UserWarning: Slicer value of nside 64 different from map value 128, using slicer value\n",
      "  warnings.warn(\n",
      "/pscratch/sd/r/rhlozek/ObsStrat/code/meanz_uniformity/meanz_modules.py:366: RankWarning: Polyfit may be poorly conditioned\n",
      "  clbias, meanz_use = compute_Clbias(meanzinterp,stdz)\n"
     ]
    },
    {
     "name": "stdout",
     "output_type": "stream",
     "text": [
      "Healpix slicer using NSIDE=64, approximate resolution 54.967783 arcminutes\n"
     ]
    },
    {
     "name": "stderr",
     "output_type": "stream",
     "text": [
      "/opt/lsst/software/stack/conda/miniconda3-py38_4.9.2/envs/lsst-scipipe-7.0.1/lib/python3.11/site-packages/rubin_sim/maf/maps/dust_map.py:44: UserWarning: Slicer value of nside 64 different from map value 128, using slicer value\n",
      "  warnings.warn(\n",
      "/pscratch/sd/r/rhlozek/ObsStrat/code/meanz_uniformity/meanz_modules.py:366: RankWarning: Polyfit may be poorly conditioned\n",
      "  clbias, meanz_use = compute_Clbias(meanzinterp,stdz)\n"
     ]
    },
    {
     "name": "stdout",
     "output_type": "stream",
     "text": [
      "Healpix slicer using NSIDE=64, approximate resolution 54.967783 arcminutes\n"
     ]
    },
    {
     "name": "stderr",
     "output_type": "stream",
     "text": [
      "/opt/lsst/software/stack/conda/miniconda3-py38_4.9.2/envs/lsst-scipipe-7.0.1/lib/python3.11/site-packages/rubin_sim/maf/maps/dust_map.py:44: UserWarning: Slicer value of nside 64 different from map value 128, using slicer value\n",
      "  warnings.warn(\n",
      "/pscratch/sd/r/rhlozek/ObsStrat/code/meanz_uniformity/meanz_modules.py:366: RankWarning: Polyfit may be poorly conditioned\n",
      "  clbias, meanz_use = compute_Clbias(meanzinterp,stdz)\n"
     ]
    },
    {
     "name": "stdout",
     "output_type": "stream",
     "text": [
      "Healpix slicer using NSIDE=64, approximate resolution 54.967783 arcminutes\n"
     ]
    },
    {
     "name": "stderr",
     "output_type": "stream",
     "text": [
      "/opt/lsst/software/stack/conda/miniconda3-py38_4.9.2/envs/lsst-scipipe-7.0.1/lib/python3.11/site-packages/rubin_sim/maf/maps/dust_map.py:44: UserWarning: Slicer value of nside 64 different from map value 128, using slicer value\n",
      "  warnings.warn(\n",
      "/pscratch/sd/r/rhlozek/ObsStrat/code/meanz_uniformity/meanz_modules.py:366: RankWarning: Polyfit may be poorly conditioned\n",
      "  clbias, meanz_use = compute_Clbias(meanzinterp,stdz)\n"
     ]
    },
    {
     "name": "stdout",
     "output_type": "stream",
     "text": [
      "Healpix slicer using NSIDE=64, approximate resolution 54.967783 arcminutes\n"
     ]
    },
    {
     "name": "stderr",
     "output_type": "stream",
     "text": [
      "/opt/lsst/software/stack/conda/miniconda3-py38_4.9.2/envs/lsst-scipipe-7.0.1/lib/python3.11/site-packages/rubin_sim/maf/maps/dust_map.py:44: UserWarning: Slicer value of nside 64 different from map value 128, using slicer value\n",
      "  warnings.warn(\n",
      "/pscratch/sd/r/rhlozek/ObsStrat/code/meanz_uniformity/meanz_modules.py:366: RankWarning: Polyfit may be poorly conditioned\n",
      "  clbias, meanz_use = compute_Clbias(meanzinterp,stdz)\n"
     ]
    },
    {
     "name": "stdout",
     "output_type": "stream",
     "text": [
      "Healpix slicer using NSIDE=64, approximate resolution 54.967783 arcminutes\n"
     ]
    },
    {
     "name": "stderr",
     "output_type": "stream",
     "text": [
      "/opt/lsst/software/stack/conda/miniconda3-py38_4.9.2/envs/lsst-scipipe-7.0.1/lib/python3.11/site-packages/rubin_sim/maf/maps/dust_map.py:44: UserWarning: Slicer value of nside 64 different from map value 128, using slicer value\n",
      "  warnings.warn(\n",
      "/pscratch/sd/r/rhlozek/ObsStrat/code/meanz_uniformity/meanz_modules.py:366: RankWarning: Polyfit may be poorly conditioned\n",
      "  clbias, meanz_use = compute_Clbias(meanzinterp,stdz)\n"
     ]
    },
    {
     "name": "stdout",
     "output_type": "stream",
     "text": [
      "Healpix slicer using NSIDE=64, approximate resolution 54.967783 arcminutes\n"
     ]
    },
    {
     "name": "stderr",
     "output_type": "stream",
     "text": [
      "/opt/lsst/software/stack/conda/miniconda3-py38_4.9.2/envs/lsst-scipipe-7.0.1/lib/python3.11/site-packages/rubin_sim/maf/maps/dust_map.py:44: UserWarning: Slicer value of nside 64 different from map value 128, using slicer value\n",
      "  warnings.warn(\n",
      "/pscratch/sd/r/rhlozek/ObsStrat/code/meanz_uniformity/meanz_modules.py:366: RankWarning: Polyfit may be poorly conditioned\n",
      "  clbias, meanz_use = compute_Clbias(meanzinterp,stdz)\n"
     ]
    },
    {
     "name": "stdout",
     "output_type": "stream",
     "text": [
      "Healpix slicer using NSIDE=64, approximate resolution 54.967783 arcminutes\n"
     ]
    },
    {
     "name": "stderr",
     "output_type": "stream",
     "text": [
      "/opt/lsst/software/stack/conda/miniconda3-py38_4.9.2/envs/lsst-scipipe-7.0.1/lib/python3.11/site-packages/rubin_sim/maf/maps/dust_map.py:44: UserWarning: Slicer value of nside 64 different from map value 128, using slicer value\n",
      "  warnings.warn(\n",
      "/pscratch/sd/r/rhlozek/ObsStrat/code/meanz_uniformity/meanz_modules.py:366: RankWarning: Polyfit may be poorly conditioned\n",
      "  clbias, meanz_use = compute_Clbias(meanzinterp,stdz)\n"
     ]
    },
    {
     "name": "stdout",
     "output_type": "stream",
     "text": [
      "Healpix slicer using NSIDE=64, approximate resolution 54.967783 arcminutes\n"
     ]
    },
    {
     "name": "stderr",
     "output_type": "stream",
     "text": [
      "/opt/lsst/software/stack/conda/miniconda3-py38_4.9.2/envs/lsst-scipipe-7.0.1/lib/python3.11/site-packages/rubin_sim/maf/maps/dust_map.py:44: UserWarning: Slicer value of nside 64 different from map value 128, using slicer value\n",
      "  warnings.warn(\n",
      "/pscratch/sd/r/rhlozek/ObsStrat/code/meanz_uniformity/meanz_modules.py:366: RankWarning: Polyfit may be poorly conditioned\n",
      "  clbias, meanz_use = compute_Clbias(meanzinterp,stdz)\n"
     ]
    },
    {
     "name": "stdout",
     "output_type": "stream",
     "text": [
      "Healpix slicer using NSIDE=64, approximate resolution 54.967783 arcminutes\n"
     ]
    },
    {
     "name": "stderr",
     "output_type": "stream",
     "text": [
      "/opt/lsst/software/stack/conda/miniconda3-py38_4.9.2/envs/lsst-scipipe-7.0.1/lib/python3.11/site-packages/rubin_sim/maf/maps/dust_map.py:44: UserWarning: Slicer value of nside 64 different from map value 128, using slicer value\n",
      "  warnings.warn(\n",
      "/pscratch/sd/r/rhlozek/ObsStrat/code/meanz_uniformity/meanz_modules.py:366: RankWarning: Polyfit may be poorly conditioned\n",
      "  clbias, meanz_use = compute_Clbias(meanzinterp,stdz)\n"
     ]
    },
    {
     "name": "stdout",
     "output_type": "stream",
     "text": [
      "Healpix slicer using NSIDE=64, approximate resolution 54.967783 arcminutes\n"
     ]
    },
    {
     "name": "stderr",
     "output_type": "stream",
     "text": [
      "/opt/lsst/software/stack/conda/miniconda3-py38_4.9.2/envs/lsst-scipipe-7.0.1/lib/python3.11/site-packages/rubin_sim/maf/maps/dust_map.py:44: UserWarning: Slicer value of nside 64 different from map value 128, using slicer value\n",
      "  warnings.warn(\n",
      "/pscratch/sd/r/rhlozek/ObsStrat/code/meanz_uniformity/meanz_modules.py:366: RankWarning: Polyfit may be poorly conditioned\n",
      "  clbias, meanz_use = compute_Clbias(meanzinterp,stdz)\n"
     ]
    },
    {
     "name": "stdout",
     "output_type": "stream",
     "text": [
      "Healpix slicer using NSIDE=64, approximate resolution 54.967783 arcminutes\n"
     ]
    },
    {
     "name": "stderr",
     "output_type": "stream",
     "text": [
      "/opt/lsst/software/stack/conda/miniconda3-py38_4.9.2/envs/lsst-scipipe-7.0.1/lib/python3.11/site-packages/rubin_sim/maf/maps/dust_map.py:44: UserWarning: Slicer value of nside 64 different from map value 128, using slicer value\n",
      "  warnings.warn(\n",
      "/pscratch/sd/r/rhlozek/ObsStrat/code/meanz_uniformity/meanz_modules.py:366: RankWarning: Polyfit may be poorly conditioned\n",
      "  clbias, meanz_use = compute_Clbias(meanzinterp,stdz)\n"
     ]
    },
    {
     "name": "stdout",
     "output_type": "stream",
     "text": [
      "Healpix slicer using NSIDE=64, approximate resolution 54.967783 arcminutes\n"
     ]
    },
    {
     "name": "stderr",
     "output_type": "stream",
     "text": [
      "/opt/lsst/software/stack/conda/miniconda3-py38_4.9.2/envs/lsst-scipipe-7.0.1/lib/python3.11/site-packages/rubin_sim/maf/maps/dust_map.py:44: UserWarning: Slicer value of nside 64 different from map value 128, using slicer value\n",
      "  warnings.warn(\n",
      "/pscratch/sd/r/rhlozek/ObsStrat/code/meanz_uniformity/meanz_modules.py:366: RankWarning: Polyfit may be poorly conditioned\n",
      "  clbias, meanz_use = compute_Clbias(meanzinterp,stdz)\n"
     ]
    },
    {
     "name": "stdout",
     "output_type": "stream",
     "text": [
      "Healpix slicer using NSIDE=64, approximate resolution 54.967783 arcminutes\n"
     ]
    },
    {
     "name": "stderr",
     "output_type": "stream",
     "text": [
      "/opt/lsst/software/stack/conda/miniconda3-py38_4.9.2/envs/lsst-scipipe-7.0.1/lib/python3.11/site-packages/rubin_sim/maf/maps/dust_map.py:44: UserWarning: Slicer value of nside 64 different from map value 128, using slicer value\n",
      "  warnings.warn(\n",
      "/pscratch/sd/r/rhlozek/ObsStrat/code/meanz_uniformity/meanz_modules.py:366: RankWarning: Polyfit may be poorly conditioned\n",
      "  clbias, meanz_use = compute_Clbias(meanzinterp,stdz)\n"
     ]
    },
    {
     "name": "stdout",
     "output_type": "stream",
     "text": [
      "Healpix slicer using NSIDE=64, approximate resolution 54.967783 arcminutes\n"
     ]
    },
    {
     "name": "stderr",
     "output_type": "stream",
     "text": [
      "/opt/lsst/software/stack/conda/miniconda3-py38_4.9.2/envs/lsst-scipipe-7.0.1/lib/python3.11/site-packages/rubin_sim/maf/maps/dust_map.py:44: UserWarning: Slicer value of nside 64 different from map value 128, using slicer value\n",
      "  warnings.warn(\n",
      "/pscratch/sd/r/rhlozek/ObsStrat/code/meanz_uniformity/meanz_modules.py:366: RankWarning: Polyfit may be poorly conditioned\n",
      "  clbias, meanz_use = compute_Clbias(meanzinterp,stdz)\n"
     ]
    },
    {
     "name": "stdout",
     "output_type": "stream",
     "text": [
      "Healpix slicer using NSIDE=64, approximate resolution 54.967783 arcminutes\n"
     ]
    },
    {
     "name": "stderr",
     "output_type": "stream",
     "text": [
      "/opt/lsst/software/stack/conda/miniconda3-py38_4.9.2/envs/lsst-scipipe-7.0.1/lib/python3.11/site-packages/rubin_sim/maf/maps/dust_map.py:44: UserWarning: Slicer value of nside 64 different from map value 128, using slicer value\n",
      "  warnings.warn(\n",
      "/pscratch/sd/r/rhlozek/ObsStrat/code/meanz_uniformity/meanz_modules.py:366: RankWarning: Polyfit may be poorly conditioned\n",
      "  clbias, meanz_use = compute_Clbias(meanzinterp,stdz)\n"
     ]
    },
    {
     "name": "stdout",
     "output_type": "stream",
     "text": [
      "Healpix slicer using NSIDE=64, approximate resolution 54.967783 arcminutes\n"
     ]
    },
    {
     "name": "stderr",
     "output_type": "stream",
     "text": [
      "/opt/lsst/software/stack/conda/miniconda3-py38_4.9.2/envs/lsst-scipipe-7.0.1/lib/python3.11/site-packages/rubin_sim/maf/maps/dust_map.py:44: UserWarning: Slicer value of nside 64 different from map value 128, using slicer value\n",
      "  warnings.warn(\n",
      "/pscratch/sd/r/rhlozek/ObsStrat/code/meanz_uniformity/meanz_modules.py:366: RankWarning: Polyfit may be poorly conditioned\n",
      "  clbias, meanz_use = compute_Clbias(meanzinterp,stdz)\n"
     ]
    },
    {
     "name": "stdout",
     "output_type": "stream",
     "text": [
      "Healpix slicer using NSIDE=64, approximate resolution 54.967783 arcminutes\n"
     ]
    },
    {
     "name": "stderr",
     "output_type": "stream",
     "text": [
      "/opt/lsst/software/stack/conda/miniconda3-py38_4.9.2/envs/lsst-scipipe-7.0.1/lib/python3.11/site-packages/rubin_sim/maf/maps/dust_map.py:44: UserWarning: Slicer value of nside 64 different from map value 128, using slicer value\n",
      "  warnings.warn(\n",
      "/pscratch/sd/r/rhlozek/ObsStrat/code/meanz_uniformity/meanz_modules.py:366: RankWarning: Polyfit may be poorly conditioned\n",
      "  clbias, meanz_use = compute_Clbias(meanzinterp,stdz)\n"
     ]
    },
    {
     "name": "stdout",
     "output_type": "stream",
     "text": [
      "Healpix slicer using NSIDE=64, approximate resolution 54.967783 arcminutes\n"
     ]
    },
    {
     "name": "stderr",
     "output_type": "stream",
     "text": [
      "/opt/lsst/software/stack/conda/miniconda3-py38_4.9.2/envs/lsst-scipipe-7.0.1/lib/python3.11/site-packages/rubin_sim/maf/maps/dust_map.py:44: UserWarning: Slicer value of nside 64 different from map value 128, using slicer value\n",
      "  warnings.warn(\n",
      "/pscratch/sd/r/rhlozek/ObsStrat/code/meanz_uniformity/meanz_modules.py:366: RankWarning: Polyfit may be poorly conditioned\n",
      "  clbias, meanz_use = compute_Clbias(meanzinterp,stdz)\n"
     ]
    },
    {
     "name": "stdout",
     "output_type": "stream",
     "text": [
      "Healpix slicer using NSIDE=64, approximate resolution 54.967783 arcminutes\n"
     ]
    },
    {
     "name": "stderr",
     "output_type": "stream",
     "text": [
      "/opt/lsst/software/stack/conda/miniconda3-py38_4.9.2/envs/lsst-scipipe-7.0.1/lib/python3.11/site-packages/rubin_sim/maf/maps/dust_map.py:44: UserWarning: Slicer value of nside 64 different from map value 128, using slicer value\n",
      "  warnings.warn(\n",
      "/pscratch/sd/r/rhlozek/ObsStrat/code/meanz_uniformity/meanz_modules.py:366: RankWarning: Polyfit may be poorly conditioned\n",
      "  clbias, meanz_use = compute_Clbias(meanzinterp,stdz)\n"
     ]
    },
    {
     "name": "stdout",
     "output_type": "stream",
     "text": [
      "Healpix slicer using NSIDE=64, approximate resolution 54.967783 arcminutes\n"
     ]
    },
    {
     "name": "stderr",
     "output_type": "stream",
     "text": [
      "/opt/lsst/software/stack/conda/miniconda3-py38_4.9.2/envs/lsst-scipipe-7.0.1/lib/python3.11/site-packages/rubin_sim/maf/maps/dust_map.py:44: UserWarning: Slicer value of nside 64 different from map value 128, using slicer value\n",
      "  warnings.warn(\n",
      "/pscratch/sd/r/rhlozek/ObsStrat/code/meanz_uniformity/meanz_modules.py:366: RankWarning: Polyfit may be poorly conditioned\n",
      "  clbias, meanz_use = compute_Clbias(meanzinterp,stdz)\n"
     ]
    },
    {
     "name": "stdout",
     "output_type": "stream",
     "text": [
      "Healpix slicer using NSIDE=64, approximate resolution 54.967783 arcminutes\n"
     ]
    },
    {
     "name": "stderr",
     "output_type": "stream",
     "text": [
      "/opt/lsst/software/stack/conda/miniconda3-py38_4.9.2/envs/lsst-scipipe-7.0.1/lib/python3.11/site-packages/rubin_sim/maf/maps/dust_map.py:44: UserWarning: Slicer value of nside 64 different from map value 128, using slicer value\n",
      "  warnings.warn(\n",
      "/pscratch/sd/r/rhlozek/ObsStrat/code/meanz_uniformity/meanz_modules.py:366: RankWarning: Polyfit may be poorly conditioned\n",
      "  clbias, meanz_use = compute_Clbias(meanzinterp,stdz)\n"
     ]
    },
    {
     "name": "stdout",
     "output_type": "stream",
     "text": [
      "Healpix slicer using NSIDE=64, approximate resolution 54.967783 arcminutes\n"
     ]
    },
    {
     "name": "stderr",
     "output_type": "stream",
     "text": [
      "/opt/lsst/software/stack/conda/miniconda3-py38_4.9.2/envs/lsst-scipipe-7.0.1/lib/python3.11/site-packages/rubin_sim/maf/maps/dust_map.py:44: UserWarning: Slicer value of nside 64 different from map value 128, using slicer value\n",
      "  warnings.warn(\n",
      "/pscratch/sd/r/rhlozek/ObsStrat/code/meanz_uniformity/meanz_modules.py:366: RankWarning: Polyfit may be poorly conditioned\n",
      "  clbias, meanz_use = compute_Clbias(meanzinterp,stdz)\n"
     ]
    },
    {
     "name": "stdout",
     "output_type": "stream",
     "text": [
      "Healpix slicer using NSIDE=64, approximate resolution 54.967783 arcminutes\n"
     ]
    },
    {
     "name": "stderr",
     "output_type": "stream",
     "text": [
      "/opt/lsst/software/stack/conda/miniconda3-py38_4.9.2/envs/lsst-scipipe-7.0.1/lib/python3.11/site-packages/rubin_sim/maf/maps/dust_map.py:44: UserWarning: Slicer value of nside 64 different from map value 128, using slicer value\n",
      "  warnings.warn(\n",
      "/pscratch/sd/r/rhlozek/ObsStrat/code/meanz_uniformity/meanz_modules.py:366: RankWarning: Polyfit may be poorly conditioned\n",
      "  clbias, meanz_use = compute_Clbias(meanzinterp,stdz)\n"
     ]
    },
    {
     "name": "stdout",
     "output_type": "stream",
     "text": [
      "Healpix slicer using NSIDE=64, approximate resolution 54.967783 arcminutes\n"
     ]
    },
    {
     "name": "stderr",
     "output_type": "stream",
     "text": [
      "/opt/lsst/software/stack/conda/miniconda3-py38_4.9.2/envs/lsst-scipipe-7.0.1/lib/python3.11/site-packages/rubin_sim/maf/maps/dust_map.py:44: UserWarning: Slicer value of nside 64 different from map value 128, using slicer value\n",
      "  warnings.warn(\n",
      "/pscratch/sd/r/rhlozek/ObsStrat/code/meanz_uniformity/meanz_modules.py:366: RankWarning: Polyfit may be poorly conditioned\n",
      "  clbias, meanz_use = compute_Clbias(meanzinterp,stdz)\n"
     ]
    },
    {
     "name": "stdout",
     "output_type": "stream",
     "text": [
      "Healpix slicer using NSIDE=64, approximate resolution 54.967783 arcminutes\n"
     ]
    },
    {
     "name": "stderr",
     "output_type": "stream",
     "text": [
      "/opt/lsst/software/stack/conda/miniconda3-py38_4.9.2/envs/lsst-scipipe-7.0.1/lib/python3.11/site-packages/rubin_sim/maf/maps/dust_map.py:44: UserWarning: Slicer value of nside 64 different from map value 128, using slicer value\n",
      "  warnings.warn(\n",
      "/pscratch/sd/r/rhlozek/ObsStrat/code/meanz_uniformity/meanz_modules.py:366: RankWarning: Polyfit may be poorly conditioned\n",
      "  clbias, meanz_use = compute_Clbias(meanzinterp,stdz)\n"
     ]
    },
    {
     "name": "stdout",
     "output_type": "stream",
     "text": [
      "Healpix slicer using NSIDE=64, approximate resolution 54.967783 arcminutes\n"
     ]
    },
    {
     "name": "stderr",
     "output_type": "stream",
     "text": [
      "/opt/lsst/software/stack/conda/miniconda3-py38_4.9.2/envs/lsst-scipipe-7.0.1/lib/python3.11/site-packages/rubin_sim/maf/maps/dust_map.py:44: UserWarning: Slicer value of nside 64 different from map value 128, using slicer value\n",
      "  warnings.warn(\n",
      "/pscratch/sd/r/rhlozek/ObsStrat/code/meanz_uniformity/meanz_modules.py:366: RankWarning: Polyfit may be poorly conditioned\n",
      "  clbias, meanz_use = compute_Clbias(meanzinterp,stdz)\n"
     ]
    },
    {
     "name": "stdout",
     "output_type": "stream",
     "text": [
      "Healpix slicer using NSIDE=64, approximate resolution 54.967783 arcminutes\n"
     ]
    },
    {
     "name": "stderr",
     "output_type": "stream",
     "text": [
      "/opt/lsst/software/stack/conda/miniconda3-py38_4.9.2/envs/lsst-scipipe-7.0.1/lib/python3.11/site-packages/rubin_sim/maf/maps/dust_map.py:44: UserWarning: Slicer value of nside 64 different from map value 128, using slicer value\n",
      "  warnings.warn(\n",
      "/pscratch/sd/r/rhlozek/ObsStrat/code/meanz_uniformity/meanz_modules.py:366: RankWarning: Polyfit may be poorly conditioned\n",
      "  clbias, meanz_use = compute_Clbias(meanzinterp,stdz)\n"
     ]
    },
    {
     "name": "stdout",
     "output_type": "stream",
     "text": [
      "Healpix slicer using NSIDE=64, approximate resolution 54.967783 arcminutes\n"
     ]
    },
    {
     "name": "stderr",
     "output_type": "stream",
     "text": [
      "/opt/lsst/software/stack/conda/miniconda3-py38_4.9.2/envs/lsst-scipipe-7.0.1/lib/python3.11/site-packages/rubin_sim/maf/maps/dust_map.py:44: UserWarning: Slicer value of nside 64 different from map value 128, using slicer value\n",
      "  warnings.warn(\n",
      "/pscratch/sd/r/rhlozek/ObsStrat/code/meanz_uniformity/meanz_modules.py:366: RankWarning: Polyfit may be poorly conditioned\n",
      "  clbias, meanz_use = compute_Clbias(meanzinterp,stdz)\n"
     ]
    },
    {
     "name": "stdout",
     "output_type": "stream",
     "text": [
      "Healpix slicer using NSIDE=64, approximate resolution 54.967783 arcminutes\n"
     ]
    },
    {
     "name": "stderr",
     "output_type": "stream",
     "text": [
      "/opt/lsst/software/stack/conda/miniconda3-py38_4.9.2/envs/lsst-scipipe-7.0.1/lib/python3.11/site-packages/rubin_sim/maf/maps/dust_map.py:44: UserWarning: Slicer value of nside 64 different from map value 128, using slicer value\n",
      "  warnings.warn(\n",
      "/pscratch/sd/r/rhlozek/ObsStrat/code/meanz_uniformity/meanz_modules.py:366: RankWarning: Polyfit may be poorly conditioned\n",
      "  clbias, meanz_use = compute_Clbias(meanzinterp,stdz)\n"
     ]
    },
    {
     "data": {
      "text/html": [
       "<div>\n",
       "<style scoped>\n",
       "    .dataframe tbody tr th:only-of-type {\n",
       "        vertical-align: middle;\n",
       "    }\n",
       "\n",
       "    .dataframe tbody tr th {\n",
       "        vertical-align: top;\n",
       "    }\n",
       "\n",
       "    .dataframe thead th {\n",
       "        text-align: right;\n",
       "    }\n",
       "</style>\n",
       "<table border=\"1\" class=\"dataframe\">\n",
       "  <thead>\n",
       "    <tr style=\"text-align: right;\">\n",
       "      <th></th>\n",
       "      <th>Strategy</th>\n",
       "      <th>Year</th>\n",
       "      <th>Median i-band depth</th>\n",
       "      <th>Mean i-band depth</th>\n",
       "      <th>Std i-band depth</th>\n",
       "      <th>IQR i-band depth</th>\n",
       "      <th>Mean z</th>\n",
       "      <th>Std z</th>\n",
       "      <th>Clbias</th>\n",
       "      <th>Used meanz</th>\n",
       "    </tr>\n",
       "  </thead>\n",
       "  <tbody>\n",
       "    <tr>\n",
       "      <th>0</th>\n",
       "      <td>baseline_v3.3_10yrs</td>\n",
       "      <td>1</td>\n",
       "      <td>25.252161</td>\n",
       "      <td>25.233240</td>\n",
       "      <td>0.184610</td>\n",
       "      <td>0.235948</td>\n",
       "      <td>[0.9722923997989711]</td>\n",
       "      <td>[0.00010158607833066036]</td>\n",
       "      <td>[5.239210016071872e-05]</td>\n",
       "      <td>[0.9722923997989711]</td>\n",
       "    </tr>\n",
       "    <tr>\n",
       "      <th>1</th>\n",
       "      <td>noroll_v3.3_10yrs</td>\n",
       "      <td>1</td>\n",
       "      <td>25.252161</td>\n",
       "      <td>25.233240</td>\n",
       "      <td>0.184610</td>\n",
       "      <td>0.235948</td>\n",
       "      <td>[0.9740059874664743]</td>\n",
       "      <td>[0.00041793226686978954]</td>\n",
       "      <td>[0.00021636621029771951]</td>\n",
       "      <td>[0.9740059874664743]</td>\n",
       "    </tr>\n",
       "    <tr>\n",
       "      <th>2</th>\n",
       "      <td>roll_mid1_const_season4v3.3_10yrs</td>\n",
       "      <td>1</td>\n",
       "      <td>25.252161</td>\n",
       "      <td>25.233240</td>\n",
       "      <td>0.184610</td>\n",
       "      <td>0.235948</td>\n",
       "      <td>[0.9718516302092206]</td>\n",
       "      <td>[2.0215406502304293e-05]</td>\n",
       "      <td>[1.0415706475773967e-05]</td>\n",
       "      <td>[0.9718516302092206]</td>\n",
       "    </tr>\n",
       "    <tr>\n",
       "      <th>3</th>\n",
       "      <td>roll_mid2_const_season2v3.3_10yrs</td>\n",
       "      <td>1</td>\n",
       "      <td>25.252161</td>\n",
       "      <td>25.233240</td>\n",
       "      <td>0.184610</td>\n",
       "      <td>0.235948</td>\n",
       "      <td>[0.9711732583186665]</td>\n",
       "      <td>[-0.00010501913273872353]</td>\n",
       "      <td>[-5.4028096448392226e-05]</td>\n",
       "      <td>[0.9711732583186665]</td>\n",
       "    </tr>\n",
       "    <tr>\n",
       "      <th>4</th>\n",
       "      <td>baseline_v3.3_10yrs</td>\n",
       "      <td>2</td>\n",
       "      <td>25.635288</td>\n",
       "      <td>25.598740</td>\n",
       "      <td>0.197662</td>\n",
       "      <td>0.260341</td>\n",
       "      <td>[1.0122095665439061]</td>\n",
       "      <td>[0.00041342903405382046]</td>\n",
       "      <td>[0.00023259763684182257]</td>\n",
       "      <td>[1.0122095665439061]</td>\n",
       "    </tr>\n",
       "    <tr>\n",
       "      <th>5</th>\n",
       "      <td>noroll_v3.3_10yrs</td>\n",
       "      <td>2</td>\n",
       "      <td>25.626280</td>\n",
       "      <td>25.601309</td>\n",
       "      <td>0.170386</td>\n",
       "      <td>0.215176</td>\n",
       "      <td>[1.0159679535146582]</td>\n",
       "      <td>[0.0010445817586262824]</td>\n",
       "      <td>[0.0005924187095530547]</td>\n",
       "      <td>[1.0159679535146582]</td>\n",
       "    </tr>\n",
       "    <tr>\n",
       "      <th>6</th>\n",
       "      <td>roll_mid1_const_season4v3.3_10yrs</td>\n",
       "      <td>2</td>\n",
       "      <td>25.635288</td>\n",
       "      <td>25.598740</td>\n",
       "      <td>0.197662</td>\n",
       "      <td>0.260341</td>\n",
       "      <td>[1.0123701921085657]</td>\n",
       "      <td>[0.00044517861648511313]</td>\n",
       "      <td>[0.0002505461252617472]</td>\n",
       "      <td>[1.0123701921085657]</td>\n",
       "    </tr>\n",
       "    <tr>\n",
       "      <th>7</th>\n",
       "      <td>roll_mid2_const_season2v3.3_10yrs</td>\n",
       "      <td>2</td>\n",
       "      <td>25.635288</td>\n",
       "      <td>25.598740</td>\n",
       "      <td>0.197662</td>\n",
       "      <td>0.260341</td>\n",
       "      <td>[1.0147576514656087]</td>\n",
       "      <td>[0.0009170887873128473]</td>\n",
       "      <td>[0.0005187734956302536]</td>\n",
       "      <td>[1.0147576514656087]</td>\n",
       "    </tr>\n",
       "    <tr>\n",
       "      <th>8</th>\n",
       "      <td>baseline_v3.3_10yrs</td>\n",
       "      <td>3</td>\n",
       "      <td>25.843019</td>\n",
       "      <td>25.824180</td>\n",
       "      <td>0.217975</td>\n",
       "      <td>0.277805</td>\n",
       "      <td>[1.0199166215865432]</td>\n",
       "      <td>[0.003335943115555009]</td>\n",
       "      <td>[0.0019078745150868837]</td>\n",
       "      <td>[1.0199166215865432]</td>\n",
       "    </tr>\n",
       "    <tr>\n",
       "      <th>9</th>\n",
       "      <td>noroll_v3.3_10yrs</td>\n",
       "      <td>3</td>\n",
       "      <td>25.866495</td>\n",
       "      <td>25.839571</td>\n",
       "      <td>0.168145</td>\n",
       "      <td>0.213265</td>\n",
       "      <td>[1.0321636687717017]</td>\n",
       "      <td>[0.004183810319393422]</td>\n",
       "      <td>[0.00245539385220464]</td>\n",
       "      <td>[1.0321636687717017]</td>\n",
       "    </tr>\n",
       "    <tr>\n",
       "      <th>10</th>\n",
       "      <td>roll_mid1_const_season4v3.3_10yrs</td>\n",
       "      <td>3</td>\n",
       "      <td>25.843019</td>\n",
       "      <td>25.824180</td>\n",
       "      <td>0.217975</td>\n",
       "      <td>0.277805</td>\n",
       "      <td>[1.0191915481076848]</td>\n",
       "      <td>[0.003177895365363696]</td>\n",
       "      <td>[0.0018146902653484152]</td>\n",
       "      <td>[1.0191915481076848]</td>\n",
       "    </tr>\n",
       "    <tr>\n",
       "      <th>11</th>\n",
       "      <td>roll_mid2_const_season2v3.3_10yrs</td>\n",
       "      <td>3</td>\n",
       "      <td>25.843019</td>\n",
       "      <td>25.824180</td>\n",
       "      <td>0.217975</td>\n",
       "      <td>0.277805</td>\n",
       "      <td>[1.0207971206686028]</td>\n",
       "      <td>[0.003527869731301799]</td>\n",
       "      <td>[0.0020214108400983316]</td>\n",
       "      <td>[1.0207971206686028]</td>\n",
       "    </tr>\n",
       "    <tr>\n",
       "      <th>12</th>\n",
       "      <td>baseline_v3.3_10yrs</td>\n",
       "      <td>4</td>\n",
       "      <td>25.994479</td>\n",
       "      <td>25.965053</td>\n",
       "      <td>0.172323</td>\n",
       "      <td>0.220420</td>\n",
       "      <td>[1.0564729520356317]</td>\n",
       "      <td>[0.002207347899973643]</td>\n",
       "      <td>[0.0013624065267665581]</td>\n",
       "      <td>[1.0564729520356317]</td>\n",
       "    </tr>\n",
       "    <tr>\n",
       "      <th>13</th>\n",
       "      <td>noroll_v3.3_10yrs</td>\n",
       "      <td>4</td>\n",
       "      <td>26.001999</td>\n",
       "      <td>25.975704</td>\n",
       "      <td>0.164686</td>\n",
       "      <td>0.209550</td>\n",
       "      <td>[1.0631615588649976]</td>\n",
       "      <td>[0.0030394477924753217]</td>\n",
       "      <td>[0.0019018054360299317]</td>\n",
       "      <td>[1.0631615588649976]</td>\n",
       "    </tr>\n",
       "    <tr>\n",
       "      <th>14</th>\n",
       "      <td>roll_mid1_const_season4v3.3_10yrs</td>\n",
       "      <td>4</td>\n",
       "      <td>25.994479</td>\n",
       "      <td>25.965053</td>\n",
       "      <td>0.172323</td>\n",
       "      <td>0.220420</td>\n",
       "      <td>[1.0584338981638914]</td>\n",
       "      <td>[0.002545264766746319]</td>\n",
       "      <td>[0.0015772947341608497]</td>\n",
       "      <td>[1.0584338981638914]</td>\n",
       "    </tr>\n",
       "    <tr>\n",
       "      <th>15</th>\n",
       "      <td>roll_mid2_const_season2v3.3_10yrs</td>\n",
       "      <td>4</td>\n",
       "      <td>25.998938</td>\n",
       "      <td>25.971084</td>\n",
       "      <td>0.168606</td>\n",
       "      <td>0.208984</td>\n",
       "      <td>[1.0627384688825088]</td>\n",
       "      <td>[0.0030443936102614744]</td>\n",
       "      <td>[0.001903258758043159]</td>\n",
       "      <td>[1.0627384688825088]</td>\n",
       "    </tr>\n",
       "    <tr>\n",
       "      <th>16</th>\n",
       "      <td>baseline_v3.3_10yrs</td>\n",
       "      <td>5</td>\n",
       "      <td>26.073056</td>\n",
       "      <td>26.048741</td>\n",
       "      <td>0.179762</td>\n",
       "      <td>0.229556</td>\n",
       "      <td>[1.076877285018276]</td>\n",
       "      <td>[0.00448027406701687]</td>\n",
       "      <td>[0.002882260563883267]</td>\n",
       "      <td>[1.076877285018276]</td>\n",
       "    </tr>\n",
       "    <tr>\n",
       "      <th>17</th>\n",
       "      <td>noroll_v3.3_10yrs</td>\n",
       "      <td>5</td>\n",
       "      <td>26.095760</td>\n",
       "      <td>26.066504</td>\n",
       "      <td>0.162930</td>\n",
       "      <td>0.207229</td>\n",
       "      <td>[1.0832493529535487]</td>\n",
       "      <td>[0.004477278941510305]</td>\n",
       "      <td>[0.0029173797478277493]</td>\n",
       "      <td>[1.0832493529535487]</td>\n",
       "    </tr>\n",
       "    <tr>\n",
       "      <th>18</th>\n",
       "      <td>roll_mid1_const_season4v3.3_10yrs</td>\n",
       "      <td>5</td>\n",
       "      <td>26.073056</td>\n",
       "      <td>26.048741</td>\n",
       "      <td>0.179762</td>\n",
       "      <td>0.229556</td>\n",
       "      <td>[1.0778238045042146]</td>\n",
       "      <td>[0.004650422058001217]</td>\n",
       "      <td>[0.0029974193427034887]</td>\n",
       "      <td>[1.0778238045042146]</td>\n",
       "    </tr>\n",
       "    <tr>\n",
       "      <th>19</th>\n",
       "      <td>roll_mid2_const_season2v3.3_10yrs</td>\n",
       "      <td>5</td>\n",
       "      <td>26.079259</td>\n",
       "      <td>26.051510</td>\n",
       "      <td>0.170167</td>\n",
       "      <td>0.214207</td>\n",
       "      <td>[1.0759862306297743]</td>\n",
       "      <td>[0.00397339920389346]</td>\n",
       "      <td>[0.0025515974339329435]</td>\n",
       "      <td>[1.0759862306297743]</td>\n",
       "    </tr>\n",
       "    <tr>\n",
       "      <th>20</th>\n",
       "      <td>baseline_v3.3_10yrs</td>\n",
       "      <td>6</td>\n",
       "      <td>26.163027</td>\n",
       "      <td>26.128642</td>\n",
       "      <td>0.164549</td>\n",
       "      <td>0.209568</td>\n",
       "      <td>[1.0824376958786714]</td>\n",
       "      <td>[0.0038195108360711922]</td>\n",
       "      <td>[0.002484742500007198]</td>\n",
       "      <td>[1.0824376958786714]</td>\n",
       "    </tr>\n",
       "    <tr>\n",
       "      <th>21</th>\n",
       "      <td>noroll_v3.3_10yrs</td>\n",
       "      <td>6</td>\n",
       "      <td>26.176187</td>\n",
       "      <td>26.145911</td>\n",
       "      <td>0.160461</td>\n",
       "      <td>0.205025</td>\n",
       "      <td>[1.0811445697955635]</td>\n",
       "      <td>[0.0036329274284993313]</td>\n",
       "      <td>[0.002357250920618191]</td>\n",
       "      <td>[1.0811445697955635]</td>\n",
       "    </tr>\n",
       "    <tr>\n",
       "      <th>22</th>\n",
       "      <td>roll_mid1_const_season4v3.3_10yrs</td>\n",
       "      <td>6</td>\n",
       "      <td>26.163752</td>\n",
       "      <td>26.131106</td>\n",
       "      <td>0.163676</td>\n",
       "      <td>0.206228</td>\n",
       "      <td>[1.0820187995900612]</td>\n",
       "      <td>[0.0037823773404701906]</td>\n",
       "      <td>[0.00245852343632807]</td>\n",
       "      <td>[1.0820187995900612]</td>\n",
       "    </tr>\n",
       "    <tr>\n",
       "      <th>23</th>\n",
       "      <td>roll_mid2_const_season2v3.3_10yrs</td>\n",
       "      <td>6</td>\n",
       "      <td>26.150330</td>\n",
       "      <td>26.125805</td>\n",
       "      <td>0.172830</td>\n",
       "      <td>0.216421</td>\n",
       "      <td>[1.083847754411187]</td>\n",
       "      <td>[0.004210382665504092]</td>\n",
       "      <td>[0.0027467550939285126]</td>\n",
       "      <td>[1.083847754411187]</td>\n",
       "    </tr>\n",
       "    <tr>\n",
       "      <th>24</th>\n",
       "      <td>baseline_v3.3_10yrs</td>\n",
       "      <td>7</td>\n",
       "      <td>26.220376</td>\n",
       "      <td>26.191188</td>\n",
       "      <td>0.169301</td>\n",
       "      <td>0.216515</td>\n",
       "      <td>[1.091915594210464]</td>\n",
       "      <td>[0.00514120323692512]</td>\n",
       "      <td>[0.003408320601131455]</td>\n",
       "      <td>[1.091915594210464]</td>\n",
       "    </tr>\n",
       "    <tr>\n",
       "      <th>25</th>\n",
       "      <td>noroll_v3.3_10yrs</td>\n",
       "      <td>7</td>\n",
       "      <td>26.244674</td>\n",
       "      <td>26.215919</td>\n",
       "      <td>0.158385</td>\n",
       "      <td>0.200181</td>\n",
       "      <td>[1.0952763584488785]</td>\n",
       "      <td>[0.005363469741960598]</td>\n",
       "      <td>[0.0035794223723986268]</td>\n",
       "      <td>[1.0952763584488785]</td>\n",
       "    </tr>\n",
       "    <tr>\n",
       "      <th>26</th>\n",
       "      <td>roll_mid1_const_season4v3.3_10yrs</td>\n",
       "      <td>7</td>\n",
       "      <td>26.229882</td>\n",
       "      <td>26.197229</td>\n",
       "      <td>0.164338</td>\n",
       "      <td>0.203573</td>\n",
       "      <td>[1.0875542645058358]</td>\n",
       "      <td>[0.004192619945118195]</td>\n",
       "      <td>[0.0027554701888722593]</td>\n",
       "      <td>[1.0875542645058358]</td>\n",
       "    </tr>\n",
       "    <tr>\n",
       "      <th>27</th>\n",
       "      <td>roll_mid2_const_season2v3.3_10yrs</td>\n",
       "      <td>7</td>\n",
       "      <td>26.225658</td>\n",
       "      <td>26.197432</td>\n",
       "      <td>0.159537</td>\n",
       "      <td>0.194986</td>\n",
       "      <td>[1.0967408630572713]</td>\n",
       "      <td>[0.005535715629313737]</td>\n",
       "      <td>[0.003705084607779593]</td>\n",
       "      <td>[1.0967408630572713]</td>\n",
       "    </tr>\n",
       "    <tr>\n",
       "      <th>28</th>\n",
       "      <td>baseline_v3.3_10yrs</td>\n",
       "      <td>8</td>\n",
       "      <td>26.284233</td>\n",
       "      <td>26.248194</td>\n",
       "      <td>0.164319</td>\n",
       "      <td>0.209159</td>\n",
       "      <td>[1.0917349521791253]</td>\n",
       "      <td>[0.0056342303446411945]</td>\n",
       "      <td>[0.003733830510307723]</td>\n",
       "      <td>[1.0917349521791253]</td>\n",
       "    </tr>\n",
       "    <tr>\n",
       "      <th>29</th>\n",
       "      <td>noroll_v3.3_10yrs</td>\n",
       "      <td>8</td>\n",
       "      <td>26.300066</td>\n",
       "      <td>26.270944</td>\n",
       "      <td>0.161353</td>\n",
       "      <td>0.205426</td>\n",
       "      <td>[1.0996215645262961]</td>\n",
       "      <td>[0.006231810278361887]</td>\n",
       "      <td>[0.004194756454105185]</td>\n",
       "      <td>[1.0996215645262961]</td>\n",
       "    </tr>\n",
       "    <tr>\n",
       "      <th>30</th>\n",
       "      <td>roll_mid1_const_season4v3.3_10yrs</td>\n",
       "      <td>8</td>\n",
       "      <td>26.276764</td>\n",
       "      <td>26.249561</td>\n",
       "      <td>0.169345</td>\n",
       "      <td>0.214077</td>\n",
       "      <td>[1.0941476538930928]</td>\n",
       "      <td>[0.006243198148893325]</td>\n",
       "      <td>[0.004157230722209084]</td>\n",
       "      <td>[1.0941476538930928]</td>\n",
       "    </tr>\n",
       "    <tr>\n",
       "      <th>31</th>\n",
       "      <td>roll_mid2_const_season2v3.3_10yrs</td>\n",
       "      <td>8</td>\n",
       "      <td>26.280701</td>\n",
       "      <td>26.251996</td>\n",
       "      <td>0.160191</td>\n",
       "      <td>0.197616</td>\n",
       "      <td>[1.1005571547623298]</td>\n",
       "      <td>[0.0069101407721389955]</td>\n",
       "      <td>[0.00465993278832659]</td>\n",
       "      <td>[1.1005571547623298]</td>\n",
       "    </tr>\n",
       "    <tr>\n",
       "      <th>32</th>\n",
       "      <td>baseline_v3.3_10yrs</td>\n",
       "      <td>9</td>\n",
       "      <td>26.337261</td>\n",
       "      <td>26.305354</td>\n",
       "      <td>0.167004</td>\n",
       "      <td>0.218167</td>\n",
       "      <td>[1.1048613126795093]</td>\n",
       "      <td>[0.005531059740888297]</td>\n",
       "      <td>[0.003761610932607595]</td>\n",
       "      <td>[1.1048613126795093]</td>\n",
       "    </tr>\n",
       "    <tr>\n",
       "      <th>33</th>\n",
       "      <td>noroll_v3.3_10yrs</td>\n",
       "      <td>9</td>\n",
       "      <td>26.361844</td>\n",
       "      <td>26.331324</td>\n",
       "      <td>0.158527</td>\n",
       "      <td>0.201136</td>\n",
       "      <td>[1.1067887694869893]</td>\n",
       "      <td>[0.005008812070928175]</td>\n",
       "      <td>[0.0034193249372709814]</td>\n",
       "      <td>[1.1067887694869893]</td>\n",
       "    </tr>\n",
       "    <tr>\n",
       "      <th>34</th>\n",
       "      <td>roll_mid1_const_season4v3.3_10yrs</td>\n",
       "      <td>9</td>\n",
       "      <td>26.337387</td>\n",
       "      <td>26.310529</td>\n",
       "      <td>0.159822</td>\n",
       "      <td>0.200847</td>\n",
       "      <td>[1.1065333997138815]</td>\n",
       "      <td>[0.005589420954418071]</td>\n",
       "      <td>[0.003813777205821893]</td>\n",
       "      <td>[1.1065333997138815]</td>\n",
       "    </tr>\n",
       "    <tr>\n",
       "      <th>35</th>\n",
       "      <td>roll_mid2_const_season2v3.3_10yrs</td>\n",
       "      <td>9</td>\n",
       "      <td>26.346489</td>\n",
       "      <td>26.315145</td>\n",
       "      <td>0.157351</td>\n",
       "      <td>0.196043</td>\n",
       "      <td>[1.1078550842929837]</td>\n",
       "      <td>[0.0055712473960514075]</td>\n",
       "      <td>[0.0038112216863407803]</td>\n",
       "      <td>[1.1078550842929837]</td>\n",
       "    </tr>\n",
       "  </tbody>\n",
       "</table>\n",
       "</div>"
      ],
      "text/plain": [
       "                             Strategy  Year  Median i-band depth  \\\n",
       "0                 baseline_v3.3_10yrs     1            25.252161   \n",
       "1                   noroll_v3.3_10yrs     1            25.252161   \n",
       "2   roll_mid1_const_season4v3.3_10yrs     1            25.252161   \n",
       "3   roll_mid2_const_season2v3.3_10yrs     1            25.252161   \n",
       "4                 baseline_v3.3_10yrs     2            25.635288   \n",
       "5                   noroll_v3.3_10yrs     2            25.626280   \n",
       "6   roll_mid1_const_season4v3.3_10yrs     2            25.635288   \n",
       "7   roll_mid2_const_season2v3.3_10yrs     2            25.635288   \n",
       "8                 baseline_v3.3_10yrs     3            25.843019   \n",
       "9                   noroll_v3.3_10yrs     3            25.866495   \n",
       "10  roll_mid1_const_season4v3.3_10yrs     3            25.843019   \n",
       "11  roll_mid2_const_season2v3.3_10yrs     3            25.843019   \n",
       "12                baseline_v3.3_10yrs     4            25.994479   \n",
       "13                  noroll_v3.3_10yrs     4            26.001999   \n",
       "14  roll_mid1_const_season4v3.3_10yrs     4            25.994479   \n",
       "15  roll_mid2_const_season2v3.3_10yrs     4            25.998938   \n",
       "16                baseline_v3.3_10yrs     5            26.073056   \n",
       "17                  noroll_v3.3_10yrs     5            26.095760   \n",
       "18  roll_mid1_const_season4v3.3_10yrs     5            26.073056   \n",
       "19  roll_mid2_const_season2v3.3_10yrs     5            26.079259   \n",
       "20                baseline_v3.3_10yrs     6            26.163027   \n",
       "21                  noroll_v3.3_10yrs     6            26.176187   \n",
       "22  roll_mid1_const_season4v3.3_10yrs     6            26.163752   \n",
       "23  roll_mid2_const_season2v3.3_10yrs     6            26.150330   \n",
       "24                baseline_v3.3_10yrs     7            26.220376   \n",
       "25                  noroll_v3.3_10yrs     7            26.244674   \n",
       "26  roll_mid1_const_season4v3.3_10yrs     7            26.229882   \n",
       "27  roll_mid2_const_season2v3.3_10yrs     7            26.225658   \n",
       "28                baseline_v3.3_10yrs     8            26.284233   \n",
       "29                  noroll_v3.3_10yrs     8            26.300066   \n",
       "30  roll_mid1_const_season4v3.3_10yrs     8            26.276764   \n",
       "31  roll_mid2_const_season2v3.3_10yrs     8            26.280701   \n",
       "32                baseline_v3.3_10yrs     9            26.337261   \n",
       "33                  noroll_v3.3_10yrs     9            26.361844   \n",
       "34  roll_mid1_const_season4v3.3_10yrs     9            26.337387   \n",
       "35  roll_mid2_const_season2v3.3_10yrs     9            26.346489   \n",
       "\n",
       "    Mean i-band depth  Std i-band depth  IQR i-band depth  \\\n",
       "0           25.233240          0.184610          0.235948   \n",
       "1           25.233240          0.184610          0.235948   \n",
       "2           25.233240          0.184610          0.235948   \n",
       "3           25.233240          0.184610          0.235948   \n",
       "4           25.598740          0.197662          0.260341   \n",
       "5           25.601309          0.170386          0.215176   \n",
       "6           25.598740          0.197662          0.260341   \n",
       "7           25.598740          0.197662          0.260341   \n",
       "8           25.824180          0.217975          0.277805   \n",
       "9           25.839571          0.168145          0.213265   \n",
       "10          25.824180          0.217975          0.277805   \n",
       "11          25.824180          0.217975          0.277805   \n",
       "12          25.965053          0.172323          0.220420   \n",
       "13          25.975704          0.164686          0.209550   \n",
       "14          25.965053          0.172323          0.220420   \n",
       "15          25.971084          0.168606          0.208984   \n",
       "16          26.048741          0.179762          0.229556   \n",
       "17          26.066504          0.162930          0.207229   \n",
       "18          26.048741          0.179762          0.229556   \n",
       "19          26.051510          0.170167          0.214207   \n",
       "20          26.128642          0.164549          0.209568   \n",
       "21          26.145911          0.160461          0.205025   \n",
       "22          26.131106          0.163676          0.206228   \n",
       "23          26.125805          0.172830          0.216421   \n",
       "24          26.191188          0.169301          0.216515   \n",
       "25          26.215919          0.158385          0.200181   \n",
       "26          26.197229          0.164338          0.203573   \n",
       "27          26.197432          0.159537          0.194986   \n",
       "28          26.248194          0.164319          0.209159   \n",
       "29          26.270944          0.161353          0.205426   \n",
       "30          26.249561          0.169345          0.214077   \n",
       "31          26.251996          0.160191          0.197616   \n",
       "32          26.305354          0.167004          0.218167   \n",
       "33          26.331324          0.158527          0.201136   \n",
       "34          26.310529          0.159822          0.200847   \n",
       "35          26.315145          0.157351          0.196043   \n",
       "\n",
       "                  Mean z                      Std z  \\\n",
       "0   [0.9722923997989711]   [0.00010158607833066036]   \n",
       "1   [0.9740059874664743]   [0.00041793226686978954]   \n",
       "2   [0.9718516302092206]   [2.0215406502304293e-05]   \n",
       "3   [0.9711732583186665]  [-0.00010501913273872353]   \n",
       "4   [1.0122095665439061]   [0.00041342903405382046]   \n",
       "5   [1.0159679535146582]    [0.0010445817586262824]   \n",
       "6   [1.0123701921085657]   [0.00044517861648511313]   \n",
       "7   [1.0147576514656087]    [0.0009170887873128473]   \n",
       "8   [1.0199166215865432]     [0.003335943115555009]   \n",
       "9   [1.0321636687717017]     [0.004183810319393422]   \n",
       "10  [1.0191915481076848]     [0.003177895365363696]   \n",
       "11  [1.0207971206686028]     [0.003527869731301799]   \n",
       "12  [1.0564729520356317]     [0.002207347899973643]   \n",
       "13  [1.0631615588649976]    [0.0030394477924753217]   \n",
       "14  [1.0584338981638914]     [0.002545264766746319]   \n",
       "15  [1.0627384688825088]    [0.0030443936102614744]   \n",
       "16   [1.076877285018276]      [0.00448027406701687]   \n",
       "17  [1.0832493529535487]     [0.004477278941510305]   \n",
       "18  [1.0778238045042146]     [0.004650422058001217]   \n",
       "19  [1.0759862306297743]      [0.00397339920389346]   \n",
       "20  [1.0824376958786714]    [0.0038195108360711922]   \n",
       "21  [1.0811445697955635]    [0.0036329274284993313]   \n",
       "22  [1.0820187995900612]    [0.0037823773404701906]   \n",
       "23   [1.083847754411187]     [0.004210382665504092]   \n",
       "24   [1.091915594210464]      [0.00514120323692512]   \n",
       "25  [1.0952763584488785]     [0.005363469741960598]   \n",
       "26  [1.0875542645058358]     [0.004192619945118195]   \n",
       "27  [1.0967408630572713]     [0.005535715629313737]   \n",
       "28  [1.0917349521791253]    [0.0056342303446411945]   \n",
       "29  [1.0996215645262961]     [0.006231810278361887]   \n",
       "30  [1.0941476538930928]     [0.006243198148893325]   \n",
       "31  [1.1005571547623298]    [0.0069101407721389955]   \n",
       "32  [1.1048613126795093]     [0.005531059740888297]   \n",
       "33  [1.1067887694869893]     [0.005008812070928175]   \n",
       "34  [1.1065333997138815]     [0.005589420954418071]   \n",
       "35  [1.1078550842929837]    [0.0055712473960514075]   \n",
       "\n",
       "                       Clbias            Used meanz  \n",
       "0     [5.239210016071872e-05]  [0.9722923997989711]  \n",
       "1    [0.00021636621029771951]  [0.9740059874664743]  \n",
       "2    [1.0415706475773967e-05]  [0.9718516302092206]  \n",
       "3   [-5.4028096448392226e-05]  [0.9711732583186665]  \n",
       "4    [0.00023259763684182257]  [1.0122095665439061]  \n",
       "5     [0.0005924187095530547]  [1.0159679535146582]  \n",
       "6     [0.0002505461252617472]  [1.0123701921085657]  \n",
       "7     [0.0005187734956302536]  [1.0147576514656087]  \n",
       "8     [0.0019078745150868837]  [1.0199166215865432]  \n",
       "9       [0.00245539385220464]  [1.0321636687717017]  \n",
       "10    [0.0018146902653484152]  [1.0191915481076848]  \n",
       "11    [0.0020214108400983316]  [1.0207971206686028]  \n",
       "12    [0.0013624065267665581]  [1.0564729520356317]  \n",
       "13    [0.0019018054360299317]  [1.0631615588649976]  \n",
       "14    [0.0015772947341608497]  [1.0584338981638914]  \n",
       "15     [0.001903258758043159]  [1.0627384688825088]  \n",
       "16     [0.002882260563883267]   [1.076877285018276]  \n",
       "17    [0.0029173797478277493]  [1.0832493529535487]  \n",
       "18    [0.0029974193427034887]  [1.0778238045042146]  \n",
       "19    [0.0025515974339329435]  [1.0759862306297743]  \n",
       "20     [0.002484742500007198]  [1.0824376958786714]  \n",
       "21     [0.002357250920618191]  [1.0811445697955635]  \n",
       "22      [0.00245852343632807]  [1.0820187995900612]  \n",
       "23    [0.0027467550939285126]   [1.083847754411187]  \n",
       "24     [0.003408320601131455]   [1.091915594210464]  \n",
       "25    [0.0035794223723986268]  [1.0952763584488785]  \n",
       "26    [0.0027554701888722593]  [1.0875542645058358]  \n",
       "27     [0.003705084607779593]  [1.0967408630572713]  \n",
       "28     [0.003733830510307723]  [1.0917349521791253]  \n",
       "29     [0.004194756454105185]  [1.0996215645262961]  \n",
       "30     [0.004157230722209084]  [1.0941476538930928]  \n",
       "31      [0.00465993278832659]  [1.1005571547623298]  \n",
       "32     [0.003761610932607595]  [1.1048613126795093]  \n",
       "33    [0.0034193249372709814]  [1.1067887694869893]  \n",
       "34     [0.003813777205821893]  [1.1065333997138815]  \n",
       "35    [0.0038112216863407803]  [1.1078550842929837]  "
      ]
     },
     "metadata": {},
     "output_type": "display_data"
    }
   ],
   "source": [
    "import numpy as np\n",
    "import pandas as pd\n",
    "import importlib\n",
    "importlib.reload(mzmod)\n",
    "\n",
    "v33_sim_list = ['/pscratch/sd/r/rhlozek/rubin_sim_data/sim_baseline/baseline_v3.3_10yrs.db',\n",
    "           '/pscratch/sd/r/rhlozek/rubin_sim_data/noroll/noroll_v3.3_10yrs.db',\n",
    "            '/pscratch/sd/r/rhlozek/rubin_sim_data/noroll/roll_mid1_const_season4v3.3_10yrs.db',\n",
    "           '/pscratch/sd/r/rhlozek/rubin_sim_data/noroll/roll_mid2_const_season2v3.3_10yrs.db']\n",
    "v33_name_list = [path.splitext(path.basename(sim))[0] for sim in v33_sim_list]\n",
    "nums =len(v33_name_list)\n",
    "v33_df = mzmod.get_year_by_year_metrics_jn(np.arange(1,10), v33_name_list[:nums], v33_sim_list[:nums])\n",
    "display(v33_df)"
   ]
  },
  {
   "cell_type": "code",
   "execution_count": 14,
   "metadata": {},
   "outputs": [
    {
     "data": {
      "image/png": "[encoded data removed]",
      "text/plain": [
       "<Figure size 640x480 with 1 Axes>"
      ]
     },
     "metadata": {},
     "output_type": "display_data"
    }
   ],
   "source": [
    "importlib.reload(mzmod)\n",
    "\n",
    "#mzmod.plot_meanz_metrics_by_year(v33_df, years=[3,5],num_bins=5)\n",
    "mzmod.plot_metric_by_year(v33_df, 'Clbias')\n",
    "#mzmod.plot_metric_by_year(v33_df, 'Std z')"
   ]
  },
  {
   "cell_type": "code",
   "execution_count": 8,
   "metadata": {
    "tags": []
   },
   "outputs": [],
   "source": [
    "v33_df.to_pickle('v33_dataframe_withmeanz.pkl')"
   ]
  },
  {
   "cell_type": "code",
   "execution_count": 9,
   "metadata": {},
   "outputs": [
    {
     "name": "stdout",
     "output_type": "stream",
     "text": [
      "[0.046745091529873814, 0.08500551112138602, 0.11915807457810432, 0.16180047285571472, 0.2539575165815878]\n"
     ]
    }
   ],
   "source": [
    "vec = mzmod.sensitivity(num_bins=5,fiducial_ilim=24.1)\n",
    "print(vec)\n",
    "# import numpy.random as random\n",
    "# vec = np.linspace(2,18,17)\n",
    "# print(vec)\n",
    "# random.shuffle(vec)\n",
    "# print(vec)"
   ]
  },
  {
   "cell_type": "code",
   "execution_count": 10,
   "metadata": {},
   "outputs": [],
   "source": [
    "# import matplotlib.pyplot as plt\n",
    "# fig, axs = plt.subplots(5,1,sharex=True)\n",
    "# x=np.linspace(0,5,100)\n",
    "# axs[0].plot(x,x**2)\n",
    "# axs[3].plot(x,x**2)"
   ]
  },
  {
   "cell_type": "markdown",
   "metadata": {},
   "source": [
    "### Here we plot the year-by-year metric results.  We read in from the dataframe, so if it was already produced, we can skip over the previous chunk of notebook."
   ]
  },
  {
   "cell_type": "code",
   "execution_count": 11,
   "metadata": {
    "tags": []
   },
   "outputs": [
    {
     "data": {
      "image/png": "[encoded data removed]",
      "text/plain": [
       "<Figure size 640x480 with 1 Axes>"
      ]
     },
     "metadata": {},
     "output_type": "display_data"
    }
   ],
   "source": [
    "v33_df = pd.read_pickle('v33_dataframe_withmeanz.pkl')\n",
    "mzmod.plot_metric_by_year(v33_df, 'Mean i-band depth')"
   ]
  }
 ],
 "metadata": {
  "kernelspec": {
   "display_name": "desc-stack-weekly-latest",
   "language": "python",
   "name": "desc-stack-weekly-latest"
  },
  "language_info": {
   "codemirror_mode": {
    "name": "ipython",
    "version": 3
   },
   "file_extension": ".py",
   "mimetype": "text/x-python",
   "name": "python",
   "nbconvert_exporter": "python",
   "pygments_lexer": "ipython3",
   "version": "3.11.4"
  }
 },
 "nbformat": 4,
 "nbformat_minor": 4
}
