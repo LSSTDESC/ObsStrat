{
 "cells": [
  {
   "cell_type": "code",
   "execution_count": 8,
   "id": "communist-hopkins",
   "metadata": {},
   "outputs": [],
   "source": [
    "# basic imports\n",
    "\n",
    "%matplotlib inline\n",
    "import matplotlib.pyplot as plt\n",
    "import numpy as np\n",
    "import scipy as sp"
   ]
  },
  {
   "cell_type": "markdown",
   "id": "unsigned-mistake",
   "metadata": {},
   "source": [
    "Based on remapping the SRD distributions to alpha = 0.92,\n",
    "    $z0$ parameter of z distribution vs i limiting magnitude $ilim$ is:\n",
    " $z0 = 0.246 + 0.025*(ilim-24.1)$"
   ]
  },
  {
   "cell_type": "code",
   "execution_count": 9,
   "id": "seventh-tracker",
   "metadata": {},
   "outputs": [],
   "source": [
    "# First, we are going to create Monte Carlo samples from the SRD\n",
    "# distributions of i magnitude and p(z | i)\n",
    "\n",
    "# set up to make interpolation tables\n",
    "# can change the i magnitude range of objects or the z\n",
    "# range to consider in this cell\n",
    "imin = 17\n",
    "imax= 27\n",
    "ni = 101\n",
    "deltai = (imax-imin)/(ni-1)\n",
    "\n",
    "zmin = 0\n",
    "zmax = 4\n",
    "nz = 401\n",
    "deltaz = (zmax-zmin)/(nz-1)\n",
    "\n",
    "ival=np.linspace(imin,imax,ni)\n",
    "z=np.linspace(zmin,zmax,nz)\n",
    "\n",
    "# these grids are for interpolation tables\n",
    "# that I didn't get to work\n",
    "#ivals,zvals = np.meshgrid(ival,z)\n",
    "#z0s = 0.246 + 0.025*(ivals-24.1)\n"
   ]
  },
  {
   "cell_type": "code",
   "execution_count": 10,
   "id": "noble-classroom",
   "metadata": {},
   "outputs": [],
   "source": [
    "# generate a normalized cumulative distribution \n",
    "# corresponding to n(<i) from the SRD\n",
    "# for the Monte Carlo we want the values to run from 0 to 1\n",
    "\n",
    "n_of_i = 42.9*0.88*10**(0.359*(ival-25))\n",
    "n_of_i = n_of_i / n_of_i[ni-1]"
   ]
  },
  {
   "cell_type": "code",
   "execution_count": 11,
   "id": "structural-broadcasting",
   "metadata": {},
   "outputs": [],
   "source": [
    "#needed the below for %%timeit to work and the slow generation step not to be even slower due to error messages\n",
    "\n",
    "import sys\n",
    "\n",
    "if not sys.warnoptions:\n",
    "    import warnings\n",
    "    warnings.simplefilter(\"ignore\")"
   ]
  },
  {
   "cell_type": "code",
   "execution_count": 12,
   "id": "developmental-belief",
   "metadata": {},
   "outputs": [],
   "source": [
    "# some more imports we'll need soon\n",
    "import pandas\n",
    "from photerr import LsstErrorModel\n",
    "import os.path\n",
    "\n",
    "filename = 'saved_catalog.feather'\n",
    "# if generate = True we will calculate new monte carlo for distribution in i and redshift;\n",
    "# if generate = False then we will use an existing file\n",
    "generate = False\n",
    "\n",
    "# double-check that file actually exists, if not we will generate it no matter what\n",
    "\n",
    "if (os.path.isfile(filename) == False):\n",
    "    generate = True \n",
    "\n",
    "if generate:\n",
    "    # number of objects to generate.  Need >>1M looks like\n",
    "    n_mc = 30_000_000\n",
    "\n",
    "# generate random true i magnitudes up to imax following the \n",
    "# distribution calculated in the above cell\n",
    "    true_i = np.interp(np.random.random_sample(n_mc),n_of_i,ival)\n",
    "\n",
    "# array to contain the true redshift for each MC object\n",
    "    true_z = np.zeros_like(true_i)\n",
    "\n",
    "#based on the drawn i magnitude for each object,\n",
    "#   draw a random z from p(z,i)\n",
    "# i was hoping to avoid calculating all this for every\n",
    "# object but failed to get interpolation to work.  This \n",
    "# does ok but is a bit slower than i'd like\n",
    "\n",
    "    for idx,imag in enumerate(true_i):\n",
    "        z0 = 0.246 + 0.025*(imag-24.1)\n",
    "        dndi = (0.868296*10**(0.359*(imag-25))\n",
    "         *np.exp(-(z/z0)**0.92)*z**3)/( (z0**2)*(z/z0)**0.08) \n",
    "        dndi += 31.2069*10**(0.359*(imag-25))*np.exp(-(z/z0)**0.92)*z**2\n",
    "        dndi[np.isfinite(dndi) == 0] = 0.\n",
    "    \n",
    "        cdndi = np.cumsum(dndi)\n",
    "        cdndi = cdndi / cdndi[nz-1]\n",
    "        true_z[idx] = np.interp(np.random.random_sample(1),\n",
    "          cdndi,z)\n",
    "    d= {'i':true_i,'zarr':true_z}\n",
    "    catalog = pandas.DataFrame(data=d)\n",
    "    \n",
    "    catalog.to_feather(filename)\n",
    "else:\n",
    "    catalog = pandas.read_feather(filename)"
   ]
  },
  {
   "cell_type": "code",
   "execution_count": 13,
   "id": "honey-station",
   "metadata": {},
   "outputs": [
    {
     "data": {
      "text/plain": [
       "<matplotlib.legend.Legend at 0x7ff6b8b06d00>"
      ]
     },
     "execution_count": 13,
     "metadata": {},
     "output_type": "execute_result"
    },
    {
     "data": {
      "image/png": "[encoded data removed]",
      "text/plain": [
       "<Figure size 400x400 with 1 Axes>"
      ]
     },
     "metadata": {},
     "output_type": "display_data"
    }
   ],
   "source": [
    "#check redshift distributions\n",
    "\n",
    "imag=25.3\n",
    "z0 = 0.246 + 0.025*(imag-24.1)\n",
    "\n",
    "zdist = catalog[catalog['i'] < 25.3]['zarr']\n",
    "n,bins,edges = plt.hist(zdist,bins=200,histtype = 'step',label='i < 25.3 objects')\n",
    "\n",
    "z=(bins[0:-1]+bins[1:])/2.\n",
    "zdist = z**2*np.exp(-(z/z0)**0.92)\n",
    "plt.plot(z,zdist*np.sum(n)/np.sum(zdist),label='formula')\n",
    "plt.xlabel('Redshift')\n",
    "plt.legend()\n",
    "\n",
    "#this looks very slightly off, maybe due to plotting curve at bin center \n",
    "# vs. integrating over bin? Regardless seems good enough for what we are doing"
   ]
  },
  {
   "cell_type": "code",
   "execution_count": 14,
   "id": "fatty-supplier",
   "metadata": {},
   "outputs": [],
   "source": [
    "# set up grid of 5 sigma depths to consider\n",
    "\n",
    "m5s = np.linspace(25.75,28.25,26)"
   ]
  },
  {
   "cell_type": "code",
   "execution_count": 17,
   "id": "detected-reynolds",
   "metadata": {},
   "outputs": [],
   "source": [
    "# Need to  apply flux errors for different \n",
    "# depths as a function of true i magnitude. \n",
    "\n",
    "# note error in magnitude = 2.5/ln(10)*(sigma_f/f)\n",
    "\n",
    "summary_filename = 'results.feather'\n",
    "\n",
    "# if you want better statistics, we can generate more realizations of the noise.  \n",
    "# Since we are interested in shifts only, keeping the monte carlo the same but \n",
    "# generating more noise realizations should be fine\n",
    "\n",
    "# nreplicate should be an integer\n",
    "# avoid it for now: I ran out of memory running with it set to 4\n",
    "nreplicate = 1\n",
    "\n",
    "if nreplicate > 1:\n",
    "    catalog_rep = pandas.concat([catalog]*nreplicate, ignore_index=True)\n",
    "else:\n",
    "    catalog_rep = catalog.copy()\n",
    "\n",
    "meanz_253 = np.zeros_like(m5s)\n",
    "meanz_253_error = np.zeros_like(m5s)\n",
    "\n",
    "number_253 = np.zeros_like(m5s)\n",
    "number_253_error = np.zeros_like(m5s)\n",
    "\n",
    "true_z = catalog_rep['zarr']\n",
    "true_i = catalog_rep['i']\n",
    "\n",
    "for idx,m5 in enumerate(m5s):\n",
    "    errModel = LsstErrorModel(nYrObs=1,nVisYr={'i':1},m5={'i':float(m5)})\n",
    "    tmpcatalog = errModel(catalog_rep, \n",
    "      random_state=np.random.randint(1,100_000))\n",
    "    fluxes = 10**(-0.4*(tmpcatalog['i'] - 27))\n",
    "    fluxerrs = tmpcatalog['i_err']*np.log(10)/2.5*fluxes\n",
    "    noisy_i_flux = fluxes + fluxerrs*np.random.normal(size=tmpcatalog.count()[0])\n",
    "    # don't let fluxes go negative: limit corresponds to magnitude = 32\n",
    "    noisy_i_flux = np.maximum(noisy_i_flux, 0.01)\n",
    "    noisy_i = 27 - 2.5*np.log10(noisy_i_flux)\n",
    "    meanz_253[idx] = np.mean(tmpcatalog[noisy_i < 25.3]['zarr'])\n",
    "    number_253[idx] = np.sum(noisy_i < 25.3)\n",
    "    meanz_253_error[idx] = np.std(tmpcatalog[noisy_i < 25.3]['zarr'])/np.sqrt(number_253[idx])\n",
    "    number_253_error[idx] = np.sqrt(number_253[idx])\n",
    "\n",
    "meanz_253_true = np.mean(catalog_rep[true_i < 25.3]['zarr'])\n",
    "number_253_true = np.sum(true_i < 25.3)\n",
    "\n",
    "\n",
    "d= {'true_meanz':meanz_253_true,'true_n':number_253_true,'m5':m5s,'meanz':meanz_253,\n",
    "     'number': number_253, 'meanz_err':meanz_253_error,'number_err':number_253_error }\n",
    "outputs = pandas.DataFrame(data=d)\n",
    "\n",
    "outputs.to_feather(summary_filename)"
   ]
  },
  {
   "cell_type": "code",
   "execution_count": 31,
   "id": "written-bunny",
   "metadata": {},
   "outputs": [
    {
     "data": {
      "text/plain": [
       "Text(0, 0.5, '$\\\\Delta$ <z>')"
      ]
     },
     "execution_count": 31,
     "metadata": {},
     "output_type": "execute_result"
    },
    {
     "data": {
      "image/png": "[encoded data removed]",
      "text/plain": [
       "<Figure size 400x400 with 1 Axes>"
      ]
     },
     "metadata": {},
     "output_type": "display_data"
    }
   ],
   "source": [
    "plt.plot(outputs['m5'],outputs['meanz']-outputs['true_meanz'],'bo')\n",
    "plt.errorbar(outputs['m5'],outputs['meanz']-outputs['true_meanz'],outputs['meanz_err'],\n",
    "            fmt='none')\n",
    "plt.xlabel(r'5$\\sigma$ limiting magnitude')\n",
    "plt.ylabel(r'$\\Delta$ <z>')"
   ]
  },
  {
   "cell_type": "code",
   "execution_count": 36,
   "id": "civilian-skill",
   "metadata": {},
   "outputs": [
    {
     "data": {
      "text/plain": [
       "Text(0, 0.5, '$\\\\Delta \\\\Sigma / \\\\Sigma$')"
      ]
     },
     "execution_count": 36,
     "metadata": {},
     "output_type": "execute_result"
    },
    {
     "data": {
      "image/png": "[encoded data removed]",
      "text/plain": [
       "<Figure size 400x400 with 1 Axes>"
      ]
     },
     "metadata": {},
     "output_type": "display_data"
    }
   ],
   "source": [
    "plt.plot(outputs['m5'],outputs['number']/outputs['true_n'] - 1,'bo')\n",
    "plt.errorbar(outputs['m5'],outputs['number']/outputs['true_n'] - 1,outputs['number_err']/outputs['true_n'],\n",
    "            fmt='none')\n",
    "plt.xlabel(r'5$\\sigma$ limiting magnitude')\n",
    "plt.ylabel(r'$\\Delta \\Sigma / \\Sigma$')"
   ]
  },
  {
   "cell_type": "code",
   "execution_count": 18,
   "id": "bulgarian-yahoo",
   "metadata": {},
   "outputs": [
    {
     "name": "stdout",
     "output_type": "stream",
     "text": [
      "true photometry <z>: 0.9733\n",
      "noisy photometry <z>: 0.9734\n",
      "delta <z>: 0.0001\n",
      "error on delta <z>: 0.0003\n"
     ]
    }
   ],
   "source": [
    "# example calculations\n",
    "\n",
    "print(f'true photometry <z>: {np.mean(true_z[true_i < 25.3]):.4f}')\n",
    "print(f'noisy photometry <z>: {np.mean(true_z[noisy_i < 25.3]):.4f}')\n",
    "print(f'delta <z>: {np.mean(true_z[noisy_i < 25.3]) - np.mean(true_z[true_i < 25.3]):.4f}')\n",
    "print(f'error on delta <z>: {np.sqrt(2)*np.std(true_z[true_i < 25.3])/np.sqrt(np.sum(true_i < 25.3)):.4f}')\n"
   ]
  },
  {
   "cell_type": "code",
   "execution_count": 19,
   "id": "substantial-brazilian",
   "metadata": {},
   "outputs": [
    {
     "name": "stdout",
     "output_type": "stream",
     "text": [
      "true # of objects: 7.3582e+06\n",
      "noisy # of objects: 7.3643e+06\n",
      "fractional change: 0.0008\n",
      "error on fractional change: 0.0005\n"
     ]
    }
   ],
   "source": [
    "print(f'true # of objects: {np.sum(true_i < 25.3):.5g}')\n",
    "print(f'noisy # of objects: {np.sum(noisy_i < 25.3):.5g}')\n",
    "print(f'fractional change: {(np.sum(noisy_i < 25.3) - np.sum(true_i < 25.3))/np.sum(true_i < 25.3):.4f}')\n",
    "print(f'error on fractional change: {np.sqrt(np.sum(noisy_i < 25.3) + np.sum(true_i < 25.3))/np.sum(true_i < 25.3):.4f}')"
   ]
  },
  {
   "cell_type": "code",
   "execution_count": null,
   "id": "precise-owner",
   "metadata": {},
   "outputs": [],
   "source": [
    "# ~1 sec to generate 10k MCs\n",
    "\n",
    "# ~10 sec to add noise and calculate statistics for 1 choice of depth, 30M MCs\n"
   ]
  },
  {
   "cell_type": "code",
   "execution_count": null,
   "id": "cross-internet",
   "metadata": {},
   "outputs": [],
   "source": []
  },
  {
   "cell_type": "code",
   "execution_count": 135,
   "id": "excited-journal",
   "metadata": {},
   "outputs": [
    {
     "name": "stdout",
     "output_type": "stream",
     "text": [
      "False\n"
     ]
    }
   ],
   "source": [
    "import os.path\n",
    "filename = 'saved_catalog.feather'\n",
    "\n",
    "if (os.path.isfile(filename) == False):\n",
    "    generate = True \n",
    "    \n",
    "print(generate)"
   ]
  },
  {
   "cell_type": "code",
   "execution_count": 134,
   "id": "piano-plaza",
   "metadata": {},
   "outputs": [],
   "source": [
    "generate = False"
   ]
  },
  {
   "cell_type": "markdown",
   "id": "typical-philippines",
   "metadata": {},
   "source": [
    "# Various code from when I was playing with things is below, kept in case you want to check intermediate steps"
   ]
  },
  {
   "cell_type": "code",
   "execution_count": null,
   "id": "compressed-conducting",
   "metadata": {},
   "outputs": [],
   "source": [
    "# ignore this\n",
    "# didn't get interpolation to work, let's not calculate this\n",
    "# for now\n",
    "if 0:\n",
    "    dndis = (0.868296*10**(0.359*(ivals-25))\n",
    "         *exp(-(zvals/z0s)**0.92)*zvals**3)/( (z0s**2)*(zvals/z0s)**0.08) \n",
    "\n",
    "    dndis += 31.2069*10**(0.359*(ivals-25))*exp(-(zvals/z0s)**0.92)*zvals**2\n",
    "    dndis[np.isfinite(dndis) == 0] = 0.\n",
    "\n",
    "    cumzdist = np.zeros_like(dndis)\n",
    "\n",
    "    cumzdist = np.cumsum(dndis,axis = 0)\n",
    "    for i in arange(ni):\n",
    "        cumzdist[:,i]=cumzdist[:,i]/cumzdist[nz-1,i]"
   ]
  },
  {
   "cell_type": "code",
   "execution_count": 76,
   "id": "signed-sudan",
   "metadata": {},
   "outputs": [],
   "source": [
    "#ignore this\n",
    "\n",
    "#nyears = 10.0\n",
    "#nvisits_i = 18.4\n",
    "\n",
    "# nominal depth from ivezic et al. 2018\n",
    "#nominal_depth = 23.92+2.5*np.log10(nyears*nvisits_i)/2.\n",
    "#m5_nominal = np.min(catalog_with_errors[ \n",
    "#      catalog_with_errors['i_err'] > 0.2*2.5/np.log(10)]['i'])\n",
    "\n",
    "# make a grid in number of years, \n",
    "#    and calculate the corresponding m5 values\n",
    "#nyears = np.logspace(np.log10(2),np.log10(50),21)\n",
    "#m5s = m5_nominal +2.5*np.log10(nyears/10.)/2."
   ]
  },
  {
   "cell_type": "code",
   "execution_count": 10,
   "id": "minor-monroe",
   "metadata": {},
   "outputs": [],
   "source": [
    "alpha_mid = 0.92\n",
    "z0_mid = 1\n",
    "intz3_mid = 1/alpha_mid*z0_mid**4*sp.special.gamma(4/alpha_mid)\n",
    "intz2_mid = 1/alpha_mid*z0_mid**3*sp.special.gamma(3/alpha_mid)\n",
    "znorm_mid=intz3_mid/intz2_mid"
   ]
  },
  {
   "cell_type": "code",
   "execution_count": 7,
   "id": "instrumental-midwest",
   "metadata": {},
   "outputs": [],
   "source": [
    "# you can safely ignore all this stuff --\n",
    "# the next few cells are just figuring how to remap the SRD \n",
    "# redshift distributions to use fixed alpha=0.92 instead\n",
    "# of alphas of 0.9 and 0.94, keeping mean z the same\n",
    "\n",
    "alpha10 = 0.9\n",
    "z0_10 = 0.28\n",
    "intz3_y10 = 1/alpha10*z0_10**4*sp.special.gamma(4/alpha10)\n",
    "intz2_y10 = 1/alpha10*z0_10**3*sp.special.gamma(3/alpha10)\n",
    "zavg_10=intz3_y10/intz2_y10\n",
    "znorm_10 = zavg_10/z0_10"
   ]
  },
  {
   "cell_type": "code",
   "execution_count": 8,
   "id": "requested-murder",
   "metadata": {},
   "outputs": [],
   "source": [
    "alpha1 = 0.94\n",
    "z0_1 = 0.26\n",
    "intz3_y1 = 1/alpha1*z0_1**4*sp.special.gamma(4/alpha1)\n",
    "intz2_y1 = 1/alpha1*z0_1**3*sp.special.gamma(3/alpha1)\n",
    "zavg_1=intz3_y1/intz2_y1\n",
    "znorm_1 = zavg_1/z0_1"
   ]
  },
  {
   "cell_type": "code",
   "execution_count": 11,
   "id": "living-crack",
   "metadata": {},
   "outputs": [],
   "source": [
    "# equivalent z0 values for fixed alpha = 0.92\n",
    "z0_1m = z0_1*znorm_1 / znorm_mid\n",
    "z0_10m = z0_10*znorm_10 / znorm_mid"
   ]
  },
  {
   "cell_type": "code",
   "execution_count": 13,
   "id": "dedicated-uncertainty",
   "metadata": {},
   "outputs": [
    {
     "name": "stderr",
     "output_type": "stream",
     "text": [
      "/var/folders/15/b92d0zld655f8g95h7_482c40000gt/T/ipykernel_49940/4147977768.py:13: RuntimeWarning: invalid value encountered in divide\n",
      "  dndi = (0.868296*10**(0.359*(ival-25))\n"
     ]
    }
   ],
   "source": [
    "# calculated the derivative of SRD n(<i,z) with respect to i\n",
    "# limiting magnitude using Wolfram alpha.  The below is example \n",
    "# code that calculates the distribution of z at magnitude \n",
    "# ival (rather than for i < ival)\n",
    "\n",
    "z=np.linspace(0,4,401)\n",
    "ival=24.1\n",
    "z0 = 0.246 + 0.025*(ival-24.1)\n",
    "\n",
    "# tested this vs. the differential\n",
    "# redshift distribution for a small delta-z, looks good\n",
    "\n",
    "dndi = (0.868296*10**(0.359*(ival-25))\n",
    "         *np.exp(-(z/z0)**0.92)*z**3)/( (z0**2)*(z/z0)**0.08) \n",
    "\n",
    "dndi += 31.2069*10**(0.359*(ival-25))*np.exp(-(z/z0)**0.92)*z**2\n",
    "dndi[0]=0.\n",
    "\n",
    "# note: the warning you get is due to a NaN at z = 0, \n",
    "# which this code fixes"
   ]
  }
 ],
 "metadata": {
  "kernelspec": {
   "display_name": "Python 3 (ipykernel)",
   "language": "python",
   "name": "python3"
  },
  "language_info": {
   "codemirror_mode": {
    "name": "ipython",
    "version": 3
   },
   "file_extension": ".py",
   "mimetype": "text/x-python",
   "name": "python",
   "nbconvert_exporter": "python",
   "pygments_lexer": "ipython3",
   "version": "3.8.15"
  }
 },
 "nbformat": 4,
 "nbformat_minor": 5
}
