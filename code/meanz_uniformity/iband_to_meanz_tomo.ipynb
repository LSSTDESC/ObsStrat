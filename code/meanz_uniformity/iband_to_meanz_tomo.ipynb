{
 "cells": [
  {
   "cell_type": "code",
   "execution_count": 1,
   "metadata": {
    "tags": []
   },
   "outputs": [],
   "source": [
    "import meanz_modules as mzmod\n",
    "import rubin_sim\n",
    "import rubin_sim.maf as maf\n",
    "from rubin_sim.scheduler.utils import SkyAreaGenerator\n",
    "from rubin_sim.data import get_baseline\n",
    "\n",
    "from os import path\n",
    "\n",
    "opsim_fname = rubin_sim.data.get_baseline()\n",
    "run_name = path.splitext(path.basename(opsim_fname))[0]\n",
    "nside=64\n"
   ]
  },
  {
   "cell_type": "code",
   "execution_count": null,
   "metadata": {
    "tags": []
   },
   "outputs": [],
   "source": [
    "# # Apply the above routine to our baseline sim, and show the plots\n",
    "bgroup, bd = mzmod.metric_plots(run_name, opsim_fname, year=2,nside=nside)\n",
    "bgroup.plot_all(closefigs=False)"
   ]
  },
  {
   "cell_type": "code",
   "execution_count": 3,
   "metadata": {
    "tags": []
   },
   "outputs": [
    {
     "name": "stdout",
     "output_type": "stream",
     "text": [
      "0.044444444444444446 -0.7644444444444444\n"
     ]
    },
    {
     "name": "stderr",
     "output_type": "stream",
     "text": [
      "/opt/lsst/software/stack/conda/miniconda3-py38_4.9.2/envs/lsst-scipipe-7.0.1/lib/python3.11/site-packages/scipy/optimize/_minpack_py.py:906: OptimizeWarning: Covariance of the parameters could not be estimated\n",
      "  warnings.warn('Covariance of the parameters could not be estimated',\n"
     ]
    }
   ],
   "source": [
    "ilim = [24.1, 25.3]\n",
    "meanz = [0.92, 1.08]\n",
    "\n",
    "a,b = mzmod.coeff_solve(ilim,meanz)\n",
    "print(a,b)"
   ]
  },
  {
   "cell_type": "markdown",
   "metadata": {},
   "source": [
    "### Dataset definitions"
   ]
  },
  {
   "cell_type": "code",
   "execution_count": 2,
   "metadata": {
    "tags": []
   },
   "outputs": [],
   "source": [
    "v33_sim_list = ['/pscratch/sd/r/rhlozek/rubin_sim_data/sim_baseline/baseline_v3.3_10yrs.db',\n",
    "           '/pscratch/sd/r/rhlozek/rubin_sim_data/noroll/noroll_v3.3_10yrs.db',\n",
    "           '/pscratch/sd/r/rhlozek/rubin_sim_data/noroll/roll_mid1_const_season6v3.3_10yrs.db',\n",
    "           '/pscratch/sd/r/rhlozek/rubin_sim_data/noroll/roll_mid1_const_season2v3.3_10yrs.db',\n",
    "           '/pscratch/sd/r/rhlozek/rubin_sim_data/noroll/roll_mid1_const_season4v3.3_10yrs.db',\n",
    "           '/pscratch/sd/r/rhlozek/rubin_sim_data/noroll/roll_mid2_const_season2v3.3_10yrs.db',\n",
    "           '/pscratch/sd/r/rhlozek/rubin_sim_data/noroll/roll_mid2_const_season4v3.3_10yrs.db',\n",
    "           '/pscratch/sd/r/rhlozek/rubin_sim_data/noroll/roll_mid2_const_season6v3.3_10yrs.db',]\n",
    "v33_name_list = [path.splitext(path.basename(sim))[0] for sim in v33_sim_list]"
   ]
  },
  {
   "cell_type": "markdown",
   "metadata": {
    "tags": []
   },
   "source": [
    "## In this section, we get maps of the i-band depth across the survey for v3.3 simulations at year=3"
   ]
  },
  {
   "cell_type": "code",
   "execution_count": 3,
   "metadata": {
    "tags": []
   },
   "outputs": [
    {
     "name": "stdout",
     "output_type": "stream",
     "text": [
      "Healpix slicer using NSIDE=64, approximate resolution 54.967783 arcminutes\n"
     ]
    },
    {
     "name": "stderr",
     "output_type": "stream",
     "text": [
      "/opt/lsst/software/stack/conda/miniconda3-py38_4.9.2/envs/lsst-scipipe-7.0.1/lib/python3.11/site-packages/rubin_sim/maf/maps/dust_map.py:44: UserWarning: Slicer value of nside 64 different from map value 128, using slicer value\n",
      "  warnings.warn(\n"
     ]
    },
    {
     "name": "stdout",
     "output_type": "stream",
     "text": [
      "Healpix slicer using NSIDE=64, approximate resolution 54.967783 arcminutes\n"
     ]
    },
    {
     "name": "stderr",
     "output_type": "stream",
     "text": [
      "/opt/lsst/software/stack/conda/miniconda3-py38_4.9.2/envs/lsst-scipipe-7.0.1/lib/python3.11/site-packages/rubin_sim/maf/maps/dust_map.py:44: UserWarning: Slicer value of nside 64 different from map value 128, using slicer value\n",
      "  warnings.warn(\n"
     ]
    },
    {
     "name": "stdout",
     "output_type": "stream",
     "text": [
      "Healpix slicer using NSIDE=64, approximate resolution 54.967783 arcminutes\n"
     ]
    },
    {
     "name": "stderr",
     "output_type": "stream",
     "text": [
      "/opt/lsst/software/stack/conda/miniconda3-py38_4.9.2/envs/lsst-scipipe-7.0.1/lib/python3.11/site-packages/rubin_sim/maf/maps/dust_map.py:44: UserWarning: Slicer value of nside 64 different from map value 128, using slicer value\n",
      "  warnings.warn(\n"
     ]
    },
    {
     "name": "stdout",
     "output_type": "stream",
     "text": [
      "Healpix slicer using NSIDE=64, approximate resolution 54.967783 arcminutes\n"
     ]
    },
    {
     "name": "stderr",
     "output_type": "stream",
     "text": [
      "/opt/lsst/software/stack/conda/miniconda3-py38_4.9.2/envs/lsst-scipipe-7.0.1/lib/python3.11/site-packages/rubin_sim/maf/maps/dust_map.py:44: UserWarning: Slicer value of nside 64 different from map value 128, using slicer value\n",
      "  warnings.warn(\n"
     ]
    },
    {
     "name": "stdout",
     "output_type": "stream",
     "text": [
      "Healpix slicer using NSIDE=64, approximate resolution 54.967783 arcminutes\n"
     ]
    },
    {
     "name": "stderr",
     "output_type": "stream",
     "text": [
      "/opt/lsst/software/stack/conda/miniconda3-py38_4.9.2/envs/lsst-scipipe-7.0.1/lib/python3.11/site-packages/rubin_sim/maf/maps/dust_map.py:44: UserWarning: Slicer value of nside 64 different from map value 128, using slicer value\n",
      "  warnings.warn(\n"
     ]
    },
    {
     "name": "stdout",
     "output_type": "stream",
     "text": [
      "Healpix slicer using NSIDE=64, approximate resolution 54.967783 arcminutes\n"
     ]
    },
    {
     "name": "stderr",
     "output_type": "stream",
     "text": [
      "/opt/lsst/software/stack/conda/miniconda3-py38_4.9.2/envs/lsst-scipipe-7.0.1/lib/python3.11/site-packages/rubin_sim/maf/maps/dust_map.py:44: UserWarning: Slicer value of nside 64 different from map value 128, using slicer value\n",
      "  warnings.warn(\n"
     ]
    },
    {
     "name": "stdout",
     "output_type": "stream",
     "text": [
      "Healpix slicer using NSIDE=64, approximate resolution 54.967783 arcminutes\n"
     ]
    },
    {
     "name": "stderr",
     "output_type": "stream",
     "text": [
      "/opt/lsst/software/stack/conda/miniconda3-py38_4.9.2/envs/lsst-scipipe-7.0.1/lib/python3.11/site-packages/rubin_sim/maf/maps/dust_map.py:44: UserWarning: Slicer value of nside 64 different from map value 128, using slicer value\n",
      "  warnings.warn(\n"
     ]
    },
    {
     "name": "stdout",
     "output_type": "stream",
     "text": [
      "Healpix slicer using NSIDE=64, approximate resolution 54.967783 arcminutes\n"
     ]
    },
    {
     "name": "stderr",
     "output_type": "stream",
     "text": [
      "/opt/lsst/software/stack/conda/miniconda3-py38_4.9.2/envs/lsst-scipipe-7.0.1/lib/python3.11/site-packages/rubin_sim/maf/maps/dust_map.py:44: UserWarning: Slicer value of nside 64 different from map value 128, using slicer value\n",
      "  warnings.warn(\n"
     ]
    }
   ],
   "source": [
    "# Run our above routine for the v3.3 simulations at year 3\n",
    "for i in range(len(v33_sim_list)):\n",
    "    this_run = v33_sim_list[i]\n",
    "    this_fname = v33_name_list[i]\n",
    "    bgroup, bd = mzmod.metric_plots(this_fname, this_run, year=3)\n",
    "    #bgroup.plot_all(closefigs=False)"
   ]
  },
  {
   "cell_type": "markdown",
   "metadata": {},
   "source": [
    "### In this section, we run our metric calculations at each year for all v3.3 simulations and produce a dataframe to save to disk."
   ]
  },
  {
   "cell_type": "code",
   "execution_count": 17,
   "metadata": {
    "tags": []
   },
   "outputs": [],
   "source": [
    "# First define a routine to run across a list of years and produce a dataframe\n",
    "def get_year_by_year_metrics(year_list, name_list, sim_list):\n",
    "    import pandas as pd\n",
    "    overall_names = []\n",
    "    overall_years = []\n",
    "    overall_meds = []\n",
    "    overall_means = []\n",
    "    overall_std = []\n",
    "    overall_iqr = []\n",
    "    overall_meanz = []\n",
    "    for year in year_list:\n",
    "        for i in range(len(sim_list)):\n",
    "            bgroup, bd = mzmod.metric_plots(name_list[i], sim_list[i], year=year)\n",
    "            overall_names.append(name_list[i])\n",
    "            overall_years.append(year)\n",
    "            overall_meds.append(bd[list(bd.keys())[0]].summary_values['Median'])\n",
    "            overall_means.append(bd[list(bd.keys())[0]].summary_values['Mean'])\n",
    "            overall_meanz.append(mzmod.mean_z(bd[list(bd.keys())[0]].summary_values['Mean'], num_bins=5)[0])\n",
    "            overall_std.append(bd[list(bd.keys())[0]].summary_values['Rms'])\n",
    "            overall_iqr.append(bd[list(bd.keys())[0]].summary_values['75th%ile']-bd[list(bd.keys())[0]].summary_values['25th%ile'])\n",
    "    df = pd.DataFrame(list(zip(overall_names, overall_years, overall_meds, overall_means, overall_meanz, overall_std, overall_iqr)), \n",
    "                  columns=['Strategy', 'Year', 'Median i-band depth', 'Mean i-band depth', 'meanz 1st bin', 'Std i-band depth', 'IQR i-band depth'])\n",
    "    return df"
   ]
  },
  {
   "cell_type": "code",
   "execution_count": 18,
   "metadata": {
    "tags": []
   },
   "outputs": [
    {
     "name": "stdout",
     "output_type": "stream",
     "text": [
      "Healpix slicer using NSIDE=64, approximate resolution 54.967783 arcminutes\n"
     ]
    },
    {
     "name": "stderr",
     "output_type": "stream",
     "text": [
      "/opt/lsst/software/stack/conda/miniconda3-py38_4.9.2/envs/lsst-scipipe-7.0.1/lib/python3.11/site-packages/rubin_sim/maf/maps/dust_map.py:44: UserWarning: Slicer value of nside 64 different from map value 128, using slicer value\n",
      "  warnings.warn(\n"
     ]
    },
    {
     "name": "stdout",
     "output_type": "stream",
     "text": [
      "Healpix slicer using NSIDE=64, approximate resolution 54.967783 arcminutes\n"
     ]
    },
    {
     "name": "stderr",
     "output_type": "stream",
     "text": [
      "/opt/lsst/software/stack/conda/miniconda3-py38_4.9.2/envs/lsst-scipipe-7.0.1/lib/python3.11/site-packages/rubin_sim/maf/maps/dust_map.py:44: UserWarning: Slicer value of nside 64 different from map value 128, using slicer value\n",
      "  warnings.warn(\n"
     ]
    },
    {
     "name": "stdout",
     "output_type": "stream",
     "text": [
      "Healpix slicer using NSIDE=64, approximate resolution 54.967783 arcminutes\n"
     ]
    },
    {
     "name": "stderr",
     "output_type": "stream",
     "text": [
      "/opt/lsst/software/stack/conda/miniconda3-py38_4.9.2/envs/lsst-scipipe-7.0.1/lib/python3.11/site-packages/rubin_sim/maf/maps/dust_map.py:44: UserWarning: Slicer value of nside 64 different from map value 128, using slicer value\n",
      "  warnings.warn(\n"
     ]
    },
    {
     "name": "stdout",
     "output_type": "stream",
     "text": [
      "Healpix slicer using NSIDE=64, approximate resolution 54.967783 arcminutes\n"
     ]
    },
    {
     "name": "stderr",
     "output_type": "stream",
     "text": [
      "/opt/lsst/software/stack/conda/miniconda3-py38_4.9.2/envs/lsst-scipipe-7.0.1/lib/python3.11/site-packages/rubin_sim/maf/maps/dust_map.py:44: UserWarning: Slicer value of nside 64 different from map value 128, using slicer value\n",
      "  warnings.warn(\n"
     ]
    },
    {
     "data": {
      "text/html": [
       "<div>\n",
       "<style scoped>\n",
       "    .dataframe tbody tr th:only-of-type {\n",
       "        vertical-align: middle;\n",
       "    }\n",
       "\n",
       "    .dataframe tbody tr th {\n",
       "        vertical-align: top;\n",
       "    }\n",
       "\n",
       "    .dataframe thead th {\n",
       "        text-align: right;\n",
       "    }\n",
       "</style>\n",
       "<table border=\"1\" class=\"dataframe\">\n",
       "  <thead>\n",
       "    <tr style=\"text-align: right;\">\n",
       "      <th></th>\n",
       "      <th>Strategy</th>\n",
       "      <th>Year</th>\n",
       "      <th>Median i-band depth</th>\n",
       "      <th>Mean i-band depth</th>\n",
       "      <th>meanz 1st bin</th>\n",
       "      <th>Std i-band depth</th>\n",
       "      <th>IQR i-band depth</th>\n",
       "    </tr>\n",
       "  </thead>\n",
       "  <tbody>\n",
       "    <tr>\n",
       "      <th>0</th>\n",
       "      <td>baseline_v3.3_10yrs</td>\n",
       "      <td>1</td>\n",
       "      <td>25.252161</td>\n",
       "      <td>25.233240</td>\n",
       "      <td>0.375515</td>\n",
       "      <td>0.184610</td>\n",
       "      <td>0.235948</td>\n",
       "    </tr>\n",
       "    <tr>\n",
       "      <th>1</th>\n",
       "      <td>noroll_v3.3_10yrs</td>\n",
       "      <td>1</td>\n",
       "      <td>25.252161</td>\n",
       "      <td>25.233240</td>\n",
       "      <td>0.375515</td>\n",
       "      <td>0.184610</td>\n",
       "      <td>0.235948</td>\n",
       "    </tr>\n",
       "    <tr>\n",
       "      <th>2</th>\n",
       "      <td>baseline_v3.3_10yrs</td>\n",
       "      <td>2</td>\n",
       "      <td>25.635288</td>\n",
       "      <td>25.598740</td>\n",
       "      <td>0.392600</td>\n",
       "      <td>0.197662</td>\n",
       "      <td>0.260341</td>\n",
       "    </tr>\n",
       "    <tr>\n",
       "      <th>3</th>\n",
       "      <td>noroll_v3.3_10yrs</td>\n",
       "      <td>2</td>\n",
       "      <td>25.626280</td>\n",
       "      <td>25.601309</td>\n",
       "      <td>0.392720</td>\n",
       "      <td>0.170386</td>\n",
       "      <td>0.215176</td>\n",
       "    </tr>\n",
       "  </tbody>\n",
       "</table>\n",
       "</div>"
      ],
      "text/plain": [
       "              Strategy  Year  Median i-band depth  Mean i-band depth  \\\n",
       "0  baseline_v3.3_10yrs     1            25.252161          25.233240   \n",
       "1    noroll_v3.3_10yrs     1            25.252161          25.233240   \n",
       "2  baseline_v3.3_10yrs     2            25.635288          25.598740   \n",
       "3    noroll_v3.3_10yrs     2            25.626280          25.601309   \n",
       "\n",
       "   meanz 1st bin  Std i-band depth  IQR i-band depth  \n",
       "0       0.375515          0.184610          0.235948  \n",
       "1       0.375515          0.184610          0.235948  \n",
       "2       0.392600          0.197662          0.260341  \n",
       "3       0.392720          0.170386          0.215176  "
      ]
     },
     "metadata": {},
     "output_type": "display_data"
    }
   ],
   "source": [
    "import numpy as np\n",
    "import pandas as pd\n",
    "nums =2\n",
    "v33_df = get_year_by_year_metrics(np.arange(1,nums+1), v33_name_list[:nums], v33_sim_list[:nums])\n",
    "display(v33_df)"
   ]
  },
  {
   "cell_type": "code",
   "execution_count": 19,
   "metadata": {
    "tags": []
   },
   "outputs": [],
   "source": [
    "v33_df.to_pickle('v33_dataframe_withmeanz.pkl')"
   ]
  },
  {
   "cell_type": "markdown",
   "metadata": {},
   "source": [
    "### Here we plot the year-by-year metric results.  We read in from the dataframe, so if it was already produced, we can skip over the previous chunk of notebook."
   ]
  },
  {
   "cell_type": "code",
   "execution_count": 20,
   "metadata": {
    "tags": []
   },
   "outputs": [],
   "source": [
    "v33_df = pd.read_pickle('v33_dataframe_withmeanz.pkl')"
   ]
  },
  {
   "cell_type": "code",
   "execution_count": 21,
   "metadata": {
    "tags": []
   },
   "outputs": [],
   "source": [
    "# A utility to plot summary stats for strategies as a function of year, given a dataframe from the above routines.\n",
    "def plot_metric_by_year(df, stat_name, y_axis_label=None):\n",
    "    import pandas as pd\n",
    "    import matplotlib.pyplot as plt\n",
    "    year_vals = np.array(list(set(df['Year'])))\n",
    "    strategies=list(set(df['Strategy']))\n",
    "    fig = plt.figure()\n",
    "    ax = fig.add_subplot(111)\n",
    "\n",
    "    # Offset axes:\n",
    "    offsets = 0.05*np.arange(0,len(strategies))\n",
    "    offsets -= np.mean(offsets)\n",
    "    offset_index = 0\n",
    "\n",
    "    # y-axis label handling\n",
    "    if y_axis_label is None:\n",
    "        y_axis_label = stat_name\n",
    "        \n",
    "    ## put in line style stuff\n",
    "    for s in strategies:\n",
    "        yvals = np.array(df[stat_name][df['Strategy']==s])\n",
    "        ax.plot(year_vals+offsets[offset_index], yvals, label=s)\n",
    "        offset_index += 1\n",
    "    plt.xlabel('Year')\n",
    "    plt.ylabel(y_axis_label)\n",
    "    plt.legend()\n",
    "    plt.show()"
   ]
  },
  {
   "cell_type": "code",
   "execution_count": 22,
   "metadata": {
    "tags": []
   },
   "outputs": [
    {
     "data": {
      "image/png": "[encoded data removed]",
      "text/plain": [
       "<Figure size 640x480 with 1 Axes>"
      ]
     },
     "metadata": {},
     "output_type": "display_data"
    }
   ],
   "source": [
    "# Plot various quantities using utility routine\n",
    "#plot_metric_by_year(v33_df, 'Mean i-band depth')\n",
    "plot_metric_by_year(v33_df, 'meanz 1st bin')\n",
    "#plot_metric_by_year(v33_df, 'IQR i-band limiting magnitude', 'IQR i-band depth')"
   ]
  }
 ],
 "metadata": {
  "kernelspec": {
   "display_name": "desc-stack-weekly-latest",
   "language": "python",
   "name": "desc-stack-weekly-latest"
  },
  "language_info": {
   "codemirror_mode": {
    "name": "ipython",
    "version": 3
   },
   "file_extension": ".py",
   "mimetype": "text/x-python",
   "name": "python",
   "nbconvert_exporter": "python",
   "pygments_lexer": "ipython3",
   "version": "3.11.4"
  }
 },
 "nbformat": 4,
 "nbformat_minor": 4
}
