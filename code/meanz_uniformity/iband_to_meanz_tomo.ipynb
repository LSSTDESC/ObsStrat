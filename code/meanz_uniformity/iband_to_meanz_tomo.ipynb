{
 "cells": [
  {
   "cell_type": "code",
   "execution_count": 20,
   "metadata": {
    "tags": []
   },
   "outputs": [],
   "source": [
    "import meanz_modules as mzmod\n",
    "import rubin_sim\n",
    "import rubin_sim.maf as maf\n",
    "from rubin_sim.scheduler.utils import SkyAreaGenerator\n",
    "from rubin_sim.data import get_baseline\n",
    "\n",
    "from os import path\n",
    "\n",
    "opsim_fname = rubin_sim.data.get_baseline()\n",
    "run_name = path.splitext(path.basename(opsim_fname))[0]\n",
    "nside=64\n"
   ]
  },
  {
   "cell_type": "code",
   "execution_count": 3,
   "metadata": {
    "tags": []
   },
   "outputs": [
    {
     "name": "stdout",
     "output_type": "stream",
     "text": [
      "Healpix slicer using NSIDE=64, approximate resolution 54.967783 arcminutes\n"
     ]
    },
    {
     "name": "stderr",
     "output_type": "stream",
     "text": [
      "/opt/lsst/software/stack/conda/miniconda3-py38_4.9.2/envs/lsst-scipipe-7.0.1/lib/python3.11/site-packages/rubin_sim/maf/maps/dust_map.py:44: UserWarning: Slicer value of nside 64 different from map value 128, using slicer value\n",
      "  warnings.warn(\n"
     ]
    }
   ],
   "source": [
    "# # Apply the above routine to our baseline sim, and show the plots\n",
    "bgroup, bd = mzmod.metric_plots(run_name, opsim_fname, year=2,nside=nside)\n",
    "bgroup.plot_all(closefigs=True)"
   ]
  },
  {
   "cell_type": "markdown",
   "metadata": {},
   "source": []
  },
  {
   "cell_type": "code",
   "execution_count": 4,
   "metadata": {
    "tags": []
   },
   "outputs": [
    {
     "name": "stdout",
     "output_type": "stream",
     "text": [
      "0.044444444444444446 -0.7644444444444444\n"
     ]
    },
    {
     "name": "stderr",
     "output_type": "stream",
     "text": [
      "/opt/lsst/software/stack/conda/miniconda3-py38_4.9.2/envs/lsst-scipipe-7.0.1/lib/python3.11/site-packages/scipy/optimize/_minpack_py.py:906: OptimizeWarning: Covariance of the parameters could not be estimated\n",
      "  warnings.warn('Covariance of the parameters could not be estimated',\n"
     ]
    }
   ],
   "source": [
    "ilim = [24.1, 25.3]\n",
    "meanz = [0.92, 1.08]\n",
    "\n",
    "a,b = mzmod.coeff_solve(ilim,meanz)\n",
    "print(a,b)"
   ]
  },
  {
   "cell_type": "markdown",
   "metadata": {},
   "source": [
    "### Dataset definitions"
   ]
  },
  {
   "cell_type": "code",
   "execution_count": 5,
   "metadata": {
    "tags": []
   },
   "outputs": [
    {
     "name": "stdout",
     "output_type": "stream",
     "text": [
      "['baseline_v3.3_10yrs', 'noroll_v3.3_10yrs', 'roll_mid1_const_season6v3.3_10yrs', 'roll_mid1_const_season2v3.3_10yrs', 'roll_mid1_const_season4v3.3_10yrs', 'roll_mid2_const_season2v3.3_10yrs', 'roll_mid2_const_season4v3.3_10yrs', 'roll_mid2_const_season6v3.3_10yrs']\n"
     ]
    }
   ],
   "source": [
    "v33_sim_list = ['/pscratch/sd/r/rhlozek/rubin_sim_data/sim_baseline/baseline_v3.3_10yrs.db',\n",
    "           '/pscratch/sd/r/rhlozek/rubin_sim_data/noroll/noroll_v3.3_10yrs.db',\n",
    "           '/pscratch/sd/r/rhlozek/rubin_sim_data/noroll/roll_mid1_const_season6v3.3_10yrs.db',\n",
    "           '/pscratch/sd/r/rhlozek/rubin_sim_data/noroll/roll_mid1_const_season2v3.3_10yrs.db',\n",
    "           '/pscratch/sd/r/rhlozek/rubin_sim_data/noroll/roll_mid1_const_season4v3.3_10yrs.db',\n",
    "           '/pscratch/sd/r/rhlozek/rubin_sim_data/noroll/roll_mid2_const_season2v3.3_10yrs.db',\n",
    "           '/pscratch/sd/r/rhlozek/rubin_sim_data/noroll/roll_mid2_const_season4v3.3_10yrs.db',\n",
    "           '/pscratch/sd/r/rhlozek/rubin_sim_data/noroll/roll_mid2_const_season6v3.3_10yrs.db',]\n",
    "v33_name_list = [path.splitext(path.basename(sim))[0] for sim in v33_sim_list]\n",
    "print(v33_name_list)"
   ]
  },
  {
   "cell_type": "markdown",
   "metadata": {
    "tags": []
   },
   "source": [
    "## In this section, we get maps of the i-band depth across the survey for v3.3 simulations at year=3"
   ]
  },
  {
   "cell_type": "code",
   "execution_count": 7,
   "metadata": {
    "tags": []
   },
   "outputs": [],
   "source": [
    "# # Run our above routine for the v3.3 simulations at year 3\n",
    "# for i in range(len(v33_sim_list)):\n",
    "#     this_run = v33_sim_list[i]\n",
    "#     this_fname = v33_name_list[i]\n",
    "#     bgroup, bd = mzmod.metric_plots(this_fname, this_run, year=3)\n",
    "#     #bgroup.plot_all(closefigs=False)"
   ]
  },
  {
   "cell_type": "markdown",
   "metadata": {},
   "source": [
    "### In this section, we run our metric calculations at each year for all v3.3 simulations and produce a dataframe to save to disk."
   ]
  },
  {
   "cell_type": "code",
   "execution_count": 61,
   "metadata": {
    "tags": []
   },
   "outputs": [
    {
     "name": "stdout",
     "output_type": "stream",
     "text": [
      "Healpix slicer using NSIDE=64, approximate resolution 54.967783 arcminutes\n"
     ]
    },
    {
     "name": "stderr",
     "output_type": "stream",
     "text": [
      "/opt/lsst/software/stack/conda/miniconda3-py38_4.9.2/envs/lsst-scipipe-7.0.1/lib/python3.11/site-packages/rubin_sim/maf/maps/dust_map.py:44: UserWarning: Slicer value of nside 64 different from map value 128, using slicer value\n",
      "  warnings.warn(\n"
     ]
    },
    {
     "name": "stdout",
     "output_type": "stream",
     "text": [
      "Healpix slicer using NSIDE=64, approximate resolution 54.967783 arcminutes\n"
     ]
    },
    {
     "name": "stderr",
     "output_type": "stream",
     "text": [
      "/opt/lsst/software/stack/conda/miniconda3-py38_4.9.2/envs/lsst-scipipe-7.0.1/lib/python3.11/site-packages/rubin_sim/maf/maps/dust_map.py:44: UserWarning: Slicer value of nside 64 different from map value 128, using slicer value\n",
      "  warnings.warn(\n"
     ]
    },
    {
     "name": "stdout",
     "output_type": "stream",
     "text": [
      "Healpix slicer using NSIDE=64, approximate resolution 54.967783 arcminutes\n"
     ]
    },
    {
     "name": "stderr",
     "output_type": "stream",
     "text": [
      "/opt/lsst/software/stack/conda/miniconda3-py38_4.9.2/envs/lsst-scipipe-7.0.1/lib/python3.11/site-packages/rubin_sim/maf/maps/dust_map.py:44: UserWarning: Slicer value of nside 64 different from map value 128, using slicer value\n",
      "  warnings.warn(\n"
     ]
    },
    {
     "name": "stdout",
     "output_type": "stream",
     "text": [
      "Healpix slicer using NSIDE=64, approximate resolution 54.967783 arcminutes\n"
     ]
    },
    {
     "name": "stderr",
     "output_type": "stream",
     "text": [
      "/opt/lsst/software/stack/conda/miniconda3-py38_4.9.2/envs/lsst-scipipe-7.0.1/lib/python3.11/site-packages/rubin_sim/maf/maps/dust_map.py:44: UserWarning: Slicer value of nside 64 different from map value 128, using slicer value\n",
      "  warnings.warn(\n"
     ]
    },
    {
     "name": "stdout",
     "output_type": "stream",
     "text": [
      "Healpix slicer using NSIDE=64, approximate resolution 54.967783 arcminutes\n"
     ]
    },
    {
     "name": "stderr",
     "output_type": "stream",
     "text": [
      "/opt/lsst/software/stack/conda/miniconda3-py38_4.9.2/envs/lsst-scipipe-7.0.1/lib/python3.11/site-packages/rubin_sim/maf/maps/dust_map.py:44: UserWarning: Slicer value of nside 64 different from map value 128, using slicer value\n",
      "  warnings.warn(\n"
     ]
    },
    {
     "name": "stdout",
     "output_type": "stream",
     "text": [
      "Healpix slicer using NSIDE=64, approximate resolution 54.967783 arcminutes\n"
     ]
    },
    {
     "name": "stderr",
     "output_type": "stream",
     "text": [
      "/opt/lsst/software/stack/conda/miniconda3-py38_4.9.2/envs/lsst-scipipe-7.0.1/lib/python3.11/site-packages/rubin_sim/maf/maps/dust_map.py:44: UserWarning: Slicer value of nside 64 different from map value 128, using slicer value\n",
      "  warnings.warn(\n"
     ]
    },
    {
     "name": "stdout",
     "output_type": "stream",
     "text": [
      "Healpix slicer using NSIDE=64, approximate resolution 54.967783 arcminutes\n"
     ]
    },
    {
     "name": "stderr",
     "output_type": "stream",
     "text": [
      "/opt/lsst/software/stack/conda/miniconda3-py38_4.9.2/envs/lsst-scipipe-7.0.1/lib/python3.11/site-packages/rubin_sim/maf/maps/dust_map.py:44: UserWarning: Slicer value of nside 64 different from map value 128, using slicer value\n",
      "  warnings.warn(\n"
     ]
    },
    {
     "name": "stdout",
     "output_type": "stream",
     "text": [
      "Healpix slicer using NSIDE=64, approximate resolution 54.967783 arcminutes\n"
     ]
    },
    {
     "name": "stderr",
     "output_type": "stream",
     "text": [
      "/opt/lsst/software/stack/conda/miniconda3-py38_4.9.2/envs/lsst-scipipe-7.0.1/lib/python3.11/site-packages/rubin_sim/maf/maps/dust_map.py:44: UserWarning: Slicer value of nside 64 different from map value 128, using slicer value\n",
      "  warnings.warn(\n"
     ]
    },
    {
     "name": "stdout",
     "output_type": "stream",
     "text": [
      "Healpix slicer using NSIDE=64, approximate resolution 54.967783 arcminutes\n"
     ]
    },
    {
     "name": "stderr",
     "output_type": "stream",
     "text": [
      "/opt/lsst/software/stack/conda/miniconda3-py38_4.9.2/envs/lsst-scipipe-7.0.1/lib/python3.11/site-packages/rubin_sim/maf/maps/dust_map.py:44: UserWarning: Slicer value of nside 64 different from map value 128, using slicer value\n",
      "  warnings.warn(\n"
     ]
    },
    {
     "name": "stdout",
     "output_type": "stream",
     "text": [
      "Healpix slicer using NSIDE=64, approximate resolution 54.967783 arcminutes\n"
     ]
    },
    {
     "name": "stderr",
     "output_type": "stream",
     "text": [
      "/opt/lsst/software/stack/conda/miniconda3-py38_4.9.2/envs/lsst-scipipe-7.0.1/lib/python3.11/site-packages/rubin_sim/maf/maps/dust_map.py:44: UserWarning: Slicer value of nside 64 different from map value 128, using slicer value\n",
      "  warnings.warn(\n"
     ]
    },
    {
     "name": "stdout",
     "output_type": "stream",
     "text": [
      "Healpix slicer using NSIDE=64, approximate resolution 54.967783 arcminutes\n"
     ]
    },
    {
     "name": "stderr",
     "output_type": "stream",
     "text": [
      "/opt/lsst/software/stack/conda/miniconda3-py38_4.9.2/envs/lsst-scipipe-7.0.1/lib/python3.11/site-packages/rubin_sim/maf/maps/dust_map.py:44: UserWarning: Slicer value of nside 64 different from map value 128, using slicer value\n",
      "  warnings.warn(\n"
     ]
    },
    {
     "name": "stdout",
     "output_type": "stream",
     "text": [
      "Healpix slicer using NSIDE=64, approximate resolution 54.967783 arcminutes\n"
     ]
    },
    {
     "name": "stderr",
     "output_type": "stream",
     "text": [
      "/opt/lsst/software/stack/conda/miniconda3-py38_4.9.2/envs/lsst-scipipe-7.0.1/lib/python3.11/site-packages/rubin_sim/maf/maps/dust_map.py:44: UserWarning: Slicer value of nside 64 different from map value 128, using slicer value\n",
      "  warnings.warn(\n"
     ]
    },
    {
     "name": "stdout",
     "output_type": "stream",
     "text": [
      "Healpix slicer using NSIDE=64, approximate resolution 54.967783 arcminutes\n"
     ]
    },
    {
     "name": "stderr",
     "output_type": "stream",
     "text": [
      "/opt/lsst/software/stack/conda/miniconda3-py38_4.9.2/envs/lsst-scipipe-7.0.1/lib/python3.11/site-packages/rubin_sim/maf/maps/dust_map.py:44: UserWarning: Slicer value of nside 64 different from map value 128, using slicer value\n",
      "  warnings.warn(\n"
     ]
    },
    {
     "name": "stdout",
     "output_type": "stream",
     "text": [
      "Healpix slicer using NSIDE=64, approximate resolution 54.967783 arcminutes\n"
     ]
    },
    {
     "name": "stderr",
     "output_type": "stream",
     "text": [
      "/opt/lsst/software/stack/conda/miniconda3-py38_4.9.2/envs/lsst-scipipe-7.0.1/lib/python3.11/site-packages/rubin_sim/maf/maps/dust_map.py:44: UserWarning: Slicer value of nside 64 different from map value 128, using slicer value\n",
      "  warnings.warn(\n"
     ]
    },
    {
     "name": "stdout",
     "output_type": "stream",
     "text": [
      "Healpix slicer using NSIDE=64, approximate resolution 54.967783 arcminutes\n"
     ]
    },
    {
     "name": "stderr",
     "output_type": "stream",
     "text": [
      "/opt/lsst/software/stack/conda/miniconda3-py38_4.9.2/envs/lsst-scipipe-7.0.1/lib/python3.11/site-packages/rubin_sim/maf/maps/dust_map.py:44: UserWarning: Slicer value of nside 64 different from map value 128, using slicer value\n",
      "  warnings.warn(\n"
     ]
    },
    {
     "name": "stdout",
     "output_type": "stream",
     "text": [
      "Healpix slicer using NSIDE=64, approximate resolution 54.967783 arcminutes\n"
     ]
    },
    {
     "name": "stderr",
     "output_type": "stream",
     "text": [
      "/opt/lsst/software/stack/conda/miniconda3-py38_4.9.2/envs/lsst-scipipe-7.0.1/lib/python3.11/site-packages/rubin_sim/maf/maps/dust_map.py:44: UserWarning: Slicer value of nside 64 different from map value 128, using slicer value\n",
      "  warnings.warn(\n"
     ]
    },
    {
     "name": "stdout",
     "output_type": "stream",
     "text": [
      "Healpix slicer using NSIDE=64, approximate resolution 54.967783 arcminutes\n"
     ]
    },
    {
     "name": "stderr",
     "output_type": "stream",
     "text": [
      "/opt/lsst/software/stack/conda/miniconda3-py38_4.9.2/envs/lsst-scipipe-7.0.1/lib/python3.11/site-packages/rubin_sim/maf/maps/dust_map.py:44: UserWarning: Slicer value of nside 64 different from map value 128, using slicer value\n",
      "  warnings.warn(\n"
     ]
    },
    {
     "name": "stdout",
     "output_type": "stream",
     "text": [
      "Healpix slicer using NSIDE=64, approximate resolution 54.967783 arcminutes\n"
     ]
    },
    {
     "name": "stderr",
     "output_type": "stream",
     "text": [
      "/opt/lsst/software/stack/conda/miniconda3-py38_4.9.2/envs/lsst-scipipe-7.0.1/lib/python3.11/site-packages/rubin_sim/maf/maps/dust_map.py:44: UserWarning: Slicer value of nside 64 different from map value 128, using slicer value\n",
      "  warnings.warn(\n"
     ]
    },
    {
     "data": {
      "text/html": [
       "<div>\n",
       "<style scoped>\n",
       "    .dataframe tbody tr th:only-of-type {\n",
       "        vertical-align: middle;\n",
       "    }\n",
       "\n",
       "    .dataframe tbody tr th {\n",
       "        vertical-align: top;\n",
       "    }\n",
       "\n",
       "    .dataframe thead th {\n",
       "        text-align: right;\n",
       "    }\n",
       "</style>\n",
       "<table border=\"1\" class=\"dataframe\">\n",
       "  <thead>\n",
       "    <tr style=\"text-align: right;\">\n",
       "      <th></th>\n",
       "      <th>Strategy</th>\n",
       "      <th>Year</th>\n",
       "      <th>Median i-band depth</th>\n",
       "      <th>Mean i-band depth</th>\n",
       "      <th>Std i-band depth</th>\n",
       "      <th>IQR i-band depth</th>\n",
       "      <th>Mean z bin</th>\n",
       "      <th>Std z bin</th>\n",
       "      <th>Clbias</th>\n",
       "      <th>Used meanz</th>\n",
       "    </tr>\n",
       "  </thead>\n",
       "  <tbody>\n",
       "    <tr>\n",
       "      <th>0</th>\n",
       "      <td>baseline_v3.3_10yrs</td>\n",
       "      <td>1</td>\n",
       "      <td>25.252161</td>\n",
       "      <td>25.233240</td>\n",
       "      <td>0.184610</td>\n",
       "      <td>0.235948</td>\n",
       "      <td>[0.37551455702566444, 0.6828697047921608, 0.95...</td>\n",
       "      <td>[0.008629632331525208, 0.015692905567681506, 0...</td>\n",
       "      <td>[-0.002665497968803981, 0.006667618973598436, ...</td>\n",
       "      <td>[0.37551455702566444, 0.6828697047921608, 0.95...</td>\n",
       "    </tr>\n",
       "    <tr>\n",
       "      <th>1</th>\n",
       "      <td>noroll_v3.3_10yrs</td>\n",
       "      <td>1</td>\n",
       "      <td>25.252161</td>\n",
       "      <td>25.233240</td>\n",
       "      <td>0.184610</td>\n",
       "      <td>0.235948</td>\n",
       "      <td>[0.37551455702566444, 0.6828697047921608, 0.95...</td>\n",
       "      <td>[0.008629632331525208, 0.015692905567681506, 0...</td>\n",
       "      <td>[-0.002665497968803981, 0.006667618973598436, ...</td>\n",
       "      <td>[0.37551455702566444, 0.6828697047921608, 0.95...</td>\n",
       "    </tr>\n",
       "    <tr>\n",
       "      <th>2</th>\n",
       "      <td>baseline_v3.3_10yrs</td>\n",
       "      <td>2</td>\n",
       "      <td>25.635288</td>\n",
       "      <td>25.598740</td>\n",
       "      <td>0.197662</td>\n",
       "      <td>0.260341</td>\n",
       "      <td>[0.3925998683509861, 0.7139391834121525, 1.000...</td>\n",
       "      <td>[0.009239731794447311, 0.016802365726668097, 0...</td>\n",
       "      <td>[-0.0031698175188096395, 0.00784308370661542, ...</td>\n",
       "      <td>[0.3925998683509861, 0.7139391834121525, 1.000...</td>\n",
       "    </tr>\n",
       "    <tr>\n",
       "      <th>3</th>\n",
       "      <td>noroll_v3.3_10yrs</td>\n",
       "      <td>2</td>\n",
       "      <td>25.626280</td>\n",
       "      <td>25.601309</td>\n",
       "      <td>0.170386</td>\n",
       "      <td>0.215176</td>\n",
       "      <td>[0.39271996597515474, 0.7141575798168401, 1.00...</td>\n",
       "      <td>[0.007964685997669037, 0.014483706887610205, 0...</td>\n",
       "      <td>[-0.0027343508245137073, 0.006765151172978885,...</td>\n",
       "      <td>[0.39271996597515474, 0.7141575798168401, 1.00...</td>\n",
       "    </tr>\n",
       "    <tr>\n",
       "      <th>4</th>\n",
       "      <td>baseline_v3.3_10yrs</td>\n",
       "      <td>3</td>\n",
       "      <td>25.843019</td>\n",
       "      <td>25.824180</td>\n",
       "      <td>0.217975</td>\n",
       "      <td>0.277805</td>\n",
       "      <td>[0.403138101980712, 0.7331028625641963, 1.0276...</td>\n",
       "      <td>[0.010189252212638422, 0.018529059713713658, 0...</td>\n",
       "      <td>[-0.0037178776856377285, 0.009148753004025546,...</td>\n",
       "      <td>[0.403138101980712, 0.7331028625641963, 1.0276...</td>\n",
       "    </tr>\n",
       "    <tr>\n",
       "      <th>5</th>\n",
       "      <td>noroll_v3.3_10yrs</td>\n",
       "      <td>3</td>\n",
       "      <td>25.866495</td>\n",
       "      <td>25.839571</td>\n",
       "      <td>0.168145</td>\n",
       "      <td>0.213265</td>\n",
       "      <td>[0.4038575305264262, 0.7344111366362386, 1.029...</td>\n",
       "      <td>[0.007859940993180074, 0.014293229078013758, 0...</td>\n",
       "      <td>[-0.002879820892219144, 0.007084064504992393, ...</td>\n",
       "      <td>[0.4038575305264262, 0.7344111366362386, 1.029...</td>\n",
       "    </tr>\n",
       "    <tr>\n",
       "      <th>6</th>\n",
       "      <td>baseline_v3.3_10yrs</td>\n",
       "      <td>4</td>\n",
       "      <td>25.994479</td>\n",
       "      <td>25.965053</td>\n",
       "      <td>0.172323</td>\n",
       "      <td>0.220420</td>\n",
       "      <td>[0.40972322703847297, 0.745077850803881, 1.044...</td>\n",
       "      <td>[0.008055272217394117, 0.014648437079728098, 0...</td>\n",
       "      <td>[-5.327681934346514e-05, 0.006020354949877494,...</td>\n",
       "      <td>[0.40972322703847297, 0.745077850803881, 1.044...</td>\n",
       "    </tr>\n",
       "    <tr>\n",
       "      <th>7</th>\n",
       "      <td>noroll_v3.3_10yrs</td>\n",
       "      <td>4</td>\n",
       "      <td>26.001999</td>\n",
       "      <td>25.975704</td>\n",
       "      <td>0.164686</td>\n",
       "      <td>0.209550</td>\n",
       "      <td>[0.41022107610446906, 0.7459831846674222, 1.04...</td>\n",
       "      <td>[0.007698276580094664, 0.013999243857005437, 0...</td>\n",
       "      <td>[-5.165689737173743e-05, 0.005768397220627529,...</td>\n",
       "      <td>[0.41022107610446906, 0.7459831846674222, 1.04...</td>\n",
       "    </tr>\n",
       "    <tr>\n",
       "      <th>8</th>\n",
       "      <td>baseline_v3.3_10yrs</td>\n",
       "      <td>5</td>\n",
       "      <td>26.073056</td>\n",
       "      <td>26.048741</td>\n",
       "      <td>0.179762</td>\n",
       "      <td>0.229556</td>\n",
       "      <td>[0.41363522838237027, 0.75219178860702, 1.0543...</td>\n",
       "      <td>[0.008402979051509333, 0.01528073870086139, 0....</td>\n",
       "      <td>[-6.193464348577642e-05, 0.0064082763397681625...</td>\n",
       "      <td>[0.41363522838237027, 0.75219178860702, 1.0543...</td>\n",
       "    </tr>\n",
       "    <tr>\n",
       "      <th>9</th>\n",
       "      <td>noroll_v3.3_10yrs</td>\n",
       "      <td>5</td>\n",
       "      <td>26.095760</td>\n",
       "      <td>26.066504</td>\n",
       "      <td>0.162930</td>\n",
       "      <td>0.207229</td>\n",
       "      <td>[0.414465532960368, 0.7537016897052775, 1.0565...</td>\n",
       "      <td>[0.007616174697658168, 0.013849942352780496, 0...</td>\n",
       "      <td>[-5.73587554208721e-05, 0.005833050798198672, ...</td>\n",
       "      <td>[0.414465532960368, 0.7537016897052775, 1.0565...</td>\n",
       "    </tr>\n",
       "    <tr>\n",
       "      <th>10</th>\n",
       "      <td>baseline_v3.3_10yrs</td>\n",
       "      <td>6</td>\n",
       "      <td>26.163027</td>\n",
       "      <td>26.128642</td>\n",
       "      <td>0.164549</td>\n",
       "      <td>0.209568</td>\n",
       "      <td>[0.4173701984269186, 0.7589837966504094, 1.063...</td>\n",
       "      <td>[0.0076918729413444995, 0.013987598899916265, ...</td>\n",
       "      <td>[-6.225135228444742e-05, 0.005979153066032438,...</td>\n",
       "      <td>[0.4173701984269186, 0.7589837966504094, 1.063...</td>\n",
       "    </tr>\n",
       "    <tr>\n",
       "      <th>11</th>\n",
       "      <td>noroll_v3.3_10yrs</td>\n",
       "      <td>6</td>\n",
       "      <td>26.176187</td>\n",
       "      <td>26.145911</td>\n",
       "      <td>0.160461</td>\n",
       "      <td>0.205025</td>\n",
       "      <td>[0.41817744861713396, 0.7604517735604179, 1.06...</td>\n",
       "      <td>[0.00750075901468712, 0.013640060014308491, 0....</td>\n",
       "      <td>[-6.187621210689085e-05, 0.005854606793776626,...</td>\n",
       "      <td>[0.41817744861713396, 0.7604517735604179, 1.06...</td>\n",
       "    </tr>\n",
       "    <tr>\n",
       "      <th>12</th>\n",
       "      <td>baseline_v3.3_10yrs</td>\n",
       "      <td>7</td>\n",
       "      <td>26.220376</td>\n",
       "      <td>26.191188</td>\n",
       "      <td>0.169301</td>\n",
       "      <td>0.216515</td>\n",
       "      <td>[0.42029391935781807, 0.7643005557789818, 1.07...</td>\n",
       "      <td>[0.007914005415501822, 0.01439154472362556, 0....</td>\n",
       "      <td>[-6.852638477406348e-05, 0.006243869735640162,...</td>\n",
       "      <td>[0.42029391935781807, 0.7643005557789818, 1.07...</td>\n",
       "    </tr>\n",
       "    <tr>\n",
       "      <th>13</th>\n",
       "      <td>noroll_v3.3_10yrs</td>\n",
       "      <td>7</td>\n",
       "      <td>26.244674</td>\n",
       "      <td>26.215919</td>\n",
       "      <td>0.158385</td>\n",
       "      <td>0.200181</td>\n",
       "      <td>[0.42144994833288496, 0.7664027836424974, 1.07...</td>\n",
       "      <td>[0.007403714331406269, 0.013463585166705943, 0...</td>\n",
       "      <td>[-6.57641944171259e-05, 0.005875517661937421, ...</td>\n",
       "      <td>[0.42144994833288496, 0.7664027836424974, 1.07...</td>\n",
       "    </tr>\n",
       "    <tr>\n",
       "      <th>14</th>\n",
       "      <td>baseline_v3.3_10yrs</td>\n",
       "      <td>8</td>\n",
       "      <td>26.284233</td>\n",
       "      <td>26.248194</td>\n",
       "      <td>0.164319</td>\n",
       "      <td>0.209159</td>\n",
       "      <td>[0.4229586511625814, 0.7691463456074293, 1.078...</td>\n",
       "      <td>[0.007681117114875485, 0.013968039530223998, 0...</td>\n",
       "      <td>[-7.047108997892959e-05, 0.006142213136077426,...</td>\n",
       "      <td>[0.4229586511625814, 0.7691463456074293, 1.078...</td>\n",
       "    </tr>\n",
       "    <tr>\n",
       "      <th>15</th>\n",
       "      <td>noroll_v3.3_10yrs</td>\n",
       "      <td>8</td>\n",
       "      <td>26.300066</td>\n",
       "      <td>26.270944</td>\n",
       "      <td>0.161353</td>\n",
       "      <td>0.205426</td>\n",
       "      <td>[0.42402210828686054, 0.7710802324273376, 1.08...</td>\n",
       "      <td>[0.0075424684642239415, 0.013715908257630536, ...</td>\n",
       "      <td>[-7.075156451977552e-05, 0.006063682608385141,...</td>\n",
       "      <td>[0.42402210828686054, 0.7710802324273376, 1.08...</td>\n",
       "    </tr>\n",
       "    <tr>\n",
       "      <th>16</th>\n",
       "      <td>baseline_v3.3_10yrs</td>\n",
       "      <td>9</td>\n",
       "      <td>26.337261</td>\n",
       "      <td>26.305354</td>\n",
       "      <td>0.167004</td>\n",
       "      <td>0.218167</td>\n",
       "      <td>[0.42563060314074774, 0.7740052652535847, 1.08...</td>\n",
       "      <td>[0.007806626217678568, 0.01419627665812318, 0....</td>\n",
       "      <td>[-7.566011949186081e-05, 0.0063268709412733146...</td>\n",
       "      <td>[0.42563060314074774, 0.7740052652535847, 1.08...</td>\n",
       "    </tr>\n",
       "    <tr>\n",
       "      <th>17</th>\n",
       "      <td>noroll_v3.3_10yrs</td>\n",
       "      <td>9</td>\n",
       "      <td>26.361844</td>\n",
       "      <td>26.331324</td>\n",
       "      <td>0.158527</td>\n",
       "      <td>0.201136</td>\n",
       "      <td>[0.4268445993416841, 0.7762129059744092, 1.088...</td>\n",
       "      <td>[0.0074103667296308694, 0.013475682490569428, ...</td>\n",
       "      <td>[-7.356119204449812e-05, 0.006042279776371473,...</td>\n",
       "      <td>[0.4268445993416841, 0.7762129059744092, 1.088...</td>\n",
       "    </tr>\n",
       "  </tbody>\n",
       "</table>\n",
       "</div>"
      ],
      "text/plain": [
       "               Strategy  Year  Median i-band depth  Mean i-band depth  \\\n",
       "0   baseline_v3.3_10yrs     1            25.252161          25.233240   \n",
       "1     noroll_v3.3_10yrs     1            25.252161          25.233240   \n",
       "2   baseline_v3.3_10yrs     2            25.635288          25.598740   \n",
       "3     noroll_v3.3_10yrs     2            25.626280          25.601309   \n",
       "4   baseline_v3.3_10yrs     3            25.843019          25.824180   \n",
       "5     noroll_v3.3_10yrs     3            25.866495          25.839571   \n",
       "6   baseline_v3.3_10yrs     4            25.994479          25.965053   \n",
       "7     noroll_v3.3_10yrs     4            26.001999          25.975704   \n",
       "8   baseline_v3.3_10yrs     5            26.073056          26.048741   \n",
       "9     noroll_v3.3_10yrs     5            26.095760          26.066504   \n",
       "10  baseline_v3.3_10yrs     6            26.163027          26.128642   \n",
       "11    noroll_v3.3_10yrs     6            26.176187          26.145911   \n",
       "12  baseline_v3.3_10yrs     7            26.220376          26.191188   \n",
       "13    noroll_v3.3_10yrs     7            26.244674          26.215919   \n",
       "14  baseline_v3.3_10yrs     8            26.284233          26.248194   \n",
       "15    noroll_v3.3_10yrs     8            26.300066          26.270944   \n",
       "16  baseline_v3.3_10yrs     9            26.337261          26.305354   \n",
       "17    noroll_v3.3_10yrs     9            26.361844          26.331324   \n",
       "\n",
       "    Std i-band depth  IQR i-band depth  \\\n",
       "0           0.184610          0.235948   \n",
       "1           0.184610          0.235948   \n",
       "2           0.197662          0.260341   \n",
       "3           0.170386          0.215176   \n",
       "4           0.217975          0.277805   \n",
       "5           0.168145          0.213265   \n",
       "6           0.172323          0.220420   \n",
       "7           0.164686          0.209550   \n",
       "8           0.179762          0.229556   \n",
       "9           0.162930          0.207229   \n",
       "10          0.164549          0.209568   \n",
       "11          0.160461          0.205025   \n",
       "12          0.169301          0.216515   \n",
       "13          0.158385          0.200181   \n",
       "14          0.164319          0.209159   \n",
       "15          0.161353          0.205426   \n",
       "16          0.167004          0.218167   \n",
       "17          0.158527          0.201136   \n",
       "\n",
       "                                           Mean z bin  \\\n",
       "0   [0.37551455702566444, 0.6828697047921608, 0.95...   \n",
       "1   [0.37551455702566444, 0.6828697047921608, 0.95...   \n",
       "2   [0.3925998683509861, 0.7139391834121525, 1.000...   \n",
       "3   [0.39271996597515474, 0.7141575798168401, 1.00...   \n",
       "4   [0.403138101980712, 0.7331028625641963, 1.0276...   \n",
       "5   [0.4038575305264262, 0.7344111366362386, 1.029...   \n",
       "6   [0.40972322703847297, 0.745077850803881, 1.044...   \n",
       "7   [0.41022107610446906, 0.7459831846674222, 1.04...   \n",
       "8   [0.41363522838237027, 0.75219178860702, 1.0543...   \n",
       "9   [0.414465532960368, 0.7537016897052775, 1.0565...   \n",
       "10  [0.4173701984269186, 0.7589837966504094, 1.063...   \n",
       "11  [0.41817744861713396, 0.7604517735604179, 1.06...   \n",
       "12  [0.42029391935781807, 0.7643005557789818, 1.07...   \n",
       "13  [0.42144994833288496, 0.7664027836424974, 1.07...   \n",
       "14  [0.4229586511625814, 0.7691463456074293, 1.078...   \n",
       "15  [0.42402210828686054, 0.7710802324273376, 1.08...   \n",
       "16  [0.42563060314074774, 0.7740052652535847, 1.08...   \n",
       "17  [0.4268445993416841, 0.7762129059744092, 1.088...   \n",
       "\n",
       "                                            Std z bin  \\\n",
       "0   [0.008629632331525208, 0.015692905567681506, 0...   \n",
       "1   [0.008629632331525208, 0.015692905567681506, 0...   \n",
       "2   [0.009239731794447311, 0.016802365726668097, 0...   \n",
       "3   [0.007964685997669037, 0.014483706887610205, 0...   \n",
       "4   [0.010189252212638422, 0.018529059713713658, 0...   \n",
       "5   [0.007859940993180074, 0.014293229078013758, 0...   \n",
       "6   [0.008055272217394117, 0.014648437079728098, 0...   \n",
       "7   [0.007698276580094664, 0.013999243857005437, 0...   \n",
       "8   [0.008402979051509333, 0.01528073870086139, 0....   \n",
       "9   [0.007616174697658168, 0.013849942352780496, 0...   \n",
       "10  [0.0076918729413444995, 0.013987598899916265, ...   \n",
       "11  [0.00750075901468712, 0.013640060014308491, 0....   \n",
       "12  [0.007914005415501822, 0.01439154472362556, 0....   \n",
       "13  [0.007403714331406269, 0.013463585166705943, 0...   \n",
       "14  [0.007681117114875485, 0.013968039530223998, 0...   \n",
       "15  [0.0075424684642239415, 0.013715908257630536, ...   \n",
       "16  [0.007806626217678568, 0.01419627665812318, 0....   \n",
       "17  [0.0074103667296308694, 0.013475682490569428, ...   \n",
       "\n",
       "                                               Clbias  \\\n",
       "0   [-0.002665497968803981, 0.006667618973598436, ...   \n",
       "1   [-0.002665497968803981, 0.006667618973598436, ...   \n",
       "2   [-0.0031698175188096395, 0.00784308370661542, ...   \n",
       "3   [-0.0027343508245137073, 0.006765151172978885,...   \n",
       "4   [-0.0037178776856377285, 0.009148753004025546,...   \n",
       "5   [-0.002879820892219144, 0.007084064504992393, ...   \n",
       "6   [-5.327681934346514e-05, 0.006020354949877494,...   \n",
       "7   [-5.165689737173743e-05, 0.005768397220627529,...   \n",
       "8   [-6.193464348577642e-05, 0.0064082763397681625...   \n",
       "9   [-5.73587554208721e-05, 0.005833050798198672, ...   \n",
       "10  [-6.225135228444742e-05, 0.005979153066032438,...   \n",
       "11  [-6.187621210689085e-05, 0.005854606793776626,...   \n",
       "12  [-6.852638477406348e-05, 0.006243869735640162,...   \n",
       "13  [-6.57641944171259e-05, 0.005875517661937421, ...   \n",
       "14  [-7.047108997892959e-05, 0.006142213136077426,...   \n",
       "15  [-7.075156451977552e-05, 0.006063682608385141,...   \n",
       "16  [-7.566011949186081e-05, 0.0063268709412733146...   \n",
       "17  [-7.356119204449812e-05, 0.006042279776371473,...   \n",
       "\n",
       "                                           Used meanz  \n",
       "0   [0.37551455702566444, 0.6828697047921608, 0.95...  \n",
       "1   [0.37551455702566444, 0.6828697047921608, 0.95...  \n",
       "2   [0.3925998683509861, 0.7139391834121525, 1.000...  \n",
       "3   [0.39271996597515474, 0.7141575798168401, 1.00...  \n",
       "4   [0.403138101980712, 0.7331028625641963, 1.0276...  \n",
       "5   [0.4038575305264262, 0.7344111366362386, 1.029...  \n",
       "6   [0.40972322703847297, 0.745077850803881, 1.044...  \n",
       "7   [0.41022107610446906, 0.7459831846674222, 1.04...  \n",
       "8   [0.41363522838237027, 0.75219178860702, 1.0543...  \n",
       "9   [0.414465532960368, 0.7537016897052775, 1.0565...  \n",
       "10  [0.4173701984269186, 0.7589837966504094, 1.063...  \n",
       "11  [0.41817744861713396, 0.7604517735604179, 1.06...  \n",
       "12  [0.42029391935781807, 0.7643005557789818, 1.07...  \n",
       "13  [0.42144994833288496, 0.7664027836424974, 1.07...  \n",
       "14  [0.4229586511625814, 0.7691463456074293, 1.078...  \n",
       "15  [0.42402210828686054, 0.7710802324273376, 1.08...  \n",
       "16  [0.42563060314074774, 0.7740052652535847, 1.08...  \n",
       "17  [0.4268445993416841, 0.7762129059744092, 1.088...  "
      ]
     },
     "metadata": {},
     "output_type": "display_data"
    }
   ],
   "source": [
    "import numpy as np\n",
    "import pandas as pd\n",
    "import importlib\n",
    "importlib.reload(mzmod)\n",
    "\n",
    "v33_sim_list = ['/pscratch/sd/r/rhlozek/rubin_sim_data/sim_baseline/baseline_v3.3_10yrs.db',\n",
    "           '/pscratch/sd/r/rhlozek/rubin_sim_data/noroll/noroll_v3.3_10yrs.db']\n",
    "#,\n",
    "#            '/pscratch/sd/r/rhlozek/rubin_sim_data/noroll/roll_mid1_const_season4v3.3_10yrs.db',\n",
    "#            '/pscratch/sd/r/rhlozek/rubin_sim_data/noroll/roll_mid2_const_season2v3.3_10yrs.db',]\n",
    "v33_name_list = [path.splitext(path.basename(sim))[0] for sim in v33_sim_list]\n",
    "nums =len(v33_name_list)\n",
    "v33_df = mzmod.get_year_by_year_metrics(np.arange(1,10), v33_name_list[:nums], v33_sim_list[:nums])\n",
    "display(v33_df)"
   ]
  },
  {
   "cell_type": "code",
   "execution_count": 65,
   "metadata": {},
   "outputs": [
    {
     "name": "stdout",
     "output_type": "stream",
     "text": [
      "(3, 2)\n"
     ]
    },
    {
     "data": {
      "image/png": "[encoded data removed]",
      "text/plain": [
       "<Figure size 1500x1200 with 6 Axes>"
      ]
     },
     "metadata": {},
     "output_type": "display_data"
    }
   ],
   "source": [
    "importlib.reload(mzmod)\n",
    "\n",
    "mzmod.plot_meanz_metrics_by_year(v33_df, years=[3,5],num_bins=5)"
   ]
  },
  {
   "cell_type": "code",
   "execution_count": 35,
   "metadata": {
    "tags": []
   },
   "outputs": [],
   "source": [
    "v33_df.to_pickle('v33_dataframe_withmeanz.pkl')"
   ]
  },
  {
   "cell_type": "code",
   "execution_count": 25,
   "metadata": {},
   "outputs": [
    {
     "name": "stdout",
     "output_type": "stream",
     "text": [
      "[0.046745091529873814, 0.08500551112138602, 0.11915807457810432, 0.16180047285571472, 0.2539575165815878]\n"
     ]
    }
   ],
   "source": [
    "vec = mzmod.sensitivity(num_bins=5,fiducial_ilim=24.1)\n",
    "print(vec)\n",
    "# import numpy.random as random\n",
    "# vec = np.linspace(2,18,17)\n",
    "# print(vec)\n",
    "# random.shuffle(vec)\n",
    "# print(vec)"
   ]
  },
  {
   "cell_type": "code",
   "execution_count": 11,
   "metadata": {},
   "outputs": [],
   "source": [
    "# import matplotlib.pyplot as plt\n",
    "# fig, axs = plt.subplots(5,1,sharex=True)\n",
    "# x=np.linspace(0,5,100)\n",
    "# axs[0].plot(x,x**2)\n",
    "# axs[3].plot(x,x**2)"
   ]
  },
  {
   "cell_type": "markdown",
   "metadata": {},
   "source": [
    "### Here we plot the year-by-year metric results.  We read in from the dataframe, so if it was already produced, we can skip over the previous chunk of notebook."
   ]
  },
  {
   "cell_type": "code",
   "execution_count": 12,
   "metadata": {
    "tags": []
   },
   "outputs": [
    {
     "data": {
      "image/png": "[encoded data removed]",
      "text/plain": [
       "<Figure size 640x480 with 1 Axes>"
      ]
     },
     "metadata": {},
     "output_type": "display_data"
    }
   ],
   "source": [
    "v33_df = pd.read_pickle('v33_dataframe_withmeanz.pkl')\n",
    "mzmod.plot_metric_by_year(v33_df, 'Mean i-band depth')"
   ]
  }
 ],
 "metadata": {
  "kernelspec": {
   "display_name": "desc-stack-weekly-latest",
   "language": "python",
   "name": "desc-stack-weekly-latest"
  },
  "language_info": {
   "codemirror_mode": {
    "name": "ipython",
    "version": 3
   },
   "file_extension": ".py",
   "mimetype": "text/x-python",
   "name": "python",
   "nbconvert_exporter": "python",
   "pygments_lexer": "ipython3",
   "version": "3.11.4"
  }
 },
 "nbformat": 4,
 "nbformat_minor": 4
}
