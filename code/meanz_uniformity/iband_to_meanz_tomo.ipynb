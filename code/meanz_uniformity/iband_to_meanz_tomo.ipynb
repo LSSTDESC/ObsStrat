{
 "cells": [
  {
   "cell_type": "code",
   "execution_count": 1,
   "metadata": {
    "tags": []
   },
   "outputs": [],
   "source": [
    "import meanz_modules as mzmod\n",
    "import rubin_sim\n",
    "import rubin_sim.maf as maf\n",
    "from rubin_sim.scheduler.utils import SkyAreaGenerator\n",
    "from rubin_sim.data import get_baseline\n",
    "\n",
    "from os import path\n",
    "\n",
    "opsim_fname = rubin_sim.data.get_baseline()\n",
    "run_name = path.splitext(path.basename(opsim_fname))[0]\n",
    "nside=64\n"
   ]
  },
  {
   "cell_type": "code",
   "execution_count": 2,
   "metadata": {
    "tags": []
   },
   "outputs": [
    {
     "name": "stdout",
     "output_type": "stream",
     "text": [
      "Healpix slicer using NSIDE=64, approximate resolution 54.967783 arcminutes\n"
     ]
    },
    {
     "name": "stderr",
     "output_type": "stream",
     "text": [
      "/opt/lsst/software/stack/conda/miniconda3-py38_4.9.2/envs/lsst-scipipe-7.0.1/lib/python3.11/site-packages/rubin_sim/maf/maps/dust_map.py:44: UserWarning: Slicer value of nside 64 different from map value 128, using slicer value\n",
      "  warnings.warn(\n"
     ]
    }
   ],
   "source": [
    "# # Apply the above routine to our baseline sim, and show the plots\n",
    "bgroup, bd = mzmod.metric_plots(run_name, opsim_fname, year=2,nside=nside)\n",
    "bgroup.plot_all(closefigs=True)"
   ]
  },
  {
   "cell_type": "markdown",
   "metadata": {},
   "source": []
  },
  {
   "cell_type": "code",
   "execution_count": 3,
   "metadata": {
    "tags": []
   },
   "outputs": [
    {
     "name": "stdout",
     "output_type": "stream",
     "text": [
      "0.044444444444444446 -0.7644444444444444\n"
     ]
    },
    {
     "name": "stderr",
     "output_type": "stream",
     "text": [
      "/opt/lsst/software/stack/conda/miniconda3-py38_4.9.2/envs/lsst-scipipe-7.0.1/lib/python3.11/site-packages/scipy/optimize/_minpack_py.py:906: OptimizeWarning: Covariance of the parameters could not be estimated\n",
      "  warnings.warn('Covariance of the parameters could not be estimated',\n"
     ]
    }
   ],
   "source": [
    "ilim = [24.1, 25.3]\n",
    "meanz = [0.92, 1.08]\n",
    "\n",
    "a,b = mzmod.coeff_solve(ilim,meanz)\n",
    "print(a,b)"
   ]
  },
  {
   "cell_type": "markdown",
   "metadata": {},
   "source": [
    "### Dataset definitions"
   ]
  },
  {
   "cell_type": "code",
   "execution_count": 5,
   "metadata": {
    "tags": []
   },
   "outputs": [
    {
     "name": "stdout",
     "output_type": "stream",
     "text": [
      "['baseline_v3.3_10yrs', 'noroll_v3.3_10yrs', 'roll_mid1_const_season6v3.3_10yrs', 'roll_mid1_const_season2v3.3_10yrs', 'roll_mid1_const_season4v3.3_10yrs', 'roll_mid2_const_season2v3.3_10yrs', 'roll_mid2_const_season4v3.3_10yrs', 'roll_mid2_const_season6v3.3_10yrs']\n"
     ]
    }
   ],
   "source": [
    "v33_sim_list = ['/pscratch/sd/r/rhlozek/rubin_sim_data/sim_baseline/baseline_v3.3_10yrs.db',\n",
    "           '/pscratch/sd/r/rhlozek/rubin_sim_data/noroll/noroll_v3.3_10yrs.db',\n",
    "           '/pscratch/sd/r/rhlozek/rubin_sim_data/noroll/roll_mid1_const_season6v3.3_10yrs.db',\n",
    "           '/pscratch/sd/r/rhlozek/rubin_sim_data/noroll/roll_mid1_const_season2v3.3_10yrs.db',\n",
    "           '/pscratch/sd/r/rhlozek/rubin_sim_data/noroll/roll_mid1_const_season4v3.3_10yrs.db',\n",
    "           '/pscratch/sd/r/rhlozek/rubin_sim_data/noroll/roll_mid2_const_season2v3.3_10yrs.db',\n",
    "           '/pscratch/sd/r/rhlozek/rubin_sim_data/noroll/roll_mid2_const_season4v3.3_10yrs.db',\n",
    "           '/pscratch/sd/r/rhlozek/rubin_sim_data/noroll/roll_mid2_const_season6v3.3_10yrs.db',]\n",
    "v33_name_list = [path.splitext(path.basename(sim))[0] for sim in v33_sim_list]\n",
    "print(v33_name_list)"
   ]
  },
  {
   "cell_type": "markdown",
   "metadata": {
    "tags": []
   },
   "source": [
    "## In this section, we get maps of the i-band depth across the survey for v3.3 simulations at year=3"
   ]
  },
  {
   "cell_type": "code",
   "execution_count": 7,
   "metadata": {
    "tags": []
   },
   "outputs": [],
   "source": [
    "# # Run our above routine for the v3.3 simulations at year 3\n",
    "# for i in range(len(v33_sim_list)):\n",
    "#     this_run = v33_sim_list[i]\n",
    "#     this_fname = v33_name_list[i]\n",
    "#     bgroup, bd = mzmod.metric_plots(this_fname, this_run, year=3)\n",
    "#     #bgroup.plot_all(closefigs=False)"
   ]
  },
  {
   "cell_type": "markdown",
   "metadata": {},
   "source": [
    "### In this section, we run our metric calculations at each year for all v3.3 simulations and produce a dataframe to save to disk."
   ]
  },
  {
   "cell_type": "code",
   "execution_count": 5,
   "metadata": {
    "tags": []
   },
   "outputs": [
    {
     "name": "stdout",
     "output_type": "stream",
     "text": [
      "Healpix slicer using NSIDE=64, approximate resolution 54.967783 arcminutes\n"
     ]
    },
    {
     "name": "stderr",
     "output_type": "stream",
     "text": [
      "/opt/lsst/software/stack/conda/miniconda3-py38_4.9.2/envs/lsst-scipipe-7.0.1/lib/python3.11/site-packages/rubin_sim/maf/maps/dust_map.py:44: UserWarning: Slicer value of nside 64 different from map value 128, using slicer value\n",
      "  warnings.warn(\n"
     ]
    },
    {
     "name": "stdout",
     "output_type": "stream",
     "text": [
      "[0.00023249] renee\n",
      "[0.8756020654870043] renee\n",
      "[ True] renee\n",
      "Healpix slicer using NSIDE=64, approximate resolution 54.967783 arcminutes\n"
     ]
    },
    {
     "name": "stderr",
     "output_type": "stream",
     "text": [
      "/pscratch/sd/r/rhlozek/ObsStrat/code/meanz_uniformity/meanz_modules.py:356: RankWarning: Polyfit may be poorly conditioned\n",
      "  clbias, meanz_use = compute_Clbias(meanzinterp,stdz)\n",
      "/opt/lsst/software/stack/conda/miniconda3-py38_4.9.2/envs/lsst-scipipe-7.0.1/lib/python3.11/site-packages/rubin_sim/maf/maps/dust_map.py:44: UserWarning: Slicer value of nside 64 different from map value 128, using slicer value\n",
      "  warnings.warn(\n"
     ]
    },
    {
     "name": "stdout",
     "output_type": "stream",
     "text": [
      "[-3.39007475e-05] renee\n",
      "[0.8741590713639439] renee\n",
      "[ True] renee\n",
      "Healpix slicer using NSIDE=64, approximate resolution 54.967783 arcminutes\n"
     ]
    },
    {
     "name": "stderr",
     "output_type": "stream",
     "text": [
      "/pscratch/sd/r/rhlozek/ObsStrat/code/meanz_uniformity/meanz_modules.py:356: RankWarning: Polyfit may be poorly conditioned\n",
      "  clbias, meanz_use = compute_Clbias(meanzinterp,stdz)\n",
      "/opt/lsst/software/stack/conda/miniconda3-py38_4.9.2/envs/lsst-scipipe-7.0.1/lib/python3.11/site-packages/rubin_sim/maf/maps/dust_map.py:44: UserWarning: Slicer value of nside 64 different from map value 128, using slicer value\n",
      "  warnings.warn(\n"
     ]
    },
    {
     "name": "stdout",
     "output_type": "stream",
     "text": [
      "[0.00013688] renee\n",
      "[0.9072629812302635] renee\n",
      "[ True] renee\n",
      "Healpix slicer using NSIDE=64, approximate resolution 54.967783 arcminutes\n"
     ]
    },
    {
     "name": "stderr",
     "output_type": "stream",
     "text": [
      "/pscratch/sd/r/rhlozek/ObsStrat/code/meanz_uniformity/meanz_modules.py:356: RankWarning: Polyfit may be poorly conditioned\n",
      "  clbias, meanz_use = compute_Clbias(meanzinterp,stdz)\n",
      "/opt/lsst/software/stack/conda/miniconda3-py38_4.9.2/envs/lsst-scipipe-7.0.1/lib/python3.11/site-packages/rubin_sim/maf/maps/dust_map.py:44: UserWarning: Slicer value of nside 64 different from map value 128, using slicer value\n",
      "  warnings.warn(\n"
     ]
    },
    {
     "name": "stdout",
     "output_type": "stream",
     "text": [
      "[0.00042293] renee\n",
      "[0.9093645383226086] renee\n",
      "[ True] renee\n",
      "Healpix slicer using NSIDE=64, approximate resolution 54.967783 arcminutes\n"
     ]
    },
    {
     "name": "stderr",
     "output_type": "stream",
     "text": [
      "/pscratch/sd/r/rhlozek/ObsStrat/code/meanz_uniformity/meanz_modules.py:356: RankWarning: Polyfit may be poorly conditioned\n",
      "  clbias, meanz_use = compute_Clbias(meanzinterp,stdz)\n",
      "/opt/lsst/software/stack/conda/miniconda3-py38_4.9.2/envs/lsst-scipipe-7.0.1/lib/python3.11/site-packages/rubin_sim/maf/maps/dust_map.py:44: UserWarning: Slicer value of nside 64 different from map value 128, using slicer value\n",
      "  warnings.warn(\n"
     ]
    },
    {
     "name": "stdout",
     "output_type": "stream",
     "text": [
      "[0.00057886] renee\n",
      "[0.9279583070499758] renee\n",
      "[ True] renee\n"
     ]
    },
    {
     "name": "stderr",
     "output_type": "stream",
     "text": [
      "/pscratch/sd/r/rhlozek/ObsStrat/code/meanz_uniformity/meanz_modules.py:356: RankWarning: Polyfit may be poorly conditioned\n",
      "  clbias, meanz_use = compute_Clbias(meanzinterp,stdz)\n"
     ]
    },
    {
     "name": "stdout",
     "output_type": "stream",
     "text": [
      "Healpix slicer using NSIDE=64, approximate resolution 54.967783 arcminutes\n"
     ]
    },
    {
     "name": "stderr",
     "output_type": "stream",
     "text": [
      "/opt/lsst/software/stack/conda/miniconda3-py38_4.9.2/envs/lsst-scipipe-7.0.1/lib/python3.11/site-packages/rubin_sim/maf/maps/dust_map.py:44: UserWarning: Slicer value of nside 64 different from map value 128, using slicer value\n",
      "  warnings.warn(\n"
     ]
    },
    {
     "name": "stdout",
     "output_type": "stream",
     "text": [
      "[-8.4272304e-05] renee\n",
      "[0.9258912280838624] renee\n",
      "[ True] renee\n",
      "Healpix slicer using NSIDE=64, approximate resolution 54.967783 arcminutes\n"
     ]
    },
    {
     "name": "stderr",
     "output_type": "stream",
     "text": [
      "/pscratch/sd/r/rhlozek/ObsStrat/code/meanz_uniformity/meanz_modules.py:356: RankWarning: Polyfit may be poorly conditioned\n",
      "  clbias, meanz_use = compute_Clbias(meanzinterp,stdz)\n",
      "/opt/lsst/software/stack/conda/miniconda3-py38_4.9.2/envs/lsst-scipipe-7.0.1/lib/python3.11/site-packages/rubin_sim/maf/maps/dust_map.py:44: UserWarning: Slicer value of nside 64 different from map value 128, using slicer value\n",
      "  warnings.warn(\n"
     ]
    },
    {
     "name": "stdout",
     "output_type": "stream",
     "text": [
      "[0.00068518] renee\n",
      "[0.9414640003694491] renee\n",
      "[ True] renee\n",
      "Healpix slicer using NSIDE=64, approximate resolution 54.967783 arcminutes\n"
     ]
    },
    {
     "name": "stderr",
     "output_type": "stream",
     "text": [
      "/pscratch/sd/r/rhlozek/ObsStrat/code/meanz_uniformity/meanz_modules.py:356: RankWarning: Polyfit may be poorly conditioned\n",
      "  clbias, meanz_use = compute_Clbias(meanzinterp,stdz)\n",
      "/opt/lsst/software/stack/conda/miniconda3-py38_4.9.2/envs/lsst-scipipe-7.0.1/lib/python3.11/site-packages/rubin_sim/maf/maps/dust_map.py:44: UserWarning: Slicer value of nside 64 different from map value 128, using slicer value\n",
      "  warnings.warn(\n"
     ]
    },
    {
     "name": "stdout",
     "output_type": "stream",
     "text": [
      "[0.00089941] renee\n",
      "[0.9437810163197108] renee\n",
      "[ True] renee\n",
      "Healpix slicer using NSIDE=64, approximate resolution 54.967783 arcminutes\n"
     ]
    },
    {
     "name": "stderr",
     "output_type": "stream",
     "text": [
      "/pscratch/sd/r/rhlozek/ObsStrat/code/meanz_uniformity/meanz_modules.py:356: RankWarning: Polyfit may be poorly conditioned\n",
      "  clbias, meanz_use = compute_Clbias(meanzinterp,stdz)\n",
      "/opt/lsst/software/stack/conda/miniconda3-py38_4.9.2/envs/lsst-scipipe-7.0.1/lib/python3.11/site-packages/rubin_sim/maf/maps/dust_map.py:44: UserWarning: Slicer value of nside 64 different from map value 128, using slicer value\n",
      "  warnings.warn(\n"
     ]
    },
    {
     "name": "stdout",
     "output_type": "stream",
     "text": [
      "[0.0009474] renee\n",
      "[0.9506295302460489] renee\n",
      "[ True] renee\n",
      "Healpix slicer using NSIDE=64, approximate resolution 54.967783 arcminutes\n"
     ]
    },
    {
     "name": "stderr",
     "output_type": "stream",
     "text": [
      "/pscratch/sd/r/rhlozek/ObsStrat/code/meanz_uniformity/meanz_modules.py:356: RankWarning: Polyfit may be poorly conditioned\n",
      "  clbias, meanz_use = compute_Clbias(meanzinterp,stdz)\n",
      "/opt/lsst/software/stack/conda/miniconda3-py38_4.9.2/envs/lsst-scipipe-7.0.1/lib/python3.11/site-packages/rubin_sim/maf/maps/dust_map.py:44: UserWarning: Slicer value of nside 64 different from map value 128, using slicer value\n",
      "  warnings.warn(\n"
     ]
    },
    {
     "name": "stdout",
     "output_type": "stream",
     "text": [
      "[0.00062905] renee\n",
      "[0.9514725958528547] renee\n",
      "[ True] renee\n",
      "Healpix slicer using NSIDE=64, approximate resolution 54.967783 arcminutes\n"
     ]
    },
    {
     "name": "stderr",
     "output_type": "stream",
     "text": [
      "/pscratch/sd/r/rhlozek/ObsStrat/code/meanz_uniformity/meanz_modules.py:356: RankWarning: Polyfit may be poorly conditioned\n",
      "  clbias, meanz_use = compute_Clbias(meanzinterp,stdz)\n",
      "/opt/lsst/software/stack/conda/miniconda3-py38_4.9.2/envs/lsst-scipipe-7.0.1/lib/python3.11/site-packages/rubin_sim/maf/maps/dust_map.py:44: UserWarning: Slicer value of nside 64 different from map value 128, using slicer value\n",
      "  warnings.warn(\n"
     ]
    },
    {
     "name": "stdout",
     "output_type": "stream",
     "text": [
      "[0.00045525] renee\n",
      "[0.9570048463949885] renee\n",
      "[ True] renee\n",
      "Healpix slicer using NSIDE=64, approximate resolution 54.967783 arcminutes\n"
     ]
    },
    {
     "name": "stderr",
     "output_type": "stream",
     "text": [
      "/pscratch/sd/r/rhlozek/ObsStrat/code/meanz_uniformity/meanz_modules.py:356: RankWarning: Polyfit may be poorly conditioned\n",
      "  clbias, meanz_use = compute_Clbias(meanzinterp,stdz)\n",
      "/opt/lsst/software/stack/conda/miniconda3-py38_4.9.2/envs/lsst-scipipe-7.0.1/lib/python3.11/site-packages/rubin_sim/maf/maps/dust_map.py:44: UserWarning: Slicer value of nside 64 different from map value 128, using slicer value\n",
      "  warnings.warn(\n"
     ]
    },
    {
     "name": "stdout",
     "output_type": "stream",
     "text": [
      "[0.00066576] renee\n",
      "[0.9602131232823772] renee\n",
      "[ True] renee\n",
      "Healpix slicer using NSIDE=64, approximate resolution 54.967783 arcminutes\n"
     ]
    },
    {
     "name": "stderr",
     "output_type": "stream",
     "text": [
      "/pscratch/sd/r/rhlozek/ObsStrat/code/meanz_uniformity/meanz_modules.py:356: RankWarning: Polyfit may be poorly conditioned\n",
      "  clbias, meanz_use = compute_Clbias(meanzinterp,stdz)\n",
      "/opt/lsst/software/stack/conda/miniconda3-py38_4.9.2/envs/lsst-scipipe-7.0.1/lib/python3.11/site-packages/rubin_sim/maf/maps/dust_map.py:44: UserWarning: Slicer value of nside 64 different from map value 128, using slicer value\n",
      "  warnings.warn(\n"
     ]
    },
    {
     "name": "stdout",
     "output_type": "stream",
     "text": [
      "[0.00050609] renee\n",
      "[0.9634192707546564] renee\n",
      "[ True] renee\n",
      "Healpix slicer using NSIDE=64, approximate resolution 54.967783 arcminutes\n"
     ]
    },
    {
     "name": "stderr",
     "output_type": "stream",
     "text": [
      "/pscratch/sd/r/rhlozek/ObsStrat/code/meanz_uniformity/meanz_modules.py:356: RankWarning: Polyfit may be poorly conditioned\n",
      "  clbias, meanz_use = compute_Clbias(meanzinterp,stdz)\n",
      "/opt/lsst/software/stack/conda/miniconda3-py38_4.9.2/envs/lsst-scipipe-7.0.1/lib/python3.11/site-packages/rubin_sim/maf/maps/dust_map.py:44: UserWarning: Slicer value of nside 64 different from map value 128, using slicer value\n",
      "  warnings.warn(\n"
     ]
    },
    {
     "name": "stdout",
     "output_type": "stream",
     "text": [
      "[0.00059114] renee\n",
      "[0.9665468809801466] renee\n",
      "[ True] renee\n",
      "Healpix slicer using NSIDE=64, approximate resolution 54.967783 arcminutes\n"
     ]
    },
    {
     "name": "stderr",
     "output_type": "stream",
     "text": [
      "/pscratch/sd/r/rhlozek/ObsStrat/code/meanz_uniformity/meanz_modules.py:356: RankWarning: Polyfit may be poorly conditioned\n",
      "  clbias, meanz_use = compute_Clbias(meanzinterp,stdz)\n",
      "/opt/lsst/software/stack/conda/miniconda3-py38_4.9.2/envs/lsst-scipipe-7.0.1/lib/python3.11/site-packages/rubin_sim/maf/maps/dust_map.py:44: UserWarning: Slicer value of nside 64 different from map value 128, using slicer value\n",
      "  warnings.warn(\n"
     ]
    },
    {
     "name": "stdout",
     "output_type": "stream",
     "text": [
      "[0.00082769] renee\n",
      "[0.9703109681551577] renee\n",
      "[ True] renee\n",
      "Healpix slicer using NSIDE=64, approximate resolution 54.967783 arcminutes\n"
     ]
    },
    {
     "name": "stderr",
     "output_type": "stream",
     "text": [
      "/pscratch/sd/r/rhlozek/ObsStrat/code/meanz_uniformity/meanz_modules.py:356: RankWarning: Polyfit may be poorly conditioned\n",
      "  clbias, meanz_use = compute_Clbias(meanzinterp,stdz)\n",
      "/opt/lsst/software/stack/conda/miniconda3-py38_4.9.2/envs/lsst-scipipe-7.0.1/lib/python3.11/site-packages/rubin_sim/maf/maps/dust_map.py:44: UserWarning: Slicer value of nside 64 different from map value 128, using slicer value\n",
      "  warnings.warn(\n"
     ]
    },
    {
     "name": "stdout",
     "output_type": "stream",
     "text": [
      "[0.00063776] renee\n",
      "[0.9715372411968863] renee\n",
      "[ True] renee\n",
      "Healpix slicer using NSIDE=64, approximate resolution 54.967783 arcminutes\n"
     ]
    },
    {
     "name": "stderr",
     "output_type": "stream",
     "text": [
      "/pscratch/sd/r/rhlozek/ObsStrat/code/meanz_uniformity/meanz_modules.py:356: RankWarning: Polyfit may be poorly conditioned\n",
      "  clbias, meanz_use = compute_Clbias(meanzinterp,stdz)\n",
      "/opt/lsst/software/stack/conda/miniconda3-py38_4.9.2/envs/lsst-scipipe-7.0.1/lib/python3.11/site-packages/rubin_sim/maf/maps/dust_map.py:44: UserWarning: Slicer value of nside 64 different from map value 128, using slicer value\n",
      "  warnings.warn(\n"
     ]
    },
    {
     "name": "stdout",
     "output_type": "stream",
     "text": [
      "[0.00109293] renee\n",
      "[0.9770528378056917] renee\n",
      "[ True] renee\n",
      "Healpix slicer using NSIDE=64, approximate resolution 54.967783 arcminutes\n"
     ]
    },
    {
     "name": "stderr",
     "output_type": "stream",
     "text": [
      "/pscratch/sd/r/rhlozek/ObsStrat/code/meanz_uniformity/meanz_modules.py:356: RankWarning: Polyfit may be poorly conditioned\n",
      "  clbias, meanz_use = compute_Clbias(meanzinterp,stdz)\n",
      "/opt/lsst/software/stack/conda/miniconda3-py38_4.9.2/envs/lsst-scipipe-7.0.1/lib/python3.11/site-packages/rubin_sim/maf/maps/dust_map.py:44: UserWarning: Slicer value of nside 64 different from map value 128, using slicer value\n",
      "  warnings.warn(\n"
     ]
    },
    {
     "name": "stdout",
     "output_type": "stream",
     "text": [
      "[0.00062843] renee\n",
      "[0.9767511275190991] renee\n",
      "[ True] renee\n"
     ]
    },
    {
     "name": "stderr",
     "output_type": "stream",
     "text": [
      "/pscratch/sd/r/rhlozek/ObsStrat/code/meanz_uniformity/meanz_modules.py:356: RankWarning: Polyfit may be poorly conditioned\n",
      "  clbias, meanz_use = compute_Clbias(meanzinterp,stdz)\n"
     ]
    },
    {
     "data": {
      "text/html": [
       "<div>\n",
       "<style scoped>\n",
       "    .dataframe tbody tr th:only-of-type {\n",
       "        vertical-align: middle;\n",
       "    }\n",
       "\n",
       "    .dataframe tbody tr th {\n",
       "        vertical-align: top;\n",
       "    }\n",
       "\n",
       "    .dataframe thead th {\n",
       "        text-align: right;\n",
       "    }\n",
       "</style>\n",
       "<table border=\"1\" class=\"dataframe\">\n",
       "  <thead>\n",
       "    <tr style=\"text-align: right;\">\n",
       "      <th></th>\n",
       "      <th>Strategy</th>\n",
       "      <th>Year</th>\n",
       "      <th>Median i-band depth</th>\n",
       "      <th>Mean i-band depth</th>\n",
       "      <th>Std i-band depth</th>\n",
       "      <th>IQR i-band depth</th>\n",
       "      <th>Mean z bin</th>\n",
       "      <th>Std z bin</th>\n",
       "      <th>Clbias</th>\n",
       "      <th>Used meanz</th>\n",
       "    </tr>\n",
       "  </thead>\n",
       "  <tbody>\n",
       "    <tr>\n",
       "      <th>0</th>\n",
       "      <td>baseline_v3.3_10yrs</td>\n",
       "      <td>1</td>\n",
       "      <td>25.252161</td>\n",
       "      <td>25.233240</td>\n",
       "      <td>0.184610</td>\n",
       "      <td>0.235948</td>\n",
       "      <td>[0.8756020654870043]</td>\n",
       "      <td>[0.00023249104531437845]</td>\n",
       "      <td>[9.568900677043131e-05]</td>\n",
       "      <td>[0.8756020654870043]</td>\n",
       "    </tr>\n",
       "    <tr>\n",
       "      <th>1</th>\n",
       "      <td>noroll_v3.3_10yrs</td>\n",
       "      <td>1</td>\n",
       "      <td>25.252161</td>\n",
       "      <td>25.233240</td>\n",
       "      <td>0.184610</td>\n",
       "      <td>0.235948</td>\n",
       "      <td>[0.8741590713639439]</td>\n",
       "      <td>[-3.390074751384821e-05]</td>\n",
       "      <td>[-1.3903624095649551e-05]</td>\n",
       "      <td>[0.8741590713639439]</td>\n",
       "    </tr>\n",
       "    <tr>\n",
       "      <th>2</th>\n",
       "      <td>baseline_v3.3_10yrs</td>\n",
       "      <td>2</td>\n",
       "      <td>25.635288</td>\n",
       "      <td>25.598740</td>\n",
       "      <td>0.197662</td>\n",
       "      <td>0.260341</td>\n",
       "      <td>[0.9072629812302635]</td>\n",
       "      <td>[0.00013687782713132172]</td>\n",
       "      <td>[6.080511060858034e-05]</td>\n",
       "      <td>[0.9072629812302635]</td>\n",
       "    </tr>\n",
       "    <tr>\n",
       "      <th>3</th>\n",
       "      <td>noroll_v3.3_10yrs</td>\n",
       "      <td>2</td>\n",
       "      <td>25.626280</td>\n",
       "      <td>25.601309</td>\n",
       "      <td>0.170386</td>\n",
       "      <td>0.215176</td>\n",
       "      <td>[0.9093645383226086]</td>\n",
       "      <td>[0.0004229291322719931]</td>\n",
       "      <td>[0.00018881519202052982]</td>\n",
       "      <td>[0.9093645383226086]</td>\n",
       "    </tr>\n",
       "    <tr>\n",
       "      <th>4</th>\n",
       "      <td>baseline_v3.3_10yrs</td>\n",
       "      <td>3</td>\n",
       "      <td>25.843019</td>\n",
       "      <td>25.824180</td>\n",
       "      <td>0.217975</td>\n",
       "      <td>0.277805</td>\n",
       "      <td>[0.9279583070499758]</td>\n",
       "      <td>[0.0005788623259068919]</td>\n",
       "      <td>[0.00026994504221119304]</td>\n",
       "      <td>[0.9279583070499758]</td>\n",
       "    </tr>\n",
       "    <tr>\n",
       "      <th>5</th>\n",
       "      <td>noroll_v3.3_10yrs</td>\n",
       "      <td>3</td>\n",
       "      <td>25.866495</td>\n",
       "      <td>25.839571</td>\n",
       "      <td>0.168145</td>\n",
       "      <td>0.213265</td>\n",
       "      <td>[0.9258912280838624]</td>\n",
       "      <td>[-8.427230397418324e-05]</td>\n",
       "      <td>[-3.911092208100766e-05]</td>\n",
       "      <td>[0.9258912280838624]</td>\n",
       "    </tr>\n",
       "    <tr>\n",
       "      <th>6</th>\n",
       "      <td>baseline_v3.3_10yrs</td>\n",
       "      <td>4</td>\n",
       "      <td>25.994479</td>\n",
       "      <td>25.965053</td>\n",
       "      <td>0.172323</td>\n",
       "      <td>0.220420</td>\n",
       "      <td>[0.9414640003694491]</td>\n",
       "      <td>[0.0006851770781091105]</td>\n",
       "      <td>[0.00032963337135684205]</td>\n",
       "      <td>[0.9414640003694491]</td>\n",
       "    </tr>\n",
       "    <tr>\n",
       "      <th>7</th>\n",
       "      <td>noroll_v3.3_10yrs</td>\n",
       "      <td>4</td>\n",
       "      <td>26.001999</td>\n",
       "      <td>25.975704</td>\n",
       "      <td>0.164686</td>\n",
       "      <td>0.209550</td>\n",
       "      <td>[0.9437810163197108]</td>\n",
       "      <td>[0.0008994125076883838]</td>\n",
       "      <td>[0.00043500046719581226]</td>\n",
       "      <td>[0.9437810163197108]</td>\n",
       "    </tr>\n",
       "    <tr>\n",
       "      <th>8</th>\n",
       "      <td>baseline_v3.3_10yrs</td>\n",
       "      <td>5</td>\n",
       "      <td>26.073056</td>\n",
       "      <td>26.048741</td>\n",
       "      <td>0.179762</td>\n",
       "      <td>0.229556</td>\n",
       "      <td>[0.9506295302460489]</td>\n",
       "      <td>[0.000947395001086311]</td>\n",
       "      <td>[0.0004654105111258005]</td>\n",
       "      <td>[0.9506295302460489]</td>\n",
       "    </tr>\n",
       "    <tr>\n",
       "      <th>9</th>\n",
       "      <td>noroll_v3.3_10yrs</td>\n",
       "      <td>5</td>\n",
       "      <td>26.095760</td>\n",
       "      <td>26.066504</td>\n",
       "      <td>0.162930</td>\n",
       "      <td>0.207229</td>\n",
       "      <td>[0.9514725958528547]</td>\n",
       "      <td>[0.0006290493136091181]</td>\n",
       "      <td>[0.00030961394857496]</td>\n",
       "      <td>[0.9514725958528547]</td>\n",
       "    </tr>\n",
       "    <tr>\n",
       "      <th>10</th>\n",
       "      <td>baseline_v3.3_10yrs</td>\n",
       "      <td>6</td>\n",
       "      <td>26.163027</td>\n",
       "      <td>26.128642</td>\n",
       "      <td>0.164549</td>\n",
       "      <td>0.209568</td>\n",
       "      <td>[0.9570048463949885]</td>\n",
       "      <td>[0.0004552514598719311]</td>\n",
       "      <td>[0.00022689303272729357]</td>\n",
       "      <td>[0.9570048463949885]</td>\n",
       "    </tr>\n",
       "    <tr>\n",
       "      <th>11</th>\n",
       "      <td>noroll_v3.3_10yrs</td>\n",
       "      <td>6</td>\n",
       "      <td>26.176187</td>\n",
       "      <td>26.145911</td>\n",
       "      <td>0.160461</td>\n",
       "      <td>0.205025</td>\n",
       "      <td>[0.9602131232823772]</td>\n",
       "      <td>[0.0006657613078559028]</td>\n",
       "      <td>[0.00033421503173863045]</td>\n",
       "      <td>[0.9602131232823772]</td>\n",
       "    </tr>\n",
       "    <tr>\n",
       "      <th>12</th>\n",
       "      <td>baseline_v3.3_10yrs</td>\n",
       "      <td>7</td>\n",
       "      <td>26.220376</td>\n",
       "      <td>26.191188</td>\n",
       "      <td>0.169301</td>\n",
       "      <td>0.216515</td>\n",
       "      <td>[0.9634192707546564]</td>\n",
       "      <td>[0.0005060881698205949]</td>\n",
       "      <td>[0.00025589345585428383]</td>\n",
       "      <td>[0.9634192707546564]</td>\n",
       "    </tr>\n",
       "    <tr>\n",
       "      <th>13</th>\n",
       "      <td>noroll_v3.3_10yrs</td>\n",
       "      <td>7</td>\n",
       "      <td>26.244674</td>\n",
       "      <td>26.215919</td>\n",
       "      <td>0.158385</td>\n",
       "      <td>0.200181</td>\n",
       "      <td>[0.9665468809801466]</td>\n",
       "      <td>[0.0005911433899743281]</td>\n",
       "      <td>[0.0003009991620883172]</td>\n",
       "      <td>[0.9665468809801466]</td>\n",
       "    </tr>\n",
       "    <tr>\n",
       "      <th>14</th>\n",
       "      <td>baseline_v3.3_10yrs</td>\n",
       "      <td>8</td>\n",
       "      <td>26.284233</td>\n",
       "      <td>26.248194</td>\n",
       "      <td>0.164319</td>\n",
       "      <td>0.209159</td>\n",
       "      <td>[0.9703109681551577]</td>\n",
       "      <td>[0.000827689456812573]</td>\n",
       "      <td>[0.00042499657416395116]</td>\n",
       "      <td>[0.9703109681551577]</td>\n",
       "    </tr>\n",
       "    <tr>\n",
       "      <th>15</th>\n",
       "      <td>noroll_v3.3_10yrs</td>\n",
       "      <td>8</td>\n",
       "      <td>26.300066</td>\n",
       "      <td>26.270944</td>\n",
       "      <td>0.161353</td>\n",
       "      <td>0.205426</td>\n",
       "      <td>[0.9715372411968863]</td>\n",
       "      <td>[0.0006377572186815605]</td>\n",
       "      <td>[0.00032836595792609506]</td>\n",
       "      <td>[0.9715372411968863]</td>\n",
       "    </tr>\n",
       "    <tr>\n",
       "      <th>16</th>\n",
       "      <td>baseline_v3.3_10yrs</td>\n",
       "      <td>9</td>\n",
       "      <td>26.337261</td>\n",
       "      <td>26.305354</td>\n",
       "      <td>0.167004</td>\n",
       "      <td>0.218167</td>\n",
       "      <td>[0.9770528378056917]</td>\n",
       "      <td>[0.0010929326886114901]</td>\n",
       "      <td>[0.0005696489405282366]</td>\n",
       "      <td>[0.9770528378056917]</td>\n",
       "    </tr>\n",
       "    <tr>\n",
       "      <th>17</th>\n",
       "      <td>noroll_v3.3_10yrs</td>\n",
       "      <td>9</td>\n",
       "      <td>26.361844</td>\n",
       "      <td>26.331324</td>\n",
       "      <td>0.158527</td>\n",
       "      <td>0.201136</td>\n",
       "      <td>[0.9767511275190991]</td>\n",
       "      <td>[0.0006284334156317629]</td>\n",
       "      <td>[0.0003273281575238605]</td>\n",
       "      <td>[0.9767511275190991]</td>\n",
       "    </tr>\n",
       "  </tbody>\n",
       "</table>\n",
       "</div>"
      ],
      "text/plain": [
       "               Strategy  Year  Median i-band depth  Mean i-band depth  \\\n",
       "0   baseline_v3.3_10yrs     1            25.252161          25.233240   \n",
       "1     noroll_v3.3_10yrs     1            25.252161          25.233240   \n",
       "2   baseline_v3.3_10yrs     2            25.635288          25.598740   \n",
       "3     noroll_v3.3_10yrs     2            25.626280          25.601309   \n",
       "4   baseline_v3.3_10yrs     3            25.843019          25.824180   \n",
       "5     noroll_v3.3_10yrs     3            25.866495          25.839571   \n",
       "6   baseline_v3.3_10yrs     4            25.994479          25.965053   \n",
       "7     noroll_v3.3_10yrs     4            26.001999          25.975704   \n",
       "8   baseline_v3.3_10yrs     5            26.073056          26.048741   \n",
       "9     noroll_v3.3_10yrs     5            26.095760          26.066504   \n",
       "10  baseline_v3.3_10yrs     6            26.163027          26.128642   \n",
       "11    noroll_v3.3_10yrs     6            26.176187          26.145911   \n",
       "12  baseline_v3.3_10yrs     7            26.220376          26.191188   \n",
       "13    noroll_v3.3_10yrs     7            26.244674          26.215919   \n",
       "14  baseline_v3.3_10yrs     8            26.284233          26.248194   \n",
       "15    noroll_v3.3_10yrs     8            26.300066          26.270944   \n",
       "16  baseline_v3.3_10yrs     9            26.337261          26.305354   \n",
       "17    noroll_v3.3_10yrs     9            26.361844          26.331324   \n",
       "\n",
       "    Std i-band depth  IQR i-band depth            Mean z bin  \\\n",
       "0           0.184610          0.235948  [0.8756020654870043]   \n",
       "1           0.184610          0.235948  [0.8741590713639439]   \n",
       "2           0.197662          0.260341  [0.9072629812302635]   \n",
       "3           0.170386          0.215176  [0.9093645383226086]   \n",
       "4           0.217975          0.277805  [0.9279583070499758]   \n",
       "5           0.168145          0.213265  [0.9258912280838624]   \n",
       "6           0.172323          0.220420  [0.9414640003694491]   \n",
       "7           0.164686          0.209550  [0.9437810163197108]   \n",
       "8           0.179762          0.229556  [0.9506295302460489]   \n",
       "9           0.162930          0.207229  [0.9514725958528547]   \n",
       "10          0.164549          0.209568  [0.9570048463949885]   \n",
       "11          0.160461          0.205025  [0.9602131232823772]   \n",
       "12          0.169301          0.216515  [0.9634192707546564]   \n",
       "13          0.158385          0.200181  [0.9665468809801466]   \n",
       "14          0.164319          0.209159  [0.9703109681551577]   \n",
       "15          0.161353          0.205426  [0.9715372411968863]   \n",
       "16          0.167004          0.218167  [0.9770528378056917]   \n",
       "17          0.158527          0.201136  [0.9767511275190991]   \n",
       "\n",
       "                   Std z bin                     Clbias            Used meanz  \n",
       "0   [0.00023249104531437845]    [9.568900677043131e-05]  [0.8756020654870043]  \n",
       "1   [-3.390074751384821e-05]  [-1.3903624095649551e-05]  [0.8741590713639439]  \n",
       "2   [0.00013687782713132172]    [6.080511060858034e-05]  [0.9072629812302635]  \n",
       "3    [0.0004229291322719931]   [0.00018881519202052982]  [0.9093645383226086]  \n",
       "4    [0.0005788623259068919]   [0.00026994504221119304]  [0.9279583070499758]  \n",
       "5   [-8.427230397418324e-05]   [-3.911092208100766e-05]  [0.9258912280838624]  \n",
       "6    [0.0006851770781091105]   [0.00032963337135684205]  [0.9414640003694491]  \n",
       "7    [0.0008994125076883838]   [0.00043500046719581226]  [0.9437810163197108]  \n",
       "8     [0.000947395001086311]    [0.0004654105111258005]  [0.9506295302460489]  \n",
       "9    [0.0006290493136091181]      [0.00030961394857496]  [0.9514725958528547]  \n",
       "10   [0.0004552514598719311]   [0.00022689303272729357]  [0.9570048463949885]  \n",
       "11   [0.0006657613078559028]   [0.00033421503173863045]  [0.9602131232823772]  \n",
       "12   [0.0005060881698205949]   [0.00025589345585428383]  [0.9634192707546564]  \n",
       "13   [0.0005911433899743281]    [0.0003009991620883172]  [0.9665468809801466]  \n",
       "14    [0.000827689456812573]   [0.00042499657416395116]  [0.9703109681551577]  \n",
       "15   [0.0006377572186815605]   [0.00032836595792609506]  [0.9715372411968863]  \n",
       "16   [0.0010929326886114901]    [0.0005696489405282366]  [0.9770528378056917]  \n",
       "17   [0.0006284334156317629]    [0.0003273281575238605]  [0.9767511275190991]  "
      ]
     },
     "metadata": {},
     "output_type": "display_data"
    }
   ],
   "source": [
    "import numpy as np\n",
    "import pandas as pd\n",
    "import importlib\n",
    "importlib.reload(mzmod)\n",
    "\n",
    "v33_sim_list = ['/pscratch/sd/r/rhlozek/rubin_sim_data/sim_baseline/baseline_v3.3_10yrs.db',\n",
    "           '/pscratch/sd/r/rhlozek/rubin_sim_data/noroll/noroll_v3.3_10yrs.db']\n",
    "#,\n",
    "#            '/pscratch/sd/r/rhlozek/rubin_sim_data/noroll/roll_mid1_const_season4v3.3_10yrs.db',\n",
    "#            '/pscratch/sd/r/rhlozek/rubin_sim_data/noroll/roll_mid2_const_season2v3.3_10yrs.db',]\n",
    "v33_name_list = [path.splitext(path.basename(sim))[0] for sim in v33_sim_list]\n",
    "nums =len(v33_name_list)\n",
    "v33_df = mzmod.get_year_by_year_metrics_ak(np.arange(1,10), v33_name_list[:nums], v33_sim_list[:nums])\n",
    "display(v33_df)"
   ]
  },
  {
   "cell_type": "code",
   "execution_count": 7,
   "metadata": {},
   "outputs": [
    {
     "data": {
      "image/png": "[encoded data removed]",
      "text/plain": [
       "<Figure size 640x480 with 1 Axes>"
      ]
     },
     "metadata": {},
     "output_type": "display_data"
    }
   ],
   "source": [
    "importlib.reload(mzmod)\n",
    "\n",
    "mzmod.plot_meanz_metrics_by_year_ak(v33_df, years=[3,5],num_bins=5)\n"
   ]
  },
  {
   "cell_type": "code",
   "execution_count": 35,
   "metadata": {
    "tags": []
   },
   "outputs": [],
   "source": [
    "v33_df.to_pickle('v33_dataframe_withmeanz.pkl')"
   ]
  },
  {
   "cell_type": "code",
   "execution_count": 25,
   "metadata": {},
   "outputs": [
    {
     "name": "stdout",
     "output_type": "stream",
     "text": [
      "[0.046745091529873814, 0.08500551112138602, 0.11915807457810432, 0.16180047285571472, 0.2539575165815878]\n"
     ]
    }
   ],
   "source": [
    "vec = mzmod.sensitivity(num_bins=5,fiducial_ilim=24.1)\n",
    "print(vec)\n",
    "# import numpy.random as random\n",
    "# vec = np.linspace(2,18,17)\n",
    "# print(vec)\n",
    "# random.shuffle(vec)\n",
    "# print(vec)"
   ]
  },
  {
   "cell_type": "code",
   "execution_count": 11,
   "metadata": {},
   "outputs": [],
   "source": [
    "# import matplotlib.pyplot as plt\n",
    "# fig, axs = plt.subplots(5,1,sharex=True)\n",
    "# x=np.linspace(0,5,100)\n",
    "# axs[0].plot(x,x**2)\n",
    "# axs[3].plot(x,x**2)"
   ]
  },
  {
   "cell_type": "markdown",
   "metadata": {},
   "source": [
    "### Here we plot the year-by-year metric results.  We read in from the dataframe, so if it was already produced, we can skip over the previous chunk of notebook."
   ]
  },
  {
   "cell_type": "code",
   "execution_count": 12,
   "metadata": {
    "tags": []
   },
   "outputs": [
    {
     "data": {
      "image/png": "[encoded data removed]",
      "text/plain": [
       "<Figure size 640x480 with 1 Axes>"
      ]
     },
     "metadata": {},
     "output_type": "display_data"
    }
   ],
   "source": [
    "v33_df = pd.read_pickle('v33_dataframe_withmeanz.pkl')\n",
    "mzmod.plot_metric_by_year(v33_df, 'Mean i-band depth')"
   ]
  }
 ],
 "metadata": {
  "kernelspec": {
   "display_name": "desc-stack-weekly-latest",
   "language": "python",
   "name": "desc-stack-weekly-latest"
  }
 },
 "nbformat": 4,
 "nbformat_minor": 4
}
