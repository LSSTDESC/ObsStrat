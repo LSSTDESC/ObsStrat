{
 "cells": [
  {
   "cell_type": "code",
   "execution_count": 3,
   "metadata": {
    "tags": []
   },
   "outputs": [],
   "source": [
    "import meanz_modules as mzmod\n",
    "import rubin_sim\n",
    "import rubin_sim.maf as maf\n",
    "from rubin_sim.scheduler.utils import SkyAreaGenerator\n",
    "from rubin_sim.data import get_baseline\n",
    "\n",
    "from os import path\n",
    "\n",
    "opsim_fname = rubin_sim.data.get_baseline()\n",
    "run_name = path.splitext(path.basename(opsim_fname))[0]\n",
    "nside=64\n"
   ]
  },
  {
   "cell_type": "code",
   "execution_count": null,
   "metadata": {
    "tags": []
   },
   "outputs": [
    {
     "name": "stdout",
     "output_type": "stream",
     "text": [
      "Healpix slicer using NSIDE=64, approximate resolution 54.967783 arcminutes\n",
      "['baseline_v2_1_10yrs_ExgalM5_i_and_note_not_like_DD_and_night_lt_730_and_note_not_like_twilight_near_sun_HEAL']\n",
      "25.381523996118815\n"
     ]
    }
   ],
   "source": [
    "# # Apply the above routine to our baseline sim, and show the plots\n",
    "use_filter='i'\n",
    "bgroup, bd = mzmod.metric_plots(run_name, opsim_fname, year=2,nside=nside, use_filter=use_filter)\n",
    "bgroup.plot_all(closefigs=True)\n",
    "print(list(bd.keys()))\n",
    "print(bd[list(bd.keys())[0]].summary_values['Mean'])\n"
   ]
  },
  {
   "cell_type": "code",
   "execution_count": null,
   "metadata": {},
   "outputs": [
    {
     "name": "stdout",
     "output_type": "stream",
     "text": [
      "Healpix slicer using NSIDE=64, approximate resolution 54.967783 arcminutes\n",
      "['baseline_v2_1_10yrs_ExgalM5_g_and_note_not_like_DD_and_night_lt_730_and_note_not_like_twilight_near_sun_HEAL']\n",
      "25.727343126895526\n"
     ]
    }
   ],
   "source": [
    "# Now testing for the g-band\n",
    "use_filter='g'\n",
    "bgroup, bd = mzmod.metric_plots(run_name, opsim_fname, year=2,nside=nside, use_filter=use_filter)\n",
    "bgroup.plot_all(closefigs=True)\n",
    "print(list(bd.keys()))\n",
    "print(bd[list(bd.keys())[0]].summary_values['Mean'])"
   ]
  },
  {
   "cell_type": "code",
   "execution_count": null,
   "metadata": {
    "tags": []
   },
   "outputs": [],
   "source": [
    "# ilim = [24.1, 25.3]\n",
    "# meanz = [0.92, 1.08]\n",
    "\n",
    "# a,b = mzmod.coeff_solve(ilim,meanz)\n",
    "# print(a,b)"
   ]
  },
  {
   "cell_type": "markdown",
   "metadata": {},
   "source": [
    "### Computing quantities for some baseline strategies"
   ]
  },
  {
   "cell_type": "code",
   "execution_count": 5,
   "metadata": {
    "tags": []
   },
   "outputs": [
    {
     "name": "stdout",
     "output_type": "stream",
     "text": [
      "Healpix slicer using NSIDE=64, approximate resolution 54.967783 arcminutes\n"
     ]
    },
    {
     "name": "stderr",
     "output_type": "stream",
     "text": [
      "/opt/lsst/software/stack/conda/miniconda3-py38_4.9.2/envs/lsst-scipipe-7.0.1/lib/python3.11/site-packages/rubin_sim/maf/maps/dust_map.py:44: UserWarning: Slicer value of nside 64 different from map value 128, using slicer value\n",
      "  warnings.warn(\n"
     ]
    },
    {
     "name": "stdout",
     "output_type": "stream",
     "text": [
      "Healpix slicer using NSIDE=64, approximate resolution 54.967783 arcminutes\n"
     ]
    },
    {
     "name": "stderr",
     "output_type": "stream",
     "text": [
      "/opt/lsst/software/stack/conda/miniconda3-py38_4.9.2/envs/lsst-scipipe-7.0.1/lib/python3.11/site-packages/rubin_sim/maf/maps/dust_map.py:44: UserWarning: Slicer value of nside 64 different from map value 128, using slicer value\n",
      "  warnings.warn(\n"
     ]
    },
    {
     "name": "stdout",
     "output_type": "stream",
     "text": [
      "Healpix slicer using NSIDE=64, approximate resolution 54.967783 arcminutes\n"
     ]
    },
    {
     "name": "stderr",
     "output_type": "stream",
     "text": [
      "/opt/lsst/software/stack/conda/miniconda3-py38_4.9.2/envs/lsst-scipipe-7.0.1/lib/python3.11/site-packages/rubin_sim/maf/maps/dust_map.py:44: UserWarning: Slicer value of nside 64 different from map value 128, using slicer value\n",
      "  warnings.warn(\n"
     ]
    },
    {
     "name": "stdout",
     "output_type": "stream",
     "text": [
      "Healpix slicer using NSIDE=64, approximate resolution 54.967783 arcminutes\n"
     ]
    },
    {
     "name": "stderr",
     "output_type": "stream",
     "text": [
      "/opt/lsst/software/stack/conda/miniconda3-py38_4.9.2/envs/lsst-scipipe-7.0.1/lib/python3.11/site-packages/rubin_sim/maf/maps/dust_map.py:44: UserWarning: Slicer value of nside 64 different from map value 128, using slicer value\n",
      "  warnings.warn(\n"
     ]
    },
    {
     "name": "stdout",
     "output_type": "stream",
     "text": [
      "Healpix slicer using NSIDE=64, approximate resolution 54.967783 arcminutes\n"
     ]
    },
    {
     "name": "stderr",
     "output_type": "stream",
     "text": [
      "/opt/lsst/software/stack/conda/miniconda3-py38_4.9.2/envs/lsst-scipipe-7.0.1/lib/python3.11/site-packages/rubin_sim/maf/maps/dust_map.py:44: UserWarning: Slicer value of nside 64 different from map value 128, using slicer value\n",
      "  warnings.warn(\n"
     ]
    },
    {
     "name": "stdout",
     "output_type": "stream",
     "text": [
      "Healpix slicer using NSIDE=64, approximate resolution 54.967783 arcminutes\n"
     ]
    },
    {
     "name": "stderr",
     "output_type": "stream",
     "text": [
      "/opt/lsst/software/stack/conda/miniconda3-py38_4.9.2/envs/lsst-scipipe-7.0.1/lib/python3.11/site-packages/rubin_sim/maf/maps/dust_map.py:44: UserWarning: Slicer value of nside 64 different from map value 128, using slicer value\n",
      "  warnings.warn(\n"
     ]
    },
    {
     "name": "stdout",
     "output_type": "stream",
     "text": [
      "Healpix slicer using NSIDE=64, approximate resolution 54.967783 arcminutes\n"
     ]
    },
    {
     "name": "stderr",
     "output_type": "stream",
     "text": [
      "/opt/lsst/software/stack/conda/miniconda3-py38_4.9.2/envs/lsst-scipipe-7.0.1/lib/python3.11/site-packages/rubin_sim/maf/maps/dust_map.py:44: UserWarning: Slicer value of nside 64 different from map value 128, using slicer value\n",
      "  warnings.warn(\n"
     ]
    },
    {
     "name": "stdout",
     "output_type": "stream",
     "text": [
      "Healpix slicer using NSIDE=64, approximate resolution 54.967783 arcminutes\n"
     ]
    },
    {
     "name": "stderr",
     "output_type": "stream",
     "text": [
      "/opt/lsst/software/stack/conda/miniconda3-py38_4.9.2/envs/lsst-scipipe-7.0.1/lib/python3.11/site-packages/rubin_sim/maf/maps/dust_map.py:44: UserWarning: Slicer value of nside 64 different from map value 128, using slicer value\n",
      "  warnings.warn(\n"
     ]
    },
    {
     "name": "stdout",
     "output_type": "stream",
     "text": [
      "Healpix slicer using NSIDE=64, approximate resolution 54.967783 arcminutes\n"
     ]
    },
    {
     "name": "stderr",
     "output_type": "stream",
     "text": [
      "/opt/lsst/software/stack/conda/miniconda3-py38_4.9.2/envs/lsst-scipipe-7.0.1/lib/python3.11/site-packages/rubin_sim/maf/maps/dust_map.py:44: UserWarning: Slicer value of nside 64 different from map value 128, using slicer value\n",
      "  warnings.warn(\n"
     ]
    },
    {
     "name": "stdout",
     "output_type": "stream",
     "text": [
      "Healpix slicer using NSIDE=64, approximate resolution 54.967783 arcminutes\n"
     ]
    },
    {
     "name": "stderr",
     "output_type": "stream",
     "text": [
      "/opt/lsst/software/stack/conda/miniconda3-py38_4.9.2/envs/lsst-scipipe-7.0.1/lib/python3.11/site-packages/rubin_sim/maf/maps/dust_map.py:44: UserWarning: Slicer value of nside 64 different from map value 128, using slicer value\n",
      "  warnings.warn(\n"
     ]
    },
    {
     "name": "stdout",
     "output_type": "stream",
     "text": [
      "Healpix slicer using NSIDE=64, approximate resolution 54.967783 arcminutes\n"
     ]
    },
    {
     "name": "stderr",
     "output_type": "stream",
     "text": [
      "/opt/lsst/software/stack/conda/miniconda3-py38_4.9.2/envs/lsst-scipipe-7.0.1/lib/python3.11/site-packages/rubin_sim/maf/maps/dust_map.py:44: UserWarning: Slicer value of nside 64 different from map value 128, using slicer value\n",
      "  warnings.warn(\n"
     ]
    },
    {
     "name": "stdout",
     "output_type": "stream",
     "text": [
      "Healpix slicer using NSIDE=64, approximate resolution 54.967783 arcminutes\n"
     ]
    },
    {
     "name": "stderr",
     "output_type": "stream",
     "text": [
      "/opt/lsst/software/stack/conda/miniconda3-py38_4.9.2/envs/lsst-scipipe-7.0.1/lib/python3.11/site-packages/rubin_sim/maf/maps/dust_map.py:44: UserWarning: Slicer value of nside 64 different from map value 128, using slicer value\n",
      "  warnings.warn(\n"
     ]
    },
    {
     "name": "stdout",
     "output_type": "stream",
     "text": [
      "Healpix slicer using NSIDE=64, approximate resolution 54.967783 arcminutes\n"
     ]
    },
    {
     "name": "stderr",
     "output_type": "stream",
     "text": [
      "/opt/lsst/software/stack/conda/miniconda3-py38_4.9.2/envs/lsst-scipipe-7.0.1/lib/python3.11/site-packages/rubin_sim/maf/maps/dust_map.py:44: UserWarning: Slicer value of nside 64 different from map value 128, using slicer value\n",
      "  warnings.warn(\n"
     ]
    },
    {
     "name": "stdout",
     "output_type": "stream",
     "text": [
      "Healpix slicer using NSIDE=64, approximate resolution 54.967783 arcminutes\n"
     ]
    },
    {
     "name": "stderr",
     "output_type": "stream",
     "text": [
      "/opt/lsst/software/stack/conda/miniconda3-py38_4.9.2/envs/lsst-scipipe-7.0.1/lib/python3.11/site-packages/rubin_sim/maf/maps/dust_map.py:44: UserWarning: Slicer value of nside 64 different from map value 128, using slicer value\n",
      "  warnings.warn(\n"
     ]
    },
    {
     "name": "stdout",
     "output_type": "stream",
     "text": [
      "Healpix slicer using NSIDE=64, approximate resolution 54.967783 arcminutes\n"
     ]
    },
    {
     "name": "stderr",
     "output_type": "stream",
     "text": [
      "/opt/lsst/software/stack/conda/miniconda3-py38_4.9.2/envs/lsst-scipipe-7.0.1/lib/python3.11/site-packages/rubin_sim/maf/maps/dust_map.py:44: UserWarning: Slicer value of nside 64 different from map value 128, using slicer value\n",
      "  warnings.warn(\n"
     ]
    },
    {
     "name": "stdout",
     "output_type": "stream",
     "text": [
      "Healpix slicer using NSIDE=64, approximate resolution 54.967783 arcminutes\n"
     ]
    },
    {
     "name": "stderr",
     "output_type": "stream",
     "text": [
      "/opt/lsst/software/stack/conda/miniconda3-py38_4.9.2/envs/lsst-scipipe-7.0.1/lib/python3.11/site-packages/rubin_sim/maf/maps/dust_map.py:44: UserWarning: Slicer value of nside 64 different from map value 128, using slicer value\n",
      "  warnings.warn(\n"
     ]
    },
    {
     "name": "stdout",
     "output_type": "stream",
     "text": [
      "Healpix slicer using NSIDE=64, approximate resolution 54.967783 arcminutes\n"
     ]
    },
    {
     "name": "stderr",
     "output_type": "stream",
     "text": [
      "/opt/lsst/software/stack/conda/miniconda3-py38_4.9.2/envs/lsst-scipipe-7.0.1/lib/python3.11/site-packages/rubin_sim/maf/maps/dust_map.py:44: UserWarning: Slicer value of nside 64 different from map value 128, using slicer value\n",
      "  warnings.warn(\n"
     ]
    },
    {
     "name": "stdout",
     "output_type": "stream",
     "text": [
      "Healpix slicer using NSIDE=64, approximate resolution 54.967783 arcminutes\n"
     ]
    },
    {
     "name": "stderr",
     "output_type": "stream",
     "text": [
      "/opt/lsst/software/stack/conda/miniconda3-py38_4.9.2/envs/lsst-scipipe-7.0.1/lib/python3.11/site-packages/rubin_sim/maf/maps/dust_map.py:44: UserWarning: Slicer value of nside 64 different from map value 128, using slicer value\n",
      "  warnings.warn(\n"
     ]
    },
    {
     "name": "stdout",
     "output_type": "stream",
     "text": [
      "Healpix slicer using NSIDE=64, approximate resolution 54.967783 arcminutes\n"
     ]
    },
    {
     "name": "stderr",
     "output_type": "stream",
     "text": [
      "/opt/lsst/software/stack/conda/miniconda3-py38_4.9.2/envs/lsst-scipipe-7.0.1/lib/python3.11/site-packages/rubin_sim/maf/maps/dust_map.py:44: UserWarning: Slicer value of nside 64 different from map value 128, using slicer value\n",
      "  warnings.warn(\n"
     ]
    },
    {
     "name": "stdout",
     "output_type": "stream",
     "text": [
      "Healpix slicer using NSIDE=64, approximate resolution 54.967783 arcminutes\n"
     ]
    },
    {
     "name": "stderr",
     "output_type": "stream",
     "text": [
      "/opt/lsst/software/stack/conda/miniconda3-py38_4.9.2/envs/lsst-scipipe-7.0.1/lib/python3.11/site-packages/rubin_sim/maf/maps/dust_map.py:44: UserWarning: Slicer value of nside 64 different from map value 128, using slicer value\n",
      "  warnings.warn(\n"
     ]
    },
    {
     "name": "stdout",
     "output_type": "stream",
     "text": [
      "Healpix slicer using NSIDE=64, approximate resolution 54.967783 arcminutes\n"
     ]
    },
    {
     "name": "stderr",
     "output_type": "stream",
     "text": [
      "/opt/lsst/software/stack/conda/miniconda3-py38_4.9.2/envs/lsst-scipipe-7.0.1/lib/python3.11/site-packages/rubin_sim/maf/maps/dust_map.py:44: UserWarning: Slicer value of nside 64 different from map value 128, using slicer value\n",
      "  warnings.warn(\n"
     ]
    },
    {
     "name": "stdout",
     "output_type": "stream",
     "text": [
      "Healpix slicer using NSIDE=64, approximate resolution 54.967783 arcminutes\n"
     ]
    },
    {
     "name": "stderr",
     "output_type": "stream",
     "text": [
      "/opt/lsst/software/stack/conda/miniconda3-py38_4.9.2/envs/lsst-scipipe-7.0.1/lib/python3.11/site-packages/rubin_sim/maf/maps/dust_map.py:44: UserWarning: Slicer value of nside 64 different from map value 128, using slicer value\n",
      "  warnings.warn(\n"
     ]
    },
    {
     "name": "stdout",
     "output_type": "stream",
     "text": [
      "Healpix slicer using NSIDE=64, approximate resolution 54.967783 arcminutes\n"
     ]
    },
    {
     "name": "stderr",
     "output_type": "stream",
     "text": [
      "/opt/lsst/software/stack/conda/miniconda3-py38_4.9.2/envs/lsst-scipipe-7.0.1/lib/python3.11/site-packages/rubin_sim/maf/maps/dust_map.py:44: UserWarning: Slicer value of nside 64 different from map value 128, using slicer value\n",
      "  warnings.warn(\n"
     ]
    },
    {
     "name": "stdout",
     "output_type": "stream",
     "text": [
      "Healpix slicer using NSIDE=64, approximate resolution 54.967783 arcminutes\n"
     ]
    },
    {
     "name": "stderr",
     "output_type": "stream",
     "text": [
      "/opt/lsst/software/stack/conda/miniconda3-py38_4.9.2/envs/lsst-scipipe-7.0.1/lib/python3.11/site-packages/rubin_sim/maf/maps/dust_map.py:44: UserWarning: Slicer value of nside 64 different from map value 128, using slicer value\n",
      "  warnings.warn(\n"
     ]
    },
    {
     "name": "stdout",
     "output_type": "stream",
     "text": [
      "Healpix slicer using NSIDE=64, approximate resolution 54.967783 arcminutes\n"
     ]
    },
    {
     "name": "stderr",
     "output_type": "stream",
     "text": [
      "/opt/lsst/software/stack/conda/miniconda3-py38_4.9.2/envs/lsst-scipipe-7.0.1/lib/python3.11/site-packages/rubin_sim/maf/maps/dust_map.py:44: UserWarning: Slicer value of nside 64 different from map value 128, using slicer value\n",
      "  warnings.warn(\n"
     ]
    },
    {
     "name": "stdout",
     "output_type": "stream",
     "text": [
      "Healpix slicer using NSIDE=64, approximate resolution 54.967783 arcminutes\n"
     ]
    },
    {
     "name": "stderr",
     "output_type": "stream",
     "text": [
      "/opt/lsst/software/stack/conda/miniconda3-py38_4.9.2/envs/lsst-scipipe-7.0.1/lib/python3.11/site-packages/rubin_sim/maf/maps/dust_map.py:44: UserWarning: Slicer value of nside 64 different from map value 128, using slicer value\n",
      "  warnings.warn(\n"
     ]
    },
    {
     "name": "stdout",
     "output_type": "stream",
     "text": [
      "Healpix slicer using NSIDE=64, approximate resolution 54.967783 arcminutes\n"
     ]
    },
    {
     "name": "stderr",
     "output_type": "stream",
     "text": [
      "/opt/lsst/software/stack/conda/miniconda3-py38_4.9.2/envs/lsst-scipipe-7.0.1/lib/python3.11/site-packages/rubin_sim/maf/maps/dust_map.py:44: UserWarning: Slicer value of nside 64 different from map value 128, using slicer value\n",
      "  warnings.warn(\n"
     ]
    },
    {
     "name": "stdout",
     "output_type": "stream",
     "text": [
      "Healpix slicer using NSIDE=64, approximate resolution 54.967783 arcminutes\n"
     ]
    },
    {
     "name": "stderr",
     "output_type": "stream",
     "text": [
      "/opt/lsst/software/stack/conda/miniconda3-py38_4.9.2/envs/lsst-scipipe-7.0.1/lib/python3.11/site-packages/rubin_sim/maf/maps/dust_map.py:44: UserWarning: Slicer value of nside 64 different from map value 128, using slicer value\n",
      "  warnings.warn(\n"
     ]
    },
    {
     "name": "stdout",
     "output_type": "stream",
     "text": [
      "Healpix slicer using NSIDE=64, approximate resolution 54.967783 arcminutes\n"
     ]
    },
    {
     "name": "stderr",
     "output_type": "stream",
     "text": [
      "/opt/lsst/software/stack/conda/miniconda3-py38_4.9.2/envs/lsst-scipipe-7.0.1/lib/python3.11/site-packages/rubin_sim/maf/maps/dust_map.py:44: UserWarning: Slicer value of nside 64 different from map value 128, using slicer value\n",
      "  warnings.warn(\n"
     ]
    },
    {
     "name": "stdout",
     "output_type": "stream",
     "text": [
      "Healpix slicer using NSIDE=64, approximate resolution 54.967783 arcminutes\n"
     ]
    },
    {
     "name": "stderr",
     "output_type": "stream",
     "text": [
      "/opt/lsst/software/stack/conda/miniconda3-py38_4.9.2/envs/lsst-scipipe-7.0.1/lib/python3.11/site-packages/rubin_sim/maf/maps/dust_map.py:44: UserWarning: Slicer value of nside 64 different from map value 128, using slicer value\n",
      "  warnings.warn(\n"
     ]
    },
    {
     "name": "stdout",
     "output_type": "stream",
     "text": [
      "Healpix slicer using NSIDE=64, approximate resolution 54.967783 arcminutes\n"
     ]
    },
    {
     "name": "stderr",
     "output_type": "stream",
     "text": [
      "/opt/lsst/software/stack/conda/miniconda3-py38_4.9.2/envs/lsst-scipipe-7.0.1/lib/python3.11/site-packages/rubin_sim/maf/maps/dust_map.py:44: UserWarning: Slicer value of nside 64 different from map value 128, using slicer value\n",
      "  warnings.warn(\n"
     ]
    },
    {
     "name": "stdout",
     "output_type": "stream",
     "text": [
      "Healpix slicer using NSIDE=64, approximate resolution 54.967783 arcminutes\n"
     ]
    },
    {
     "name": "stderr",
     "output_type": "stream",
     "text": [
      "/opt/lsst/software/stack/conda/miniconda3-py38_4.9.2/envs/lsst-scipipe-7.0.1/lib/python3.11/site-packages/rubin_sim/maf/maps/dust_map.py:44: UserWarning: Slicer value of nside 64 different from map value 128, using slicer value\n",
      "  warnings.warn(\n"
     ]
    },
    {
     "name": "stdout",
     "output_type": "stream",
     "text": [
      "Healpix slicer using NSIDE=64, approximate resolution 54.967783 arcminutes\n"
     ]
    },
    {
     "name": "stderr",
     "output_type": "stream",
     "text": [
      "/opt/lsst/software/stack/conda/miniconda3-py38_4.9.2/envs/lsst-scipipe-7.0.1/lib/python3.11/site-packages/rubin_sim/maf/maps/dust_map.py:44: UserWarning: Slicer value of nside 64 different from map value 128, using slicer value\n",
      "  warnings.warn(\n"
     ]
    },
    {
     "name": "stdout",
     "output_type": "stream",
     "text": [
      "Healpix slicer using NSIDE=64, approximate resolution 54.967783 arcminutes\n"
     ]
    },
    {
     "name": "stderr",
     "output_type": "stream",
     "text": [
      "/opt/lsst/software/stack/conda/miniconda3-py38_4.9.2/envs/lsst-scipipe-7.0.1/lib/python3.11/site-packages/rubin_sim/maf/maps/dust_map.py:44: UserWarning: Slicer value of nside 64 different from map value 128, using slicer value\n",
      "  warnings.warn(\n"
     ]
    },
    {
     "name": "stdout",
     "output_type": "stream",
     "text": [
      "Healpix slicer using NSIDE=64, approximate resolution 54.967783 arcminutes\n"
     ]
    },
    {
     "name": "stderr",
     "output_type": "stream",
     "text": [
      "/opt/lsst/software/stack/conda/miniconda3-py38_4.9.2/envs/lsst-scipipe-7.0.1/lib/python3.11/site-packages/rubin_sim/maf/maps/dust_map.py:44: UserWarning: Slicer value of nside 64 different from map value 128, using slicer value\n",
      "  warnings.warn(\n"
     ]
    },
    {
     "name": "stdout",
     "output_type": "stream",
     "text": [
      "Healpix slicer using NSIDE=64, approximate resolution 54.967783 arcminutes\n"
     ]
    },
    {
     "name": "stderr",
     "output_type": "stream",
     "text": [
      "/opt/lsst/software/stack/conda/miniconda3-py38_4.9.2/envs/lsst-scipipe-7.0.1/lib/python3.11/site-packages/rubin_sim/maf/maps/dust_map.py:44: UserWarning: Slicer value of nside 64 different from map value 128, using slicer value\n",
      "  warnings.warn(\n"
     ]
    },
    {
     "name": "stdout",
     "output_type": "stream",
     "text": [
      "Healpix slicer using NSIDE=64, approximate resolution 54.967783 arcminutes\n"
     ]
    },
    {
     "name": "stderr",
     "output_type": "stream",
     "text": [
      "/opt/lsst/software/stack/conda/miniconda3-py38_4.9.2/envs/lsst-scipipe-7.0.1/lib/python3.11/site-packages/rubin_sim/maf/maps/dust_map.py:44: UserWarning: Slicer value of nside 64 different from map value 128, using slicer value\n",
      "  warnings.warn(\n"
     ]
    },
    {
     "name": "stdout",
     "output_type": "stream",
     "text": [
      "Healpix slicer using NSIDE=64, approximate resolution 54.967783 arcminutes\n"
     ]
    },
    {
     "name": "stderr",
     "output_type": "stream",
     "text": [
      "/opt/lsst/software/stack/conda/miniconda3-py38_4.9.2/envs/lsst-scipipe-7.0.1/lib/python3.11/site-packages/rubin_sim/maf/maps/dust_map.py:44: UserWarning: Slicer value of nside 64 different from map value 128, using slicer value\n",
      "  warnings.warn(\n"
     ]
    },
    {
     "name": "stdout",
     "output_type": "stream",
     "text": [
      "Healpix slicer using NSIDE=64, approximate resolution 54.967783 arcminutes\n"
     ]
    },
    {
     "name": "stderr",
     "output_type": "stream",
     "text": [
      "/opt/lsst/software/stack/conda/miniconda3-py38_4.9.2/envs/lsst-scipipe-7.0.1/lib/python3.11/site-packages/rubin_sim/maf/maps/dust_map.py:44: UserWarning: Slicer value of nside 64 different from map value 128, using slicer value\n",
      "  warnings.warn(\n"
     ]
    },
    {
     "name": "stdout",
     "output_type": "stream",
     "text": [
      "Healpix slicer using NSIDE=64, approximate resolution 54.967783 arcminutes\n"
     ]
    },
    {
     "name": "stderr",
     "output_type": "stream",
     "text": [
      "/opt/lsst/software/stack/conda/miniconda3-py38_4.9.2/envs/lsst-scipipe-7.0.1/lib/python3.11/site-packages/rubin_sim/maf/maps/dust_map.py:44: UserWarning: Slicer value of nside 64 different from map value 128, using slicer value\n",
      "  warnings.warn(\n"
     ]
    },
    {
     "name": "stdout",
     "output_type": "stream",
     "text": [
      "Healpix slicer using NSIDE=64, approximate resolution 54.967783 arcminutes\n"
     ]
    },
    {
     "name": "stderr",
     "output_type": "stream",
     "text": [
      "/opt/lsst/software/stack/conda/miniconda3-py38_4.9.2/envs/lsst-scipipe-7.0.1/lib/python3.11/site-packages/rubin_sim/maf/maps/dust_map.py:44: UserWarning: Slicer value of nside 64 different from map value 128, using slicer value\n",
      "  warnings.warn(\n"
     ]
    },
    {
     "name": "stdout",
     "output_type": "stream",
     "text": [
      "Healpix slicer using NSIDE=64, approximate resolution 54.967783 arcminutes\n"
     ]
    },
    {
     "name": "stderr",
     "output_type": "stream",
     "text": [
      "/opt/lsst/software/stack/conda/miniconda3-py38_4.9.2/envs/lsst-scipipe-7.0.1/lib/python3.11/site-packages/rubin_sim/maf/maps/dust_map.py:44: UserWarning: Slicer value of nside 64 different from map value 128, using slicer value\n",
      "  warnings.warn(\n"
     ]
    },
    {
     "name": "stdout",
     "output_type": "stream",
     "text": [
      "Healpix slicer using NSIDE=64, approximate resolution 54.967783 arcminutes\n"
     ]
    },
    {
     "name": "stderr",
     "output_type": "stream",
     "text": [
      "/opt/lsst/software/stack/conda/miniconda3-py38_4.9.2/envs/lsst-scipipe-7.0.1/lib/python3.11/site-packages/rubin_sim/maf/maps/dust_map.py:44: UserWarning: Slicer value of nside 64 different from map value 128, using slicer value\n",
      "  warnings.warn(\n"
     ]
    },
    {
     "name": "stdout",
     "output_type": "stream",
     "text": [
      "Healpix slicer using NSIDE=64, approximate resolution 54.967783 arcminutes\n"
     ]
    },
    {
     "name": "stderr",
     "output_type": "stream",
     "text": [
      "/opt/lsst/software/stack/conda/miniconda3-py38_4.9.2/envs/lsst-scipipe-7.0.1/lib/python3.11/site-packages/rubin_sim/maf/maps/dust_map.py:44: UserWarning: Slicer value of nside 64 different from map value 128, using slicer value\n",
      "  warnings.warn(\n"
     ]
    },
    {
     "name": "stdout",
     "output_type": "stream",
     "text": [
      "Healpix slicer using NSIDE=64, approximate resolution 54.967783 arcminutes\n"
     ]
    },
    {
     "name": "stderr",
     "output_type": "stream",
     "text": [
      "/opt/lsst/software/stack/conda/miniconda3-py38_4.9.2/envs/lsst-scipipe-7.0.1/lib/python3.11/site-packages/rubin_sim/maf/maps/dust_map.py:44: UserWarning: Slicer value of nside 64 different from map value 128, using slicer value\n",
      "  warnings.warn(\n"
     ]
    },
    {
     "name": "stdout",
     "output_type": "stream",
     "text": [
      "Healpix slicer using NSIDE=64, approximate resolution 54.967783 arcminutes\n"
     ]
    },
    {
     "name": "stderr",
     "output_type": "stream",
     "text": [
      "/opt/lsst/software/stack/conda/miniconda3-py38_4.9.2/envs/lsst-scipipe-7.0.1/lib/python3.11/site-packages/rubin_sim/maf/maps/dust_map.py:44: UserWarning: Slicer value of nside 64 different from map value 128, using slicer value\n",
      "  warnings.warn(\n"
     ]
    },
    {
     "name": "stdout",
     "output_type": "stream",
     "text": [
      "Healpix slicer using NSIDE=64, approximate resolution 54.967783 arcminutes\n"
     ]
    },
    {
     "name": "stderr",
     "output_type": "stream",
     "text": [
      "/opt/lsst/software/stack/conda/miniconda3-py38_4.9.2/envs/lsst-scipipe-7.0.1/lib/python3.11/site-packages/rubin_sim/maf/maps/dust_map.py:44: UserWarning: Slicer value of nside 64 different from map value 128, using slicer value\n",
      "  warnings.warn(\n"
     ]
    },
    {
     "name": "stdout",
     "output_type": "stream",
     "text": [
      "Healpix slicer using NSIDE=64, approximate resolution 54.967783 arcminutes\n"
     ]
    },
    {
     "name": "stderr",
     "output_type": "stream",
     "text": [
      "/opt/lsst/software/stack/conda/miniconda3-py38_4.9.2/envs/lsst-scipipe-7.0.1/lib/python3.11/site-packages/rubin_sim/maf/maps/dust_map.py:44: UserWarning: Slicer value of nside 64 different from map value 128, using slicer value\n",
      "  warnings.warn(\n"
     ]
    },
    {
     "name": "stdout",
     "output_type": "stream",
     "text": [
      "Healpix slicer using NSIDE=64, approximate resolution 54.967783 arcminutes\n"
     ]
    },
    {
     "name": "stderr",
     "output_type": "stream",
     "text": [
      "/opt/lsst/software/stack/conda/miniconda3-py38_4.9.2/envs/lsst-scipipe-7.0.1/lib/python3.11/site-packages/rubin_sim/maf/maps/dust_map.py:44: UserWarning: Slicer value of nside 64 different from map value 128, using slicer value\n",
      "  warnings.warn(\n"
     ]
    },
    {
     "name": "stdout",
     "output_type": "stream",
     "text": [
      "Healpix slicer using NSIDE=64, approximate resolution 54.967783 arcminutes\n"
     ]
    },
    {
     "name": "stderr",
     "output_type": "stream",
     "text": [
      "/opt/lsst/software/stack/conda/miniconda3-py38_4.9.2/envs/lsst-scipipe-7.0.1/lib/python3.11/site-packages/rubin_sim/maf/maps/dust_map.py:44: UserWarning: Slicer value of nside 64 different from map value 128, using slicer value\n",
      "  warnings.warn(\n"
     ]
    },
    {
     "name": "stdout",
     "output_type": "stream",
     "text": [
      "Healpix slicer using NSIDE=64, approximate resolution 54.967783 arcminutes\n"
     ]
    },
    {
     "name": "stderr",
     "output_type": "stream",
     "text": [
      "/opt/lsst/software/stack/conda/miniconda3-py38_4.9.2/envs/lsst-scipipe-7.0.1/lib/python3.11/site-packages/rubin_sim/maf/maps/dust_map.py:44: UserWarning: Slicer value of nside 64 different from map value 128, using slicer value\n",
      "  warnings.warn(\n"
     ]
    },
    {
     "name": "stdout",
     "output_type": "stream",
     "text": [
      "Healpix slicer using NSIDE=64, approximate resolution 54.967783 arcminutes\n"
     ]
    },
    {
     "name": "stderr",
     "output_type": "stream",
     "text": [
      "/opt/lsst/software/stack/conda/miniconda3-py38_4.9.2/envs/lsst-scipipe-7.0.1/lib/python3.11/site-packages/rubin_sim/maf/maps/dust_map.py:44: UserWarning: Slicer value of nside 64 different from map value 128, using slicer value\n",
      "  warnings.warn(\n"
     ]
    },
    {
     "name": "stdout",
     "output_type": "stream",
     "text": [
      "Healpix slicer using NSIDE=64, approximate resolution 54.967783 arcminutes\n"
     ]
    },
    {
     "name": "stderr",
     "output_type": "stream",
     "text": [
      "/opt/lsst/software/stack/conda/miniconda3-py38_4.9.2/envs/lsst-scipipe-7.0.1/lib/python3.11/site-packages/rubin_sim/maf/maps/dust_map.py:44: UserWarning: Slicer value of nside 64 different from map value 128, using slicer value\n",
      "  warnings.warn(\n"
     ]
    },
    {
     "name": "stdout",
     "output_type": "stream",
     "text": [
      "Healpix slicer using NSIDE=64, approximate resolution 54.967783 arcminutes\n"
     ]
    },
    {
     "name": "stderr",
     "output_type": "stream",
     "text": [
      "/opt/lsst/software/stack/conda/miniconda3-py38_4.9.2/envs/lsst-scipipe-7.0.1/lib/python3.11/site-packages/rubin_sim/maf/maps/dust_map.py:44: UserWarning: Slicer value of nside 64 different from map value 128, using slicer value\n",
      "  warnings.warn(\n"
     ]
    },
    {
     "name": "stdout",
     "output_type": "stream",
     "text": [
      "Healpix slicer using NSIDE=64, approximate resolution 54.967783 arcminutes\n"
     ]
    },
    {
     "name": "stderr",
     "output_type": "stream",
     "text": [
      "/opt/lsst/software/stack/conda/miniconda3-py38_4.9.2/envs/lsst-scipipe-7.0.1/lib/python3.11/site-packages/rubin_sim/maf/maps/dust_map.py:44: UserWarning: Slicer value of nside 64 different from map value 128, using slicer value\n",
      "  warnings.warn(\n"
     ]
    },
    {
     "name": "stdout",
     "output_type": "stream",
     "text": [
      "Healpix slicer using NSIDE=64, approximate resolution 54.967783 arcminutes\n"
     ]
    },
    {
     "name": "stderr",
     "output_type": "stream",
     "text": [
      "/opt/lsst/software/stack/conda/miniconda3-py38_4.9.2/envs/lsst-scipipe-7.0.1/lib/python3.11/site-packages/rubin_sim/maf/maps/dust_map.py:44: UserWarning: Slicer value of nside 64 different from map value 128, using slicer value\n",
      "  warnings.warn(\n"
     ]
    },
    {
     "name": "stdout",
     "output_type": "stream",
     "text": [
      "Healpix slicer using NSIDE=64, approximate resolution 54.967783 arcminutes\n"
     ]
    },
    {
     "name": "stderr",
     "output_type": "stream",
     "text": [
      "/opt/lsst/software/stack/conda/miniconda3-py38_4.9.2/envs/lsst-scipipe-7.0.1/lib/python3.11/site-packages/rubin_sim/maf/maps/dust_map.py:44: UserWarning: Slicer value of nside 64 different from map value 128, using slicer value\n",
      "  warnings.warn(\n"
     ]
    },
    {
     "name": "stdout",
     "output_type": "stream",
     "text": [
      "Healpix slicer using NSIDE=64, approximate resolution 54.967783 arcminutes\n"
     ]
    },
    {
     "name": "stderr",
     "output_type": "stream",
     "text": [
      "/opt/lsst/software/stack/conda/miniconda3-py38_4.9.2/envs/lsst-scipipe-7.0.1/lib/python3.11/site-packages/rubin_sim/maf/maps/dust_map.py:44: UserWarning: Slicer value of nside 64 different from map value 128, using slicer value\n",
      "  warnings.warn(\n"
     ]
    },
    {
     "name": "stdout",
     "output_type": "stream",
     "text": [
      "Healpix slicer using NSIDE=64, approximate resolution 54.967783 arcminutes\n"
     ]
    },
    {
     "name": "stderr",
     "output_type": "stream",
     "text": [
      "/opt/lsst/software/stack/conda/miniconda3-py38_4.9.2/envs/lsst-scipipe-7.0.1/lib/python3.11/site-packages/rubin_sim/maf/maps/dust_map.py:44: UserWarning: Slicer value of nside 64 different from map value 128, using slicer value\n",
      "  warnings.warn(\n"
     ]
    },
    {
     "name": "stdout",
     "output_type": "stream",
     "text": [
      "Healpix slicer using NSIDE=64, approximate resolution 54.967783 arcminutes\n"
     ]
    },
    {
     "name": "stderr",
     "output_type": "stream",
     "text": [
      "/opt/lsst/software/stack/conda/miniconda3-py38_4.9.2/envs/lsst-scipipe-7.0.1/lib/python3.11/site-packages/rubin_sim/maf/maps/dust_map.py:44: UserWarning: Slicer value of nside 64 different from map value 128, using slicer value\n",
      "  warnings.warn(\n"
     ]
    },
    {
     "name": "stdout",
     "output_type": "stream",
     "text": [
      "Healpix slicer using NSIDE=64, approximate resolution 54.967783 arcminutes\n"
     ]
    },
    {
     "name": "stderr",
     "output_type": "stream",
     "text": [
      "/opt/lsst/software/stack/conda/miniconda3-py38_4.9.2/envs/lsst-scipipe-7.0.1/lib/python3.11/site-packages/rubin_sim/maf/maps/dust_map.py:44: UserWarning: Slicer value of nside 64 different from map value 128, using slicer value\n",
      "  warnings.warn(\n"
     ]
    },
    {
     "name": "stdout",
     "output_type": "stream",
     "text": [
      "Healpix slicer using NSIDE=64, approximate resolution 54.967783 arcminutes\n"
     ]
    },
    {
     "name": "stderr",
     "output_type": "stream",
     "text": [
      "/opt/lsst/software/stack/conda/miniconda3-py38_4.9.2/envs/lsst-scipipe-7.0.1/lib/python3.11/site-packages/rubin_sim/maf/maps/dust_map.py:44: UserWarning: Slicer value of nside 64 different from map value 128, using slicer value\n",
      "  warnings.warn(\n"
     ]
    },
    {
     "name": "stdout",
     "output_type": "stream",
     "text": [
      "Healpix slicer using NSIDE=64, approximate resolution 54.967783 arcminutes\n"
     ]
    },
    {
     "name": "stderr",
     "output_type": "stream",
     "text": [
      "/opt/lsst/software/stack/conda/miniconda3-py38_4.9.2/envs/lsst-scipipe-7.0.1/lib/python3.11/site-packages/rubin_sim/maf/maps/dust_map.py:44: UserWarning: Slicer value of nside 64 different from map value 128, using slicer value\n",
      "  warnings.warn(\n"
     ]
    },
    {
     "name": "stdout",
     "output_type": "stream",
     "text": [
      "Healpix slicer using NSIDE=64, approximate resolution 54.967783 arcminutes\n"
     ]
    },
    {
     "name": "stderr",
     "output_type": "stream",
     "text": [
      "/opt/lsst/software/stack/conda/miniconda3-py38_4.9.2/envs/lsst-scipipe-7.0.1/lib/python3.11/site-packages/rubin_sim/maf/maps/dust_map.py:44: UserWarning: Slicer value of nside 64 different from map value 128, using slicer value\n",
      "  warnings.warn(\n"
     ]
    },
    {
     "name": "stdout",
     "output_type": "stream",
     "text": [
      "Healpix slicer using NSIDE=64, approximate resolution 54.967783 arcminutes\n"
     ]
    },
    {
     "name": "stderr",
     "output_type": "stream",
     "text": [
      "/opt/lsst/software/stack/conda/miniconda3-py38_4.9.2/envs/lsst-scipipe-7.0.1/lib/python3.11/site-packages/rubin_sim/maf/maps/dust_map.py:44: UserWarning: Slicer value of nside 64 different from map value 128, using slicer value\n",
      "  warnings.warn(\n"
     ]
    },
    {
     "name": "stdout",
     "output_type": "stream",
     "text": [
      "Healpix slicer using NSIDE=64, approximate resolution 54.967783 arcminutes\n"
     ]
    },
    {
     "name": "stderr",
     "output_type": "stream",
     "text": [
      "/opt/lsst/software/stack/conda/miniconda3-py38_4.9.2/envs/lsst-scipipe-7.0.1/lib/python3.11/site-packages/rubin_sim/maf/maps/dust_map.py:44: UserWarning: Slicer value of nside 64 different from map value 128, using slicer value\n",
      "  warnings.warn(\n"
     ]
    },
    {
     "name": "stdout",
     "output_type": "stream",
     "text": [
      "Healpix slicer using NSIDE=64, approximate resolution 54.967783 arcminutes\n"
     ]
    },
    {
     "name": "stderr",
     "output_type": "stream",
     "text": [
      "/opt/lsst/software/stack/conda/miniconda3-py38_4.9.2/envs/lsst-scipipe-7.0.1/lib/python3.11/site-packages/rubin_sim/maf/maps/dust_map.py:44: UserWarning: Slicer value of nside 64 different from map value 128, using slicer value\n",
      "  warnings.warn(\n"
     ]
    },
    {
     "name": "stdout",
     "output_type": "stream",
     "text": [
      "Healpix slicer using NSIDE=64, approximate resolution 54.967783 arcminutes\n"
     ]
    },
    {
     "name": "stderr",
     "output_type": "stream",
     "text": [
      "/opt/lsst/software/stack/conda/miniconda3-py38_4.9.2/envs/lsst-scipipe-7.0.1/lib/python3.11/site-packages/rubin_sim/maf/maps/dust_map.py:44: UserWarning: Slicer value of nside 64 different from map value 128, using slicer value\n",
      "  warnings.warn(\n"
     ]
    },
    {
     "name": "stdout",
     "output_type": "stream",
     "text": [
      "Healpix slicer using NSIDE=64, approximate resolution 54.967783 arcminutes\n"
     ]
    },
    {
     "name": "stderr",
     "output_type": "stream",
     "text": [
      "/opt/lsst/software/stack/conda/miniconda3-py38_4.9.2/envs/lsst-scipipe-7.0.1/lib/python3.11/site-packages/rubin_sim/maf/maps/dust_map.py:44: UserWarning: Slicer value of nside 64 different from map value 128, using slicer value\n",
      "  warnings.warn(\n"
     ]
    },
    {
     "name": "stdout",
     "output_type": "stream",
     "text": [
      "Healpix slicer using NSIDE=64, approximate resolution 54.967783 arcminutes\n"
     ]
    },
    {
     "name": "stderr",
     "output_type": "stream",
     "text": [
      "/opt/lsst/software/stack/conda/miniconda3-py38_4.9.2/envs/lsst-scipipe-7.0.1/lib/python3.11/site-packages/rubin_sim/maf/maps/dust_map.py:44: UserWarning: Slicer value of nside 64 different from map value 128, using slicer value\n",
      "  warnings.warn(\n"
     ]
    },
    {
     "name": "stdout",
     "output_type": "stream",
     "text": [
      "Healpix slicer using NSIDE=64, approximate resolution 54.967783 arcminutes\n"
     ]
    },
    {
     "name": "stderr",
     "output_type": "stream",
     "text": [
      "/opt/lsst/software/stack/conda/miniconda3-py38_4.9.2/envs/lsst-scipipe-7.0.1/lib/python3.11/site-packages/rubin_sim/maf/maps/dust_map.py:44: UserWarning: Slicer value of nside 64 different from map value 128, using slicer value\n",
      "  warnings.warn(\n"
     ]
    },
    {
     "name": "stdout",
     "output_type": "stream",
     "text": [
      "Healpix slicer using NSIDE=64, approximate resolution 54.967783 arcminutes\n"
     ]
    },
    {
     "name": "stderr",
     "output_type": "stream",
     "text": [
      "/opt/lsst/software/stack/conda/miniconda3-py38_4.9.2/envs/lsst-scipipe-7.0.1/lib/python3.11/site-packages/rubin_sim/maf/maps/dust_map.py:44: UserWarning: Slicer value of nside 64 different from map value 128, using slicer value\n",
      "  warnings.warn(\n"
     ]
    },
    {
     "name": "stdout",
     "output_type": "stream",
     "text": [
      "Healpix slicer using NSIDE=64, approximate resolution 54.967783 arcminutes\n"
     ]
    },
    {
     "name": "stderr",
     "output_type": "stream",
     "text": [
      "/opt/lsst/software/stack/conda/miniconda3-py38_4.9.2/envs/lsst-scipipe-7.0.1/lib/python3.11/site-packages/rubin_sim/maf/maps/dust_map.py:44: UserWarning: Slicer value of nside 64 different from map value 128, using slicer value\n",
      "  warnings.warn(\n"
     ]
    },
    {
     "name": "stdout",
     "output_type": "stream",
     "text": [
      "Healpix slicer using NSIDE=64, approximate resolution 54.967783 arcminutes\n"
     ]
    },
    {
     "name": "stderr",
     "output_type": "stream",
     "text": [
      "/opt/lsst/software/stack/conda/miniconda3-py38_4.9.2/envs/lsst-scipipe-7.0.1/lib/python3.11/site-packages/rubin_sim/maf/maps/dust_map.py:44: UserWarning: Slicer value of nside 64 different from map value 128, using slicer value\n",
      "  warnings.warn(\n"
     ]
    },
    {
     "name": "stdout",
     "output_type": "stream",
     "text": [
      "Healpix slicer using NSIDE=64, approximate resolution 54.967783 arcminutes\n"
     ]
    },
    {
     "name": "stderr",
     "output_type": "stream",
     "text": [
      "/opt/lsst/software/stack/conda/miniconda3-py38_4.9.2/envs/lsst-scipipe-7.0.1/lib/python3.11/site-packages/rubin_sim/maf/maps/dust_map.py:44: UserWarning: Slicer value of nside 64 different from map value 128, using slicer value\n",
      "  warnings.warn(\n"
     ]
    },
    {
     "name": "stdout",
     "output_type": "stream",
     "text": [
      "Healpix slicer using NSIDE=64, approximate resolution 54.967783 arcminutes\n"
     ]
    },
    {
     "name": "stderr",
     "output_type": "stream",
     "text": [
      "/opt/lsst/software/stack/conda/miniconda3-py38_4.9.2/envs/lsst-scipipe-7.0.1/lib/python3.11/site-packages/rubin_sim/maf/maps/dust_map.py:44: UserWarning: Slicer value of nside 64 different from map value 128, using slicer value\n",
      "  warnings.warn(\n"
     ]
    },
    {
     "name": "stdout",
     "output_type": "stream",
     "text": [
      "Healpix slicer using NSIDE=64, approximate resolution 54.967783 arcminutes\n"
     ]
    },
    {
     "name": "stderr",
     "output_type": "stream",
     "text": [
      "/opt/lsst/software/stack/conda/miniconda3-py38_4.9.2/envs/lsst-scipipe-7.0.1/lib/python3.11/site-packages/rubin_sim/maf/maps/dust_map.py:44: UserWarning: Slicer value of nside 64 different from map value 128, using slicer value\n",
      "  warnings.warn(\n"
     ]
    },
    {
     "name": "stdout",
     "output_type": "stream",
     "text": [
      "Healpix slicer using NSIDE=64, approximate resolution 54.967783 arcminutes\n"
     ]
    },
    {
     "name": "stderr",
     "output_type": "stream",
     "text": [
      "/opt/lsst/software/stack/conda/miniconda3-py38_4.9.2/envs/lsst-scipipe-7.0.1/lib/python3.11/site-packages/rubin_sim/maf/maps/dust_map.py:44: UserWarning: Slicer value of nside 64 different from map value 128, using slicer value\n",
      "  warnings.warn(\n"
     ]
    },
    {
     "name": "stdout",
     "output_type": "stream",
     "text": [
      "Healpix slicer using NSIDE=64, approximate resolution 54.967783 arcminutes\n"
     ]
    },
    {
     "name": "stderr",
     "output_type": "stream",
     "text": [
      "/opt/lsst/software/stack/conda/miniconda3-py38_4.9.2/envs/lsst-scipipe-7.0.1/lib/python3.11/site-packages/rubin_sim/maf/maps/dust_map.py:44: UserWarning: Slicer value of nside 64 different from map value 128, using slicer value\n",
      "  warnings.warn(\n"
     ]
    },
    {
     "name": "stdout",
     "output_type": "stream",
     "text": [
      "Healpix slicer using NSIDE=64, approximate resolution 54.967783 arcminutes\n"
     ]
    },
    {
     "name": "stderr",
     "output_type": "stream",
     "text": [
      "/opt/lsst/software/stack/conda/miniconda3-py38_4.9.2/envs/lsst-scipipe-7.0.1/lib/python3.11/site-packages/rubin_sim/maf/maps/dust_map.py:44: UserWarning: Slicer value of nside 64 different from map value 128, using slicer value\n",
      "  warnings.warn(\n"
     ]
    },
    {
     "name": "stdout",
     "output_type": "stream",
     "text": [
      "Healpix slicer using NSIDE=64, approximate resolution 54.967783 arcminutes\n"
     ]
    },
    {
     "name": "stderr",
     "output_type": "stream",
     "text": [
      "/opt/lsst/software/stack/conda/miniconda3-py38_4.9.2/envs/lsst-scipipe-7.0.1/lib/python3.11/site-packages/rubin_sim/maf/maps/dust_map.py:44: UserWarning: Slicer value of nside 64 different from map value 128, using slicer value\n",
      "  warnings.warn(\n"
     ]
    },
    {
     "name": "stdout",
     "output_type": "stream",
     "text": [
      "Healpix slicer using NSIDE=64, approximate resolution 54.967783 arcminutes\n"
     ]
    },
    {
     "name": "stderr",
     "output_type": "stream",
     "text": [
      "/opt/lsst/software/stack/conda/miniconda3-py38_4.9.2/envs/lsst-scipipe-7.0.1/lib/python3.11/site-packages/rubin_sim/maf/maps/dust_map.py:44: UserWarning: Slicer value of nside 64 different from map value 128, using slicer value\n",
      "  warnings.warn(\n"
     ]
    },
    {
     "name": "stdout",
     "output_type": "stream",
     "text": [
      "Healpix slicer using NSIDE=64, approximate resolution 54.967783 arcminutes\n"
     ]
    },
    {
     "name": "stderr",
     "output_type": "stream",
     "text": [
      "/opt/lsst/software/stack/conda/miniconda3-py38_4.9.2/envs/lsst-scipipe-7.0.1/lib/python3.11/site-packages/rubin_sim/maf/maps/dust_map.py:44: UserWarning: Slicer value of nside 64 different from map value 128, using slicer value\n",
      "  warnings.warn(\n"
     ]
    },
    {
     "name": "stdout",
     "output_type": "stream",
     "text": [
      "Healpix slicer using NSIDE=64, approximate resolution 54.967783 arcminutes\n"
     ]
    },
    {
     "name": "stderr",
     "output_type": "stream",
     "text": [
      "/opt/lsst/software/stack/conda/miniconda3-py38_4.9.2/envs/lsst-scipipe-7.0.1/lib/python3.11/site-packages/rubin_sim/maf/maps/dust_map.py:44: UserWarning: Slicer value of nside 64 different from map value 128, using slicer value\n",
      "  warnings.warn(\n"
     ]
    },
    {
     "name": "stdout",
     "output_type": "stream",
     "text": [
      "Healpix slicer using NSIDE=64, approximate resolution 54.967783 arcminutes\n"
     ]
    },
    {
     "name": "stderr",
     "output_type": "stream",
     "text": [
      "/opt/lsst/software/stack/conda/miniconda3-py38_4.9.2/envs/lsst-scipipe-7.0.1/lib/python3.11/site-packages/rubin_sim/maf/maps/dust_map.py:44: UserWarning: Slicer value of nside 64 different from map value 128, using slicer value\n",
      "  warnings.warn(\n"
     ]
    },
    {
     "name": "stdout",
     "output_type": "stream",
     "text": [
      "Healpix slicer using NSIDE=64, approximate resolution 54.967783 arcminutes\n"
     ]
    },
    {
     "name": "stderr",
     "output_type": "stream",
     "text": [
      "/opt/lsst/software/stack/conda/miniconda3-py38_4.9.2/envs/lsst-scipipe-7.0.1/lib/python3.11/site-packages/rubin_sim/maf/maps/dust_map.py:44: UserWarning: Slicer value of nside 64 different from map value 128, using slicer value\n",
      "  warnings.warn(\n"
     ]
    },
    {
     "name": "stdout",
     "output_type": "stream",
     "text": [
      "Healpix slicer using NSIDE=64, approximate resolution 54.967783 arcminutes\n"
     ]
    },
    {
     "name": "stderr",
     "output_type": "stream",
     "text": [
      "/opt/lsst/software/stack/conda/miniconda3-py38_4.9.2/envs/lsst-scipipe-7.0.1/lib/python3.11/site-packages/rubin_sim/maf/maps/dust_map.py:44: UserWarning: Slicer value of nside 64 different from map value 128, using slicer value\n",
      "  warnings.warn(\n"
     ]
    },
    {
     "name": "stdout",
     "output_type": "stream",
     "text": [
      "Healpix slicer using NSIDE=64, approximate resolution 54.967783 arcminutes\n"
     ]
    },
    {
     "name": "stderr",
     "output_type": "stream",
     "text": [
      "/opt/lsst/software/stack/conda/miniconda3-py38_4.9.2/envs/lsst-scipipe-7.0.1/lib/python3.11/site-packages/rubin_sim/maf/maps/dust_map.py:44: UserWarning: Slicer value of nside 64 different from map value 128, using slicer value\n",
      "  warnings.warn(\n"
     ]
    },
    {
     "name": "stdout",
     "output_type": "stream",
     "text": [
      "Healpix slicer using NSIDE=64, approximate resolution 54.967783 arcminutes\n"
     ]
    },
    {
     "name": "stderr",
     "output_type": "stream",
     "text": [
      "/opt/lsst/software/stack/conda/miniconda3-py38_4.9.2/envs/lsst-scipipe-7.0.1/lib/python3.11/site-packages/rubin_sim/maf/maps/dust_map.py:44: UserWarning: Slicer value of nside 64 different from map value 128, using slicer value\n",
      "  warnings.warn(\n"
     ]
    },
    {
     "name": "stdout",
     "output_type": "stream",
     "text": [
      "Healpix slicer using NSIDE=64, approximate resolution 54.967783 arcminutes\n"
     ]
    },
    {
     "name": "stderr",
     "output_type": "stream",
     "text": [
      "/opt/lsst/software/stack/conda/miniconda3-py38_4.9.2/envs/lsst-scipipe-7.0.1/lib/python3.11/site-packages/rubin_sim/maf/maps/dust_map.py:44: UserWarning: Slicer value of nside 64 different from map value 128, using slicer value\n",
      "  warnings.warn(\n"
     ]
    },
    {
     "name": "stdout",
     "output_type": "stream",
     "text": [
      "Healpix slicer using NSIDE=64, approximate resolution 54.967783 arcminutes\n"
     ]
    },
    {
     "name": "stderr",
     "output_type": "stream",
     "text": [
      "/opt/lsst/software/stack/conda/miniconda3-py38_4.9.2/envs/lsst-scipipe-7.0.1/lib/python3.11/site-packages/rubin_sim/maf/maps/dust_map.py:44: UserWarning: Slicer value of nside 64 different from map value 128, using slicer value\n",
      "  warnings.warn(\n"
     ]
    },
    {
     "name": "stdout",
     "output_type": "stream",
     "text": [
      "Healpix slicer using NSIDE=64, approximate resolution 54.967783 arcminutes\n"
     ]
    },
    {
     "name": "stderr",
     "output_type": "stream",
     "text": [
      "/opt/lsst/software/stack/conda/miniconda3-py38_4.9.2/envs/lsst-scipipe-7.0.1/lib/python3.11/site-packages/rubin_sim/maf/maps/dust_map.py:44: UserWarning: Slicer value of nside 64 different from map value 128, using slicer value\n",
      "  warnings.warn(\n"
     ]
    },
    {
     "name": "stdout",
     "output_type": "stream",
     "text": [
      "Healpix slicer using NSIDE=64, approximate resolution 54.967783 arcminutes\n"
     ]
    },
    {
     "name": "stderr",
     "output_type": "stream",
     "text": [
      "/opt/lsst/software/stack/conda/miniconda3-py38_4.9.2/envs/lsst-scipipe-7.0.1/lib/python3.11/site-packages/rubin_sim/maf/maps/dust_map.py:44: UserWarning: Slicer value of nside 64 different from map value 128, using slicer value\n",
      "  warnings.warn(\n"
     ]
    },
    {
     "name": "stdout",
     "output_type": "stream",
     "text": [
      "Healpix slicer using NSIDE=64, approximate resolution 54.967783 arcminutes\n"
     ]
    },
    {
     "name": "stderr",
     "output_type": "stream",
     "text": [
      "/opt/lsst/software/stack/conda/miniconda3-py38_4.9.2/envs/lsst-scipipe-7.0.1/lib/python3.11/site-packages/rubin_sim/maf/maps/dust_map.py:44: UserWarning: Slicer value of nside 64 different from map value 128, using slicer value\n",
      "  warnings.warn(\n"
     ]
    },
    {
     "name": "stdout",
     "output_type": "stream",
     "text": [
      "Healpix slicer using NSIDE=64, approximate resolution 54.967783 arcminutes\n"
     ]
    },
    {
     "name": "stderr",
     "output_type": "stream",
     "text": [
      "/opt/lsst/software/stack/conda/miniconda3-py38_4.9.2/envs/lsst-scipipe-7.0.1/lib/python3.11/site-packages/rubin_sim/maf/maps/dust_map.py:44: UserWarning: Slicer value of nside 64 different from map value 128, using slicer value\n",
      "  warnings.warn(\n"
     ]
    },
    {
     "name": "stdout",
     "output_type": "stream",
     "text": [
      "Healpix slicer using NSIDE=64, approximate resolution 54.967783 arcminutes\n"
     ]
    },
    {
     "name": "stderr",
     "output_type": "stream",
     "text": [
      "/opt/lsst/software/stack/conda/miniconda3-py38_4.9.2/envs/lsst-scipipe-7.0.1/lib/python3.11/site-packages/rubin_sim/maf/maps/dust_map.py:44: UserWarning: Slicer value of nside 64 different from map value 128, using slicer value\n",
      "  warnings.warn(\n"
     ]
    },
    {
     "name": "stdout",
     "output_type": "stream",
     "text": [
      "Healpix slicer using NSIDE=64, approximate resolution 54.967783 arcminutes\n"
     ]
    },
    {
     "name": "stderr",
     "output_type": "stream",
     "text": [
      "/opt/lsst/software/stack/conda/miniconda3-py38_4.9.2/envs/lsst-scipipe-7.0.1/lib/python3.11/site-packages/rubin_sim/maf/maps/dust_map.py:44: UserWarning: Slicer value of nside 64 different from map value 128, using slicer value\n",
      "  warnings.warn(\n"
     ]
    },
    {
     "name": "stdout",
     "output_type": "stream",
     "text": [
      "Healpix slicer using NSIDE=64, approximate resolution 54.967783 arcminutes\n"
     ]
    },
    {
     "name": "stderr",
     "output_type": "stream",
     "text": [
      "/opt/lsst/software/stack/conda/miniconda3-py38_4.9.2/envs/lsst-scipipe-7.0.1/lib/python3.11/site-packages/rubin_sim/maf/maps/dust_map.py:44: UserWarning: Slicer value of nside 64 different from map value 128, using slicer value\n",
      "  warnings.warn(\n"
     ]
    },
    {
     "name": "stdout",
     "output_type": "stream",
     "text": [
      "Healpix slicer using NSIDE=64, approximate resolution 54.967783 arcminutes\n"
     ]
    },
    {
     "name": "stderr",
     "output_type": "stream",
     "text": [
      "/opt/lsst/software/stack/conda/miniconda3-py38_4.9.2/envs/lsst-scipipe-7.0.1/lib/python3.11/site-packages/rubin_sim/maf/maps/dust_map.py:44: UserWarning: Slicer value of nside 64 different from map value 128, using slicer value\n",
      "  warnings.warn(\n"
     ]
    },
    {
     "name": "stdout",
     "output_type": "stream",
     "text": [
      "Healpix slicer using NSIDE=64, approximate resolution 54.967783 arcminutes\n"
     ]
    },
    {
     "name": "stderr",
     "output_type": "stream",
     "text": [
      "/opt/lsst/software/stack/conda/miniconda3-py38_4.9.2/envs/lsst-scipipe-7.0.1/lib/python3.11/site-packages/rubin_sim/maf/maps/dust_map.py:44: UserWarning: Slicer value of nside 64 different from map value 128, using slicer value\n",
      "  warnings.warn(\n"
     ]
    },
    {
     "name": "stdout",
     "output_type": "stream",
     "text": [
      "Healpix slicer using NSIDE=64, approximate resolution 54.967783 arcminutes\n"
     ]
    },
    {
     "name": "stderr",
     "output_type": "stream",
     "text": [
      "/opt/lsst/software/stack/conda/miniconda3-py38_4.9.2/envs/lsst-scipipe-7.0.1/lib/python3.11/site-packages/rubin_sim/maf/maps/dust_map.py:44: UserWarning: Slicer value of nside 64 different from map value 128, using slicer value\n",
      "  warnings.warn(\n"
     ]
    },
    {
     "name": "stdout",
     "output_type": "stream",
     "text": [
      "Healpix slicer using NSIDE=64, approximate resolution 54.967783 arcminutes\n"
     ]
    },
    {
     "name": "stderr",
     "output_type": "stream",
     "text": [
      "/opt/lsst/software/stack/conda/miniconda3-py38_4.9.2/envs/lsst-scipipe-7.0.1/lib/python3.11/site-packages/rubin_sim/maf/maps/dust_map.py:44: UserWarning: Slicer value of nside 64 different from map value 128, using slicer value\n",
      "  warnings.warn(\n"
     ]
    },
    {
     "name": "stdout",
     "output_type": "stream",
     "text": [
      "Healpix slicer using NSIDE=64, approximate resolution 54.967783 arcminutes\n"
     ]
    },
    {
     "name": "stderr",
     "output_type": "stream",
     "text": [
      "/opt/lsst/software/stack/conda/miniconda3-py38_4.9.2/envs/lsst-scipipe-7.0.1/lib/python3.11/site-packages/rubin_sim/maf/maps/dust_map.py:44: UserWarning: Slicer value of nside 64 different from map value 128, using slicer value\n",
      "  warnings.warn(\n"
     ]
    },
    {
     "name": "stdout",
     "output_type": "stream",
     "text": [
      "Healpix slicer using NSIDE=64, approximate resolution 54.967783 arcminutes\n"
     ]
    },
    {
     "name": "stderr",
     "output_type": "stream",
     "text": [
      "/opt/lsst/software/stack/conda/miniconda3-py38_4.9.2/envs/lsst-scipipe-7.0.1/lib/python3.11/site-packages/rubin_sim/maf/maps/dust_map.py:44: UserWarning: Slicer value of nside 64 different from map value 128, using slicer value\n",
      "  warnings.warn(\n"
     ]
    },
    {
     "name": "stdout",
     "output_type": "stream",
     "text": [
      "Healpix slicer using NSIDE=64, approximate resolution 54.967783 arcminutes\n"
     ]
    },
    {
     "name": "stderr",
     "output_type": "stream",
     "text": [
      "/opt/lsst/software/stack/conda/miniconda3-py38_4.9.2/envs/lsst-scipipe-7.0.1/lib/python3.11/site-packages/rubin_sim/maf/maps/dust_map.py:44: UserWarning: Slicer value of nside 64 different from map value 128, using slicer value\n",
      "  warnings.warn(\n"
     ]
    },
    {
     "name": "stdout",
     "output_type": "stream",
     "text": [
      "Healpix slicer using NSIDE=64, approximate resolution 54.967783 arcminutes\n"
     ]
    },
    {
     "name": "stderr",
     "output_type": "stream",
     "text": [
      "/opt/lsst/software/stack/conda/miniconda3-py38_4.9.2/envs/lsst-scipipe-7.0.1/lib/python3.11/site-packages/rubin_sim/maf/maps/dust_map.py:44: UserWarning: Slicer value of nside 64 different from map value 128, using slicer value\n",
      "  warnings.warn(\n"
     ]
    },
    {
     "name": "stdout",
     "output_type": "stream",
     "text": [
      "Healpix slicer using NSIDE=64, approximate resolution 54.967783 arcminutes\n"
     ]
    },
    {
     "name": "stderr",
     "output_type": "stream",
     "text": [
      "/opt/lsst/software/stack/conda/miniconda3-py38_4.9.2/envs/lsst-scipipe-7.0.1/lib/python3.11/site-packages/rubin_sim/maf/maps/dust_map.py:44: UserWarning: Slicer value of nside 64 different from map value 128, using slicer value\n",
      "  warnings.warn(\n"
     ]
    },
    {
     "name": "stdout",
     "output_type": "stream",
     "text": [
      "Healpix slicer using NSIDE=64, approximate resolution 54.967783 arcminutes\n"
     ]
    },
    {
     "name": "stderr",
     "output_type": "stream",
     "text": [
      "/opt/lsst/software/stack/conda/miniconda3-py38_4.9.2/envs/lsst-scipipe-7.0.1/lib/python3.11/site-packages/rubin_sim/maf/maps/dust_map.py:44: UserWarning: Slicer value of nside 64 different from map value 128, using slicer value\n",
      "  warnings.warn(\n"
     ]
    },
    {
     "name": "stdout",
     "output_type": "stream",
     "text": [
      "Healpix slicer using NSIDE=64, approximate resolution 54.967783 arcminutes\n"
     ]
    },
    {
     "name": "stderr",
     "output_type": "stream",
     "text": [
      "/opt/lsst/software/stack/conda/miniconda3-py38_4.9.2/envs/lsst-scipipe-7.0.1/lib/python3.11/site-packages/rubin_sim/maf/maps/dust_map.py:44: UserWarning: Slicer value of nside 64 different from map value 128, using slicer value\n",
      "  warnings.warn(\n"
     ]
    },
    {
     "name": "stdout",
     "output_type": "stream",
     "text": [
      "Healpix slicer using NSIDE=64, approximate resolution 54.967783 arcminutes\n"
     ]
    },
    {
     "name": "stderr",
     "output_type": "stream",
     "text": [
      "/opt/lsst/software/stack/conda/miniconda3-py38_4.9.2/envs/lsst-scipipe-7.0.1/lib/python3.11/site-packages/rubin_sim/maf/maps/dust_map.py:44: UserWarning: Slicer value of nside 64 different from map value 128, using slicer value\n",
      "  warnings.warn(\n"
     ]
    },
    {
     "name": "stdout",
     "output_type": "stream",
     "text": [
      "Healpix slicer using NSIDE=64, approximate resolution 54.967783 arcminutes\n"
     ]
    },
    {
     "name": "stderr",
     "output_type": "stream",
     "text": [
      "/opt/lsst/software/stack/conda/miniconda3-py38_4.9.2/envs/lsst-scipipe-7.0.1/lib/python3.11/site-packages/rubin_sim/maf/maps/dust_map.py:44: UserWarning: Slicer value of nside 64 different from map value 128, using slicer value\n",
      "  warnings.warn(\n"
     ]
    },
    {
     "name": "stdout",
     "output_type": "stream",
     "text": [
      "Healpix slicer using NSIDE=64, approximate resolution 54.967783 arcminutes\n"
     ]
    },
    {
     "name": "stderr",
     "output_type": "stream",
     "text": [
      "/opt/lsst/software/stack/conda/miniconda3-py38_4.9.2/envs/lsst-scipipe-7.0.1/lib/python3.11/site-packages/rubin_sim/maf/maps/dust_map.py:44: UserWarning: Slicer value of nside 64 different from map value 128, using slicer value\n",
      "  warnings.warn(\n"
     ]
    },
    {
     "name": "stdout",
     "output_type": "stream",
     "text": [
      "Healpix slicer using NSIDE=64, approximate resolution 54.967783 arcminutes\n"
     ]
    },
    {
     "name": "stderr",
     "output_type": "stream",
     "text": [
      "/opt/lsst/software/stack/conda/miniconda3-py38_4.9.2/envs/lsst-scipipe-7.0.1/lib/python3.11/site-packages/rubin_sim/maf/maps/dust_map.py:44: UserWarning: Slicer value of nside 64 different from map value 128, using slicer value\n",
      "  warnings.warn(\n"
     ]
    },
    {
     "name": "stdout",
     "output_type": "stream",
     "text": [
      "Healpix slicer using NSIDE=64, approximate resolution 54.967783 arcminutes\n"
     ]
    },
    {
     "name": "stderr",
     "output_type": "stream",
     "text": [
      "/opt/lsst/software/stack/conda/miniconda3-py38_4.9.2/envs/lsst-scipipe-7.0.1/lib/python3.11/site-packages/rubin_sim/maf/maps/dust_map.py:44: UserWarning: Slicer value of nside 64 different from map value 128, using slicer value\n",
      "  warnings.warn(\n"
     ]
    },
    {
     "name": "stdout",
     "output_type": "stream",
     "text": [
      "Healpix slicer using NSIDE=64, approximate resolution 54.967783 arcminutes\n"
     ]
    },
    {
     "name": "stderr",
     "output_type": "stream",
     "text": [
      "/opt/lsst/software/stack/conda/miniconda3-py38_4.9.2/envs/lsst-scipipe-7.0.1/lib/python3.11/site-packages/rubin_sim/maf/maps/dust_map.py:44: UserWarning: Slicer value of nside 64 different from map value 128, using slicer value\n",
      "  warnings.warn(\n"
     ]
    },
    {
     "name": "stdout",
     "output_type": "stream",
     "text": [
      "Healpix slicer using NSIDE=64, approximate resolution 54.967783 arcminutes\n"
     ]
    },
    {
     "name": "stderr",
     "output_type": "stream",
     "text": [
      "/opt/lsst/software/stack/conda/miniconda3-py38_4.9.2/envs/lsst-scipipe-7.0.1/lib/python3.11/site-packages/rubin_sim/maf/maps/dust_map.py:44: UserWarning: Slicer value of nside 64 different from map value 128, using slicer value\n",
      "  warnings.warn(\n"
     ]
    },
    {
     "name": "stdout",
     "output_type": "stream",
     "text": [
      "Healpix slicer using NSIDE=64, approximate resolution 54.967783 arcminutes\n"
     ]
    },
    {
     "name": "stderr",
     "output_type": "stream",
     "text": [
      "/opt/lsst/software/stack/conda/miniconda3-py38_4.9.2/envs/lsst-scipipe-7.0.1/lib/python3.11/site-packages/rubin_sim/maf/maps/dust_map.py:44: UserWarning: Slicer value of nside 64 different from map value 128, using slicer value\n",
      "  warnings.warn(\n"
     ]
    },
    {
     "name": "stdout",
     "output_type": "stream",
     "text": [
      "Healpix slicer using NSIDE=64, approximate resolution 54.967783 arcminutes\n"
     ]
    },
    {
     "name": "stderr",
     "output_type": "stream",
     "text": [
      "/opt/lsst/software/stack/conda/miniconda3-py38_4.9.2/envs/lsst-scipipe-7.0.1/lib/python3.11/site-packages/rubin_sim/maf/maps/dust_map.py:44: UserWarning: Slicer value of nside 64 different from map value 128, using slicer value\n",
      "  warnings.warn(\n"
     ]
    },
    {
     "name": "stdout",
     "output_type": "stream",
     "text": [
      "Healpix slicer using NSIDE=64, approximate resolution 54.967783 arcminutes\n"
     ]
    },
    {
     "name": "stderr",
     "output_type": "stream",
     "text": [
      "/opt/lsst/software/stack/conda/miniconda3-py38_4.9.2/envs/lsst-scipipe-7.0.1/lib/python3.11/site-packages/rubin_sim/maf/maps/dust_map.py:44: UserWarning: Slicer value of nside 64 different from map value 128, using slicer value\n",
      "  warnings.warn(\n"
     ]
    },
    {
     "name": "stdout",
     "output_type": "stream",
     "text": [
      "Healpix slicer using NSIDE=64, approximate resolution 54.967783 arcminutes\n"
     ]
    },
    {
     "name": "stderr",
     "output_type": "stream",
     "text": [
      "/opt/lsst/software/stack/conda/miniconda3-py38_4.9.2/envs/lsst-scipipe-7.0.1/lib/python3.11/site-packages/rubin_sim/maf/maps/dust_map.py:44: UserWarning: Slicer value of nside 64 different from map value 128, using slicer value\n",
      "  warnings.warn(\n"
     ]
    },
    {
     "name": "stdout",
     "output_type": "stream",
     "text": [
      "Healpix slicer using NSIDE=64, approximate resolution 54.967783 arcminutes\n"
     ]
    },
    {
     "name": "stderr",
     "output_type": "stream",
     "text": [
      "/opt/lsst/software/stack/conda/miniconda3-py38_4.9.2/envs/lsst-scipipe-7.0.1/lib/python3.11/site-packages/rubin_sim/maf/maps/dust_map.py:44: UserWarning: Slicer value of nside 64 different from map value 128, using slicer value\n",
      "  warnings.warn(\n"
     ]
    },
    {
     "name": "stdout",
     "output_type": "stream",
     "text": [
      "Healpix slicer using NSIDE=64, approximate resolution 54.967783 arcminutes\n"
     ]
    },
    {
     "name": "stderr",
     "output_type": "stream",
     "text": [
      "/opt/lsst/software/stack/conda/miniconda3-py38_4.9.2/envs/lsst-scipipe-7.0.1/lib/python3.11/site-packages/rubin_sim/maf/maps/dust_map.py:44: UserWarning: Slicer value of nside 64 different from map value 128, using slicer value\n",
      "  warnings.warn(\n"
     ]
    },
    {
     "name": "stdout",
     "output_type": "stream",
     "text": [
      "Healpix slicer using NSIDE=64, approximate resolution 54.967783 arcminutes\n"
     ]
    },
    {
     "name": "stderr",
     "output_type": "stream",
     "text": [
      "/opt/lsst/software/stack/conda/miniconda3-py38_4.9.2/envs/lsst-scipipe-7.0.1/lib/python3.11/site-packages/rubin_sim/maf/maps/dust_map.py:44: UserWarning: Slicer value of nside 64 different from map value 128, using slicer value\n",
      "  warnings.warn(\n"
     ]
    },
    {
     "name": "stdout",
     "output_type": "stream",
     "text": [
      "Healpix slicer using NSIDE=64, approximate resolution 54.967783 arcminutes\n"
     ]
    },
    {
     "name": "stderr",
     "output_type": "stream",
     "text": [
      "/opt/lsst/software/stack/conda/miniconda3-py38_4.9.2/envs/lsst-scipipe-7.0.1/lib/python3.11/site-packages/rubin_sim/maf/maps/dust_map.py:44: UserWarning: Slicer value of nside 64 different from map value 128, using slicer value\n",
      "  warnings.warn(\n"
     ]
    },
    {
     "name": "stdout",
     "output_type": "stream",
     "text": [
      "Healpix slicer using NSIDE=64, approximate resolution 54.967783 arcminutes\n"
     ]
    },
    {
     "name": "stderr",
     "output_type": "stream",
     "text": [
      "/opt/lsst/software/stack/conda/miniconda3-py38_4.9.2/envs/lsst-scipipe-7.0.1/lib/python3.11/site-packages/rubin_sim/maf/maps/dust_map.py:44: UserWarning: Slicer value of nside 64 different from map value 128, using slicer value\n",
      "  warnings.warn(\n"
     ]
    },
    {
     "name": "stdout",
     "output_type": "stream",
     "text": [
      "Healpix slicer using NSIDE=64, approximate resolution 54.967783 arcminutes\n"
     ]
    },
    {
     "name": "stderr",
     "output_type": "stream",
     "text": [
      "/opt/lsst/software/stack/conda/miniconda3-py38_4.9.2/envs/lsst-scipipe-7.0.1/lib/python3.11/site-packages/rubin_sim/maf/maps/dust_map.py:44: UserWarning: Slicer value of nside 64 different from map value 128, using slicer value\n",
      "  warnings.warn(\n"
     ]
    },
    {
     "name": "stdout",
     "output_type": "stream",
     "text": [
      "Healpix slicer using NSIDE=64, approximate resolution 54.967783 arcminutes\n"
     ]
    },
    {
     "name": "stderr",
     "output_type": "stream",
     "text": [
      "/opt/lsst/software/stack/conda/miniconda3-py38_4.9.2/envs/lsst-scipipe-7.0.1/lib/python3.11/site-packages/rubin_sim/maf/maps/dust_map.py:44: UserWarning: Slicer value of nside 64 different from map value 128, using slicer value\n",
      "  warnings.warn(\n"
     ]
    },
    {
     "name": "stdout",
     "output_type": "stream",
     "text": [
      "Healpix slicer using NSIDE=64, approximate resolution 54.967783 arcminutes\n"
     ]
    },
    {
     "name": "stderr",
     "output_type": "stream",
     "text": [
      "/opt/lsst/software/stack/conda/miniconda3-py38_4.9.2/envs/lsst-scipipe-7.0.1/lib/python3.11/site-packages/rubin_sim/maf/maps/dust_map.py:44: UserWarning: Slicer value of nside 64 different from map value 128, using slicer value\n",
      "  warnings.warn(\n"
     ]
    },
    {
     "name": "stdout",
     "output_type": "stream",
     "text": [
      "Healpix slicer using NSIDE=64, approximate resolution 54.967783 arcminutes\n"
     ]
    },
    {
     "name": "stderr",
     "output_type": "stream",
     "text": [
      "/opt/lsst/software/stack/conda/miniconda3-py38_4.9.2/envs/lsst-scipipe-7.0.1/lib/python3.11/site-packages/rubin_sim/maf/maps/dust_map.py:44: UserWarning: Slicer value of nside 64 different from map value 128, using slicer value\n",
      "  warnings.warn(\n"
     ]
    },
    {
     "name": "stdout",
     "output_type": "stream",
     "text": [
      "Healpix slicer using NSIDE=64, approximate resolution 54.967783 arcminutes\n"
     ]
    },
    {
     "name": "stderr",
     "output_type": "stream",
     "text": [
      "/opt/lsst/software/stack/conda/miniconda3-py38_4.9.2/envs/lsst-scipipe-7.0.1/lib/python3.11/site-packages/rubin_sim/maf/maps/dust_map.py:44: UserWarning: Slicer value of nside 64 different from map value 128, using slicer value\n",
      "  warnings.warn(\n"
     ]
    },
    {
     "name": "stdout",
     "output_type": "stream",
     "text": [
      "Healpix slicer using NSIDE=64, approximate resolution 54.967783 arcminutes\n"
     ]
    },
    {
     "name": "stderr",
     "output_type": "stream",
     "text": [
      "/opt/lsst/software/stack/conda/miniconda3-py38_4.9.2/envs/lsst-scipipe-7.0.1/lib/python3.11/site-packages/rubin_sim/maf/maps/dust_map.py:44: UserWarning: Slicer value of nside 64 different from map value 128, using slicer value\n",
      "  warnings.warn(\n"
     ]
    },
    {
     "name": "stdout",
     "output_type": "stream",
     "text": [
      "Healpix slicer using NSIDE=64, approximate resolution 54.967783 arcminutes\n"
     ]
    },
    {
     "name": "stderr",
     "output_type": "stream",
     "text": [
      "/opt/lsst/software/stack/conda/miniconda3-py38_4.9.2/envs/lsst-scipipe-7.0.1/lib/python3.11/site-packages/rubin_sim/maf/maps/dust_map.py:44: UserWarning: Slicer value of nside 64 different from map value 128, using slicer value\n",
      "  warnings.warn(\n"
     ]
    },
    {
     "name": "stdout",
     "output_type": "stream",
     "text": [
      "Healpix slicer using NSIDE=64, approximate resolution 54.967783 arcminutes\n"
     ]
    },
    {
     "name": "stderr",
     "output_type": "stream",
     "text": [
      "/opt/lsst/software/stack/conda/miniconda3-py38_4.9.2/envs/lsst-scipipe-7.0.1/lib/python3.11/site-packages/rubin_sim/maf/maps/dust_map.py:44: UserWarning: Slicer value of nside 64 different from map value 128, using slicer value\n",
      "  warnings.warn(\n"
     ]
    },
    {
     "name": "stdout",
     "output_type": "stream",
     "text": [
      "Healpix slicer using NSIDE=64, approximate resolution 54.967783 arcminutes\n"
     ]
    },
    {
     "name": "stderr",
     "output_type": "stream",
     "text": [
      "/opt/lsst/software/stack/conda/miniconda3-py38_4.9.2/envs/lsst-scipipe-7.0.1/lib/python3.11/site-packages/rubin_sim/maf/maps/dust_map.py:44: UserWarning: Slicer value of nside 64 different from map value 128, using slicer value\n",
      "  warnings.warn(\n"
     ]
    },
    {
     "name": "stdout",
     "output_type": "stream",
     "text": [
      "Healpix slicer using NSIDE=64, approximate resolution 54.967783 arcminutes\n"
     ]
    },
    {
     "name": "stderr",
     "output_type": "stream",
     "text": [
      "/opt/lsst/software/stack/conda/miniconda3-py38_4.9.2/envs/lsst-scipipe-7.0.1/lib/python3.11/site-packages/rubin_sim/maf/maps/dust_map.py:44: UserWarning: Slicer value of nside 64 different from map value 128, using slicer value\n",
      "  warnings.warn(\n"
     ]
    },
    {
     "name": "stdout",
     "output_type": "stream",
     "text": [
      "Healpix slicer using NSIDE=64, approximate resolution 54.967783 arcminutes\n"
     ]
    },
    {
     "name": "stderr",
     "output_type": "stream",
     "text": [
      "/opt/lsst/software/stack/conda/miniconda3-py38_4.9.2/envs/lsst-scipipe-7.0.1/lib/python3.11/site-packages/rubin_sim/maf/maps/dust_map.py:44: UserWarning: Slicer value of nside 64 different from map value 128, using slicer value\n",
      "  warnings.warn(\n"
     ]
    },
    {
     "name": "stdout",
     "output_type": "stream",
     "text": [
      "Healpix slicer using NSIDE=64, approximate resolution 54.967783 arcminutes\n"
     ]
    },
    {
     "name": "stderr",
     "output_type": "stream",
     "text": [
      "/opt/lsst/software/stack/conda/miniconda3-py38_4.9.2/envs/lsst-scipipe-7.0.1/lib/python3.11/site-packages/rubin_sim/maf/maps/dust_map.py:44: UserWarning: Slicer value of nside 64 different from map value 128, using slicer value\n",
      "  warnings.warn(\n"
     ]
    },
    {
     "name": "stdout",
     "output_type": "stream",
     "text": [
      "Healpix slicer using NSIDE=64, approximate resolution 54.967783 arcminutes\n"
     ]
    },
    {
     "name": "stderr",
     "output_type": "stream",
     "text": [
      "/opt/lsst/software/stack/conda/miniconda3-py38_4.9.2/envs/lsst-scipipe-7.0.1/lib/python3.11/site-packages/rubin_sim/maf/maps/dust_map.py:44: UserWarning: Slicer value of nside 64 different from map value 128, using slicer value\n",
      "  warnings.warn(\n"
     ]
    },
    {
     "name": "stdout",
     "output_type": "stream",
     "text": [
      "Healpix slicer using NSIDE=64, approximate resolution 54.967783 arcminutes\n"
     ]
    },
    {
     "name": "stderr",
     "output_type": "stream",
     "text": [
      "/opt/lsst/software/stack/conda/miniconda3-py38_4.9.2/envs/lsst-scipipe-7.0.1/lib/python3.11/site-packages/rubin_sim/maf/maps/dust_map.py:44: UserWarning: Slicer value of nside 64 different from map value 128, using slicer value\n",
      "  warnings.warn(\n"
     ]
    },
    {
     "name": "stdout",
     "output_type": "stream",
     "text": [
      "Healpix slicer using NSIDE=64, approximate resolution 54.967783 arcminutes\n"
     ]
    },
    {
     "name": "stderr",
     "output_type": "stream",
     "text": [
      "/opt/lsst/software/stack/conda/miniconda3-py38_4.9.2/envs/lsst-scipipe-7.0.1/lib/python3.11/site-packages/rubin_sim/maf/maps/dust_map.py:44: UserWarning: Slicer value of nside 64 different from map value 128, using slicer value\n",
      "  warnings.warn(\n"
     ]
    },
    {
     "name": "stdout",
     "output_type": "stream",
     "text": [
      "Healpix slicer using NSIDE=64, approximate resolution 54.967783 arcminutes\n"
     ]
    },
    {
     "name": "stderr",
     "output_type": "stream",
     "text": [
      "/opt/lsst/software/stack/conda/miniconda3-py38_4.9.2/envs/lsst-scipipe-7.0.1/lib/python3.11/site-packages/rubin_sim/maf/maps/dust_map.py:44: UserWarning: Slicer value of nside 64 different from map value 128, using slicer value\n",
      "  warnings.warn(\n"
     ]
    },
    {
     "name": "stdout",
     "output_type": "stream",
     "text": [
      "Healpix slicer using NSIDE=64, approximate resolution 54.967783 arcminutes\n"
     ]
    },
    {
     "name": "stderr",
     "output_type": "stream",
     "text": [
      "/opt/lsst/software/stack/conda/miniconda3-py38_4.9.2/envs/lsst-scipipe-7.0.1/lib/python3.11/site-packages/rubin_sim/maf/maps/dust_map.py:44: UserWarning: Slicer value of nside 64 different from map value 128, using slicer value\n",
      "  warnings.warn(\n"
     ]
    },
    {
     "name": "stdout",
     "output_type": "stream",
     "text": [
      "Healpix slicer using NSIDE=64, approximate resolution 54.967783 arcminutes\n"
     ]
    },
    {
     "name": "stderr",
     "output_type": "stream",
     "text": [
      "/opt/lsst/software/stack/conda/miniconda3-py38_4.9.2/envs/lsst-scipipe-7.0.1/lib/python3.11/site-packages/rubin_sim/maf/maps/dust_map.py:44: UserWarning: Slicer value of nside 64 different from map value 128, using slicer value\n",
      "  warnings.warn(\n"
     ]
    },
    {
     "name": "stdout",
     "output_type": "stream",
     "text": [
      "Healpix slicer using NSIDE=64, approximate resolution 54.967783 arcminutes\n"
     ]
    },
    {
     "name": "stderr",
     "output_type": "stream",
     "text": [
      "/opt/lsst/software/stack/conda/miniconda3-py38_4.9.2/envs/lsst-scipipe-7.0.1/lib/python3.11/site-packages/rubin_sim/maf/maps/dust_map.py:44: UserWarning: Slicer value of nside 64 different from map value 128, using slicer value\n",
      "  warnings.warn(\n"
     ]
    },
    {
     "name": "stdout",
     "output_type": "stream",
     "text": [
      "Healpix slicer using NSIDE=64, approximate resolution 54.967783 arcminutes\n"
     ]
    },
    {
     "name": "stderr",
     "output_type": "stream",
     "text": [
      "/opt/lsst/software/stack/conda/miniconda3-py38_4.9.2/envs/lsst-scipipe-7.0.1/lib/python3.11/site-packages/rubin_sim/maf/maps/dust_map.py:44: UserWarning: Slicer value of nside 64 different from map value 128, using slicer value\n",
      "  warnings.warn(\n"
     ]
    },
    {
     "name": "stdout",
     "output_type": "stream",
     "text": [
      "Healpix slicer using NSIDE=64, approximate resolution 54.967783 arcminutes\n"
     ]
    },
    {
     "name": "stderr",
     "output_type": "stream",
     "text": [
      "/opt/lsst/software/stack/conda/miniconda3-py38_4.9.2/envs/lsst-scipipe-7.0.1/lib/python3.11/site-packages/rubin_sim/maf/maps/dust_map.py:44: UserWarning: Slicer value of nside 64 different from map value 128, using slicer value\n",
      "  warnings.warn(\n"
     ]
    },
    {
     "name": "stdout",
     "output_type": "stream",
     "text": [
      "Healpix slicer using NSIDE=64, approximate resolution 54.967783 arcminutes\n"
     ]
    },
    {
     "name": "stderr",
     "output_type": "stream",
     "text": [
      "/opt/lsst/software/stack/conda/miniconda3-py38_4.9.2/envs/lsst-scipipe-7.0.1/lib/python3.11/site-packages/rubin_sim/maf/maps/dust_map.py:44: UserWarning: Slicer value of nside 64 different from map value 128, using slicer value\n",
      "  warnings.warn(\n"
     ]
    },
    {
     "name": "stdout",
     "output_type": "stream",
     "text": [
      "Healpix slicer using NSIDE=64, approximate resolution 54.967783 arcminutes\n"
     ]
    },
    {
     "name": "stderr",
     "output_type": "stream",
     "text": [
      "/opt/lsst/software/stack/conda/miniconda3-py38_4.9.2/envs/lsst-scipipe-7.0.1/lib/python3.11/site-packages/rubin_sim/maf/maps/dust_map.py:44: UserWarning: Slicer value of nside 64 different from map value 128, using slicer value\n",
      "  warnings.warn(\n"
     ]
    },
    {
     "name": "stdout",
     "output_type": "stream",
     "text": [
      "Healpix slicer using NSIDE=64, approximate resolution 54.967783 arcminutes\n"
     ]
    },
    {
     "name": "stderr",
     "output_type": "stream",
     "text": [
      "/opt/lsst/software/stack/conda/miniconda3-py38_4.9.2/envs/lsst-scipipe-7.0.1/lib/python3.11/site-packages/rubin_sim/maf/maps/dust_map.py:44: UserWarning: Slicer value of nside 64 different from map value 128, using slicer value\n",
      "  warnings.warn(\n"
     ]
    },
    {
     "name": "stdout",
     "output_type": "stream",
     "text": [
      "Healpix slicer using NSIDE=64, approximate resolution 54.967783 arcminutes\n"
     ]
    },
    {
     "name": "stderr",
     "output_type": "stream",
     "text": [
      "/opt/lsst/software/stack/conda/miniconda3-py38_4.9.2/envs/lsst-scipipe-7.0.1/lib/python3.11/site-packages/rubin_sim/maf/maps/dust_map.py:44: UserWarning: Slicer value of nside 64 different from map value 128, using slicer value\n",
      "  warnings.warn(\n"
     ]
    },
    {
     "name": "stdout",
     "output_type": "stream",
     "text": [
      "Healpix slicer using NSIDE=64, approximate resolution 54.967783 arcminutes\n"
     ]
    },
    {
     "name": "stderr",
     "output_type": "stream",
     "text": [
      "/opt/lsst/software/stack/conda/miniconda3-py38_4.9.2/envs/lsst-scipipe-7.0.1/lib/python3.11/site-packages/rubin_sim/maf/maps/dust_map.py:44: UserWarning: Slicer value of nside 64 different from map value 128, using slicer value\n",
      "  warnings.warn(\n"
     ]
    },
    {
     "name": "stdout",
     "output_type": "stream",
     "text": [
      "Healpix slicer using NSIDE=64, approximate resolution 54.967783 arcminutes\n"
     ]
    },
    {
     "name": "stderr",
     "output_type": "stream",
     "text": [
      "/opt/lsst/software/stack/conda/miniconda3-py38_4.9.2/envs/lsst-scipipe-7.0.1/lib/python3.11/site-packages/rubin_sim/maf/maps/dust_map.py:44: UserWarning: Slicer value of nside 64 different from map value 128, using slicer value\n",
      "  warnings.warn(\n"
     ]
    },
    {
     "name": "stdout",
     "output_type": "stream",
     "text": [
      "Healpix slicer using NSIDE=64, approximate resolution 54.967783 arcminutes\n"
     ]
    },
    {
     "name": "stderr",
     "output_type": "stream",
     "text": [
      "/opt/lsst/software/stack/conda/miniconda3-py38_4.9.2/envs/lsst-scipipe-7.0.1/lib/python3.11/site-packages/rubin_sim/maf/maps/dust_map.py:44: UserWarning: Slicer value of nside 64 different from map value 128, using slicer value\n",
      "  warnings.warn(\n"
     ]
    },
    {
     "name": "stdout",
     "output_type": "stream",
     "text": [
      "Healpix slicer using NSIDE=64, approximate resolution 54.967783 arcminutes\n"
     ]
    },
    {
     "name": "stderr",
     "output_type": "stream",
     "text": [
      "/opt/lsst/software/stack/conda/miniconda3-py38_4.9.2/envs/lsst-scipipe-7.0.1/lib/python3.11/site-packages/rubin_sim/maf/maps/dust_map.py:44: UserWarning: Slicer value of nside 64 different from map value 128, using slicer value\n",
      "  warnings.warn(\n"
     ]
    },
    {
     "name": "stdout",
     "output_type": "stream",
     "text": [
      "Healpix slicer using NSIDE=64, approximate resolution 54.967783 arcminutes\n"
     ]
    },
    {
     "name": "stderr",
     "output_type": "stream",
     "text": [
      "/opt/lsst/software/stack/conda/miniconda3-py38_4.9.2/envs/lsst-scipipe-7.0.1/lib/python3.11/site-packages/rubin_sim/maf/maps/dust_map.py:44: UserWarning: Slicer value of nside 64 different from map value 128, using slicer value\n",
      "  warnings.warn(\n"
     ]
    },
    {
     "name": "stdout",
     "output_type": "stream",
     "text": [
      "Healpix slicer using NSIDE=64, approximate resolution 54.967783 arcminutes\n"
     ]
    },
    {
     "name": "stderr",
     "output_type": "stream",
     "text": [
      "/opt/lsst/software/stack/conda/miniconda3-py38_4.9.2/envs/lsst-scipipe-7.0.1/lib/python3.11/site-packages/rubin_sim/maf/maps/dust_map.py:44: UserWarning: Slicer value of nside 64 different from map value 128, using slicer value\n",
      "  warnings.warn(\n"
     ]
    },
    {
     "name": "stdout",
     "output_type": "stream",
     "text": [
      "Healpix slicer using NSIDE=64, approximate resolution 54.967783 arcminutes\n"
     ]
    },
    {
     "name": "stderr",
     "output_type": "stream",
     "text": [
      "/opt/lsst/software/stack/conda/miniconda3-py38_4.9.2/envs/lsst-scipipe-7.0.1/lib/python3.11/site-packages/rubin_sim/maf/maps/dust_map.py:44: UserWarning: Slicer value of nside 64 different from map value 128, using slicer value\n",
      "  warnings.warn(\n"
     ]
    },
    {
     "name": "stdout",
     "output_type": "stream",
     "text": [
      "Healpix slicer using NSIDE=64, approximate resolution 54.967783 arcminutes\n"
     ]
    },
    {
     "name": "stderr",
     "output_type": "stream",
     "text": [
      "/opt/lsst/software/stack/conda/miniconda3-py38_4.9.2/envs/lsst-scipipe-7.0.1/lib/python3.11/site-packages/rubin_sim/maf/maps/dust_map.py:44: UserWarning: Slicer value of nside 64 different from map value 128, using slicer value\n",
      "  warnings.warn(\n"
     ]
    },
    {
     "name": "stdout",
     "output_type": "stream",
     "text": [
      "Healpix slicer using NSIDE=64, approximate resolution 54.967783 arcminutes\n"
     ]
    },
    {
     "name": "stderr",
     "output_type": "stream",
     "text": [
      "/opt/lsst/software/stack/conda/miniconda3-py38_4.9.2/envs/lsst-scipipe-7.0.1/lib/python3.11/site-packages/rubin_sim/maf/maps/dust_map.py:44: UserWarning: Slicer value of nside 64 different from map value 128, using slicer value\n",
      "  warnings.warn(\n"
     ]
    },
    {
     "name": "stdout",
     "output_type": "stream",
     "text": [
      "Healpix slicer using NSIDE=64, approximate resolution 54.967783 arcminutes\n"
     ]
    },
    {
     "name": "stderr",
     "output_type": "stream",
     "text": [
      "/opt/lsst/software/stack/conda/miniconda3-py38_4.9.2/envs/lsst-scipipe-7.0.1/lib/python3.11/site-packages/rubin_sim/maf/maps/dust_map.py:44: UserWarning: Slicer value of nside 64 different from map value 128, using slicer value\n",
      "  warnings.warn(\n"
     ]
    },
    {
     "data": {
      "text/html": [
       "<div>\n",
       "<style scoped>\n",
       "    .dataframe tbody tr th:only-of-type {\n",
       "        vertical-align: middle;\n",
       "    }\n",
       "\n",
       "    .dataframe tbody tr th {\n",
       "        vertical-align: top;\n",
       "    }\n",
       "\n",
       "    .dataframe thead th {\n",
       "        text-align: right;\n",
       "    }\n",
       "</style>\n",
       "<table border=\"1\" class=\"dataframe\">\n",
       "  <thead>\n",
       "    <tr style=\"text-align: right;\">\n",
       "      <th></th>\n",
       "      <th>Mean depth</th>\n",
       "      <th>Median depth</th>\n",
       "      <th>Std depth</th>\n",
       "      <th>IQR depth</th>\n",
       "      <th>Mean z</th>\n",
       "      <th>Std z</th>\n",
       "      <th>Clbias</th>\n",
       "      <th>Used meanz</th>\n",
       "      <th>Strategy</th>\n",
       "      <th>Year</th>\n",
       "      <th>Combined std z</th>\n",
       "      <th>Average mean z</th>\n",
       "      <th>Combined Clbias</th>\n",
       "      <th>Combined Mean z use</th>\n",
       "      <th>Y1 ratio</th>\n",
       "      <th>Y10 ratio</th>\n",
       "    </tr>\n",
       "  </thead>\n",
       "  <tbody>\n",
       "    <tr>\n",
       "      <th>0</th>\n",
       "      <td>{'u': 22.897534822477997, 'g': 24.426127202735...</td>\n",
       "      <td>{'u': 22.952803681718244, 'g': 24.491942924386...</td>\n",
       "      <td>{'u': 0.4702832239948085, 'g': 0.4081712049925...</td>\n",
       "      <td>{'u': 0.7848927775432273, 'g': 0.6198498019218...</td>\n",
       "      <td>{'u': [0.1412097514129552, 0.31887802365309226...</td>\n",
       "      <td>{'u': [0.002912747639921835, 0.002043703221582...</td>\n",
       "      <td>{'u': [-0.0008705210268065921, 0.0005534352261...</td>\n",
       "      <td>{'u': [0.1412097514129552, 0.31887802365309226...</td>\n",
       "      <td>baseline_v3.3_10yrs</td>\n",
       "      <td>0</td>\n",
       "      <td>[0.006624375018295387, 0.009729641529336667, 0...</td>\n",
       "      <td>[0.14113133225855518, 0.3198933751193948, 0.49...</td>\n",
       "      <td>[-0.002048855413940264, 0.0012807518120885545,...</td>\n",
       "      <td>[0.14113133225855518, 0.3198933751193948, 0.49...</td>\n",
       "      <td>0.887300</td>\n",
       "      <td>3.844967</td>\n",
       "    </tr>\n",
       "    <tr>\n",
       "      <th>1</th>\n",
       "      <td>{'u': 22.897534822477997, 'g': 24.426127202735...</td>\n",
       "      <td>{'u': 22.952803681718244, 'g': 24.491942924386...</td>\n",
       "      <td>{'u': 0.4702832239948085, 'g': 0.4081712049925...</td>\n",
       "      <td>{'u': 0.7848927775432273, 'g': 0.6198498019218...</td>\n",
       "      <td>{'u': [0.1412097514129552, 0.31887802365309226...</td>\n",
       "      <td>{'u': [0.002912747639921835, 0.002043703221582...</td>\n",
       "      <td>{'u': [-0.0008705210268065921, 0.0005534352261...</td>\n",
       "      <td>{'u': [0.1412097514129552, 0.31887802365309226...</td>\n",
       "      <td>noroll_v3.3_10yrs</td>\n",
       "      <td>0</td>\n",
       "      <td>[0.006624375018295387, 0.009729641529336667, 0...</td>\n",
       "      <td>[0.14113133225855518, 0.3198933751193948, 0.49...</td>\n",
       "      <td>[-0.002048855413940264, 0.0012807518120885545,...</td>\n",
       "      <td>[0.14113133225855518, 0.3198933751193948, 0.49...</td>\n",
       "      <td>0.887300</td>\n",
       "      <td>3.844967</td>\n",
       "    </tr>\n",
       "    <tr>\n",
       "      <th>2</th>\n",
       "      <td>{'u': 22.86219876821583, 'g': 24.4094547907006...</td>\n",
       "      <td>{'u': 23.06553011733188, 'g': 24.4906355797854...</td>\n",
       "      <td>{'u': 0.6029079386149998, 'g': 0.4288024380039...</td>\n",
       "      <td>{'u': 0.8448672304029223, 'g': 0.7200793093720...</td>\n",
       "      <td>{'u': [0.1412097514129552, 0.31887802365309226...</td>\n",
       "      <td>{'u': [0.0037341724851966338, 0.00262004858688...</td>\n",
       "      <td>{'u': [-0.0011160169255766807, 0.0007095096620...</td>\n",
       "      <td>{'u': [0.1412097514129552, 0.31887802365309226...</td>\n",
       "      <td>roll_uniform_mjdp0_v3.4_10yrs</td>\n",
       "      <td>0</td>\n",
       "      <td>[0.007466269290939411, 0.010251396214926737, 0...</td>\n",
       "      <td>[0.14113133225855518, 0.3198933751193948, 0.49...</td>\n",
       "      <td>[-0.002354465676981804, 0.0014289511539865496,...</td>\n",
       "      <td>[0.14113133225855518, 0.3198933751193948, 0.49...</td>\n",
       "      <td>1.006207</td>\n",
       "      <td>4.360230</td>\n",
       "    </tr>\n",
       "    <tr>\n",
       "      <th>3</th>\n",
       "      <td>{'u': 22.865559712923776, 'g': 24.350876170269...</td>\n",
       "      <td>{'u': 22.985072661902887, 'g': 24.357940244514...</td>\n",
       "      <td>{'u': 0.5466467774067808, 'g': 0.4400740282337...</td>\n",
       "      <td>{'u': 0.7484964398175258, 'g': 0.7729805279056...</td>\n",
       "      <td>{'u': [0.1412097514129552, 0.31887802365309226...</td>\n",
       "      <td>{'u': [0.0033857131820208292, 0.00237555524639...</td>\n",
       "      <td>{'u': [-0.0010118743125183626, 0.0006433008183...</td>\n",
       "      <td>{'u': [0.1412097514129552, 0.31887802365309226...</td>\n",
       "      <td>baseline_v3.4_10yrs</td>\n",
       "      <td>0</td>\n",
       "      <td>[0.006820894671033512, 0.009238325773716312, 0...</td>\n",
       "      <td>[0.14113133225855518, 0.3198933751193948, 0.49...</td>\n",
       "      <td>[-0.002241548322899907, 0.001332044214659568, ...</td>\n",
       "      <td>[0.14113133225855518, 0.3198933751193948, 0.49...</td>\n",
       "      <td>0.949045</td>\n",
       "      <td>4.112530</td>\n",
       "    </tr>\n",
       "    <tr>\n",
       "      <th>4</th>\n",
       "      <td>{'u': 24.007879044950496, 'g': 25.396813313322...</td>\n",
       "      <td>{'u': 24.064697996861987, 'g': 25.434160022755...</td>\n",
       "      <td>{'u': 0.37417349349316653, 'g': 0.283640107403...</td>\n",
       "      <td>{'u': 0.45927565880968046, 'g': 0.347858597405...</td>\n",
       "      <td>{'u': [0.14349848944632426, 0.3194659214972579...</td>\n",
       "      <td>{'u': [0.0016235276308136845, 0.00236048455074...</td>\n",
       "      <td>{'u': [-0.0004008486992204776, 0.0003790942875...</td>\n",
       "      <td>{'u': [0.14349848944632426, 0.3194659214972579...</td>\n",
       "      <td>baseline_v3.3_10yrs</td>\n",
       "      <td>1</td>\n",
       "      <td>[0.0035667948366187195, 0.007785198574843124, ...</td>\n",
       "      <td>[0.14238138240470644, 0.31951032313550964, 0.4...</td>\n",
       "      <td>[-0.0009441414681884953, 0.0009226756635002543...</td>\n",
       "      <td>[0.14238138240470644, 0.31951032313550964, 0.4...</td>\n",
       "      <td>0.523911</td>\n",
       "      <td>2.270279</td>\n",
       "    </tr>\n",
       "    <tr>\n",
       "      <th>5</th>\n",
       "      <td>{'u': 24.007879044950496, 'g': 25.396813313322...</td>\n",
       "      <td>{'u': 24.064697996861987, 'g': 25.434160022755...</td>\n",
       "      <td>{'u': 0.37417349349316653, 'g': 0.283640107403...</td>\n",
       "      <td>{'u': 0.45927565880968046, 'g': 0.347858597405...</td>\n",
       "      <td>{'u': [0.14349848944632426, 0.3194659214972579...</td>\n",
       "      <td>{'u': [0.0016235276308136845, 0.00236048455074...</td>\n",
       "      <td>{'u': [-0.0004008486992204776, 0.0003790942875...</td>\n",
       "      <td>{'u': [0.14349848944632426, 0.3194659214972579...</td>\n",
       "      <td>noroll_v3.3_10yrs</td>\n",
       "      <td>1</td>\n",
       "      <td>[0.0035667948366187195, 0.007785198574843124, ...</td>\n",
       "      <td>[0.14238138240470644, 0.31951032313550964, 0.4...</td>\n",
       "      <td>[-0.0009441414681884953, 0.0009226756635002543...</td>\n",
       "      <td>[0.14238138240470644, 0.31951032313550964, 0.4...</td>\n",
       "      <td>0.523911</td>\n",
       "      <td>2.270279</td>\n",
       "    </tr>\n",
       "    <tr>\n",
       "      <th>6</th>\n",
       "      <td>{'u': 23.9980551149324, 'g': 25.45174810441908...</td>\n",
       "      <td>{'u': 24.04623071747092, 'g': 25.4863406068422...</td>\n",
       "      <td>{'u': 0.3814073031451155, 'g': 0.2726955071491...</td>\n",
       "      <td>{'u': 0.45508652876299394, 'g': 0.339778410347...</td>\n",
       "      <td>{'u': [0.14349848944632426, 0.3194659214972579...</td>\n",
       "      <td>{'u': [0.0016549149151890282, 0.00240611925289...</td>\n",
       "      <td>{'u': [-0.0004085982144582408, 0.0003864232297...</td>\n",
       "      <td>{'u': [0.14349848944632426, 0.3194659214972579...</td>\n",
       "      <td>roll_uniform_mjdp0_v3.4_10yrs</td>\n",
       "      <td>1</td>\n",
       "      <td>[0.003652661763818664, 0.007997495532458264, 0...</td>\n",
       "      <td>[0.14238138240470644, 0.31951032313550964, 0.4...</td>\n",
       "      <td>[-0.0009353054191857139, 0.0009462790533335723...</td>\n",
       "      <td>[0.14238138240470644, 0.31951032313550964, 0.4...</td>\n",
       "      <td>0.529309</td>\n",
       "      <td>2.293673</td>\n",
       "    </tr>\n",
       "    <tr>\n",
       "      <th>7</th>\n",
       "      <td>{'u': 23.989065982382115, 'g': 25.449181096438...</td>\n",
       "      <td>{'u': 24.041258320175196, 'g': 25.479253265538...</td>\n",
       "      <td>{'u': 0.378787048106594, 'g': 0.29766096088711...</td>\n",
       "      <td>{'u': 0.4525726438673452, 'g': 0.3775672587941...</td>\n",
       "      <td>{'u': [0.14349848944632426, 0.3194659214972579...</td>\n",
       "      <td>{'u': [0.001643545706710085, 0.002389589296480...</td>\n",
       "      <td>{'u': [-0.0004057911587953398, 0.0003837685155...</td>\n",
       "      <td>{'u': [0.14349848944632426, 0.3194659214972579...</td>\n",
       "      <td>baseline_v3.4_10yrs</td>\n",
       "      <td>1</td>\n",
       "      <td>[0.003638870417210624, 0.007937827333293113, 0...</td>\n",
       "      <td>[0.14238138240470644, 0.31951032313550964, 0.4...</td>\n",
       "      <td>[-0.0009764092173090012, 0.0009358881852279473...</td>\n",
       "      <td>[0.14238138240470644, 0.31951032313550964, 0.4...</td>\n",
       "      <td>0.535962</td>\n",
       "      <td>2.322500</td>\n",
       "    </tr>\n",
       "    <tr>\n",
       "      <th>8</th>\n",
       "      <td>{'u': 24.264766602694806, 'g': 25.763517382020...</td>\n",
       "      <td>{'u': 24.32018395809292, 'g': 25.7958465448354...</td>\n",
       "      <td>{'u': 0.32591205269085516, 'g': 0.282283864800...</td>\n",
       "      <td>{'u': 0.3823772043403757, 'g': 0.3674022268497...</td>\n",
       "      <td>{'u': [0.14193799425003092, 0.3184026944600339...</td>\n",
       "      <td>{'u': [0.001583742795748655, 0.001502323952695...</td>\n",
       "      <td>{'u': [-0.00036783100978809665, 0.000317650270...</td>\n",
       "      <td>{'u': [0.14193799425003092, 0.3184026944600339...</td>\n",
       "      <td>baseline_v3.3_10yrs</td>\n",
       "      <td>2</td>\n",
       "      <td>[0.003673255374464074, 0.00752618084718274, 0....</td>\n",
       "      <td>[0.14258932322430212, 0.31899725751313385, 0.5...</td>\n",
       "      <td>[-0.0008352048665189484, 0.0008355316998610979...</td>\n",
       "      <td>[0.14258932322430212, 0.31899725751313385, 0.5...</td>\n",
       "      <td>0.472723</td>\n",
       "      <td>2.048468</td>\n",
       "    </tr>\n",
       "    <tr>\n",
       "      <th>9</th>\n",
       "      <td>{'u': 24.23963213312204, 'g': 25.7882233571698...</td>\n",
       "      <td>{'u': 24.290920954977793, 'g': 25.810690105249...</td>\n",
       "      <td>{'u': 0.31975516643457014, 'g': 0.265709651224...</td>\n",
       "      <td>{'u': 0.35520413317849275, 'g': 0.324172319501...</td>\n",
       "      <td>{'u': [0.14193799425003092, 0.3184026944600339...</td>\n",
       "      <td>{'u': [0.0015538239137308594, 0.00147394317444...</td>\n",
       "      <td>{'u': [-0.0003608822220089956, 0.0003116494594...</td>\n",
       "      <td>{'u': [0.14193799425003092, 0.3184026944600339...</td>\n",
       "      <td>noroll_v3.3_10yrs</td>\n",
       "      <td>2</td>\n",
       "      <td>[0.0034298396814617703, 0.006848879789510292, ...</td>\n",
       "      <td>[0.14258932322430212, 0.31899725751313385, 0.5...</td>\n",
       "      <td>[-0.0007988455221355848, 0.0007719524661265425...</td>\n",
       "      <td>[0.14258932322430212, 0.31899725751313385, 0.5...</td>\n",
       "      <td>0.443400</td>\n",
       "      <td>1.921401</td>\n",
       "    </tr>\n",
       "    <tr>\n",
       "      <th>10</th>\n",
       "      <td>{'u': 24.238898291661563, 'g': 25.805016402124...</td>\n",
       "      <td>{'u': 24.29063125500848, 'g': 25.8331974904712...</td>\n",
       "      <td>{'u': 0.3341087792445402, 'g': 0.2646684511996...</td>\n",
       "      <td>{'u': 0.389749671957091, 'g': 0.33013393168858...</td>\n",
       "      <td>{'u': [0.14193799425003092, 0.3184026944600339...</td>\n",
       "      <td>{'u': [0.0016235741138019154, 0.00154010757724...</td>\n",
       "      <td>{'u': [-0.00037708200305546934, 0.000325639212...</td>\n",
       "      <td>{'u': [0.14193799425003092, 0.3184026944600339...</td>\n",
       "      <td>roll_uniform_mjdp0_v3.4_10yrs</td>\n",
       "      <td>2</td>\n",
       "      <td>[0.0036838955555830734, 0.007490889467937294, ...</td>\n",
       "      <td>[0.14258932322430212, 0.31899725751313385, 0.5...</td>\n",
       "      <td>[-0.0008206477642717293, 0.0008338614884775284...</td>\n",
       "      <td>[0.14258932322430212, 0.31899725751313385, 0.5...</td>\n",
       "      <td>0.468628</td>\n",
       "      <td>2.030720</td>\n",
       "    </tr>\n",
       "    <tr>\n",
       "      <th>11</th>\n",
       "      <td>{'u': 24.2408605998246, 'g': 25.80357690932905...</td>\n",
       "      <td>{'u': 24.28596946701814, 'g': 25.8437052382977...</td>\n",
       "      <td>{'u': 0.32454994396958065, 'g': 0.287143906795...</td>\n",
       "      <td>{'u': 0.3700521265439001, 'g': 0.3802637093487...</td>\n",
       "      <td>{'u': [0.14193799425003092, 0.3184026944600339...</td>\n",
       "      <td>{'u': [0.0015771237405264441, 0.00149604517735...</td>\n",
       "      <td>{'u': [-0.00036629370602086553, 0.000316322690...</td>\n",
       "      <td>{'u': [0.14193799425003092, 0.3184026944600339...</td>\n",
       "      <td>baseline_v3.4_10yrs</td>\n",
       "      <td>2</td>\n",
       "      <td>[0.003668997309452284, 0.007507780861299319, 0...</td>\n",
       "      <td>[0.14258932322430212, 0.31899725751313385, 0.5...</td>\n",
       "      <td>[-0.0008417412049442248, 0.0008311295673459305...</td>\n",
       "      <td>[0.14258932322430212, 0.31899725751313385, 0.5...</td>\n",
       "      <td>0.472907</td>\n",
       "      <td>2.049262</td>\n",
       "    </tr>\n",
       "    <tr>\n",
       "      <th>12</th>\n",
       "      <td>{'u': 24.473306224622355, 'g': 26.042360926267...</td>\n",
       "      <td>{'u': 24.526970976810418, 'g': 26.056186624852...</td>\n",
       "      <td>{'u': 0.346371685068987, 'g': 0.30171872407210...</td>\n",
       "      <td>{'u': 0.41574857437444024, 'g': 0.369172418036...</td>\n",
       "      <td>{'u': [0.1424858797528612, 0.3201230451420612,...</td>\n",
       "      <td>{'u': [0.0013803743622698129, 0.00211936073808...</td>\n",
       "      <td>{'u': [-0.00042165200062134684, 0.000327493115...</td>\n",
       "      <td>{'u': [0.1424858797528612, 0.3201230451420612,...</td>\n",
       "      <td>baseline_v3.3_10yrs</td>\n",
       "      <td>3</td>\n",
       "      <td>[0.0037053330485035917, 0.008003960385522263, ...</td>\n",
       "      <td>[0.14301554263648988, 0.31933484502580656, 0.5...</td>\n",
       "      <td>[-0.0007710386184879071, 0.0008705474378308217...</td>\n",
       "      <td>[0.14301554263648988, 0.31933484502580656, 0.5...</td>\n",
       "      <td>0.469138</td>\n",
       "      <td>2.032931</td>\n",
       "    </tr>\n",
       "    <tr>\n",
       "      <th>13</th>\n",
       "      <td>{'u': 24.51764797626818, 'g': 26.0884422086296...</td>\n",
       "      <td>{'u': 24.570514435094502, 'g': 26.110845404952...</td>\n",
       "      <td>{'u': 0.31108840392566384, 'g': 0.265423541825...</td>\n",
       "      <td>{'u': 0.3491390463460782, 'g': 0.3420003102697...</td>\n",
       "      <td>{'u': [0.1424858797528612, 0.3201230451420612,...</td>\n",
       "      <td>{'u': [0.0012397620119926798, 0.00190347126446...</td>\n",
       "      <td>{'u': [-0.0003787002620010135, 0.0002941329066...</td>\n",
       "      <td>{'u': [0.1424858797528612, 0.3201230451420612,...</td>\n",
       "      <td>noroll_v3.3_10yrs</td>\n",
       "      <td>3</td>\n",
       "      <td>[0.0031891109690607685, 0.006760795072459045, ...</td>\n",
       "      <td>[0.14301554263648988, 0.31933484502580656, 0.5...</td>\n",
       "      <td>[-0.000690164985873944, 0.0007373627401784009,...</td>\n",
       "      <td>[0.14301554263648988, 0.31933484502580656, 0.5...</td>\n",
       "      <td>0.406451</td>\n",
       "      <td>1.761286</td>\n",
       "    </tr>\n",
       "    <tr>\n",
       "      <th>14</th>\n",
       "      <td>{'u': 24.45113652345291, 'g': 26.0486723114583...</td>\n",
       "      <td>{'u': 24.50153431181058, 'g': 26.0674685915463...</td>\n",
       "      <td>{'u': 0.33796054713463075, 'g': 0.284396519265...</td>\n",
       "      <td>{'u': 0.39212245613349594, 'g': 0.336506207093...</td>\n",
       "      <td>{'u': [0.1424858797528612, 0.3201230451420612,...</td>\n",
       "      <td>{'u': [0.0013468539572754267, 0.00206789511237...</td>\n",
       "      <td>{'u': [-0.00041141278855406406, 0.000319540416...</td>\n",
       "      <td>{'u': [0.1424858797528612, 0.3201230451420612,...</td>\n",
       "      <td>roll_uniform_mjdp0_v3.4_10yrs</td>\n",
       "      <td>3</td>\n",
       "      <td>[0.003573603710534222, 0.007706036564127551, 0...</td>\n",
       "      <td>[0.14301554263648988, 0.31933484502580656, 0.5...</td>\n",
       "      <td>[-0.0007419033350128238, 0.0008358137810332354...</td>\n",
       "      <td>[0.14301554263648988, 0.31933484502580656, 0.5...</td>\n",
       "      <td>0.450819</td>\n",
       "      <td>1.953548</td>\n",
       "    </tr>\n",
       "    <tr>\n",
       "      <th>15</th>\n",
       "      <td>{'u': 24.448285347990947, 'g': 26.058622589115...</td>\n",
       "      <td>{'u': 24.495605538252672, 'g': 26.084344952929...</td>\n",
       "      <td>{'u': 0.354048020255055, 'g': 0.30402828282349...</td>\n",
       "      <td>{'u': 0.4452706071643675, 'g': 0.3879384058720...</td>\n",
       "      <td>{'u': [0.1424858797528612, 0.3201230451420612,...</td>\n",
       "      <td>{'u': [0.0014109664018152148, 0.00216633029162...</td>\n",
       "      <td>{'u': [-0.00043099670813691933, 0.000334751061...</td>\n",
       "      <td>{'u': [0.1424858797528612, 0.3201230451420612,...</td>\n",
       "      <td>baseline_v3.4_10yrs</td>\n",
       "      <td>3</td>\n",
       "      <td>[0.0037487525877512745, 0.008065034573950325, ...</td>\n",
       "      <td>[0.14301554263648988, 0.31933484502580656, 0.5...</td>\n",
       "      <td>[-0.0007847524479589899, 0.0008756275835030058...</td>\n",
       "      <td>[0.14301554263648988, 0.31933484502580656, 0.5...</td>\n",
       "      <td>0.474133</td>\n",
       "      <td>2.054576</td>\n",
       "    </tr>\n",
       "    <tr>\n",
       "      <th>16</th>\n",
       "      <td>{'u': 24.62692611676326, 'g': 26.1881692700780...</td>\n",
       "      <td>{'u': 24.68522125789747, 'g': 26.2178929368405...</td>\n",
       "      <td>{'u': 0.31067769257306355, 'g': 0.266203987198...</td>\n",
       "      <td>{'u': 0.35248989601482705, 'g': 0.338195350817...</td>\n",
       "      <td>{'u': [0.1427517760432703, 0.3188743110874678,...</td>\n",
       "      <td>{'u': [0.0013428031187166511, 0.00127508085349...</td>\n",
       "      <td>{'u': [-0.0002885073221744073, 0.0002809034512...</td>\n",
       "      <td>{'u': [0.1427517760432703, 0.3188743110874678,...</td>\n",
       "      <td>baseline_v3.3_10yrs</td>\n",
       "      <td>4</td>\n",
       "      <td>[0.002852970874365489, 0.006174969791898581, 0...</td>\n",
       "      <td>[0.14185359033574965, 0.31914856179745105, 0.5...</td>\n",
       "      <td>[-0.000576473428956665, 0.0007054492715954654,...</td>\n",
       "      <td>[0.14185359033574965, 0.31914856179745105, 0.5...</td>\n",
       "      <td>0.365791</td>\n",
       "      <td>1.585094</td>\n",
       "    </tr>\n",
       "    <tr>\n",
       "      <th>17</th>\n",
       "      <td>{'u': 24.664448395692432, 'g': 26.222501421073...</td>\n",
       "      <td>{'u': 24.719127249757253, 'g': 26.250984284204...</td>\n",
       "      <td>{'u': 0.30700734376273686, 'g': 0.262589132585...</td>\n",
       "      <td>{'u': 0.3422394603971597, 'g': 0.3381250071550...</td>\n",
       "      <td>{'u': [0.1427517760432703, 0.3188743110874678,...</td>\n",
       "      <td>{'u': [0.0013269392316494278, 0.00126001703782...</td>\n",
       "      <td>{'u': [-0.00028509889430196117, 0.000277584855...</td>\n",
       "      <td>{'u': [0.1427517760432703, 0.3188743110874678,...</td>\n",
       "      <td>noroll_v3.3_10yrs</td>\n",
       "      <td>4</td>\n",
       "      <td>[0.002813345479167118, 0.006063223985866535, 0...</td>\n",
       "      <td>[0.14185359033574965, 0.31914856179745105, 0.5...</td>\n",
       "      <td>[-0.0005704047857901233, 0.0006910966303220042...</td>\n",
       "      <td>[0.14185359033574965, 0.31914856179745105, 0.5...</td>\n",
       "      <td>0.359724</td>\n",
       "      <td>1.558805</td>\n",
       "    </tr>\n",
       "    <tr>\n",
       "      <th>18</th>\n",
       "      <td>{'u': 24.613747655707453, 'g': 26.199732345310...</td>\n",
       "      <td>{'u': 24.669000999672704, 'g': 26.223104012302...</td>\n",
       "      <td>{'u': 0.3030501628423787, 'g': 0.2522147488520...</td>\n",
       "      <td>{'u': 0.3301327509696286, 'g': 0.3098638415371...</td>\n",
       "      <td>{'u': [0.1427517760432703, 0.3188743110874678,...</td>\n",
       "      <td>{'u': [0.0013098356062260048, 0.00124377600814...</td>\n",
       "      <td>{'u': [-0.00028142410303762304, 0.000274006916...</td>\n",
       "      <td>{'u': [0.1427517760432703, 0.3188743110874678,...</td>\n",
       "      <td>roll_uniform_mjdp0_v3.4_10yrs</td>\n",
       "      <td>4</td>\n",
       "      <td>[0.002820785068698785, 0.006141454605848292, 0...</td>\n",
       "      <td>[0.14185359033574965, 0.31914856179745105, 0.5...</td>\n",
       "      <td>[-0.0005530932530733235, 0.000696901400890067,...</td>\n",
       "      <td>[0.14185359033574965, 0.31914856179745105, 0.5...</td>\n",
       "      <td>0.357374</td>\n",
       "      <td>1.548623</td>\n",
       "    </tr>\n",
       "    <tr>\n",
       "      <th>19</th>\n",
       "      <td>{'u': 24.616212470896873, 'g': 26.198677779255...</td>\n",
       "      <td>{'u': 24.67398891799486, 'g': 26.2258664934317...</td>\n",
       "      <td>{'u': 0.3062629752359192, 'g': 0.2748484985010...</td>\n",
       "      <td>{'u': 0.3532300176956582, 'g': 0.3634218302022...</td>\n",
       "      <td>{'u': [0.1427517760432703, 0.3188743110874678,...</td>\n",
       "      <td>{'u': [0.001323721941180302, 0.001256962006584...</td>\n",
       "      <td>{'u': [-0.0002844076448961714, 0.0002769118246...</td>\n",
       "      <td>{'u': [0.1427517760432703, 0.3188743110874678,...</td>\n",
       "      <td>baseline_v3.4_10yrs</td>\n",
       "      <td>4</td>\n",
       "      <td>[0.0028858069525339804, 0.006306400516375003, ...</td>\n",
       "      <td>[0.14185359033574965, 0.31914856179745105, 0.5...</td>\n",
       "      <td>[-0.0005827962959985553, 0.0007116849461950069...</td>\n",
       "      <td>[0.14185359033574965, 0.31914856179745105, 0.5...</td>\n",
       "      <td>0.369323</td>\n",
       "      <td>1.600398</td>\n",
       "    </tr>\n",
       "    <tr>\n",
       "      <th>20</th>\n",
       "      <td>{'u': 24.73024906538313, 'g': 26.2731284186055...</td>\n",
       "      <td>{'u': 24.78489532291566, 'g': 26.3061335260787...</td>\n",
       "      <td>{'u': 0.3143430882106561, 'g': 0.2689013956773...</td>\n",
       "      <td>{'u': 0.3551792695190841, 'g': 0.3298533515542...</td>\n",
       "      <td>{'u': [0.14183182441432363, 0.3186891876279061...</td>\n",
       "      <td>{'u': [0.0012619737166645094, 0.00134528181425...</td>\n",
       "      <td>{'u': [-0.0002864847573034934, 0.0002426513158...</td>\n",
       "      <td>{'u': [0.14183182441432363, 0.3186891876279061...</td>\n",
       "      <td>baseline_v3.3_10yrs</td>\n",
       "      <td>5</td>\n",
       "      <td>[0.002762140021636899, 0.006647349563657923, 0...</td>\n",
       "      <td>[0.1421222054435829, 0.31837262985273673, 0.50...</td>\n",
       "      <td>[-0.0004137813839847266, 0.0006850718158205222...</td>\n",
       "      <td>[0.1421222054435829, 0.31837262985273673, 0.50...</td>\n",
       "      <td>0.323013</td>\n",
       "      <td>1.399724</td>\n",
       "    </tr>\n",
       "    <tr>\n",
       "      <th>21</th>\n",
       "      <td>{'u': 24.773243756288053, 'g': 26.313464475137...</td>\n",
       "      <td>{'u': 24.82859106585774, 'g': 26.3437904850191...</td>\n",
       "      <td>{'u': 0.30334826102681745, 'g': 0.259221683028...</td>\n",
       "      <td>{'u': 0.33457987566562863, 'g': 0.327890332051...</td>\n",
       "      <td>{'u': [0.14183182441432363, 0.3186891876279061...</td>\n",
       "      <td>{'u': [0.0012178334653096764, 0.00129822768258...</td>\n",
       "      <td>{'u': [-0.0002764643353012607, 0.0002341640629...</td>\n",
       "      <td>{'u': [0.14183182441432363, 0.3186891876279061...</td>\n",
       "      <td>noroll_v3.3_10yrs</td>\n",
       "      <td>5</td>\n",
       "      <td>[0.0026297912882973186, 0.006239859245443335, ...</td>\n",
       "      <td>[0.1421222054435829, 0.31837262985273673, 0.50...</td>\n",
       "      <td>[-0.00040312062098351675, 0.000645367146662802...</td>\n",
       "      <td>[0.1421222054435829, 0.31837262985273673, 0.50...</td>\n",
       "      <td>0.307569</td>\n",
       "      <td>1.332800</td>\n",
       "    </tr>\n",
       "    <tr>\n",
       "      <th>22</th>\n",
       "      <td>{'u': 24.728398841553755, 'g': 26.285584783775...</td>\n",
       "      <td>{'u': 24.775008650955336, 'g': 26.314390870527...</td>\n",
       "      <td>{'u': 0.3057281086812607, 'g': 0.2572170534312...</td>\n",
       "      <td>{'u': 0.342363524033253, 'g': 0.31971140762679...</td>\n",
       "      <td>{'u': [0.14183182441432363, 0.3186891876279061...</td>\n",
       "      <td>{'u': [0.0012273876922108272, 0.00130841262347...</td>\n",
       "      <td>{'u': [-0.00027863327142002006, 0.000236001142...</td>\n",
       "      <td>{'u': [0.14183182441432363, 0.3186891876279061...</td>\n",
       "      <td>roll_uniform_mjdp0_v3.4_10yrs</td>\n",
       "      <td>5</td>\n",
       "      <td>[0.0026978507388662324, 0.0065567803841678615,...</td>\n",
       "      <td>[0.1421222054435829, 0.31837262985273673, 0.50...</td>\n",
       "      <td>[-0.00039622988481058223, 0.000675202484279782...</td>\n",
       "      <td>[0.1421222054435829, 0.31837262985273673, 0.50...</td>\n",
       "      <td>0.315509</td>\n",
       "      <td>1.367204</td>\n",
       "    </tr>\n",
       "    <tr>\n",
       "      <th>23</th>\n",
       "      <td>{'u': 24.720891673725035, 'g': 26.283202285844...</td>\n",
       "      <td>{'u': 24.772710594275495, 'g': 26.316362355505...</td>\n",
       "      <td>{'u': 0.3147026909171875, 'g': 0.2740185026728...</td>\n",
       "      <td>{'u': 0.3595475577511529, 'g': 0.3485067906628...</td>\n",
       "      <td>{'u': [0.14183182441432363, 0.3186891876279061...</td>\n",
       "      <td>{'u': [0.001263417391366146, 0.001346820791887...</td>\n",
       "      <td>{'u': [-0.0002868124905922791, 0.0002429289045...</td>\n",
       "      <td>{'u': [0.14183182441432363, 0.3186891876279061...</td>\n",
       "      <td>baseline_v3.4_10yrs</td>\n",
       "      <td>5</td>\n",
       "      <td>[0.0027853339153686993, 0.0067201541898851015,...</td>\n",
       "      <td>[0.1421222054435829, 0.31837262985273673, 0.50...</td>\n",
       "      <td>[-0.00041700410142361496, 0.000691584251705971...</td>\n",
       "      <td>[0.1421222054435829, 0.31837262985273673, 0.50...</td>\n",
       "      <td>0.325909</td>\n",
       "      <td>1.412273</td>\n",
       "    </tr>\n",
       "    <tr>\n",
       "      <th>24</th>\n",
       "      <td>{'u': 24.824866034299177, 'g': 26.355696627852...</td>\n",
       "      <td>{'u': 24.884421828337608, 'g': 26.387144227959...</td>\n",
       "      <td>{'u': 0.296395720226073, 'g': 0.25124313049521...</td>\n",
       "      <td>{'u': 0.3274813922722579, 'g': 0.3136911585985...</td>\n",
       "      <td>{'u': [0.14200545874332676, 0.3193451761592419...</td>\n",
       "      <td>{'u': [0.001366776768026581, 0.001090573350909...</td>\n",
       "      <td>{'u': [-0.00030812850111193674, 0.000253285671...</td>\n",
       "      <td>{'u': [0.14200545874332676, 0.3193451761592419...</td>\n",
       "      <td>baseline_v3.3_10yrs</td>\n",
       "      <td>6</td>\n",
       "      <td>[0.0026819107406796565, 0.006313381307894895, ...</td>\n",
       "      <td>[0.1416560123628493, 0.3187100610718545, 0.502...</td>\n",
       "      <td>[-0.0004783282681977604, 0.0006653653474112567...</td>\n",
       "      <td>[0.1416560123628493, 0.3187100610718545, 0.502...</td>\n",
       "      <td>0.330677</td>\n",
       "      <td>1.432933</td>\n",
       "    </tr>\n",
       "    <tr>\n",
       "      <th>25</th>\n",
       "      <td>{'u': 24.86955519801198, 'g': 26.3924343315757...</td>\n",
       "      <td>{'u': 24.930075171321285, 'g': 26.420488722683...</td>\n",
       "      <td>{'u': 0.3005554755567366, 'g': 0.2533424462858...</td>\n",
       "      <td>{'u': 0.32697713373682546, 'g': 0.310205344119...</td>\n",
       "      <td>{'u': [0.14200545874332676, 0.3193451761592419...</td>\n",
       "      <td>{'u': [0.0013859587485973166, 0.00110587896431...</td>\n",
       "      <td>{'u': [-0.0003124529197440683, 0.0002568404002...</td>\n",
       "      <td>{'u': [0.14200545874332676, 0.3193451761592419...</td>\n",
       "      <td>noroll_v3.3_10yrs</td>\n",
       "      <td>6</td>\n",
       "      <td>[0.0026908838624641333, 0.006289543982252537, ...</td>\n",
       "      <td>[0.1416560123628493, 0.3187100610718545, 0.502...</td>\n",
       "      <td>[-0.0004858142079346816, 0.0006646992488736109...</td>\n",
       "      <td>[0.1416560123628493, 0.3187100610718545, 0.502...</td>\n",
       "      <td>0.332292</td>\n",
       "      <td>1.439933</td>\n",
       "    </tr>\n",
       "    <tr>\n",
       "      <th>26</th>\n",
       "      <td>{'u': 24.821402913425874, 'g': 26.366707483655...</td>\n",
       "      <td>{'u': 24.8786983514323, 'g': 26.39936209091290...</td>\n",
       "      <td>{'u': 0.2976866907646156, 'g': 0.2450534460434...</td>\n",
       "      <td>{'u': 0.3274607576557713, 'g': 0.2969976188345...</td>\n",
       "      <td>{'u': [0.14200545874332676, 0.3193451761592419...</td>\n",
       "      <td>{'u': [0.0013727298517584952, 0.00109532341297...</td>\n",
       "      <td>{'u': [-0.0003094705745289123, 0.0002543888733...</td>\n",
       "      <td>{'u': [0.14200545874332676, 0.3193451761592419...</td>\n",
       "      <td>roll_uniform_mjdp0_v3.4_10yrs</td>\n",
       "      <td>6</td>\n",
       "      <td>[0.0027117157739954497, 0.006405074128985851, ...</td>\n",
       "      <td>[0.1416560123628493, 0.3187100610718545, 0.502...</td>\n",
       "      <td>[-0.00047104564563601916, 0.000675697385878069...</td>\n",
       "      <td>[0.1416560123628493, 0.3187100610718545, 0.502...</td>\n",
       "      <td>0.332217</td>\n",
       "      <td>1.439606</td>\n",
       "    </tr>\n",
       "    <tr>\n",
       "      <th>27</th>\n",
       "      <td>{'u': 24.825700202815668, 'g': 26.363037206081...</td>\n",
       "      <td>{'u': 24.88642140176173, 'g': 26.3942208457728...</td>\n",
       "      <td>{'u': 0.29661436380369466, 'g': 0.256794487962...</td>\n",
       "      <td>{'u': 0.32873837024115105, 'g': 0.327718070410...</td>\n",
       "      <td>{'u': [0.14200545874332676, 0.3193451761592419...</td>\n",
       "      <td>{'u': [0.0013677850044550408, 0.00109137783910...</td>\n",
       "      <td>{'u': [-0.0003083557996633425, 0.0002534725138...</td>\n",
       "      <td>{'u': [0.14200545874332676, 0.3193451761592419...</td>\n",
       "      <td>baseline_v3.4_10yrs</td>\n",
       "      <td>6</td>\n",
       "      <td>[0.002716073126459465, 0.0064310068579423426, ...</td>\n",
       "      <td>[0.1416560123628493, 0.3187100610718545, 0.502...</td>\n",
       "      <td>[-0.00048263779538373344, 0.000672904464390956...</td>\n",
       "      <td>[0.1416560123628493, 0.3187100610718545, 0.502...</td>\n",
       "      <td>0.334152</td>\n",
       "      <td>1.447993</td>\n",
       "    </tr>\n",
       "    <tr>\n",
       "      <th>28</th>\n",
       "      <td>{'u': 24.904978885225507, 'g': 26.425540720233...</td>\n",
       "      <td>{'u': 24.96111417182397, 'g': 26.4515871259209...</td>\n",
       "      <td>{'u': 0.303766190989879, 'g': 0.25518927297401...</td>\n",
       "      <td>{'u': 0.3436412944043248, 'g': 0.3116889238447...</td>\n",
       "      <td>{'u': [0.14207502393456467, 0.3175354468359389...</td>\n",
       "      <td>{'u': [0.00105915483643927, 0.0014129724892940...</td>\n",
       "      <td>{'u': [-0.00021142246246366535, 0.000249229684...</td>\n",
       "      <td>{'u': [0.14207502393456467, 0.3175354468359389...</td>\n",
       "      <td>baseline_v3.3_10yrs</td>\n",
       "      <td>7</td>\n",
       "      <td>[0.0029523609550604173, 0.006041542472860932, ...</td>\n",
       "      <td>[0.14162736485194433, 0.3184140684263276, 0.50...</td>\n",
       "      <td>[-0.0003517142313268377, 0.0006331179656951537...</td>\n",
       "      <td>[0.14162736485194433, 0.3184140684263276, 0.50...</td>\n",
       "      <td>0.290310</td>\n",
       "      <td>1.258009</td>\n",
       "    </tr>\n",
       "    <tr>\n",
       "      <th>29</th>\n",
       "      <td>{'u': 24.94449384712918, 'g': 26.4609405440185...</td>\n",
       "      <td>{'u': 25.008278848225817, 'g': 26.488384886597...</td>\n",
       "      <td>{'u': 0.3004823812379811, 'g': 0.2551009363939...</td>\n",
       "      <td>{'u': 0.3265700176860449, 'g': 0.3155974961561...</td>\n",
       "      <td>{'u': [0.14207502393456467, 0.3175354468359389...</td>\n",
       "      <td>{'u': [0.0010477050336507004, 0.00139769780443...</td>\n",
       "      <td>{'u': [-0.000209136917973852, 0.00024653543193...</td>\n",
       "      <td>{'u': [0.14207502393456467, 0.3175354468359389...</td>\n",
       "      <td>noroll_v3.3_10yrs</td>\n",
       "      <td>7</td>\n",
       "      <td>[0.002886068839270161, 0.005859283812029895, 0...</td>\n",
       "      <td>[0.14162736485194433, 0.3184140684263276, 0.50...</td>\n",
       "      <td>[-0.0003542764815575709, 0.0006155954101478406...</td>\n",
       "      <td>[0.14162736485194433, 0.3184140684263276, 0.50...</td>\n",
       "      <td>0.285292</td>\n",
       "      <td>1.236264</td>\n",
       "    </tr>\n",
       "    <tr>\n",
       "      <th>30</th>\n",
       "      <td>{'u': 24.91241826760281, 'g': 26.4385708546822...</td>\n",
       "      <td>{'u': 24.968129540613187, 'g': 26.470118278665...</td>\n",
       "      <td>{'u': 0.2934091950845629, 'g': 0.2437249776758...</td>\n",
       "      <td>{'u': 0.31890510907838276, 'g': 0.291872609896...</td>\n",
       "      <td>{'u': [0.14207502393456467, 0.3175354468359389...</td>\n",
       "      <td>{'u': [0.001023042646770135, 0.001364796784689...</td>\n",
       "      <td>{'u': [-0.00020421395261965505, 0.000240732126...</td>\n",
       "      <td>{'u': [0.14207502393456467, 0.3175354468359389...</td>\n",
       "      <td>roll_uniform_mjdp0_v3.4_10yrs</td>\n",
       "      <td>7</td>\n",
       "      <td>[0.0028477848166397956, 0.005831658019776437, ...</td>\n",
       "      <td>[0.14162736485194433, 0.3184140684263276, 0.50...</td>\n",
       "      <td>[-0.0003370083812435934, 0.0006108708027420958...</td>\n",
       "      <td>[0.14162736485194433, 0.3184140684263276, 0.50...</td>\n",
       "      <td>0.279533</td>\n",
       "      <td>1.211309</td>\n",
       "    </tr>\n",
       "    <tr>\n",
       "      <th>31</th>\n",
       "      <td>{'u': 24.904249218812186, 'g': 26.429253908524...</td>\n",
       "      <td>{'u': 24.962031150393045, 'g': 26.455514016997...</td>\n",
       "      <td>{'u': 0.30479032920248567, 'g': 0.260981178688...</td>\n",
       "      <td>{'u': 0.341106216707157, 'g': 0.32560028380509...</td>\n",
       "      <td>{'u': [0.14207502393456467, 0.3175354468359389...</td>\n",
       "      <td>{'u': [0.0010627257438451596, 0.00141773628185...</td>\n",
       "      <td>{'u': [-0.00021213526668360452, 0.000250069954...</td>\n",
       "      <td>{'u': [0.14207502393456467, 0.3175354468359389...</td>\n",
       "      <td>baseline_v3.4_10yrs</td>\n",
       "      <td>7</td>\n",
       "      <td>[0.002994640989100605, 0.0061288668300832246, ...</td>\n",
       "      <td>[0.14162736485194433, 0.3184140684263276, 0.50...</td>\n",
       "      <td>[-0.00035663170632405463, 0.000639271178630358...</td>\n",
       "      <td>[0.14162736485194433, 0.3184140684263276, 0.50...</td>\n",
       "      <td>0.293499</td>\n",
       "      <td>1.271829</td>\n",
       "    </tr>\n",
       "    <tr>\n",
       "      <th>32</th>\n",
       "      <td>{'u': 24.957353199026077, 'g': 26.480434667949...</td>\n",
       "      <td>{'u': 25.018763793187247, 'g': 26.507916175206...</td>\n",
       "      <td>{'u': 0.29403435442236536, 'g': 0.250015369026...</td>\n",
       "      <td>{'u': 0.32810856304067215, 'g': 0.311879807926...</td>\n",
       "      <td>{'u': [0.1408115712346448, 0.31744467152636013...</td>\n",
       "      <td>{'u': [0.0012310559937900323, 0.00121734362579...</td>\n",
       "      <td>{'u': [-0.0002845136859756879, 0.0002241752284...</td>\n",
       "      <td>{'u': [0.1408115712346448, 0.31744467152636013...</td>\n",
       "      <td>baseline_v3.3_10yrs</td>\n",
       "      <td>8</td>\n",
       "      <td>[0.002758896786376054, 0.006000849276024706, 0...</td>\n",
       "      <td>[0.14101601496423996, 0.3176926268911451, 0.50...</td>\n",
       "      <td>[-0.0003801543587547017, 0.0006111320392454659...</td>\n",
       "      <td>[0.14101601496423996, 0.3176926268911451, 0.50...</td>\n",
       "      <td>0.290427</td>\n",
       "      <td>1.258516</td>\n",
       "    </tr>\n",
       "    <tr>\n",
       "      <th>33</th>\n",
       "      <td>{'u': 24.99413480324656, 'g': 26.5179704612004...</td>\n",
       "      <td>{'u': 25.057357331125182, 'g': 26.545917276812...</td>\n",
       "      <td>{'u': 0.30066805709672556, 'g': 0.258365488745...</td>\n",
       "      <td>{'u': 0.32784674462158137, 'g': 0.324392031231...</td>\n",
       "      <td>{'u': [0.1408115712346448, 0.31744467152636013...</td>\n",
       "      <td>{'u': [0.0012588298212883027, 0.00124480808885...</td>\n",
       "      <td>{'u': [-0.0002909325930563138, 0.0002292328408...</td>\n",
       "      <td>{'u': [0.1408115712346448, 0.31744467152636013...</td>\n",
       "      <td>noroll_v3.3_10yrs</td>\n",
       "      <td>8</td>\n",
       "      <td>[0.0027944603276076063, 0.006053798533220604, ...</td>\n",
       "      <td>[0.14101601496423996, 0.3176926268911451, 0.50...</td>\n",
       "      <td>[-0.0003947856492295776, 0.0006168767284606474...</td>\n",
       "      <td>[0.14101601496423996, 0.3176926268911451, 0.50...</td>\n",
       "      <td>0.295872</td>\n",
       "      <td>1.282113</td>\n",
       "    </tr>\n",
       "    <tr>\n",
       "      <th>34</th>\n",
       "      <td>{'u': 24.95929899653347, 'g': 26.4892531992064...</td>\n",
       "      <td>{'u': 25.015051923789393, 'g': 26.516371535427...</td>\n",
       "      <td>{'u': 0.2963043533209349, 'g': 0.2480823088927...</td>\n",
       "      <td>{'u': 0.3291159156575141, 'g': 0.2974554403672...</td>\n",
       "      <td>{'u': [0.1408115712346448, 0.31744467152636013...</td>\n",
       "      <td>{'u': [0.001240559970818399, 0.001226741740838...</td>\n",
       "      <td>{'u': [-0.0002867101835756418, 0.0002259059021...</td>\n",
       "      <td>{'u': [0.1408115712346448, 0.31744467152636013...</td>\n",
       "      <td>roll_uniform_mjdp0_v3.4_10yrs</td>\n",
       "      <td>8</td>\n",
       "      <td>[0.0027908454609016477, 0.006078903859802958, ...</td>\n",
       "      <td>[0.14101601496423996, 0.3176926268911451, 0.50...</td>\n",
       "      <td>[-0.00037769241056482585, 0.000619361284370049...</td>\n",
       "      <td>[0.14101601496423996, 0.3176926268911451, 0.50...</td>\n",
       "      <td>0.292476</td>\n",
       "      <td>1.267396</td>\n",
       "    </tr>\n",
       "    <tr>\n",
       "      <th>35</th>\n",
       "      <td>{'u': 24.958394504695946, 'g': 26.482261075862...</td>\n",
       "      <td>{'u': 25.021525850687222, 'g': 26.515212967799...</td>\n",
       "      <td>{'u': 0.30117328491803524, 'g': 0.256656437692...</td>\n",
       "      <td>{'u': 0.33894677236534676, 'g': 0.325772148558...</td>\n",
       "      <td>{'u': [0.1408115712346448, 0.31744467152636013...</td>\n",
       "      <td>{'u': [0.00126094509703176, 0.0012468998031701...</td>\n",
       "      <td>{'u': [-0.0002914214618824775, 0.0002296180324...</td>\n",
       "      <td>{'u': [0.1408115712346448, 0.31744467152636013...</td>\n",
       "      <td>baseline_v3.4_10yrs</td>\n",
       "      <td>8</td>\n",
       "      <td>[0.002829808663527203, 0.006148667502795111, 0...</td>\n",
       "      <td>[0.14101601496423996, 0.3176926268911451, 0.50...</td>\n",
       "      <td>[-0.00039040044626485857, 0.000624142262699155...</td>\n",
       "      <td>[0.14101601496423996, 0.3176926268911451, 0.50...</td>\n",
       "      <td>0.297138</td>\n",
       "      <td>1.287600</td>\n",
       "    </tr>\n",
       "    <tr>\n",
       "      <th>36</th>\n",
       "      <td>{'u': 25.01943260202648, 'g': 26.5457183172156...</td>\n",
       "      <td>{'u': 25.07955545569824, 'g': 26.5723256871625...</td>\n",
       "      <td>{'u': 0.3017103554393496, 'g': 0.2510927786518...</td>\n",
       "      <td>{'u': 0.33651890901507286, 'g': 0.305626062633...</td>\n",
       "      <td>{'u': [0.14187382080329783, 0.3182449313733134...</td>\n",
       "      <td>{'u': [0.0010122022696514828, 0.00150506933889...</td>\n",
       "      <td>{'u': [-0.0002001707102105136, 0.0002260101112...</td>\n",
       "      <td>{'u': [0.14187382080329783, 0.3182449313733134...</td>\n",
       "      <td>baseline_v3.3_10yrs</td>\n",
       "      <td>9</td>\n",
       "      <td>[0.0026266229356422676, 0.006472027481053735, ...</td>\n",
       "      <td>[0.14161854539296498, 0.31837855770309503, 0.5...</td>\n",
       "      <td>[-0.0002443951704941439, 0.0006036163759793915...</td>\n",
       "      <td>[0.14161854539296498, 0.31837855770309503, 0.5...</td>\n",
       "      <td>0.254371</td>\n",
       "      <td>1.102275</td>\n",
       "    </tr>\n",
       "    <tr>\n",
       "      <th>37</th>\n",
       "      <td>{'u': 25.060276680814287, 'g': 26.579738898204...</td>\n",
       "      <td>{'u': 25.1232209852882, 'g': 26.60952611313293...</td>\n",
       "      <td>{'u': 0.30186297173977716, 'g': 0.255359452556...</td>\n",
       "      <td>{'u': 0.33091063136686216, 'g': 0.321279181565...</td>\n",
       "      <td>{'u': [0.14187382080329783, 0.3182449313733134...</td>\n",
       "      <td>{'u': [0.0010127142791430152, 0.00150583065884...</td>\n",
       "      <td>{'u': [-0.00020027196398817023, 0.000226124435...</td>\n",
       "      <td>{'u': [0.14187382080329783, 0.3182449313733134...</td>\n",
       "      <td>noroll_v3.3_10yrs</td>\n",
       "      <td>9</td>\n",
       "      <td>[0.0025988806264111153, 0.006383978038349085, ...</td>\n",
       "      <td>[0.14161854539296498, 0.31837855770309503, 0.5...</td>\n",
       "      <td>[-0.000251824170725989, 0.000594802651737275, ...</td>\n",
       "      <td>[0.14161854539296498, 0.31837855770309503, 0.5...</td>\n",
       "      <td>0.253354</td>\n",
       "      <td>1.097866</td>\n",
       "    </tr>\n",
       "    <tr>\n",
       "      <th>38</th>\n",
       "      <td>{'u': 25.01861645943455, 'g': 26.5506669463850...</td>\n",
       "      <td>{'u': 25.077637825741768, 'g': 26.581031547261...</td>\n",
       "      <td>{'u': 0.2953125241153237, 'g': 0.2458926702310...</td>\n",
       "      <td>{'u': 0.3237976431258147, 'g': 0.2885353869209...</td>\n",
       "      <td>{'u': [0.14187382080329783, 0.3182449313733134...</td>\n",
       "      <td>{'u': [0.0009907383083711475, 0.00147315402810...</td>\n",
       "      <td>{'u': [-0.0001959260483457513, 0.0002212175195...</td>\n",
       "      <td>{'u': [0.14187382080329783, 0.3182449313733134...</td>\n",
       "      <td>roll_uniform_mjdp0_v3.4_10yrs</td>\n",
       "      <td>9</td>\n",
       "      <td>[0.0025793049964949956, 0.006354027799500501, ...</td>\n",
       "      <td>[0.14161854539296498, 0.31837855770309503, 0.5...</td>\n",
       "      <td>[-0.00023864333922935476, 0.000591223809707056...</td>\n",
       "      <td>[0.14161854539296498, 0.31837855770309503, 0.5...</td>\n",
       "      <td>0.248969</td>\n",
       "      <td>1.078864</td>\n",
       "    </tr>\n",
       "    <tr>\n",
       "      <th>39</th>\n",
       "      <td>{'u': 25.02135122586808, 'g': 26.5474769457298...</td>\n",
       "      <td>{'u': 25.082431796131782, 'g': 26.576854900431...</td>\n",
       "      <td>{'u': 0.3047000068220977, 'g': 0.2592092103660...</td>\n",
       "      <td>{'u': 0.3445808489791595, 'g': 0.3268364284847...</td>\n",
       "      <td>{'u': [0.14187382080329783, 0.3182449313733134...</td>\n",
       "      <td>{'u': [0.0010222321935852425, 0.00151998308828...</td>\n",
       "      <td>{'u': [-0.00020215420408063647, 0.000228249648...</td>\n",
       "      <td>{'u': [0.14187382080329783, 0.3182449313733134...</td>\n",
       "      <td>baseline_v3.4_10yrs</td>\n",
       "      <td>9</td>\n",
       "      <td>[0.002685527838301561, 0.006628599697654813, 0...</td>\n",
       "      <td>[0.14161854539296498, 0.31837855770309503, 0.5...</td>\n",
       "      <td>[-0.0002485815094957274, 0.0006147756410834845...</td>\n",
       "      <td>[0.14161854539296498, 0.31837855770309503, 0.5...</td>\n",
       "      <td>0.258992</td>\n",
       "      <td>1.122300</td>\n",
       "    </tr>\n",
       "  </tbody>\n",
       "</table>\n",
       "</div>"
      ],
      "text/plain": [
       "                                           Mean depth  \\\n",
       "0   {'u': 22.897534822477997, 'g': 24.426127202735...   \n",
       "1   {'u': 22.897534822477997, 'g': 24.426127202735...   \n",
       "2   {'u': 22.86219876821583, 'g': 24.4094547907006...   \n",
       "3   {'u': 22.865559712923776, 'g': 24.350876170269...   \n",
       "4   {'u': 24.007879044950496, 'g': 25.396813313322...   \n",
       "5   {'u': 24.007879044950496, 'g': 25.396813313322...   \n",
       "6   {'u': 23.9980551149324, 'g': 25.45174810441908...   \n",
       "7   {'u': 23.989065982382115, 'g': 25.449181096438...   \n",
       "8   {'u': 24.264766602694806, 'g': 25.763517382020...   \n",
       "9   {'u': 24.23963213312204, 'g': 25.7882233571698...   \n",
       "10  {'u': 24.238898291661563, 'g': 25.805016402124...   \n",
       "11  {'u': 24.2408605998246, 'g': 25.80357690932905...   \n",
       "12  {'u': 24.473306224622355, 'g': 26.042360926267...   \n",
       "13  {'u': 24.51764797626818, 'g': 26.0884422086296...   \n",
       "14  {'u': 24.45113652345291, 'g': 26.0486723114583...   \n",
       "15  {'u': 24.448285347990947, 'g': 26.058622589115...   \n",
       "16  {'u': 24.62692611676326, 'g': 26.1881692700780...   \n",
       "17  {'u': 24.664448395692432, 'g': 26.222501421073...   \n",
       "18  {'u': 24.613747655707453, 'g': 26.199732345310...   \n",
       "19  {'u': 24.616212470896873, 'g': 26.198677779255...   \n",
       "20  {'u': 24.73024906538313, 'g': 26.2731284186055...   \n",
       "21  {'u': 24.773243756288053, 'g': 26.313464475137...   \n",
       "22  {'u': 24.728398841553755, 'g': 26.285584783775...   \n",
       "23  {'u': 24.720891673725035, 'g': 26.283202285844...   \n",
       "24  {'u': 24.824866034299177, 'g': 26.355696627852...   \n",
       "25  {'u': 24.86955519801198, 'g': 26.3924343315757...   \n",
       "26  {'u': 24.821402913425874, 'g': 26.366707483655...   \n",
       "27  {'u': 24.825700202815668, 'g': 26.363037206081...   \n",
       "28  {'u': 24.904978885225507, 'g': 26.425540720233...   \n",
       "29  {'u': 24.94449384712918, 'g': 26.4609405440185...   \n",
       "30  {'u': 24.91241826760281, 'g': 26.4385708546822...   \n",
       "31  {'u': 24.904249218812186, 'g': 26.429253908524...   \n",
       "32  {'u': 24.957353199026077, 'g': 26.480434667949...   \n",
       "33  {'u': 24.99413480324656, 'g': 26.5179704612004...   \n",
       "34  {'u': 24.95929899653347, 'g': 26.4892531992064...   \n",
       "35  {'u': 24.958394504695946, 'g': 26.482261075862...   \n",
       "36  {'u': 25.01943260202648, 'g': 26.5457183172156...   \n",
       "37  {'u': 25.060276680814287, 'g': 26.579738898204...   \n",
       "38  {'u': 25.01861645943455, 'g': 26.5506669463850...   \n",
       "39  {'u': 25.02135122586808, 'g': 26.5474769457298...   \n",
       "\n",
       "                                         Median depth  \\\n",
       "0   {'u': 22.952803681718244, 'g': 24.491942924386...   \n",
       "1   {'u': 22.952803681718244, 'g': 24.491942924386...   \n",
       "2   {'u': 23.06553011733188, 'g': 24.4906355797854...   \n",
       "3   {'u': 22.985072661902887, 'g': 24.357940244514...   \n",
       "4   {'u': 24.064697996861987, 'g': 25.434160022755...   \n",
       "5   {'u': 24.064697996861987, 'g': 25.434160022755...   \n",
       "6   {'u': 24.04623071747092, 'g': 25.4863406068422...   \n",
       "7   {'u': 24.041258320175196, 'g': 25.479253265538...   \n",
       "8   {'u': 24.32018395809292, 'g': 25.7958465448354...   \n",
       "9   {'u': 24.290920954977793, 'g': 25.810690105249...   \n",
       "10  {'u': 24.29063125500848, 'g': 25.8331974904712...   \n",
       "11  {'u': 24.28596946701814, 'g': 25.8437052382977...   \n",
       "12  {'u': 24.526970976810418, 'g': 26.056186624852...   \n",
       "13  {'u': 24.570514435094502, 'g': 26.110845404952...   \n",
       "14  {'u': 24.50153431181058, 'g': 26.0674685915463...   \n",
       "15  {'u': 24.495605538252672, 'g': 26.084344952929...   \n",
       "16  {'u': 24.68522125789747, 'g': 26.2178929368405...   \n",
       "17  {'u': 24.719127249757253, 'g': 26.250984284204...   \n",
       "18  {'u': 24.669000999672704, 'g': 26.223104012302...   \n",
       "19  {'u': 24.67398891799486, 'g': 26.2258664934317...   \n",
       "20  {'u': 24.78489532291566, 'g': 26.3061335260787...   \n",
       "21  {'u': 24.82859106585774, 'g': 26.3437904850191...   \n",
       "22  {'u': 24.775008650955336, 'g': 26.314390870527...   \n",
       "23  {'u': 24.772710594275495, 'g': 26.316362355505...   \n",
       "24  {'u': 24.884421828337608, 'g': 26.387144227959...   \n",
       "25  {'u': 24.930075171321285, 'g': 26.420488722683...   \n",
       "26  {'u': 24.8786983514323, 'g': 26.39936209091290...   \n",
       "27  {'u': 24.88642140176173, 'g': 26.3942208457728...   \n",
       "28  {'u': 24.96111417182397, 'g': 26.4515871259209...   \n",
       "29  {'u': 25.008278848225817, 'g': 26.488384886597...   \n",
       "30  {'u': 24.968129540613187, 'g': 26.470118278665...   \n",
       "31  {'u': 24.962031150393045, 'g': 26.455514016997...   \n",
       "32  {'u': 25.018763793187247, 'g': 26.507916175206...   \n",
       "33  {'u': 25.057357331125182, 'g': 26.545917276812...   \n",
       "34  {'u': 25.015051923789393, 'g': 26.516371535427...   \n",
       "35  {'u': 25.021525850687222, 'g': 26.515212967799...   \n",
       "36  {'u': 25.07955545569824, 'g': 26.5723256871625...   \n",
       "37  {'u': 25.1232209852882, 'g': 26.60952611313293...   \n",
       "38  {'u': 25.077637825741768, 'g': 26.581031547261...   \n",
       "39  {'u': 25.082431796131782, 'g': 26.576854900431...   \n",
       "\n",
       "                                            Std depth  \\\n",
       "0   {'u': 0.4702832239948085, 'g': 0.4081712049925...   \n",
       "1   {'u': 0.4702832239948085, 'g': 0.4081712049925...   \n",
       "2   {'u': 0.6029079386149998, 'g': 0.4288024380039...   \n",
       "3   {'u': 0.5466467774067808, 'g': 0.4400740282337...   \n",
       "4   {'u': 0.37417349349316653, 'g': 0.283640107403...   \n",
       "5   {'u': 0.37417349349316653, 'g': 0.283640107403...   \n",
       "6   {'u': 0.3814073031451155, 'g': 0.2726955071491...   \n",
       "7   {'u': 0.378787048106594, 'g': 0.29766096088711...   \n",
       "8   {'u': 0.32591205269085516, 'g': 0.282283864800...   \n",
       "9   {'u': 0.31975516643457014, 'g': 0.265709651224...   \n",
       "10  {'u': 0.3341087792445402, 'g': 0.2646684511996...   \n",
       "11  {'u': 0.32454994396958065, 'g': 0.287143906795...   \n",
       "12  {'u': 0.346371685068987, 'g': 0.30171872407210...   \n",
       "13  {'u': 0.31108840392566384, 'g': 0.265423541825...   \n",
       "14  {'u': 0.33796054713463075, 'g': 0.284396519265...   \n",
       "15  {'u': 0.354048020255055, 'g': 0.30402828282349...   \n",
       "16  {'u': 0.31067769257306355, 'g': 0.266203987198...   \n",
       "17  {'u': 0.30700734376273686, 'g': 0.262589132585...   \n",
       "18  {'u': 0.3030501628423787, 'g': 0.2522147488520...   \n",
       "19  {'u': 0.3062629752359192, 'g': 0.2748484985010...   \n",
       "20  {'u': 0.3143430882106561, 'g': 0.2689013956773...   \n",
       "21  {'u': 0.30334826102681745, 'g': 0.259221683028...   \n",
       "22  {'u': 0.3057281086812607, 'g': 0.2572170534312...   \n",
       "23  {'u': 0.3147026909171875, 'g': 0.2740185026728...   \n",
       "24  {'u': 0.296395720226073, 'g': 0.25124313049521...   \n",
       "25  {'u': 0.3005554755567366, 'g': 0.2533424462858...   \n",
       "26  {'u': 0.2976866907646156, 'g': 0.2450534460434...   \n",
       "27  {'u': 0.29661436380369466, 'g': 0.256794487962...   \n",
       "28  {'u': 0.303766190989879, 'g': 0.25518927297401...   \n",
       "29  {'u': 0.3004823812379811, 'g': 0.2551009363939...   \n",
       "30  {'u': 0.2934091950845629, 'g': 0.2437249776758...   \n",
       "31  {'u': 0.30479032920248567, 'g': 0.260981178688...   \n",
       "32  {'u': 0.29403435442236536, 'g': 0.250015369026...   \n",
       "33  {'u': 0.30066805709672556, 'g': 0.258365488745...   \n",
       "34  {'u': 0.2963043533209349, 'g': 0.2480823088927...   \n",
       "35  {'u': 0.30117328491803524, 'g': 0.256656437692...   \n",
       "36  {'u': 0.3017103554393496, 'g': 0.2510927786518...   \n",
       "37  {'u': 0.30186297173977716, 'g': 0.255359452556...   \n",
       "38  {'u': 0.2953125241153237, 'g': 0.2458926702310...   \n",
       "39  {'u': 0.3047000068220977, 'g': 0.2592092103660...   \n",
       "\n",
       "                                            IQR depth  \\\n",
       "0   {'u': 0.7848927775432273, 'g': 0.6198498019218...   \n",
       "1   {'u': 0.7848927775432273, 'g': 0.6198498019218...   \n",
       "2   {'u': 0.8448672304029223, 'g': 0.7200793093720...   \n",
       "3   {'u': 0.7484964398175258, 'g': 0.7729805279056...   \n",
       "4   {'u': 0.45927565880968046, 'g': 0.347858597405...   \n",
       "5   {'u': 0.45927565880968046, 'g': 0.347858597405...   \n",
       "6   {'u': 0.45508652876299394, 'g': 0.339778410347...   \n",
       "7   {'u': 0.4525726438673452, 'g': 0.3775672587941...   \n",
       "8   {'u': 0.3823772043403757, 'g': 0.3674022268497...   \n",
       "9   {'u': 0.35520413317849275, 'g': 0.324172319501...   \n",
       "10  {'u': 0.389749671957091, 'g': 0.33013393168858...   \n",
       "11  {'u': 0.3700521265439001, 'g': 0.3802637093487...   \n",
       "12  {'u': 0.41574857437444024, 'g': 0.369172418036...   \n",
       "13  {'u': 0.3491390463460782, 'g': 0.3420003102697...   \n",
       "14  {'u': 0.39212245613349594, 'g': 0.336506207093...   \n",
       "15  {'u': 0.4452706071643675, 'g': 0.3879384058720...   \n",
       "16  {'u': 0.35248989601482705, 'g': 0.338195350817...   \n",
       "17  {'u': 0.3422394603971597, 'g': 0.3381250071550...   \n",
       "18  {'u': 0.3301327509696286, 'g': 0.3098638415371...   \n",
       "19  {'u': 0.3532300176956582, 'g': 0.3634218302022...   \n",
       "20  {'u': 0.3551792695190841, 'g': 0.3298533515542...   \n",
       "21  {'u': 0.33457987566562863, 'g': 0.327890332051...   \n",
       "22  {'u': 0.342363524033253, 'g': 0.31971140762679...   \n",
       "23  {'u': 0.3595475577511529, 'g': 0.3485067906628...   \n",
       "24  {'u': 0.3274813922722579, 'g': 0.3136911585985...   \n",
       "25  {'u': 0.32697713373682546, 'g': 0.310205344119...   \n",
       "26  {'u': 0.3274607576557713, 'g': 0.2969976188345...   \n",
       "27  {'u': 0.32873837024115105, 'g': 0.327718070410...   \n",
       "28  {'u': 0.3436412944043248, 'g': 0.3116889238447...   \n",
       "29  {'u': 0.3265700176860449, 'g': 0.3155974961561...   \n",
       "30  {'u': 0.31890510907838276, 'g': 0.291872609896...   \n",
       "31  {'u': 0.341106216707157, 'g': 0.32560028380509...   \n",
       "32  {'u': 0.32810856304067215, 'g': 0.311879807926...   \n",
       "33  {'u': 0.32784674462158137, 'g': 0.324392031231...   \n",
       "34  {'u': 0.3291159156575141, 'g': 0.2974554403672...   \n",
       "35  {'u': 0.33894677236534676, 'g': 0.325772148558...   \n",
       "36  {'u': 0.33651890901507286, 'g': 0.305626062633...   \n",
       "37  {'u': 0.33091063136686216, 'g': 0.321279181565...   \n",
       "38  {'u': 0.3237976431258147, 'g': 0.2885353869209...   \n",
       "39  {'u': 0.3445808489791595, 'g': 0.3268364284847...   \n",
       "\n",
       "                                               Mean z  \\\n",
       "0   {'u': [0.1412097514129552, 0.31887802365309226...   \n",
       "1   {'u': [0.1412097514129552, 0.31887802365309226...   \n",
       "2   {'u': [0.1412097514129552, 0.31887802365309226...   \n",
       "3   {'u': [0.1412097514129552, 0.31887802365309226...   \n",
       "4   {'u': [0.14349848944632426, 0.3194659214972579...   \n",
       "5   {'u': [0.14349848944632426, 0.3194659214972579...   \n",
       "6   {'u': [0.14349848944632426, 0.3194659214972579...   \n",
       "7   {'u': [0.14349848944632426, 0.3194659214972579...   \n",
       "8   {'u': [0.14193799425003092, 0.3184026944600339...   \n",
       "9   {'u': [0.14193799425003092, 0.3184026944600339...   \n",
       "10  {'u': [0.14193799425003092, 0.3184026944600339...   \n",
       "11  {'u': [0.14193799425003092, 0.3184026944600339...   \n",
       "12  {'u': [0.1424858797528612, 0.3201230451420612,...   \n",
       "13  {'u': [0.1424858797528612, 0.3201230451420612,...   \n",
       "14  {'u': [0.1424858797528612, 0.3201230451420612,...   \n",
       "15  {'u': [0.1424858797528612, 0.3201230451420612,...   \n",
       "16  {'u': [0.1427517760432703, 0.3188743110874678,...   \n",
       "17  {'u': [0.1427517760432703, 0.3188743110874678,...   \n",
       "18  {'u': [0.1427517760432703, 0.3188743110874678,...   \n",
       "19  {'u': [0.1427517760432703, 0.3188743110874678,...   \n",
       "20  {'u': [0.14183182441432363, 0.3186891876279061...   \n",
       "21  {'u': [0.14183182441432363, 0.3186891876279061...   \n",
       "22  {'u': [0.14183182441432363, 0.3186891876279061...   \n",
       "23  {'u': [0.14183182441432363, 0.3186891876279061...   \n",
       "24  {'u': [0.14200545874332676, 0.3193451761592419...   \n",
       "25  {'u': [0.14200545874332676, 0.3193451761592419...   \n",
       "26  {'u': [0.14200545874332676, 0.3193451761592419...   \n",
       "27  {'u': [0.14200545874332676, 0.3193451761592419...   \n",
       "28  {'u': [0.14207502393456467, 0.3175354468359389...   \n",
       "29  {'u': [0.14207502393456467, 0.3175354468359389...   \n",
       "30  {'u': [0.14207502393456467, 0.3175354468359389...   \n",
       "31  {'u': [0.14207502393456467, 0.3175354468359389...   \n",
       "32  {'u': [0.1408115712346448, 0.31744467152636013...   \n",
       "33  {'u': [0.1408115712346448, 0.31744467152636013...   \n",
       "34  {'u': [0.1408115712346448, 0.31744467152636013...   \n",
       "35  {'u': [0.1408115712346448, 0.31744467152636013...   \n",
       "36  {'u': [0.14187382080329783, 0.3182449313733134...   \n",
       "37  {'u': [0.14187382080329783, 0.3182449313733134...   \n",
       "38  {'u': [0.14187382080329783, 0.3182449313733134...   \n",
       "39  {'u': [0.14187382080329783, 0.3182449313733134...   \n",
       "\n",
       "                                                Std z  \\\n",
       "0   {'u': [0.002912747639921835, 0.002043703221582...   \n",
       "1   {'u': [0.002912747639921835, 0.002043703221582...   \n",
       "2   {'u': [0.0037341724851966338, 0.00262004858688...   \n",
       "3   {'u': [0.0033857131820208292, 0.00237555524639...   \n",
       "4   {'u': [0.0016235276308136845, 0.00236048455074...   \n",
       "5   {'u': [0.0016235276308136845, 0.00236048455074...   \n",
       "6   {'u': [0.0016549149151890282, 0.00240611925289...   \n",
       "7   {'u': [0.001643545706710085, 0.002389589296480...   \n",
       "8   {'u': [0.001583742795748655, 0.001502323952695...   \n",
       "9   {'u': [0.0015538239137308594, 0.00147394317444...   \n",
       "10  {'u': [0.0016235741138019154, 0.00154010757724...   \n",
       "11  {'u': [0.0015771237405264441, 0.00149604517735...   \n",
       "12  {'u': [0.0013803743622698129, 0.00211936073808...   \n",
       "13  {'u': [0.0012397620119926798, 0.00190347126446...   \n",
       "14  {'u': [0.0013468539572754267, 0.00206789511237...   \n",
       "15  {'u': [0.0014109664018152148, 0.00216633029162...   \n",
       "16  {'u': [0.0013428031187166511, 0.00127508085349...   \n",
       "17  {'u': [0.0013269392316494278, 0.00126001703782...   \n",
       "18  {'u': [0.0013098356062260048, 0.00124377600814...   \n",
       "19  {'u': [0.001323721941180302, 0.001256962006584...   \n",
       "20  {'u': [0.0012619737166645094, 0.00134528181425...   \n",
       "21  {'u': [0.0012178334653096764, 0.00129822768258...   \n",
       "22  {'u': [0.0012273876922108272, 0.00130841262347...   \n",
       "23  {'u': [0.001263417391366146, 0.001346820791887...   \n",
       "24  {'u': [0.001366776768026581, 0.001090573350909...   \n",
       "25  {'u': [0.0013859587485973166, 0.00110587896431...   \n",
       "26  {'u': [0.0013727298517584952, 0.00109532341297...   \n",
       "27  {'u': [0.0013677850044550408, 0.00109137783910...   \n",
       "28  {'u': [0.00105915483643927, 0.0014129724892940...   \n",
       "29  {'u': [0.0010477050336507004, 0.00139769780443...   \n",
       "30  {'u': [0.001023042646770135, 0.001364796784689...   \n",
       "31  {'u': [0.0010627257438451596, 0.00141773628185...   \n",
       "32  {'u': [0.0012310559937900323, 0.00121734362579...   \n",
       "33  {'u': [0.0012588298212883027, 0.00124480808885...   \n",
       "34  {'u': [0.001240559970818399, 0.001226741740838...   \n",
       "35  {'u': [0.00126094509703176, 0.0012468998031701...   \n",
       "36  {'u': [0.0010122022696514828, 0.00150506933889...   \n",
       "37  {'u': [0.0010127142791430152, 0.00150583065884...   \n",
       "38  {'u': [0.0009907383083711475, 0.00147315402810...   \n",
       "39  {'u': [0.0010222321935852425, 0.00151998308828...   \n",
       "\n",
       "                                               Clbias  \\\n",
       "0   {'u': [-0.0008705210268065921, 0.0005534352261...   \n",
       "1   {'u': [-0.0008705210268065921, 0.0005534352261...   \n",
       "2   {'u': [-0.0011160169255766807, 0.0007095096620...   \n",
       "3   {'u': [-0.0010118743125183626, 0.0006433008183...   \n",
       "4   {'u': [-0.0004008486992204776, 0.0003790942875...   \n",
       "5   {'u': [-0.0004008486992204776, 0.0003790942875...   \n",
       "6   {'u': [-0.0004085982144582408, 0.0003864232297...   \n",
       "7   {'u': [-0.0004057911587953398, 0.0003837685155...   \n",
       "8   {'u': [-0.00036783100978809665, 0.000317650270...   \n",
       "9   {'u': [-0.0003608822220089956, 0.0003116494594...   \n",
       "10  {'u': [-0.00037708200305546934, 0.000325639212...   \n",
       "11  {'u': [-0.00036629370602086553, 0.000316322690...   \n",
       "12  {'u': [-0.00042165200062134684, 0.000327493115...   \n",
       "13  {'u': [-0.0003787002620010135, 0.0002941329066...   \n",
       "14  {'u': [-0.00041141278855406406, 0.000319540416...   \n",
       "15  {'u': [-0.00043099670813691933, 0.000334751061...   \n",
       "16  {'u': [-0.0002885073221744073, 0.0002809034512...   \n",
       "17  {'u': [-0.00028509889430196117, 0.000277584855...   \n",
       "18  {'u': [-0.00028142410303762304, 0.000274006916...   \n",
       "19  {'u': [-0.0002844076448961714, 0.0002769118246...   \n",
       "20  {'u': [-0.0002864847573034934, 0.0002426513158...   \n",
       "21  {'u': [-0.0002764643353012607, 0.0002341640629...   \n",
       "22  {'u': [-0.00027863327142002006, 0.000236001142...   \n",
       "23  {'u': [-0.0002868124905922791, 0.0002429289045...   \n",
       "24  {'u': [-0.00030812850111193674, 0.000253285671...   \n",
       "25  {'u': [-0.0003124529197440683, 0.0002568404002...   \n",
       "26  {'u': [-0.0003094705745289123, 0.0002543888733...   \n",
       "27  {'u': [-0.0003083557996633425, 0.0002534725138...   \n",
       "28  {'u': [-0.00021142246246366535, 0.000249229684...   \n",
       "29  {'u': [-0.000209136917973852, 0.00024653543193...   \n",
       "30  {'u': [-0.00020421395261965505, 0.000240732126...   \n",
       "31  {'u': [-0.00021213526668360452, 0.000250069954...   \n",
       "32  {'u': [-0.0002845136859756879, 0.0002241752284...   \n",
       "33  {'u': [-0.0002909325930563138, 0.0002292328408...   \n",
       "34  {'u': [-0.0002867101835756418, 0.0002259059021...   \n",
       "35  {'u': [-0.0002914214618824775, 0.0002296180324...   \n",
       "36  {'u': [-0.0002001707102105136, 0.0002260101112...   \n",
       "37  {'u': [-0.00020027196398817023, 0.000226124435...   \n",
       "38  {'u': [-0.0001959260483457513, 0.0002212175195...   \n",
       "39  {'u': [-0.00020215420408063647, 0.000228249648...   \n",
       "\n",
       "                                           Used meanz  \\\n",
       "0   {'u': [0.1412097514129552, 0.31887802365309226...   \n",
       "1   {'u': [0.1412097514129552, 0.31887802365309226...   \n",
       "2   {'u': [0.1412097514129552, 0.31887802365309226...   \n",
       "3   {'u': [0.1412097514129552, 0.31887802365309226...   \n",
       "4   {'u': [0.14349848944632426, 0.3194659214972579...   \n",
       "5   {'u': [0.14349848944632426, 0.3194659214972579...   \n",
       "6   {'u': [0.14349848944632426, 0.3194659214972579...   \n",
       "7   {'u': [0.14349848944632426, 0.3194659214972579...   \n",
       "8   {'u': [0.14193799425003092, 0.3184026944600339...   \n",
       "9   {'u': [0.14193799425003092, 0.3184026944600339...   \n",
       "10  {'u': [0.14193799425003092, 0.3184026944600339...   \n",
       "11  {'u': [0.14193799425003092, 0.3184026944600339...   \n",
       "12  {'u': [0.1424858797528612, 0.3201230451420612,...   \n",
       "13  {'u': [0.1424858797528612, 0.3201230451420612,...   \n",
       "14  {'u': [0.1424858797528612, 0.3201230451420612,...   \n",
       "15  {'u': [0.1424858797528612, 0.3201230451420612,...   \n",
       "16  {'u': [0.1427517760432703, 0.3188743110874678,...   \n",
       "17  {'u': [0.1427517760432703, 0.3188743110874678,...   \n",
       "18  {'u': [0.1427517760432703, 0.3188743110874678,...   \n",
       "19  {'u': [0.1427517760432703, 0.3188743110874678,...   \n",
       "20  {'u': [0.14183182441432363, 0.3186891876279061...   \n",
       "21  {'u': [0.14183182441432363, 0.3186891876279061...   \n",
       "22  {'u': [0.14183182441432363, 0.3186891876279061...   \n",
       "23  {'u': [0.14183182441432363, 0.3186891876279061...   \n",
       "24  {'u': [0.14200545874332676, 0.3193451761592419...   \n",
       "25  {'u': [0.14200545874332676, 0.3193451761592419...   \n",
       "26  {'u': [0.14200545874332676, 0.3193451761592419...   \n",
       "27  {'u': [0.14200545874332676, 0.3193451761592419...   \n",
       "28  {'u': [0.14207502393456467, 0.3175354468359389...   \n",
       "29  {'u': [0.14207502393456467, 0.3175354468359389...   \n",
       "30  {'u': [0.14207502393456467, 0.3175354468359389...   \n",
       "31  {'u': [0.14207502393456467, 0.3175354468359389...   \n",
       "32  {'u': [0.1408115712346448, 0.31744467152636013...   \n",
       "33  {'u': [0.1408115712346448, 0.31744467152636013...   \n",
       "34  {'u': [0.1408115712346448, 0.31744467152636013...   \n",
       "35  {'u': [0.1408115712346448, 0.31744467152636013...   \n",
       "36  {'u': [0.14187382080329783, 0.3182449313733134...   \n",
       "37  {'u': [0.14187382080329783, 0.3182449313733134...   \n",
       "38  {'u': [0.14187382080329783, 0.3182449313733134...   \n",
       "39  {'u': [0.14187382080329783, 0.3182449313733134...   \n",
       "\n",
       "                         Strategy  Year  \\\n",
       "0             baseline_v3.3_10yrs     0   \n",
       "1               noroll_v3.3_10yrs     0   \n",
       "2   roll_uniform_mjdp0_v3.4_10yrs     0   \n",
       "3             baseline_v3.4_10yrs     0   \n",
       "4             baseline_v3.3_10yrs     1   \n",
       "5               noroll_v3.3_10yrs     1   \n",
       "6   roll_uniform_mjdp0_v3.4_10yrs     1   \n",
       "7             baseline_v3.4_10yrs     1   \n",
       "8             baseline_v3.3_10yrs     2   \n",
       "9               noroll_v3.3_10yrs     2   \n",
       "10  roll_uniform_mjdp0_v3.4_10yrs     2   \n",
       "11            baseline_v3.4_10yrs     2   \n",
       "12            baseline_v3.3_10yrs     3   \n",
       "13              noroll_v3.3_10yrs     3   \n",
       "14  roll_uniform_mjdp0_v3.4_10yrs     3   \n",
       "15            baseline_v3.4_10yrs     3   \n",
       "16            baseline_v3.3_10yrs     4   \n",
       "17              noroll_v3.3_10yrs     4   \n",
       "18  roll_uniform_mjdp0_v3.4_10yrs     4   \n",
       "19            baseline_v3.4_10yrs     4   \n",
       "20            baseline_v3.3_10yrs     5   \n",
       "21              noroll_v3.3_10yrs     5   \n",
       "22  roll_uniform_mjdp0_v3.4_10yrs     5   \n",
       "23            baseline_v3.4_10yrs     5   \n",
       "24            baseline_v3.3_10yrs     6   \n",
       "25              noroll_v3.3_10yrs     6   \n",
       "26  roll_uniform_mjdp0_v3.4_10yrs     6   \n",
       "27            baseline_v3.4_10yrs     6   \n",
       "28            baseline_v3.3_10yrs     7   \n",
       "29              noroll_v3.3_10yrs     7   \n",
       "30  roll_uniform_mjdp0_v3.4_10yrs     7   \n",
       "31            baseline_v3.4_10yrs     7   \n",
       "32            baseline_v3.3_10yrs     8   \n",
       "33              noroll_v3.3_10yrs     8   \n",
       "34  roll_uniform_mjdp0_v3.4_10yrs     8   \n",
       "35            baseline_v3.4_10yrs     8   \n",
       "36            baseline_v3.3_10yrs     9   \n",
       "37              noroll_v3.3_10yrs     9   \n",
       "38  roll_uniform_mjdp0_v3.4_10yrs     9   \n",
       "39            baseline_v3.4_10yrs     9   \n",
       "\n",
       "                                       Combined std z  \\\n",
       "0   [0.006624375018295387, 0.009729641529336667, 0...   \n",
       "1   [0.006624375018295387, 0.009729641529336667, 0...   \n",
       "2   [0.007466269290939411, 0.010251396214926737, 0...   \n",
       "3   [0.006820894671033512, 0.009238325773716312, 0...   \n",
       "4   [0.0035667948366187195, 0.007785198574843124, ...   \n",
       "5   [0.0035667948366187195, 0.007785198574843124, ...   \n",
       "6   [0.003652661763818664, 0.007997495532458264, 0...   \n",
       "7   [0.003638870417210624, 0.007937827333293113, 0...   \n",
       "8   [0.003673255374464074, 0.00752618084718274, 0....   \n",
       "9   [0.0034298396814617703, 0.006848879789510292, ...   \n",
       "10  [0.0036838955555830734, 0.007490889467937294, ...   \n",
       "11  [0.003668997309452284, 0.007507780861299319, 0...   \n",
       "12  [0.0037053330485035917, 0.008003960385522263, ...   \n",
       "13  [0.0031891109690607685, 0.006760795072459045, ...   \n",
       "14  [0.003573603710534222, 0.007706036564127551, 0...   \n",
       "15  [0.0037487525877512745, 0.008065034573950325, ...   \n",
       "16  [0.002852970874365489, 0.006174969791898581, 0...   \n",
       "17  [0.002813345479167118, 0.006063223985866535, 0...   \n",
       "18  [0.002820785068698785, 0.006141454605848292, 0...   \n",
       "19  [0.0028858069525339804, 0.006306400516375003, ...   \n",
       "20  [0.002762140021636899, 0.006647349563657923, 0...   \n",
       "21  [0.0026297912882973186, 0.006239859245443335, ...   \n",
       "22  [0.0026978507388662324, 0.0065567803841678615,...   \n",
       "23  [0.0027853339153686993, 0.0067201541898851015,...   \n",
       "24  [0.0026819107406796565, 0.006313381307894895, ...   \n",
       "25  [0.0026908838624641333, 0.006289543982252537, ...   \n",
       "26  [0.0027117157739954497, 0.006405074128985851, ...   \n",
       "27  [0.002716073126459465, 0.0064310068579423426, ...   \n",
       "28  [0.0029523609550604173, 0.006041542472860932, ...   \n",
       "29  [0.002886068839270161, 0.005859283812029895, 0...   \n",
       "30  [0.0028477848166397956, 0.005831658019776437, ...   \n",
       "31  [0.002994640989100605, 0.0061288668300832246, ...   \n",
       "32  [0.002758896786376054, 0.006000849276024706, 0...   \n",
       "33  [0.0027944603276076063, 0.006053798533220604, ...   \n",
       "34  [0.0027908454609016477, 0.006078903859802958, ...   \n",
       "35  [0.002829808663527203, 0.006148667502795111, 0...   \n",
       "36  [0.0026266229356422676, 0.006472027481053735, ...   \n",
       "37  [0.0025988806264111153, 0.006383978038349085, ...   \n",
       "38  [0.0025793049964949956, 0.006354027799500501, ...   \n",
       "39  [0.002685527838301561, 0.006628599697654813, 0...   \n",
       "\n",
       "                                       Average mean z  \\\n",
       "0   [0.14113133225855518, 0.3198933751193948, 0.49...   \n",
       "1   [0.14113133225855518, 0.3198933751193948, 0.49...   \n",
       "2   [0.14113133225855518, 0.3198933751193948, 0.49...   \n",
       "3   [0.14113133225855518, 0.3198933751193948, 0.49...   \n",
       "4   [0.14238138240470644, 0.31951032313550964, 0.4...   \n",
       "5   [0.14238138240470644, 0.31951032313550964, 0.4...   \n",
       "6   [0.14238138240470644, 0.31951032313550964, 0.4...   \n",
       "7   [0.14238138240470644, 0.31951032313550964, 0.4...   \n",
       "8   [0.14258932322430212, 0.31899725751313385, 0.5...   \n",
       "9   [0.14258932322430212, 0.31899725751313385, 0.5...   \n",
       "10  [0.14258932322430212, 0.31899725751313385, 0.5...   \n",
       "11  [0.14258932322430212, 0.31899725751313385, 0.5...   \n",
       "12  [0.14301554263648988, 0.31933484502580656, 0.5...   \n",
       "13  [0.14301554263648988, 0.31933484502580656, 0.5...   \n",
       "14  [0.14301554263648988, 0.31933484502580656, 0.5...   \n",
       "15  [0.14301554263648988, 0.31933484502580656, 0.5...   \n",
       "16  [0.14185359033574965, 0.31914856179745105, 0.5...   \n",
       "17  [0.14185359033574965, 0.31914856179745105, 0.5...   \n",
       "18  [0.14185359033574965, 0.31914856179745105, 0.5...   \n",
       "19  [0.14185359033574965, 0.31914856179745105, 0.5...   \n",
       "20  [0.1421222054435829, 0.31837262985273673, 0.50...   \n",
       "21  [0.1421222054435829, 0.31837262985273673, 0.50...   \n",
       "22  [0.1421222054435829, 0.31837262985273673, 0.50...   \n",
       "23  [0.1421222054435829, 0.31837262985273673, 0.50...   \n",
       "24  [0.1416560123628493, 0.3187100610718545, 0.502...   \n",
       "25  [0.1416560123628493, 0.3187100610718545, 0.502...   \n",
       "26  [0.1416560123628493, 0.3187100610718545, 0.502...   \n",
       "27  [0.1416560123628493, 0.3187100610718545, 0.502...   \n",
       "28  [0.14162736485194433, 0.3184140684263276, 0.50...   \n",
       "29  [0.14162736485194433, 0.3184140684263276, 0.50...   \n",
       "30  [0.14162736485194433, 0.3184140684263276, 0.50...   \n",
       "31  [0.14162736485194433, 0.3184140684263276, 0.50...   \n",
       "32  [0.14101601496423996, 0.3176926268911451, 0.50...   \n",
       "33  [0.14101601496423996, 0.3176926268911451, 0.50...   \n",
       "34  [0.14101601496423996, 0.3176926268911451, 0.50...   \n",
       "35  [0.14101601496423996, 0.3176926268911451, 0.50...   \n",
       "36  [0.14161854539296498, 0.31837855770309503, 0.5...   \n",
       "37  [0.14161854539296498, 0.31837855770309503, 0.5...   \n",
       "38  [0.14161854539296498, 0.31837855770309503, 0.5...   \n",
       "39  [0.14161854539296498, 0.31837855770309503, 0.5...   \n",
       "\n",
       "                                      Combined Clbias  \\\n",
       "0   [-0.002048855413940264, 0.0012807518120885545,...   \n",
       "1   [-0.002048855413940264, 0.0012807518120885545,...   \n",
       "2   [-0.002354465676981804, 0.0014289511539865496,...   \n",
       "3   [-0.002241548322899907, 0.001332044214659568, ...   \n",
       "4   [-0.0009441414681884953, 0.0009226756635002543...   \n",
       "5   [-0.0009441414681884953, 0.0009226756635002543...   \n",
       "6   [-0.0009353054191857139, 0.0009462790533335723...   \n",
       "7   [-0.0009764092173090012, 0.0009358881852279473...   \n",
       "8   [-0.0008352048665189484, 0.0008355316998610979...   \n",
       "9   [-0.0007988455221355848, 0.0007719524661265425...   \n",
       "10  [-0.0008206477642717293, 0.0008338614884775284...   \n",
       "11  [-0.0008417412049442248, 0.0008311295673459305...   \n",
       "12  [-0.0007710386184879071, 0.0008705474378308217...   \n",
       "13  [-0.000690164985873944, 0.0007373627401784009,...   \n",
       "14  [-0.0007419033350128238, 0.0008358137810332354...   \n",
       "15  [-0.0007847524479589899, 0.0008756275835030058...   \n",
       "16  [-0.000576473428956665, 0.0007054492715954654,...   \n",
       "17  [-0.0005704047857901233, 0.0006910966303220042...   \n",
       "18  [-0.0005530932530733235, 0.000696901400890067,...   \n",
       "19  [-0.0005827962959985553, 0.0007116849461950069...   \n",
       "20  [-0.0004137813839847266, 0.0006850718158205222...   \n",
       "21  [-0.00040312062098351675, 0.000645367146662802...   \n",
       "22  [-0.00039622988481058223, 0.000675202484279782...   \n",
       "23  [-0.00041700410142361496, 0.000691584251705971...   \n",
       "24  [-0.0004783282681977604, 0.0006653653474112567...   \n",
       "25  [-0.0004858142079346816, 0.0006646992488736109...   \n",
       "26  [-0.00047104564563601916, 0.000675697385878069...   \n",
       "27  [-0.00048263779538373344, 0.000672904464390956...   \n",
       "28  [-0.0003517142313268377, 0.0006331179656951537...   \n",
       "29  [-0.0003542764815575709, 0.0006155954101478406...   \n",
       "30  [-0.0003370083812435934, 0.0006108708027420958...   \n",
       "31  [-0.00035663170632405463, 0.000639271178630358...   \n",
       "32  [-0.0003801543587547017, 0.0006111320392454659...   \n",
       "33  [-0.0003947856492295776, 0.0006168767284606474...   \n",
       "34  [-0.00037769241056482585, 0.000619361284370049...   \n",
       "35  [-0.00039040044626485857, 0.000624142262699155...   \n",
       "36  [-0.0002443951704941439, 0.0006036163759793915...   \n",
       "37  [-0.000251824170725989, 0.000594802651737275, ...   \n",
       "38  [-0.00023864333922935476, 0.000591223809707056...   \n",
       "39  [-0.0002485815094957274, 0.0006147756410834845...   \n",
       "\n",
       "                                  Combined Mean z use  Y1 ratio  Y10 ratio  \n",
       "0   [0.14113133225855518, 0.3198933751193948, 0.49...  0.887300   3.844967  \n",
       "1   [0.14113133225855518, 0.3198933751193948, 0.49...  0.887300   3.844967  \n",
       "2   [0.14113133225855518, 0.3198933751193948, 0.49...  1.006207   4.360230  \n",
       "3   [0.14113133225855518, 0.3198933751193948, 0.49...  0.949045   4.112530  \n",
       "4   [0.14238138240470644, 0.31951032313550964, 0.4...  0.523911   2.270279  \n",
       "5   [0.14238138240470644, 0.31951032313550964, 0.4...  0.523911   2.270279  \n",
       "6   [0.14238138240470644, 0.31951032313550964, 0.4...  0.529309   2.293673  \n",
       "7   [0.14238138240470644, 0.31951032313550964, 0.4...  0.535962   2.322500  \n",
       "8   [0.14258932322430212, 0.31899725751313385, 0.5...  0.472723   2.048468  \n",
       "9   [0.14258932322430212, 0.31899725751313385, 0.5...  0.443400   1.921401  \n",
       "10  [0.14258932322430212, 0.31899725751313385, 0.5...  0.468628   2.030720  \n",
       "11  [0.14258932322430212, 0.31899725751313385, 0.5...  0.472907   2.049262  \n",
       "12  [0.14301554263648988, 0.31933484502580656, 0.5...  0.469138   2.032931  \n",
       "13  [0.14301554263648988, 0.31933484502580656, 0.5...  0.406451   1.761286  \n",
       "14  [0.14301554263648988, 0.31933484502580656, 0.5...  0.450819   1.953548  \n",
       "15  [0.14301554263648988, 0.31933484502580656, 0.5...  0.474133   2.054576  \n",
       "16  [0.14185359033574965, 0.31914856179745105, 0.5...  0.365791   1.585094  \n",
       "17  [0.14185359033574965, 0.31914856179745105, 0.5...  0.359724   1.558805  \n",
       "18  [0.14185359033574965, 0.31914856179745105, 0.5...  0.357374   1.548623  \n",
       "19  [0.14185359033574965, 0.31914856179745105, 0.5...  0.369323   1.600398  \n",
       "20  [0.1421222054435829, 0.31837262985273673, 0.50...  0.323013   1.399724  \n",
       "21  [0.1421222054435829, 0.31837262985273673, 0.50...  0.307569   1.332800  \n",
       "22  [0.1421222054435829, 0.31837262985273673, 0.50...  0.315509   1.367204  \n",
       "23  [0.1421222054435829, 0.31837262985273673, 0.50...  0.325909   1.412273  \n",
       "24  [0.1416560123628493, 0.3187100610718545, 0.502...  0.330677   1.432933  \n",
       "25  [0.1416560123628493, 0.3187100610718545, 0.502...  0.332292   1.439933  \n",
       "26  [0.1416560123628493, 0.3187100610718545, 0.502...  0.332217   1.439606  \n",
       "27  [0.1416560123628493, 0.3187100610718545, 0.502...  0.334152   1.447993  \n",
       "28  [0.14162736485194433, 0.3184140684263276, 0.50...  0.290310   1.258009  \n",
       "29  [0.14162736485194433, 0.3184140684263276, 0.50...  0.285292   1.236264  \n",
       "30  [0.14162736485194433, 0.3184140684263276, 0.50...  0.279533   1.211309  \n",
       "31  [0.14162736485194433, 0.3184140684263276, 0.50...  0.293499   1.271829  \n",
       "32  [0.14101601496423996, 0.3176926268911451, 0.50...  0.290427   1.258516  \n",
       "33  [0.14101601496423996, 0.3176926268911451, 0.50...  0.295872   1.282113  \n",
       "34  [0.14101601496423996, 0.3176926268911451, 0.50...  0.292476   1.267396  \n",
       "35  [0.14101601496423996, 0.3176926268911451, 0.50...  0.297138   1.287600  \n",
       "36  [0.14161854539296498, 0.31837855770309503, 0.5...  0.254371   1.102275  \n",
       "37  [0.14161854539296498, 0.31837855770309503, 0.5...  0.253354   1.097866  \n",
       "38  [0.14161854539296498, 0.31837855770309503, 0.5...  0.248969   1.078864  \n",
       "39  [0.14161854539296498, 0.31837855770309503, 0.5...  0.258992   1.122300  "
      ]
     },
     "metadata": {},
     "output_type": "display_data"
    }
   ],
   "source": [
    "import meanz_modules as mzmod\n",
    "import numpy as np\n",
    "import pandas as pd\n",
    "import importlib\n",
    "importlib.reload(mzmod)\n",
    "import warnings\n",
    "#warnings.filterwarnings(\"ignore\")\n",
    "\n",
    "\n",
    "v33_sim_list = ['/pscratch/sd/r/rhlozek/rubin_sim_data/sim_baseline/baseline_v3.3_10yrs.db',\n",
    "               '/pscratch/sd/r/rhlozek/rubin_sim_data/noroll/noroll_v3.3_10yrs.db',\n",
    "               '/pscratch/sd/b/beckermr/v3.4_sims_rubin/roll_uniform_mjdp0_v3.4_10yrs.db',\n",
    "               '/pscratch/sd/b/beckermr/v3.4_sims_rubin/baseline_v3.4_10yrs.db']\n",
    "v33_name_list = [path.splitext(path.basename(sim))[0] for sim in v33_sim_list]\n",
    "nums =len(v33_name_list)\n",
    "\n",
    "v33_df = mzmod.get_year_by_year_metrics(np.arange(10), v33_name_list[:nums], v33_sim_list[:nums])\n",
    "display(v33_df)"
   ]
  },
  {
   "cell_type": "code",
   "execution_count": 6,
   "metadata": {},
   "outputs": [
    {
     "name": "stdout",
     "output_type": "stream",
     "text": [
      "noroll_v3.3_10yrs\n",
      "baseline_v3.3_10yrs\n",
      "baseline_v3.4_10yrs\n",
      "roll_uniform_mjdp0_v3.4_10yrs\n"
     ]
    },
    {
     "data": {
      "image/png": "[encoded data removed]",
      "text/plain": [
       "<Figure size 640x480 with 1 Axes>"
      ]
     },
     "metadata": {},
     "output_type": "display_data"
    }
   ],
   "source": [
    "importlib.reload(mzmod)\n",
    "import matplotlib.pyplot as plt\n",
    "mzmod.plot_metric_by_year(v33_df, stat_name='Std depth',filter='i',ylog=False)\n"
   ]
  },
  {
   "cell_type": "code",
   "execution_count": 17,
   "metadata": {},
   "outputs": [
    {
     "name": "stdout",
     "output_type": "stream",
     "text": [
      "noroll_v3.3_10yrs\n",
      "baseline_v3.3_10yrs\n",
      "baseline_v3.4_10yrs\n",
      "roll_uniform_mjdp0_v3.4_10yrs\n"
     ]
    },
    {
     "data": {
      "image/png": "[encoded data removed]",
      "text/plain": [
       "<Figure size 640x480 with 1 Axes>"
      ]
     },
     "metadata": {},
     "output_type": "display_data"
    }
   ],
   "source": [
    "importlib.reload(mzmod)\n",
    "mzmod.plot_metric_by_year(v33_df, stat_name='Y1 ratio',filter='combined',ylog=False, compare_to='noroll_v3.3_10yrs')"
   ]
  },
  {
   "cell_type": "code",
   "execution_count": null,
   "metadata": {},
   "outputs": [],
   "source": []
  },
  {
   "cell_type": "code",
   "execution_count": 19,
   "metadata": {},
   "outputs": [
    {
     "name": "stdout",
     "output_type": "stream",
     "text": [
      "noroll_v3.3_10yrs\n",
      "baseline_v3.3_10yrs\n",
      "baseline_v3.4_10yrs\n",
      "roll_uniform_mjdp0_v3.4_10yrs\n"
     ]
    },
    {
     "data": {
      "image/png": "[encoded data removed]",
      "text/plain": [
       "<Figure size 640x480 with 1 Axes>"
      ]
     },
     "metadata": {},
     "output_type": "display_data"
    }
   ],
   "source": [
    "importlib.reload(mzmod)\n",
    "mzmod.plot_metric_by_year(v33_df, stat_name='Y10 ratio',filter='combined',ylog=True)#, compare_to='noroll_v3.3_10yrs')"
   ]
  },
  {
   "cell_type": "code",
   "execution_count": null,
   "metadata": {},
   "outputs": [
    {
     "name": "stdout",
     "output_type": "stream",
     "text": [
      "(3, 2)\n"
     ]
    },
    {
     "data": {
      "image/png": "[encoded data removed]",
      "text/plain": [
       "<Figure size 1500x1200 with 6 Axes>"
      ]
     },
     "metadata": {},
     "output_type": "display_data"
    }
   ],
   "source": [
    "importlib.reload(mzmod)\n",
    "years = [0,1]\n",
    "mzmod.plot_meanz_metrics_by_year(v33_df,years=years,filter='combined')"
   ]
  },
  {
   "cell_type": "code",
   "execution_count": null,
   "metadata": {},
   "outputs": [],
   "source": [
    "# #Possible ones to consider\n",
    "\n",
    "# v33_sim_list = ['/pscratch/sd/r/rhlozek/rubin_sim_data/sim_baseline/baseline_v3.3_10yrs.db',\n",
    "#            '/pscratch/sd/r/rhlozek/rubin_sim_data/noroll/noroll_v3.3_10yrs.db',\n",
    "#            '/pscratch/sd/r/rhlozek/rubin_sim_data/noroll/roll_mid1_const_season6v3.3_10yrs.db',\n",
    "#            '/pscratch/sd/r/rhlozek/rubin_sim_data/noroll/roll_mid1_const_season2v3.3_10yrs.db',\n",
    "#            '/pscratch/sd/r/rhlozek/rubin_sim_data/noroll/roll_mid1_const_season4v3.3_10yrs.db',\n",
    "#            '/pscratch/sd/r/rhlozek/rubin_sim_data/noroll/roll_mid2_const_season2v3.3_10yrs.db',\n",
    "#            '/pscratch/sd/r/rhlozek/rubin_sim_data/noroll/roll_mid2_const_season4v3.3_10yrs.db',\n",
    "#            '/pscratch/sd/r/rhlozek/rubin_sim_data/noroll/roll_mid2_const_season6v3.3_10yrs.db',]\n",
    "# v33_name_list = [path.splitext(path.basename(sim))[0] for sim in v33_sim_list]\n",
    "# print(v33_name_list)"
   ]
  }
 ],
 "metadata": {
  "kernelspec": {
   "display_name": "desc-stack-weekly",
   "language": "python",
   "name": "desc-stack-weekly"
  },
  "language_info": {
   "codemirror_mode": {
    "name": "ipython",
    "version": 3
   },
   "file_extension": ".py",
   "mimetype": "text/x-python",
   "name": "python",
   "nbconvert_exporter": "python",
   "pygments_lexer": "ipython3",
   "version": "3.11.4"
  }
 },
 "nbformat": 4,
 "nbformat_minor": 4
}
