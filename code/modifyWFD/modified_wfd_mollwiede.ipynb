{
 "cells": [
  {
   "cell_type": "markdown",
   "metadata": {},
   "source": [
    "The goal here is to read in the HEALPix pixels for the modifed WFD footprint and create a skymap with RA, Dec labels (not doable with `healpy` so need to use the `mollweide` projection from `matplotlib`. We also overplot the all-band WFD footprint from `kraken2016` for comparison."
   ]
  },
  {
   "cell_type": "code",
   "execution_count": null,
   "metadata": {},
   "outputs": [],
   "source": [
    "import matplotlib as mpl\n",
    "import matplotlib.pyplot as plt\n",
    "%matplotlib inline\n",
    "import os\n",
    "import healpy as hp\n",
    "import numpy as np\n",
    "import pandas as pd\n",
    "from astropy.coordinates import SkyCoord\n",
    "from astropy import units as u\n",
    "import lsst.sims.maf.metricBundles as metricBundles\n",
    "from matplotlib.lines import Line2D"
   ]
  },
  {
   "cell_type": "code",
   "execution_count": null,
   "metadata": {},
   "outputs": [],
   "source": [
    "fontsize = 16\n",
    "mpl.rcParams['figure.figsize'] = (10, 6)\n",
    "mpl.rcParams['axes.labelsize'] = fontsize\n",
    "mpl.rcParams['xtick.labelsize'] = fontsize-2\n",
    "mpl.rcParams['ytick.labelsize'] = fontsize-2\n",
    "mpl.rcParams['legend.fontsize'] = fontsize-2\n",
    "mpl.rcParams['axes.titlesize'] = fontsize\n",
    "mpl.rcParams['axes.linewidth'] = 2\n",
    "mpl.rcParams['axes.grid'] = True\n",
    "mpl.rcParams['figure.titlesize'] = fontsize"
   ]
  },
  {
   "cell_type": "markdown",
   "metadata": {},
   "source": [
    "**Set up some things**"
   ]
  },
  {
   "cell_type": "code",
   "execution_count": null,
   "metadata": {},
   "outputs": [],
   "source": [
    "# data characteristics\n",
    "nside = 256\n",
    "\n",
    "# path for proposed WFD footprint\n",
    "data_dir = '/global/homes/a/awan/desc/wfd_footprint/'\n",
    "filepath = '%sWFDfootprint_nside%s_HEALPixels.csv'%(data_dir, nside)\n",
    "\n",
    "# path + tags to read in coadd data for baseline2018a; saved data has masks for each band\n",
    "file_yearTag = 'fullSurveyPeriod'\n",
    "dbname = 'kraken_2026'\n",
    "coadd_data_dir = '/global/cscratch1/sd/awan/lsst_output/coadd_output_allwps_perNight/'"
   ]
  },
  {
   "cell_type": "markdown",
   "metadata": {},
   "source": [
    "**Read in the coadd data for the kraken_2026**"
   ]
  },
  {
   "cell_type": "code",
   "execution_count": null,
   "metadata": {},
   "outputs": [],
   "source": [
    "data_bundle = {}   \n",
    "for band in ['u', 'g', 'r', 'i', 'z', 'y']:\n",
    "    # set up the folders\n",
    "    folder = 'coaddM5Analysis_nside%s_withDustExtinction_'%(nside)\n",
    "    folder += '0pixelRadiusForMasking_%sBand_%s_%s_directory/'%(band, dbname, file_yearTag)\n",
    "    path = '%s/%s/unmaskedCoaddData/'%(coadd_data_dir, folder)\n",
    "    # get the filenames\n",
    "    filenames = [f for f in os.listdir(path) if f.endswith('.npz')]\n",
    "    print('Reading %s from\\n%s/unmaskedCoaddData.\\n'%(filenames, folder))\n",
    "\n",
    "    if len(filenames)>1:\n",
    "        err = 'Have more than one npz file for %s band'%band\n",
    "        err += ' for %s data: %s'%(yr_cut, filenames)\n",
    "        raise ValueError(err)\n",
    "    else:\n",
    "        dither = filenames[0].split('%s_'%band)[-1]\n",
    "        dither = dither.split('.npz')[0]\n",
    "        mB = metricBundles.createEmptyMetricBundle()\n",
    "        mB.read('%s/%s'%(path, filenames[0]))\n",
    "        data_bundle['%s'%(band)]= mB"
   ]
  },
  {
   "cell_type": "markdown",
   "metadata": {},
   "source": [
    "**Find the all-band footprint for kraken_2026**"
   ]
  },
  {
   "cell_type": "code",
   "execution_count": null,
   "metadata": {},
   "outputs": [],
   "source": [
    "all_band_pixels = None\n",
    "\n",
    "for band in data_bundle:\n",
    "    index = np.where((data_bundle[band].metricValues.mask == False) & \\\n",
    "                     (data_bundle[band].metricValues.data > 0))[0]\n",
    "    # save the indices\n",
    "    if all_band_pixels is None:\n",
    "        # initate the list\n",
    "        all_band_pixels = index\n",
    "    else:\n",
    "        # keep only the overlapping pixels\n",
    "        all_band_pixels = list(set(all_band_pixels).intersection(index))"
   ]
  },
  {
   "cell_type": "markdown",
   "metadata": {},
   "source": [
    "**Plot the skymap for the all-band kraken_2026 WFD**"
   ]
  },
  {
   "cell_type": "code",
   "execution_count": null,
   "metadata": {},
   "outputs": [],
   "source": [
    "def get_area(pix_arr, nside):\n",
    "    return len(pix_arr)*hp.nside2pixarea(nside=nside, degrees=True)"
   ]
  },
  {
   "cell_type": "code",
   "execution_count": null,
   "metadata": {},
   "outputs": [],
   "source": [
    "# set up the skymaps\n",
    "nPix = hp.nside2npix(nside)\n",
    "vals = np.zeros(nPix)+1.  # initiate all data to 1\n",
    "vals[all_band_pixels] = 5000   # add fake data to the pixels in our list\n",
    "\n",
    "title = '%s: all-bandpixels\\n%.2f deg2; nside %s'%(dbname,\n",
    "                                                   get_area(all_band_pixels, nside),\n",
    "                                                   nside)\n",
    "# plot the skymap\n",
    "plt.clf()\n",
    "hp.mollview(vals, flip='astro', rot=(0,0,0), min=0, max=10, title=title)\n",
    "hp.graticule(dpar=20, dmer=20, verbose=False)\n",
    "plt.show()"
   ]
  },
  {
   "cell_type": "markdown",
   "metadata": {},
   "source": [
    "**Now read in the pixel list for proposed WFD and plot the skymap**"
   ]
  },
  {
   "cell_type": "code",
   "execution_count": null,
   "metadata": {},
   "outputs": [],
   "source": [
    "print('## Reading in %s'%filepath)\n",
    "data = pd.read_csv(filepath)\n",
    "# extract the pixel numbers\n",
    "new_wfd_pixels = [int(f) for f in data['pixNum']]\n",
    "\n",
    "# set up the skymaps\n",
    "nPix = hp.nside2npix(nside)\n",
    "vals = np.zeros(nPix)+1.  # initiate all data to 1\n",
    "vals[new_wfd_pixels] = 5000   # add fake data to the pixels in our list\n",
    "\n",
    "# plot the skymap\n",
    "plt.clf()\n",
    "hp.mollview(vals, flip='astro', rot=(0,0,0), min=0, max=10,\n",
    "            title='%.2f deg2; nside %s'%(get_area(new_wfd_pixels, nside), nside)\n",
    "           )\n",
    "hp.graticule(dpar=20, dmer=20, verbose=False)\n",
    "plt.show()"
   ]
  },
  {
   "cell_type": "markdown",
   "metadata": {},
   "source": [
    "**Okay, now lets create the mollweide skymaps using matplotlib** since we want to label ra, dec lines.\n",
    "\n",
    "We use hp.pix2ang to get latitude, longitude corresponding to each pixel number. Then, pixel dec = np.pi/2 - latitude and ra = longitude."
   ]
  },
  {
   "cell_type": "code",
   "execution_count": null,
   "metadata": {},
   "outputs": [],
   "source": [
    "plt.figure()\n",
    "plt.subplot(111, projection=\"mollweide\")\n",
    "\n",
    "# set up some plotting params\n",
    "size = 4.0\n",
    "colors = ['royalblue', 'gold'] #  lightcoral, lightskyblue, darkviolet, rebeccapurple, maroon\n",
    "alphas = [0.5, 0.03]\n",
    "name = [dbname, 'proposed wfd']\n",
    "titles = ['%s: all-band WFD footprint'%dbname, 'Proposed WFD footprint']\n",
    "\n",
    "ras, decs = {}, {}\n",
    "# loop over baseline pixels and those for the proposed WFD\n",
    "for i, pixs in enumerate([all_band_pixels, new_wfd_pixels]):\n",
    "    # convert healpix pixels to ra, dec values\n",
    "    lat, ra = hp.pix2ang(ipix=pixs, nside=nside)\n",
    "    ra = np.remainder(ra+np.pi*2, np.pi*2)\n",
    "    dec = np.pi/2.0 - lat\n",
    "    c = SkyCoord(ra=ra * u.radian, dec=dec * u.radian, frame='icrs')\n",
    "    ra_rad = c.ra.wrap_at(180. * u.deg).radian\n",
    "    dec_rad = c.dec.radian\n",
    "\n",
    "    print('%s: %.2f <= dec <= %.2f'%(name[i], min(np.degrees(dec)), max(np.degrees(dec))))\n",
    "    # plot the ra, dec\n",
    "    plt.scatter(ra_rad, dec_rad, s=size, color=colors[i], alpha=alphas[i])\n",
    "    \n",
    "    ras[name[i]], decs[name[i]] = ra_rad, dec_rad\n",
    "# add legend\n",
    "ax = plt.gca()\n",
    "custom_lines = [Line2D([0], [0], color=colors[0], lw=10),\n",
    "                Line2D([0], [0], color=colors[1], lw=10)]\n",
    "ax.legend(custom_lines,\n",
    "          ['%s (%.2f deg$^2$; nside %s)'%(titles[0], get_area(all_band_pixels, nside), nside),\n",
    "           '%s (%.2f deg$^2$; nside %s)'%(titles[1], get_area(new_wfd_pixels, nside), nside)],\n",
    "          bbox_to_anchor=(1.,1.25), frameon=False, labelspacing=0.001)\n",
    "plt.show()"
   ]
  },
  {
   "cell_type": "markdown",
   "metadata": {},
   "source": [
    "Okay the RA is increasing to the right -- dont want that. Lets shift the RA values and relabel the ra labels."
   ]
  },
  {
   "cell_type": "code",
   "execution_count": null,
   "metadata": {},
   "outputs": [],
   "source": [
    "plt.figure()\n",
    "plt.subplot(111, projection=\"mollweide\")\n",
    "\n",
    "for i, pixs in enumerate([all_band_pixels, new_wfd_pixels]):\n",
    "    # flip the ra\n",
    "    ra_rad, dec_rad = -ras[name[i]], decs[name[i]]\n",
    "    \n",
    "    # plot the ra, dec\n",
    "    plt.scatter(ra_rad, dec_rad, s=size, color=colors[i], alpha=alphas[i])\n",
    "    print('%s: %.2f <= dec <= %.2f'%(name[i], min(np.degrees(dec)), max(np.degrees(dec))))\n",
    "\n",
    "# add legend\n",
    "ax = plt.gca()\n",
    "custom_lines = [Line2D([0], [0], color=colors[0], lw=10),\n",
    "                Line2D([0], [0], color=colors[1], lw=10)]\n",
    "ax.legend(custom_lines,\n",
    "          ['%s (%.2f deg$^2$; nside %s)'%(titles[0], get_area(all_band_pixels, nside), nside),\n",
    "           '%s (%.2f deg$^2$; nside %s)'%(titles[1], get_area(new_wfd_pixels, nside), nside)],\n",
    "          bbox_to_anchor=(1.,1.25), frameon=False, labelspacing=0.001)\n",
    "\n",
    "# ---------------------------------------------\n",
    "# relabel stuff\n",
    "locs, label = plt.xticks()\n",
    "labels = np.rad2deg(locs)\n",
    "print('Old labels: %s'%labels)\n",
    "labels[labels!=0] = -labels[labels!=0]\n",
    "print('News labels: %s'%labels)\n",
    "labels = [r'%.f$\\degree$'%(f) for f in labels]\n",
    "plt.gca().set_xticklabels(labels)\n",
    "# ---------------------------------------------\n",
    "# save plot\n",
    "filename = 'WFDfootprint_proposed_vs_%s_nside%s_matplotlib.png'%(dbname, nside)\n",
    "plt.savefig(filename='%s%s'%(data_dir, filename), format='png', bbox_inches='tight')\n",
    "print('\\n## Saved %s'%filename)\n",
    "plt.show()"
   ]
  },
  {
   "cell_type": "markdown",
   "metadata": {},
   "source": [
    "**Lets also plot the skymaps individually**"
   ]
  },
  {
   "cell_type": "code",
   "execution_count": null,
   "metadata": {},
   "outputs": [],
   "source": [
    "filetag = [dbname, 'proposed']\n",
    "for i, pixs in enumerate([all_band_pixels, new_wfd_pixels]):\n",
    "    plt.figure()\n",
    "    plt.subplot(111, projection=\"mollweide\")\n",
    "\n",
    "    # flip the ra\n",
    "    ra_rad, dec_rad = -ras[name[i]], decs[name[i]]\n",
    "    \n",
    "    # plot the ra, dec\n",
    "    plt.scatter(ra_rad, dec_rad, s=size, color=colors[i], alpha=alphas[i])\n",
    "    print('%s: %.2f <= dec <= %.2f'%(name[i], min(np.degrees(dec)), max(np.degrees(dec))))\n",
    "\n",
    "    plt.title('%s (%.2f deg$^2$; nside %s)'%(titles[i], get_area(pixs, nside), nside), y=1.05)\n",
    "    \n",
    "    # ---------------------------------------------\n",
    "    # relabel stuff\n",
    "    locs, label = plt.xticks()\n",
    "    labels = np.rad2deg(locs)\n",
    "    print('Old labels: %s'%labels)\n",
    "    labels[labels!=0] = -labels[labels!=0]\n",
    "    print('News labels: %s'%labels)\n",
    "    labels = [r'%.f$\\degree$'%(f) for f in labels]\n",
    "    plt.gca().set_xticklabels(labels)\n",
    "    # ---------------------------------------------\n",
    "    # save plot\n",
    "    filename = 'WFDfootprint_%s_nside%s_matplotlib.png'%(filetag[i], nside)\n",
    "    plt.savefig(filename='%s%s'%(data_dir, filename), format='png', bbox_inches='tight')\n",
    "    print('\\n## Saved %s'%filename)\n",
    "    plt.show()"
   ]
  },
  {
   "cell_type": "code",
   "execution_count": null,
   "metadata": {},
   "outputs": [],
   "source": []
  }
 ],
 "metadata": {
  "kernelspec": {
   "display_name": "lsst",
   "language": "python",
   "name": "lsst"
  },
  "language_info": {
   "codemirror_mode": {
    "name": "ipython",
    "version": 3
   },
   "file_extension": ".py",
   "mimetype": "text/x-python",
   "name": "python",
   "nbconvert_exporter": "python",
   "pygments_lexer": "ipython3",
   "version": "3.6.2"
  }
 },
 "nbformat": 4,
 "nbformat_minor": 2
}
