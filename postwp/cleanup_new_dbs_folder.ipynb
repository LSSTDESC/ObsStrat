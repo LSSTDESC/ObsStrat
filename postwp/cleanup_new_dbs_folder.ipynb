{
 "cells": [
  {
   "cell_type": "markdown",
   "metadata": {},
   "source": [
    "We have all the new dbs; downloaded using `wget -r l1 -np -nH \"http://astro-lsst-01.astro.washington.edu:8081/\" -A \"*10yrs.db\"` which creates a nested directory. I've moved the contents of the main folder `fbs_db` to the base directory, and now we can look at the actual folders containing the dbs."
   ]
  },
  {
   "cell_type": "code",
   "execution_count": 1,
   "metadata": {},
   "outputs": [],
   "source": [
    "import os"
   ]
  },
  {
   "cell_type": "markdown",
   "metadata": {},
   "source": [
    "#### v1.6 dbs - wget run didn't give categories so will need to construct folder-map by hand."
   ]
  },
  {
   "cell_type": "code",
   "execution_count": 3,
   "metadata": {},
   "outputs": [
    {
     "data": {
      "text/plain": [
       "['mw_heavy_nexp2_v1.6_10yrs.db',\n",
       " 'rolling_fpo_2nslice1.0_v1.6_10yrs.db',\n",
       " 'dm_heavy_nexp2_v1.6_10yrs.db',\n",
       " 'rolling_fpo_2nslice0.9_v1.6_10yrs.db',\n",
       " 'ddf_heavy_nexp2_v1.6_10yrs.db',\n",
       " 'rolling_exgal_mod2_dust_sdf_0.80_nexp2_v1.6_10yrs.db',\n",
       " 'ss_heavy_v1.6_10yrs.db',\n",
       " 'rolling_fpo_6nslice0.8_v1.6_10yrs.db',\n",
       " 'ss_heavy_nexp2_v1.6_10yrs.db',\n",
       " 'combo_dust_v1.6_10yrs.db',\n",
       " 'rolling_fpo_6nslice1.0_v1.6_10yrs.db',\n",
       " 'dm_heavy_v1.6_10yrs.db',\n",
       " 'baseline_nexp2_v1.6_10yrs.db',\n",
       " 'even_filters_altv1.6_10yrs.db',\n",
       " 'rolling_fpo_2nslice0.8_v1.6_10yrs.db',\n",
       " 'rolling_fpo_3nslice0.9_v1.6_10yrs.db',\n",
       " 'even_filtersv1.6_10yrs.db',\n",
       " 'rolling_exgal_mod2_dust_sdf_0.80_v1.6_10yrs.db',\n",
       " 'baseline_nexp1_v1.6_10yrs.db',\n",
       " 'ddf_heavy_v1.6_10yrs.db',\n",
       " 'rolling_fpo_3nslice0.8_v1.6_10yrs.db',\n",
       " 'even_filters_alt_g_v1.6_10yrs.db',\n",
       " 'combo_dust_nexp2_v1.6_10yrs.db',\n",
       " 'barebones_v1.6_10yrs.db',\n",
       " 'baseline_nexp2_scaleddown_v1.6_10yrs.db',\n",
       " 'rolling_fpo_6nslice0.9_v1.6_10yrs.db',\n",
       " 'even_filters_g_v1.6_10yrs.db',\n",
       " 'rolling_fpo_3nslice1.0_v1.6_10yrs.db',\n",
       " 'mw_heavy_v1.6_10yrs.db',\n",
       " 'barebones_nexp2_v1.6_10yrs.db']"
      ]
     },
     "execution_count": 3,
     "metadata": {},
     "output_type": "execute_result"
    }
   ],
   "source": [
    "path = '/global/cscratch1/sd/awan/dbs_post_wp_v1.6/'\n",
    "os.listdir(path)"
   ]
  },
  {
   "cell_type": "code",
   "execution_count": 19,
   "metadata": {},
   "outputs": [
    {
     "data": {
      "text/plain": [
       "['mw_heavy_v1.6_10yrs.db',\n",
       " 'mw_heavy_nexp2_v1.6_10yrs.db',\n",
       " 'dm_heavy_v1.6_10yrs.db',\n",
       " 'dm_heavy_nexp2_v1.6_10yrs.db',\n",
       " 'ddf_heavy_v1.6_10yrs.db',\n",
       " 'ddf_heavy_nexp2_v1.6_10yrs.db',\n",
       " 'rolling_fpo_2nslice0.8_v1.6_10yrs.db',\n",
       " 'rolling_fpo_2nslice0.9_v1.6_10yrs.db',\n",
       " 'rolling_fpo_2nslice1.0_v1.6_10yrs.db',\n",
       " 'rolling_fpo_3nslice0.8_v1.6_10yrs.db',\n",
       " 'rolling_fpo_3nslice0.9_v1.6_10yrs.db',\n",
       " 'rolling_fpo_3nslice1.0_v1.6_10yrs.db',\n",
       " 'rolling_fpo_6nslice0.8_v1.6_10yrs.db',\n",
       " 'rolling_fpo_6nslice0.9_v1.6_10yrs.db',\n",
       " 'rolling_fpo_6nslice1.0_v1.6_10yrs.db',\n",
       " 'rolling_exgal_mod2_dust_sdf_0.80_v1.6_10yrs.db',\n",
       " 'rolling_exgal_mod2_dust_sdf_0.80_nexp2_v1.6_10yrs.db',\n",
       " 'ss_heavy_v1.6_10yrs.db',\n",
       " 'ss_heavy_nexp2_v1.6_10yrs.db',\n",
       " 'combo_dust_v1.6_10yrs.db',\n",
       " 'combo_dust_nexp2_v1.6_10yrs.db',\n",
       " 'baseline_nexp1_v1.6_10yrs.db',\n",
       " 'baseline_nexp2_v1.6_10yrs.db',\n",
       " 'baseline_nexp2_scaleddown_v1.6_10yrs.db',\n",
       " 'even_filtersv1.6_10yrs.db',\n",
       " 'even_filters_altv1.6_10yrs.db',\n",
       " 'even_filters_alt_g_v1.6_10yrs.db',\n",
       " 'even_filters_g_v1.6_10yrs.db',\n",
       " 'barebones_v1.6_10yrs.db',\n",
       " 'barebones_nexp2_v1.6_10yrs.db']"
      ]
     },
     "execution_count": 19,
     "metadata": {},
     "output_type": "execute_result"
    }
   ],
   "source": [
    "import numpy as np\n",
    "sum( list(folder_map.values()), [] )"
   ]
  },
  {
   "cell_type": "code",
   "execution_count": 6,
   "metadata": {},
   "outputs": [
    {
     "data": {
      "text/plain": [
       "{'mw_heavy': ['mw_heavy_v1.6_10yrs.db', 'mw_heavy_nexp2_v1.6_10yrs.db'],\n",
       " 'dm_heavy': ['dm_heavy_v1.6_10yrs.db', 'dm_heavy_nexp2_v1.6_10yrs.db'],\n",
       " 'ddf_heavy': ['ddf_heavy_v1.6_10yrs.db', 'ddf_heavy_nexp2_v1.6_10yrs.db'],\n",
       " 'rolling_fpo': ['rolling_fpo_2nslice0.8_v1.6_10yrs.db',\n",
       "  'rolling_fpo_2nslice0.9_v1.6_10yrs.db',\n",
       "  'rolling_fpo_2nslice1.0_v1.6_10yrs.db',\n",
       "  'rolling_fpo_3nslice0.8_v1.6_10yrs.db',\n",
       "  'rolling_fpo_3nslice0.9_v1.6_10yrs.db',\n",
       "  'rolling_fpo_3nslice1.0_v1.6_10yrs.db',\n",
       "  'rolling_fpo_6nslice0.8_v1.6_10yrs.db',\n",
       "  'rolling_fpo_6nslice0.9_v1.6_10yrs.db',\n",
       "  'rolling_fpo_6nslice1.0_v1.6_10yrs.db'],\n",
       " 'rolling_exgal': ['rolling_exgal_mod2_dust_sdf_0.80_v1.6_10yrs.db',\n",
       "  'rolling_exgal_mod2_dust_sdf_0.80_nexp2_v1.6_10yrs.db'],\n",
       " 'ss_heavy': ['ss_heavy_v1.6_10yrs.db', 'ss_heavy_nexp2_v1.6_10yrs.db'],\n",
       " 'combo_dust': ['combo_dust_v1.6_10yrs.db', 'combo_dust_nexp2_v1.6_10yrs.db'],\n",
       " 'baseline': ['baseline_nexp1_v1.6_10yrs.db',\n",
       "  'baseline_nexp2_v1.6_10yrs.db',\n",
       "  'baseline_nexp2_scaleddown_v1.6_10yrs.db'],\n",
       " 'even_filters': ['even_filtersv1.6_10yrs.db',\n",
       "  'even_filters_altv1.6_10yrs.db',\n",
       "  'even_filters_alt_g_v1.6_10yrs.db',\n",
       "  'even_filters_g_v1.6_10yrs.db'],\n",
       " 'barebones': ['barebones_v1.6_10yrs.db', 'barebones_nexp2_v1.6_10yrs.db']}"
      ]
     },
     "execution_count": 6,
     "metadata": {},
     "output_type": "execute_result"
    }
   ],
   "source": [
    "folder_map = {\n",
    "    'mw_heavy':\n",
    "    [\n",
    "    'mw_heavy_v1.6_10yrs.db',\n",
    "    'mw_heavy_nexp2_v1.6_10yrs.db',\n",
    "    ],\n",
    "    'dm_heavy':\n",
    "    [\n",
    "    'dm_heavy_v1.6_10yrs.db',\n",
    "    'dm_heavy_nexp2_v1.6_10yrs.db',\n",
    "    ],\n",
    "    'ddf_heavy':\n",
    "    [\n",
    "    'ddf_heavy_v1.6_10yrs.db',\n",
    "    'ddf_heavy_nexp2_v1.6_10yrs.db',\n",
    "    ],\n",
    "    'rolling_fpo':\n",
    "    [\n",
    "     'rolling_fpo_2nslice0.8_v1.6_10yrs.db',\n",
    "    'rolling_fpo_2nslice0.9_v1.6_10yrs.db', \n",
    "    'rolling_fpo_2nslice1.0_v1.6_10yrs.db',\n",
    "    'rolling_fpo_3nslice0.8_v1.6_10yrs.db',\n",
    "    'rolling_fpo_3nslice0.9_v1.6_10yrs.db',\n",
    "     'rolling_fpo_3nslice1.0_v1.6_10yrs.db',\n",
    "    'rolling_fpo_6nslice0.8_v1.6_10yrs.db',\n",
    "    'rolling_fpo_6nslice0.9_v1.6_10yrs.db',\n",
    "    'rolling_fpo_6nslice1.0_v1.6_10yrs.db',\n",
    "    ],\n",
    "    'rolling_exgal':\n",
    "    [\n",
    "    'rolling_exgal_mod2_dust_sdf_0.80_v1.6_10yrs.db',\n",
    "    'rolling_exgal_mod2_dust_sdf_0.80_nexp2_v1.6_10yrs.db',\n",
    "    ],\n",
    "    'ss_heavy':\n",
    "    [\n",
    "    'ss_heavy_v1.6_10yrs.db',\n",
    "    'ss_heavy_nexp2_v1.6_10yrs.db',\n",
    "    ],\n",
    "    'combo_dust':\n",
    "    [\n",
    "    'combo_dust_v1.6_10yrs.db',\n",
    "    'combo_dust_nexp2_v1.6_10yrs.db',\n",
    "    ],\n",
    "    'baseline':\n",
    "    [\n",
    "     'baseline_nexp1_v1.6_10yrs.db',\n",
    "     'baseline_nexp2_v1.6_10yrs.db',\n",
    "     'baseline_nexp2_scaleddown_v1.6_10yrs.db',\n",
    "    ],\n",
    "    'even_filters':\n",
    "    [\n",
    "    'even_filtersv1.6_10yrs.db',\n",
    "    'even_filters_altv1.6_10yrs.db',\n",
    "    'even_filters_alt_g_v1.6_10yrs.db',\n",
    "    'even_filters_g_v1.6_10yrs.db',\n",
    "    ],\n",
    "    'barebones':\n",
    "    [\n",
    "    'barebones_v1.6_10yrs.db',\n",
    "    'barebones_nexp2_v1.6_10yrs.db'\n",
    "    ]\n",
    "    \n",
    "}\n",
    "folder_map"
   ]
  },
  {
   "cell_type": "markdown",
   "metadata": {},
   "source": [
    "## when wget leads to nested folder structure"
   ]
  },
  {
   "cell_type": "markdown",
   "metadata": {},
   "source": [
    "#### v1.5\n",
    "#### First find the folders for different categories."
   ]
  },
  {
   "cell_type": "code",
   "execution_count": 2,
   "metadata": {},
   "outputs": [
    {
     "name": "stdout",
     "output_type": "stream",
     "text": [
      "\n",
      "## Folder: alt_roll_dust\n",
      "1 roll_mod2_dust_sdf_0.20_v1.5_10yrs.db\n",
      "2 alt_roll_mod2_dust_sdf_0.20_v1.5_10yrs.db\n",
      "3 alt_dust_v1.5_10yrs.db\n",
      "\n",
      "## Folder: rolling\n",
      "4 rolling_mod2_sdf_0.20_v1.5_10yrs.db\n",
      "5 rolling_mod3_sdf_0.20_v1.5_10yrs.db\n",
      "6 rolling_mod3_sdf_0.10_v1.5_10yrs.db\n",
      "7 rolling_mod6_sdf_0.10_v1.5_10yrs.db\n",
      "8 rolling_mod6_sdf_0.20_v1.5_10yrs.db\n",
      "9 rolling_mod2_sdf_0.10_v1.5_10yrs.db\n",
      "\n",
      "## Folder: footprints\n",
      "10 footprint_bluer_footprintv1.5_10yrs.db\n",
      "11 footprint_no_gp_northv1.5_10yrs.db\n",
      "12 footprint_big_sky_nouiyv1.5_10yrs.db\n",
      "13 footprint_stuck_rollingv1.5_10yrs.db\n",
      "14 footprint_gp_smoothv1.5_10yrs.db\n",
      "15 footprint_newBv1.5_10yrs.db\n",
      "16 footprint_big_skyv1.5_10yrs.db\n",
      "17 __pycache__\n",
      "18 footprint_newAv1.5_10yrs.db\n",
      "19 footprint_standard_goalsv1.5_10yrs.db\n",
      "20 footprint_big_sky_dustv1.5_10yrs.db\n",
      "21 footprint_big_wfdv1.5_10yrs.db\n",
      "22 footprint_add_mag_cloudsv1.5_10yrs.db\n",
      "\n",
      "## Folder: beta_radar\n",
      "\n",
      "## Folder: var_expt\n",
      "23 var_expt_v1.5_10yrs.db\n",
      "\n",
      "## Folder: twilight_neo\n",
      "24 twilight_neo_mod3_v1.5_10yrs.db\n",
      "25 twilight_neo_mod2_v1.5_10yrs.db\n",
      "26 twilight_neo_mod4_v1.5_10yrs.db\n",
      "27 twilight_neo_mod1_v1.5_10yrs.db\n",
      "\n",
      "## Folder: greedy_footprint\n",
      "28 greedy_footprint_v1.5_10yrs.db\n",
      "\n",
      "## Folder: filter_dist\n",
      "29 filterdist_indx5_v1.5_10yrs.db\n",
      "30 filterdist_indx8_v1.5_10yrs.db\n",
      "31 filterdist_indx1_v1.5_10yrs.db\n",
      "32 filterdist_indx4_v1.5_10yrs.db\n",
      "33 filterdist_indx3_v1.5_10yrs.db\n",
      "34 filterdist_indx6_v1.5_10yrs.db\n",
      "35 filterdist_indx2_v1.5_10yrs.db\n",
      "36 filterdist_indx7_v1.5_10yrs.db\n",
      "\n",
      "## Folder: third_obs\n",
      "37 third_obs_pt60v1.5_10yrs.db\n",
      "38 third_obs_pt30v1.5_10yrs.db\n",
      "39 third_obs_pt120v1.5_10yrs.db\n",
      "40 third_obs_pt15v1.5_10yrs.db\n",
      "41 third_obs_pt45v1.5_10yrs.db\n",
      "42 third_obs_pt90v1.5_10yrs.db\n",
      "\n",
      "## Folder: bulge\n",
      "43 bulges_cadence_i_heavy_v1.5_10yrs.db\n",
      "44 bulges_bulge_wfd_v1.5_10yrs.db\n",
      "45 bulges_bs_v1.5_10yrs.db\n",
      "46 bulges_cadence_bulge_wfd_v1.5_10yrs.db\n",
      "47 bulges_cadence_bs_v1.5_10yrs.db\n",
      "48 bulges_i_heavy_v1.5_10yrs.db\n",
      "\n",
      "## Folder: dcr\n",
      "49 dcr_nham1_ugri_v1.5_10yrs.db\n",
      "50 dcr_nham1_ugr_v1.5_10yrs.db\n",
      "51 dcr_nham1_ug_v1.5_10yrs.db\n",
      "52 dcr_nham2_ug_v1.5_10yrs.db\n",
      "53 dcr_nham2_ugri_v1.5_10yrs.db\n",
      "54 dcr_nham2_ugr_v1.5_10yrs.db\n",
      "\n",
      "## Folder: wfd_depth\n",
      "55 wfd_depth_scale0.99_noddf_v1.5_10yrs.db\n",
      "56 wfd_depth_scale0.75_v1.5_10yrs.db\n",
      "57 wfd_depth_scale0.95_v1.5_10yrs.db\n",
      "58 wfd_depth_scale0.65_v1.5_10yrs.db\n",
      "59 wfd_depth_scale0.80_v1.5_10yrs.db\n",
      "60 wfd_depth_scale0.70_v1.5_10yrs.db\n",
      "61 wfd_depth_scale0.80_noddf_v1.5_10yrs.db\n",
      "62 wfd_depth_scale0.90_noddf_v1.5_10yrs.db\n",
      "63 wfd_depth_scale0.95_noddf_v1.5_10yrs.db\n",
      "64 wfd_depth_scale0.90_v1.5_10yrs.db\n",
      "65 wfd_depth_scale0.85_noddf_v1.5_10yrs.db\n",
      "66 wfd_depth_scale0.75_noddf_v1.5_10yrs.db\n",
      "67 wfd_depth_scale0.99_v1.5_10yrs.db\n",
      "68 wfd_depth_scale0.70_noddf_v1.5_10yrs.db\n",
      "69 wfd_depth_scale0.65_noddf_v1.5_10yrs.db\n",
      "70 wfd_depth_scale0.85_v1.5_10yrs.db\n",
      "\n",
      "## Folder: baseline\n",
      "71 baseline_v1.5_10yrs.db\n",
      "72 baseline_2snaps_v1.5_10yrs.db\n",
      "\n",
      "## Folder: u60\n",
      "73 u60_v1.5_10yrs.db\n",
      "\n",
      "## Folder: short_exp\n",
      "74 short_exp_2ns_5expt_v1.5_10yrs.db\n",
      "75 short_exp_5ns_5expt_v1.5_10yrs.db\n",
      "76 short_exp_5ns_1expt_v1.5_10yrs.db\n",
      "77 short_exp_2ns_1expt_v1.5_10yrs.db\n",
      "\n",
      "## Folder: daily_ddf\n",
      "78 daily_ddf_v1.5_10yrs.db\n",
      "79 __pycache__\n",
      "\n",
      "## Folder: spiders\n",
      "80 spiders_v1.5_10yrs.db\n",
      "\n",
      "## Folder: DDFs\n",
      "81 descddf_v1.5_10yrs.db\n",
      "82 agnddf_v1.5_10yrs.db\n",
      "\n",
      "## Folder: goodseeing\n",
      "83 goodseeing_griz_v1.5_10yrs.db\n",
      "84 goodseeing_gz_v1.5_10yrs.db\n",
      "85 goodseeing_gri_v1.5_10yrs.db\n",
      "86 goodseeing_i_v1.5_10yrs.db\n",
      "87 goodseeing_gi_v1.5_10yrs.db\n",
      "\n",
      "## 87 files in total\n"
     ]
    }
   ],
   "source": [
    "path = '/global/cscratch1/sd/awan/dbs_post_wp_v1.5/'\n",
    "\n",
    "i = 0\n",
    "\n",
    "folder_map = {}\n",
    "# lets look at the files in each folder\n",
    "for folder in [f for f in os.listdir(path) ]:\n",
    "    print('\\n## Folder: %s' % folder )\n",
    "    folder_map[folder] = os.listdir('%s/%s' % (path, folder))\n",
    "    for file in folder_map[folder]:\n",
    "        print(i+1, file)\n",
    "        i += 1\n",
    "    \n",
    "print('\\n## %s files in total' % (i) )"
   ]
  },
  {
   "cell_type": "markdown",
   "metadata": {},
   "source": [
    "#### Remove the subfolder and make the directory a linear one."
   ]
  },
  {
   "cell_type": "code",
   "execution_count": 3,
   "metadata": {},
   "outputs": [
    {
     "name": "stdout",
     "output_type": "stream",
     "text": [
      "\n",
      "Moving contents of alt_roll_dust to main directory.\n",
      "Removing the now-empty alt_roll_dust folder.\n",
      "\n",
      "Moving contents of rolling to main directory.\n",
      "Removing the now-empty rolling folder.\n",
      "\n",
      "Moving contents of footprints to main directory.\n",
      "Removing the now-empty footprints folder.\n",
      "\n",
      "Moving contents of beta_radar to main directory.\n",
      "Removing the now-empty beta_radar folder.\n",
      "\n",
      "Moving contents of var_expt to main directory.\n",
      "Removing the now-empty var_expt folder.\n",
      "\n",
      "Moving contents of twilight_neo to main directory.\n",
      "Removing the now-empty twilight_neo folder.\n",
      "\n",
      "Moving contents of greedy_footprint to main directory.\n",
      "Removing the now-empty greedy_footprint folder.\n",
      "\n",
      "Moving contents of filter_dist to main directory.\n",
      "Removing the now-empty filter_dist folder.\n",
      "\n",
      "Moving contents of third_obs to main directory.\n",
      "Removing the now-empty third_obs folder.\n",
      "\n",
      "Moving contents of bulge to main directory.\n",
      "Removing the now-empty bulge folder.\n",
      "\n",
      "Moving contents of dcr to main directory.\n",
      "Removing the now-empty dcr folder.\n",
      "\n",
      "Moving contents of wfd_depth to main directory.\n",
      "Removing the now-empty wfd_depth folder.\n",
      "\n",
      "Moving contents of baseline to main directory.\n",
      "Removing the now-empty baseline folder.\n",
      "\n",
      "Moving contents of u60 to main directory.\n",
      "Removing the now-empty u60 folder.\n",
      "\n",
      "Moving contents of short_exp to main directory.\n",
      "Removing the now-empty short_exp folder.\n",
      "\n",
      "Moving contents of daily_ddf to main directory.\n",
      "Removing the now-empty daily_ddf folder.\n",
      "\n",
      "Moving contents of spiders to main directory.\n",
      "Removing the now-empty spiders folder.\n",
      "\n",
      "Moving contents of DDFs to main directory.\n",
      "Removing the now-empty DDFs folder.\n",
      "\n",
      "Moving contents of goodseeing to main directory.\n",
      "Removing the now-empty goodseeing folder.\n"
     ]
    }
   ],
   "source": [
    "# move files in nested folders to be in the main folder\n",
    "for folder in os.listdir(path):\n",
    "    #if folder != 'DDF':\n",
    "    print( '\\nMoving contents of %s to main directory.' % folder)\n",
    "    os.system('mv %s%s/* %s' % (path, folder, path))\n",
    "    print( 'Removing the now-empty %s folder.' % folder)\n",
    "    os.system('rm -rf %s%s' % (path, folder) )"
   ]
  },
  {
   "cell_type": "code",
   "execution_count": 4,
   "metadata": {},
   "outputs": [
    {
     "data": {
      "text/plain": [
       "{'alt_roll_dust': ['roll_mod2_dust_sdf_0.20_v1.5_10yrs.db',\n",
       "  'alt_roll_mod2_dust_sdf_0.20_v1.5_10yrs.db',\n",
       "  'alt_dust_v1.5_10yrs.db'],\n",
       " 'rolling': ['rolling_mod2_sdf_0.20_v1.5_10yrs.db',\n",
       "  'rolling_mod3_sdf_0.20_v1.5_10yrs.db',\n",
       "  'rolling_mod3_sdf_0.10_v1.5_10yrs.db',\n",
       "  'rolling_mod6_sdf_0.10_v1.5_10yrs.db',\n",
       "  'rolling_mod6_sdf_0.20_v1.5_10yrs.db',\n",
       "  'rolling_mod2_sdf_0.10_v1.5_10yrs.db'],\n",
       " 'footprints': ['footprint_bluer_footprintv1.5_10yrs.db',\n",
       "  'footprint_no_gp_northv1.5_10yrs.db',\n",
       "  'footprint_big_sky_nouiyv1.5_10yrs.db',\n",
       "  'footprint_stuck_rollingv1.5_10yrs.db',\n",
       "  'footprint_gp_smoothv1.5_10yrs.db',\n",
       "  'footprint_newBv1.5_10yrs.db',\n",
       "  'footprint_big_skyv1.5_10yrs.db',\n",
       "  '__pycache__',\n",
       "  'footprint_newAv1.5_10yrs.db',\n",
       "  'footprint_standard_goalsv1.5_10yrs.db',\n",
       "  'footprint_big_sky_dustv1.5_10yrs.db',\n",
       "  'footprint_big_wfdv1.5_10yrs.db',\n",
       "  'footprint_add_mag_cloudsv1.5_10yrs.db'],\n",
       " 'beta_radar': [],\n",
       " 'var_expt': ['var_expt_v1.5_10yrs.db'],\n",
       " 'twilight_neo': ['twilight_neo_mod3_v1.5_10yrs.db',\n",
       "  'twilight_neo_mod2_v1.5_10yrs.db',\n",
       "  'twilight_neo_mod4_v1.5_10yrs.db',\n",
       "  'twilight_neo_mod1_v1.5_10yrs.db'],\n",
       " 'greedy_footprint': ['greedy_footprint_v1.5_10yrs.db'],\n",
       " 'filter_dist': ['filterdist_indx5_v1.5_10yrs.db',\n",
       "  'filterdist_indx8_v1.5_10yrs.db',\n",
       "  'filterdist_indx1_v1.5_10yrs.db',\n",
       "  'filterdist_indx4_v1.5_10yrs.db',\n",
       "  'filterdist_indx3_v1.5_10yrs.db',\n",
       "  'filterdist_indx6_v1.5_10yrs.db',\n",
       "  'filterdist_indx2_v1.5_10yrs.db',\n",
       "  'filterdist_indx7_v1.5_10yrs.db'],\n",
       " 'third_obs': ['third_obs_pt60v1.5_10yrs.db',\n",
       "  'third_obs_pt30v1.5_10yrs.db',\n",
       "  'third_obs_pt120v1.5_10yrs.db',\n",
       "  'third_obs_pt15v1.5_10yrs.db',\n",
       "  'third_obs_pt45v1.5_10yrs.db',\n",
       "  'third_obs_pt90v1.5_10yrs.db'],\n",
       " 'bulge': ['bulges_cadence_i_heavy_v1.5_10yrs.db',\n",
       "  'bulges_bulge_wfd_v1.5_10yrs.db',\n",
       "  'bulges_bs_v1.5_10yrs.db',\n",
       "  'bulges_cadence_bulge_wfd_v1.5_10yrs.db',\n",
       "  'bulges_cadence_bs_v1.5_10yrs.db',\n",
       "  'bulges_i_heavy_v1.5_10yrs.db'],\n",
       " 'dcr': ['dcr_nham1_ugri_v1.5_10yrs.db',\n",
       "  'dcr_nham1_ugr_v1.5_10yrs.db',\n",
       "  'dcr_nham1_ug_v1.5_10yrs.db',\n",
       "  'dcr_nham2_ug_v1.5_10yrs.db',\n",
       "  'dcr_nham2_ugri_v1.5_10yrs.db',\n",
       "  'dcr_nham2_ugr_v1.5_10yrs.db'],\n",
       " 'wfd_depth': ['wfd_depth_scale0.99_noddf_v1.5_10yrs.db',\n",
       "  'wfd_depth_scale0.75_v1.5_10yrs.db',\n",
       "  'wfd_depth_scale0.95_v1.5_10yrs.db',\n",
       "  'wfd_depth_scale0.65_v1.5_10yrs.db',\n",
       "  'wfd_depth_scale0.80_v1.5_10yrs.db',\n",
       "  'wfd_depth_scale0.70_v1.5_10yrs.db',\n",
       "  'wfd_depth_scale0.80_noddf_v1.5_10yrs.db',\n",
       "  'wfd_depth_scale0.90_noddf_v1.5_10yrs.db',\n",
       "  'wfd_depth_scale0.95_noddf_v1.5_10yrs.db',\n",
       "  'wfd_depth_scale0.90_v1.5_10yrs.db',\n",
       "  'wfd_depth_scale0.85_noddf_v1.5_10yrs.db',\n",
       "  'wfd_depth_scale0.75_noddf_v1.5_10yrs.db',\n",
       "  'wfd_depth_scale0.99_v1.5_10yrs.db',\n",
       "  'wfd_depth_scale0.70_noddf_v1.5_10yrs.db',\n",
       "  'wfd_depth_scale0.65_noddf_v1.5_10yrs.db',\n",
       "  'wfd_depth_scale0.85_v1.5_10yrs.db'],\n",
       " 'baseline': ['baseline_v1.5_10yrs.db', 'baseline_2snaps_v1.5_10yrs.db'],\n",
       " 'u60': ['u60_v1.5_10yrs.db'],\n",
       " 'short_exp': ['short_exp_2ns_5expt_v1.5_10yrs.db',\n",
       "  'short_exp_5ns_5expt_v1.5_10yrs.db',\n",
       "  'short_exp_5ns_1expt_v1.5_10yrs.db',\n",
       "  'short_exp_2ns_1expt_v1.5_10yrs.db'],\n",
       " 'daily_ddf': ['daily_ddf_v1.5_10yrs.db', '__pycache__'],\n",
       " 'spiders': ['spiders_v1.5_10yrs.db'],\n",
       " 'DDFs': ['descddf_v1.5_10yrs.db', 'agnddf_v1.5_10yrs.db'],\n",
       " 'goodseeing': ['goodseeing_griz_v1.5_10yrs.db',\n",
       "  'goodseeing_gz_v1.5_10yrs.db',\n",
       "  'goodseeing_gri_v1.5_10yrs.db',\n",
       "  'goodseeing_i_v1.5_10yrs.db',\n",
       "  'goodseeing_gi_v1.5_10yrs.db']}"
      ]
     },
     "execution_count": 4,
     "metadata": {},
     "output_type": "execute_result"
    }
   ],
   "source": [
    "folder_map"
   ]
  },
  {
   "cell_type": "markdown",
   "metadata": {},
   "source": [
    "#### folder-map is the dictionary to go in runscripts/helper.py for comparison plots."
   ]
  },
  {
   "cell_type": "code",
   "execution_count": 6,
   "metadata": {},
   "outputs": [
    {
     "data": {
      "text/plain": [
       "30"
      ]
     },
     "execution_count": 6,
     "metadata": {},
     "output_type": "execute_result"
    }
   ],
   "source": [
    "len(os.listdir('/global/cscratch1/sd/awan/dbs_post_wp_v1.6/'))"
   ]
  },
  {
   "cell_type": "code",
   "execution_count": 2,
   "metadata": {},
   "outputs": [
    {
     "data": {
      "text/plain": [
       "85"
      ]
     },
     "execution_count": 2,
     "metadata": {},
     "output_type": "execute_result"
    }
   ],
   "source": [
    "len(os.listdir('/global/cscratch1/sd/awan/dbs_post_wp_v1.5/'))"
   ]
  },
  {
   "cell_type": "code",
   "execution_count": 3,
   "metadata": {},
   "outputs": [
    {
     "data": {
      "text/plain": [
       "85"
      ]
     },
     "execution_count": 3,
     "metadata": {},
     "output_type": "execute_result"
    }
   ],
   "source": [
    "len(os.listdir('/global/cscratch1/sd/awan/dbs_post_wp_v1.5/'))"
   ]
  },
  {
   "cell_type": "code",
   "execution_count": 4,
   "metadata": {},
   "outputs": [
    {
     "data": {
      "text/plain": [
       "['alt_roll_dust',\n",
       " 'rolling',\n",
       " 'footprints',\n",
       " 'var_expt',\n",
       " 'twilight_neo',\n",
       " 'DCR',\n",
       " 'bulge',\n",
       " 'AGN_DDF',\n",
       " 'weather',\n",
       " 'pair_strat',\n",
       " 'wfd_depth',\n",
       " 'twilight_filters',\n",
       " 'baseline',\n",
       " 'short_exp',\n",
       " 'DESC_DDF',\n",
       " 'spiders',\n",
       " 'euclid_DDF']"
      ]
     },
     "execution_count": 4,
     "metadata": {},
     "output_type": "execute_result"
    }
   ],
   "source": [
    "(os.listdir('/global/cscratch1/sd/awan/dbs_post_wp_orig_v1.4/'))"
   ]
  },
  {
   "cell_type": "code",
   "execution_count": null,
   "metadata": {},
   "outputs": [],
   "source": []
  }
 ],
 "metadata": {
  "kernelspec": {
   "display_name": "Python 3",
   "language": "python",
   "name": "python3"
  },
  "language_info": {
   "codemirror_mode": {
    "name": "ipython",
    "version": 3
   },
   "file_extension": ".py",
   "mimetype": "text/x-python",
   "name": "python",
   "nbconvert_exporter": "python",
   "pygments_lexer": "ipython3",
   "version": "3.7.4"
  }
 },
 "nbformat": 4,
 "nbformat_minor": 4
}
