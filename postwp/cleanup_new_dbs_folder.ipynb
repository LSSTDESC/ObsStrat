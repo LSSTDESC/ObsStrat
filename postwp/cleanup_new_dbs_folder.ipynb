{
 "cells": [
  {
   "cell_type": "markdown",
   "metadata": {},
   "source": [
    "We have all the new dbs; downloaded using `wget -r l1 -np -nH \"http://astro-lsst-01.astro.washington.edu:8081/\" -A \"*10yrs.db\"` which creates a nested directory. I've moved the contents of the main folder `fbs_db` to the base directory, and now we can look at the actual folders containing the dbs."
   ]
  },
  {
   "cell_type": "code",
   "execution_count": 1,
   "metadata": {},
   "outputs": [],
   "source": [
    "import os"
   ]
  },
  {
   "cell_type": "markdown",
   "metadata": {},
   "source": [
    "#### v1.6 dbs - wget run didn't give categories so will need to construct folder-map by hand."
   ]
  },
  {
   "cell_type": "code",
   "execution_count": 3,
   "metadata": {},
   "outputs": [
    {
     "data": {
      "text/plain": [
       "['mw_heavy_nexp2_v1.6_10yrs.db',\n",
       " 'rolling_fpo_2nslice1.0_v1.6_10yrs.db',\n",
       " 'dm_heavy_nexp2_v1.6_10yrs.db',\n",
       " 'rolling_fpo_2nslice0.9_v1.6_10yrs.db',\n",
       " 'ddf_heavy_nexp2_v1.6_10yrs.db',\n",
       " 'rolling_exgal_mod2_dust_sdf_0.80_nexp2_v1.6_10yrs.db',\n",
       " 'ss_heavy_v1.6_10yrs.db',\n",
       " 'rolling_fpo_6nslice0.8_v1.6_10yrs.db',\n",
       " 'ss_heavy_nexp2_v1.6_10yrs.db',\n",
       " 'combo_dust_v1.6_10yrs.db',\n",
       " 'rolling_fpo_6nslice1.0_v1.6_10yrs.db',\n",
       " 'dm_heavy_v1.6_10yrs.db',\n",
       " 'baseline_nexp2_v1.6_10yrs.db',\n",
       " 'even_filters_altv1.6_10yrs.db',\n",
       " 'rolling_fpo_2nslice0.8_v1.6_10yrs.db',\n",
       " 'rolling_fpo_3nslice0.9_v1.6_10yrs.db',\n",
       " 'even_filtersv1.6_10yrs.db',\n",
       " 'rolling_exgal_mod2_dust_sdf_0.80_v1.6_10yrs.db',\n",
       " 'baseline_nexp1_v1.6_10yrs.db',\n",
       " 'ddf_heavy_v1.6_10yrs.db',\n",
       " 'rolling_fpo_3nslice0.8_v1.6_10yrs.db',\n",
       " 'even_filters_alt_g_v1.6_10yrs.db',\n",
       " 'combo_dust_nexp2_v1.6_10yrs.db',\n",
       " 'barebones_v1.6_10yrs.db',\n",
       " 'baseline_nexp2_scaleddown_v1.6_10yrs.db',\n",
       " 'rolling_fpo_6nslice0.9_v1.6_10yrs.db',\n",
       " 'even_filters_g_v1.6_10yrs.db',\n",
       " 'rolling_fpo_3nslice1.0_v1.6_10yrs.db',\n",
       " 'mw_heavy_v1.6_10yrs.db',\n",
       " 'barebones_nexp2_v1.6_10yrs.db']"
      ]
     },
     "execution_count": 3,
     "metadata": {},
     "output_type": "execute_result"
    }
   ],
   "source": [
    "path = '/global/cscratch1/sd/awan/dbs_post_wp_v1.6/'\n",
    "os.listdir(path)"
   ]
  },
  {
   "cell_type": "code",
   "execution_count": 19,
   "metadata": {},
   "outputs": [
    {
     "data": {
      "text/plain": [
       "['mw_heavy_v1.6_10yrs.db',\n",
       " 'mw_heavy_nexp2_v1.6_10yrs.db',\n",
       " 'dm_heavy_v1.6_10yrs.db',\n",
       " 'dm_heavy_nexp2_v1.6_10yrs.db',\n",
       " 'ddf_heavy_v1.6_10yrs.db',\n",
       " 'ddf_heavy_nexp2_v1.6_10yrs.db',\n",
       " 'rolling_fpo_2nslice0.8_v1.6_10yrs.db',\n",
       " 'rolling_fpo_2nslice0.9_v1.6_10yrs.db',\n",
       " 'rolling_fpo_2nslice1.0_v1.6_10yrs.db',\n",
       " 'rolling_fpo_3nslice0.8_v1.6_10yrs.db',\n",
       " 'rolling_fpo_3nslice0.9_v1.6_10yrs.db',\n",
       " 'rolling_fpo_3nslice1.0_v1.6_10yrs.db',\n",
       " 'rolling_fpo_6nslice0.8_v1.6_10yrs.db',\n",
       " 'rolling_fpo_6nslice0.9_v1.6_10yrs.db',\n",
       " 'rolling_fpo_6nslice1.0_v1.6_10yrs.db',\n",
       " 'rolling_exgal_mod2_dust_sdf_0.80_v1.6_10yrs.db',\n",
       " 'rolling_exgal_mod2_dust_sdf_0.80_nexp2_v1.6_10yrs.db',\n",
       " 'ss_heavy_v1.6_10yrs.db',\n",
       " 'ss_heavy_nexp2_v1.6_10yrs.db',\n",
       " 'combo_dust_v1.6_10yrs.db',\n",
       " 'combo_dust_nexp2_v1.6_10yrs.db',\n",
       " 'baseline_nexp1_v1.6_10yrs.db',\n",
       " 'baseline_nexp2_v1.6_10yrs.db',\n",
       " 'baseline_nexp2_scaleddown_v1.6_10yrs.db',\n",
       " 'even_filtersv1.6_10yrs.db',\n",
       " 'even_filters_altv1.6_10yrs.db',\n",
       " 'even_filters_alt_g_v1.6_10yrs.db',\n",
       " 'even_filters_g_v1.6_10yrs.db',\n",
       " 'barebones_v1.6_10yrs.db',\n",
       " 'barebones_nexp2_v1.6_10yrs.db']"
      ]
     },
     "execution_count": 19,
     "metadata": {},
     "output_type": "execute_result"
    }
   ],
   "source": [
    "import numpy as np\n",
    "sum( list(folder_map.values()), [] )"
   ]
  },
  {
   "cell_type": "code",
   "execution_count": 6,
   "metadata": {},
   "outputs": [
    {
     "data": {
      "text/plain": [
       "{'mw_heavy': ['mw_heavy_v1.6_10yrs.db', 'mw_heavy_nexp2_v1.6_10yrs.db'],\n",
       " 'dm_heavy': ['dm_heavy_v1.6_10yrs.db', 'dm_heavy_nexp2_v1.6_10yrs.db'],\n",
       " 'ddf_heavy': ['ddf_heavy_v1.6_10yrs.db', 'ddf_heavy_nexp2_v1.6_10yrs.db'],\n",
       " 'rolling_fpo': ['rolling_fpo_2nslice0.8_v1.6_10yrs.db',\n",
       "  'rolling_fpo_2nslice0.9_v1.6_10yrs.db',\n",
       "  'rolling_fpo_2nslice1.0_v1.6_10yrs.db',\n",
       "  'rolling_fpo_3nslice0.8_v1.6_10yrs.db',\n",
       "  'rolling_fpo_3nslice0.9_v1.6_10yrs.db',\n",
       "  'rolling_fpo_3nslice1.0_v1.6_10yrs.db',\n",
       "  'rolling_fpo_6nslice0.8_v1.6_10yrs.db',\n",
       "  'rolling_fpo_6nslice0.9_v1.6_10yrs.db',\n",
       "  'rolling_fpo_6nslice1.0_v1.6_10yrs.db'],\n",
       " 'rolling_exgal': ['rolling_exgal_mod2_dust_sdf_0.80_v1.6_10yrs.db',\n",
       "  'rolling_exgal_mod2_dust_sdf_0.80_nexp2_v1.6_10yrs.db'],\n",
       " 'ss_heavy': ['ss_heavy_v1.6_10yrs.db', 'ss_heavy_nexp2_v1.6_10yrs.db'],\n",
       " 'combo_dust': ['combo_dust_v1.6_10yrs.db', 'combo_dust_nexp2_v1.6_10yrs.db'],\n",
       " 'baseline': ['baseline_nexp1_v1.6_10yrs.db',\n",
       "  'baseline_nexp2_v1.6_10yrs.db',\n",
       "  'baseline_nexp2_scaleddown_v1.6_10yrs.db'],\n",
       " 'even_filters': ['even_filtersv1.6_10yrs.db',\n",
       "  'even_filters_altv1.6_10yrs.db',\n",
       "  'even_filters_alt_g_v1.6_10yrs.db',\n",
       "  'even_filters_g_v1.6_10yrs.db'],\n",
       " 'barebones': ['barebones_v1.6_10yrs.db', 'barebones_nexp2_v1.6_10yrs.db']}"
      ]
     },
     "execution_count": 6,
     "metadata": {},
     "output_type": "execute_result"
    }
   ],
   "source": [
    "folder_map = {\n",
    "    'mw_heavy':\n",
    "    [\n",
    "    'mw_heavy_v1.6_10yrs.db',\n",
    "    'mw_heavy_nexp2_v1.6_10yrs.db',\n",
    "    ],\n",
    "    'dm_heavy':\n",
    "    [\n",
    "    'dm_heavy_v1.6_10yrs.db',\n",
    "    'dm_heavy_nexp2_v1.6_10yrs.db',\n",
    "    ],\n",
    "    'ddf_heavy':\n",
    "    [\n",
    "    'ddf_heavy_v1.6_10yrs.db',\n",
    "    'ddf_heavy_nexp2_v1.6_10yrs.db',\n",
    "    ],\n",
    "    'rolling_fpo':\n",
    "    [\n",
    "     'rolling_fpo_2nslice0.8_v1.6_10yrs.db',\n",
    "    'rolling_fpo_2nslice0.9_v1.6_10yrs.db', \n",
    "    'rolling_fpo_2nslice1.0_v1.6_10yrs.db',\n",
    "    'rolling_fpo_3nslice0.8_v1.6_10yrs.db',\n",
    "    'rolling_fpo_3nslice0.9_v1.6_10yrs.db',\n",
    "     'rolling_fpo_3nslice1.0_v1.6_10yrs.db',\n",
    "    'rolling_fpo_6nslice0.8_v1.6_10yrs.db',\n",
    "    'rolling_fpo_6nslice0.9_v1.6_10yrs.db',\n",
    "    'rolling_fpo_6nslice1.0_v1.6_10yrs.db',\n",
    "    ],\n",
    "    'rolling_exgal':\n",
    "    [\n",
    "    'rolling_exgal_mod2_dust_sdf_0.80_v1.6_10yrs.db',\n",
    "    'rolling_exgal_mod2_dust_sdf_0.80_nexp2_v1.6_10yrs.db',\n",
    "    ],\n",
    "    'ss_heavy':\n",
    "    [\n",
    "    'ss_heavy_v1.6_10yrs.db',\n",
    "    'ss_heavy_nexp2_v1.6_10yrs.db',\n",
    "    ],\n",
    "    'combo_dust':\n",
    "    [\n",
    "    'combo_dust_v1.6_10yrs.db',\n",
    "    'combo_dust_nexp2_v1.6_10yrs.db',\n",
    "    ],\n",
    "    'baseline':\n",
    "    [\n",
    "     'baseline_nexp1_v1.6_10yrs.db',\n",
    "     'baseline_nexp2_v1.6_10yrs.db',\n",
    "     'baseline_nexp2_scaleddown_v1.6_10yrs.db',\n",
    "    ],\n",
    "    'even_filters':\n",
    "    [\n",
    "    'even_filtersv1.6_10yrs.db',\n",
    "    'even_filters_altv1.6_10yrs.db',\n",
    "    'even_filters_alt_g_v1.6_10yrs.db',\n",
    "    'even_filters_g_v1.6_10yrs.db',\n",
    "    ],\n",
    "    'barebones':\n",
    "    [\n",
    "    'barebones_v1.6_10yrs.db',\n",
    "    'barebones_nexp2_v1.6_10yrs.db'\n",
    "    ]\n",
    "    \n",
    "}\n",
    "folder_map"
   ]
  },
  {
   "cell_type": "markdown",
   "metadata": {},
   "source": [
    "## when wget leads to nested folder structure"
   ]
  },
  {
   "cell_type": "markdown",
   "metadata": {},
   "source": [
    "#### v1.7\n",
    "#### First find the folders for different categories."
   ]
  },
  {
   "cell_type": "code",
   "execution_count": 4,
   "metadata": {},
   "outputs": [
    {
     "name": "stdout",
     "output_type": "stream",
     "text": [
      "\n",
      "## Folder: rolling\n",
      "1 rolling_scale0.9_nslice3_v1.7_10yrs.db\n",
      "2 rolling_scale0.2_nslice3_v1.7_10yrs.db\n",
      "3 rolling_scale1.0_nslice3_v1.7_10yrs.db\n",
      "4 rolling_scale0.9_nslice2_v1.7_10yrs.db\n",
      "5 rolling_scale0.6_nslice3_v1.7_10yrs.db\n",
      "6 rolling_scale0.6_nslice2_v1.7_10yrs.db\n",
      "7 rolling_scale0.2_nslice2_v1.7_10yrs.db\n",
      "8 rolling_scale0.8_nslice2_v1.7_10yrs.db\n",
      "9 rolling_scale0.4_nslice3_v1.7_10yrs.db\n",
      "10 rolling_scale0.4_nslice2_v1.7_10yrs.db\n",
      "11 rolling_scale0.8_nslice3_v1.7_10yrs.db\n",
      "12 rolling_scale1.0_nslice2_v1.7_10yrs.db\n",
      "\n",
      "## Folder: footprint_tune\n",
      "13 footprint_1_v1.710yrs.db\n",
      "14 footprint_6_v1.710yrs.db\n",
      "15 footprint_4_v1.710yrs.db\n",
      "16 footprint_7_v1.710yrs.db\n",
      "17 footprint_0_v1.710yrs.db\n",
      "18 footprint_2_v1.710yrs.db\n",
      "19 footprint_5_v1.710yrs.db\n",
      "20 footprint_8_v1.710yrs.db\n",
      "21 footprint_3_v1.710yrs.db\n",
      "\n",
      "## Folder: euclid_dither\n",
      "22 euclid_dither2_v1.7_10yrs.db\n",
      "23 euclid_dither4_v1.7_10yrs.db\n",
      "24 euclid_dither1_v1.7_10yrs.db\n",
      "25 euclid_dither5_v1.7_10yrs.db\n",
      "26 euclid_dither3_v1.7_10yrs.db\n",
      "\n",
      "## Folder: rolling_nm\n",
      "27 rolling_nm_scale0.4_nslice2_v1.7_10yrs.db\n",
      "28 rolling_nm_scale0.4_nslice3_v1.7_10yrs.db\n",
      "29 rolling_nm_scale0.9_nslice2_v1.7_10yrs.db\n",
      "30 rolling_nm_scale0.8_nslice3_v1.7_10yrs.db\n",
      "31 rolling_nm_scale0.6_nslice2_v1.7_10yrs.db\n",
      "32 rolling_nm_scale1.0_nslice3_v1.7_10yrs.db\n",
      "33 rolling_nm_scale0.8_nslice2_v1.7_10yrs.db\n",
      "34 rolling_nm_scale0.2_nslice3_v1.7_10yrs.db\n",
      "35 rolling_nm_scale0.6_nslice3_v1.7_10yrs.db\n",
      "36 rolling_nm_scale1.0_nslice2_v1.7_10yrs.db\n",
      "37 rolling_nm_scale0.2_nslice2_v1.7_10yrs.db\n",
      "38 rolling_nm_scale0.9_nslice3_v1.7_10yrs.db\n",
      "\n",
      "## Folder: pair_times\n",
      "39 pair_times_33_v1.7_10yrs.db\n",
      "40 pair_times_44_v1.7_10yrs.db\n",
      "41 pair_times_11_v1.7_10yrs.db\n",
      "42 pair_times_22_v1.7_10yrs.db\n",
      "43 pair_times_55_v1.7_10yrs.db\n",
      "\n",
      "## Folder: twi_neo\n",
      "44 twi_neo_pattern6_v1.7_10yrs.db\n",
      "45 twi_neo_pattern5_v1.7_10yrs.db\n",
      "46 twi_neo_pattern3_v1.7_10yrs.db\n",
      "47 twi_neo_pattern2_v1.7_10yrs.db\n",
      "48 twi_neo_pattern1_v1.7_10yrs.db\n",
      "49 twi_neo_pattern4_v1.7_10yrs.db\n",
      "50 twi_neo_pattern7_v1.7_10yrs.db\n",
      "\n",
      "## Folder: u_long\n",
      "51 u_long_ms_30_v1.7_10yrs.db\n",
      "52 u_long_ms_60_v1.7_10yrs.db\n",
      "53 u_long_ms_40_v1.7_10yrs.db\n",
      "54 u_long_ms_50_v1.7_10yrs.db\n",
      "\n",
      "## Folder: twi_pairs\n",
      "55 twi_pairs_repeat_v1.7_10yrs.db\n",
      "56 twi_pairs_mixed_v1.7_10yrs.db\n",
      "57 twi_pairs_mixed_repeat_v1.7_10yrs.db\n",
      "58 twi_pairs_v1.7_10yrs.db\n",
      "\n",
      "## Folder: baseline\n",
      "59 baseline_nexp1_v1.7_10yrs.db\n",
      "60 baseline_nexp2_v1.7_10yrs.db\n",
      "\n",
      "## Folder: ddf_dither\n",
      "61 ddf_dither2.00_v1.7_10yrs.db\n",
      "62 ddf_dither0.70_v1.7_10yrs.db\n",
      "63 ddf_dither0.00_v1.7_10yrs.db\n",
      "64 ddf_dither0.05_v1.7_10yrs.db\n",
      "65 ddf_dither0.10_v1.7_10yrs.db\n",
      "66 ddf_dither1.50_v1.7_10yrs.db\n",
      "67 ddf_dither1.00_v1.7_10yrs.db\n",
      "68 ddf_dither0.30_v1.7_10yrs.db\n",
      "\n",
      "## Folder: wfd_cadence_drive\n",
      "69 cadence_drive_gl200v1.7_10yrs.db\n",
      "70 cadence_drive_gl100_gcbv1.7_10yrs.db\n",
      "71 cadence_drive_gl100v1.7_10yrs.db\n",
      "72 cadence_drive_gl30v1.7_10yrs.db\n",
      "73 cadence_drive_gl200_gcbv1.7_10yrs.db\n",
      "74 cadence_drive_gl30_gcbv1.7_10yrs.db\n",
      "\n",
      "## 74 files in total\n"
     ]
    }
   ],
   "source": [
    "path = '/global/cscratch1/sd/awan/dbs_post_wp_v1.7/'\n",
    "\n",
    "i = 0\n",
    "\n",
    "folder_map = {}\n",
    "# lets look at the files in each folder\n",
    "for folder in [f for f in os.listdir(path) ]:\n",
    "    print('\\n## Folder: %s' % folder )\n",
    "    folder_map[folder] = os.listdir('%s/%s' % (path, folder))\n",
    "    for file in folder_map[folder]:\n",
    "        print(i+1, file)\n",
    "        i += 1\n",
    "    \n",
    "print('\\n## %s files in total' % (i) )"
   ]
  },
  {
   "cell_type": "markdown",
   "metadata": {},
   "source": [
    "#### Remove the subfolder and make the directory a linear one."
   ]
  },
  {
   "cell_type": "code",
   "execution_count": 7,
   "metadata": {},
   "outputs": [
    {
     "name": "stdout",
     "output_type": "stream",
     "text": [
      "\n",
      "Moving contents of rolling to main directory.\n",
      "Removing the now-empty rolling folder.\n",
      "\n",
      "Moving contents of footprint_tune to main directory.\n",
      "Removing the now-empty footprint_tune folder.\n",
      "\n",
      "Moving contents of rolling_nm to main directory.\n",
      "Removing the now-empty rolling_nm folder.\n",
      "\n",
      "Moving contents of pair_times to main directory.\n",
      "Removing the now-empty pair_times folder.\n",
      "\n",
      "Moving contents of twi_neo to main directory.\n",
      "Removing the now-empty twi_neo folder.\n",
      "\n",
      "Moving contents of u_long to main directory.\n",
      "Removing the now-empty u_long folder.\n",
      "\n",
      "Moving contents of twi_pairs to main directory.\n",
      "Removing the now-empty twi_pairs folder.\n",
      "\n",
      "Moving contents of baseline to main directory.\n",
      "Removing the now-empty baseline folder.\n",
      "\n",
      "Moving contents of wfd_cadence_drive to main directory.\n",
      "Removing the now-empty wfd_cadence_drive folder.\n"
     ]
    }
   ],
   "source": [
    "# move files in nested folders to be in the main folder\n",
    "for folder in os.listdir(path):\n",
    "    if not folder.__contains__('dither'):\n",
    "        print( '\\nMoving contents of %s to main directory.' % folder)\n",
    "        os.system('mv %s%s/* %s' % (path, folder, path))\n",
    "        print( 'Removing the now-empty %s folder.' % folder)\n",
    "        os.system('rm -rf %s%s' % (path, folder) )"
   ]
  },
  {
   "cell_type": "code",
   "execution_count": 8,
   "metadata": {},
   "outputs": [
    {
     "data": {
      "text/plain": [
       "{'rolling': ['rolling_scale0.9_nslice3_v1.7_10yrs.db',\n",
       "  'rolling_scale0.2_nslice3_v1.7_10yrs.db',\n",
       "  'rolling_scale1.0_nslice3_v1.7_10yrs.db',\n",
       "  'rolling_scale0.9_nslice2_v1.7_10yrs.db',\n",
       "  'rolling_scale0.6_nslice3_v1.7_10yrs.db',\n",
       "  'rolling_scale0.6_nslice2_v1.7_10yrs.db',\n",
       "  'rolling_scale0.2_nslice2_v1.7_10yrs.db',\n",
       "  'rolling_scale0.8_nslice2_v1.7_10yrs.db',\n",
       "  'rolling_scale0.4_nslice3_v1.7_10yrs.db',\n",
       "  'rolling_scale0.4_nslice2_v1.7_10yrs.db',\n",
       "  'rolling_scale0.8_nslice3_v1.7_10yrs.db',\n",
       "  'rolling_scale1.0_nslice2_v1.7_10yrs.db'],\n",
       " 'footprint_tune': ['footprint_1_v1.710yrs.db',\n",
       "  'footprint_6_v1.710yrs.db',\n",
       "  'footprint_4_v1.710yrs.db',\n",
       "  'footprint_7_v1.710yrs.db',\n",
       "  'footprint_0_v1.710yrs.db',\n",
       "  'footprint_2_v1.710yrs.db',\n",
       "  'footprint_5_v1.710yrs.db',\n",
       "  'footprint_8_v1.710yrs.db',\n",
       "  'footprint_3_v1.710yrs.db'],\n",
       " 'euclid_dither': ['euclid_dither2_v1.7_10yrs.db',\n",
       "  'euclid_dither4_v1.7_10yrs.db',\n",
       "  'euclid_dither1_v1.7_10yrs.db',\n",
       "  'euclid_dither5_v1.7_10yrs.db',\n",
       "  'euclid_dither3_v1.7_10yrs.db'],\n",
       " 'rolling_nm': ['rolling_nm_scale0.4_nslice2_v1.7_10yrs.db',\n",
       "  'rolling_nm_scale0.4_nslice3_v1.7_10yrs.db',\n",
       "  'rolling_nm_scale0.9_nslice2_v1.7_10yrs.db',\n",
       "  'rolling_nm_scale0.8_nslice3_v1.7_10yrs.db',\n",
       "  'rolling_nm_scale0.6_nslice2_v1.7_10yrs.db',\n",
       "  'rolling_nm_scale1.0_nslice3_v1.7_10yrs.db',\n",
       "  'rolling_nm_scale0.8_nslice2_v1.7_10yrs.db',\n",
       "  'rolling_nm_scale0.2_nslice3_v1.7_10yrs.db',\n",
       "  'rolling_nm_scale0.6_nslice3_v1.7_10yrs.db',\n",
       "  'rolling_nm_scale1.0_nslice2_v1.7_10yrs.db',\n",
       "  'rolling_nm_scale0.2_nslice2_v1.7_10yrs.db',\n",
       "  'rolling_nm_scale0.9_nslice3_v1.7_10yrs.db'],\n",
       " 'pair_times': ['pair_times_33_v1.7_10yrs.db',\n",
       "  'pair_times_44_v1.7_10yrs.db',\n",
       "  'pair_times_11_v1.7_10yrs.db',\n",
       "  'pair_times_22_v1.7_10yrs.db',\n",
       "  'pair_times_55_v1.7_10yrs.db'],\n",
       " 'twi_neo': ['twi_neo_pattern6_v1.7_10yrs.db',\n",
       "  'twi_neo_pattern5_v1.7_10yrs.db',\n",
       "  'twi_neo_pattern3_v1.7_10yrs.db',\n",
       "  'twi_neo_pattern2_v1.7_10yrs.db',\n",
       "  'twi_neo_pattern1_v1.7_10yrs.db',\n",
       "  'twi_neo_pattern4_v1.7_10yrs.db',\n",
       "  'twi_neo_pattern7_v1.7_10yrs.db'],\n",
       " 'u_long': ['u_long_ms_30_v1.7_10yrs.db',\n",
       "  'u_long_ms_60_v1.7_10yrs.db',\n",
       "  'u_long_ms_40_v1.7_10yrs.db',\n",
       "  'u_long_ms_50_v1.7_10yrs.db'],\n",
       " 'twi_pairs': ['twi_pairs_repeat_v1.7_10yrs.db',\n",
       "  'twi_pairs_mixed_v1.7_10yrs.db',\n",
       "  'twi_pairs_mixed_repeat_v1.7_10yrs.db',\n",
       "  'twi_pairs_v1.7_10yrs.db'],\n",
       " 'baseline': ['baseline_nexp1_v1.7_10yrs.db', 'baseline_nexp2_v1.7_10yrs.db'],\n",
       " 'ddf_dither': ['ddf_dither2.00_v1.7_10yrs.db',\n",
       "  'ddf_dither0.70_v1.7_10yrs.db',\n",
       "  'ddf_dither0.00_v1.7_10yrs.db',\n",
       "  'ddf_dither0.05_v1.7_10yrs.db',\n",
       "  'ddf_dither0.10_v1.7_10yrs.db',\n",
       "  'ddf_dither1.50_v1.7_10yrs.db',\n",
       "  'ddf_dither1.00_v1.7_10yrs.db',\n",
       "  'ddf_dither0.30_v1.7_10yrs.db'],\n",
       " 'wfd_cadence_drive': ['cadence_drive_gl200v1.7_10yrs.db',\n",
       "  'cadence_drive_gl100_gcbv1.7_10yrs.db',\n",
       "  'cadence_drive_gl100v1.7_10yrs.db',\n",
       "  'cadence_drive_gl30v1.7_10yrs.db',\n",
       "  'cadence_drive_gl200_gcbv1.7_10yrs.db',\n",
       "  'cadence_drive_gl30_gcbv1.7_10yrs.db']}"
      ]
     },
     "execution_count": 8,
     "metadata": {},
     "output_type": "execute_result"
    }
   ],
   "source": [
    "folder_map"
   ]
  },
  {
   "cell_type": "markdown",
   "metadata": {},
   "source": [
    "okay ended up running the DDF dither runs anyway. sigh. will add the dbs to the key manually."
   ]
  },
  {
   "cell_type": "code",
   "execution_count": 10,
   "metadata": {},
   "outputs": [
    {
     "name": "stdout",
     "output_type": "stream",
     "text": [
      "['ddf_dither2.00_v1.7_10yrs.db', 'ddf_dither0.70_v1.7_10yrs.db', 'ddf_dither0.00_v1.7_10yrs.db', 'ddf_dither0.05_v1.7_10yrs.db', 'ddf_dither0.10_v1.7_10yrs.db', 'ddf_dither1.50_v1.7_10yrs.db', 'ddf_dither1.00_v1.7_10yrs.db', 'ddf_dither0.30_v1.7_10yrs.db']\n",
      "\n",
      "## 8 files in total\n",
      "\n",
      "['euclid_dither2_v1.7_10yrs.db', 'euclid_dither4_v1.7_10yrs.db', 'euclid_dither1_v1.7_10yrs.db', 'euclid_dither5_v1.7_10yrs.db', 'euclid_dither3_v1.7_10yrs.db']\n",
      "\n",
      "## 5 files in total\n"
     ]
    }
   ],
   "source": [
    "path = '/global/cscratch1/sd/awan/dbs_post_wp_v1.7/ddf_dither'\n",
    "\n",
    "files = os.listdir(path)\n",
    "print(files)\n",
    "#for file in files:\n",
    "#    print(file)\n",
    "print('\\n## %s files in total\\n' % ( len(files)))\n",
    "\n",
    "path = '/global/cscratch1/sd/awan/dbs_post_wp_v1.7/euclid_dither'\n",
    "\n",
    "files = os.listdir(path)\n",
    "print(files)\n",
    "#for file in files:\n",
    "#    print(file)\n",
    "print('\\n## %s files in total' % ( len(files)))\n"
   ]
  },
  {
   "cell_type": "markdown",
   "metadata": {},
   "source": [
    "#### folder-map is the dictionary to go in runscripts/helper.py for comparison plots."
   ]
  },
  {
   "cell_type": "code",
   "execution_count": 21,
   "metadata": {},
   "outputs": [
    {
     "data": {
      "text/plain": [
       "63"
      ]
     },
     "execution_count": 21,
     "metadata": {},
     "output_type": "execute_result"
    }
   ],
   "source": [
    "# it should be the print out - 2 + 8 + 5\n",
    "len(os.listdir('/global/cscratch1/sd/awan/dbs_post_wp_v1.7/'))"
   ]
  },
  {
   "cell_type": "code",
   "execution_count": 6,
   "metadata": {},
   "outputs": [
    {
     "data": {
      "text/plain": [
       "30"
      ]
     },
     "execution_count": 6,
     "metadata": {},
     "output_type": "execute_result"
    }
   ],
   "source": [
    "len(os.listdir('/global/cscratch1/sd/awan/dbs_post_wp_v1.6/'))"
   ]
  },
  {
   "cell_type": "code",
   "execution_count": 2,
   "metadata": {},
   "outputs": [
    {
     "data": {
      "text/plain": [
       "85"
      ]
     },
     "execution_count": 2,
     "metadata": {},
     "output_type": "execute_result"
    }
   ],
   "source": [
    "len(os.listdir('/global/cscratch1/sd/awan/dbs_post_wp_v1.5/'))"
   ]
  },
  {
   "cell_type": "code",
   "execution_count": 3,
   "metadata": {},
   "outputs": [
    {
     "data": {
      "text/plain": [
       "85"
      ]
     },
     "execution_count": 3,
     "metadata": {},
     "output_type": "execute_result"
    }
   ],
   "source": [
    "len(os.listdir('/global/cscratch1/sd/awan/dbs_post_wp_v1.5/'))"
   ]
  }
 ],
 "metadata": {
  "kernelspec": {
   "display_name": "Python 3",
   "language": "python",
   "name": "python3"
  },
  "language_info": {
   "codemirror_mode": {
    "name": "ipython",
    "version": 3
   },
   "file_extension": ".py",
   "mimetype": "text/x-python",
   "name": "python",
   "nbconvert_exporter": "python",
   "pygments_lexer": "ipython3",
   "version": "3.7.4"
  }
 },
 "nbformat": 4,
 "nbformat_minor": 4
}
