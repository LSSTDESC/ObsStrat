{
 "cells": [
  {
   "cell_type": "markdown",
   "metadata": {},
   "source": [
    "### this notebook saves the metrics (static ones; and lss ones) for the missing v1.5 db."
   ]
  },
  {
   "cell_type": "code",
   "execution_count": 1,
   "metadata": {},
   "outputs": [],
   "source": [
    "import matplotlib.pyplot as plt\n",
    "import numpy as np\n",
    "import matplotlib as mpl\n",
    "import os\n",
    "import pandas as pd\n",
    "%matplotlib inline"
   ]
  },
  {
   "cell_type": "code",
   "execution_count": 2,
   "metadata": {},
   "outputs": [],
   "source": [
    "data_dir = '/global/cscratch1/sd/awan/lsst_output/post_wp_output_v1.5_-0.1cuts/summary_data/'\n",
    "outdir = '/global/homes/a/awan/LSST/lsstRepos/ObsStrat/postwp/paper-data/summary_csv_v1.5_-0.1cuts/'\n",
    "os.makedirs(outdir, exist_ok=True)"
   ]
  },
  {
   "cell_type": "markdown",
   "metadata": {},
   "source": [
    "#### read in the data for the static metrics and store as a dictionary"
   ]
  },
  {
   "cell_type": "code",
   "execution_count": 3,
   "metadata": {},
   "outputs": [
    {
     "name": "stdout",
     "output_type": "stream",
     "text": [
      "eg_footprint_stats_y1_limi24.65_nodither_nside256.csv\n",
      "eg_footprint_stats_y3_limi25.25_nodither_nside256.csv\n",
      "eg_footprint_stats_y6_limi25.619999999999997_nodither_nside256.csv\n",
      "eg_footprint_stats_y10_limi25.9_nodither_nside256.csv\n",
      "{'yr1_limi24.65': 'Y1 (i$>$24.65) ', 'yr3_limi25.25': 'Y3 (i$>$25.25) ', 'yr6_limi25.619999999999997': 'Y6 (i$>$25.619999999999997) ', 'yr10_limi25.9': 'Y10 (i$>$25.9) '}\n",
      "dict_keys(['yr1_limi24.65', 'yr3_limi25.25', 'yr6_limi25.619999999999997', 'yr10_limi25.9'])\n",
      "Index(['dbname', 'Area (deg2)', '$i$-band depth: median',\n",
      "       ' $i$-band depth: std'],\n",
      "      dtype='object')\n"
     ]
    }
   ],
   "source": [
    "# read in the data \n",
    "data = {}\n",
    "yr_label = {}\n",
    "for yr in [1, 3, 6, 10]:\n",
    "    files = [f for f in os.listdir( data_dir ) if f.endswith('csv') and f.__contains__('y%s_' % yr) and f.startswith('eg_') ]\n",
    "    for file in files:\n",
    "        print( file )\n",
    "        key = 'yr%s_%s' % (yr, file.split('_')[4])\n",
    "        data[ key ] = pd.read_csv('%s/%s' % (data_dir, file))\n",
    "        yr_label[ key ] =  r'Y%s (i$>$%s) ' % (yr, file.split('_')[4].split('limi')[-1])\n",
    "        \n",
    "print( yr_label )\n",
    "print(data.keys())\n",
    "print(data[list(data.keys())[0]].keys() )"
   ]
  },
  {
   "cell_type": "code",
   "execution_count": 4,
   "metadata": {},
   "outputs": [
    {
     "name": "stdout",
     "output_type": "stream",
     "text": [
      "1 24.65\n",
      "3 25.25\n",
      "6 25.619999999999997\n",
      "10 25.9\n"
     ]
    }
   ],
   "source": [
    "# read in the static metrics\n",
    "for key in data:\n",
    "    yr_tag = key.split('_')[0].split('yr')[-1]\n",
    "    lim_tag = key.split('_')[1].split('limi')[-1]\n",
    "    print(yr_tag, lim_tag)\n",
    "\n",
    "    data[key] = data[key].rename(columns={'Area (deg2)': 'Y%s effective survey area ' % (yr_tag),\n",
    "                                          '$i$-band depth: median': 'median Y%s $i$-band coadded depth in effective survey area' % (yr_tag),\n",
    "                                          ' $i$-band depth: std': 'std in Y%s $i$-band coadded depth in effective survey area' % (yr_tag)} )\n",
    "    #fname = 'lss_metrics_%s.csv' % key\n",
    "    #data[key].to_csv('%s/%s' % (outdir, fname), index=False)"
   ]
  },
  {
   "cell_type": "markdown",
   "metadata": {},
   "source": [
    "#### get the order of the dbs"
   ]
  },
  {
   "cell_type": "code",
   "execution_count": 5,
   "metadata": {},
   "outputs": [],
   "source": [
    "#data['yr10_limi25.9'].dbname.values"
   ]
  },
  {
   "cell_type": "code",
   "execution_count": 6,
   "metadata": {},
   "outputs": [],
   "source": [
    "# need to do this since input order is provided for only some of the dbs\n",
    "df = pd.DataFrame(['baseline_samefilt_v1.5_10yrs']\n",
    "                  , columns=['name'])\n",
    "df.to_csv('%s/given_missing_v1.5.csv' % outdir, index=False)"
   ]
  },
  {
   "cell_type": "code",
   "execution_count": 7,
   "metadata": {},
   "outputs": [
    {
     "data": {
      "text/html": [
       "<div>\n",
       "<style scoped>\n",
       "    .dataframe tbody tr th:only-of-type {\n",
       "        vertical-align: middle;\n",
       "    }\n",
       "\n",
       "    .dataframe tbody tr th {\n",
       "        vertical-align: top;\n",
       "    }\n",
       "\n",
       "    .dataframe thead th {\n",
       "        text-align: right;\n",
       "    }\n",
       "</style>\n",
       "<table border=\"1\" class=\"dataframe\">\n",
       "  <thead>\n",
       "    <tr style=\"text-align: right;\">\n",
       "      <th></th>\n",
       "      <th>name</th>\n",
       "    </tr>\n",
       "  </thead>\n",
       "  <tbody>\n",
       "    <tr>\n",
       "      <td>0</td>\n",
       "      <td>baseline_samefilt_v1.5_10yrs</td>\n",
       "    </tr>\n",
       "  </tbody>\n",
       "</table>\n",
       "</div>"
      ],
      "text/plain": [
       "                           name\n",
       "0  baseline_samefilt_v1.5_10yrs"
      ]
     },
     "execution_count": 7,
     "metadata": {},
     "output_type": "execute_result"
    }
   ],
   "source": [
    "df_in_order = pd.read_csv('%s/given_missing_v1.5.csv' % outdir, )\n",
    "df_in_order"
   ]
  },
  {
   "cell_type": "code",
   "execution_count": 8,
   "metadata": {},
   "outputs": [
    {
     "data": {
      "text/plain": [
       "(1, 1)"
      ]
     },
     "execution_count": 8,
     "metadata": {},
     "output_type": "execute_result"
    }
   ],
   "source": [
    "# check some things:\n",
    "len( list( df_in_order['name'] ) ), len( np.unique( df_in_order['name'] ) )"
   ]
  },
  {
   "cell_type": "code",
   "execution_count": 9,
   "metadata": {},
   "outputs": [
    {
     "data": {
      "text/plain": [
       "'yr1_limi24.65'"
      ]
     },
     "execution_count": 9,
     "metadata": {},
     "output_type": "execute_result"
    }
   ],
   "source": [
    "yr_key = [f for f in data.keys() if f.__contains__('yr1_')][0]\n",
    "yr_key"
   ]
  },
  {
   "cell_type": "markdown",
   "metadata": {},
   "source": [
    "#### find the indices to get the order"
   ]
  },
  {
   "cell_type": "code",
   "execution_count": 10,
   "metadata": {},
   "outputs": [
    {
     "name": "stdout",
     "output_type": "stream",
     "text": [
      "[85]\n"
     ]
    }
   ],
   "source": [
    "# find the indices to get the order\n",
    "ind = []\n",
    "for db in df_in_order['name']:\n",
    "    ind_temp = np.where( data[yr_key]['dbname'].values == db.split('.db')[0] )[0]\n",
    "\n",
    "    if len(ind_temp) == 0:\n",
    "        print('%s not found in data dict' % db)\n",
    "        #ind_temp = np.array([ 0 ])\n",
    "        \n",
    "    if ind_temp in ind:\n",
    "        print('%s ind already in. %s' % (ind_temp, db))\n",
    "    ind +=  list( ind_temp )\n",
    "    \n",
    "ind = np.array(ind)\n",
    "print(ind)"
   ]
  },
  {
   "cell_type": "code",
   "execution_count": 11,
   "metadata": {},
   "outputs": [
    {
     "name": "stdout",
     "output_type": "stream",
     "text": [
      "bulges_bs_v1.5_10yrs baseline_samefilt_v1.5_10yrs\n",
      "1 1\n"
     ]
    }
   ],
   "source": [
    "# check we have the right indices\n",
    "print( data[yr_key]['dbname'].values[28],  df_in_order['name'][0] )\n",
    "\n",
    "# check we have the right number of inds\n",
    "print( len(ind), len(np.unique(ind)) )"
   ]
  },
  {
   "cell_type": "markdown",
   "metadata": {},
   "source": [
    "#### save the data in the order in which to save things"
   ]
  },
  {
   "cell_type": "code",
   "execution_count": 12,
   "metadata": {},
   "outputs": [
    {
     "data": {
      "text/plain": [
       "dict_keys(['yr1_limi24.65', 'yr3_limi25.25', 'yr6_limi25.619999999999997', 'yr10_limi25.9'])"
      ]
     },
     "execution_count": 12,
     "metadata": {},
     "output_type": "execute_result"
    }
   ],
   "source": [
    "data.keys()"
   ]
  },
  {
   "cell_type": "code",
   "execution_count": 13,
   "metadata": {},
   "outputs": [],
   "source": [
    "for yr_lim_tag in data:\n",
    "    for colname in data[yr_lim_tag]:\n",
    "        if colname != 'dbname':\n",
    "             df_in_order[colname] = data[yr_lim_tag][colname].values[ind]"
   ]
  },
  {
   "cell_type": "code",
   "execution_count": 14,
   "metadata": {},
   "outputs": [
    {
     "data": {
      "text/html": [
       "<div>\n",
       "<style scoped>\n",
       "    .dataframe tbody tr th:only-of-type {\n",
       "        vertical-align: middle;\n",
       "    }\n",
       "\n",
       "    .dataframe tbody tr th {\n",
       "        vertical-align: top;\n",
       "    }\n",
       "\n",
       "    .dataframe thead th {\n",
       "        text-align: right;\n",
       "    }\n",
       "</style>\n",
       "<table border=\"1\" class=\"dataframe\">\n",
       "  <thead>\n",
       "    <tr style=\"text-align: right;\">\n",
       "      <th></th>\n",
       "      <th>name</th>\n",
       "      <th>Y1 effective survey area</th>\n",
       "      <th>median Y1 $i$-band coadded depth in effective survey area</th>\n",
       "      <th>std in Y1 $i$-band coadded depth in effective survey area</th>\n",
       "      <th>Y3 effective survey area</th>\n",
       "      <th>median Y3 $i$-band coadded depth in effective survey area</th>\n",
       "      <th>std in Y3 $i$-band coadded depth in effective survey area</th>\n",
       "      <th>Y6 effective survey area</th>\n",
       "      <th>median Y6 $i$-band coadded depth in effective survey area</th>\n",
       "      <th>std in Y6 $i$-band coadded depth in effective survey area</th>\n",
       "      <th>Y10 effective survey area</th>\n",
       "      <th>median Y10 $i$-band coadded depth in effective survey area</th>\n",
       "      <th>std in Y10 $i$-band coadded depth in effective survey area</th>\n",
       "    </tr>\n",
       "  </thead>\n",
       "  <tbody>\n",
       "    <tr>\n",
       "      <td>0</td>\n",
       "      <td>baseline_samefilt_v1.5_10yrs</td>\n",
       "      <td>15303.37</td>\n",
       "      <td>25.11</td>\n",
       "      <td>0.18</td>\n",
       "      <td>15336.41</td>\n",
       "      <td>25.72</td>\n",
       "      <td>0.14</td>\n",
       "      <td>15336.26</td>\n",
       "      <td>26.07</td>\n",
       "      <td>0.13</td>\n",
       "      <td>15321.36</td>\n",
       "      <td>26.35</td>\n",
       "      <td>0.13</td>\n",
       "    </tr>\n",
       "  </tbody>\n",
       "</table>\n",
       "</div>"
      ],
      "text/plain": [
       "                           name  Y1 effective survey area   \\\n",
       "0  baseline_samefilt_v1.5_10yrs                   15303.37   \n",
       "\n",
       "   median Y1 $i$-band coadded depth in effective survey area  \\\n",
       "0                                              25.11           \n",
       "\n",
       "   std in Y1 $i$-band coadded depth in effective survey area  \\\n",
       "0                                               0.18           \n",
       "\n",
       "   Y3 effective survey area   \\\n",
       "0                   15336.41   \n",
       "\n",
       "   median Y3 $i$-band coadded depth in effective survey area  \\\n",
       "0                                              25.72           \n",
       "\n",
       "   std in Y3 $i$-band coadded depth in effective survey area  \\\n",
       "0                                               0.14           \n",
       "\n",
       "   Y6 effective survey area   \\\n",
       "0                   15336.26   \n",
       "\n",
       "   median Y6 $i$-band coadded depth in effective survey area  \\\n",
       "0                                              26.07           \n",
       "\n",
       "   std in Y6 $i$-band coadded depth in effective survey area  \\\n",
       "0                                               0.13           \n",
       "\n",
       "   Y10 effective survey area   \\\n",
       "0                    15321.36   \n",
       "\n",
       "   median Y10 $i$-band coadded depth in effective survey area  \\\n",
       "0                                              26.35            \n",
       "\n",
       "   std in Y10 $i$-band coadded depth in effective survey area  \n",
       "0                                               0.13           "
      ]
     },
     "execution_count": 14,
     "metadata": {},
     "output_type": "execute_result"
    }
   ],
   "source": [
    "df_in_order"
   ]
  },
  {
   "cell_type": "code",
   "execution_count": 15,
   "metadata": {},
   "outputs": [
    {
     "data": {
      "text/plain": [
       "['name',\n",
       " 'Y1 effective survey area ',\n",
       " 'median Y1 $i$-band coadded depth in effective survey area',\n",
       " 'std in Y1 $i$-band coadded depth in effective survey area',\n",
       " 'Y3 effective survey area ',\n",
       " 'median Y3 $i$-band coadded depth in effective survey area',\n",
       " 'std in Y3 $i$-band coadded depth in effective survey area',\n",
       " 'Y6 effective survey area ',\n",
       " 'median Y6 $i$-band coadded depth in effective survey area',\n",
       " 'std in Y6 $i$-band coadded depth in effective survey area',\n",
       " 'Y10 effective survey area ',\n",
       " 'median Y10 $i$-band coadded depth in effective survey area',\n",
       " 'std in Y10 $i$-band coadded depth in effective survey area']"
      ]
     },
     "execution_count": 15,
     "metadata": {},
     "output_type": "execute_result"
    }
   ],
   "source": [
    "cols = df_in_order.columns.tolist()\n",
    "cols"
   ]
  },
  {
   "cell_type": "markdown",
   "metadata": {},
   "source": [
    "#### realized that there's too much finagling when sharing data so its best to reorder columns to make sure the order of the columns is the same."
   ]
  },
  {
   "cell_type": "code",
   "execution_count": 16,
   "metadata": {},
   "outputs": [
    {
     "data": {
      "text/plain": [
       "['name',\n",
       " 'median Y1 $i$-band coadded depth in effective survey area',\n",
       " 'median Y3 $i$-band coadded depth in effective survey area',\n",
       " 'median Y6 $i$-band coadded depth in effective survey area',\n",
       " 'median Y10 $i$-band coadded depth in effective survey area',\n",
       " 'std in Y1 $i$-band coadded depth in effective survey area',\n",
       " 'std in Y3 $i$-band coadded depth in effective survey area',\n",
       " 'std in Y6 $i$-band coadded depth in effective survey area',\n",
       " 'std in Y10 $i$-band coadded depth in effective survey area',\n",
       " 'Y1 effective survey area ',\n",
       " 'Y3 effective survey area ',\n",
       " 'Y6 effective survey area ',\n",
       " 'Y10 effective survey area ']"
      ]
     },
     "execution_count": 16,
     "metadata": {},
     "output_type": "execute_result"
    }
   ],
   "source": [
    "new_cols = ['name',\n",
    "            'median Y1 $i$-band coadded depth in effective survey area',\n",
    "            'median Y3 $i$-band coadded depth in effective survey area',\n",
    "            'median Y6 $i$-band coadded depth in effective survey area',\n",
    "            'median Y10 $i$-band coadded depth in effective survey area',\n",
    "            'std in Y1 $i$-band coadded depth in effective survey area',\n",
    "            'std in Y3 $i$-band coadded depth in effective survey area',\n",
    "            'std in Y6 $i$-band coadded depth in effective survey area',\n",
    "            'std in Y10 $i$-band coadded depth in effective survey area',\n",
    "            'Y1 effective survey area ',\n",
    "            'Y3 effective survey area ',\n",
    "            'Y6 effective survey area ',\n",
    "            'Y10 effective survey area ',]\n",
    "new_cols"
   ]
  },
  {
   "cell_type": "code",
   "execution_count": 17,
   "metadata": {},
   "outputs": [
    {
     "data": {
      "text/html": [
       "<div>\n",
       "<style scoped>\n",
       "    .dataframe tbody tr th:only-of-type {\n",
       "        vertical-align: middle;\n",
       "    }\n",
       "\n",
       "    .dataframe tbody tr th {\n",
       "        vertical-align: top;\n",
       "    }\n",
       "\n",
       "    .dataframe thead th {\n",
       "        text-align: right;\n",
       "    }\n",
       "</style>\n",
       "<table border=\"1\" class=\"dataframe\">\n",
       "  <thead>\n",
       "    <tr style=\"text-align: right;\">\n",
       "      <th></th>\n",
       "      <th>name</th>\n",
       "      <th>median Y1 $i$-band coadded depth in effective survey area</th>\n",
       "      <th>median Y3 $i$-band coadded depth in effective survey area</th>\n",
       "      <th>median Y6 $i$-band coadded depth in effective survey area</th>\n",
       "      <th>median Y10 $i$-band coadded depth in effective survey area</th>\n",
       "      <th>std in Y1 $i$-band coadded depth in effective survey area</th>\n",
       "      <th>std in Y3 $i$-band coadded depth in effective survey area</th>\n",
       "      <th>std in Y6 $i$-band coadded depth in effective survey area</th>\n",
       "      <th>std in Y10 $i$-band coadded depth in effective survey area</th>\n",
       "      <th>Y1 effective survey area</th>\n",
       "      <th>Y3 effective survey area</th>\n",
       "      <th>Y6 effective survey area</th>\n",
       "      <th>Y10 effective survey area</th>\n",
       "    </tr>\n",
       "  </thead>\n",
       "  <tbody>\n",
       "    <tr>\n",
       "      <td>0</td>\n",
       "      <td>baseline_samefilt_v1.5_10yrs</td>\n",
       "      <td>25.11</td>\n",
       "      <td>25.72</td>\n",
       "      <td>26.07</td>\n",
       "      <td>26.35</td>\n",
       "      <td>0.18</td>\n",
       "      <td>0.14</td>\n",
       "      <td>0.13</td>\n",
       "      <td>0.13</td>\n",
       "      <td>15303.37</td>\n",
       "      <td>15336.41</td>\n",
       "      <td>15336.26</td>\n",
       "      <td>15321.36</td>\n",
       "    </tr>\n",
       "  </tbody>\n",
       "</table>\n",
       "</div>"
      ],
      "text/plain": [
       "                           name  \\\n",
       "0  baseline_samefilt_v1.5_10yrs   \n",
       "\n",
       "   median Y1 $i$-band coadded depth in effective survey area  \\\n",
       "0                                              25.11           \n",
       "\n",
       "   median Y3 $i$-band coadded depth in effective survey area  \\\n",
       "0                                              25.72           \n",
       "\n",
       "   median Y6 $i$-band coadded depth in effective survey area  \\\n",
       "0                                              26.07           \n",
       "\n",
       "   median Y10 $i$-band coadded depth in effective survey area  \\\n",
       "0                                              26.35            \n",
       "\n",
       "   std in Y1 $i$-band coadded depth in effective survey area  \\\n",
       "0                                               0.18           \n",
       "\n",
       "   std in Y3 $i$-band coadded depth in effective survey area  \\\n",
       "0                                               0.14           \n",
       "\n",
       "   std in Y6 $i$-band coadded depth in effective survey area  \\\n",
       "0                                               0.13           \n",
       "\n",
       "   std in Y10 $i$-band coadded depth in effective survey area  \\\n",
       "0                                               0.13            \n",
       "\n",
       "   Y1 effective survey area   Y3 effective survey area   \\\n",
       "0                   15303.37                   15336.41   \n",
       "\n",
       "   Y6 effective survey area   Y10 effective survey area   \n",
       "0                   15336.26                    15321.36  "
      ]
     },
     "execution_count": 17,
     "metadata": {},
     "output_type": "execute_result"
    }
   ],
   "source": [
    "df_in_order = df_in_order[new_cols]\n",
    "df_in_order"
   ]
  },
  {
   "cell_type": "code",
   "execution_count": 18,
   "metadata": {},
   "outputs": [],
   "source": [
    "# save the metrics\n",
    "fname = 'static_metrics_missing.csv'\n",
    "df_in_order.to_csv('%s/%s' % (outdir, fname), index=False)"
   ]
  },
  {
   "cell_type": "markdown",
   "metadata": {},
   "source": [
    "#### now read and save lss-fom and ngal"
   ]
  },
  {
   "cell_type": "code",
   "execution_count": 19,
   "metadata": {},
   "outputs": [
    {
     "data": {
      "text/html": [
       "<div>\n",
       "<style scoped>\n",
       "    .dataframe tbody tr th:only-of-type {\n",
       "        vertical-align: middle;\n",
       "    }\n",
       "\n",
       "    .dataframe tbody tr th {\n",
       "        vertical-align: top;\n",
       "    }\n",
       "\n",
       "    .dataframe thead th {\n",
       "        text-align: right;\n",
       "    }\n",
       "</style>\n",
       "<table border=\"1\" class=\"dataframe\">\n",
       "  <thead>\n",
       "    <tr style=\"text-align: right;\">\n",
       "      <th></th>\n",
       "      <th>name</th>\n",
       "    </tr>\n",
       "  </thead>\n",
       "  <tbody>\n",
       "    <tr>\n",
       "      <td>0</td>\n",
       "      <td>baseline_samefilt_v1.5_10yrs</td>\n",
       "    </tr>\n",
       "  </tbody>\n",
       "</table>\n",
       "</div>"
      ],
      "text/plain": [
       "                           name\n",
       "0  baseline_samefilt_v1.5_10yrs"
      ]
     },
     "execution_count": 19,
     "metadata": {},
     "output_type": "execute_result"
    }
   ],
   "source": [
    "# clean up the give_list dataframe\n",
    "for key in df_in_order.keys():\n",
    "    if key.__contains__('Y'):\n",
    "        df_in_order = df_in_order.drop(key, axis=1)\n",
    "        \n",
    "df_in_order"
   ]
  },
  {
   "cell_type": "markdown",
   "metadata": {},
   "source": [
    "#### read in the lss fom values"
   ]
  },
  {
   "cell_type": "code",
   "execution_count": 20,
   "metadata": {},
   "outputs": [],
   "source": [
    "data_dir_base = '/global/cscratch1/sd/awan/lsst_output/post_wp_output_v1.5_-0.1cuts/lss_fom/'"
   ]
  },
  {
   "cell_type": "code",
   "execution_count": 21,
   "metadata": {},
   "outputs": [
    {
     "data": {
      "text/plain": [
       "['2021-03-08_fomdata_Y1_i<23.95_snfom_egfootprint_86cadences_0.66<z<1.0_th-r<24.35_100<ell<300_logtcuts.csv',\n",
       " '2021-03-08_fomdata_Y10_i<25.2_snfom_egfootprint_86cadences_0.66<z<1.0_th-r<25.60_100<ell<300_logtcuts.csv']"
      ]
     },
     "execution_count": 21,
     "metadata": {},
     "output_type": "execute_result"
    }
   ],
   "source": [
    "data_dir = '%s/os_bias_overplots/' % data_dir_base\n",
    "[f for f in os.listdir(data_dir) if f.__contains__('fomdata') and f.__contains__('2021-03-08')] "
   ]
  },
  {
   "cell_type": "code",
   "execution_count": 22,
   "metadata": {},
   "outputs": [
    {
     "name": "stdout",
     "output_type": "stream",
     "text": [
      "2021-03-08_fomdata_Y1_i<23.95_snfom_egfootprint_86cadences_0.66<z<1.0_th-r<24.35_100<ell<300_logtcuts.csv\n",
      "[65]\n"
     ]
    }
   ],
   "source": [
    "fname = [f for f in os.listdir(data_dir) if f.__contains__('fomdata') if f.__contains__('_Y1_') and f.__contains__('2021-03-08')][0]\n",
    "print(fname)\n",
    "data_file = '%s/%s' % (data_dir, fname)\n",
    "lss_fom = pd.read_csv(data_file)\n",
    "\n",
    "# find the indices to get the order\n",
    "ind = []\n",
    "for db in df_in_order['name']:\n",
    "    ind_temp = np.where( lss_fom['dbname'].values == db.split('.db')[0] )[0]\n",
    "\n",
    "    if len(ind_temp) == 0:\n",
    "        print('%s not found in data dict' % db)\n",
    "        #ind_temp = np.array([ 0 ])\n",
    "        \n",
    "    if ind_temp in ind:\n",
    "        print('%s ind already in. %s' % (ind_temp, db))\n",
    "    ind +=  list( ind_temp )\n",
    "    \n",
    "ind = np.array(ind)\n",
    "print(ind)\n",
    "\n",
    "df_in_order['Y1 lss fom'] = lss_fom['FoM'].values[ind]"
   ]
  },
  {
   "cell_type": "code",
   "execution_count": 23,
   "metadata": {},
   "outputs": [
    {
     "name": "stdout",
     "output_type": "stream",
     "text": [
      "2021-03-08_fomdata_Y10_i<25.2_snfom_egfootprint_86cadences_0.66<z<1.0_th-r<25.60_100<ell<300_logtcuts.csv\n",
      "[65]\n"
     ]
    }
   ],
   "source": [
    "fname = [f for f in os.listdir(data_dir) if f.__contains__('fomdata') if f.__contains__('_Y10_') and f.__contains__('2021-03-08')][0]\n",
    "print(fname)\n",
    "data_file = '%s/%s' % (data_dir, fname)\n",
    "lss_fom = pd.read_csv(data_file)\n",
    "\n",
    "# find the indices to get the order\n",
    "ind = []\n",
    "for db in df_in_order['name']:\n",
    "    ind_temp = np.where( lss_fom['dbname'].values == db.split('.db')[0] )[0]\n",
    "\n",
    "    if len(ind_temp) == 0:\n",
    "        print('%s not found in data dict' % db)\n",
    "        #ind_temp = np.array([ 0 ])\n",
    "        \n",
    "    if ind_temp in ind:\n",
    "        print('%s ind already in. %s' % (ind_temp, db))\n",
    "    ind +=  list( ind_temp )\n",
    "    \n",
    "ind = np.array(ind)\n",
    "print(ind)\n",
    "\n",
    "df_in_order['Y10 lss fom'] = lss_fom['FoM'].values[ind]"
   ]
  },
  {
   "cell_type": "code",
   "execution_count": 24,
   "metadata": {},
   "outputs": [
    {
     "data": {
      "text/html": [
       "<div>\n",
       "<style scoped>\n",
       "    .dataframe tbody tr th:only-of-type {\n",
       "        vertical-align: middle;\n",
       "    }\n",
       "\n",
       "    .dataframe tbody tr th {\n",
       "        vertical-align: top;\n",
       "    }\n",
       "\n",
       "    .dataframe thead th {\n",
       "        text-align: right;\n",
       "    }\n",
       "</style>\n",
       "<table border=\"1\" class=\"dataframe\">\n",
       "  <thead>\n",
       "    <tr style=\"text-align: right;\">\n",
       "      <th></th>\n",
       "      <th>name</th>\n",
       "      <th>Y1 lss fom</th>\n",
       "      <th>Y10 lss fom</th>\n",
       "    </tr>\n",
       "  </thead>\n",
       "  <tbody>\n",
       "    <tr>\n",
       "      <td>0</td>\n",
       "      <td>baseline_samefilt_v1.5_10yrs</td>\n",
       "      <td>0.910804</td>\n",
       "      <td>0.979782</td>\n",
       "    </tr>\n",
       "  </tbody>\n",
       "</table>\n",
       "</div>"
      ],
      "text/plain": [
       "                           name  Y1 lss fom  Y10 lss fom\n",
       "0  baseline_samefilt_v1.5_10yrs    0.910804     0.979782"
      ]
     },
     "execution_count": 24,
     "metadata": {},
     "output_type": "execute_result"
    }
   ],
   "source": [
    "df_in_order\n"
   ]
  },
  {
   "cell_type": "markdown",
   "metadata": {},
   "source": [
    "#### now read in the ngal values"
   ]
  },
  {
   "cell_type": "code",
   "execution_count": 25,
   "metadata": {},
   "outputs": [
    {
     "name": "stdout",
     "output_type": "stream",
     "text": [
      "read in 86 folders for Y1\n",
      "read in 86 folders for Y10\n"
     ]
    }
   ],
   "source": [
    "ngal_data_dir = data_dir_base\n",
    "\n",
    "ngal_data = {}\n",
    "for yr in [1, 10]:\n",
    "    ngal_data[yr] =  np.zeros(len(df_in_order.name))\n",
    "    folders = [f for f in os.listdir( ngal_data_dir ) if f.__contains__('_Y%s_' % yr) and f.__contains__('i<') ]\n",
    "    for i, folder in enumerate( folders ):\n",
    "        out = pd.read_csv('%s/%s/ngal-final_total/ngal_NoDither.txt' % (ngal_data_dir, folder), header=None, delimiter=' ') \n",
    "        dbname, ngal = out[0].values[0], out[1].values[0]\n",
    "        ind = np.where( df_in_order['name'].values == '%s' % dbname)[0]\n",
    "        ngal_data[yr][ind] = ngal\n",
    "    print('read in %s folders for Y%s' % (i+1, yr) )"
   ]
  },
  {
   "cell_type": "code",
   "execution_count": 26,
   "metadata": {},
   "outputs": [],
   "source": [
    "for yr in ngal_data:\n",
    "    df_in_order['Y%s Ngal (0.66<z<1.0)' % yr] = ngal_data[yr]"
   ]
  },
  {
   "cell_type": "code",
   "execution_count": 27,
   "metadata": {},
   "outputs": [
    {
     "data": {
      "text/html": [
       "<div>\n",
       "<style scoped>\n",
       "    .dataframe tbody tr th:only-of-type {\n",
       "        vertical-align: middle;\n",
       "    }\n",
       "\n",
       "    .dataframe tbody tr th {\n",
       "        vertical-align: top;\n",
       "    }\n",
       "\n",
       "    .dataframe thead th {\n",
       "        text-align: right;\n",
       "    }\n",
       "</style>\n",
       "<table border=\"1\" class=\"dataframe\">\n",
       "  <thead>\n",
       "    <tr style=\"text-align: right;\">\n",
       "      <th></th>\n",
       "      <th>name</th>\n",
       "      <th>Y1 lss fom</th>\n",
       "      <th>Y10 lss fom</th>\n",
       "      <th>Y1 Ngal (0.66&lt;z&lt;1.0)</th>\n",
       "      <th>Y10 Ngal (0.66&lt;z&lt;1.0)</th>\n",
       "    </tr>\n",
       "  </thead>\n",
       "  <tbody>\n",
       "    <tr>\n",
       "      <td>0</td>\n",
       "      <td>baseline_samefilt_v1.5_10yrs</td>\n",
       "      <td>0.910804</td>\n",
       "      <td>0.979782</td>\n",
       "      <td>447000000.0</td>\n",
       "      <td>960000000.0</td>\n",
       "    </tr>\n",
       "  </tbody>\n",
       "</table>\n",
       "</div>"
      ],
      "text/plain": [
       "                           name  Y1 lss fom  Y10 lss fom  \\\n",
       "0  baseline_samefilt_v1.5_10yrs    0.910804     0.979782   \n",
       "\n",
       "   Y1 Ngal (0.66<z<1.0)  Y10 Ngal (0.66<z<1.0)  \n",
       "0           447000000.0            960000000.0  "
      ]
     },
     "execution_count": 27,
     "metadata": {},
     "output_type": "execute_result"
    }
   ],
   "source": [
    "df_in_order"
   ]
  },
  {
   "cell_type": "code",
   "execution_count": 28,
   "metadata": {},
   "outputs": [],
   "source": [
    "fname = 'lss_metrics_missing.csv'\n",
    "df_in_order.to_csv('%s/%s' % (outdir, fname), index=False)"
   ]
  },
  {
   "cell_type": "code",
   "execution_count": null,
   "metadata": {},
   "outputs": [],
   "source": []
  }
 ],
 "metadata": {
  "kernelspec": {
   "display_name": "Python 3",
   "language": "python",
   "name": "python3"
  },
  "language_info": {
   "codemirror_mode": {
    "name": "ipython",
    "version": 3
   },
   "file_extension": ".py",
   "mimetype": "text/x-python",
   "name": "python",
   "nbconvert_exporter": "python",
   "pygments_lexer": "ipython3",
   "version": "3.7.4"
  }
 },
 "nbformat": 4,
 "nbformat_minor": 4
}
