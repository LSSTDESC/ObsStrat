{
 "cells": [
  {
   "cell_type": "markdown",
   "metadata": {},
   "source": [
    "### this notebook saves the metrics (static ones; and lss ones) for a few selected v1.7 dbs."
   ]
  },
  {
   "cell_type": "code",
   "execution_count": 1,
   "metadata": {},
   "outputs": [],
   "source": [
    "import matplotlib.pyplot as plt\n",
    "import numpy as np\n",
    "import matplotlib as mpl\n",
    "import os\n",
    "import pandas as pd\n",
    "%matplotlib inline"
   ]
  },
  {
   "cell_type": "code",
   "execution_count": 2,
   "metadata": {},
   "outputs": [],
   "source": [
    "data_dir = '/global/cscratch1/sd/awan/lsst_output/post_wp_output_v1.7_-0.1cuts/summary_data/'\n",
    "outdir = '/global/homes/a/awan/LSST/lsstRepos/ObsStrat/postwp/paper-data/summary_csv_v1.7_-0.1cuts/'\n",
    "os.makedirs(outdir, exist_ok=True)"
   ]
  },
  {
   "cell_type": "markdown",
   "metadata": {},
   "source": [
    "#### read in the data for the static metrics and store as a dictionary"
   ]
  },
  {
   "cell_type": "code",
   "execution_count": 3,
   "metadata": {},
   "outputs": [
    {
     "name": "stdout",
     "output_type": "stream",
     "text": [
      "eg_footprint_stats_y1_limi24.65_nodither_nside256.csv\n",
      "eg_footprint_stats_y3_limi25.25_nodither_nside256.csv\n",
      "eg_footprint_stats_y6_limi25.619999999999997_nodither_nside256.csv\n",
      "eg_footprint_stats_y10_limi25.9_nodither_nside256.csv\n",
      "{'yr1_limi24.65': 'Y1 (i$>$24.65) ', 'yr3_limi25.25': 'Y3 (i$>$25.25) ', 'yr6_limi25.619999999999997': 'Y6 (i$>$25.619999999999997) ', 'yr10_limi25.9': 'Y10 (i$>$25.9) '}\n",
      "dict_keys(['yr1_limi24.65', 'yr3_limi25.25', 'yr6_limi25.619999999999997', 'yr10_limi25.9'])\n",
      "Index(['dbname', 'Area (deg2)', '$i$-band depth: median',\n",
      "       ' $i$-band depth: std'],\n",
      "      dtype='object')\n"
     ]
    }
   ],
   "source": [
    "# read in the data \n",
    "data = {}\n",
    "yr_label = {}\n",
    "for yr in [1, 3, 6, 10]:\n",
    "    files = [f for f in os.listdir( data_dir ) if f.endswith('csv') and f.__contains__('y%s_' % yr) and f.startswith('eg_') ]\n",
    "    for file in files:\n",
    "        print( file )\n",
    "        key = 'yr%s_%s' % (yr, file.split('_')[4])\n",
    "        data[ key ] = pd.read_csv('%s/%s' % (data_dir, file))\n",
    "        yr_label[ key ] =  r'Y%s (i$>$%s) ' % (yr, file.split('_')[4].split('limi')[-1])\n",
    "        \n",
    "print( yr_label )\n",
    "print(data.keys())\n",
    "print(data[list(data.keys())[0]].keys() )"
   ]
  },
  {
   "cell_type": "code",
   "execution_count": 4,
   "metadata": {},
   "outputs": [
    {
     "name": "stdout",
     "output_type": "stream",
     "text": [
      "1 24.65\n",
      "3 25.25\n",
      "6 25.619999999999997\n",
      "10 25.9\n"
     ]
    }
   ],
   "source": [
    "# read in the static metrics\n",
    "for key in data:\n",
    "    yr_tag = key.split('_')[0].split('yr')[-1]\n",
    "    lim_tag = key.split('_')[1].split('limi')[-1]\n",
    "    print(yr_tag, lim_tag)\n",
    "\n",
    "    data[key] = data[key].rename(columns={'Area (deg2)': 'Y%s effective survey area ' % (yr_tag),\n",
    "                                          '$i$-band depth: median': 'median Y%s $i$-band coadded depth in effective survey area' % (yr_tag),\n",
    "                                          ' $i$-band depth: std': 'std in Y%s $i$-band coadded depth in effective survey area' % (yr_tag)} )\n",
    "    #fname = 'lss_metrics_%s.csv' % key\n",
    "    #data[key].to_csv('%s/%s' % (outdir, fname), index=False)"
   ]
  },
  {
   "cell_type": "markdown",
   "metadata": {},
   "source": [
    "#### get the order of the dbs"
   ]
  },
  {
   "cell_type": "code",
   "execution_count": 5,
   "metadata": {},
   "outputs": [
    {
     "data": {
      "text/plain": [
       "array(['twi_pairs_repeat_v1.7_10yrs', 'twi_neo_pattern6_v1.7_10yrs',\n",
       "       'rolling_nm_scale0.4_nslice2_v1.7_10yrs', 'footprint_1_v1.710yrs',\n",
       "       'footprint_6_v1.710yrs', 'twi_neo_pattern5_v1.7_10yrs',\n",
       "       'rolling_scale0.9_nslice3_v1.7_10yrs', 'euclid_dither2_v1.7_10yrs',\n",
       "       'euclid_dither4_v1.7_10yrs', 'euclid_dither1_v1.7_10yrs',\n",
       "       'euclid_dither5_v1.7_10yrs', 'euclid_dither3_v1.7_10yrs',\n",
       "       'pair_times_33_v1.7_10yrs', 'footprint_4_v1.710yrs',\n",
       "       'footprint_7_v1.710yrs', 'pair_times_44_v1.7_10yrs',\n",
       "       'rolling_scale0.2_nslice3_v1.7_10yrs', 'footprint_0_v1.710yrs',\n",
       "       'rolling_scale1.0_nslice3_v1.7_10yrs',\n",
       "       'rolling_nm_scale0.4_nslice3_v1.7_10yrs',\n",
       "       'u_long_ms_30_v1.7_10yrs', 'rolling_scale0.9_nslice2_v1.7_10yrs',\n",
       "       'rolling_scale0.6_nslice3_v1.7_10yrs',\n",
       "       'rolling_scale0.6_nslice2_v1.7_10yrs',\n",
       "       'cadence_drive_gl200v1.7_10yrs',\n",
       "       'rolling_nm_scale0.9_nslice2_v1.7_10yrs', 'footprint_2_v1.710yrs',\n",
       "       'rolling_nm_scale0.8_nslice3_v1.7_10yrs',\n",
       "       'twi_pairs_mixed_v1.7_10yrs', 'cadence_drive_gl100_gcbv1.7_10yrs',\n",
       "       'rolling_nm_scale0.6_nslice2_v1.7_10yrs', 'footprint_5_v1.710yrs',\n",
       "       'u_long_ms_60_v1.7_10yrs', 'baseline_nexp1_v1.7_10yrs',\n",
       "       'cadence_drive_gl100v1.7_10yrs', 'cadence_drive_gl30v1.7_10yrs',\n",
       "       'rolling_scale0.2_nslice2_v1.7_10yrs',\n",
       "       'rolling_scale0.8_nslice2_v1.7_10yrs',\n",
       "       'rolling_scale0.4_nslice3_v1.7_10yrs',\n",
       "       'twi_neo_pattern3_v1.7_10yrs', 'pair_times_11_v1.7_10yrs',\n",
       "       'u_long_ms_40_v1.7_10yrs', 'twi_pairs_mixed_repeat_v1.7_10yrs',\n",
       "       'twi_neo_pattern2_v1.7_10yrs', 'cadence_drive_gl200_gcbv1.7_10yrs',\n",
       "       'rolling_nm_scale1.0_nslice3_v1.7_10yrs',\n",
       "       'rolling_scale0.4_nslice2_v1.7_10yrs', 'pair_times_22_v1.7_10yrs',\n",
       "       'rolling_nm_scale0.8_nslice2_v1.7_10yrs',\n",
       "       'rolling_nm_scale0.2_nslice3_v1.7_10yrs',\n",
       "       'twi_neo_pattern1_v1.7_10yrs', 'twi_neo_pattern4_v1.7_10yrs',\n",
       "       'footprint_8_v1.710yrs', 'rolling_scale0.8_nslice3_v1.7_10yrs',\n",
       "       'rolling_nm_scale0.6_nslice3_v1.7_10yrs',\n",
       "       'rolling_nm_scale1.0_nslice2_v1.7_10yrs',\n",
       "       'ddf_dither2.00_v1.7_10yrs', 'ddf_dither0.70_v1.7_10yrs',\n",
       "       'ddf_dither0.00_v1.7_10yrs', 'ddf_dither0.05_v1.7_10yrs',\n",
       "       'ddf_dither0.10_v1.7_10yrs', 'ddf_dither1.50_v1.7_10yrs',\n",
       "       'ddf_dither1.00_v1.7_10yrs', 'ddf_dither0.30_v1.7_10yrs',\n",
       "       'twi_pairs_v1.7_10yrs', 'pair_times_55_v1.7_10yrs',\n",
       "       'twi_neo_pattern7_v1.7_10yrs',\n",
       "       'rolling_nm_scale0.2_nslice2_v1.7_10yrs',\n",
       "       'u_long_ms_50_v1.7_10yrs', 'baseline_nexp2_v1.7_10yrs',\n",
       "       'rolling_scale1.0_nslice2_v1.7_10yrs', 'footprint_3_v1.710yrs',\n",
       "       'cadence_drive_gl30_gcbv1.7_10yrs',\n",
       "       'rolling_nm_scale0.9_nslice3_v1.7_10yrs'], dtype=object)"
      ]
     },
     "execution_count": 5,
     "metadata": {},
     "output_type": "execute_result"
    }
   ],
   "source": [
    "data['yr10_limi25.9'].dbname.values"
   ]
  },
  {
   "cell_type": "code",
   "execution_count": 6,
   "metadata": {},
   "outputs": [],
   "source": [
    "# need to do this since input order is provided for only some of the dbs\n",
    "df = pd.DataFrame(['baseline_nexp1_v1.7_10yrs',\n",
    "                   'baseline_nexp2_v1.7_10yrs',\n",
    "                   'u_long_ms_50_v1.7_10yrs',\n",
    "                   'rolling_scale0.2_nslice2_v1.7_10yrs',\n",
    "                   'rolling_scale1.0_nslice2_v1.7_10yrs',\n",
    "                   'footprint_8_v1.710yrs',\n",
    "                  ], columns=['name'])\n",
    "df.to_csv('%s/given_order_v1.7_selected.csv' % outdir, index=False)"
   ]
  },
  {
   "cell_type": "code",
   "execution_count": 7,
   "metadata": {},
   "outputs": [
    {
     "data": {
      "text/html": [
       "<div>\n",
       "<style scoped>\n",
       "    .dataframe tbody tr th:only-of-type {\n",
       "        vertical-align: middle;\n",
       "    }\n",
       "\n",
       "    .dataframe tbody tr th {\n",
       "        vertical-align: top;\n",
       "    }\n",
       "\n",
       "    .dataframe thead th {\n",
       "        text-align: right;\n",
       "    }\n",
       "</style>\n",
       "<table border=\"1\" class=\"dataframe\">\n",
       "  <thead>\n",
       "    <tr style=\"text-align: right;\">\n",
       "      <th></th>\n",
       "      <th>name</th>\n",
       "    </tr>\n",
       "  </thead>\n",
       "  <tbody>\n",
       "    <tr>\n",
       "      <td>0</td>\n",
       "      <td>baseline_nexp1_v1.7_10yrs</td>\n",
       "    </tr>\n",
       "    <tr>\n",
       "      <td>1</td>\n",
       "      <td>baseline_nexp2_v1.7_10yrs</td>\n",
       "    </tr>\n",
       "    <tr>\n",
       "      <td>2</td>\n",
       "      <td>u_long_ms_50_v1.7_10yrs</td>\n",
       "    </tr>\n",
       "    <tr>\n",
       "      <td>3</td>\n",
       "      <td>rolling_scale0.2_nslice2_v1.7_10yrs</td>\n",
       "    </tr>\n",
       "    <tr>\n",
       "      <td>4</td>\n",
       "      <td>rolling_scale1.0_nslice2_v1.7_10yrs</td>\n",
       "    </tr>\n",
       "    <tr>\n",
       "      <td>5</td>\n",
       "      <td>footprint_8_v1.710yrs</td>\n",
       "    </tr>\n",
       "  </tbody>\n",
       "</table>\n",
       "</div>"
      ],
      "text/plain": [
       "                                  name\n",
       "0            baseline_nexp1_v1.7_10yrs\n",
       "1            baseline_nexp2_v1.7_10yrs\n",
       "2              u_long_ms_50_v1.7_10yrs\n",
       "3  rolling_scale0.2_nslice2_v1.7_10yrs\n",
       "4  rolling_scale1.0_nslice2_v1.7_10yrs\n",
       "5                footprint_8_v1.710yrs"
      ]
     },
     "execution_count": 7,
     "metadata": {},
     "output_type": "execute_result"
    }
   ],
   "source": [
    "df_in_order = pd.read_csv('%s/given_order_v1.7_selected.csv' % outdir, )\n",
    "df_in_order"
   ]
  },
  {
   "cell_type": "code",
   "execution_count": 8,
   "metadata": {},
   "outputs": [
    {
     "data": {
      "text/plain": [
       "(6, 6)"
      ]
     },
     "execution_count": 8,
     "metadata": {},
     "output_type": "execute_result"
    }
   ],
   "source": [
    "# check some things:\n",
    "len( list( df_in_order['name'] ) ), len( np.unique( df_in_order['name'] ) )"
   ]
  },
  {
   "cell_type": "code",
   "execution_count": 9,
   "metadata": {},
   "outputs": [
    {
     "data": {
      "text/plain": [
       "'yr1_limi24.65'"
      ]
     },
     "execution_count": 9,
     "metadata": {},
     "output_type": "execute_result"
    }
   ],
   "source": [
    "yr_key = [f for f in data.keys() if f.__contains__('yr1_')][0]\n",
    "yr_key"
   ]
  },
  {
   "cell_type": "markdown",
   "metadata": {},
   "source": [
    "#### find the indices to get the order"
   ]
  },
  {
   "cell_type": "code",
   "execution_count": 10,
   "metadata": {},
   "outputs": [
    {
     "name": "stdout",
     "output_type": "stream",
     "text": [
      "[33 69 68 36 70 52]\n"
     ]
    }
   ],
   "source": [
    "# find the indices to get the order\n",
    "ind = []\n",
    "for db in df_in_order['name']:\n",
    "    ind_temp = np.where( data[yr_key]['dbname'].values == db.split('.db')[0] )[0]\n",
    "\n",
    "    if len(ind_temp) == 0:\n",
    "        print('%s not found in data dict' % db)\n",
    "        #ind_temp = np.array([ 0 ])\n",
    "        \n",
    "    if ind_temp in ind:\n",
    "        print('%s ind already in. %s' % (ind_temp, db))\n",
    "    ind +=  list( ind_temp )\n",
    "    \n",
    "ind = np.array(ind)\n",
    "print(ind)"
   ]
  },
  {
   "cell_type": "code",
   "execution_count": 11,
   "metadata": {},
   "outputs": [
    {
     "name": "stdout",
     "output_type": "stream",
     "text": [
      "twi_pairs_mixed_v1.7_10yrs baseline_nexp1_v1.7_10yrs\n",
      "6 6\n"
     ]
    }
   ],
   "source": [
    "# check we have the right indices\n",
    "print( data[yr_key]['dbname'].values[28],  df_in_order['name'][0] )\n",
    "\n",
    "# check we have the right number of inds\n",
    "print( len(ind), len(np.unique(ind)) )"
   ]
  },
  {
   "cell_type": "markdown",
   "metadata": {},
   "source": [
    "#### save the data in the order in which to save things"
   ]
  },
  {
   "cell_type": "code",
   "execution_count": 12,
   "metadata": {},
   "outputs": [
    {
     "data": {
      "text/plain": [
       "dict_keys(['yr1_limi24.65', 'yr3_limi25.25', 'yr6_limi25.619999999999997', 'yr10_limi25.9'])"
      ]
     },
     "execution_count": 12,
     "metadata": {},
     "output_type": "execute_result"
    }
   ],
   "source": [
    "data.keys()"
   ]
  },
  {
   "cell_type": "code",
   "execution_count": 13,
   "metadata": {},
   "outputs": [],
   "source": [
    "for yr_lim_tag in data:\n",
    "    for colname in data[yr_lim_tag]:\n",
    "        if colname != 'dbname':\n",
    "             df_in_order[colname] = data[yr_lim_tag][colname].values[ind]"
   ]
  },
  {
   "cell_type": "code",
   "execution_count": 14,
   "metadata": {},
   "outputs": [
    {
     "data": {
      "text/html": [
       "<div>\n",
       "<style scoped>\n",
       "    .dataframe tbody tr th:only-of-type {\n",
       "        vertical-align: middle;\n",
       "    }\n",
       "\n",
       "    .dataframe tbody tr th {\n",
       "        vertical-align: top;\n",
       "    }\n",
       "\n",
       "    .dataframe thead th {\n",
       "        text-align: right;\n",
       "    }\n",
       "</style>\n",
       "<table border=\"1\" class=\"dataframe\">\n",
       "  <thead>\n",
       "    <tr style=\"text-align: right;\">\n",
       "      <th></th>\n",
       "      <th>name</th>\n",
       "      <th>Y1 effective survey area</th>\n",
       "      <th>median Y1 $i$-band coadded depth in effective survey area</th>\n",
       "      <th>std in Y1 $i$-band coadded depth in effective survey area</th>\n",
       "      <th>Y3 effective survey area</th>\n",
       "      <th>median Y3 $i$-band coadded depth in effective survey area</th>\n",
       "      <th>std in Y3 $i$-band coadded depth in effective survey area</th>\n",
       "      <th>Y6 effective survey area</th>\n",
       "      <th>median Y6 $i$-band coadded depth in effective survey area</th>\n",
       "      <th>std in Y6 $i$-band coadded depth in effective survey area</th>\n",
       "      <th>Y10 effective survey area</th>\n",
       "      <th>median Y10 $i$-band coadded depth in effective survey area</th>\n",
       "      <th>std in Y10 $i$-band coadded depth in effective survey area</th>\n",
       "    </tr>\n",
       "  </thead>\n",
       "  <tbody>\n",
       "    <tr>\n",
       "      <td>0</td>\n",
       "      <td>baseline_nexp1_v1.7_10yrs</td>\n",
       "      <td>15205.27</td>\n",
       "      <td>25.10</td>\n",
       "      <td>0.18</td>\n",
       "      <td>15383.52</td>\n",
       "      <td>25.73</td>\n",
       "      <td>0.14</td>\n",
       "      <td>15312.39</td>\n",
       "      <td>26.07</td>\n",
       "      <td>0.13</td>\n",
       "      <td>15307.98</td>\n",
       "      <td>26.33</td>\n",
       "      <td>0.12</td>\n",
       "    </tr>\n",
       "    <tr>\n",
       "      <td>1</td>\n",
       "      <td>baseline_nexp2_v1.7_10yrs</td>\n",
       "      <td>14765.22</td>\n",
       "      <td>25.03</td>\n",
       "      <td>0.17</td>\n",
       "      <td>15275.67</td>\n",
       "      <td>25.66</td>\n",
       "      <td>0.13</td>\n",
       "      <td>15197.30</td>\n",
       "      <td>26.00</td>\n",
       "      <td>0.12</td>\n",
       "      <td>15179.99</td>\n",
       "      <td>26.26</td>\n",
       "      <td>0.11</td>\n",
       "    </tr>\n",
       "    <tr>\n",
       "      <td>2</td>\n",
       "      <td>u_long_ms_50_v1.7_10yrs</td>\n",
       "      <td>14369.76</td>\n",
       "      <td>25.01</td>\n",
       "      <td>0.16</td>\n",
       "      <td>15202.39</td>\n",
       "      <td>25.63</td>\n",
       "      <td>0.12</td>\n",
       "      <td>15129.26</td>\n",
       "      <td>25.97</td>\n",
       "      <td>0.12</td>\n",
       "      <td>15091.39</td>\n",
       "      <td>26.24</td>\n",
       "      <td>0.11</td>\n",
       "    </tr>\n",
       "    <tr>\n",
       "      <td>3</td>\n",
       "      <td>rolling_scale0.2_nslice2_v1.7_10yrs</td>\n",
       "      <td>14779.75</td>\n",
       "      <td>25.03</td>\n",
       "      <td>0.17</td>\n",
       "      <td>15303.84</td>\n",
       "      <td>25.66</td>\n",
       "      <td>0.13</td>\n",
       "      <td>15207.11</td>\n",
       "      <td>26.00</td>\n",
       "      <td>0.12</td>\n",
       "      <td>15191.37</td>\n",
       "      <td>26.26</td>\n",
       "      <td>0.12</td>\n",
       "    </tr>\n",
       "    <tr>\n",
       "      <td>4</td>\n",
       "      <td>rolling_scale1.0_nslice2_v1.7_10yrs</td>\n",
       "      <td>14779.75</td>\n",
       "      <td>25.03</td>\n",
       "      <td>0.17</td>\n",
       "      <td>15253.38</td>\n",
       "      <td>25.64</td>\n",
       "      <td>0.13</td>\n",
       "      <td>15126.22</td>\n",
       "      <td>25.97</td>\n",
       "      <td>0.12</td>\n",
       "      <td>15100.41</td>\n",
       "      <td>26.24</td>\n",
       "      <td>0.11</td>\n",
       "    </tr>\n",
       "    <tr>\n",
       "      <td>5</td>\n",
       "      <td>footprint_8_v1.710yrs</td>\n",
       "      <td>16545.89</td>\n",
       "      <td>24.99</td>\n",
       "      <td>0.17</td>\n",
       "      <td>17648.35</td>\n",
       "      <td>25.62</td>\n",
       "      <td>0.14</td>\n",
       "      <td>17431.87</td>\n",
       "      <td>25.96</td>\n",
       "      <td>0.13</td>\n",
       "      <td>17419.59</td>\n",
       "      <td>26.22</td>\n",
       "      <td>0.12</td>\n",
       "    </tr>\n",
       "  </tbody>\n",
       "</table>\n",
       "</div>"
      ],
      "text/plain": [
       "                                  name  Y1 effective survey area   \\\n",
       "0            baseline_nexp1_v1.7_10yrs                   15205.27   \n",
       "1            baseline_nexp2_v1.7_10yrs                   14765.22   \n",
       "2              u_long_ms_50_v1.7_10yrs                   14369.76   \n",
       "3  rolling_scale0.2_nslice2_v1.7_10yrs                   14779.75   \n",
       "4  rolling_scale1.0_nslice2_v1.7_10yrs                   14779.75   \n",
       "5                footprint_8_v1.710yrs                   16545.89   \n",
       "\n",
       "   median Y1 $i$-band coadded depth in effective survey area  \\\n",
       "0                                              25.10           \n",
       "1                                              25.03           \n",
       "2                                              25.01           \n",
       "3                                              25.03           \n",
       "4                                              25.03           \n",
       "5                                              24.99           \n",
       "\n",
       "   std in Y1 $i$-band coadded depth in effective survey area  \\\n",
       "0                                               0.18           \n",
       "1                                               0.17           \n",
       "2                                               0.16           \n",
       "3                                               0.17           \n",
       "4                                               0.17           \n",
       "5                                               0.17           \n",
       "\n",
       "   Y3 effective survey area   \\\n",
       "0                   15383.52   \n",
       "1                   15275.67   \n",
       "2                   15202.39   \n",
       "3                   15303.84   \n",
       "4                   15253.38   \n",
       "5                   17648.35   \n",
       "\n",
       "   median Y3 $i$-band coadded depth in effective survey area  \\\n",
       "0                                              25.73           \n",
       "1                                              25.66           \n",
       "2                                              25.63           \n",
       "3                                              25.66           \n",
       "4                                              25.64           \n",
       "5                                              25.62           \n",
       "\n",
       "   std in Y3 $i$-band coadded depth in effective survey area  \\\n",
       "0                                               0.14           \n",
       "1                                               0.13           \n",
       "2                                               0.12           \n",
       "3                                               0.13           \n",
       "4                                               0.13           \n",
       "5                                               0.14           \n",
       "\n",
       "   Y6 effective survey area   \\\n",
       "0                   15312.39   \n",
       "1                   15197.30   \n",
       "2                   15129.26   \n",
       "3                   15207.11   \n",
       "4                   15126.22   \n",
       "5                   17431.87   \n",
       "\n",
       "   median Y6 $i$-band coadded depth in effective survey area  \\\n",
       "0                                              26.07           \n",
       "1                                              26.00           \n",
       "2                                              25.97           \n",
       "3                                              26.00           \n",
       "4                                              25.97           \n",
       "5                                              25.96           \n",
       "\n",
       "   std in Y6 $i$-band coadded depth in effective survey area  \\\n",
       "0                                               0.13           \n",
       "1                                               0.12           \n",
       "2                                               0.12           \n",
       "3                                               0.12           \n",
       "4                                               0.12           \n",
       "5                                               0.13           \n",
       "\n",
       "   Y10 effective survey area   \\\n",
       "0                    15307.98   \n",
       "1                    15179.99   \n",
       "2                    15091.39   \n",
       "3                    15191.37   \n",
       "4                    15100.41   \n",
       "5                    17419.59   \n",
       "\n",
       "   median Y10 $i$-band coadded depth in effective survey area  \\\n",
       "0                                              26.33            \n",
       "1                                              26.26            \n",
       "2                                              26.24            \n",
       "3                                              26.26            \n",
       "4                                              26.24            \n",
       "5                                              26.22            \n",
       "\n",
       "   std in Y10 $i$-band coadded depth in effective survey area  \n",
       "0                                               0.12           \n",
       "1                                               0.11           \n",
       "2                                               0.11           \n",
       "3                                               0.12           \n",
       "4                                               0.11           \n",
       "5                                               0.12           "
      ]
     },
     "execution_count": 14,
     "metadata": {},
     "output_type": "execute_result"
    }
   ],
   "source": [
    "df_in_order"
   ]
  },
  {
   "cell_type": "code",
   "execution_count": 15,
   "metadata": {},
   "outputs": [
    {
     "data": {
      "text/plain": [
       "['name',\n",
       " 'Y1 effective survey area ',\n",
       " 'median Y1 $i$-band coadded depth in effective survey area',\n",
       " 'std in Y1 $i$-band coadded depth in effective survey area',\n",
       " 'Y3 effective survey area ',\n",
       " 'median Y3 $i$-band coadded depth in effective survey area',\n",
       " 'std in Y3 $i$-band coadded depth in effective survey area',\n",
       " 'Y6 effective survey area ',\n",
       " 'median Y6 $i$-band coadded depth in effective survey area',\n",
       " 'std in Y6 $i$-band coadded depth in effective survey area',\n",
       " 'Y10 effective survey area ',\n",
       " 'median Y10 $i$-band coadded depth in effective survey area',\n",
       " 'std in Y10 $i$-band coadded depth in effective survey area']"
      ]
     },
     "execution_count": 15,
     "metadata": {},
     "output_type": "execute_result"
    }
   ],
   "source": [
    "cols = df_in_order.columns.tolist()\n",
    "cols"
   ]
  },
  {
   "cell_type": "markdown",
   "metadata": {},
   "source": [
    "#### realized that there's too much finagling when sharing data so its best to reorder columns to make sure the order of the columns is the same."
   ]
  },
  {
   "cell_type": "code",
   "execution_count": 16,
   "metadata": {},
   "outputs": [
    {
     "data": {
      "text/plain": [
       "['name',\n",
       " 'median Y1 $i$-band coadded depth in effective survey area',\n",
       " 'median Y3 $i$-band coadded depth in effective survey area',\n",
       " 'median Y6 $i$-band coadded depth in effective survey area',\n",
       " 'median Y10 $i$-band coadded depth in effective survey area',\n",
       " 'std in Y1 $i$-band coadded depth in effective survey area',\n",
       " 'std in Y3 $i$-band coadded depth in effective survey area',\n",
       " 'std in Y6 $i$-band coadded depth in effective survey area',\n",
       " 'std in Y10 $i$-band coadded depth in effective survey area',\n",
       " 'Y1 effective survey area ',\n",
       " 'Y3 effective survey area ',\n",
       " 'Y6 effective survey area ',\n",
       " 'Y10 effective survey area ']"
      ]
     },
     "execution_count": 16,
     "metadata": {},
     "output_type": "execute_result"
    }
   ],
   "source": [
    "new_cols = ['name',\n",
    "            'median Y1 $i$-band coadded depth in effective survey area',\n",
    "            'median Y3 $i$-band coadded depth in effective survey area',\n",
    "            'median Y6 $i$-band coadded depth in effective survey area',\n",
    "            'median Y10 $i$-band coadded depth in effective survey area',\n",
    "            'std in Y1 $i$-band coadded depth in effective survey area',\n",
    "            'std in Y3 $i$-band coadded depth in effective survey area',\n",
    "            'std in Y6 $i$-band coadded depth in effective survey area',\n",
    "            'std in Y10 $i$-band coadded depth in effective survey area',\n",
    "            'Y1 effective survey area ',\n",
    "            'Y3 effective survey area ',\n",
    "            'Y6 effective survey area ',\n",
    "            'Y10 effective survey area ',]\n",
    "new_cols"
   ]
  },
  {
   "cell_type": "code",
   "execution_count": 17,
   "metadata": {},
   "outputs": [
    {
     "data": {
      "text/html": [
       "<div>\n",
       "<style scoped>\n",
       "    .dataframe tbody tr th:only-of-type {\n",
       "        vertical-align: middle;\n",
       "    }\n",
       "\n",
       "    .dataframe tbody tr th {\n",
       "        vertical-align: top;\n",
       "    }\n",
       "\n",
       "    .dataframe thead th {\n",
       "        text-align: right;\n",
       "    }\n",
       "</style>\n",
       "<table border=\"1\" class=\"dataframe\">\n",
       "  <thead>\n",
       "    <tr style=\"text-align: right;\">\n",
       "      <th></th>\n",
       "      <th>name</th>\n",
       "      <th>median Y1 $i$-band coadded depth in effective survey area</th>\n",
       "      <th>median Y3 $i$-band coadded depth in effective survey area</th>\n",
       "      <th>median Y6 $i$-band coadded depth in effective survey area</th>\n",
       "      <th>median Y10 $i$-band coadded depth in effective survey area</th>\n",
       "      <th>std in Y1 $i$-band coadded depth in effective survey area</th>\n",
       "      <th>std in Y3 $i$-band coadded depth in effective survey area</th>\n",
       "      <th>std in Y6 $i$-band coadded depth in effective survey area</th>\n",
       "      <th>std in Y10 $i$-band coadded depth in effective survey area</th>\n",
       "      <th>Y1 effective survey area</th>\n",
       "      <th>Y3 effective survey area</th>\n",
       "      <th>Y6 effective survey area</th>\n",
       "      <th>Y10 effective survey area</th>\n",
       "    </tr>\n",
       "  </thead>\n",
       "  <tbody>\n",
       "    <tr>\n",
       "      <td>0</td>\n",
       "      <td>baseline_nexp1_v1.7_10yrs</td>\n",
       "      <td>25.10</td>\n",
       "      <td>25.73</td>\n",
       "      <td>26.07</td>\n",
       "      <td>26.33</td>\n",
       "      <td>0.18</td>\n",
       "      <td>0.14</td>\n",
       "      <td>0.13</td>\n",
       "      <td>0.12</td>\n",
       "      <td>15205.27</td>\n",
       "      <td>15383.52</td>\n",
       "      <td>15312.39</td>\n",
       "      <td>15307.98</td>\n",
       "    </tr>\n",
       "    <tr>\n",
       "      <td>1</td>\n",
       "      <td>baseline_nexp2_v1.7_10yrs</td>\n",
       "      <td>25.03</td>\n",
       "      <td>25.66</td>\n",
       "      <td>26.00</td>\n",
       "      <td>26.26</td>\n",
       "      <td>0.17</td>\n",
       "      <td>0.13</td>\n",
       "      <td>0.12</td>\n",
       "      <td>0.11</td>\n",
       "      <td>14765.22</td>\n",
       "      <td>15275.67</td>\n",
       "      <td>15197.30</td>\n",
       "      <td>15179.99</td>\n",
       "    </tr>\n",
       "    <tr>\n",
       "      <td>2</td>\n",
       "      <td>u_long_ms_50_v1.7_10yrs</td>\n",
       "      <td>25.01</td>\n",
       "      <td>25.63</td>\n",
       "      <td>25.97</td>\n",
       "      <td>26.24</td>\n",
       "      <td>0.16</td>\n",
       "      <td>0.12</td>\n",
       "      <td>0.12</td>\n",
       "      <td>0.11</td>\n",
       "      <td>14369.76</td>\n",
       "      <td>15202.39</td>\n",
       "      <td>15129.26</td>\n",
       "      <td>15091.39</td>\n",
       "    </tr>\n",
       "    <tr>\n",
       "      <td>3</td>\n",
       "      <td>rolling_scale0.2_nslice2_v1.7_10yrs</td>\n",
       "      <td>25.03</td>\n",
       "      <td>25.66</td>\n",
       "      <td>26.00</td>\n",
       "      <td>26.26</td>\n",
       "      <td>0.17</td>\n",
       "      <td>0.13</td>\n",
       "      <td>0.12</td>\n",
       "      <td>0.12</td>\n",
       "      <td>14779.75</td>\n",
       "      <td>15303.84</td>\n",
       "      <td>15207.11</td>\n",
       "      <td>15191.37</td>\n",
       "    </tr>\n",
       "    <tr>\n",
       "      <td>4</td>\n",
       "      <td>rolling_scale1.0_nslice2_v1.7_10yrs</td>\n",
       "      <td>25.03</td>\n",
       "      <td>25.64</td>\n",
       "      <td>25.97</td>\n",
       "      <td>26.24</td>\n",
       "      <td>0.17</td>\n",
       "      <td>0.13</td>\n",
       "      <td>0.12</td>\n",
       "      <td>0.11</td>\n",
       "      <td>14779.75</td>\n",
       "      <td>15253.38</td>\n",
       "      <td>15126.22</td>\n",
       "      <td>15100.41</td>\n",
       "    </tr>\n",
       "    <tr>\n",
       "      <td>5</td>\n",
       "      <td>footprint_8_v1.710yrs</td>\n",
       "      <td>24.99</td>\n",
       "      <td>25.62</td>\n",
       "      <td>25.96</td>\n",
       "      <td>26.22</td>\n",
       "      <td>0.17</td>\n",
       "      <td>0.14</td>\n",
       "      <td>0.13</td>\n",
       "      <td>0.12</td>\n",
       "      <td>16545.89</td>\n",
       "      <td>17648.35</td>\n",
       "      <td>17431.87</td>\n",
       "      <td>17419.59</td>\n",
       "    </tr>\n",
       "  </tbody>\n",
       "</table>\n",
       "</div>"
      ],
      "text/plain": [
       "                                  name  \\\n",
       "0            baseline_nexp1_v1.7_10yrs   \n",
       "1            baseline_nexp2_v1.7_10yrs   \n",
       "2              u_long_ms_50_v1.7_10yrs   \n",
       "3  rolling_scale0.2_nslice2_v1.7_10yrs   \n",
       "4  rolling_scale1.0_nslice2_v1.7_10yrs   \n",
       "5                footprint_8_v1.710yrs   \n",
       "\n",
       "   median Y1 $i$-band coadded depth in effective survey area  \\\n",
       "0                                              25.10           \n",
       "1                                              25.03           \n",
       "2                                              25.01           \n",
       "3                                              25.03           \n",
       "4                                              25.03           \n",
       "5                                              24.99           \n",
       "\n",
       "   median Y3 $i$-band coadded depth in effective survey area  \\\n",
       "0                                              25.73           \n",
       "1                                              25.66           \n",
       "2                                              25.63           \n",
       "3                                              25.66           \n",
       "4                                              25.64           \n",
       "5                                              25.62           \n",
       "\n",
       "   median Y6 $i$-band coadded depth in effective survey area  \\\n",
       "0                                              26.07           \n",
       "1                                              26.00           \n",
       "2                                              25.97           \n",
       "3                                              26.00           \n",
       "4                                              25.97           \n",
       "5                                              25.96           \n",
       "\n",
       "   median Y10 $i$-band coadded depth in effective survey area  \\\n",
       "0                                              26.33            \n",
       "1                                              26.26            \n",
       "2                                              26.24            \n",
       "3                                              26.26            \n",
       "4                                              26.24            \n",
       "5                                              26.22            \n",
       "\n",
       "   std in Y1 $i$-band coadded depth in effective survey area  \\\n",
       "0                                               0.18           \n",
       "1                                               0.17           \n",
       "2                                               0.16           \n",
       "3                                               0.17           \n",
       "4                                               0.17           \n",
       "5                                               0.17           \n",
       "\n",
       "   std in Y3 $i$-band coadded depth in effective survey area  \\\n",
       "0                                               0.14           \n",
       "1                                               0.13           \n",
       "2                                               0.12           \n",
       "3                                               0.13           \n",
       "4                                               0.13           \n",
       "5                                               0.14           \n",
       "\n",
       "   std in Y6 $i$-band coadded depth in effective survey area  \\\n",
       "0                                               0.13           \n",
       "1                                               0.12           \n",
       "2                                               0.12           \n",
       "3                                               0.12           \n",
       "4                                               0.12           \n",
       "5                                               0.13           \n",
       "\n",
       "   std in Y10 $i$-band coadded depth in effective survey area  \\\n",
       "0                                               0.12            \n",
       "1                                               0.11            \n",
       "2                                               0.11            \n",
       "3                                               0.12            \n",
       "4                                               0.11            \n",
       "5                                               0.12            \n",
       "\n",
       "   Y1 effective survey area   Y3 effective survey area   \\\n",
       "0                   15205.27                   15383.52   \n",
       "1                   14765.22                   15275.67   \n",
       "2                   14369.76                   15202.39   \n",
       "3                   14779.75                   15303.84   \n",
       "4                   14779.75                   15253.38   \n",
       "5                   16545.89                   17648.35   \n",
       "\n",
       "   Y6 effective survey area   Y10 effective survey area   \n",
       "0                   15312.39                    15307.98  \n",
       "1                   15197.30                    15179.99  \n",
       "2                   15129.26                    15091.39  \n",
       "3                   15207.11                    15191.37  \n",
       "4                   15126.22                    15100.41  \n",
       "5                   17431.87                    17419.59  "
      ]
     },
     "execution_count": 17,
     "metadata": {},
     "output_type": "execute_result"
    }
   ],
   "source": [
    "df_in_order = df_in_order[new_cols]\n",
    "df_in_order"
   ]
  },
  {
   "cell_type": "code",
   "execution_count": 18,
   "metadata": {},
   "outputs": [],
   "source": [
    "# save the metrics\n",
    "fname = 'static_metrics_selected.csv'\n",
    "df_in_order.to_csv('%s/%s' % (outdir, fname), index=False)"
   ]
  },
  {
   "cell_type": "markdown",
   "metadata": {},
   "source": [
    "#### now read and save lss-fom and ngal"
   ]
  },
  {
   "cell_type": "code",
   "execution_count": 19,
   "metadata": {},
   "outputs": [
    {
     "data": {
      "text/html": [
       "<div>\n",
       "<style scoped>\n",
       "    .dataframe tbody tr th:only-of-type {\n",
       "        vertical-align: middle;\n",
       "    }\n",
       "\n",
       "    .dataframe tbody tr th {\n",
       "        vertical-align: top;\n",
       "    }\n",
       "\n",
       "    .dataframe thead th {\n",
       "        text-align: right;\n",
       "    }\n",
       "</style>\n",
       "<table border=\"1\" class=\"dataframe\">\n",
       "  <thead>\n",
       "    <tr style=\"text-align: right;\">\n",
       "      <th></th>\n",
       "      <th>name</th>\n",
       "    </tr>\n",
       "  </thead>\n",
       "  <tbody>\n",
       "    <tr>\n",
       "      <td>0</td>\n",
       "      <td>baseline_nexp1_v1.7_10yrs</td>\n",
       "    </tr>\n",
       "    <tr>\n",
       "      <td>1</td>\n",
       "      <td>baseline_nexp2_v1.7_10yrs</td>\n",
       "    </tr>\n",
       "    <tr>\n",
       "      <td>2</td>\n",
       "      <td>u_long_ms_50_v1.7_10yrs</td>\n",
       "    </tr>\n",
       "    <tr>\n",
       "      <td>3</td>\n",
       "      <td>rolling_scale0.2_nslice2_v1.7_10yrs</td>\n",
       "    </tr>\n",
       "    <tr>\n",
       "      <td>4</td>\n",
       "      <td>rolling_scale1.0_nslice2_v1.7_10yrs</td>\n",
       "    </tr>\n",
       "    <tr>\n",
       "      <td>5</td>\n",
       "      <td>footprint_8_v1.710yrs</td>\n",
       "    </tr>\n",
       "  </tbody>\n",
       "</table>\n",
       "</div>"
      ],
      "text/plain": [
       "                                  name\n",
       "0            baseline_nexp1_v1.7_10yrs\n",
       "1            baseline_nexp2_v1.7_10yrs\n",
       "2              u_long_ms_50_v1.7_10yrs\n",
       "3  rolling_scale0.2_nslice2_v1.7_10yrs\n",
       "4  rolling_scale1.0_nslice2_v1.7_10yrs\n",
       "5                footprint_8_v1.710yrs"
      ]
     },
     "execution_count": 19,
     "metadata": {},
     "output_type": "execute_result"
    }
   ],
   "source": [
    "# clean up the give_list dataframe\n",
    "for key in df_in_order.keys():\n",
    "    if key.__contains__('Y'):\n",
    "        df_in_order = df_in_order.drop(key, axis=1)\n",
    "        \n",
    "df_in_order"
   ]
  },
  {
   "cell_type": "markdown",
   "metadata": {},
   "source": [
    "#### read in the lss fom values"
   ]
  },
  {
   "cell_type": "code",
   "execution_count": 20,
   "metadata": {},
   "outputs": [],
   "source": [
    "data_dir_base = '/global/cscratch1/sd/awan/lsst_output/post_wp_output_v1.7_-0.1cuts/lss_fom/'"
   ]
  },
  {
   "cell_type": "code",
   "execution_count": 21,
   "metadata": {},
   "outputs": [
    {
     "data": {
      "text/plain": [
       "['2021-03-08_fomdata_Y1_i<23.95_snfom_egfootprint_74cadences_0.66<z<1.0_th-r<24.35_100<ell<300_logtcuts.csv',\n",
       " '2021-03-08_fomdata_Y10_i<25.2_snfom_egfootprint_74cadences_0.66<z<1.0_th-r<25.60_100<ell<300_logtcuts.csv']"
      ]
     },
     "execution_count": 21,
     "metadata": {},
     "output_type": "execute_result"
    }
   ],
   "source": [
    "data_dir = '%s/os_bias_overplots/' % data_dir_base\n",
    "[f for f in os.listdir(data_dir) if f.__contains__('fomdata')] "
   ]
  },
  {
   "cell_type": "code",
   "execution_count": 22,
   "metadata": {},
   "outputs": [
    {
     "name": "stdout",
     "output_type": "stream",
     "text": [
      "2021-03-08_fomdata_Y1_i<23.95_snfom_egfootprint_74cadences_0.66<z<1.0_th-r<24.35_100<ell<300_logtcuts.csv\n",
      "[32 64 62 35 65 54]\n"
     ]
    }
   ],
   "source": [
    "fname = [f for f in os.listdir(data_dir) if f.__contains__('fomdata') if f.__contains__('_Y1_')][0]\n",
    "print(fname)\n",
    "data_file = '%s/%s' % (data_dir, fname)\n",
    "lss_fom = pd.read_csv(data_file)\n",
    "\n",
    "# find the indices to get the order\n",
    "ind = []\n",
    "for db in df_in_order['name']:\n",
    "    ind_temp = np.where( lss_fom['dbname'].values == db.split('.db')[0] )[0]\n",
    "\n",
    "    if len(ind_temp) == 0:\n",
    "        print('%s not found in data dict' % db)\n",
    "        #ind_temp = np.array([ 0 ])\n",
    "        \n",
    "    if ind_temp in ind:\n",
    "        print('%s ind already in. %s' % (ind_temp, db))\n",
    "    ind +=  list( ind_temp )\n",
    "    \n",
    "ind = np.array(ind)\n",
    "print(ind)\n",
    "\n",
    "df_in_order['Y1 lss fom'] = lss_fom['FoM'].values[ind]"
   ]
  },
  {
   "cell_type": "code",
   "execution_count": 23,
   "metadata": {},
   "outputs": [
    {
     "name": "stdout",
     "output_type": "stream",
     "text": [
      "2021-03-08_fomdata_Y10_i<25.2_snfom_egfootprint_74cadences_0.66<z<1.0_th-r<25.60_100<ell<300_logtcuts.csv\n",
      "[32 64 62 35 65 54]\n"
     ]
    }
   ],
   "source": [
    "fname = [f for f in os.listdir(data_dir) if f.__contains__('fomdata') if f.__contains__('_Y10_')][0]\n",
    "print(fname)\n",
    "data_file = '%s/%s' % (data_dir, fname)\n",
    "lss_fom = pd.read_csv(data_file)\n",
    "\n",
    "# find the indices to get the order\n",
    "ind = []\n",
    "for db in df_in_order['name']:\n",
    "    ind_temp = np.where( lss_fom['dbname'].values == db.split('.db')[0] )[0]\n",
    "\n",
    "    if len(ind_temp) == 0:\n",
    "        print('%s not found in data dict' % db)\n",
    "        #ind_temp = np.array([ 0 ])\n",
    "        \n",
    "    if ind_temp in ind:\n",
    "        print('%s ind already in. %s' % (ind_temp, db))\n",
    "    ind +=  list( ind_temp )\n",
    "    \n",
    "ind = np.array(ind)\n",
    "print(ind)\n",
    "\n",
    "df_in_order['Y10 lss fom'] = lss_fom['FoM'].values[ind]"
   ]
  },
  {
   "cell_type": "code",
   "execution_count": 24,
   "metadata": {},
   "outputs": [
    {
     "data": {
      "text/html": [
       "<div>\n",
       "<style scoped>\n",
       "    .dataframe tbody tr th:only-of-type {\n",
       "        vertical-align: middle;\n",
       "    }\n",
       "\n",
       "    .dataframe tbody tr th {\n",
       "        vertical-align: top;\n",
       "    }\n",
       "\n",
       "    .dataframe thead th {\n",
       "        text-align: right;\n",
       "    }\n",
       "</style>\n",
       "<table border=\"1\" class=\"dataframe\">\n",
       "  <thead>\n",
       "    <tr style=\"text-align: right;\">\n",
       "      <th></th>\n",
       "      <th>name</th>\n",
       "      <th>Y1 lss fom</th>\n",
       "      <th>Y10 lss fom</th>\n",
       "    </tr>\n",
       "  </thead>\n",
       "  <tbody>\n",
       "    <tr>\n",
       "      <td>0</td>\n",
       "      <td>baseline_nexp1_v1.7_10yrs</td>\n",
       "      <td>0.933107</td>\n",
       "      <td>0.979715</td>\n",
       "    </tr>\n",
       "    <tr>\n",
       "      <td>1</td>\n",
       "      <td>baseline_nexp2_v1.7_10yrs</td>\n",
       "      <td>0.910802</td>\n",
       "      <td>0.975058</td>\n",
       "    </tr>\n",
       "    <tr>\n",
       "      <td>2</td>\n",
       "      <td>u_long_ms_50_v1.7_10yrs</td>\n",
       "      <td>0.930939</td>\n",
       "      <td>0.976924</td>\n",
       "    </tr>\n",
       "    <tr>\n",
       "      <td>3</td>\n",
       "      <td>rolling_scale0.2_nslice2_v1.7_10yrs</td>\n",
       "      <td>0.904981</td>\n",
       "      <td>0.974826</td>\n",
       "    </tr>\n",
       "    <tr>\n",
       "      <td>4</td>\n",
       "      <td>rolling_scale1.0_nslice2_v1.7_10yrs</td>\n",
       "      <td>0.904981</td>\n",
       "      <td>0.972155</td>\n",
       "    </tr>\n",
       "    <tr>\n",
       "      <td>5</td>\n",
       "      <td>footprint_8_v1.710yrs</td>\n",
       "      <td>0.931173</td>\n",
       "      <td>1.041267</td>\n",
       "    </tr>\n",
       "  </tbody>\n",
       "</table>\n",
       "</div>"
      ],
      "text/plain": [
       "                                  name  Y1 lss fom  Y10 lss fom\n",
       "0            baseline_nexp1_v1.7_10yrs    0.933107     0.979715\n",
       "1            baseline_nexp2_v1.7_10yrs    0.910802     0.975058\n",
       "2              u_long_ms_50_v1.7_10yrs    0.930939     0.976924\n",
       "3  rolling_scale0.2_nslice2_v1.7_10yrs    0.904981     0.974826\n",
       "4  rolling_scale1.0_nslice2_v1.7_10yrs    0.904981     0.972155\n",
       "5                footprint_8_v1.710yrs    0.931173     1.041267"
      ]
     },
     "execution_count": 24,
     "metadata": {},
     "output_type": "execute_result"
    }
   ],
   "source": [
    "df_in_order\n"
   ]
  },
  {
   "cell_type": "markdown",
   "metadata": {},
   "source": [
    "#### now read in the ngal values"
   ]
  },
  {
   "cell_type": "code",
   "execution_count": 25,
   "metadata": {},
   "outputs": [
    {
     "name": "stdout",
     "output_type": "stream",
     "text": [
      "read in 74 folders for Y1\n",
      "read in 74 folders for Y10\n"
     ]
    }
   ],
   "source": [
    "ngal_data_dir = data_dir_base\n",
    "\n",
    "ngal_data = {}\n",
    "for yr in [1, 10]:\n",
    "    ngal_data[yr] =  np.zeros(len(df_in_order.name))\n",
    "    folders = [f for f in os.listdir( ngal_data_dir ) if f.__contains__('_Y%s_' % yr) and f.__contains__('i<') ]\n",
    "    for i, folder in enumerate( folders ):\n",
    "        out = pd.read_csv('%s/%s/ngal-final_total/ngal_NoDither.txt' % (ngal_data_dir, folder), header=None, delimiter=' ') \n",
    "        dbname, ngal = out[0].values[0], out[1].values[0]\n",
    "        ind = np.where( df_in_order['name'].values == '%s' % dbname)[0]\n",
    "        ngal_data[yr][ind] = ngal\n",
    "    print('read in %s folders for Y%s' % (i+1, yr) )"
   ]
  },
  {
   "cell_type": "code",
   "execution_count": 26,
   "metadata": {},
   "outputs": [],
   "source": [
    "for yr in ngal_data:\n",
    "    df_in_order['Y%s Ngal (0.66<z<1.0)' % yr] = ngal_data[yr]"
   ]
  },
  {
   "cell_type": "code",
   "execution_count": 27,
   "metadata": {},
   "outputs": [
    {
     "data": {
      "text/html": [
       "<div>\n",
       "<style scoped>\n",
       "    .dataframe tbody tr th:only-of-type {\n",
       "        vertical-align: middle;\n",
       "    }\n",
       "\n",
       "    .dataframe tbody tr th {\n",
       "        vertical-align: top;\n",
       "    }\n",
       "\n",
       "    .dataframe thead th {\n",
       "        text-align: right;\n",
       "    }\n",
       "</style>\n",
       "<table border=\"1\" class=\"dataframe\">\n",
       "  <thead>\n",
       "    <tr style=\"text-align: right;\">\n",
       "      <th></th>\n",
       "      <th>name</th>\n",
       "      <th>Y1 lss fom</th>\n",
       "      <th>Y10 lss fom</th>\n",
       "      <th>Y1 Ngal (0.66&lt;z&lt;1.0)</th>\n",
       "      <th>Y10 Ngal (0.66&lt;z&lt;1.0)</th>\n",
       "    </tr>\n",
       "  </thead>\n",
       "  <tbody>\n",
       "    <tr>\n",
       "      <td>0</td>\n",
       "      <td>baseline_nexp1_v1.7_10yrs</td>\n",
       "      <td>0.933107</td>\n",
       "      <td>0.979715</td>\n",
       "      <td>444000000.0</td>\n",
       "      <td>9.590000e+08</td>\n",
       "    </tr>\n",
       "    <tr>\n",
       "      <td>1</td>\n",
       "      <td>baseline_nexp2_v1.7_10yrs</td>\n",
       "      <td>0.910802</td>\n",
       "      <td>0.975058</td>\n",
       "      <td>431000000.0</td>\n",
       "      <td>9.490000e+08</td>\n",
       "    </tr>\n",
       "    <tr>\n",
       "      <td>2</td>\n",
       "      <td>u_long_ms_50_v1.7_10yrs</td>\n",
       "      <td>0.930939</td>\n",
       "      <td>0.976924</td>\n",
       "      <td>419000000.0</td>\n",
       "      <td>9.420000e+08</td>\n",
       "    </tr>\n",
       "    <tr>\n",
       "      <td>3</td>\n",
       "      <td>rolling_scale0.2_nslice2_v1.7_10yrs</td>\n",
       "      <td>0.904981</td>\n",
       "      <td>0.974826</td>\n",
       "      <td>431000000.0</td>\n",
       "      <td>9.500000e+08</td>\n",
       "    </tr>\n",
       "    <tr>\n",
       "      <td>4</td>\n",
       "      <td>rolling_scale1.0_nslice2_v1.7_10yrs</td>\n",
       "      <td>0.904981</td>\n",
       "      <td>0.972155</td>\n",
       "      <td>431000000.0</td>\n",
       "      <td>9.430000e+08</td>\n",
       "    </tr>\n",
       "    <tr>\n",
       "      <td>5</td>\n",
       "      <td>footprint_8_v1.710yrs</td>\n",
       "      <td>0.931173</td>\n",
       "      <td>1.041267</td>\n",
       "      <td>482000000.0</td>\n",
       "      <td>1.090000e+09</td>\n",
       "    </tr>\n",
       "  </tbody>\n",
       "</table>\n",
       "</div>"
      ],
      "text/plain": [
       "                                  name  Y1 lss fom  Y10 lss fom  \\\n",
       "0            baseline_nexp1_v1.7_10yrs    0.933107     0.979715   \n",
       "1            baseline_nexp2_v1.7_10yrs    0.910802     0.975058   \n",
       "2              u_long_ms_50_v1.7_10yrs    0.930939     0.976924   \n",
       "3  rolling_scale0.2_nslice2_v1.7_10yrs    0.904981     0.974826   \n",
       "4  rolling_scale1.0_nslice2_v1.7_10yrs    0.904981     0.972155   \n",
       "5                footprint_8_v1.710yrs    0.931173     1.041267   \n",
       "\n",
       "   Y1 Ngal (0.66<z<1.0)  Y10 Ngal (0.66<z<1.0)  \n",
       "0           444000000.0           9.590000e+08  \n",
       "1           431000000.0           9.490000e+08  \n",
       "2           419000000.0           9.420000e+08  \n",
       "3           431000000.0           9.500000e+08  \n",
       "4           431000000.0           9.430000e+08  \n",
       "5           482000000.0           1.090000e+09  "
      ]
     },
     "execution_count": 27,
     "metadata": {},
     "output_type": "execute_result"
    }
   ],
   "source": [
    "df_in_order"
   ]
  },
  {
   "cell_type": "code",
   "execution_count": 28,
   "metadata": {},
   "outputs": [],
   "source": [
    "fname = 'lss_metrics_selected.csv'\n",
    "df_in_order.to_csv('%s/%s' % (outdir, fname), index=False)"
   ]
  },
  {
   "cell_type": "code",
   "execution_count": null,
   "metadata": {},
   "outputs": [],
   "source": []
  }
 ],
 "metadata": {
  "kernelspec": {
   "display_name": "Python 3",
   "language": "python",
   "name": "python3"
  },
  "language_info": {
   "codemirror_mode": {
    "name": "ipython",
    "version": 3
   },
   "file_extension": ".py",
   "mimetype": "text/x-python",
   "name": "python",
   "nbconvert_exporter": "python",
   "pygments_lexer": "ipython3",
   "version": "3.7.4"
  }
 },
 "nbformat": 4,
 "nbformat_minor": 4
}
