{
 "cells": [
  {
   "cell_type": "markdown",
   "metadata": {},
   "source": [
    "This notebook print out the area, median/std depth for the [OSTF table](https://docs.google.com/spreadsheets/d/1zynp4uQuwrW0nVP1LNd8RoC8Fd3ZLhm9NRXJJGCTUug/edit#gid=0 ); easier to print out the numbers in the order we need them."
   ]
  },
  {
   "cell_type": "code",
   "execution_count": 1,
   "metadata": {},
   "outputs": [],
   "source": [
    "import matplotlib.pyplot as plt\n",
    "%matplotlib inline\n",
    "import os\n",
    "import pylab\n",
    "import pickle"
   ]
  },
  {
   "cell_type": "code",
   "execution_count": 2,
   "metadata": {},
   "outputs": [],
   "source": [
    "fontsize = 16\n",
    "pylab.rcParams['figure.figsize'] = (10, 6)\n",
    "pylab.rcParams['axes.labelsize'] = fontsize\n",
    "pylab.rcParams['xtick.labelsize'] = fontsize-2\n",
    "pylab.rcParams['ytick.labelsize'] = fontsize-2\n",
    "pylab.rcParams['legend.fontsize'] = fontsize\n",
    "pylab.rcParams['axes.linewidth'] = 2"
   ]
  },
  {
   "cell_type": "code",
   "execution_count": 3,
   "metadata": {},
   "outputs": [],
   "source": [
    "dbs = ['alt_sched', 'alt_sched_rolling', 'baseline2018a', 'colossus_2664', 'colossus_2665', 'colossus_2667', \\\n",
    "       'kraken_2026', 'kraken_2035', 'kraken_2036', 'kraken_2042', 'kraken_2044', 'mothra_2045', 'mothra_2049', \\\n",
    "       'nexus_2097', 'pontus_2002', 'pontus_2489', 'pontus_2502', 'rolling_10yrs', 'roll_mix_rolling_mix_10yrs']"
   ]
  },
  {
   "cell_type": "code",
   "execution_count": 4,
   "metadata": {},
   "outputs": [
    {
     "name": "stdout",
     "output_type": "stream",
     "text": [
      "Read in data for alt_sched\n",
      "Read in data for alt_sched_rolling\n",
      "Read in data for baseline2018a\n",
      "Read in data for colossus_2664\n",
      "Read in data for colossus_2665\n",
      "Read in data for colossus_2667\n",
      "Read in data for kraken_2026\n",
      "Read in data for kraken_2035\n",
      "Read in data for kraken_2036\n",
      "Read in data for kraken_2042\n",
      "Read in data for kraken_2044\n",
      "Read in data for mothra_2045\n",
      "Read in data for mothra_2049\n",
      "Read in data for nexus_2097\n",
      "Read in data for pontus_2002\n",
      "Read in data for pontus_2489\n",
      "Read in data for pontus_2502\n",
      "Read in data for rolling_10yrs\n",
      "Read in data for roll_mix_rolling_mix_10yrs\n",
      "19 dbs\n"
     ]
    }
   ],
   "source": [
    "dicts = {}\n",
    "data_dir = '/global/homes/a/awan/desc/depth_data_outputs'\n",
    "for dbname in dbs:\n",
    "    files = [f for f in os.listdir(data_dir) if f.__contains__(dbname) and f.endswith('pickle')]\n",
    "    # need to separate alt_sched from alt_sched_rolling\n",
    "    if dbname=='alt_sched':\n",
    "        files = [f for f in files if not f.__contains__('rolling')]\n",
    "    if len(files)>1:\n",
    "        raise ValueError('Have more than one files: %s'%files)\n",
    "    # consider the files\n",
    "    for filename in files:\n",
    "        print('Read in data for %s'%dbname)\n",
    "        with open('%s/%s'%(data_dir, filename), 'rb') as handle:\n",
    "            dicts[dbname] = pickle.load(handle)\n",
    "            \n",
    "nDbs = len(dicts.keys())\n",
    "print('%s dbs'%nDbs)"
   ]
  },
  {
   "cell_type": "markdown",
   "metadata": {},
   "source": [
    "**Read in area, depth stats**"
   ]
  },
  {
   "cell_type": "code",
   "execution_count": 5,
   "metadata": {},
   "outputs": [],
   "source": [
    "xlabels = []\n",
    "# first need to create the lists with the data each yr_cut\n",
    "areas = {}\n",
    "for dbname in dbs:  # loop over dbs\n",
    "    if dbname.__contains__('_rolling_mix_10yrs'):\n",
    "        label = dbname.split('_rolling_mix_10yrs')[0]\n",
    "    else:\n",
    "        label = dbname\n",
    "    xlabels.append(label)\n",
    "    for yr_cut in dicts[dbname]['Area (deg$^2$)'].keys():  # loop over yr cuts\n",
    "        if yr_cut not in areas: areas[yr_cut] = []\n",
    "        # add this db's area\n",
    "        areas[yr_cut].append(dicts[dbname]['Area (deg$^2$)'][yr_cut])"
   ]
  },
  {
   "cell_type": "code",
   "execution_count": 6,
   "metadata": {},
   "outputs": [
    {
     "name": "stdout",
     "output_type": "stream",
     "text": [
      "5$\\sigma$ Depth: Median\n",
      "5$\\sigma$ Depth: Std\n"
     ]
    }
   ],
   "source": [
    "depths = {}\n",
    "stds = {}\n",
    "for band in ['i']:\n",
    "    for stat in ['median', 'std']:\n",
    "        depth_stat = {}\n",
    "        stat_key = [f for f in dicts['alt_sched'].keys() if f.__contains__(stat.capitalize())][0]\n",
    "        print(stat_key)\n",
    "        for dbname in dbs: # loop over dbs\n",
    "            for yr_cut in areas: # loop over yr_cuts\n",
    "                if yr_cut not in depth_stat:\n",
    "                    depth_stat[yr_cut] = []\n",
    "                # add this db's depth\n",
    "                depth_stat[yr_cut].append(dicts[dbname][stat_key]['%s_%s'%(yr_cut, band)])\n",
    "        \n",
    "        if stat=='median': # save the median for the summary table plot\n",
    "            depths = depth_stat\n",
    "        else:\n",
    "            stds = depth_stat"
   ]
  },
  {
   "cell_type": "markdown",
   "metadata": {},
   "source": [
    "**Print out the markdown entries**"
   ]
  },
  {
   "cell_type": "code",
   "execution_count": 7,
   "metadata": {},
   "outputs": [
    {
     "name": "stdout",
     "output_type": "stream",
     "text": [
      "10yr\n",
      "| alt_sched | 13589.95 | 26.28 | 0.11\n",
      "| alt_sched_rolling | 13008.42 | 26.27 | 0.11\n",
      "| baseline2018a | 14645.36 | 26.57 | 0.13\n",
      "| colossus_2664 | 14667.44 | 26.57 | 0.13\n",
      "| colossus_2665 | 15233.39 | 26.56 | 0.13\n",
      "| colossus_2667 | 14675.15 | 26.59 | 0.13\n",
      "| kraken_2026 | 14663.61 | 26.58 | 0.13\n",
      "| kraken_2035 | 14663.61 | 26.56 | 0.13\n",
      "| kraken_2036 | 14526.86 | 26.45 | 0.12\n",
      "| kraken_2042 | 14710.61 | 26.62 | 0.13\n",
      "| kraken_2044 | 19303.18 | 26.40 | 0.15\n",
      "| mothra_2045 | 11685.12 | 26.41 | 0.23\n",
      "| mothra_2049 | 19155.46 | 26.38 | 0.14\n",
      "| nexus_2097 | 19143.92 | 26.37 | 0.14\n",
      "| pontus_2002 | 19253.82 | 26.39 | 0.14\n",
      "| pontus_2489 | 14595.84 | 26.53 | 0.12\n",
      "| pontus_2502 | 14383.60 | 26.40 | 0.14\n",
      "| rolling_10yrs | 15131.83 | 26.39 | 0.16\n",
      "| roll_mix | 15159.79 | 26.38 | 0.16\n",
      "\n"
     ]
    }
   ],
   "source": [
    "cuts = {'1yr': 'i>24.5 ; EBV<0.2', '3yr': 'i>25.0 ; EBV<0.2', '6yr': 'i>25.5 ; EBV<0.2', '10yr': 'i>26.0 ; EBV<0.2'}\n",
    "\n",
    "for yr_cut in ['10yr']:\n",
    "    print(yr_cut)\n",
    "    for i, db in enumerate(dbs):\n",
    "        if db.__contains__('_rolling_mix_10yrs'):\n",
    "            db = db.split('_rolling_mix_10yrs')[0]\n",
    "        else:\n",
    "            db = db\n",
    "        print('| %s | %.2f | %.2f | %.2f'%(db,  areas[yr_cut][i], depths[yr_cut][i], stds[yr_cut][i]))\n",
    "    print('')"
   ]
  },
  {
   "cell_type": "code",
   "execution_count": 8,
   "metadata": {},
   "outputs": [
    {
     "name": "stdout",
     "output_type": "stream",
     "text": [
      "[26.28, 26.27, 26.57, 26.57, 26.56, 26.59, 26.58, 26.56, 26.45, 26.62, 26.4, 26.41, 26.38, 26.37, 26.39, 26.53, 26.4, 26.39, 26.38]\n"
     ]
    }
   ],
   "source": [
    "print([float('%.2f'%f) for f in depths['10yr']])"
   ]
  },
  {
   "cell_type": "code",
   "execution_count": 9,
   "metadata": {},
   "outputs": [
    {
     "name": "stdout",
     "output_type": "stream",
     "text": [
      "[13589.95, 13008.42, 14645.36, 14667.44, 15233.39, 14675.15, 14663.61, 14663.61, 14526.86, 14710.61, 19303.18, 11685.12, 19155.46, 19143.92, 19253.82, 14595.84, 14383.6, 15131.83, 15159.79]\n"
     ]
    }
   ],
   "source": [
    "print([float('%.2f'%f) for f in areas['10yr']])"
   ]
  },
  {
   "cell_type": "code",
   "execution_count": 10,
   "metadata": {},
   "outputs": [
    {
     "name": "stdout",
     "output_type": "stream",
     "text": [
      "[0.11, 0.11, 0.13, 0.13, 0.13, 0.13, 0.13, 0.13, 0.12, 0.13, 0.15, 0.23, 0.14, 0.14, 0.14, 0.12, 0.14, 0.16, 0.16]\n"
     ]
    }
   ],
   "source": [
    "print([float('%.2f'%f) for f in stds['10yr']])"
   ]
  },
  {
   "cell_type": "code",
   "execution_count": null,
   "metadata": {},
   "outputs": [],
   "source": []
  }
 ],
 "metadata": {
  "kernelspec": {
   "display_name": "lsst",
   "language": "python",
   "name": "lsst"
  },
  "language_info": {
   "codemirror_mode": {
    "name": "ipython",
    "version": 3
   },
   "file_extension": ".py",
   "mimetype": "text/x-python",
   "name": "python",
   "nbconvert_exporter": "python",
   "pygments_lexer": "ipython3",
   "version": "3.6.2"
  }
 },
 "nbformat": 4,
 "nbformat_minor": 2
}
