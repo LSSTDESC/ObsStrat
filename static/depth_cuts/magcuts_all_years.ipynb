{
 "cells": [
  {
   "cell_type": "markdown",
   "metadata": {},
   "source": [
    "The goal here is to find the magnitude cuts for different years when fixing Y1 limiting i-band magnitude to be 24.5 and that for Y10 to be 26.0.\n",
    "\n",
    "Basically we have to consider log(t) scaling in between the two limiting magnitudes. Log(t) since flux scales as $\\sqrt{t}$ and since magnitude $\\propto$ 2.5log(flux), we have magnitude $\\propto$ 2.5log($\\sqrt{t}$) = 1.25log(t)"
   ]
  },
  {
   "cell_type": "code",
   "execution_count": 1,
   "metadata": {},
   "outputs": [],
   "source": [
    "import numpy as np\n",
    "import matplotlib.pyplot as plt\n",
    "%matplotlib inline\n",
    "from scipy.interpolate import interp1d"
   ]
  },
  {
   "cell_type": "code",
   "execution_count": 2,
   "metadata": {},
   "outputs": [],
   "source": [
    "cuts = [24.5, 26.0]\n",
    "yrs = [1, 10.]\n",
    "\n",
    "f = interp1d(x=np.log(yrs), y=cuts)"
   ]
  },
  {
   "cell_type": "code",
   "execution_count": 3,
   "metadata": {},
   "outputs": [
    {
     "name": "stdout",
     "output_type": "stream",
     "text": [
      "Y1.0: i_lim = 24.50\n",
      "Y2.0: i_lim = 24.95\n",
      "Y3.0: i_lim = 25.22\n",
      "Y4.0: i_lim = 25.40\n",
      "Y5.0: i_lim = 25.55\n",
      "Y6.0: i_lim = 25.67\n",
      "Y7.0: i_lim = 25.77\n",
      "Y8.0: i_lim = 25.85\n",
      "Y9.0: i_lim = 25.93\n",
      "Y10.0: i_lim = 26.00\n"
     ]
    }
   ],
   "source": [
    "y2 = np.arange(yrs[0], yrs[1]+1)\n",
    "for y, m in zip(y2,f(np.log(y2))):\n",
    "    print('Y%s: i_lim = %.2f'%(y, m))"
   ]
  },
  {
   "cell_type": "markdown",
   "metadata": {},
   "source": [
    "Comparing these to the cuts currently implemented( Y1, Y3, Y6, Y10: 24.5, 25.0, 25.5, 26), we basically have more loose cuts for Y3 and Y6 than one would have based on log(t) interpolation. Since we want cuts for all intermediates years, lets just fix the four depths cuts and interpolate in between."
   ]
  },
  {
   "cell_type": "code",
   "execution_count": 4,
   "metadata": {},
   "outputs": [
    {
     "name": "stdout",
     "output_type": "stream",
     "text": [
      "Y1: i_lim = 24.50\n",
      "Y2: i_lim = 24.82\n",
      "Y3: i_lim = 25.00\n"
     ]
    }
   ],
   "source": [
    "cuts = [24.5, 25.0]\n",
    "yrs = [1, 3]\n",
    "\n",
    "f = interp1d(x=np.log(yrs), y=cuts)\n",
    "\n",
    "y2 = np.arange(yrs[0], yrs[1]+1)\n",
    "for y, m in zip(y2,f(np.log(y2))):\n",
    "    print('Y%s: i_lim = %.2f'%(y, m))"
   ]
  },
  {
   "cell_type": "code",
   "execution_count": 5,
   "metadata": {},
   "outputs": [
    {
     "name": "stdout",
     "output_type": "stream",
     "text": [
      "Y3: i_lim = 25.00\n",
      "Y4: i_lim = 25.21\n",
      "Y5: i_lim = 25.37\n",
      "Y6: i_lim = 25.50\n"
     ]
    }
   ],
   "source": [
    "cuts = [25.0, 25.5]\n",
    "yrs = [3, 6]\n",
    "\n",
    "f = interp1d(x=np.log(yrs), y=cuts)\n",
    "\n",
    "y2 = np.arange(yrs[0], yrs[1]+1)\n",
    "for y, m in zip(y2,f(np.log(y2))):\n",
    "    print('Y%s: i_lim = %.2f'%(y, m))"
   ]
  },
  {
   "cell_type": "code",
   "execution_count": 6,
   "metadata": {},
   "outputs": [
    {
     "name": "stdout",
     "output_type": "stream",
     "text": [
      "Y6: i_lim = 25.50\n",
      "Y7: i_lim = 25.65\n",
      "Y8: i_lim = 25.78\n",
      "Y9: i_lim = 25.90\n",
      "Y10: i_lim = 26.00\n"
     ]
    }
   ],
   "source": [
    "cuts = [25.5, 26.0]\n",
    "yrs = [6, 10]\n",
    "\n",
    "f = interp1d(x=np.log(yrs), y=cuts)\n",
    "\n",
    "y2 = np.arange(yrs[0], yrs[1]+1)\n",
    "for y, m in zip(y2,f(np.log(y2))):\n",
    "    print('Y%s: i_lim = %.2f'%(y, m))"
   ]
  },
  {
   "cell_type": "markdown",
   "metadata": {},
   "source": [
    "So we have: limiting mags for (Y1, Y2, Y3, Y4, Y5, Y6, Y7, Y8, Y9, Y10) = (24.5, 24.82, 25.0, 25.21, 25.37, 25.50, 25.65, 25.78, 25.90, 26.0)."
   ]
  },
  {
   "cell_type": "code",
   "execution_count": null,
   "metadata": {},
   "outputs": [],
   "source": []
  },
  {
   "cell_type": "code",
   "execution_count": null,
   "metadata": {},
   "outputs": [],
   "source": []
  }
 ],
 "metadata": {
  "kernelspec": {
   "display_name": "desc-python",
   "language": "python",
   "name": "desc-python"
  },
  "language_info": {
   "codemirror_mode": {
    "name": "ipython",
    "version": 3
   },
   "file_extension": ".py",
   "mimetype": "text/x-python",
   "name": "python",
   "nbconvert_exporter": "python",
   "pygments_lexer": "ipython3",
   "version": "3.6.2"
  }
 },
 "nbformat": 4,
 "nbformat_minor": 2
}
